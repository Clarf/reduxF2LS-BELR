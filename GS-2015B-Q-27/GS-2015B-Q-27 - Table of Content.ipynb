{
 "metadata": {
  "name": "",
  "signature": "sha256:10a2adb9bd4063b4ae69bd24f17c248310f2d7b4212e7db65f8e3d30cb967fb8"
 },
 "nbformat": 3,
 "nbformat_minor": 0,
 "worksheets": [
  {
   "cells": [
    {
     "cell_type": "heading",
     "level": 1,
     "metadata": {},
     "source": [
      "Table of Content for GS-2015B-Q-27"
     ]
    },
    {
     "cell_type": "markdown",
     "metadata": {},
     "source": [
      "**Targets**\n",
      "\n",
      "* SDSSJ003251.46-002748.0\n",
      "    * [QuickLook - HK - Data Reduction Notebook](SDSSJ003251.46-002748.0/Quicklook-HK-SDSSJ003251.ipynb)\n",
      "    * [QuickLook - JH - Data Reduction Notebook](SDSSJ003251.46-002748.0/Quicklook-JH-SDSSJ003251.ipynb)\n",
      "    <br><br>\n",
      "    * [Science - HK - Data Reduction Notebook](SDSSJ003251.46-002748.0/Science-HK-SDSSJ003251.ipynb)\n",
      "    * [Science - HK - Data Reduction Notebook](SDSSJ003251.46-002748.0/Science-HK-SDSSJ003251.ipynb)\n",
      "\n",
      "\n",
      "* SDSSJ003251.46-002748.0\n",
      "    * [QuickLook - HK - Data Reduction Notebook](SDSSJ003251.46-002748.0/Quicklook-HK-SDSSJ003251.ipynb)\n",
      "    * [QuickLook - JH - Data Reduction Notebook](SDSSJ003251.46-002748.0/Quicklook-JH-SDSSJ003251.ipynb)\n",
      "    <br><br>\n",
      "    * [Science - HK - Data Reduction Notebook](SDSSJ003251.46-002748.0/Science-HK-SDSSJ003251.ipynb)\n",
      "    * [Science - HK - Data Reduction Notebook](SDSSJ003251.46-002748.0/Science-HK-SDSSJ003251.ipynb)\n"
     ]
    },
    {
     "cell_type": "code",
     "collapsed": false,
     "input": [],
     "language": "python",
     "metadata": {},
     "outputs": []
    }
   ],
   "metadata": {}
  }
 ]
}