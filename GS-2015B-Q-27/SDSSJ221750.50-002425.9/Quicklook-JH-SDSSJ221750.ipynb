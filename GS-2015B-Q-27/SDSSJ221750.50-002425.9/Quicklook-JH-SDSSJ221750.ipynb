{
 "metadata": {
  "name": "",
  "signature": "sha256:9adfc1f2048151642b691d43a83c497241a97fc716a58598afe582559de59fde"
 },
 "nbformat": 3,
 "nbformat_minor": 0,
 "worksheets": [
  {
   "cells": [
    {
     "cell_type": "heading",
     "level": 1,
     "metadata": {},
     "source": [
      "F2 Longslit JH Reduction of SDSSJ221750.50-002425.9"
     ]
    },
    {
     "cell_type": "markdown",
     "metadata": {},
     "source": [
      "----\n",
      "Science Dataset:\n",
      "----------------\n",
      "<table>\n",
      "<tr><td> <strong>Redshift</strong> </td> <td>0.60065</td></tr>\n",
      "</table>\n",
      "\n",
      "<table>\n",
      "    <tr><td> <strong>Observation UT date</strong> </td> <td>2015 Jul 30, \\*2015 Aug 1</td></tr>\n",
      "    <tr><td> <strong>Data filename prefix</strong> </td><td>S20150730S, \\*S20150801S</td></tr>\n",
      "</table>\n",
      "<br>\n",
      "**File numbers:**\n",
      "<table>\n",
      "    <tr><td>Science </td>          <td>284-287 (JH, JH, 2pix-slit, 140s)</td></tr>\n",
      "    <tr><td>Darks for science </td><td>\\*477-483 (140s)</td></tr>\n",
      "    <tr><td>Flat </td>             <td>289     (JH, JH, 2pix-slit, 8s)</td></tr>\n",
      "    <tr><td>Darks for flat </td>   <td>\\*400-406 (8s)</td></tr>\n",
      "    <tr><td>Arc </td>              <td>288    (JH, JH, 2pix-slit, 30s)</td></tr>\n",
      "    <tr><td>Darks for arc </td>    <td>\\*435-441 (30s)</td></tr>\n",
      "</table>\n",
      "\n",
      "Telluric Dataset:\n",
      "-----------------\n",
      "<table>\n",
      "<tr><td> Name: </td><td>HIP 112790</td></tr>\n",
      "<tr><td> Spectral Type: </td><td>B5V</td></tr>\n",
      "<tr><td> Temperature: </td><td>$15,400 K$</td></tr>\n",
      "<tr><td> Airmass: </td><td>1.065</td></tr>\n",
      "<tr><td> Airmass Science: </td><td>1.159</td></tr>\n",
      "    <tr><td> Delta Time: </td><td>~35 min. Tel_end=06:18, Sci_beg=06:55 </td></tr>\n",
      "</table>\n",
      "<table>\n",
      "    <tr><td> <strong>Observation UT date</strong> </td> <td>2015 Jul 30, \\*2015 Aug 1</td></tr>\n",
      "    <tr><td> <strong>Data filename prefix</strong> </td><td>S20150730S, \\*S20150801S</td></tr>\n",
      "</table>\n",
      "\n",
      "**File numbers:**\n",
      "<table>\n",
      "    <tr><td>Telluric (HIP 112790) </td><td>268-271 (JH, JH, 2pix-slit, 25s)</td></tr>\n",
      "    <tr><td>Darks for telluric </td> <td>\\*428-434 (25s)</td></tr>\n",
      "    <tr><td>Flat </td>               <td>289     (JH, JH, 2pix-slit, 8s)</td></tr>\n",
      "    <tr><td>Darks for flat </td>     <td>\\*400-406 (8s)</td></tr>\n",
      "    <tr><td>Arc </td>                <td>272     (JH, JH, 2pix-slit, 30s)</td></tr>\n",
      "    <tr><td>Darks for arc </td>      <td>\\*435-441 (30s)</td></tr>\n",
      "</table>\n",
      "\n",
      "----"
     ]
    },
    {
     "cell_type": "heading",
     "level": 2,
     "metadata": {},
     "source": [
      "STEP 0: Define variables specific to this target and start parallel PyRAF session."
     ]
    },
    {
     "cell_type": "code",
     "collapsed": false,
     "input": [
      "import os\n",
      "# UPDATE DATE IN REDUX_DIR\n",
      "#redux_dir = '/Users/ckenyon/Gemini/GS-2013B-Q-73/SDSSJ232652.96-003012.6/20131203-05Mar2015/reduxHK'\n",
      "redux_dir = '/Volumes/MyRugged/research/BELR/GS-2015B-Q-27/SDSSJ221750.50-002425.9/quicklook/reduxJH'\n",
      "os.chdir(redux_dir)\n",
      "\n",
      "logfile = \"JH221750.log\"\n",
      "database = \"JH221750_database/\"\n",
      "raw_data_path = \"../../../raw/\"\n",
      "flatroot = \"S20150730S\" ; flats = \"289\"\n",
      "flatdarkroot = \"S20150801S\" ; flatdarks = \"400-406\"\n",
      "arcroot = \"S20150730S\" ; arcs = \"288\"\n",
      "arcdarkroot = \"S20150801S\" ; arcdarks = \"435-441\"\n",
      "objroot = \"S20150730S\" ; objs = \"284-287\"\n",
      "objdarkroot = \"S20150801S\" ; objdarks = \"477-483\"\n",
      "telroot = \"S20150730S\" ; tels = \"268-271\"\n",
      "teldarkroot = \"S20150801S\" ; teldarks = \"428-434\"\n",
      "telarcroot = \"S20150730S\" ; telarcs = \"272\"\n",
      "telarcdarkroot = \"S20150801S\" ; telarcdarks = \"435-441\"\n",
      "\n",
      "lxorder=3 ; lyorder=8  # used by nsfitcoords.  \n",
      "                       # Values are determine in Step 8."
     ],
     "language": "python",
     "metadata": {},
     "outputs": [],
     "prompt_number": 8
    },
    {
     "cell_type": "heading",
     "level": 4,
     "metadata": {},
     "source": [
      "Now get a PyRAF session ready.  This will be needed for some interactive tasks that don't work well in the notebook. "
     ]
    },
    {
     "cell_type": "markdown",
     "metadata": {},
     "source": [
      "Open an xterm or a Terminal, then:\n",
      "\n",
      "\n",
      "UPDATE DATE HERE TOO\n",
      "\n",
      "    cd '/Volumes/MyRugged/research/BELR/GS-2015B-Q-27/SDSSJ221750.50-002425.9/quicklook/reduxJH'\n",
      "    pyraf"
     ]
    },
    {
     "cell_type": "markdown",
     "metadata": {},
     "source": [
      "Then in the PyRAF session:\n",
      "\n",
      "    gemini\n",
      "    f2\n",
      "    unlearn gemini\n",
      "    unlearn f2\n",
      "    unlearn gnirs\n",
      "    unlearn gemtools"
     ]
    },
    {
     "cell_type": "markdown",
     "metadata": {},
     "source": [
      "Get your PyRAF configured.  In the PyRAF session:\n",
      "\n",
      "    iraf.f2.logfile = \"JH221750.log\"\n",
      "    iraf.f2.database = \"JH221750_database/\"\n",
      "    set rawdir = \"../../../raw/\"\n",
      "    set stdimage=imt2048\n",
      "    nsheaders('f2', logfile=iraf.f2.logfile)"
     ]
    },
    {
     "cell_type": "heading",
     "level": 2,
     "metadata": {},
     "source": [
      "STEP 1: Initialize the required packages"
     ]
    },
    {
     "cell_type": "heading",
     "level": 4,
     "metadata": {},
     "source": [
      "Launch ds9 before proceeding further."
     ]
    },
    {
     "cell_type": "heading",
     "level": 4,
     "metadata": {},
     "source": [
      "Load the packages required for the notebook session."
     ]
    },
    {
     "cell_type": "code",
     "collapsed": false,
     "input": [
      "from pyraf import iraf\n",
      "iraf.gemini()\n",
      "iraf.f2()"
     ],
     "language": "python",
     "metadata": {},
     "outputs": [
      {
       "output_type": "stream",
       "stream": "stdout",
       "text": [
        "This is the initial release of the IRAF FITSUTIL package\n",
        "to include support for FITS tile compression via 'fpack'.\n",
        "Please send comments and questions to seaman@noao.edu.\n",
        "\n",
        " \n",
        "     +------------------- Gemini IRAF Package -------------------+\n",
        "     |              Version 1.13, January 30, 2015               |\n",
        "     |             Requires IRAF v2.14.1 or greater              |\n",
        "     |              Tested with Ureka IRAF v2.16                 |\n",
        "     |             Gemini Observatory, Hilo, Hawaii              |\n",
        "     |    Please use the help desk for submission of questions   |\n",
        "     |  http://www.gemini.edu/sciops/helpdesk/helpdeskIndex.html |\n",
        "     +-----------------------------------------------------------+\n",
        " \n",
        "     Warning setting imtype=fits\n",
        "     Warning setting use_new_imt=no\n",
        " \n",
        "gemini/:\n",
        " f2/            gmos/           midir/          oscir/\n",
        " flamingos/     gnirs/          nifs/           quirc/\n",
        " gemtools/      gsaoi/          niri/\n"
       ]
      },
      {
       "output_type": "stream",
       "stream": "stdout",
       "text": [
        "\n",
        "Loading the gnirs package:\n",
        "gnirs/:\n",
        " gnirsexamples  nfflt2pin       nsextract       nsreduce        nstransform\n",
        " gnirsinfo      nfquick         nsfitcoords     nsressky        nswavelength\n",
        " gnirsinfoifu   nsappwave       nsflat          nssdist         nswedit\n",
        " gnirsinfols    nscombine       nsheaders       nsslitfunction  nvnoise\n",
        " gnirsinfoxd    nscut           nsoffset        nsstack         nxdisplay\n",
        " nfcube         nsedge          nsprepare       nstelluric\n",
        "\n",
        "Loading the niri package:\n",
        "niri/:\n",
        " nifastsky      nireduce        niriinfo        nisky           nprepare\n",
        " niflat         niriexamples    nirotate        nisupersky      nresidual\n",
        "\n",
        "Loading the f2 package:\n",
        "f2/:\n",
        " f2cut          f2examples      f2infoimaging   f2infomos\n",
        " f2display      f2info          f2infols        f2prepare\n"
       ]
      }
     ],
     "prompt_number": 2
    },
    {
     "cell_type": "markdown",
     "metadata": {},
     "source": [
      "Reset tasks to the default parameters.  (Note: this doesn't seem to be working from the Python shell.)"
     ]
    },
    {
     "cell_type": "code",
     "collapsed": false,
     "input": [
      "iraf.unlearn(iraf.gemini, iraf.f2, iraf.gnirs, iraf.gemtools)"
     ],
     "language": "python",
     "metadata": {},
     "outputs": [],
     "prompt_number": 3
    },
    {
     "cell_type": "heading",
     "level": 2,
     "metadata": {},
     "source": [
      "STEP 2: Define various parameters and variables."
     ]
    },
    {
     "cell_type": "code",
     "collapsed": false,
     "input": [
      "iraf.f2.logfile = logfile\n",
      "iraf.f2.database = database\n",
      "rawdir = raw_data_path\n",
      "iraf.set(stdimage='imt2048')\n",
      "\n",
      "iraf.nsheaders('f2', logfile=iraf.f2.logfile)"
     ],
     "language": "python",
     "metadata": {},
     "outputs": [
      {
       "output_type": "stream",
       "stream": "stdout",
       "text": [
        "------------------------------------------------------------------------------\n"
       ]
      },
      {
       "output_type": "stream",
       "stream": "stdout",
       "text": [
        "NSHEADERS -- Mon Oct 12 13:47:49 HST 2015\n",
        "\n"
       ]
      },
      {
       "output_type": "stream",
       "stream": "stdout",
       "text": [
        "setting header keywords\n",
        "setting niflat.thresh_flo, niflat.thresh_fup, niflat.thresh_dlo,\n",
        "   and niflat.thresh_dup.\n",
        "setting niflat.statsec\n",
        "setting nifastsky.statsec\n",
        "setting nisky.statsec\n",
        "setting nireduce.statsec\n",
        "setting nsflat.statsec and fitsec\n",
        "setting nswavelength.coordlist, nswavelength.threshold, and\n",
        "   nswavelength.fl_median.\n",
        "setting the default logfile\n",
        "setting the default database\n"
       ]
      }
     ],
     "prompt_number": 4
    },
    {
     "cell_type": "markdown",
     "metadata": {},
     "source": [
      "*If necessary to start from scratch, delete the log file and the database.*"
     ]
    },
    {
     "cell_type": "code",
     "collapsed": false,
     "input": [
      "if (iraf.access(iraf.f2.logfile)):\n",
      "    iraf.delete(iraf.f2.logfile, verify='no')\n",
      "if (iraf.access(iraf.f2.database)):\n",
      "    iraf.delete(iraf.f2.database + '*', verify='no')"
     ],
     "language": "python",
     "metadata": {},
     "outputs": [],
     "prompt_number": 5
    },
    {
     "cell_type": "heading",
     "level": 2,
     "metadata": {},
     "source": [
      "STEP 3: Create the reduction lists"
     ]
    },
    {
     "cell_type": "code",
     "collapsed": false,
     "input": [
      "iraf.delete('flat.lis, flatdark.lis, arc.lis, arcdark.lis, obj.lis, objdark.lis, \\\n",
      "    tel.lis, teldark.lis, telarc.lis, telarcdark.lis', verify='no')\n",
      "\n",
      "iraf.gemlist(flatroot, flats, Stdout='flat.lis')\n",
      "iraf.gemlist(flatdarkroot, flatdarks, Stdout='flatdark.lis')\n",
      "iraf.gemlist(arcroot, arcs, Stdout='arc.lis')\n",
      "iraf.gemlist(arcdarkroot, arcdarks, Stdout='arcdark.lis')\n",
      "iraf.gemlist(objroot, objs, Stdout='obj.lis')\n",
      "iraf.gemlist(objdarkroot, objdarks, Stdout='objdark.lis')\n",
      "iraf.gemlist(telroot, tels, Stdout='tel.lis')\n",
      "iraf.gemlist(teldarkroot, teldarks, Stdout='teldark.lis')\n",
      "iraf.gemlist(telarcroot, telarcs, Stdout='telarc.lis')\n",
      "iraf.gemlist(telarcdarkroot, telarcdarks, Stdout='telarcdark.lis')\n",
      "\n",
      "iraf.concat('flat.lis, flatdark.lis, arc.lis, arcdark.lis, obj.lis, objdark.lis, \\\n",
      "    tel.lis, teldark.lis, telarc.lis, telarcdark.lis', 'all.lis')\n",
      "\n",
      "# remove duplicates\n",
      "all_file = open('all.lis', 'r')\n",
      "all_lines = all_file.readlines()\n",
      "all_file.close()\n",
      "lines_seen = list()\n",
      "for line in all_lines:\n",
      "    if line not in lines_seen:\n",
      "        lines_seen.append(line)\n",
      "all_file = open('all.lis', 'w')\n",
      "all_file.writelines(lines_seen)\n",
      "all_file.close()\n"
     ],
     "language": "python",
     "metadata": {},
     "outputs": [],
     "prompt_number": 9
    },
    {
     "cell_type": "heading",
     "level": 2,
     "metadata": {},
     "source": [
      "STEP 4: Visually inspect the data"
     ]
    },
    {
     "cell_type": "markdown",
     "metadata": {},
     "source": [
      "Result of inspection: The last A position of the telluric is lost in clouds or fell out of the slit."
     ]
    },
    {
     "cell_type": "code",
     "collapsed": false,
     "input": [
      "all_file = open('all.lis', 'r')\n",
      "for line in all_file:\n",
      "    image = line.strip() + '[1]'\n",
      "    print image\n",
      "    iraf.display(rawdir + image, 1)\n",
      "    iraf.sleep(5)\n",
      "    \n",
      "all_file.close()"
     ],
     "language": "python",
     "metadata": {},
     "outputs": [
      {
       "output_type": "stream",
       "stream": "stdout",
       "text": [
        "S20150730S0289[1]\n",
        "z1=-81. z2=11649.35\n"
       ]
      },
      {
       "output_type": "stream",
       "stream": "stdout",
       "text": [
        "S20150801S0400[1]\n",
        "z1=-72.31419 z2=258.6455\n"
       ]
      },
      {
       "output_type": "stream",
       "stream": "stdout",
       "text": [
        "S20150801S0401[1]\n",
        "z1=-68.1644 z2=254.4874\n"
       ]
      },
      {
       "output_type": "stream",
       "stream": "stdout",
       "text": [
        "S20150801S0402[1]\n",
        "z1=-67.70183 z2=254.0239\n"
       ]
      },
      {
       "output_type": "stream",
       "stream": "stdout",
       "text": [
        "S20150801S0403[1]\n",
        "z1=-66.15718 z2=256.4802\n"
       ]
      },
      {
       "output_type": "stream",
       "stream": "stdout",
       "text": [
        "S20150801S0404[1]\n",
        "z1=-72.91928 z2=261.2538\n"
       ]
      },
      {
       "output_type": "stream",
       "stream": "stdout",
       "text": [
        "S20150801S0405[1]\n",
        "z1=-75.67757 z2=260.0136\n"
       ]
      },
      {
       "output_type": "stream",
       "stream": "stdout",
       "text": [
        "S20150801S0406[1]\n",
        "z1=-69.45036 z2=255.7759\n"
       ]
      },
      {
       "output_type": "stream",
       "stream": "stdout",
       "text": [
        "S20150730S0288[1]\n",
        "z1=-84. z2=1396.893\n"
       ]
      },
      {
       "output_type": "stream",
       "stream": "stdout",
       "text": [
        "S20150801S0435[1]\n",
        "z1=-66.5546 z2=254.8763\n"
       ]
      },
      {
       "output_type": "stream",
       "stream": "stdout",
       "text": [
        "S20150801S0436[1]\n",
        "z1=-62.73286 z2=253.049\n"
       ]
      },
      {
       "output_type": "stream",
       "stream": "stdout",
       "text": [
        "S20150801S0437[1]\n",
        "z1=-73.61891 z2=259.9528\n"
       ]
      },
      {
       "output_type": "stream",
       "stream": "stdout",
       "text": [
        "S20150801S0438[1]\n",
        "z1=-65.75383 z2=254.074\n"
       ]
      },
      {
       "output_type": "stream",
       "stream": "stdout",
       "text": [
        "S20150801S0439[1]\n",
        "z1=-67.34642 z2=256.6708\n"
       ]
      },
      {
       "output_type": "stream",
       "stream": "stdout",
       "text": [
        "S20150801S0440[1]\n",
        "z1=-76.10368 z2=266.4466\n"
       ]
      },
      {
       "output_type": "stream",
       "stream": "stdout",
       "text": [
        "S20150801S0441[1]\n",
        "z1=-71.54187 z2=259.8736\n"
       ]
      },
      {
       "output_type": "stream",
       "stream": "stdout",
       "text": [
        "S20150730S0284[1]\n",
        "z1=-195. z2=3670.025\n"
       ]
      },
      {
       "output_type": "stream",
       "stream": "stdout",
       "text": [
        "S20150730S0285[1]\n",
        "z1=-138. z2=3785.118\n"
       ]
      },
      {
       "output_type": "stream",
       "stream": "stdout",
       "text": [
        "S20150730S0286[1]\n",
        "z1=-110. z2=3762.304\n"
       ]
      },
      {
       "output_type": "stream",
       "stream": "stdout",
       "text": [
        "S20150730S0287[1]\n",
        "z1=-167. z2=3751.87\n"
       ]
      },
      {
       "output_type": "stream",
       "stream": "stdout",
       "text": [
        "S20150801S0477[1]\n",
        "z1=-108. z2=452.4473\n"
       ]
      },
      {
       "output_type": "stream",
       "stream": "stdout",
       "text": [
        "S20150801S0478[1]\n",
        "z1=-88. z2=483.899\n"
       ]
      },
      {
       "output_type": "stream",
       "stream": "stdout",
       "text": [
        "S20150801S0479[1]\n",
        "z1=-103. z2=458.1956\n"
       ]
      },
      {
       "output_type": "stream",
       "stream": "stdout",
       "text": [
        "S20150801S0480[1]\n",
        "z1=-94. z2=467.1597\n"
       ]
      },
      {
       "output_type": "stream",
       "stream": "stdout",
       "text": [
        "S20150801S0481[1]\n",
        "z1=-125. z2=446.2178\n"
       ]
      },
      {
       "output_type": "stream",
       "stream": "stdout",
       "text": [
        "S20150801S0482[1]\n",
        "z1=-116. z2=470.206\n"
       ]
      },
      {
       "output_type": "stream",
       "stream": "stdout",
       "text": [
        "S20150801S0483[1]\n",
        "z1=-130. z2=479.0482\n"
       ]
      },
      {
       "output_type": "stream",
       "stream": "stdout",
       "text": [
        "S20150730S0268[1]\n",
        "z1=-74. z2=298.8223\n"
       ]
      },
      {
       "output_type": "stream",
       "stream": "stdout",
       "text": [
        "S20150730S0269[1]\n",
        "z1=-79.44054 z2=287.8082\n"
       ]
      },
      {
       "output_type": "stream",
       "stream": "stdout",
       "text": [
        "S20150730S0270[1]\n",
        "z1=-79. z2=294.2447\n"
       ]
      },
      {
       "output_type": "stream",
       "stream": "stdout",
       "text": [
        "S20150730S0271[1]\n",
        "z1=-78. z2=291.8696\n"
       ]
      },
      {
       "output_type": "stream",
       "stream": "stdout",
       "text": [
        "S20150801S0428[1]\n",
        "z1=-71.98914 z2=260.3218\n"
       ]
      },
      {
       "output_type": "stream",
       "stream": "stdout",
       "text": [
        "S20150801S0429[1]\n",
        "z1=-69.85063 z2=258.179\n"
       ]
      },
      {
       "output_type": "stream",
       "stream": "stdout",
       "text": [
        "S20150801S0430[1]\n",
        "z1=-66.93941 z2=255.2619\n"
       ]
      },
      {
       "output_type": "stream",
       "stream": "stdout",
       "text": [
        "S20150801S0431[1]\n",
        "z1=-68.30049 z2=258.6277\n"
       ]
      },
      {
       "output_type": "stream",
       "stream": "stdout",
       "text": [
        "S20150801S0432[1]\n",
        "z1=-73.24904 z2=261.5842\n"
       ]
      },
      {
       "output_type": "stream",
       "stream": "stdout",
       "text": [
        "S20150801S0433[1]\n",
        "z1=-63.49323 z2=251.8088\n"
       ]
      },
      {
       "output_type": "stream",
       "stream": "stdout",
       "text": [
        "S20150801S0434[1]\n",
        "z1=-59.69632 z2=248.0043\n"
       ]
      },
      {
       "output_type": "stream",
       "stream": "stdout",
       "text": [
        "S20150730S0272[1]\n",
        "z1=-70. z2=1271.265\n"
       ]
      }
     ],
     "prompt_number": 10
    },
    {
     "cell_type": "heading",
     "level": 2,
     "metadata": {},
     "source": [
      "STEP 5: f2prepare all the data"
     ]
    },
    {
     "cell_type": "code",
     "collapsed": false,
     "input": [
      "iraf.imdelete('f@all.lis', verify='no')\n",
      "iraf.f2prepare('@all.lis', rawpath=rawdir, fl_vardq='yes', fl_correct='yes', \\\n",
      "               fl_saturated='yes', fl_nonlinear='yes')"
     ],
     "language": "python",
     "metadata": {},
     "outputs": [
      {
       "output_type": "stream",
       "stream": "stdout",
       "text": [
        "----------------------------------------------------------------------------\n",
        "F2PREPARE -- Mon Oct 12 14:22:50 HST 2015\n",
        " \n",
        "\n"
       ]
      },
      {
       "output_type": "stream",
       "stream": "stdout",
       "text": [
        "Processing 39 files\n"
       ]
      },
      {
       "output_type": "stream",
       "stream": "stdout",
       "text": [
        "WARNING - F2PREPARE: Bad pixel mask is either an empty string or contains\n",
        "                     spaces. Not using BPM to generate data quality plane.\n",
        " \n",
        "  n      input file -->      output file\n",
        "                 filter     focal plane       input BPM   RON  gain     sat\n",
        " \n"
       ]
      },
      {
       "output_type": "stream",
       "stream": "stdout",
       "text": [
        "  1 ../../../raw/S20150730S0289 -->  fS20150730S0289 \n",
        "                     JH       2pix-slit            none  11.7   4.4   35000 \n"
       ]
      },
      {
       "output_type": "stream",
       "stream": "stdout",
       "text": [
        "  2 ../../../raw/S20150801S0400 -->  fS20150801S0400 \n",
        "                   Dark      2-pix_grid            none  11.7   4.4   35000 \n"
       ]
      },
      {
       "output_type": "stream",
       "stream": "stdout",
       "text": [
        "  3 ../../../raw/S20150801S0401 -->  fS20150801S0401 \n",
        "                   Dark      2-pix_grid            none  11.7   4.4   35000 \n"
       ]
      },
      {
       "output_type": "stream",
       "stream": "stdout",
       "text": [
        "  4 ../../../raw/S20150801S0402 -->  fS20150801S0402 \n",
        "                   Dark      2-pix_grid            none  11.7   4.4   35000 \n"
       ]
      },
      {
       "output_type": "stream",
       "stream": "stdout",
       "text": [
        "  5 ../../../raw/S20150801S0403 -->  fS20150801S0403 \n",
        "                   Dark      2-pix_grid            none  11.7   4.4   35000 \n"
       ]
      },
      {
       "output_type": "stream",
       "stream": "stdout",
       "text": [
        "  6 ../../../raw/S20150801S0404 -->  fS20150801S0404 \n",
        "                   Dark      2-pix_grid            none  11.7   4.4   35000 \n"
       ]
      },
      {
       "output_type": "stream",
       "stream": "stdout",
       "text": [
        "  7 ../../../raw/S20150801S0405 -->  fS20150801S0405 \n",
        "                   Dark      2-pix_grid            none  11.7   4.4   35000 \n"
       ]
      },
      {
       "output_type": "stream",
       "stream": "stdout",
       "text": [
        "  8 ../../../raw/S20150801S0406 -->  fS20150801S0406 \n",
        "                   Dark      2-pix_grid            none  11.7   4.4   35000 \n"
       ]
      },
      {
       "output_type": "stream",
       "stream": "stdout",
       "text": [
        "  9 ../../../raw/S20150730S0288 -->  fS20150730S0288 \n",
        "                     JH       2pix-slit            none  11.7   4.4   35000 \n"
       ]
      },
      {
       "output_type": "stream",
       "stream": "stdout",
       "text": [
        " 10 ../../../raw/S20150801S0435 -->  fS20150801S0435 \n",
        "                   Dark      2-pix_grid            none  11.7   4.4   35000 \n"
       ]
      },
      {
       "output_type": "stream",
       "stream": "stdout",
       "text": [
        " 11 ../../../raw/S20150801S0436 -->  fS20150801S0436 \n",
        "                   Dark      2-pix_grid            none  11.7   4.4   35000 \n"
       ]
      },
      {
       "output_type": "stream",
       "stream": "stdout",
       "text": [
        " 12 ../../../raw/S20150801S0437 -->  fS20150801S0437 \n",
        "                   Dark      2-pix_grid            none  11.7   4.4   35000 \n"
       ]
      },
      {
       "output_type": "stream",
       "stream": "stdout",
       "text": [
        " 13 ../../../raw/S20150801S0438 -->  fS20150801S0438 \n",
        "                   Dark      2-pix_grid            none  11.7   4.4   35000 \n"
       ]
      },
      {
       "output_type": "stream",
       "stream": "stdout",
       "text": [
        " 14 ../../../raw/S20150801S0439 -->  fS20150801S0439 \n",
        "                   Dark      2-pix_grid            none  11.7   4.4   35000 \n"
       ]
      },
      {
       "output_type": "stream",
       "stream": "stdout",
       "text": [
        " 15 ../../../raw/S20150801S0440 -->  fS20150801S0440 \n",
        "                   Dark      2-pix_grid            none  11.7   4.4   35000 \n"
       ]
      },
      {
       "output_type": "stream",
       "stream": "stdout",
       "text": [
        " 16 ../../../raw/S20150801S0441 -->  fS20150801S0441 \n",
        "                   Dark      2-pix_grid            none  11.7   4.4   35000 \n",
        "Dividing ../../../raw/S20150730S0284 by number of non-destructive reads: 8"
       ]
      },
      {
       "output_type": "stream",
       "stream": "stdout",
       "text": [
        "\n"
       ]
      },
      {
       "output_type": "stream",
       "stream": "stdout",
       "text": [
        " 17 ../../../raw/S20150730S0284 -->  fS20150730S0284 \n",
        "                     JH       2pix-slit            none   5.0   4.4   35000 \n",
        "Dividing ../../../raw/S20150730S0285 by number of non-destructive reads: 8"
       ]
      },
      {
       "output_type": "stream",
       "stream": "stdout",
       "text": [
        "\n"
       ]
      },
      {
       "output_type": "stream",
       "stream": "stdout",
       "text": [
        " 18 ../../../raw/S20150730S0285 -->  fS20150730S0285 \n",
        "                     JH       2pix-slit            none   5.0   4.4   35000 \n",
        "Dividing ../../../raw/S20150730S0286 by number of non-destructive reads: 8"
       ]
      },
      {
       "output_type": "stream",
       "stream": "stdout",
       "text": [
        "\n"
       ]
      },
      {
       "output_type": "stream",
       "stream": "stdout",
       "text": [
        " 19 ../../../raw/S20150730S0286 -->  fS20150730S0286 \n",
        "                     JH       2pix-slit            none   5.0   4.4   35000 \n",
        "Dividing ../../../raw/S20150730S0287 by number of non-destructive reads: 8"
       ]
      },
      {
       "output_type": "stream",
       "stream": "stdout",
       "text": [
        "\n"
       ]
      },
      {
       "output_type": "stream",
       "stream": "stdout",
       "text": [
        " 20 ../../../raw/S20150730S0287 -->  fS20150730S0287 \n",
        "                     JH       2pix-slit            none   5.0   4.4   35000 \n",
        "Dividing ../../../raw/S20150801S0477 by number of non-destructive reads: 8"
       ]
      },
      {
       "output_type": "stream",
       "stream": "stdout",
       "text": [
        "\n"
       ]
      },
      {
       "output_type": "stream",
       "stream": "stdout",
       "text": [
        " 21 ../../../raw/S20150801S0477 -->  fS20150801S0477 \n",
        "                   Dark      2-pix_grid            none   5.0   4.4   35000 \n",
        "Dividing ../../../raw/S20150801S0478 by number of non-destructive reads: 8"
       ]
      },
      {
       "output_type": "stream",
       "stream": "stdout",
       "text": [
        "\n"
       ]
      },
      {
       "output_type": "stream",
       "stream": "stdout",
       "text": [
        " 22 ../../../raw/S20150801S0478 -->  fS20150801S0478 \n",
        "                   Dark      2-pix_grid            none   5.0   4.4   35000 \n",
        "Dividing ../../../raw/S20150801S0479 by number of non-destructive reads: 8"
       ]
      },
      {
       "output_type": "stream",
       "stream": "stdout",
       "text": [
        "\n"
       ]
      },
      {
       "output_type": "stream",
       "stream": "stdout",
       "text": [
        " 23 ../../../raw/S20150801S0479 -->  fS20150801S0479 \n",
        "                   Dark      2-pix_grid            none   5.0   4.4   35000 \n",
        "Dividing ../../../raw/S20150801S0480 by number of non-destructive reads: 8"
       ]
      },
      {
       "output_type": "stream",
       "stream": "stdout",
       "text": [
        "\n"
       ]
      },
      {
       "output_type": "stream",
       "stream": "stdout",
       "text": [
        " 24 ../../../raw/S20150801S0480 -->  fS20150801S0480 \n",
        "                   Dark      2-pix_grid            none   5.0   4.4   35000 \n",
        "Dividing ../../../raw/S20150801S0481 by number of non-destructive reads: 8"
       ]
      },
      {
       "output_type": "stream",
       "stream": "stdout",
       "text": [
        "\n"
       ]
      },
      {
       "output_type": "stream",
       "stream": "stdout",
       "text": [
        " 25 ../../../raw/S20150801S0481 -->  fS20150801S0481 \n",
        "                   Dark      2-pix_grid            none   5.0   4.4   35000 \n",
        "Dividing ../../../raw/S20150801S0482 by number of non-destructive reads: 8"
       ]
      },
      {
       "output_type": "stream",
       "stream": "stdout",
       "text": [
        "\n"
       ]
      },
      {
       "output_type": "stream",
       "stream": "stdout",
       "text": [
        " 26 ../../../raw/S20150801S0482 -->  fS20150801S0482 \n",
        "                   Dark      2-pix_grid            none   5.0   4.4   35000 \n",
        "Dividing ../../../raw/S20150801S0483 by number of non-destructive reads: 8"
       ]
      },
      {
       "output_type": "stream",
       "stream": "stdout",
       "text": [
        "\n"
       ]
      },
      {
       "output_type": "stream",
       "stream": "stdout",
       "text": [
        " 27 ../../../raw/S20150801S0483 -->  fS20150801S0483 \n",
        "                   Dark      2-pix_grid            none   5.0   4.4   35000 \n"
       ]
      },
      {
       "output_type": "stream",
       "stream": "stdout",
       "text": [
        " 28 ../../../raw/S20150730S0268 -->  fS20150730S0268 \n",
        "                     JH       2pix-slit            none  11.7   4.4   35000 \n"
       ]
      },
      {
       "output_type": "stream",
       "stream": "stdout",
       "text": [
        " 29 ../../../raw/S20150730S0269 -->  fS20150730S0269 \n",
        "                     JH       2pix-slit            none  11.7   4.4   35000 \n"
       ]
      },
      {
       "output_type": "stream",
       "stream": "stdout",
       "text": [
        " 30 ../../../raw/S20150730S0270 -->  fS20150730S0270 \n",
        "                     JH       2pix-slit            none  11.7   4.4   35000 \n"
       ]
      },
      {
       "output_type": "stream",
       "stream": "stdout",
       "text": [
        " 31 ../../../raw/S20150730S0271 -->  fS20150730S0271 \n",
        "                     JH       2pix-slit            none  11.7   4.4   35000 \n"
       ]
      },
      {
       "output_type": "stream",
       "stream": "stdout",
       "text": [
        " 32 ../../../raw/S20150801S0428 -->  fS20150801S0428 \n",
        "                   Dark      2-pix_grid            none  11.7   4.4   35000 \n"
       ]
      },
      {
       "output_type": "stream",
       "stream": "stdout",
       "text": [
        " 33 ../../../raw/S20150801S0429 -->  fS20150801S0429 \n",
        "                   Dark      2-pix_grid            none  11.7   4.4   35000 \n"
       ]
      },
      {
       "output_type": "stream",
       "stream": "stdout",
       "text": [
        " 34 ../../../raw/S20150801S0430 -->  fS20150801S0430 \n",
        "                   Dark      2-pix_grid            none  11.7   4.4   35000 \n"
       ]
      },
      {
       "output_type": "stream",
       "stream": "stdout",
       "text": [
        " 35 ../../../raw/S20150801S0431 -->  fS20150801S0431 \n",
        "                   Dark      2-pix_grid            none  11.7   4.4   35000 \n"
       ]
      },
      {
       "output_type": "stream",
       "stream": "stdout",
       "text": [
        " 36 ../../../raw/S20150801S0432 -->  fS20150801S0432 \n",
        "                   Dark      2-pix_grid            none  11.7   4.4   35000 \n"
       ]
      },
      {
       "output_type": "stream",
       "stream": "stdout",
       "text": [
        " 37 ../../../raw/S20150801S0433 -->  fS20150801S0433 \n",
        "                   Dark      2-pix_grid            none  11.7   4.4   35000 \n"
       ]
      },
      {
       "output_type": "stream",
       "stream": "stdout",
       "text": [
        " 38 ../../../raw/S20150801S0434 -->  fS20150801S0434 \n",
        "                   Dark      2-pix_grid            none  11.7   4.4   35000 \n"
       ]
      },
      {
       "output_type": "stream",
       "stream": "stdout",
       "text": [
        " 39 ../../../raw/S20150730S0272 -->  fS20150730S0272 \n",
        "                     JH       2pix-slit            none  11.7   4.4   35000 \n",
        " \n",
        "F2PREPARE exit status: good.\n",
        "----------------------------------------------------------------------------\n"
       ]
      }
     ],
     "prompt_number": 11
    },
    {
     "cell_type": "heading",
     "level": 2,
     "metadata": {},
     "source": [
      "STEP 6:  Create the necessary dark frames"
     ]
    },
    {
     "cell_type": "code",
     "collapsed": false,
     "input": [
      "iraf.delete('fflatdark.lis', verify='no')\n",
      "iraf.imdelete('flatdark.fits', verify='no')\n",
      "iraf.sections('f@flatdark.lis', Stdout='fflatdark.lis')\n",
      "iraf.gemcombine('@fflatdark.lis', 'flatdark.fits', combine='average', \\\n",
      "    fl_vardq='yes', logfile=iraf.f2.logfile)\n",
      "\n",
      "iraf.delete('farcdark.lis', verify='no')\n",
      "iraf.imdelete('arcdark.fits', verify='no')\n",
      "iraf.sections('f@arcdark.lis', Stdout='farcdark.lis')\n",
      "iraf.gemcombine('@farcdark.lis', 'arcdark.fits', combine='average', \\\n",
      "    fl_vardq='yes', logfile=iraf.f2.logfile)\n",
      "\n",
      "iraf.delete('fobjdark.lis', verify='no')\n",
      "iraf.imdelete('objdark.fits', verify='no')\n",
      "iraf.sections('f@objdark.lis', Stdout='fobjdark.lis')\n",
      "iraf.gemcombine('@fobjdark.lis', 'objdark.fits', combine='average', \\\n",
      "    fl_vardq='yes', logfile=iraf.f2.logfile)\n",
      "\n",
      "iraf.delete('fteldark.lis', verify='no')\n",
      "iraf.imdelete('teldark.fits', verify='no')\n",
      "iraf.sections('f@teldark.lis', Stdout='fteldark.lis')\n",
      "iraf.gemcombine('@fteldark.lis', 'teldark.fits', combine='average', \\\n",
      "    fl_vardq='yes', logfile=iraf.f2.logfile)\n",
      "\n",
      "iraf.delete('ftelarcdark.lis', verify='no')\n",
      "iraf.imdelete('telarcdark.fits', verify='no')\n",
      "iraf.sections('f@telarcdark.lis', Stdout='ftelarcdark.lis')\n",
      "iraf.gemcombine('@ftelarcdark.lis', 'telarcdark.fits', combine='average', \\\n",
      "    fl_vardq='yes', logfile=iraf.f2.logfile)\n"
     ],
     "language": "python",
     "metadata": {},
     "outputs": [
      {
       "output_type": "stream",
       "stream": "stderr",
       "text": [
        "Warning: Cannot delete file (fflatdark.lis)\n"
       ]
      },
      {
       "output_type": "stream",
       "stream": "stdout",
       "text": [
        "--------------------------------------------------------------------------------\n",
        "GEMCOMBINE -- Mon Oct 12 14:28:59 HST 2015"
       ]
      },
      {
       "output_type": "stream",
       "stream": "stdout",
       "text": [
        "\n",
        " \n",
        "GEMCOMBINE: input = @fflatdark.lis\n",
        "GEMCOMBINE: output = flatdark.fits\n",
        "GEMCOMBINE: title = \n",
        "GEMCOMBINE: bpmfile = \n",
        "GEMCOMBINE: sci_ext = SCI\n",
        "GEMCOMBINE: var_ext = VAR\n",
        "GEMCOMBINE: dq_ext = DQ\n",
        " \n"
       ]
      },
      {
       "output_type": "stream",
       "stream": "stdout",
       "text": [
        "\n",
        "Oct 12 14:29: IMCOMBINE\n",
        "  combine = average, scale = none, zero = none, weight = none\n",
        "  reject = avsigclip, mclip = yes, nkeep = 1\n",
        "  lsigma = 3., hsigma = 3.\n",
        "  blank = 0.\n",
        "  statsec = Oct 12 14:29\n",
        "                Images \n",
        "  fS20150801S0400.fits[SCI]\n",
        "  fS20150801S0401.fits[SCI]\n",
        "  fS20150801S0402.fits[SCI]\n",
        "  fS20150801S0403.fits[SCI]\n",
        "  fS20150801S0404.fits[SCI]\n",
        "  fS20150801S0405.fits[SCI]\n",
        "  fS20150801S0406.fits[SCI]\n",
        "\n",
        "  Output image = tmpcombout58249_366, ncombine = 7\n",
        "  Number rejected mask = tmpcombdq58249_367.pl\n",
        "  Sigma image = tmpcombsig58249_368\n"
       ]
      },
      {
       "output_type": "stream",
       "stream": "stdout",
       "text": [
        " \n",
        "GEMCOMBINE -- Finished: Mon Oct 12 14:29:14 HST 2015\n",
        " \n",
        "GEMCOMBINE -- Exit status: GOOD\n",
        "--------------------------------------------------------------------------------\n"
       ]
      },
      {
       "output_type": "stream",
       "stream": "stderr",
       "text": [
        "Warning: Cannot delete file (farcdark.lis)\n"
       ]
      },
      {
       "output_type": "stream",
       "stream": "stdout",
       "text": [
        "--------------------------------------------------------------------------------\n",
        "GEMCOMBINE -- Mon Oct 12 14:29:14 HST 2015\n",
        " \n",
        "GEMCOMBINE: input = @farcdark.lis\n",
        "GEMCOMBINE: output = arcdark.fits\n",
        "GEMCOMBINE: title = \n",
        "GEMCOMBINE: bpmfile = \n",
        "GEMCOMBINE: sci_ext = SCI\n",
        "GEMCOMBINE: var_ext = VAR\n",
        "GEMCOMBINE: dq_ext = DQ\n",
        " \n"
       ]
      },
      {
       "output_type": "stream",
       "stream": "stdout",
       "text": [
        "\n",
        "Oct 12 14:29: IMCOMBINE\n",
        "  combine = average, scale = none, zero = none, weight = none\n",
        "  reject = avsigclip, mclip = yes, nkeep = 1\n",
        "  lsigma = 3., hsigma = 3.\n",
        "  blank = 0.\n",
        "  statsec = Oct 12 14:29\n",
        "                Images \n",
        "  fS20150801S0435.fits[SCI]\n",
        "  fS20150801S0436.fits[SCI]\n",
        "  fS20150801S0437.fits[SCI]\n",
        "  fS20150801S0438.fits[SCI]\n",
        "  fS20150801S0439.fits[SCI]\n",
        "  fS20150801S0440.fits[SCI]\n",
        "  fS20150801S0441.fits[SCI]\n",
        "\n",
        "  Output image = tmpcombout58249_386, ncombine = 7\n",
        "  Number rejected mask = tmpcombdq58249_387.pl\n",
        "  Sigma image = tmpcombsig58249_388\n"
       ]
      },
      {
       "output_type": "stream",
       "stream": "stdout",
       "text": [
        " \n",
        "GEMCOMBINE -- Finished: Mon Oct 12 14:29:27 HST 2015\n",
        " \n",
        "GEMCOMBINE -- Exit status: GOOD\n",
        "--------------------------------------------------------------------------------\n"
       ]
      },
      {
       "output_type": "stream",
       "stream": "stderr",
       "text": [
        "Warning: Cannot delete file (fobjdark.lis)\n"
       ]
      },
      {
       "output_type": "stream",
       "stream": "stdout",
       "text": [
        "--------------------------------------------------------------------------------\n",
        "GEMCOMBINE -- Mon Oct 12 14:29:27 HST 2015\n",
        " \n",
        "GEMCOMBINE: input = @fobjdark.lis\n",
        "GEMCOMBINE: output = objdark.fits\n",
        "GEMCOMBINE: title = \n",
        "GEMCOMBINE: bpmfile = \n",
        "GEMCOMBINE: sci_ext = SCI\n",
        "GEMCOMBINE: var_ext = VAR\n",
        "GEMCOMBINE: dq_ext = DQ\n",
        " \n"
       ]
      },
      {
       "output_type": "stream",
       "stream": "stdout",
       "text": [
        "\n",
        "Oct 12 14:29: IMCOMBINE\n",
        "  combine = average, scale = none, zero = none, weight = none\n",
        "  reject = avsigclip, mclip = yes, nkeep = 1\n",
        "  lsigma = 3., hsigma = 3.\n",
        "  blank = 0.\n",
        "  statsec = Oct 12 14:29\n",
        "                Images \n",
        "  fS20150801S0477.fits[SCI]\n",
        "  fS20150801S0478.fits[SCI]\n",
        "  fS20150801S0479.fits[SCI]\n",
        "  fS20150801S0480.fits[SCI]\n",
        "  fS20150801S0481.fits[SCI]\n",
        "  fS20150801S0482.fits[SCI]\n",
        "  fS20150801S0483.fits[SCI]\n",
        "\n",
        "  Output image = tmpcombout58249_406, ncombine = 7\n",
        "  Number rejected mask = tmpcombdq58249_407.pl\n",
        "  Sigma image = tmpcombsig58249_408\n"
       ]
      },
      {
       "output_type": "stream",
       "stream": "stdout",
       "text": [
        " \n",
        "GEMCOMBINE -- Finished: Mon Oct 12 14:29:39 HST 2015\n",
        " \n",
        "GEMCOMBINE -- Exit status: GOOD\n",
        "--------------------------------------------------------------------------------\n"
       ]
      },
      {
       "output_type": "stream",
       "stream": "stderr",
       "text": [
        "Warning: Cannot delete file (fteldark.lis)\n"
       ]
      },
      {
       "output_type": "stream",
       "stream": "stdout",
       "text": [
        "--------------------------------------------------------------------------------\n",
        "GEMCOMBINE -- Mon Oct 12 14:29:39 HST 2015\n",
        " \n",
        "GEMCOMBINE: input = @fteldark.lis\n",
        "GEMCOMBINE: output = teldark.fits\n",
        "GEMCOMBINE: title = \n",
        "GEMCOMBINE: bpmfile = \n",
        "GEMCOMBINE: sci_ext = SCI\n",
        "GEMCOMBINE: var_ext = VAR\n",
        "GEMCOMBINE: dq_ext = DQ\n",
        " \n"
       ]
      },
      {
       "output_type": "stream",
       "stream": "stdout",
       "text": [
        "\n",
        "Oct 12 14:29: IMCOMBINE\n",
        "  combine = average, scale = none, zero = none, weight = none\n",
        "  reject = avsigclip, mclip = yes, nkeep = 1\n",
        "  lsigma = 3., hsigma = 3.\n",
        "  blank = 0.\n",
        "  statsec = Oct 12 14:29\n",
        "                Images \n",
        "  fS20150801S0428.fits[SCI]\n",
        "  fS20150801S0429.fits[SCI]\n",
        "  fS20150801S0430.fits[SCI]\n",
        "  fS20150801S0431.fits[SCI]\n",
        "  fS20150801S0432.fits[SCI]\n",
        "  fS20150801S0433.fits[SCI]\n",
        "  fS20150801S0434.fits[SCI]\n",
        "\n",
        "  Output image = tmpcombout58249_426, ncombine = 7\n",
        "  Number rejected mask = tmpcombdq58249_427.pl\n",
        "  Sigma image = tmpcombsig58249_428\n"
       ]
      },
      {
       "output_type": "stream",
       "stream": "stdout",
       "text": [
        " \n",
        "GEMCOMBINE -- Finished: Mon Oct 12 14:29:51 HST 2015\n",
        " \n",
        "GEMCOMBINE -- Exit status: GOOD\n",
        "--------------------------------------------------------------------------------\n"
       ]
      },
      {
       "output_type": "stream",
       "stream": "stderr",
       "text": [
        "Warning: Cannot delete file (ftelarcdark.lis)\n"
       ]
      },
      {
       "output_type": "stream",
       "stream": "stdout",
       "text": [
        "--------------------------------------------------------------------------------\n",
        "GEMCOMBINE -- Mon Oct 12 14:29:51 HST 2015\n",
        " \n",
        "GEMCOMBINE: input = @ftelarcdark.lis\n",
        "GEMCOMBINE: output = telarcdark.fits\n",
        "GEMCOMBINE: title = \n",
        "GEMCOMBINE: bpmfile = \n",
        "GEMCOMBINE: sci_ext = SCI\n",
        "GEMCOMBINE: var_ext = VAR\n",
        "GEMCOMBINE: dq_ext = DQ\n",
        " \n"
       ]
      },
      {
       "output_type": "stream",
       "stream": "stdout",
       "text": [
        "\n",
        "Oct 12 14:29: IMCOMBINE\n",
        "  combine = average, scale = none, zero = none, weight = none\n",
        "  reject = avsigclip, mclip = yes, nkeep = 1\n",
        "  lsigma = 3., hsigma = 3.\n",
        "  blank = 0.\n",
        "  statsec = Oct 12 14:29\n",
        "                Images \n",
        "  fS20150801S0435.fits[SCI]\n",
        "  fS20150801S0436.fits[SCI]\n",
        "  fS20150801S0437.fits[SCI]\n",
        "  fS20150801S0438.fits[SCI]\n",
        "  fS20150801S0439.fits[SCI]\n",
        "  fS20150801S0440.fits[SCI]\n",
        "  fS20150801S0441.fits[SCI]\n",
        "\n",
        "  Output image = tmpcombout58249_446, ncombine = 7\n",
        "  Number rejected mask = tmpcombdq58249_447.pl\n",
        "  Sigma image = tmpcombsig58249_448\n"
       ]
      },
      {
       "output_type": "stream",
       "stream": "stdout",
       "text": [
        " \n",
        "GEMCOMBINE -- Finished: Mon Oct 12 14:30:03 HST 2015\n",
        " \n",
        "GEMCOMBINE -- Exit status: GOOD\n",
        "--------------------------------------------------------------------------------\n"
       ]
      }
     ],
     "prompt_number": 12
    },
    {
     "cell_type": "heading",
     "level": 2,
     "metadata": {},
     "source": [
      "STEP 7:  Create the normalized flat field and BPM."
     ]
    },
    {
     "cell_type": "heading",
     "level": 3,
     "metadata": {},
     "source": [
      "Subtract the dark from the flat images then cut"
     ]
    },
    {
     "cell_type": "code",
     "collapsed": false,
     "input": [
      "iraf.imdelete ('df@flat.lis', verify='no')\n",
      "\n",
      "file = open('flat.lis', 'r')\n",
      "for line in file:\n",
      "\timage = line.strip()\n",
      "\tiraf.gemarith ('f' + image, '-', 'flatdark.fits', 'df' + image, \\\n",
      "\t\tfl_vardq='yes', logfile=iraf.f2.logfile)\n",
      "\n",
      "file.close()\n",
      "\n",
      "iraf.imdelete ('cdf@flat.lis', verify='no')\n",
      "iraf.f2cut ('df@flat.lis')"
     ],
     "language": "python",
     "metadata": {},
     "outputs": [
      {
       "output_type": "stream",
       "stream": "stdout",
       "text": [
        "GEMARITH begin (this task relies on gemexpr)\n"
       ]
      },
      {
       "output_type": "stream",
       "stream": "stdout",
       "text": [
        "GEMARITH PHU copy: fS20150730S0289[0] --> dfS20150730S0289[0,APPEND])\n"
       ]
      },
      {
       "output_type": "stream",
       "stream": "stdout",
       "text": [
        "GEMARITH No MDF present in source\n"
       ]
      },
      {
       "output_type": "stream",
       "stream": "stdout",
       "text": [
        "GEMARITH gemarith: done\n"
       ]
      },
      {
       "output_type": "stream",
       "stream": "stdout",
       "text": [
        "----------------------------------------------------------------------------\n",
        "F2CUT -- Mon Oct 12 14:30:11 HST 2015\n",
        " \n",
        "\n",
        "Pixel scale: 0.1797"
       ]
      },
      {
       "output_type": "stream",
       "stream": "stdout",
       "text": [
        "\n",
        "Grism: JH_G5801\n",
        "Filter: JH\n",
        "\n",
        "dfS20150730S0289 --> cdfS20150730S0289"
       ]
      },
      {
       "output_type": "stream",
       "stream": "stdout",
       "text": [
        "\n",
        " [SCI,1][42:1507,367:1620] --> [SCI,1]\n"
       ]
      },
      {
       "output_type": "stream",
       "stream": "stdout",
       "text": [
        " \n",
        "F2CUT exit status: good.\n",
        "----------------------------------------------------------------------------\n"
       ]
      }
     ],
     "prompt_number": 13
    },
    {
     "cell_type": "heading",
     "level": 3,
     "metadata": {},
     "source": [
      "Construct the normalised flat field.  "
     ]
    },
    {
     "cell_type": "markdown",
     "metadata": {},
     "source": [
      "The flats are derived from images taken with the calibration unit (GCAL) shutter open (\"lamps-on\").  It is recommended to run <code>nsflat</code> interactively to ensure a good fit of the lamp's profile.\n",
      "\n",
      "The fit order must be high enough to fit the lamp's profile but not too high since we do not want to fit the variations due to the pixel to pixel variation.  For the JH filter, the fit should look like in the screenshots below.  Note that in the zoomed plot, the fit matches the overall profile, not the high frequency variations.\n",
      "\n",
      "The overall fit:\n",
      "\n",
      "![QL-JH-nsflat_fit](../screenshots/QL-JH-nsflat_fit.png)\n",
      "\n",
      "<br \\>\n",
      "Zooming in to confirm that the high frequency signal is not being fit:  \n",
      "\n",
      "![QL-JH-nsflat_fit_zoom](../screenshots/QL-JH-nsflat_fit_zoom.png)"
     ]
    },
    {
     "cell_type": "markdown",
     "metadata": {},
     "source": [
      "If the order needs to be changed, the <code>:order</code> command will be required and that does not work well in the iPython notebook.  So copy the following to the PyRAF we prepared earlier, and find a good fit.\n",
      "\n",
      "    iraf.imdelete('flat.fits,f2_ls_bpm.pl', verify='no')\n",
      "    iraf.nsflat('cdf@flat.lis', flatfile='flat.fits', \\\n",
      "        bpmfile='f2_ls_bpm.pl', thr_flo=0.35, thr_fup=3.0, \\\n",
      "        fl_inter='yes', order=120)\n",
      "        "
     ]
    },
    {
     "cell_type": "heading",
     "level": 2,
     "metadata": {},
     "source": [
      "STEP 8:  Reduce the science arc and determine the wavelength solution"
     ]
    },
    {
     "cell_type": "markdown",
     "metadata": {},
     "source": [
      "The wavelength solution is derived from an arc taken right after the science observation, before anything is moved (eg. grating, slit, etc.)\n",
      "\n",
      "We will reduce the arc and calculate the wavelength solution as this is what we will surely be using for the science observations.\n",
      "\n",
      "The wavelength solution step really should be done in interactive mode as it is not uncommon to have to reject lines and/or adjust the matches with the line list."
     ]
    },
    {
     "cell_type": "heading",
     "level": 3,
     "metadata": {},
     "source": [
      "Reduce the science arc"
     ]
    },
    {
     "cell_type": "code",
     "collapsed": false,
     "input": [
      "# Subtract the dark from the arc images prior to cutting and flat dividing.\n",
      "\n",
      "iraf.imdelete('df@arc.lis', verify='no')\n",
      "iraf.nsreduce('f@arc.lis', outprefix='d', fl_cut='no', fl_process_cut='no', \\\n",
      "    fl_dark='yes', darkimage='arcdark.fits', fl_sky='no', fl_flat='no')\n",
      "\n",
      "# Cut the arc images and divide by the normalised flat field image.\n",
      "\n",
      "iraf.imdelete('rdf@arc.lis', verify='no')\n",
      "iraf.nsreduce('df@arc.lis', fl_cut='yes', fl_dark='no', fl_sky='no', fl_flat='yes', \\\n",
      "    flatimage='flat.fits')\n",
      "\n",
      "# Combine the arc files (if there is more than one arc file)\n",
      "\n",
      "iraf.imdelete('arc.fits', verify='no')\n",
      "iraf.delete('rdfarc.lis', verify='no')\n",
      "iraf.sections('rdf@arc.lis//.fits', Stdout='rdfarc.lis')\n",
      "\n",
      "count = 0\n",
      "file = open('arc.lis', 'r')\n",
      "for line in file:\n",
      "\tcount += 1\n",
      "\n",
      "if count == 1:\n",
      "\tiraf.copy ('@rdfarc.lis', 'arc.fits')\n",
      "else:\n",
      "\tiraf.gemcombine ('@rdfarc.lis', 'arc.fits', fl_vardq='yes')\n",
      "\n",
      "file.close()\n",
      "print 'Done'"
     ],
     "language": "python",
     "metadata": {},
     "outputs": [
      {
       "output_type": "stream",
       "stream": "stdout",
       "text": [
        "-------------------------------------------------------------------------------\n",
        "NSREDUCE -- Mon Oct 12 14:31:02 HST 2015"
       ]
      },
      {
       "output_type": "stream",
       "stream": "stdout",
       "text": [
        "\n",
        " \n",
        "NSREDUCE: Processing 1 extension(s) from 1 file(s)."
       ]
      },
      {
       "output_type": "stream",
       "stream": "stdout",
       "text": [
        "\n"
       ]
      },
      {
       "output_type": "stream",
       "stream": "stdout",
       "text": [
        "NSREDUCE: slit: 2pix-slit\n",
        "NSREDUCE: filter: JH\n",
        "\n",
        "   n input                   --> output                  sky image\n",
        " dark                    flat                    scale\n",
        "\n",
        "   1 fS20150730S0288         --> dfS20150730S0288        none                   \n",
        " arcdark                 none                    1.0000 \n"
       ]
      },
      {
       "output_type": "stream",
       "stream": "stdout",
       "text": [
        " \n",
        "NSREDUCE exit status: good.\n",
        "------------------------------------------------------------------------------\n",
        "-------------------------------------------------------------------------------"
       ]
      },
      {
       "output_type": "stream",
       "stream": "stdout",
       "text": [
        "\n",
        "NSREDUCE -- Mon Oct 12 14:31:05 HST 2015\n",
        " \n",
        "----------------------------------------------------------------------------"
       ]
      },
      {
       "output_type": "stream",
       "stream": "stdout",
       "text": [
        "\n",
        "F2CUT -- Mon Oct 12 14:31:05 HST 2015\n",
        " \n",
        "\n",
        "Pixel scale: 0.1797"
       ]
      },
      {
       "output_type": "stream",
       "stream": "stdout",
       "text": [
        "\n",
        "Grism: JH_G5801\n",
        "Filter: JH\n",
        "\n",
        "dfS20150730S0288 --> dfS20150730S0288-58249_519"
       ]
      },
      {
       "output_type": "stream",
       "stream": "stdout",
       "text": [
        "\n",
        " [SCI,1][42:1507,367:1620] --> [SCI,1]\n"
       ]
      },
      {
       "output_type": "stream",
       "stream": "stdout",
       "text": [
        " \n",
        "F2CUT exit status: good.\n",
        "----------------------------------------------------------------------------\n",
        "------------------------------------------------------------------------------\n",
        "NSAPPWAVE -- Mon Oct 12 14:31:07 HST 2015\n",
        " \n"
       ]
      },
      {
       "output_type": "stream",
       "stream": "stdout",
       "text": [
        "NSAPPWAVE: Processing 1 extension(s) from 1 file(s).\n",
        "  Camera     Grating    Filter     Prism      FPMask     Wave   Delta Order Axis\n",
        "dfS20150730S0288-58249_519 -> dfS20150730S0288-58249_520 ( 1)"
       ]
      },
      {
       "output_type": "stream",
       "stream": "stdout",
       "text": [
        "\n",
        "  f/16_G5830   JH_G5801         JH             2pix-slit 13900.00 -6.67 INDEF 2\n"
       ]
      },
      {
       "output_type": "stream",
       "stream": "stdout",
       "text": [
        "NSAPPWAVE: cradius not from table for dfS20150730S0288-58249_519.\n",
        "           (further table messages supressed for this file).\n",
        "  extension  1: 13900.000000 -6.667000 INDEF\n"
       ]
      },
      {
       "output_type": "stream",
       "stream": "stdout",
       "text": [
        "\n",
        "NSAPPWAVE Exit status good\n",
        "------------------------------------------------------------------------------\n",
        "NSREDUCE: Processing 1 extension(s) from 1 file(s).\n"
       ]
      },
      {
       "output_type": "stream",
       "stream": "stdout",
       "text": [
        "NSREDUCE: slit: 2pix-slit\n",
        "NSREDUCE: filter: JH\n",
        "\n",
        "   n input                   --> output                  sky image\n",
        " dark                    flat                    scale\n",
        "\n",
        "   1 dfS20150730S0288        --> rdfS20150730S0288       none                   \n",
        " none                    flat                    1.0000 \n"
       ]
      },
      {
       "output_type": "stream",
       "stream": "stdout",
       "text": [
        " \n",
        "NSREDUCE exit status: good.\n",
        "------------------------------------------------------------------------------\n"
       ]
      },
      {
       "output_type": "stream",
       "stream": "stderr",
       "text": [
        "Warning: Cannot delete file (rdfarc.lis)\n"
       ]
      },
      {
       "output_type": "stream",
       "stream": "stdout",
       "text": [
        "Done\n"
       ]
      }
     ],
     "prompt_number": 14
    },
    {
     "cell_type": "heading",
     "level": 3,
     "metadata": {},
     "source": [
      "Determine the wavelength solution from the science arc"
     ]
    },
    {
     "cell_type": "markdown",
     "metadata": {},
     "source": [
      "Normally, the lines will be identified automatically and this step, while interactive is used to delete a couple outliers and visually confirm that the fit is good.\n",
      "\n",
      "If, for some reason (it can happen), the lines do not get identified automatically and they need to be marked manually, you will need to run the two commands below in the PyRAF sessions since you will need full interactive support.  But most of the time, running this in the notebook works okay."
     ]
    },
    {
     "cell_type": "code",
     "collapsed": false,
     "input": [
      "iraf.imdelete ('warc.fits', verify='no')\n",
      "iraf.nswavelength ('arc.fits', fl_inter='yes', order=8)\n",
      "\n",
      "# RMS 0.37"
     ],
     "language": "python",
     "metadata": {},
     "outputs": [
      {
       "output_type": "stream",
       "stream": "stdout",
       "text": [
        "-------------------------------------------------------------------------------\n",
        "NSWAVELENGTH -- Mon Oct 12 14:31:20 HST 2015\n",
        "\n",
        "NSWAVELENGTH: LS data detected. Calling nswhelper to process data."
       ]
      },
      {
       "output_type": "stream",
       "stream": "stdout",
       "text": [
        "\n",
        "-------------------------------------------------------------------------------\n",
        "NSWHELPER -- Mon Oct 12 14:31:20 HST 2015\n",
        "\n"
       ]
      },
      {
       "output_type": "stream",
       "stream": "stdout",
       "text": [
        "Using input files:\n",
        "arc\n"
       ]
      },
      {
       "output_type": "stream",
       "stream": "stdout",
       "text": [
        "Using output files:\n",
        "warc\n"
       ]
      },
      {
       "output_type": "stream",
       "stream": "stdout",
       "text": [
        "Lamp image: arc[SCI,1]\n",
        "\n"
       ]
      },
      {
       "output_type": "stream",
       "stream": "stdout",
       "text": [
        "AUTOIDENTIFY: NOAO/IRAF V2.16 klabrie@libellule.gemini.edu Mon 14:31:22 12-Oct-2015\n"
       ]
      },
      {
       "output_type": "stream",
       "stream": "stdout",
       "text": [
        "  Spectrum                 # Found   Midpoint Dispersion        RMS\n"
       ]
      },
      {
       "output_type": "stream",
       "stream": "stdout",
       "text": [
        "  warc[SCI,1][733,*]            60    13884.5      -6.51      0.655\n"
       ]
      },
      {
       "output_type": "stream",
       "stream": "stdout",
       "text": [
        "warc[SCI,1][733,*]: Examine identifications interactively?"
       ]
      },
      {
       "output_type": "stream",
       "stream": "stdout",
       "text": [
        "   1011.24  11396.584    11396.8 \n"
       ]
      },
      {
       "output_type": "stream",
       "stream": "stdout",
       "text": [
        "   1122.55  10676.651    10676.5 100 NOAO\n"
       ]
      },
      {
       "output_type": "stream",
       "stream": "stdout",
       "text": [
        "   1122.55  10676.651    10676.5 100 NOAO\n"
       ]
      },
      {
       "output_type": "stream",
       "stream": "stdout",
       "text": [
        "   1122.55  10676.651    10676.5 100 NOAO\n"
       ]
      },
      {
       "output_type": "stream",
       "stream": "stdout",
       "text": [
        "\n",
        "REIDENTIFY: NOAO/IRAF V2.16 klabrie@libellule.gemini.edu Mon 14:31:56 12-Oct-2015\n"
       ]
      },
      {
       "output_type": "stream",
       "stream": "stdout",
       "text": [
        "  Reference image = warc[SCI,1], New image = warc[SCI,1], Refit = yes\n",
        "          Image Data    Found     Fit Pix Shift  User Shift  Z Shift      RMS\n"
       ]
      },
      {
       "output_type": "stream",
       "stream": "stdout",
       "text": [
        "warc[SCI,1][723,*]     57/57   56/57     0.0391      -0.255  -1.8E-5    0.511\n"
       ]
      },
      {
       "output_type": "stream",
       "stream": "stdout",
       "text": [
        "warc[SCI,1][723,*]     57/57   56/57     0.0391      -0.255  -1.8E-5    0.511\n"
       ]
      },
      {
       "output_type": "stream",
       "stream": "stdout",
       "text": [
        "warc[SCI,1][713,*]     57/57   55/57     0.0852      -0.554  -4.1E-5    0.488\n"
       ]
      },
      {
       "output_type": "stream",
       "stream": "stdout",
       "text": [
        "warc[SCI,1][703,*]     57/57   57/57      0.122      -0.797  -5.8E-5    0.621\n"
       ]
      },
      {
       "output_type": "stream",
       "stream": "stdout",
       "text": [
        "warc[SCI,1][693,*]     57/57   57/57      0.169        -1.1  -8.0E-5    0.548\n"
       ]
      },
      {
       "output_type": "stream",
       "stream": "stdout",
       "text": [
        "warc[SCI,1][683,*]     57/57   57/57      0.211       -1.38  -1.0E-4      0.6\n"
       ]
      },
      {
       "output_type": "stream",
       "stream": "stdout",
       "text": [
        "warc[SCI,1][673,*]     57/57   57/57      0.261        -1.7  -1.2E-4    0.602\n"
       ]
      },
      {
       "output_type": "stream",
       "stream": "stdout",
       "text": [
        "warc[SCI,1][663,*]     57/57   55/57      0.304       -1.98  -1.4E-4    0.455\n"
       ]
      },
      {
       "output_type": "stream",
       "stream": "stdout",
       "text": [
        "warc[SCI,1][653,*]     57/57   54/57      0.347       -2.26  -1.7E-4    0.407\n"
       ]
      },
      {
       "output_type": "stream",
       "stream": "stdout",
       "text": [
        "warc[SCI,1][643,*]     57/57   54/57      0.398       -2.59  -1.9E-4     0.39\n"
       ]
      },
      {
       "output_type": "stream",
       "stream": "stdout",
       "text": [
        "warc[SCI,1][633,*]     57/57   54/57      0.436       -2.84  -2.1E-4    0.389\n"
       ]
      },
      {
       "output_type": "stream",
       "stream": "stdout",
       "text": [
        "warc[SCI,1][623,*]     57/57   50/57      0.483       -3.14  -2.3E-4    0.282\n"
       ]
      },
      {
       "output_type": "stream",
       "stream": "stdout",
       "text": [
        "warc[SCI,1][613,*]     57/57   52/57      0.528       -3.44  -2.5E-4     0.32\n"
       ]
      },
      {
       "output_type": "stream",
       "stream": "stdout",
       "text": [
        "warc[SCI,1][603,*]     57/57   53/57      0.566       -3.69  -2.7E-4     0.33\n"
       ]
      },
      {
       "output_type": "stream",
       "stream": "stdout",
       "text": [
        "warc[SCI,1][593,*]     57/57   52/57      0.596       -3.88  -2.8E-4    0.305\n"
       ]
      },
      {
       "output_type": "stream",
       "stream": "stdout",
       "text": [
        "warc[SCI,1][583,*]     57/57   53/57      0.641       -4.18  -3.0E-4    0.317\n"
       ]
      },
      {
       "output_type": "stream",
       "stream": "stdout",
       "text": [
        "warc[SCI,1][573,*]     57/57   53/57      0.682       -4.44  -3.2E-4    0.328\n"
       ]
      },
      {
       "output_type": "stream",
       "stream": "stdout",
       "text": [
        "warc[SCI,1][563,*]     57/57   52/57      0.719       -4.68  -3.4E-4    0.246\n"
       ]
      },
      {
       "output_type": "stream",
       "stream": "stdout",
       "text": [
        "warc[SCI,1][553,*]     57/57   52/57      0.785       -5.11  -3.7E-4     0.27\n"
       ]
      },
      {
       "output_type": "stream",
       "stream": "stdout",
       "text": [
        "warc[SCI,1][543,*]     57/57   52/57      0.831       -5.41  -3.9E-4    0.286\n"
       ]
      },
      {
       "output_type": "stream",
       "stream": "stdout",
       "text": [
        "warc[SCI,1][533,*]     57/57   53/57      0.881       -5.74  -4.2E-4    0.306\n"
       ]
      },
      {
       "output_type": "stream",
       "stream": "stdout",
       "text": [
        "warc[SCI,1][523,*]     57/57   52/57      0.914       -5.95  -4.3E-4    0.314\n"
       ]
      },
      {
       "output_type": "stream",
       "stream": "stdout",
       "text": [
        "warc[SCI,1][513,*]     57/57   54/57      0.971       -6.33  -4.6E-4    0.395\n"
       ]
      },
      {
       "output_type": "stream",
       "stream": "stdout",
       "text": [
        "warc[SCI,1][503,*]     57/57   53/57       1.02       -6.65  -4.8E-4    0.394\n"
       ]
      },
      {
       "output_type": "stream",
       "stream": "stdout",
       "text": [
        "warc[SCI,1][493,*]     57/57   55/57       1.08       -7.03  -5.1E-4    0.492\n"
       ]
      },
      {
       "output_type": "stream",
       "stream": "stdout",
       "text": [
        "warc[SCI,1][483,*]     57/57   57/57       1.14       -7.43  -5.4E-4     0.57\n"
       ]
      },
      {
       "output_type": "stream",
       "stream": "stdout",
       "text": [
        "warc[SCI,1][473,*]     57/57   52/57       1.19       -7.74  -5.6E-4    0.359\n"
       ]
      },
      {
       "output_type": "stream",
       "stream": "stdout",
       "text": [
        "warc[SCI,1][463,*]     57/57   53/57       1.24       -8.07  -5.9E-4     0.41\n"
       ]
      },
      {
       "output_type": "stream",
       "stream": "stdout",
       "text": [
        "warc[SCI,1][453,*]     57/57   57/57       1.29       -8.42  -6.1E-4    0.593\n"
       ]
      },
      {
       "output_type": "stream",
       "stream": "stdout",
       "text": [
        "warc[SCI,1][443,*]     57/57   57/57       1.35       -8.82  -6.4E-4    0.586\n"
       ]
      },
      {
       "output_type": "stream",
       "stream": "stdout",
       "text": [
        "warc[SCI,1][433,*]     57/57   55/57       1.41       -9.18  -6.7E-4    0.599\n"
       ]
      },
      {
       "output_type": "stream",
       "stream": "stdout",
       "text": [
        "warc[SCI,1][423,*]     57/57   52/57       1.44        -9.4  -6.8E-4    0.362\n"
       ]
      },
      {
       "output_type": "stream",
       "stream": "stdout",
       "text": [
        "warc[SCI,1][413,*]     56/57   52/56       1.52       -9.88  -7.1E-4    0.374\n"
       ]
      },
      {
       "output_type": "stream",
       "stream": "stdout",
       "text": [
        "warc[SCI,1][403,*]     57/57   53/57       1.57       -10.2  -7.4E-4    0.406\n"
       ]
      },
      {
       "output_type": "stream",
       "stream": "stdout",
       "text": [
        "warc[SCI,1][393,*]     57/57   53/57       1.63       -10.6  -7.7E-4    0.381\n"
       ]
      },
      {
       "output_type": "stream",
       "stream": "stdout",
       "text": [
        "warc[SCI,1][383,*]     57/57   52/57       1.68       -10.9  -7.9E-4    0.348\n"
       ]
      },
      {
       "output_type": "stream",
       "stream": "stdout",
       "text": [
        "warc[SCI,1][373,*]     57/57   54/57       1.74       -11.4  -8.2E-4    0.397\n"
       ]
      },
      {
       "output_type": "stream",
       "stream": "stdout",
       "text": [
        "warc[SCI,1][363,*]     57/57   54/57        1.8       -11.7  -8.5E-4    0.419\n"
       ]
      },
      {
       "output_type": "stream",
       "stream": "stdout",
       "text": [
        "warc[SCI,1][353,*]     57/57   52/57       1.86       -12.1  -8.8E-4    0.352\n"
       ]
      },
      {
       "output_type": "stream",
       "stream": "stdout",
       "text": [
        "warc[SCI,1][343,*]     57/57   55/57       1.94       -12.6  -9.1E-4    0.426\n"
       ]
      },
      {
       "output_type": "stream",
       "stream": "stdout",
       "text": [
        "warc[SCI,1][333,*]     57/57   53/57       2.02       -13.2  -9.5E-4    0.358\n"
       ]
      },
      {
       "output_type": "stream",
       "stream": "stdout",
       "text": [
        "warc[SCI,1][323,*]     57/57   53/57        2.1       -13.7  -9.9E-4    0.352\n"
       ]
      },
      {
       "output_type": "stream",
       "stream": "stdout",
       "text": [
        "warc[SCI,1][313,*]     57/57   52/57       2.14       -13.9   -0.001    0.314\n"
       ]
      },
      {
       "output_type": "stream",
       "stream": "stdout",
       "text": [
        "warc[SCI,1][303,*]     57/57   52/57       2.23       -14.5   -0.001    0.298\n"
       ]
      },
      {
       "output_type": "stream",
       "stream": "stdout",
       "text": [
        "warc[SCI,1][293,*]     57/57   52/57       2.27       -14.8  -0.0011    0.263\n"
       ]
      },
      {
       "output_type": "stream",
       "stream": "stdout",
       "text": [
        "warc[SCI,1][283,*]     57/57   53/57       2.35       -15.3  -0.0011    0.337\n"
       ]
      },
      {
       "output_type": "stream",
       "stream": "stdout",
       "text": [
        "warc[SCI,1][273,*]     57/57   53/57       2.42       -15.8  -0.0011    0.302\n"
       ]
      },
      {
       "output_type": "stream",
       "stream": "stdout",
       "text": [
        "warc[SCI,1][263,*]     57/57   57/57        2.5       -16.3  -0.0012    0.544\n"
       ]
      },
      {
       "output_type": "stream",
       "stream": "stdout",
       "text": [
        "warc[SCI,1][253,*]     57/57   53/57       2.58       -16.8  -0.0012    0.343\n"
       ]
      },
      {
       "output_type": "stream",
       "stream": "stdout",
       "text": [
        "warc[SCI,1][243,*]     57/57   54/57       2.66       -17.3  -0.0013    0.437\n"
       ]
      },
      {
       "output_type": "stream",
       "stream": "stdout",
       "text": [
        "warc[SCI,1][233,*]     57/57   55/57       2.71       -17.7  -0.0013    0.441\n"
       ]
      },
      {
       "output_type": "stream",
       "stream": "stdout",
       "text": [
        "warc[SCI,1][223,*]     57/57   54/57       2.81       -18.3  -0.0013    0.381\n"
       ]
      },
      {
       "output_type": "stream",
       "stream": "stdout",
       "text": [
        "warc[SCI,1][213,*]     57/57   52/57       2.89       -18.8  -0.0014     0.33\n"
       ]
      },
      {
       "output_type": "stream",
       "stream": "stdout",
       "text": [
        "warc[SCI,1][203,*]     57/57   51/57       2.97       -19.4  -0.0014    0.303\n"
       ]
      },
      {
       "output_type": "stream",
       "stream": "stdout",
       "text": [
        "warc[SCI,1][193,*]     57/57   51/57       3.12       -20.3  -0.0015    0.311\n"
       ]
      },
      {
       "output_type": "stream",
       "stream": "stdout",
       "text": [
        "warc[SCI,1][183,*]     57/57   50/57       3.14       -20.4  -0.0015    0.259\n"
       ]
      },
      {
       "output_type": "stream",
       "stream": "stdout",
       "text": [
        "warc[SCI,1][173,*]     57/57   51/57       3.22        -21.  -0.0015    0.256\n"
       ]
      },
      {
       "output_type": "stream",
       "stream": "stdout",
       "text": [
        "warc[SCI,1][163,*]     57/57   53/57       3.26       -21.2  -0.0015    0.305\n"
       ]
      },
      {
       "output_type": "stream",
       "stream": "stdout",
       "text": [
        "warc[SCI,1][153,*]     57/57   52/57       3.29       -21.4  -0.0015    0.241\n"
       ]
      },
      {
       "output_type": "stream",
       "stream": "stdout",
       "text": [
        "warc[SCI,1][143,*]     56/57   53/56       3.38        -22.  -0.0016    0.343\n"
       ]
      },
      {
       "output_type": "stream",
       "stream": "stdout",
       "text": [
        "warc[SCI,1][133,*]     57/57   51/57       3.47       -22.6  -0.0016    0.275\n"
       ]
      },
      {
       "output_type": "stream",
       "stream": "stdout",
       "text": [
        "warc[SCI,1][123,*]     57/57   51/57       3.65       -23.8  -0.0017    0.251\n"
       ]
      },
      {
       "output_type": "stream",
       "stream": "stdout",
       "text": [
        "warc[SCI,1][113,*]     57/57   53/57       3.74       -24.4  -0.0018    0.328\n"
       ]
      },
      {
       "output_type": "stream",
       "stream": "stdout",
       "text": [
        "warc[SCI,1][103,*]     57/57   54/57       3.73       -24.3  -0.0018    0.375\n"
       ]
      },
      {
       "output_type": "stream",
       "stream": "stdout",
       "text": [
        "warc[SCI,1][93,*]      57/57   53/57       3.79       -24.7  -0.0018     0.38\n"
       ]
      },
      {
       "output_type": "stream",
       "stream": "stdout",
       "text": [
        "warc[SCI,1][83,*]      57/57   51/57       3.88       -25.3  -0.0018    0.357\n"
       ]
      },
      {
       "output_type": "stream",
       "stream": "stdout",
       "text": [
        "warc[SCI,1][73,*]      57/57   51/57       3.98       -25.9  -0.0019    0.337\n"
       ]
      },
      {
       "output_type": "stream",
       "stream": "stdout",
       "text": [
        "warc[SCI,1][63,*]      56/57   51/56       4.05       -26.4  -0.0019    0.303\n"
       ]
      },
      {
       "output_type": "stream",
       "stream": "stdout",
       "text": [
        "warc[SCI,1][53,*]      57/57   50/57       4.22       -27.5   -0.002    0.295\n"
       ]
      },
      {
       "output_type": "stream",
       "stream": "stdout",
       "text": [
        "warc[SCI,1][43,*]      57/57   52/57       4.28       -27.9   -0.002    0.359\n"
       ]
      },
      {
       "output_type": "stream",
       "stream": "stdout",
       "text": [
        "warc[SCI,1][33,*]      57/57   54/57       4.36       -28.4   -0.002    0.365\n"
       ]
      },
      {
       "output_type": "stream",
       "stream": "stdout",
       "text": [
        "warc[SCI,1][23,*]      56/57   52/56       4.47       -29.1  -0.0021    0.358\n"
       ]
      },
      {
       "output_type": "stream",
       "stream": "stdout",
       "text": [
        "warc[SCI,1][13,*]      57/57   52/57       4.53       -29.5  -0.0021    0.384\n"
       ]
      },
      {
       "output_type": "stream",
       "stream": "stdout",
       "text": [
        "warc[SCI,1][3,*]       57/57   50/57       4.61       -30.1  -0.0022    0.285\n"
       ]
      },
      {
       "output_type": "stream",
       "stream": "stdout",
       "text": [
        "warc[SCI,1][743,*]     57/57   53/57    -0.0181       0.119  6.53E-6    0.362\n"
       ]
      },
      {
       "output_type": "stream",
       "stream": "stdout",
       "text": [
        "warc[SCI,1][753,*]     57/57   53/57    -0.0822       0.535  3.90E-5    0.353\n"
       ]
      },
      {
       "output_type": "stream",
       "stream": "stdout",
       "text": [
        "warc[SCI,1][763,*]     57/57   53/57     -0.123       0.799  5.82E-5    0.323\n"
       ]
      },
      {
       "output_type": "stream",
       "stream": "stdout",
       "text": [
        "warc[SCI,1][773,*]     57/57   53/57     -0.159        1.04  7.59E-5    0.314\n"
       ]
      },
      {
       "output_type": "stream",
       "stream": "stdout",
       "text": [
        "warc[SCI,1][783,*]     57/57   53/57     -0.199         1.3  9.53E-5    0.326\n"
       ]
      },
      {
       "output_type": "stream",
       "stream": "stdout",
       "text": [
        "warc[SCI,1][793,*]     57/57   51/57     -0.237        1.54  1.13E-4    0.263\n"
       ]
      },
      {
       "output_type": "stream",
       "stream": "stdout",
       "text": [
        "warc[SCI,1][803,*]     57/57   50/57     -0.264        1.72  1.26E-4    0.227\n"
       ]
      },
      {
       "output_type": "stream",
       "stream": "stdout",
       "text": [
        "warc[SCI,1][813,*]     57/57   50/57     -0.302        1.96  1.44E-4    0.239\n"
       ]
      },
      {
       "output_type": "stream",
       "stream": "stdout",
       "text": [
        "warc[SCI,1][823,*]     57/57   53/57     -0.346        2.25  1.66E-4    0.335\n"
       ]
      },
      {
       "output_type": "stream",
       "stream": "stdout",
       "text": [
        "warc[SCI,1][833,*]     57/57   53/57     -0.379        2.47  1.81E-4    0.291\n"
       ]
      },
      {
       "output_type": "stream",
       "stream": "stdout",
       "text": [
        "warc[SCI,1][843,*]     57/57   53/57     -0.407        2.65  1.95E-4    0.305\n"
       ]
      },
      {
       "output_type": "stream",
       "stream": "stdout",
       "text": [
        "warc[SCI,1][853,*]     57/57   50/57     -0.447        2.91  2.14E-4    0.241\n"
       ]
      },
      {
       "output_type": "stream",
       "stream": "stdout",
       "text": [
        "warc[SCI,1][863,*]     57/57   53/57     -0.463        3.01  2.22E-4    0.343\n"
       ]
      },
      {
       "output_type": "stream",
       "stream": "stdout",
       "text": [
        "warc[SCI,1][873,*]     57/57   53/57       -0.5        3.26  2.40E-4    0.325\n"
       ]
      },
      {
       "output_type": "stream",
       "stream": "stdout",
       "text": [
        "warc[SCI,1][883,*]     57/57   53/57      -0.52        3.39  2.49E-4    0.325\n"
       ]
      },
      {
       "output_type": "stream",
       "stream": "stdout",
       "text": [
        "warc[SCI,1][893,*]     57/57   54/57     -0.552        3.59  2.65E-4    0.366\n"
       ]
      },
      {
       "output_type": "stream",
       "stream": "stdout",
       "text": [
        "warc[SCI,1][903,*]     57/57   53/57     -0.575        3.74  2.75E-4    0.362\n"
       ]
      },
      {
       "output_type": "stream",
       "stream": "stdout",
       "text": [
        "warc[SCI,1][913,*]     57/57   54/57     -0.607        3.95  2.91E-4    0.379\n"
       ]
      },
      {
       "output_type": "stream",
       "stream": "stdout",
       "text": [
        "warc[SCI,1][923,*]     57/57   54/57      -0.66         4.3  3.18E-4      0.4\n"
       ]
      },
      {
       "output_type": "stream",
       "stream": "stdout",
       "text": [
        "warc[SCI,1][933,*]     57/57   54/57     -0.691         4.5  3.32E-4    0.464\n"
       ]
      },
      {
       "output_type": "stream",
       "stream": "stdout",
       "text": [
        "warc[SCI,1][943,*]     57/57   53/57     -0.719        4.68  3.46E-4    0.391\n"
       ]
      },
      {
       "output_type": "stream",
       "stream": "stdout",
       "text": [
        "warc[SCI,1][953,*]     57/57   53/57     -0.731        4.76  3.52E-4    0.416\n"
       ]
      },
      {
       "output_type": "stream",
       "stream": "stdout",
       "text": [
        "warc[SCI,1][963,*]     57/57   54/57     -0.754        4.91  3.63E-4    0.474\n"
       ]
      },
      {
       "output_type": "stream",
       "stream": "stdout",
       "text": [
        "warc[SCI,1][973,*]     57/57   54/57      -0.79        5.14  3.81E-4    0.473\n"
       ]
      },
      {
       "output_type": "stream",
       "stream": "stdout",
       "text": [
        "warc[SCI,1][983,*]     57/57   53/57     -0.792        5.16  3.82E-4    0.418\n"
       ]
      },
      {
       "output_type": "stream",
       "stream": "stdout",
       "text": [
        "warc[SCI,1][993,*]     57/57   56/57     -0.812        5.28  3.90E-4    0.635\n"
       ]
      },
      {
       "output_type": "stream",
       "stream": "stdout",
       "text": [
        "warc[SCI,1][1003,*]    57/57   55/57     -0.835        5.43  4.02E-4    0.611\n"
       ]
      },
      {
       "output_type": "stream",
       "stream": "stdout",
       "text": [
        "warc[SCI,1][1013,*]    57/57   54/57     -0.857        5.57  4.13E-4    0.517\n"
       ]
      },
      {
       "output_type": "stream",
       "stream": "stdout",
       "text": [
        "warc[SCI,1][1023,*]    57/57   56/57     -0.862        5.61  4.14E-4    0.712\n"
       ]
      },
      {
       "output_type": "stream",
       "stream": "stdout",
       "text": [
        "warc[SCI,1][1033,*]    57/57   51/57     -0.896        5.83  4.32E-4    0.347\n"
       ]
      },
      {
       "output_type": "stream",
       "stream": "stdout",
       "text": [
        "warc[SCI,1][1043,*]    57/57   57/57       -0.9        5.86  4.34E-4    0.645\n"
       ]
      },
      {
       "output_type": "stream",
       "stream": "stdout",
       "text": [
        "warc[SCI,1][1053,*]    57/57   56/57       -0.9        5.85  4.34E-4    0.626\n"
       ]
      },
      {
       "output_type": "stream",
       "stream": "stdout",
       "text": [
        "warc[SCI,1][1063,*]    57/57   51/57     -0.904        5.88  4.36E-4    0.347\n"
       ]
      },
      {
       "output_type": "stream",
       "stream": "stdout",
       "text": [
        "warc[SCI,1][1073,*]    57/57   57/57     -0.914        5.95  4.41E-4    0.689\n"
       ]
      },
      {
       "output_type": "stream",
       "stream": "stdout",
       "text": [
        "warc[SCI,1][1083,*]    57/57   56/57     -0.934        6.08  4.50E-4     0.62\n"
       ]
      },
      {
       "output_type": "stream",
       "stream": "stdout",
       "text": [
        "warc[SCI,1][1093,*]    57/57   56/57      -0.96        6.25  4.64E-4    0.562\n"
       ]
      },
      {
       "output_type": "stream",
       "stream": "stdout",
       "text": [
        "warc[SCI,1][1103,*]    57/57   57/57     -0.961        6.25  4.64E-4    0.643\n"
       ]
      },
      {
       "output_type": "stream",
       "stream": "stdout",
       "text": [
        "warc[SCI,1][1113,*]    57/57   55/57     -0.978        6.36  4.73E-4    0.498\n"
       ]
      },
      {
       "output_type": "stream",
       "stream": "stdout",
       "text": [
        "warc[SCI,1][1123,*]    57/57   57/57     -0.986        6.41  4.77E-4    0.636\n"
       ]
      },
      {
       "output_type": "stream",
       "stream": "stdout",
       "text": [
        "warc[SCI,1][1133,*]    57/57   54/57     -0.997        6.49  4.82E-4    0.451\n"
       ]
      },
      {
       "output_type": "stream",
       "stream": "stdout",
       "text": [
        "warc[SCI,1][1143,*]    57/57   54/57      -1.03        6.68  4.98E-4    0.385\n"
       ]
      },
      {
       "output_type": "stream",
       "stream": "stdout",
       "text": [
        "warc[SCI,1][1153,*]    57/57   53/57      -1.04        6.74  5.03E-4    0.373\n"
       ]
      },
      {
       "output_type": "stream",
       "stream": "stdout",
       "text": [
        "warc[SCI,1][1163,*]    57/57   54/57      -1.05        6.86  5.12E-4    0.387\n"
       ]
      },
      {
       "output_type": "stream",
       "stream": "stdout",
       "text": [
        "warc[SCI,1][1173,*]    57/57   54/57      -1.08          7.  5.22E-4    0.387\n"
       ]
      },
      {
       "output_type": "stream",
       "stream": "stdout",
       "text": [
        "warc[SCI,1][1183,*]    57/57   54/57      -1.09        7.09  5.30E-4    0.386\n"
       ]
      },
      {
       "output_type": "stream",
       "stream": "stdout",
       "text": [
        "warc[SCI,1][1193,*]    57/57   53/57       -1.1        7.16  5.36E-4    0.363\n"
       ]
      },
      {
       "output_type": "stream",
       "stream": "stdout",
       "text": [
        "warc[SCI,1][1203,*]    57/57   53/57      -1.12        7.28  5.45E-4    0.343\n"
       ]
      },
      {
       "output_type": "stream",
       "stream": "stdout",
       "text": [
        "warc[SCI,1][1213,*]    57/57   54/57      -1.14        7.44  5.58E-4    0.382\n"
       ]
      },
      {
       "output_type": "stream",
       "stream": "stdout",
       "text": [
        "warc[SCI,1][1223,*]    57/57   53/57      -1.16        7.52  5.64E-4    0.361\n"
       ]
      },
      {
       "output_type": "stream",
       "stream": "stdout",
       "text": [
        "warc[SCI,1][1233,*]    57/57   53/57      -1.15        7.49  5.62E-4    0.376\n"
       ]
      },
      {
       "output_type": "stream",
       "stream": "stdout",
       "text": [
        "warc[SCI,1][1243,*]    57/57   52/57      -1.16        7.53  5.67E-4    0.314\n"
       ]
      },
      {
       "output_type": "stream",
       "stream": "stdout",
       "text": [
        "warc[SCI,1][1253,*]    57/57   53/57      -1.16        7.54  5.67E-4    0.381\n"
       ]
      },
      {
       "output_type": "stream",
       "stream": "stdout",
       "text": [
        "warc[SCI,1][1263,*]    57/57   49/57      -1.16        7.56  5.70E-4    0.253\n"
       ]
      },
      {
       "output_type": "stream",
       "stream": "stdout",
       "text": [
        "warc[SCI,1][1273,*]    57/57   51/57      -1.17        7.58  5.72E-4    0.299\n"
       ]
      },
      {
       "output_type": "stream",
       "stream": "stdout",
       "text": [
        "warc[SCI,1][1283,*]    57/57   51/57      -1.14        7.43  5.62E-4    0.318\n"
       ]
      },
      {
       "output_type": "stream",
       "stream": "stdout",
       "text": [
        "warc[SCI,1][1293,*]    57/57   52/57      -1.15        7.49  5.66E-4    0.351\n"
       ]
      },
      {
       "output_type": "stream",
       "stream": "stdout",
       "text": [
        "warc[SCI,1][1303,*]    57/57   49/57      -1.12        7.29  5.51E-4    0.234\n"
       ]
      },
      {
       "output_type": "stream",
       "stream": "stdout",
       "text": [
        "warc[SCI,1][1313,*]    57/57   52/57      -1.11        7.21  5.45E-4    0.339\n"
       ]
      },
      {
       "output_type": "stream",
       "stream": "stdout",
       "text": [
        "warc[SCI,1][1323,*]    57/57   53/57       -1.1        7.15  5.41E-4    0.396\n"
       ]
      },
      {
       "output_type": "stream",
       "stream": "stdout",
       "text": [
        "warc[SCI,1][1333,*]    57/57   49/57      -1.08        7.02  5.32E-4    0.251\n"
       ]
      },
      {
       "output_type": "stream",
       "stream": "stdout",
       "text": [
        "warc[SCI,1][1343,*]    57/57   51/57      -1.07        6.94  5.26E-4    0.307\n"
       ]
      },
      {
       "output_type": "stream",
       "stream": "stdout",
       "text": [
        "warc[SCI,1][1353,*]    57/57   53/57      -1.07        6.95  5.28E-4    0.409\n"
       ]
      },
      {
       "output_type": "stream",
       "stream": "stdout",
       "text": [
        "warc[SCI,1][1363,*]    57/57   51/57      -1.07        6.94  5.28E-4    0.322\n"
       ]
      },
      {
       "output_type": "stream",
       "stream": "stdout",
       "text": [
        "warc[SCI,1][1373,*]    57/57   53/57      -1.08        7.01  5.34E-4    0.374\n"
       ]
      },
      {
       "output_type": "stream",
       "stream": "stdout",
       "text": [
        "warc[SCI,1][1383,*]    57/57   52/57      -1.08        7.01  5.35E-4     0.38\n"
       ]
      },
      {
       "output_type": "stream",
       "stream": "stdout",
       "text": [
        "warc[SCI,1][1393,*]    57/57   53/57      -1.09        7.09  5.41E-4    0.399\n"
       ]
      },
      {
       "output_type": "stream",
       "stream": "stdout",
       "text": [
        "warc[SCI,1][1403,*]    57/57   54/57      -1.09        7.08  5.42E-4    0.423\n"
       ]
      },
      {
       "output_type": "stream",
       "stream": "stdout",
       "text": [
        "warc[SCI,1][1413,*]    57/57   55/57      -1.04        6.77  5.19E-4    0.484\n"
       ]
      },
      {
       "output_type": "stream",
       "stream": "stdout",
       "text": [
        "warc[SCI,1][1423,*]    57/57   55/57      -1.02        6.66  5.12E-4    0.472\n"
       ]
      },
      {
       "output_type": "stream",
       "stream": "stdout",
       "text": [
        "warc[SCI,1][1433,*]    57/57   55/57      -1.05         6.8  5.23E-4    0.464\n"
       ]
      },
      {
       "output_type": "stream",
       "stream": "stdout",
       "text": [
        "warc[SCI,1][1443,*]    57/57   54/57      -1.03        6.69  5.16E-4    0.468\n"
       ]
      },
      {
       "output_type": "stream",
       "stream": "stdout",
       "text": [
        "warc[SCI,1][1453,*]    57/57   54/57      -1.03        6.66  5.15E-4    0.445\n"
       ]
      },
      {
       "output_type": "stream",
       "stream": "stdout",
       "text": [
        "warc[SCI,1][1463,*]    57/57   55/57      -1.01        6.58  5.10E-4    0.464\n"
       ]
      },
      {
       "output_type": "stream",
       "stream": "stdout",
       "text": [
        "\n",
        "NSWHELPER Exit status good\n",
        "-------------------------------------------------------------------------------\n",
        "\n",
        "NSWAVELENGTH Exit status good\n",
        "-------------------------------------------------------------------------------\n"
       ]
      }
     ],
     "prompt_number": 15
    },
    {
     "cell_type": "heading",
     "level": 2,
     "metadata": {},
     "source": [
      "Test recovery of a calibrated arc"
     ]
    },
    {
     "cell_type": "markdown",
     "metadata": {},
     "source": [
      "Confirm that applying the wavelength solution to the arc itself recovers a correctly wavelength-calibrated arc.  The key step is **<code>nsfitcoords</code>**.  The default **<code>lxorder</code>** and **<code>lyorder</code>** are both set to 2 which doesn't seem to be correct.  Running **<code>nsfitcoords</code>** interactively on the arc will allow us to discover the best **<code>lxorder</code>** and **<code>lyorder</code>** for this wavelength solution, and use that as a starting point later when using the arc wavelength solution (**<code>warc.fits</code>**) on the telluric and the science."
     ]
    },
    {
     "cell_type": "markdown",
     "metadata": {},
     "source": [
      "Cut and paste these instructions in the PyRAF session that we prepared in Step 0. \n",
      "\n",
      "    iraf.imdelete('farc.fits', verify='no')\n",
      "    iraf.nsfitcoords('arc.fits', lamptransf='warc.fits', fl_inter='yes')\n",
      "    # Note down the xorder and yorder needed for a good fit.  Use\n",
      "    # that whenever warc.fits is used by nsfitcoords.\n",
      "    # :xorder 3, :yorder 8\n",
      "\n",
      "\n",
      "The yorder is probably a bit high, but it definitely removes any trace of a wave pattern..."
     ]
    },
    {
     "cell_type": "markdown",
     "metadata": {},
     "source": [
      "Record the lxorder and lyorder in the notebook session for future use."
     ]
    },
    {
     "cell_type": "code",
     "collapsed": false,
     "input": [
      "lxorder=3 ; lyorder=8"
     ],
     "language": "python",
     "metadata": {},
     "outputs": [],
     "prompt_number": 16
    },
    {
     "cell_type": "code",
     "collapsed": false,
     "input": [
      "iraf.imdelete('tfarc.fits', verify='no')\n",
      "iraf.nstransform('farc.fits')\n",
      "iraf.display('tfarc.fits[sci,1]', 1)"
     ],
     "language": "python",
     "metadata": {},
     "outputs": [
      {
       "output_type": "stream",
       "stream": "stdout",
       "text": [
        "-------------------------------------------------------------------------------\n",
        "NSTRANSFORM -- Mon Oct 12 14:32:55 HST 2015\n",
        "\n",
        "Using input files:"
       ]
      },
      {
       "output_type": "stream",
       "stream": "stdout",
       "text": [
        "\n",
        "farc\n"
       ]
      },
      {
       "output_type": "stream",
       "stream": "stdout",
       "text": [
        "Using output files:\n",
        "tfarc\n"
       ]
      },
      {
       "output_type": "stream",
       "stream": "stdout",
       "text": [
        "NSTRANSFORM: Fitnames for farc: farc_SCI_1_lamp\n",
        "WARNING - NSTRANSFORM: No MDF in farc"
       ]
      },
      {
       "output_type": "stream",
       "stream": "stdout",
       "text": [
        "\n"
       ]
      },
      {
       "output_type": "stream",
       "stream": "stdout",
       "text": [
        "NSTRANSFORM: Exit status good\n",
        "-------------------------------------------------------------------------------\n"
       ]
      },
      {
       "output_type": "stream",
       "stream": "stdout",
       "text": [
        "z1=0. z2=1170.976\n"
       ]
      }
     ],
     "prompt_number": 17
    },
    {
     "cell_type": "code",
     "collapsed": false,
     "input": [
      "# display the first telluric to identify on which column the spectrum falls in\n",
      "# the A position.\n",
      "first_tel = iraf.head('tel.lis', nlines=1, Stdout=1)[0].strip()\n",
      "iraf.display('f'+first_tel+'[1]', 1)"
     ],
     "language": "python",
     "metadata": {},
     "outputs": [
      {
       "output_type": "stream",
       "stream": "stdout",
       "text": [
        "z1=-74. z2=298.8223\n"
       ]
      }
     ],
     "prompt_number": 18
    },
    {
     "cell_type": "code",
     "collapsed": false,
     "input": [
      "# UPDATE POSITION OF TELLURIC\n",
      "# position of the telluric is column 951 (around the center of the frame)\n",
      "iraf.tel_position = 951"
     ],
     "language": "python",
     "metadata": {},
     "outputs": [],
     "prompt_number": 19
    },
    {
     "cell_type": "code",
     "collapsed": false,
     "input": [
      "iraf.splot('tfarc.fits[sci,1]', line=iraf.tel_position, options=\"auto wreset flip\")"
     ],
     "language": "python",
     "metadata": {},
     "outputs": [
      {
       "output_type": "stream",
       "stream": "stdout",
       "text": [
        "window:"
       ]
      },
      {
       "output_type": "stream",
       "stream": "stdout",
       "text": [
        "again:"
       ]
      },
      {
       "output_type": "stream",
       "stream": "stdout",
       "text": [
        "k again:"
       ]
      },
      {
       "output_type": "stream",
       "stream": "stdout",
       "text": [
        "\n",
        "1: center =   13371., flux =  132666., eqw =  -82.9, gfwhm =  10.54"
       ]
      },
      {
       "output_type": "stream",
       "stream": "stdout",
       "text": [
        "window:"
       ]
      },
      {
       "output_type": "stream",
       "stream": "stdout",
       "text": [
        "k again:"
       ]
      },
      {
       "output_type": "stream",
       "stream": "stdout",
       "text": [
        "\n",
        "1: center =  16931.4, flux =  670232., eqw = -731.4, gfwhm =   61.8"
       ]
      },
      {
       "output_type": "stream",
       "stream": "stdout",
       "text": [
        "window:"
       ]
      },
      {
       "output_type": "stream",
       "stream": "stdout",
       "text": [
        "again:"
       ]
      },
      {
       "output_type": "stream",
       "stream": "stdout",
       "text": [
        "k again:"
       ]
      },
      {
       "output_type": "stream",
       "stream": "stdout",
       "text": [
        "\n",
        "1: center =  16945.5, flux =  208764., eqw = -57.07, gfwhm =  17.34"
       ]
      },
      {
       "output_type": "stream",
       "stream": "stdout",
       "text": [
        "window:"
       ]
      },
      {
       "output_type": "stream",
       "stream": "stdout",
       "text": [
        "window:"
       ]
      },
      {
       "output_type": "stream",
       "stream": "stdout",
       "text": [
        "again:"
       ]
      },
      {
       "output_type": "stream",
       "stream": "stdout",
       "text": [
        "k again:"
       ]
      },
      {
       "output_type": "stream",
       "stream": "stdout",
       "text": [
        "\n",
        "1: center =  10472.1, flux =   94027., eqw = -128.6, gfwhm =  19.41"
       ]
      }
     ],
     "prompt_number": 20
    },
    {
     "cell_type": "markdown",
     "metadata": {},
     "source": [
      "Check that the arc lines are at the correct wavelength. Use '<code>k</code>' on each side of the a line to get the centroid. Then compare with the line list and the diagrams.\n",
      "\n",
      "Resource:  \n",
      "    http://www.gemini.edu/sciops/instruments/niri/?q=node/10166\n",
      "\n",
      "The NIRI plots from that webpage work well.\n",
      "\n",
      "*Result: (Kathleen)\n",
      "The arc gets transformed correctly with lxorder=3, lyorder=8.  Just quicklook for now, I have not looked carefully at the blue and red end, and I have not looked for an absolute offset.  I do notice that the lines are asymmetric at the blue and red end. "
     ]
    },
    {
     "cell_type": "heading",
     "level": 2,
     "metadata": {},
     "source": [
      "STEP 9: Reduce the science data"
     ]
    },
    {
     "cell_type": "code",
     "collapsed": false,
     "input": [
      "iraf.imdelete('df@obj.lis', verify='no')\n",
      "iraf.nsreduce('f@obj.lis', outprefix='d', fl_cut='no', fl_process_cut='no', \\\n",
      "    fl_dark='yes', darkimage='objdark.fits', fl_sky='no', fl_flat='no')\n",
      "\n",
      "iraf.imdelete('rdf@obj.lis', verify='no')\n",
      "iraf.nsreduce('df@obj.lis', fl_cut='yes', fl_dark='no', fl_sky='yes', \\\n",
      "    fl_flat='yes', flatimage='flat.fits')"
     ],
     "language": "python",
     "metadata": {},
     "outputs": [
      {
       "output_type": "stream",
       "stream": "stdout",
       "text": [
        "-------------------------------------------------------------------------------\n",
        "NSREDUCE -- Mon Oct 12 14:37:51 HST 2015\n",
        " \n",
        "NSREDUCE: Processing 4 extension(s) from 4 file(s)."
       ]
      },
      {
       "output_type": "stream",
       "stream": "stdout",
       "text": [
        "\n"
       ]
      },
      {
       "output_type": "stream",
       "stream": "stdout",
       "text": [
        "NSREDUCE: slit: 2pix-slit\n",
        "NSREDUCE: filter: JH\n",
        "\n",
        "   n input                   --> output                  sky image\n",
        " dark                    flat                    scale\n",
        "\n",
        "   1 fS20150730S0284         --> dfS20150730S0284        none                   \n",
        " objdark                 none                    1.0000 \n",
        "   2 fS20150730S0285         --> dfS20150730S0285        none                   "
       ]
      },
      {
       "output_type": "stream",
       "stream": "stdout",
       "text": [
        "\n",
        " objdark                 none                    1.0000 \n",
        "   3 fS20150730S0286         --> dfS20150730S0286        none                   "
       ]
      },
      {
       "output_type": "stream",
       "stream": "stdout",
       "text": [
        "\n",
        " objdark                 none                    1.0000 \n",
        "   4 fS20150730S0287         --> dfS20150730S0287        none                   "
       ]
      },
      {
       "output_type": "stream",
       "stream": "stdout",
       "text": [
        "\n",
        " objdark                 none                    1.0000 \n"
       ]
      },
      {
       "output_type": "stream",
       "stream": "stdout",
       "text": [
        " \n",
        "NSREDUCE exit status: good.\n",
        "------------------------------------------------------------------------------\n",
        "-------------------------------------------------------------------------------"
       ]
      },
      {
       "output_type": "stream",
       "stream": "stdout",
       "text": [
        "\n",
        "NSREDUCE -- Mon Oct 12 14:38:00 HST 2015\n",
        " \n",
        "----------------------------------------------------------------------------"
       ]
      },
      {
       "output_type": "stream",
       "stream": "stdout",
       "text": [
        "\n",
        "F2CUT -- Mon Oct 12 14:38:01 HST 2015\n",
        " \n",
        "\n",
        "Pixel scale: 0.1797"
       ]
      },
      {
       "output_type": "stream",
       "stream": "stdout",
       "text": [
        "\n",
        "Grism: JH_G5801\n",
        "Filter: JH\n",
        "\n",
        "dfS20150730S0284 --> dfS20150730S0284-58249_619"
       ]
      },
      {
       "output_type": "stream",
       "stream": "stdout",
       "text": [
        "\n",
        " [SCI,1][42:1507,367:1620] --> [SCI,1]\n",
        "dfS20150730S0285 --> dfS20150730S0285-58249_621"
       ]
      },
      {
       "output_type": "stream",
       "stream": "stdout",
       "text": [
        "\n",
        "dfS20150730S0286 --> dfS20150730S0286-58249_623"
       ]
      },
      {
       "output_type": "stream",
       "stream": "stdout",
       "text": [
        "\n",
        "dfS20150730S0287 --> dfS20150730S0287-58249_625"
       ]
      },
      {
       "output_type": "stream",
       "stream": "stdout",
       "text": [
        "\n"
       ]
      },
      {
       "output_type": "stream",
       "stream": "stdout",
       "text": [
        " \n",
        "F2CUT exit status: good.\n",
        "----------------------------------------------------------------------------\n",
        "------------------------------------------------------------------------------\n",
        "NSAPPWAVE -- Mon Oct 12 14:38:06 HST 2015"
       ]
      },
      {
       "output_type": "stream",
       "stream": "stdout",
       "text": [
        "\n",
        " \n"
       ]
      },
      {
       "output_type": "stream",
       "stream": "stdout",
       "text": [
        "NSAPPWAVE: Processing 4 extension(s) from 4 file(s).\n",
        "  Camera     Grating    Filter     Prism      FPMask     Wave   Delta Order Axis\n",
        "dfS20150730S0284-58249_619 -> dfS20150730S0284-58249_620 ( 1)"
       ]
      },
      {
       "output_type": "stream",
       "stream": "stdout",
       "text": [
        "\n",
        "  f/16_G5830   JH_G5801         JH             2pix-slit 13900.00 -6.67 INDEF 2\n"
       ]
      },
      {
       "output_type": "stream",
       "stream": "stdout",
       "text": [
        "NSAPPWAVE: cradius not from table for dfS20150730S0284-58249_619.\n",
        "           (further table messages supressed for this file).\n",
        "  extension  1: 13900.000000 -6.667000 INDEF\n",
        "dfS20150730S0285-58249_621 -> dfS20150730S0285-58249_622 ( 1)"
       ]
      },
      {
       "output_type": "stream",
       "stream": "stdout",
       "text": [
        "\n",
        "  f/16_G5830   JH_G5801         JH             2pix-slit 13900.00 -6.67 INDEF 2\n"
       ]
      },
      {
       "output_type": "stream",
       "stream": "stdout",
       "text": [
        "NSAPPWAVE: cradius not from table for dfS20150730S0285-58249_621.\n",
        "           (further table messages supressed for this file).\n",
        "  extension  1: 13900.000000 -6.667000 INDEF\n",
        "dfS20150730S0286-58249_623 -> dfS20150730S0286-58249_624 ( 1)"
       ]
      },
      {
       "output_type": "stream",
       "stream": "stdout",
       "text": [
        "\n",
        "  f/16_G5830   JH_G5801         JH             2pix-slit 13900.00 -6.67 INDEF 2\n"
       ]
      },
      {
       "output_type": "stream",
       "stream": "stdout",
       "text": [
        "NSAPPWAVE: cradius not from table for dfS20150730S0286-58249_623.\n",
        "           (further table messages supressed for this file).\n",
        "  extension  1: 13900.000000 -6.667000 INDEF\n",
        "dfS20150730S0287-58249_625 -> dfS20150730S0287-58249_626 ( 1)"
       ]
      },
      {
       "output_type": "stream",
       "stream": "stdout",
       "text": [
        "\n",
        "  f/16_G5830   JH_G5801         JH             2pix-slit 13900.00 -6.67 INDEF 2\n"
       ]
      },
      {
       "output_type": "stream",
       "stream": "stdout",
       "text": [
        "NSAPPWAVE: cradius not from table for dfS20150730S0287-58249_625.\n",
        "           (further table messages supressed for this file).\n",
        "  extension  1: 13900.000000 -6.667000 INDEF\n"
       ]
      },
      {
       "output_type": "stream",
       "stream": "stdout",
       "text": [
        "\n",
        "NSAPPWAVE Exit status good\n",
        "------------------------------------------------------------------------------\n",
        "NSREDUCE: Generating the sky frame(s) using the other nod positions\n",
        "          (separations greater than 1.5 arcsec) from neighbouring\n",
        "          exposures.\n",
        "\n",
        "------------------------------------------------------------------------------"
       ]
      },
      {
       "output_type": "stream",
       "stream": "stdout",
       "text": [
        "\n",
        "NSSKY -- Mon Oct 12 14:38:19 HST 2015\n",
        " \n",
        "WARNING - NSSKY: Will take sky from input images\n",
        "NSSKY: Obs time for dfS20150730S0284-58249_620.fits[0]:  6:54:41.8"
       ]
      },
      {
       "output_type": "stream",
       "stream": "stdout",
       "text": [
        "\n",
        "NSSKY: Obs time for dfS20150730S0285-58249_622.fits[0]:  6:57:37.8  0:02:56.0\n",
        "NSSKY: Obs time for dfS20150730S0286-58249_624.fits[0]:  7:00:30.8  0:02:53.0\n",
        "NSSKY: Obs time for dfS20150730S0287-58249_626.fits[0]:  7:03:47.3  0:03:16.5\n",
        "NSSKY: Min/max:  0:02:53.0/ 0:03:16.5\n",
        "NSSKY: Using observations within 196.5s as sky.\n",
        "NSSKY: Grouping images (please wait).\n"
       ]
      },
      {
       "output_type": "stream",
       "stream": "stdout",
       "text": [
        "WARNING - GEMCOMBINE: five or less images to combine.\n"
       ]
      },
      {
       "output_type": "stream",
       "stream": "stdout",
       "text": [
        "WARNING - GEMCOMBINE: five or less images to combine.\n"
       ]
      },
      {
       "output_type": "stream",
       "stream": "stdout",
       "text": [
        " \n",
        "NSSKY exit status: good.\n",
        "NSREDUCE: Processing 4 extension(s) from 4 file(s)."
       ]
      },
      {
       "output_type": "stream",
       "stream": "stdout",
       "text": [
        "\n"
       ]
      },
      {
       "output_type": "stream",
       "stream": "stdout",
       "text": [
        "NSREDUCE: slit: 2pix-slit\n",
        "NSREDUCE: filter: JH\n",
        "\n",
        "   n input                   --> output                  sky image\n",
        " dark                    flat                    scale\n",
        "\n",
        "   1 dfS20150730S0284        --> rdfS20150730S0284       dfS20150730S0285-58249_622\n",
        " none                    flat                    1.0000 \n",
        "   2 dfS20150730S0285        --> rdfS20150730S0285       dfS20150730S0284-58249_620"
       ]
      },
      {
       "output_type": "stream",
       "stream": "stdout",
       "text": [
        "\n",
        "                             -->                         dfS20150730S0286-58249_624\n",
        " none                    flat                    1.0000 \n",
        "   3 dfS20150730S0286        --> rdfS20150730S0286       dfS20150730S0285-58249_622"
       ]
      },
      {
       "output_type": "stream",
       "stream": "stdout",
       "text": [
        "\n",
        "                             -->                         dfS20150730S0287-58249_626\n",
        " none                    flat                    1.0000 \n",
        "   4 dfS20150730S0287        --> rdfS20150730S0287       dfS20150730S0286-58249_624"
       ]
      },
      {
       "output_type": "stream",
       "stream": "stdout",
       "text": [
        "\n",
        " none                    flat                    1.0000 \n"
       ]
      },
      {
       "output_type": "stream",
       "stream": "stdout",
       "text": [
        " \n",
        "NSREDUCE exit status: good.\n",
        "------------------------------------------------------------------------------\n"
       ]
      }
     ],
     "prompt_number": 21
    },
    {
     "cell_type": "heading",
     "level": 2,
     "metadata": {},
     "source": [
      "STEP 10: Combine the science data"
     ]
    },
    {
     "cell_type": "markdown",
     "metadata": {},
     "source": [
      "The <code>rejtype</code> is set to <code>minmax</code> in the example included in the Gemini IRAF package.  Kathleen finds that for faint targets, that does not work at all.  Therefore, here we set <code>rejtype</code> to <code>none</code> which seems to work well."
     ]
    },
    {
     "cell_type": "code",
     "collapsed": false,
     "input": [
      "iraf.imdelete('obj_comb.fits', verify='no')\n",
      "iraf.nscombine('rdf@obj.lis', output='obj_comb.fits', fl_shiftint='no', \\\n",
      "    fl_cross='no', rejtype='none')\n",
      "\n",
      "iraf.display('obj_comb.fits[SCI,1]', 1)"
     ],
     "language": "python",
     "metadata": {},
     "outputs": [
      {
       "output_type": "stream",
       "stream": "stdout",
       "text": [
        "--------------------------------------------------------------------------------\n",
        "NSCOMBINE: Mon Oct 12 14:38:45 HST 2015\n",
        " \n",
        "Shifting and combining to single file.\n",
        "Input images = rdf@obj.lis\n",
        "rdfS20150730S0284\n"
       ]
      },
      {
       "output_type": "stream",
       "stream": "stdout",
       "text": [
        "rdfS20150730S0285\n"
       ]
      },
      {
       "output_type": "stream",
       "stream": "stdout",
       "text": [
        "rdfS20150730S0286\n"
       ]
      },
      {
       "output_type": "stream",
       "stream": "stdout",
       "text": [
        "rdfS20150730S0287\n"
       ]
      },
      {
       "output_type": "stream",
       "stream": "stdout",
       "text": [
        "Bad pixel mask = \n",
        "Offset tolerance = 0.5\n",
        "Statistics section = [*,*]\n",
        "Combine algorithm = average\n",
        "Rejection algorithm = none\n",
        "Use integer pixel shifts? no\n",
        "Boundary extension  = nearest\n",
        "NSCOMBINE: Unshifted images:"
       ]
      },
      {
       "output_type": "stream",
       "stream": "stdout",
       "text": [
        "\n",
        "rdfS20150730S0284\n",
        "rdfS20150730S0287\n"
       ]
      },
      {
       "output_type": "stream",
       "stream": "stdout",
       "text": [
        "WARNING - NSCOMBINE: Non-zero shift in dispersion direction: -19.9777406789\n",
        "                     (setting to zero)\n",
        "NSCOMBINE: Images shifted by -110.628825821,0.0:\n",
        "rdfS20150730S0285\n"
       ]
      },
      {
       "output_type": "stream",
       "stream": "stdout",
       "text": [
        "10% "
       ]
      },
      {
       "output_type": "stream",
       "stream": "stdout",
       "text": [
        "20% "
       ]
      },
      {
       "output_type": "stream",
       "stream": "stdout",
       "text": [
        "30% "
       ]
      },
      {
       "output_type": "stream",
       "stream": "stdout",
       "text": [
        "40% "
       ]
      },
      {
       "output_type": "stream",
       "stream": "stdout",
       "text": [
        "50% "
       ]
      },
      {
       "output_type": "stream",
       "stream": "stdout",
       "text": [
        "60% "
       ]
      },
      {
       "output_type": "stream",
       "stream": "stdout",
       "text": [
        "70% "
       ]
      },
      {
       "output_type": "stream",
       "stream": "stdout",
       "text": [
        "80% "
       ]
      },
      {
       "output_type": "stream",
       "stream": "stdout",
       "text": [
        "90% "
       ]
      },
      {
       "output_type": "stream",
       "stream": "stdout",
       "text": [
        "100% "
       ]
      },
      {
       "output_type": "stream",
       "stream": "stdout",
       "text": [
        "- done\n"
       ]
      },
      {
       "output_type": "stream",
       "stream": "stdout",
       "text": [
        "WARNING - NSCOMBINE: Non-zero shift in dispersion direction: 0.16694490818\n",
        "                     (setting to zero)\n",
        "NSCOMBINE: Images shifted by -110.795770729,0.0:\n",
        "rdfS20150730S0286\n"
       ]
      },
      {
       "output_type": "stream",
       "stream": "stdout",
       "text": [
        "10% "
       ]
      },
      {
       "output_type": "stream",
       "stream": "stdout",
       "text": [
        "20% "
       ]
      },
      {
       "output_type": "stream",
       "stream": "stdout",
       "text": [
        "30% "
       ]
      },
      {
       "output_type": "stream",
       "stream": "stdout",
       "text": [
        "40% "
       ]
      },
      {
       "output_type": "stream",
       "stream": "stdout",
       "text": [
        "50% "
       ]
      },
      {
       "output_type": "stream",
       "stream": "stdout",
       "text": [
        "60% "
       ]
      },
      {
       "output_type": "stream",
       "stream": "stdout",
       "text": [
        "70% "
       ]
      },
      {
       "output_type": "stream",
       "stream": "stdout",
       "text": [
        "80% "
       ]
      },
      {
       "output_type": "stream",
       "stream": "stdout",
       "text": [
        "90% "
       ]
      },
      {
       "output_type": "stream",
       "stream": "stdout",
       "text": [
        "100% "
       ]
      },
      {
       "output_type": "stream",
       "stream": "stdout",
       "text": [
        "- done\n"
       ]
      },
      {
       "output_type": "stream",
       "stream": "stdout",
       "text": [
        "WARNING - GEMCOMBINE: five or less images to combine.\n"
       ]
      },
      {
       "output_type": "stream",
       "stream": "stdout",
       "text": [
        "NSCOMBINE: Exit status good.\n",
        "--------------------------------------------------------------------------------\n",
        "z1=-20.11952 z2=21.09363\n"
       ]
      }
     ],
     "prompt_number": 22
    },
    {
     "cell_type": "heading",
     "level": 2,
     "metadata": {},
     "source": [
      "STEP 11: Wavelength calibrate the science data"
     ]
    },
    {
     "cell_type": "markdown",
     "metadata": {},
     "source": [
      "It is assumed that the arc has been taken right after (or before) the science observations, without anything moving in-between, other than getting the arc in the field of view.  \n",
      "\n",
      "While the OH sky lines could be used, the coverage is not always adequate across the dispersion axis and the sky lines tend to be a bit broader than the arc lines. "
     ]
    },
    {
     "cell_type": "heading",
     "level": 4,
     "metadata": {},
     "source": [
      "Apply the wavelength solution from the arc to the combined science frame."
     ]
    },
    {
     "cell_type": "code",
     "collapsed": false,
     "input": [
      "iraf.imdelete('fobj_comb.fits', verify='no')\n",
      "iraf.nsfitcoords('obj_comb.fits', lamptransf='warc.fits', lxorder=lxorder, lyorder=lyorder)\n",
      "\n",
      "iraf.imdelete('tfobj_comb.fits', verify='no')\n",
      "iraf.nstransform('fobj_comb.fits')"
     ],
     "language": "python",
     "metadata": {},
     "outputs": [
      {
       "output_type": "stream",
       "stream": "stdout",
       "text": [
        "-------------------------------------------------------------------------------\n",
        "NSFITCOORDS -- Mon Oct 12 14:39:01 HST 2015\n"
       ]
      },
      {
       "output_type": "stream",
       "stream": "stdout",
       "text": [
        "\n",
        "Using input files:"
       ]
      },
      {
       "output_type": "stream",
       "stream": "stdout",
       "text": [
        "\n",
        "obj_comb\n"
       ]
      },
      {
       "output_type": "stream",
       "stream": "stdout",
       "text": [
        "Using output files:\n",
        "fobj_comb\n"
       ]
      },
      {
       "output_type": "stream",
       "stream": "stdout",
       "text": [
        "NSFITCOORDS: Fitnames for obj_comb: fobj_comb_SCI_1_lamp\n"
       ]
      },
      {
       "output_type": "stream",
       "stream": "stdout",
       "text": [
        "NSFITCOORDS: Exit status good\n",
        "-------------------------------------------------------------------------------\n"
       ]
      },
      {
       "output_type": "stream",
       "stream": "stdout",
       "text": [
        "-------------------------------------------------------------------------------\n",
        "NSTRANSFORM -- Mon Oct 12 14:39:02 HST 2015\n"
       ]
      },
      {
       "output_type": "stream",
       "stream": "stdout",
       "text": [
        "\n",
        "Using input files:"
       ]
      },
      {
       "output_type": "stream",
       "stream": "stdout",
       "text": [
        "\n",
        "fobj_comb\n"
       ]
      },
      {
       "output_type": "stream",
       "stream": "stdout",
       "text": [
        "Using output files:\n",
        "tfobj_comb\n"
       ]
      },
      {
       "output_type": "stream",
       "stream": "stdout",
       "text": [
        "NSTRANSFORM: Fitnames for fobj_comb: fobj_comb_SCI_1_lamp\n",
        "WARNING - NSTRANSFORM: No MDF in fobj_comb"
       ]
      },
      {
       "output_type": "stream",
       "stream": "stdout",
       "text": [
        "\n"
       ]
      },
      {
       "output_type": "stream",
       "stream": "stdout",
       "text": [
        "NSTRANSFORM: Exit status good\n",
        "-------------------------------------------------------------------------------\n"
       ]
      }
     ],
     "prompt_number": 23
    },
    {
     "cell_type": "heading",
     "level": 2,
     "metadata": {},
     "source": [
      "STEP 12: Extract the science spectrum"
     ]
    },
    {
     "cell_type": "markdown",
     "metadata": {},
     "source": [
      "For faint science spectra, the telluric can be used as a reference when extracting the science spectrum; set <code>trace=tftel_comb.fits</code>.  Note that you will need to reduce the telluric first (Steps 13-17).\n",
      "\n",
      "Continue below if the science spectrum is strong enough to be traced.  (The most common case.)"
     ]
    },
    {
     "cell_type": "code",
     "collapsed": false,
     "input": [
      "iraf.display('tfobj_comb.fits[sci,1]', 1)"
     ],
     "language": "python",
     "metadata": {},
     "outputs": [
      {
       "output_type": "stream",
       "stream": "stdout",
       "text": [
        "z1=-19.60854 z2=20.03711\n"
       ]
      }
     ],
     "prompt_number": 24
    },
    {
     "cell_type": "markdown",
     "metadata": {},
     "source": [
      "Can see a nice signal on the 2D image.  A bit noisy.  Can see an emission line."
     ]
    },
    {
     "cell_type": "markdown",
     "metadata": {},
     "source": [
      "For this extraction, one needs to:\n",
      "1. delete, '`d`', the aperture automatically selected.  It selects some random spike at the far left of the cross-section.\n",
      "1. mark, '`m`', the real location of the science spectrum, around column 956.\n",
      "1. adjust with '`u`' and '`l`', the width of the aperture, it seems a bit too wide."
     ]
    },
    {
     "cell_type": "code",
     "collapsed": false,
     "input": [
      "iraf.imdelete('xtfobj_comb.fits', verify='no')\n",
      "iraf.nsextract('tfobj_comb.fits', fl_apall='yes', fl_findneg='no', \\\n",
      "               fl_inter='yes', fl_trace='yes')\n",
      "\n",
      "iraf.splot('xtfobj_comb.fits[SCI,1]')"
     ],
     "language": "python",
     "metadata": {},
     "outputs": [
      {
       "output_type": "stream",
       "stream": "stdout",
       "text": [
        "-------------------------------------------------------------------------------\n",
        "NSEXTRACT -- Mon Oct 12 14:39:36 HST 2015\n",
        " \n"
       ]
      },
      {
       "output_type": "stream",
       "stream": "stdout",
       "text": [
        "WARNING - NSEXTRACT: Output variance planes derived from apall rather than input variance plane.\n",
        "Using input files:\n",
        "tfobj_comb 1 no\n"
       ]
      },
      {
       "output_type": "stream",
       "stream": "stdout",
       "text": [
        "Using output files:\n",
        "xtfobj_comb\n"
       ]
      },
      {
       "output_type": "stream",
       "stream": "stdout",
       "text": [
        "\n",
        "Searching aperture database ...\n"
       ]
      },
      {
       "output_type": "stream",
       "stream": "stderr",
       "text": [
        "Find apertures for tmpscivar58249_898?"
       ]
      },
      {
       "output_type": "stream",
       "stream": "stdout",
       "text": [
        "Finding apertures ...\n"
       ]
      },
      {
       "output_type": "stream",
       "stream": "stdout",
       "text": [
        "Oct 12 14:39: FIND - 1 apertures found for tmpscivar58249_898\n"
       ]
      },
      {
       "output_type": "stream",
       "stream": "stderr",
       "text": [
        "Resize apertures for tmpscivar58249_898?"
       ]
      },
      {
       "output_type": "stream",
       "stream": "stdout",
       "text": [
        "Resizing apertures ...\n"
       ]
      },
      {
       "output_type": "stream",
       "stream": "stdout",
       "text": [
        "Oct 12 14:39: APRESIZE  - 1 apertures resized for tmpscivar58249_898 (-0.79, 1.03)\n"
       ]
      },
      {
       "output_type": "stream",
       "stream": "stderr",
       "text": [
        "Edit apertures for tmpscivar58249_898?"
       ]
      },
      {
       "output_type": "stream",
       "stream": "stdout",
       "text": [
        "     aperture = 1  beam = 1  center = 247.88  low = -0.79  upper = 1.03\n"
       ]
      },
      {
       "output_type": "stream",
       "stream": "stdout",
       "text": [
        "window:"
       ]
      },
      {
       "output_type": "stream",
       "stream": "stdout",
       "text": [
        "again:"
       ]
      },
      {
       "output_type": "stream",
       "stream": "stdout",
       "text": [
        "     aperture = 1  beam = 1  center = 938.34  low = -10.00  upper = 10.00\n"
       ]
      },
      {
       "output_type": "stream",
       "stream": "stdout",
       "text": [
        "     aperture = 1  beam = 1  center = 938.34  low = -5.54  upper = 10.00\n"
       ]
      },
      {
       "output_type": "stream",
       "stream": "stdout",
       "text": [
        "     aperture = 1  beam = 1  center = 938.34  low = -5.54  upper = 4.91\n"
       ]
      },
      {
       "output_type": "stream",
       "stream": "stderr",
       "text": [
        "Trace apertures for tmpscivar58249_898?"
       ]
      },
      {
       "output_type": "stream",
       "stream": "stderr",
       "text": [
        "Fit traced positions for tmpscivar58249_898 interactively?"
       ]
      },
      {
       "output_type": "stream",
       "stream": "stdout",
       "text": [
        "Tracing apertures ...\n"
       ]
      },
      {
       "output_type": "stream",
       "stream": "stdout",
       "text": [
        "Oct 12 14:39: TRACE - Trace of aperture 1 in tmpscivar58249_898 lost at line 1250.\n"
       ]
      },
      {
       "output_type": "stream",
       "stream": "stderr",
       "text": [
        "Fit curve to aperture 1 of tmpscivar58249_898 interactively"
       ]
      },
      {
       "output_type": "stream",
       "stream": "stdout",
       "text": [
        "Oct 12 14:39: TRACE - 1 apertures traced in tmpscivar58249_898.\n"
       ]
      },
      {
       "output_type": "stream",
       "stream": "stderr",
       "text": [
        "Write apertures for tmpscivar58249_898 to JH221750_database"
       ]
      },
      {
       "output_type": "stream",
       "stream": "stdout",
       "text": [
        "Oct 12 14:39: DATABASE - 1 apertures for tmpscivar58249_898 written to JH221750_database\n"
       ]
      },
      {
       "output_type": "stream",
       "stream": "stderr",
       "text": [
        "Extract aperture spectra for tmpscivar58249_898?"
       ]
      },
      {
       "output_type": "stream",
       "stream": "stderr",
       "text": [
        "Review extracted spectra from tmpscivar58249_898?"
       ]
      },
      {
       "output_type": "stream",
       "stream": "stdout",
       "text": [
        "Extracting apertures ...\n"
       ]
      },
      {
       "output_type": "stream",
       "stream": "stderr",
       "text": [
        "Review extracted spectrum for aperture 1 from tmpscivar58249_898?"
       ]
      },
      {
       "output_type": "stream",
       "stream": "stdout",
       "text": [
        "Oct 12 14:40: EXTRACT - Aperture 1 from tmpscivar58249_898 --> tmpspeca58249_886\n"
       ]
      },
      {
       "output_type": "stream",
       "stream": "stdout",
       "text": [
        "Searching aperture database ...\n"
       ]
      },
      {
       "output_type": "stream",
       "stream": "stdout",
       "text": [
        "Oct 12 14:40: DATABASE  - 1 apertures read for tmpscivar58249_898 from JH221750_database\n"
       ]
      },
      {
       "output_type": "stream",
       "stream": "stdout",
       "text": [
        "Oct 12 14:40: DATABASE - 1 apertures for tfobj_comb[DQ,1] written to JH221750_database\n"
       ]
      },
      {
       "output_type": "stream",
       "stream": "stdout",
       "text": [
        "Extracting apertures ...\n"
       ]
      },
      {
       "output_type": "stream",
       "stream": "stdout",
       "text": [
        "Oct 12 14:40: EXTRACT - Aperture 1 from tfobj_comb[DQ,1] --> tmpspecdqa58249_890\n"
       ]
      },
      {
       "output_type": "stream",
       "stream": "stdout",
       "text": [
        "NSEXTRACT: Aperture centre at 938.342,500.0\n",
        "NSEXTRACT: S/N for xtfobj_comb: "
       ]
      },
      {
       "output_type": "stream",
       "stream": "stdout",
       "text": [
        "\n",
        "           from variance array:      4.99"
       ]
      },
      {
       "output_type": "stream",
       "stream": "stdout",
       "text": [
        "\n",
        "           from smoothed spectrum:   0.91\n"
       ]
      },
      {
       "output_type": "stream",
       "stream": "stdout",
       "text": [
        "\n",
        "NSEXTRACT: Exit status good\n",
        "-------------------------------------------------------------------------------\n",
        "window:"
       ]
      },
      {
       "output_type": "stream",
       "stream": "stdout",
       "text": [
        "again:"
       ]
      }
     ],
     "prompt_number": 25
    },
    {
     "cell_type": "heading",
     "level": 4,
     "metadata": {},
     "source": [
      "The F2 IRAF package does not clean up the WCS properly.  We do this now."
     ]
    },
    {
     "cell_type": "code",
     "collapsed": false,
     "input": [
      "iraf.hedit('xtfobj_comb.fits[sci,1]', 'CD2_2', delete='yes',\\\n",
      "            verify='no',update='yes')\n",
      "iraf.hedit('xtfobj_comb.fits[sci,1]', 'CTYPE2', delete='yes',\\\n",
      "           verify='no',update='yes')\n",
      "iraf.hedit('xtfobj_comb.fits[sci,1]', 'LTM2_2', delete='yes',\\\n",
      "           verify='no',update='yes')\n",
      "iraf.hedit('xtfobj_comb.fits[var,1]', 'CD2_2', delete='yes',\\\n",
      "           verify='no',update='yes')\n",
      "iraf.hedit('xtfobj_comb.fits[var,1]', 'CTYPE2', delete='yes',\\\n",
      "           verify='no',update='yes')\n",
      "iraf.hedit('xtfobj_comb.fits[var,1]', 'LTM2_2', delete='yes',\\\n",
      "           verify='no',update='yes')"
     ],
     "language": "python",
     "metadata": {},
     "outputs": [
      {
       "output_type": "stream",
       "stream": "stdout",
       "text": [
        "xtfobj_comb.fits[sci,1],CD2_2 deleted\n",
        "xtfobj_comb.fits[sci,1] updated\n"
       ]
      },
      {
       "output_type": "stream",
       "stream": "stdout",
       "text": [
        "xtfobj_comb.fits[sci,1],CTYPE2 deleted\n",
        "xtfobj_comb.fits[sci,1] updated\n"
       ]
      },
      {
       "output_type": "stream",
       "stream": "stdout",
       "text": [
        "xtfobj_comb.fits[sci,1],LTM2_2 deleted\n",
        "xtfobj_comb.fits[sci,1] updated\n"
       ]
      },
      {
       "output_type": "stream",
       "stream": "stdout",
       "text": [
        "xtfobj_comb.fits[var,1],CD2_2 deleted\n",
        "xtfobj_comb.fits[var,1] updated\n"
       ]
      },
      {
       "output_type": "stream",
       "stream": "stdout",
       "text": [
        "xtfobj_comb.fits[var,1],CTYPE2 deleted\n",
        "xtfobj_comb.fits[var,1] updated\n"
       ]
      },
      {
       "output_type": "stream",
       "stream": "stdout",
       "text": [
        "xtfobj_comb.fits[var,1],LTM2_2 deleted\n",
        "xtfobj_comb.fits[var,1] updated\n"
       ]
      }
     ],
     "prompt_number": 26
    },
    {
     "cell_type": "code",
     "collapsed": false,
     "input": [
      "!splot xtfobj_comb.fits -l quasar -z 0.60065 -y -50 500 --variance 2"
     ],
     "language": "python",
     "metadata": {},
     "outputs": [
      {
       "output_type": "stream",
       "stream": "stdout",
       "text": [
        "\u001b[0;33mWARNING\u001b[0m: FITSFixedWarning: RADECSYS= 'FK5 ' / R.A./DEC. coordinate system reference \r\n",
        "RADECSYS is non-standard, use RADESYSa. [astropy.wcs.wcs]\r\n",
        "\u001b[0;33mWARNING\u001b[0m: FITSFixedWarning: 'datfix' made the change 'Changed '' to '2015-07-30T07:13:07.500''. [astropy.wcs.wcs]\r\n"
       ]
      }
     ],
     "prompt_number": 28
    },
    {
     "cell_type": "heading",
     "level": 2,
     "metadata": {},
     "source": [
      "STEP 13: Reduce the telluric standard dataset"
     ]
    },
    {
     "cell_type": "code",
     "collapsed": false,
     "input": [
      "iraf.imdelete('df@tel.lis', verify='no')\n",
      "iraf.nsreduce('f@tel.lis', outprefix='d', fl_cut='no', fl_process_cut='no', \\\n",
      "    fl_dark='yes', darkimage='teldark.fits', fl_sky='no', fl_flat='no')\n",
      "\n",
      "iraf.imdelete('rdf@tel.lis', verify='no')\n",
      "iraf.nsreduce('df@tel.lis', fl_cut='yes', fl_dark='no', fl_sky='yes', \\\n",
      "    fl_flat='yes', flatimage='flat.fits')\n"
     ],
     "language": "python",
     "metadata": {},
     "outputs": [
      {
       "output_type": "stream",
       "stream": "stdout",
       "text": [
        "-------------------------------------------------------------------------------\n",
        "NSREDUCE -- Mon Oct 12 14:41:51 HST 2015\n",
        " \n",
        "NSREDUCE: Processing 4 extension(s) from 4 file(s)."
       ]
      },
      {
       "output_type": "stream",
       "stream": "stdout",
       "text": [
        "\n"
       ]
      },
      {
       "output_type": "stream",
       "stream": "stdout",
       "text": [
        "NSREDUCE: slit: 2pix-slit\n",
        "NSREDUCE: filter: JH\n",
        "\n",
        "   n input                   --> output                  sky image\n",
        " dark                    flat                    scale\n",
        "\n",
        "   1 fS20150730S0268         --> dfS20150730S0268        none                   \n",
        " teldark                 none                    1.0000 \n",
        "   2 fS20150730S0269         --> dfS20150730S0269        none                   "
       ]
      },
      {
       "output_type": "stream",
       "stream": "stdout",
       "text": [
        "\n",
        " teldark                 none                    1.0000 \n",
        "   3 fS20150730S0270         --> dfS20150730S0270        none                   "
       ]
      },
      {
       "output_type": "stream",
       "stream": "stdout",
       "text": [
        "\n",
        " teldark                 none                    1.0000 \n",
        "   4 fS20150730S0271         --> dfS20150730S0271        none                   "
       ]
      },
      {
       "output_type": "stream",
       "stream": "stdout",
       "text": [
        "\n",
        " teldark                 none                    1.0000 \n"
       ]
      },
      {
       "output_type": "stream",
       "stream": "stdout",
       "text": [
        " \n",
        "NSREDUCE exit status: good.\n",
        "------------------------------------------------------------------------------\n",
        "-------------------------------------------------------------------------------"
       ]
      },
      {
       "output_type": "stream",
       "stream": "stdout",
       "text": [
        "\n",
        "NSREDUCE -- Mon Oct 12 14:42:00 HST 2015\n",
        " \n",
        "----------------------------------------------------------------------------"
       ]
      },
      {
       "output_type": "stream",
       "stream": "stdout",
       "text": [
        "\n",
        "F2CUT -- Mon Oct 12 14:42:01 HST 2015"
       ]
      },
      {
       "output_type": "stream",
       "stream": "stdout",
       "text": [
        "\n",
        " \n",
        "\n",
        "Pixel scale: 0.1797"
       ]
      },
      {
       "output_type": "stream",
       "stream": "stdout",
       "text": [
        "\n",
        "Grism: JH_G5801"
       ]
      },
      {
       "output_type": "stream",
       "stream": "stdout",
       "text": [
        "\n",
        "Filter: JH\n",
        "\n",
        "dfS20150730S0268 --> dfS20150730S0268-58249_946"
       ]
      },
      {
       "output_type": "stream",
       "stream": "stdout",
       "text": [
        "\n",
        " [SCI,1][42:1507,367:1620] --> [SCI,1]"
       ]
      },
      {
       "output_type": "stream",
       "stream": "stdout",
       "text": [
        "\n",
        "dfS20150730S0269 --> dfS20150730S0269-58249_948"
       ]
      },
      {
       "output_type": "stream",
       "stream": "stdout",
       "text": [
        "\n",
        "dfS20150730S0270 --> dfS20150730S0270-58249_950"
       ]
      },
      {
       "output_type": "stream",
       "stream": "stdout",
       "text": [
        "\n",
        "dfS20150730S0271 --> dfS20150730S0271-58249_952"
       ]
      },
      {
       "output_type": "stream",
       "stream": "stdout",
       "text": [
        "\n"
       ]
      },
      {
       "output_type": "stream",
       "stream": "stdout",
       "text": [
        " \n",
        "F2CUT exit status: good.\n",
        "----------------------------------------------------------------------------\n",
        "------------------------------------------------------------------------------\n",
        "NSAPPWAVE -- Mon Oct 12 14:42:10 HST 2015\n",
        " \n"
       ]
      },
      {
       "output_type": "stream",
       "stream": "stdout",
       "text": [
        "NSAPPWAVE: Processing 4 extension(s) from 4 file(s).\n",
        "  Camera     Grating    Filter     Prism      FPMask     Wave   Delta Order Axis\n",
        "dfS20150730S0268-58249_946 -> dfS20150730S0268-58249_947 ( 1)"
       ]
      },
      {
       "output_type": "stream",
       "stream": "stdout",
       "text": [
        "\n",
        "  f/16_G5830   JH_G5801         JH             2pix-slit 13900.00 -6.67 INDEF 2\n"
       ]
      },
      {
       "output_type": "stream",
       "stream": "stdout",
       "text": [
        "NSAPPWAVE: cradius not from table for dfS20150730S0268-58249_946.\n",
        "           (further table messages supressed for this file).\n",
        "  extension  1: 13900.000000 -6.667000 INDEF\n",
        "dfS20150730S0269-58249_948 -> dfS20150730S0269-58249_949 ( 1)"
       ]
      },
      {
       "output_type": "stream",
       "stream": "stdout",
       "text": [
        "\n",
        "  f/16_G5830   JH_G5801         JH             2pix-slit 13900.00 -6.67 INDEF 2\n"
       ]
      },
      {
       "output_type": "stream",
       "stream": "stdout",
       "text": [
        "NSAPPWAVE: cradius not from table for dfS20150730S0269-58249_948.\n",
        "           (further table messages supressed for this file).\n",
        "  extension  1: 13900.000000 -6.667000 INDEF\n",
        "dfS20150730S0270-58249_950 -> dfS20150730S0270-58249_951 ( 1)"
       ]
      },
      {
       "output_type": "stream",
       "stream": "stdout",
       "text": [
        "\n",
        "  f/16_G5830   JH_G5801         JH             2pix-slit 13900.00 -6.67 INDEF 2\n"
       ]
      },
      {
       "output_type": "stream",
       "stream": "stdout",
       "text": [
        "NSAPPWAVE: cradius not from table for dfS20150730S0270-58249_950.\n",
        "           (further table messages supressed for this file).\n",
        "  extension  1: 13900.000000 -6.667000 INDEF\n",
        "dfS20150730S0271-58249_952 -> dfS20150730S0271-58249_953 ( 1)"
       ]
      },
      {
       "output_type": "stream",
       "stream": "stdout",
       "text": [
        "\n",
        "  f/16_G5830   JH_G5801         JH             2pix-slit 13900.00 -6.67 INDEF 2\n"
       ]
      },
      {
       "output_type": "stream",
       "stream": "stdout",
       "text": [
        "NSAPPWAVE: cradius not from table for dfS20150730S0271-58249_952.\n",
        "           (further table messages supressed for this file).\n",
        "  extension  1: 13900.000000 -6.667000 INDEF\n"
       ]
      },
      {
       "output_type": "stream",
       "stream": "stdout",
       "text": [
        "\n",
        "NSAPPWAVE Exit status good\n",
        "------------------------------------------------------------------------------\n",
        "NSREDUCE: Generating the sky frame(s) using the other nod positions\n",
        "          (separations greater than 1.5 arcsec) from neighbouring\n",
        "          exposures.\n",
        "\n",
        "------------------------------------------------------------------------------"
       ]
      },
      {
       "output_type": "stream",
       "stream": "stdout",
       "text": [
        "\n",
        "NSSKY -- Mon Oct 12 14:42:23 HST 2015\n",
        " \n",
        "WARNING - NSSKY: Will take sky from input images\n",
        "NSSKY: Obs time for dfS20150730S0268-58249_947.fits[0]:  6:14:43.3"
       ]
      },
      {
       "output_type": "stream",
       "stream": "stdout",
       "text": [
        "\n",
        "NSSKY: Obs time for dfS20150730S0269-58249_949.fits[0]:  6:15:30.3  0:00:47.0\n",
        "NSSKY: Obs time for dfS20150730S0270-58249_951.fits[0]:  6:16:16.3  0:00:46.0\n",
        "NSSKY: Obs time for dfS20150730S0271-58249_953.fits[0]:  6:17:01.3  0:00:45.0\n",
        "NSSKY: Min/max:  0:00:45.0/ 0:00:47.0\n",
        "NSSKY: Using observations within  47.0s as sky.\n",
        "NSSKY: Grouping images (please wait).\n"
       ]
      },
      {
       "output_type": "stream",
       "stream": "stdout",
       "text": [
        "WARNING - GEMCOMBINE: five or less images to combine.\n"
       ]
      },
      {
       "output_type": "stream",
       "stream": "stdout",
       "text": [
        "WARNING - GEMCOMBINE: five or less images to combine.\n"
       ]
      },
      {
       "output_type": "stream",
       "stream": "stdout",
       "text": [
        " \n",
        "NSSKY exit status: good.\n",
        "NSREDUCE: Processing 4 extension(s) from 4 file(s)."
       ]
      },
      {
       "output_type": "stream",
       "stream": "stdout",
       "text": [
        "\n"
       ]
      },
      {
       "output_type": "stream",
       "stream": "stdout",
       "text": [
        "NSREDUCE: slit: 2pix-slit\n",
        "NSREDUCE: filter: JH\n",
        "\n",
        "   n input                   --> output                  sky image\n",
        " dark                    flat                    scale\n",
        "\n",
        "   1 dfS20150730S0268        --> rdfS20150730S0268       dfS20150730S0269-58249_949\n",
        " none                    flat                    1.0000 \n",
        "   2 dfS20150730S0269        --> rdfS20150730S0269       dfS20150730S0268-58249_947"
       ]
      },
      {
       "output_type": "stream",
       "stream": "stdout",
       "text": [
        "\n",
        "                             -->                         dfS20150730S0270-58249_951\n",
        " none                    flat                    1.0000 \n",
        "   3 dfS20150730S0270        --> rdfS20150730S0270       dfS20150730S0269-58249_949"
       ]
      },
      {
       "output_type": "stream",
       "stream": "stdout",
       "text": [
        "\n",
        "                             -->                         dfS20150730S0271-58249_953\n",
        " none                    flat                    1.0000 \n",
        "   4 dfS20150730S0271        --> rdfS20150730S0271       dfS20150730S0270-58249_951"
       ]
      },
      {
       "output_type": "stream",
       "stream": "stdout",
       "text": [
        "\n",
        " none                    flat                    1.0000 \n"
       ]
      },
      {
       "output_type": "stream",
       "stream": "stdout",
       "text": [
        " \n",
        "NSREDUCE exit status: good.\n",
        "------------------------------------------------------------------------------\n"
       ]
      }
     ],
     "prompt_number": 29
    },
    {
     "cell_type": "heading",
     "level": 2,
     "metadata": {},
     "source": [
      "STEP 14:  Combine the reduced telluric datasets"
     ]
    },
    {
     "cell_type": "code",
     "collapsed": false,
     "input": [
      "iraf.imdelete('tel_comb.fits', verify='no')\n",
      "iraf.nscombine('rdf@tel.lis', output='tel_comb.fits', fl_shiftint='no', fl_cross='yes')\n",
      "\n",
      "iraf.display('tel_comb.fits[SCI,1]', 1)\n"
     ],
     "language": "python",
     "metadata": {},
     "outputs": [
      {
       "output_type": "stream",
       "stream": "stdout",
       "text": [
        "--------------------------------------------------------------------------------\n",
        "NSCOMBINE: Mon Oct 12 14:43:51 HST 2015\n",
        " \n",
        "Shifting and combining to single file.\n",
        "Input images = rdf@tel.lis\n",
        "rdfS20150730S0268\n"
       ]
      },
      {
       "output_type": "stream",
       "stream": "stdout",
       "text": [
        "rdfS20150730S0269\n"
       ]
      },
      {
       "output_type": "stream",
       "stream": "stdout",
       "text": [
        "rdfS20150730S0270\n"
       ]
      },
      {
       "output_type": "stream",
       "stream": "stdout",
       "text": [
        "rdfS20150730S0271\n"
       ]
      },
      {
       "output_type": "stream",
       "stream": "stdout",
       "text": [
        "Bad pixel mask = \n",
        "Offset tolerance = 0.5\n",
        "Statistics section = [*,*]\n",
        "Combine algorithm = average\n",
        "Rejection algorithm = sigclip\n",
        "Use integer pixel shifts? no\n",
        "Boundary extension  = nearest\n",
        "NSCOMBINE: Unshifted images:"
       ]
      },
      {
       "output_type": "stream",
       "stream": "stdout",
       "text": [
        "\n",
        "rdfS20150730S0268\n",
        "rdfS20150730S0271\n"
       ]
      },
      {
       "output_type": "stream",
       "stream": "stdout",
       "text": [
        "------------------------------------------------------------------------------\n",
        "NSOFFSET -- Mon Oct 12 14:43:53 HST 2015\n",
        " \n"
       ]
      },
      {
       "output_type": "stream",
       "stream": "stdout",
       "text": [
        "NSOFFSET: Calculating cross correlation (please wait).\n",
        "NSOFFSET: Integer offset for rdfS20150730S0269 is 167."
       ]
      },
      {
       "output_type": "stream",
       "stream": "stdout",
       "text": [
        "\n"
       ]
      },
      {
       "output_type": "stream",
       "stream": "stdout",
       "text": [
        "NSOFFSET: Final offset for rdfS20150730S0269 is 166.8.\n"
       ]
      },
      {
       "output_type": "stream",
       "stream": "stdout",
       "text": [
        "NSOFFSET: Shifting rdfS20150730S0269-58249_1119 WCS in X by 166.8 pixels.\n"
       ]
      },
      {
       "output_type": "stream",
       "stream": "stdout",
       "text": [
        " \n",
        "NSOFFSET exit status: good.\n",
        "-------------------------------------------------------------------------------\n",
        "NSCOMBINE: Images shifted by -166.777963272,0.0:"
       ]
      },
      {
       "output_type": "stream",
       "stream": "stdout",
       "text": [
        "\n",
        "rdfS20150730S0269-58249_1119\n"
       ]
      },
      {
       "output_type": "stream",
       "stream": "stdout",
       "text": [
        "10% "
       ]
      },
      {
       "output_type": "stream",
       "stream": "stdout",
       "text": [
        "20% "
       ]
      },
      {
       "output_type": "stream",
       "stream": "stdout",
       "text": [
        "30% "
       ]
      },
      {
       "output_type": "stream",
       "stream": "stdout",
       "text": [
        "40% "
       ]
      },
      {
       "output_type": "stream",
       "stream": "stdout",
       "text": [
        "50% "
       ]
      },
      {
       "output_type": "stream",
       "stream": "stdout",
       "text": [
        "60% "
       ]
      },
      {
       "output_type": "stream",
       "stream": "stdout",
       "text": [
        "70% "
       ]
      },
      {
       "output_type": "stream",
       "stream": "stdout",
       "text": [
        "80% "
       ]
      },
      {
       "output_type": "stream",
       "stream": "stdout",
       "text": [
        "90% "
       ]
      },
      {
       "output_type": "stream",
       "stream": "stdout",
       "text": [
        "100% "
       ]
      },
      {
       "output_type": "stream",
       "stream": "stdout",
       "text": [
        "- done\n"
       ]
      },
      {
       "output_type": "stream",
       "stream": "stdout",
       "text": [
        "------------------------------------------------------------------------------\n",
        "NSOFFSET -- Mon Oct 12 14:45:37 HST 2015\n",
        " \n"
       ]
      },
      {
       "output_type": "stream",
       "stream": "stdout",
       "text": [
        "NSOFFSET: Calculating cross correlation (please wait).\n",
        "NSOFFSET: Integer offset for rdfS20150730S0270 is 167."
       ]
      },
      {
       "output_type": "stream",
       "stream": "stdout",
       "text": [
        "\n"
       ]
      },
      {
       "output_type": "stream",
       "stream": "stdout",
       "text": [
        "NSOFFSET: Final offset for rdfS20150730S0270 is 166.9.\n"
       ]
      },
      {
       "output_type": "stream",
       "stream": "stdout",
       "text": [
        "NSOFFSET: Shifting rdfS20150730S0270-58249_1174 WCS in X by 166.9 pixels.\n"
       ]
      },
      {
       "output_type": "stream",
       "stream": "stdout",
       "text": [
        " \n",
        "NSOFFSET exit status: good.\n",
        "-------------------------------------------------------------------------------\n",
        "NSCOMBINE: Images shifted by -166.833611575,0.0:"
       ]
      },
      {
       "output_type": "stream",
       "stream": "stdout",
       "text": [
        "\n",
        "rdfS20150730S0270-58249_1174\n"
       ]
      },
      {
       "output_type": "stream",
       "stream": "stdout",
       "text": [
        "10% "
       ]
      },
      {
       "output_type": "stream",
       "stream": "stdout",
       "text": [
        "20% "
       ]
      },
      {
       "output_type": "stream",
       "stream": "stdout",
       "text": [
        "30% "
       ]
      },
      {
       "output_type": "stream",
       "stream": "stdout",
       "text": [
        "40% "
       ]
      },
      {
       "output_type": "stream",
       "stream": "stdout",
       "text": [
        "50% "
       ]
      },
      {
       "output_type": "stream",
       "stream": "stdout",
       "text": [
        "60% "
       ]
      },
      {
       "output_type": "stream",
       "stream": "stdout",
       "text": [
        "70% "
       ]
      },
      {
       "output_type": "stream",
       "stream": "stdout",
       "text": [
        "80% "
       ]
      },
      {
       "output_type": "stream",
       "stream": "stdout",
       "text": [
        "90% "
       ]
      },
      {
       "output_type": "stream",
       "stream": "stdout",
       "text": [
        "100% "
       ]
      },
      {
       "output_type": "stream",
       "stream": "stdout",
       "text": [
        "- done\n"
       ]
      },
      {
       "output_type": "stream",
       "stream": "stdout",
       "text": [
        "WARNING - GEMCOMBINE: five or less images to combine.\n"
       ]
      },
      {
       "output_type": "stream",
       "stream": "stdout",
       "text": [
        "NSCOMBINE: Exit status good.\n",
        "--------------------------------------------------------------------------------\n",
        "z1=-15.89464 z2=9.722267\n"
       ]
      }
     ],
     "prompt_number": 30
    },
    {
     "cell_type": "heading",
     "level": 2,
     "metadata": {},
     "source": [
      "STEP 15:  Reduce the telluric arc and determine the wavelength solution"
     ]
    },
    {
     "cell_type": "markdown",
     "metadata": {},
     "source": [
      "The wavelength solution is derived from an arc taken right after the telluric observation, before anything is moved (eg. grating, slit, etc.)\n",
      "\n",
      "We will reduce the arc and calculate the wavelength solution to be applied to the telluric observations.\n",
      "\n",
      "The wavelength solution step really should be done in interactive mode as it is not uncommon to have to reject lines and/or adjust the matches with the line list."
     ]
    },
    {
     "cell_type": "heading",
     "level": 3,
     "metadata": {},
     "source": [
      "Reduce the telluric arc"
     ]
    },
    {
     "cell_type": "code",
     "collapsed": false,
     "input": [
      "# Subtract the dark from the arc images prior to cutting and flat dividing.\n",
      "\n",
      "iraf.imdelete('df@telarc.lis', verify='no')\n",
      "iraf.nsreduce('f@telarc.lis', outprefix='d', fl_cut='no', fl_process_cut='no', \\\n",
      "    fl_dark='yes', darkimage='telarcdark.fits', fl_sky='no', fl_flat='no')\n",
      "\n",
      "# Cut the arc images and divide by the normalised flat field image.\n",
      "\n",
      "iraf.imdelete('rdf@telarc.lis', verify='no')\n",
      "iraf.nsreduce('df@telarc.lis', fl_cut='yes', fl_dark='no', fl_sky='no', fl_flat='yes', \\\n",
      "    flatimage='flat.fits')\n",
      "\n",
      "# Combine the arc files (if there is more than one arc file)\n",
      "\n",
      "iraf.imdelete('telarc.fits', verify='no')\n",
      "iraf.delete('rdftelarc.lis', verify='no')\n",
      "iraf.sections('rdf@telarc.lis//.fits', Stdout='rdftelarc.lis')\n",
      "\n",
      "count = 0\n",
      "file = open('telarc.lis', 'r')\n",
      "for line in file:\n",
      "\tcount += 1\n",
      "\n",
      "if count == 1:\n",
      "\tiraf.copy ('@rdftelarc.lis', 'telarc.fits')\n",
      "else:\n",
      "\tiraf.gemcombine ('@rdftelarc.lis', 'telarc.fits', fl_vardq='yes')\n",
      "\n",
      "file.close()\n",
      "print 'Done'"
     ],
     "language": "python",
     "metadata": {},
     "outputs": [
      {
       "output_type": "stream",
       "stream": "stdout",
       "text": [
        "-------------------------------------------------------------------------------\n",
        "NSREDUCE -- Mon Oct 12 14:53:37 HST 2015"
       ]
      },
      {
       "output_type": "stream",
       "stream": "stdout",
       "text": [
        "\n",
        " \n",
        "NSREDUCE: Processing 1 extension(s) from 1 file(s)."
       ]
      },
      {
       "output_type": "stream",
       "stream": "stdout",
       "text": [
        "\n"
       ]
      },
      {
       "output_type": "stream",
       "stream": "stdout",
       "text": [
        "NSREDUCE: slit: 2pix-slit\n",
        "NSREDUCE: filter: JH\n",
        "\n",
        "   n input                   --> output                  sky image\n",
        " dark                    flat                    scale\n",
        "\n",
        "   1 fS20150730S0272         --> dfS20150730S0272        none                   \n",
        " telarcdark              none                    1.0000 \n"
       ]
      },
      {
       "output_type": "stream",
       "stream": "stdout",
       "text": [
        " \n",
        "NSREDUCE exit status: good.\n",
        "------------------------------------------------------------------------------\n",
        "-------------------------------------------------------------------------------"
       ]
      },
      {
       "output_type": "stream",
       "stream": "stdout",
       "text": [
        "\n",
        "NSREDUCE -- Mon Oct 12 14:53:41 HST 2015\n",
        " \n",
        "----------------------------------------------------------------------------"
       ]
      },
      {
       "output_type": "stream",
       "stream": "stdout",
       "text": [
        "\n",
        "F2CUT -- Mon Oct 12 14:53:41 HST 2015\n",
        " \n",
        "\n",
        "Pixel scale: 0.1797"
       ]
      },
      {
       "output_type": "stream",
       "stream": "stdout",
       "text": [
        "\n",
        "Grism: JH_G5801\n",
        "Filter: JH\n",
        "\n",
        "dfS20150730S0272 --> dfS20150730S0272-58249_1287"
       ]
      },
      {
       "output_type": "stream",
       "stream": "stdout",
       "text": [
        "\n",
        " [SCI,1][42:1507,367:1620] --> [SCI,1]"
       ]
      },
      {
       "output_type": "stream",
       "stream": "stdout",
       "text": [
        "\n"
       ]
      },
      {
       "output_type": "stream",
       "stream": "stdout",
       "text": [
        " \n",
        "F2CUT exit status: good.\n",
        "----------------------------------------------------------------------------\n",
        "------------------------------------------------------------------------------"
       ]
      },
      {
       "output_type": "stream",
       "stream": "stdout",
       "text": [
        "\n",
        "NSAPPWAVE -- Mon Oct 12 14:53:44 HST 2015\n",
        " "
       ]
      },
      {
       "output_type": "stream",
       "stream": "stdout",
       "text": [
        "\n"
       ]
      },
      {
       "output_type": "stream",
       "stream": "stdout",
       "text": [
        "NSAPPWAVE: Processing 1 extension(s) from 1 file(s).\n",
        "  Camera     Grating    Filter     Prism      FPMask     Wave   Delta Order Axis"
       ]
      },
      {
       "output_type": "stream",
       "stream": "stdout",
       "text": [
        "\n",
        "dfS20150730S0272-58249_1287 -> dfS20150730S0272-58249_1288 ( 1)"
       ]
      },
      {
       "output_type": "stream",
       "stream": "stdout",
       "text": [
        "\n",
        "  f/16_G5830   JH_G5801         JH             2pix-slit 13900.00 -6.67 INDEF 2"
       ]
      },
      {
       "output_type": "stream",
       "stream": "stdout",
       "text": [
        "\n"
       ]
      },
      {
       "output_type": "stream",
       "stream": "stdout",
       "text": [
        "NSAPPWAVE: cradius not from table for dfS20150730S0272-58249_1287.\n",
        "           (further table messages supressed for this file).\n",
        "  extension  1: 13900.000000 -6.667000 INDEF\n"
       ]
      },
      {
       "output_type": "stream",
       "stream": "stdout",
       "text": [
        "\n",
        "NSAPPWAVE Exit status good\n",
        "------------------------------------------------------------------------------\n",
        "NSREDUCE: Processing 1 extension(s) from 1 file(s)."
       ]
      },
      {
       "output_type": "stream",
       "stream": "stdout",
       "text": [
        "\n"
       ]
      },
      {
       "output_type": "stream",
       "stream": "stdout",
       "text": [
        "NSREDUCE: slit: 2pix-slit\n",
        "NSREDUCE: filter: JH\n",
        "\n",
        "   n input                   --> output                  sky image\n",
        " dark                    flat                    scale\n",
        "\n",
        "   1 dfS20150730S0272        --> rdfS20150730S0272       none                   \n",
        " none                    flat                    1.0000 \n"
       ]
      },
      {
       "output_type": "stream",
       "stream": "stdout",
       "text": [
        " \n",
        "NSREDUCE exit status: good.\n",
        "------------------------------------------------------------------------------"
       ]
      },
      {
       "output_type": "stream",
       "stream": "stdout",
       "text": [
        "\n"
       ]
      },
      {
       "output_type": "stream",
       "stream": "stderr",
       "text": [
        "Warning: Cannot delete file (rdftelarc.lis)\n"
       ]
      },
      {
       "output_type": "stream",
       "stream": "stdout",
       "text": [
        "Done\n"
       ]
      }
     ],
     "prompt_number": 31
    },
    {
     "cell_type": "heading",
     "level": 3,
     "metadata": {},
     "source": [
      "Determine the wavelength solution from the telluric arc"
     ]
    },
    {
     "cell_type": "markdown",
     "metadata": {},
     "source": [
      "Normally, the lines will be identified automatically and this step, while interactive is used to delete a couple outliers and visually confirm that the fit is good.\n",
      "\n",
      "If, for some reason (it can happen), the lines do not get identified automatically and they need to be marked manually, you will need to run the two commands below in the PyRAF sessions since you will need full interactive support.  But most of the time, running this in the notebook works okay."
     ]
    },
    {
     "cell_type": "code",
     "collapsed": false,
     "input": [
      "iraf.imdelete ('wtelarc.fits', verify='no')\n",
      "iraf.nswavelength ('telarc.fits', fl_inter='yes', order=8)"
     ],
     "language": "python",
     "metadata": {},
     "outputs": [
      {
       "output_type": "stream",
       "stream": "stdout",
       "text": [
        "-------------------------------------------------------------------------------\n",
        "NSWAVELENGTH -- Mon Oct 12 14:53:59 HST 2015\n",
        "\n",
        "NSWAVELENGTH: LS data detected. Calling nswhelper to process data."
       ]
      },
      {
       "output_type": "stream",
       "stream": "stdout",
       "text": [
        "\n",
        "-------------------------------------------------------------------------------\n",
        "NSWHELPER -- Mon Oct 12 14:53:59 HST 2015\n",
        "\n"
       ]
      },
      {
       "output_type": "stream",
       "stream": "stdout",
       "text": [
        "Using input files:\n",
        "telarc\n"
       ]
      },
      {
       "output_type": "stream",
       "stream": "stdout",
       "text": [
        "Using output files:\n",
        "wtelarc\n"
       ]
      },
      {
       "output_type": "stream",
       "stream": "stdout",
       "text": [
        "Lamp image: telarc[SCI,1]\n",
        "\n"
       ]
      },
      {
       "output_type": "stream",
       "stream": "stdout",
       "text": [
        "AUTOIDENTIFY: NOAO/IRAF V2.16 klabrie@libellule.gemini.edu Mon 14:54:00 12-Oct-2015\n"
       ]
      },
      {
       "output_type": "stream",
       "stream": "stdout",
       "text": [
        "  Spectrum                 # Found   Midpoint Dispersion        RMS\n"
       ]
      },
      {
       "output_type": "stream",
       "stream": "stdout",
       "text": [
        "  wtelarc[SCI,1][733,*]         62    13883.2      -6.51      0.387\n"
       ]
      },
      {
       "output_type": "stream",
       "stream": "stdout",
       "text": [
        "wtelarc[SCI,1][733,*]: Examine identifications interactively?"
       ]
      },
      {
       "output_type": "stream",
       "stream": "stdout",
       "text": [
        "    968.55  11671.726    11671.9 200 NOAO\n"
       ]
      },
      {
       "output_type": "stream",
       "stream": "stdout",
       "text": [
        "    968.55  11671.726    11671.9 200 NOAO\n"
       ]
      },
      {
       "output_type": "stream",
       "stream": "stdout",
       "text": [
        "\n",
        "REIDENTIFY: NOAO/IRAF V2.16 klabrie@libellule.gemini.edu Mon 14:54:06 12-Oct-2015\n"
       ]
      },
      {
       "output_type": "stream",
       "stream": "stdout",
       "text": [
        "  Reference image = wtelarc[SCI,1], New image = wtelarc[SCI,1], Refit = yes\n",
        "          Image Data    Found     Fit Pix Shift  User Shift  Z Shift      RMS\n"
       ]
      },
      {
       "output_type": "stream",
       "stream": "stdout",
       "text": [
        "wtelarc[SCI,1][723,*]  61/62   54/61     0.0316      -0.206  -1.5E-5    0.372\n"
       ]
      },
      {
       "output_type": "stream",
       "stream": "stdout",
       "text": [
        "wtelarc[SCI,1][723,*]  61/62   54/61     0.0316      -0.206  -1.5E-5    0.372\n"
       ]
      },
      {
       "output_type": "stream",
       "stream": "stdout",
       "text": [
        "wtelarc[SCI,1][713,*]  61/62   55/61     0.0705      -0.459  -3.4E-5    0.401\n"
       ]
      },
      {
       "output_type": "stream",
       "stream": "stdout",
       "text": [
        "wtelarc[SCI,1][703,*]  61/62   56/61      0.121      -0.788  -5.8E-5    0.484\n"
       ]
      },
      {
       "output_type": "stream",
       "stream": "stdout",
       "text": [
        "wtelarc[SCI,1][693,*]  61/62   53/61      0.147      -0.954  -7.1E-5    0.344\n"
       ]
      },
      {
       "output_type": "stream",
       "stream": "stdout",
       "text": [
        "wtelarc[SCI,1][683,*]  60/62   56/60      0.219       -1.42  -1.0E-4     0.42\n"
       ]
      },
      {
       "output_type": "stream",
       "stream": "stdout",
       "text": [
        "wtelarc[SCI,1][673,*]  60/62   57/60      0.266       -1.73  -1.3E-4    0.499\n"
       ]
      },
      {
       "output_type": "stream",
       "stream": "stdout",
       "text": [
        "wtelarc[SCI,1][663,*]  60/62   58/60       0.31       -2.01  -1.5E-4    0.485\n"
       ]
      },
      {
       "output_type": "stream",
       "stream": "stdout",
       "text": [
        "wtelarc[SCI,1][653,*]  61/62   57/61      0.362       -2.36  -1.7E-4    0.411\n"
       ]
      },
      {
       "output_type": "stream",
       "stream": "stdout",
       "text": [
        "wtelarc[SCI,1][643,*]  61/62   57/61      0.403       -2.62  -1.9E-4    0.442\n"
       ]
      },
      {
       "output_type": "stream",
       "stream": "stdout",
       "text": [
        "wtelarc[SCI,1][633,*]  62/62   57/62      0.395       -2.57  -1.9E-4    0.542\n"
       ]
      },
      {
       "output_type": "stream",
       "stream": "stdout",
       "text": [
        "wtelarc[SCI,1][623,*]  62/62   58/62      0.498       -3.24  -2.3E-4    0.454\n"
       ]
      },
      {
       "output_type": "stream",
       "stream": "stdout",
       "text": [
        "wtelarc[SCI,1][613,*]  61/62   56/61      0.545       -3.55  -2.6E-4    0.382\n"
       ]
      },
      {
       "output_type": "stream",
       "stream": "stdout",
       "text": [
        "wtelarc[SCI,1][603,*]  61/62   57/61       0.59       -3.84  -2.8E-4    0.486\n"
       ]
      },
      {
       "output_type": "stream",
       "stream": "stdout",
       "text": [
        "wtelarc[SCI,1][593,*]  60/62   56/60      0.619       -4.03  -2.9E-4    0.478\n"
       ]
      },
      {
       "output_type": "stream",
       "stream": "stdout",
       "text": [
        "wtelarc[SCI,1][583,*]  61/62   56/61      0.664       -4.32  -3.1E-4     0.46\n"
       ]
      },
      {
       "output_type": "stream",
       "stream": "stdout",
       "text": [
        "wtelarc[SCI,1][573,*]  60/62   55/60       0.71       -4.62  -3.3E-4    0.402\n"
       ]
      },
      {
       "output_type": "stream",
       "stream": "stdout",
       "text": [
        "wtelarc[SCI,1][563,*]  61/62   54/61      0.744       -4.84  -3.5E-4    0.359\n"
       ]
      },
      {
       "output_type": "stream",
       "stream": "stdout",
       "text": [
        "wtelarc[SCI,1][553,*]  61/62   56/61      0.793       -5.16  -3.7E-4    0.592\n"
       ]
      },
      {
       "output_type": "stream",
       "stream": "stdout",
       "text": [
        "wtelarc[SCI,1][543,*]  60/62   55/60      0.864       -5.63  -4.1E-4    0.349\n"
       ]
      },
      {
       "output_type": "stream",
       "stream": "stdout",
       "text": [
        "wtelarc[SCI,1][533,*]  60/62   54/60      0.908       -5.91  -4.3E-4    0.342\n"
       ]
      },
      {
       "output_type": "stream",
       "stream": "stdout",
       "text": [
        "wtelarc[SCI,1][523,*]  60/62   55/60      0.947       -6.17  -4.5E-4    0.349\n"
       ]
      },
      {
       "output_type": "stream",
       "stream": "stdout",
       "text": [
        "wtelarc[SCI,1][513,*]  61/62   55/61         1.       -6.52  -4.7E-4     0.36\n"
       ]
      },
      {
       "output_type": "stream",
       "stream": "stdout",
       "text": [
        "wtelarc[SCI,1][503,*]  61/62   55/61       1.05       -6.85  -4.9E-4    0.339\n"
       ]
      },
      {
       "output_type": "stream",
       "stream": "stdout",
       "text": [
        "wtelarc[SCI,1][493,*]  61/62   55/61       1.09       -7.07  -5.1E-4    0.414\n"
       ]
      },
      {
       "output_type": "stream",
       "stream": "stdout",
       "text": [
        "wtelarc[SCI,1][483,*]  60/62   56/60       1.15        -7.5  -5.4E-4    0.381\n"
       ]
      },
      {
       "output_type": "stream",
       "stream": "stdout",
       "text": [
        "wtelarc[SCI,1][473,*]  61/62   55/61       1.21       -7.86  -5.7E-4     0.38\n"
       ]
      },
      {
       "output_type": "stream",
       "stream": "stdout",
       "text": [
        "wtelarc[SCI,1][463,*]  60/62   54/60       1.27       -8.26  -5.9E-4    0.369\n"
       ]
      },
      {
       "output_type": "stream",
       "stream": "stdout",
       "text": [
        "wtelarc[SCI,1][453,*]  60/62   57/60       1.33       -8.66  -6.2E-4    0.448\n"
       ]
      },
      {
       "output_type": "stream",
       "stream": "stdout",
       "text": [
        "wtelarc[SCI,1][443,*]  60/62   56/60       1.39       -9.03  -6.5E-4    0.424\n"
       ]
      },
      {
       "output_type": "stream",
       "stream": "stdout",
       "text": [
        "wtelarc[SCI,1][433,*]  61/62   55/61       1.42       -9.23  -6.6E-4    0.451\n"
       ]
      },
      {
       "output_type": "stream",
       "stream": "stdout",
       "text": [
        "wtelarc[SCI,1][423,*]  61/62   57/61       1.51       -9.87  -7.0E-4    0.426\n"
       ]
      },
      {
       "output_type": "stream",
       "stream": "stdout",
       "text": [
        "wtelarc[SCI,1][413,*]  60/62   58/60       1.56       -10.1  -7.3E-4    0.502\n"
       ]
      },
      {
       "output_type": "stream",
       "stream": "stdout",
       "text": [
        "wtelarc[SCI,1][403,*]  61/62   59/61       1.65       -10.7  -7.7E-4     0.53\n"
       ]
      },
      {
       "output_type": "stream",
       "stream": "stdout",
       "text": [
        "wtelarc[SCI,1][393,*]  60/62   58/60       1.68       -10.9  -7.9E-4    0.546\n"
       ]
      },
      {
       "output_type": "stream",
       "stream": "stdout",
       "text": [
        "wtelarc[SCI,1][383,*]  60/62   58/60       1.74       -11.4  -8.2E-4    0.603\n"
       ]
      },
      {
       "output_type": "stream",
       "stream": "stdout",
       "text": [
        "wtelarc[SCI,1][373,*]  61/62   58/61       1.78       -11.6  -8.3E-4    0.745\n"
       ]
      },
      {
       "output_type": "stream",
       "stream": "stdout",
       "text": [
        "wtelarc[SCI,1][363,*]  60/62   54/60       1.87       -12.2  -8.8E-4    0.377\n"
       ]
      },
      {
       "output_type": "stream",
       "stream": "stdout",
       "text": [
        "wtelarc[SCI,1][353,*]  60/62   57/60       1.94       -12.6  -9.1E-4    0.411\n"
       ]
      },
      {
       "output_type": "stream",
       "stream": "stdout",
       "text": [
        "wtelarc[SCI,1][343,*]  60/62   56/60         2.        -13.  -9.3E-4    0.372\n"
       ]
      },
      {
       "output_type": "stream",
       "stream": "stdout",
       "text": [
        "wtelarc[SCI,1][333,*]  60/62   56/60       2.06       -13.4  -9.6E-4    0.384\n"
       ]
      },
      {
       "output_type": "stream",
       "stream": "stdout",
       "text": [
        "wtelarc[SCI,1][323,*]  61/62   55/61       2.11       -13.7  -9.9E-4    0.392\n"
       ]
      },
      {
       "output_type": "stream",
       "stream": "stdout",
       "text": [
        "wtelarc[SCI,1][313,*]  61/62   54/61       2.15        -14.   -0.001    0.381\n"
       ]
      },
      {
       "output_type": "stream",
       "stream": "stdout",
       "text": [
        "wtelarc[SCI,1][303,*]  61/62   54/61       2.24       -14.6   -0.001    0.357\n"
       ]
      },
      {
       "output_type": "stream",
       "stream": "stdout",
       "text": [
        "wtelarc[SCI,1][293,*]  61/62   56/61       2.35       -15.3  -0.0011    0.426\n"
       ]
      },
      {
       "output_type": "stream",
       "stream": "stdout",
       "text": [
        "wtelarc[SCI,1][283,*]  60/62   54/60       2.41       -15.7  -0.0011    0.321\n"
       ]
      },
      {
       "output_type": "stream",
       "stream": "stdout",
       "text": [
        "wtelarc[SCI,1][273,*]  60/62   55/60       2.49       -16.2  -0.0012    0.341\n"
       ]
      },
      {
       "output_type": "stream",
       "stream": "stdout",
       "text": [
        "wtelarc[SCI,1][263,*]  60/62   55/60       2.56       -16.7  -0.0012    0.318\n"
       ]
      },
      {
       "output_type": "stream",
       "stream": "stdout",
       "text": [
        "wtelarc[SCI,1][253,*]  60/62   57/60       2.65       -17.3  -0.0012    0.406\n"
       ]
      },
      {
       "output_type": "stream",
       "stream": "stdout",
       "text": [
        "wtelarc[SCI,1][243,*]  61/62   58/61       2.75       -17.9  -0.0013    0.601\n"
       ]
      },
      {
       "output_type": "stream",
       "stream": "stdout",
       "text": [
        "wtelarc[SCI,1][233,*]  60/62   56/60       2.78       -18.1  -0.0013    0.395\n"
       ]
      },
      {
       "output_type": "stream",
       "stream": "stdout",
       "text": [
        "wtelarc[SCI,1][223,*]  60/62   56/60        2.9       -18.9  -0.0014    0.364\n"
       ]
      },
      {
       "output_type": "stream",
       "stream": "stdout",
       "text": [
        "wtelarc[SCI,1][213,*]  60/62   56/60       2.97       -19.3  -0.0014    0.379\n"
       ]
      },
      {
       "output_type": "stream",
       "stream": "stdout",
       "text": [
        "wtelarc[SCI,1][203,*]  60/62   55/60       3.05       -19.9  -0.0014    0.377\n"
       ]
      },
      {
       "output_type": "stream",
       "stream": "stdout",
       "text": [
        "wtelarc[SCI,1][193,*]  61/62   57/61       3.23        -21.  -0.0015    0.655\n"
       ]
      },
      {
       "output_type": "stream",
       "stream": "stdout",
       "text": [
        "wtelarc[SCI,1][183,*]  60/62   55/60       3.22        -21.  -0.0015    0.418\n"
       ]
      },
      {
       "output_type": "stream",
       "stream": "stdout",
       "text": [
        "wtelarc[SCI,1][173,*]  60/62   53/60       3.29       -21.4  -0.0015    0.342\n"
       ]
      },
      {
       "output_type": "stream",
       "stream": "stdout",
       "text": [
        "wtelarc[SCI,1][163,*]  61/62   53/61       3.33       -21.7  -0.0016    0.304\n"
       ]
      },
      {
       "output_type": "stream",
       "stream": "stdout",
       "text": [
        "wtelarc[SCI,1][153,*]  60/62   53/60       3.39       -22.1  -0.0016    0.306\n"
       ]
      },
      {
       "output_type": "stream",
       "stream": "stdout",
       "text": [
        "wtelarc[SCI,1][143,*]  60/62   55/60       3.46       -22.6  -0.0016    0.324\n"
       ]
      },
      {
       "output_type": "stream",
       "stream": "stdout",
       "text": [
        "wtelarc[SCI,1][133,*]  61/62   58/61       3.61       -23.5  -0.0017    0.396\n"
       ]
      },
      {
       "output_type": "stream",
       "stream": "stdout",
       "text": [
        "wtelarc[SCI,1][123,*]  60/62   57/60       3.78       -24.6  -0.0018    0.374\n"
       ]
      },
      {
       "output_type": "stream",
       "stream": "stdout",
       "text": [
        "wtelarc[SCI,1][113,*]  59/62   56/59       3.77       -24.6  -0.0018    0.398\n"
       ]
      },
      {
       "output_type": "stream",
       "stream": "stdout",
       "text": [
        "wtelarc[SCI,1][103,*]  60/62   56/60       3.84        -25.  -0.0018     0.34\n"
       ]
      },
      {
       "output_type": "stream",
       "stream": "stdout",
       "text": [
        "wtelarc[SCI,1][93,*]   59/62   55/59       3.87       -25.2  -0.0018    0.405\n"
       ]
      },
      {
       "output_type": "stream",
       "stream": "stdout",
       "text": [
        "wtelarc[SCI,1][83,*]   61/62   58/61       3.93       -25.6  -0.0018     1.03\n"
       ]
      },
      {
       "output_type": "stream",
       "stream": "stdout",
       "text": [
        "wtelarc[SCI,1][73,*]   61/62   58/61       4.03       -26.2  -0.0019    0.988\n"
       ]
      },
      {
       "output_type": "stream",
       "stream": "stdout",
       "text": [
        "wtelarc[SCI,1][63,*]   60/62   51/60       4.11       -26.8  -0.0019    0.338\n"
       ]
      },
      {
       "output_type": "stream",
       "stream": "stdout",
       "text": [
        "wtelarc[SCI,1][53,*]   60/62   57/60       4.31       -28.1   -0.002       1.\n"
       ]
      },
      {
       "output_type": "stream",
       "stream": "stdout",
       "text": [
        "wtelarc[SCI,1][43,*]   61/62   57/61       4.42       -28.8   -0.002    0.701\n"
       ]
      },
      {
       "output_type": "stream",
       "stream": "stdout",
       "text": [
        "wtelarc[SCI,1][33,*]   61/62   53/61       4.48       -29.2  -0.0021    0.355\n"
       ]
      },
      {
       "output_type": "stream",
       "stream": "stdout",
       "text": [
        "wtelarc[SCI,1][23,*]   60/62   55/60       4.55       -29.6  -0.0021    0.413\n"
       ]
      },
      {
       "output_type": "stream",
       "stream": "stdout",
       "text": [
        "wtelarc[SCI,1][13,*]   60/62   54/60        4.7       -30.6  -0.0022    0.413\n"
       ]
      },
      {
       "output_type": "stream",
       "stream": "stdout",
       "text": [
        "wtelarc[SCI,1][3,*]    61/62   51/61       4.72       -30.8  -0.0022    0.307\n"
       ]
      },
      {
       "output_type": "stream",
       "stream": "stdout",
       "text": [
        "wtelarc[SCI,1][743,*]  60/62   52/60    -0.0238       0.156  8.61E-6    0.258\n"
       ]
      },
      {
       "output_type": "stream",
       "stream": "stdout",
       "text": [
        "wtelarc[SCI,1][753,*]  61/62   54/61    -0.0831       0.542  3.83E-5    0.345\n"
       ]
      },
      {
       "output_type": "stream",
       "stream": "stdout",
       "text": [
        "wtelarc[SCI,1][763,*]  61/62   55/61      -0.13       0.847  6.14E-5    0.374\n"
       ]
      },
      {
       "output_type": "stream",
       "stream": "stdout",
       "text": [
        "wtelarc[SCI,1][773,*]  62/62   56/62     -0.156        1.02  7.26E-5    0.364\n"
       ]
      },
      {
       "output_type": "stream",
       "stream": "stdout",
       "text": [
        "wtelarc[SCI,1][783,*]  61/62   57/61     -0.192        1.25  9.03E-5    0.409\n"
       ]
      },
      {
       "output_type": "stream",
       "stream": "stdout",
       "text": [
        "wtelarc[SCI,1][793,*]  62/62   56/62      -0.24        1.56  1.12E-4    0.318\n"
       ]
      },
      {
       "output_type": "stream",
       "stream": "stdout",
       "text": [
        "wtelarc[SCI,1][803,*]  60/62   55/60     -0.266        1.73  1.25E-4    0.323\n"
       ]
      },
      {
       "output_type": "stream",
       "stream": "stdout",
       "text": [
        "wtelarc[SCI,1][813,*]  62/62   57/62     -0.313        2.04  1.46E-4    0.391\n"
       ]
      },
      {
       "output_type": "stream",
       "stream": "stdout",
       "text": [
        "wtelarc[SCI,1][823,*]  61/62   56/61     -0.353         2.3  1.66E-4    0.383\n"
       ]
      },
      {
       "output_type": "stream",
       "stream": "stdout",
       "text": [
        "wtelarc[SCI,1][833,*]  60/62   54/60     -0.381        2.48  1.80E-4    0.329\n"
       ]
      },
      {
       "output_type": "stream",
       "stream": "stdout",
       "text": [
        "wtelarc[SCI,1][843,*]  61/62   55/61     -0.424        2.76  2.00E-4     0.42\n"
       ]
      },
      {
       "output_type": "stream",
       "stream": "stdout",
       "text": [
        "wtelarc[SCI,1][853,*]  60/62   55/60     -0.451        2.94  2.13E-4    0.382\n"
       ]
      },
      {
       "output_type": "stream",
       "stream": "stdout",
       "text": [
        "wtelarc[SCI,1][863,*]  61/62   56/61     -0.499        3.25  2.34E-4    0.454\n"
       ]
      },
      {
       "output_type": "stream",
       "stream": "stdout",
       "text": [
        "wtelarc[SCI,1][873,*]  60/62   56/60     -0.502        3.27  2.37E-4    0.413\n"
       ]
      },
      {
       "output_type": "stream",
       "stream": "stdout",
       "text": [
        "wtelarc[SCI,1][883,*]  61/62   57/61     -0.553         3.6  2.60E-4    0.503\n"
       ]
      },
      {
       "output_type": "stream",
       "stream": "stdout",
       "text": [
        "wtelarc[SCI,1][893,*]  61/62   57/61     -0.575        3.74  2.71E-4    0.482\n"
       ]
      },
      {
       "output_type": "stream",
       "stream": "stdout",
       "text": [
        "wtelarc[SCI,1][903,*]  61/62   56/61     -0.611        3.98  2.89E-4    0.478\n"
       ]
      },
      {
       "output_type": "stream",
       "stream": "stdout",
       "text": [
        "wtelarc[SCI,1][913,*]  61/62   59/61     -0.633        4.12  2.98E-4    0.618\n"
       ]
      },
      {
       "output_type": "stream",
       "stream": "stdout",
       "text": [
        "wtelarc[SCI,1][923,*]  61/62   57/61     -0.681        4.43  3.22E-4    0.472\n"
       ]
      },
      {
       "output_type": "stream",
       "stream": "stdout",
       "text": [
        "wtelarc[SCI,1][933,*]  61/62   57/61     -0.715        4.65  3.38E-4    0.479\n"
       ]
      },
      {
       "output_type": "stream",
       "stream": "stdout",
       "text": [
        "wtelarc[SCI,1][943,*]  61/62   59/61     -0.744        4.85  3.52E-4    0.597\n"
       ]
      },
      {
       "output_type": "stream",
       "stream": "stdout",
       "text": [
        "wtelarc[SCI,1][953,*]  61/62   59/61     -0.758        4.94  3.59E-4      0.6\n"
       ]
      },
      {
       "output_type": "stream",
       "stream": "stdout",
       "text": [
        "wtelarc[SCI,1][963,*]  61/62   59/61     -0.787        5.12  3.72E-4    0.601\n"
       ]
      },
      {
       "output_type": "stream",
       "stream": "stdout",
       "text": [
        "wtelarc[SCI,1][973,*]  61/62   59/61     -0.817        5.32  3.88E-4    0.684\n"
       ]
      },
      {
       "output_type": "stream",
       "stream": "stdout",
       "text": [
        "wtelarc[SCI,1][983,*]  61/62   57/61     -0.819        5.33  3.89E-4     0.53\n"
       ]
      },
      {
       "output_type": "stream",
       "stream": "stdout",
       "text": [
        "wtelarc[SCI,1][993,*]  60/62   55/60     -0.842        5.48  4.01E-4    0.423\n"
       ]
      },
      {
       "output_type": "stream",
       "stream": "stdout",
       "text": [
        "wtelarc[SCI,1][1003,*] 61/62   57/61     -0.867        5.64  4.11E-4    0.578\n"
       ]
      },
      {
       "output_type": "stream",
       "stream": "stdout",
       "text": [
        "wtelarc[SCI,1][1013,*] 61/62   55/61     -0.888        5.78  4.21E-4    0.469\n"
       ]
      },
      {
       "output_type": "stream",
       "stream": "stdout",
       "text": [
        "wtelarc[SCI,1][1023,*] 61/62   55/61     -0.891         5.8  4.22E-4    0.469\n"
       ]
      },
      {
       "output_type": "stream",
       "stream": "stdout",
       "text": [
        "wtelarc[SCI,1][1033,*] 61/62   56/61     -0.928        6.04  4.41E-4     0.47\n"
       ]
      },
      {
       "output_type": "stream",
       "stream": "stdout",
       "text": [
        "wtelarc[SCI,1][1043,*] 61/62   56/61     -0.936        6.09  4.45E-4     0.45\n"
       ]
      },
      {
       "output_type": "stream",
       "stream": "stdout",
       "text": [
        "wtelarc[SCI,1][1053,*] 60/62   55/60      -0.93        6.05  4.44E-4    0.424\n"
       ]
      },
      {
       "output_type": "stream",
       "stream": "stdout",
       "text": [
        "wtelarc[SCI,1][1063,*] 61/62   56/61     -0.937         6.1  4.45E-4    0.438\n"
       ]
      },
      {
       "output_type": "stream",
       "stream": "stdout",
       "text": [
        "wtelarc[SCI,1][1073,*] 61/62   57/61     -0.953         6.2  4.53E-4    0.516\n"
       ]
      },
      {
       "output_type": "stream",
       "stream": "stdout",
       "text": [
        "wtelarc[SCI,1][1083,*] 61/62   56/61     -0.974        6.34  4.64E-4    0.436\n"
       ]
      },
      {
       "output_type": "stream",
       "stream": "stdout",
       "text": [
        "wtelarc[SCI,1][1093,*] 60/62   55/60      -0.99        6.44  4.74E-4    0.366\n"
       ]
      },
      {
       "output_type": "stream",
       "stream": "stdout",
       "text": [
        "wtelarc[SCI,1][1103,*] 61/62   55/61     -0.998         6.5  4.76E-4    0.391\n"
       ]
      },
      {
       "output_type": "stream",
       "stream": "stdout",
       "text": [
        "wtelarc[SCI,1][1113,*] 61/62   56/61      -1.02        6.62  4.86E-4      0.4\n"
       ]
      },
      {
       "output_type": "stream",
       "stream": "stdout",
       "text": [
        "wtelarc[SCI,1][1123,*] 60/62   53/60      -1.02        6.61  4.87E-4    0.319\n"
       ]
      },
      {
       "output_type": "stream",
       "stream": "stdout",
       "text": [
        "wtelarc[SCI,1][1133,*] 60/62   52/60      -1.03        6.71  4.95E-4    0.318\n"
       ]
      },
      {
       "output_type": "stream",
       "stream": "stdout",
       "text": [
        "wtelarc[SCI,1][1143,*] 60/62   55/60      -1.05        6.86  5.07E-4    0.396\n"
       ]
      },
      {
       "output_type": "stream",
       "stream": "stdout",
       "text": [
        "wtelarc[SCI,1][1153,*] 61/62   56/61      -1.07        6.93  5.10E-4    0.456\n"
       ]
      },
      {
       "output_type": "stream",
       "stream": "stdout",
       "text": [
        "wtelarc[SCI,1][1163,*] 60/62   55/60      -1.08        7.02  5.19E-4    0.398\n"
       ]
      },
      {
       "output_type": "stream",
       "stream": "stdout",
       "text": [
        "wtelarc[SCI,1][1173,*] 60/62   55/60      -1.09        7.11  5.26E-4    0.402\n"
       ]
      },
      {
       "output_type": "stream",
       "stream": "stdout",
       "text": [
        "wtelarc[SCI,1][1183,*] 60/62   49/60      -1.11        7.22  5.35E-4    0.216\n"
       ]
      },
      {
       "output_type": "stream",
       "stream": "stdout",
       "text": [
        "wtelarc[SCI,1][1193,*] 60/62   55/60      -1.12        7.31  5.42E-4    0.372\n"
       ]
      },
      {
       "output_type": "stream",
       "stream": "stdout",
       "text": [
        "wtelarc[SCI,1][1203,*] 62/62   56/62      -1.14        7.42  5.46E-4    0.445\n"
       ]
      },
      {
       "output_type": "stream",
       "stream": "stdout",
       "text": [
        "wtelarc[SCI,1][1213,*] 61/62   57/61      -1.16        7.53  5.57E-4    0.463\n"
       ]
      },
      {
       "output_type": "stream",
       "stream": "stdout",
       "text": [
        "wtelarc[SCI,1][1223,*] 61/62   56/61      -1.16        7.57  5.61E-4    0.443\n"
       ]
      },
      {
       "output_type": "stream",
       "stream": "stdout",
       "text": [
        "wtelarc[SCI,1][1233,*] 61/62   56/61      -1.17        7.61  5.64E-4    0.424\n"
       ]
      },
      {
       "output_type": "stream",
       "stream": "stdout",
       "text": [
        "wtelarc[SCI,1][1243,*] 61/62   56/61      -1.17         7.6  5.63E-4    0.405\n"
       ]
      },
      {
       "output_type": "stream",
       "stream": "stdout",
       "text": [
        "wtelarc[SCI,1][1253,*] 60/62   53/60      -1.17        7.62  5.68E-4     0.32\n"
       ]
      },
      {
       "output_type": "stream",
       "stream": "stdout",
       "text": [
        "wtelarc[SCI,1][1263,*] 61/62   53/61      -1.18        7.69  5.72E-4     0.34\n"
       ]
      },
      {
       "output_type": "stream",
       "stream": "stdout",
       "text": [
        "wtelarc[SCI,1][1273,*] 61/62   57/61      -1.19        7.71  5.74E-4    0.541\n"
       ]
      },
      {
       "output_type": "stream",
       "stream": "stdout",
       "text": [
        "wtelarc[SCI,1][1283,*] 61/62   56/61      -1.16        7.56  5.65E-4    0.578\n"
       ]
      },
      {
       "output_type": "stream",
       "stream": "stdout",
       "text": [
        "wtelarc[SCI,1][1293,*] 61/62   56/61      -1.17        7.59  5.66E-4    0.505\n"
       ]
      },
      {
       "output_type": "stream",
       "stream": "stdout",
       "text": [
        "wtelarc[SCI,1][1303,*] 61/62   53/61      -1.14        7.42  5.54E-4    0.342\n"
       ]
      },
      {
       "output_type": "stream",
       "stream": "stdout",
       "text": [
        "wtelarc[SCI,1][1313,*] 61/62   54/61      -1.17        7.59  5.63E-4    0.422\n"
       ]
      },
      {
       "output_type": "stream",
       "stream": "stdout",
       "text": [
        "wtelarc[SCI,1][1323,*] 61/62   54/61      -1.13        7.35  5.50E-4    0.411\n"
       ]
      },
      {
       "output_type": "stream",
       "stream": "stdout",
       "text": [
        "wtelarc[SCI,1][1333,*] 61/62   52/61      -1.12         7.3  5.44E-4    0.337\n"
       ]
      },
      {
       "output_type": "stream",
       "stream": "stdout",
       "text": [
        "wtelarc[SCI,1][1343,*] 61/62   53/61      -1.09        7.09  5.30E-4    0.427\n"
       ]
      },
      {
       "output_type": "stream",
       "stream": "stdout",
       "text": [
        "wtelarc[SCI,1][1353,*] 61/62   53/61      -1.09        7.12  5.33E-4    0.434\n"
       ]
      },
      {
       "output_type": "stream",
       "stream": "stdout",
       "text": [
        "wtelarc[SCI,1][1363,*] 60/62   54/60       -1.1        7.16  5.36E-4    0.488\n"
       ]
      },
      {
       "output_type": "stream",
       "stream": "stdout",
       "text": [
        "wtelarc[SCI,1][1373,*] 60/62   52/60       -1.1        7.14  5.39E-4    0.305\n"
       ]
      },
      {
       "output_type": "stream",
       "stream": "stdout",
       "text": [
        "wtelarc[SCI,1][1383,*] 60/62   53/60       -1.1        7.14  5.41E-4     0.36\n"
       ]
      },
      {
       "output_type": "stream",
       "stream": "stdout",
       "text": [
        "wtelarc[SCI,1][1393,*] 60/62   53/60       -1.1        7.18  5.44E-4    0.363\n"
       ]
      },
      {
       "output_type": "stream",
       "stream": "stdout",
       "text": [
        "wtelarc[SCI,1][1403,*] 60/62   53/60       -1.1        7.18  5.46E-4    0.347\n"
       ]
      },
      {
       "output_type": "stream",
       "stream": "stdout",
       "text": [
        "wtelarc[SCI,1][1413,*] 61/62   58/61      -1.11        7.22  5.40E-4    0.919\n"
       ]
      },
      {
       "output_type": "stream",
       "stream": "stdout",
       "text": [
        "wtelarc[SCI,1][1423,*] 61/62   52/61      -1.02        6.66  5.08E-4    0.326\n"
       ]
      },
      {
       "output_type": "stream",
       "stream": "stdout",
       "text": [
        "wtelarc[SCI,1][1433,*] 61/62   52/61      -1.05        6.79  5.17E-4    0.294\n"
       ]
      },
      {
       "output_type": "stream",
       "stream": "stdout",
       "text": [
        "wtelarc[SCI,1][1443,*] 60/62   49/60      -1.05        6.83  5.23E-4    0.224\n"
       ]
      },
      {
       "output_type": "stream",
       "stream": "stdout",
       "text": [
        "wtelarc[SCI,1][1453,*] 61/62   54/61      -1.02        6.64  5.09E-4    0.371\n"
       ]
      },
      {
       "output_type": "stream",
       "stream": "stdout",
       "text": [
        "wtelarc[SCI,1][1463,*] 61/62   55/61      -1.07        6.94  5.25E-4     0.52\n"
       ]
      },
      {
       "output_type": "stream",
       "stream": "stdout",
       "text": [
        "\n",
        "NSWHELPER Exit status good\n",
        "-------------------------------------------------------------------------------\n",
        "\n",
        "NSWAVELENGTH Exit status good\n",
        "-------------------------------------------------------------------------------\n"
       ]
      }
     ],
     "prompt_number": 32
    },
    {
     "cell_type": "heading",
     "level": 3,
     "metadata": {},
     "source": [
      "Test recovery of a calibrated arc"
     ]
    },
    {
     "cell_type": "markdown",
     "metadata": {},
     "source": [
      "Confirm that applying the wavelength solution to the arc itself recovers a correctly wavelength-calibrated arc.  The key step is **<code>nsfitcoords</code>**.  The default **<code>lxorder</code>** and **<code>lyorder</code>** are both set to 2 which doesn't seem to be correct.  Running **<code>nsfitcoords</code>** interactively on the arc will allow us to discover the best **<code>lxorder</code>** and **<code>lyorder</code>** for this wavelength solution, and use that as a starting point later when using the arc wavelength solution (**<code>wtelarc.fits</code>**) on the telluric and the science."
     ]
    },
    {
     "cell_type": "markdown",
     "metadata": {},
     "source": [
      "Cut and paste these instructions in the PyRAF session that we prepared in Step 0. \n",
      "\n",
      "    iraf.imdelete('ftelarc.fits', verify='no')\n",
      "    iraf.nsfitcoords('telarc.fits', lamptransf='wtelarc.fits', fl_inter='yes')\n",
      "    # Note down the xorder and yorder needed for a good fit.  Use\n",
      "    # that whenever wtelarc.fits is used by nsfitcoords.\n",
      "    # :xorder 3, :yorder 9\n",
      "\n",
      "\n",
      "The yorder is probably a bit high, but it definitely removes any trace of a wave pattern..."
     ]
    },
    {
     "cell_type": "markdown",
     "metadata": {},
     "source": [
      "Record the lxorder and lyorder in the notebook session for future use."
     ]
    },
    {
     "cell_type": "code",
     "collapsed": false,
     "input": [
      "lxorder=3 ; lyorder=9"
     ],
     "language": "python",
     "metadata": {},
     "outputs": [],
     "prompt_number": 34
    },
    {
     "cell_type": "code",
     "collapsed": false,
     "input": [
      "iraf.imdelete('tftelarc.fits', verify='no')\n",
      "iraf.nstransform('ftelarc.fits')\n",
      "iraf.display('tftelarc.fits[sci,1]', 1)"
     ],
     "language": "python",
     "metadata": {},
     "outputs": [
      {
       "output_type": "stream",
       "stream": "stdout",
       "text": [
        "-------------------------------------------------------------------------------\n",
        "NSTRANSFORM -- Mon Oct 12 15:44:37 HST 2015\n",
        "\n",
        "Using input files:"
       ]
      },
      {
       "output_type": "stream",
       "stream": "stdout",
       "text": [
        "\n",
        "ftelarc\n"
       ]
      },
      {
       "output_type": "stream",
       "stream": "stdout",
       "text": [
        "Using output files:\n",
        "tftelarc\n"
       ]
      },
      {
       "output_type": "stream",
       "stream": "stdout",
       "text": [
        "NSTRANSFORM: Fitnames for ftelarc: ftelarc_SCI_1_lamp\n",
        "WARNING - NSTRANSFORM: No MDF in ftelarc"
       ]
      },
      {
       "output_type": "stream",
       "stream": "stdout",
       "text": [
        "\n"
       ]
      },
      {
       "output_type": "stream",
       "stream": "stdout",
       "text": [
        "NSTRANSFORM: Exit status good\n",
        "-------------------------------------------------------------------------------\n"
       ]
      },
      {
       "output_type": "stream",
       "stream": "stdout",
       "text": [
        "z1=0. z2=416.2639\n"
       ]
      }
     ],
     "prompt_number": 35
    },
    {
     "cell_type": "code",
     "collapsed": false,
     "input": [
      "# display the first telluric to identify on which column the spectrum falls in\n",
      "# the A position.\n",
      "first_tel = iraf.head('tel.lis', nlines=1, Stdout=1)[0].strip()\n",
      "iraf.display('f'+first_tel+'[1]', 1)"
     ],
     "language": "python",
     "metadata": {},
     "outputs": [
      {
       "output_type": "stream",
       "stream": "stdout",
       "text": [
        "z1=-74. z2=298.8223\n"
       ]
      }
     ],
     "prompt_number": 36
    },
    {
     "cell_type": "code",
     "collapsed": false,
     "input": [
      "# UPDATE POSITION OF TELLURIC\n",
      "# position of the telluric is column 951 (around the center of the frame)\n",
      "iraf.tel_position = 951"
     ],
     "language": "python",
     "metadata": {},
     "outputs": [],
     "prompt_number": 37
    },
    {
     "cell_type": "code",
     "collapsed": false,
     "input": [
      "iraf.splot('tftelarc.fits[sci,1]', line=iraf.tel_position, options=\"auto wreset flip\")"
     ],
     "language": "python",
     "metadata": {},
     "outputs": [
      {
       "output_type": "stream",
       "stream": "stdout",
       "text": [
        "window:"
       ]
      },
      {
       "output_type": "stream",
       "stream": "stdout",
       "text": [
        "again:"
       ]
      },
      {
       "output_type": "stream",
       "stream": "stdout",
       "text": [
        "k again:"
       ]
      },
      {
       "output_type": "stream",
       "stream": "stdout",
       "text": [
        "\n",
        "1: center =  13371.3, flux =  148480., eqw = -138.2, gfwhm =  11.65"
       ]
      },
      {
       "output_type": "stream",
       "stream": "stdout",
       "text": [
        "window:"
       ]
      },
      {
       "output_type": "stream",
       "stream": "stdout",
       "text": [
        "window:"
       ]
      },
      {
       "output_type": "stream",
       "stream": "stdout",
       "text": [
        "again:"
       ]
      },
      {
       "output_type": "stream",
       "stream": "stdout",
       "text": [
        "k again:"
       ]
      },
      {
       "output_type": "stream",
       "stream": "stdout",
       "text": [
        "\n",
        "1: center =  16945.3, flux =  202500., eqw = -50.82, gfwhm =   17.9"
       ]
      },
      {
       "output_type": "stream",
       "stream": "stdout",
       "text": [
        "window:"
       ]
      },
      {
       "output_type": "stream",
       "stream": "stdout",
       "text": [
        "window:"
       ]
      },
      {
       "output_type": "stream",
       "stream": "stdout",
       "text": [
        "again:"
       ]
      },
      {
       "output_type": "stream",
       "stream": "stdout",
       "text": [
        "k again:"
       ]
      },
      {
       "output_type": "stream",
       "stream": "stdout",
       "text": [
        "\n",
        "1: center =  10472.7, flux =   80959., eqw = -70.85, gfwhm =  18.48"
       ]
      }
     ],
     "prompt_number": 38
    },
    {
     "cell_type": "markdown",
     "metadata": {},
     "source": [
      "Check that the arc lines are at the correct wavelength. Use '<code>k</code>' on each side of the a line to get the centroid. Then compare with the line list and the diagrams.\n",
      "\n",
      "Resource:  \n",
      "    http://www.gemini.edu/sciops/instruments/niri/?q=node/10166\n",
      "\n",
      "The NIRI plots from that webpage work well.\n",
      "\n",
      "*Result: (Kathleen)\n",
      "The arc gets transformed correctly with lxorder=3, lyorder=8.  Just quicklook for now, I have not looked carefully at the blue and red end, and I have not looked for an absolute offset. "
     ]
    },
    {
     "cell_type": "heading",
     "level": 2,
     "metadata": {},
     "source": [
      "STEP 16:  Wavelength calibrate the telluric data"
     ]
    },
    {
     "cell_type": "markdown",
     "metadata": {},
     "source": [
      "Now that an arc is taken with the telluric (circa 2015B), the wavelength calibration of the telluric data should be straight forward."
     ]
    },
    {
     "cell_type": "heading",
     "level": 3,
     "metadata": {},
     "source": [
      "Apply the telluric arc solution"
     ]
    },
    {
     "cell_type": "code",
     "collapsed": false,
     "input": [
      "print 'Using lxorder, lyorder = ', lxorder, lyorder\n",
      "iraf.imdelete('ftel_comb.fits', verify='no')\n",
      "iraf.nsfitcoords('tel_comb.fits', lamptransf='wtelarc.fits', \\\n",
      "                 lxorder=lxorder, lyorder=lyorder)\n",
      "\n",
      "iraf.imdelete ('tftel_comb.fits', verify='no')\n",
      "iraf.nstransform ('ftel_comb.fits')"
     ],
     "language": "python",
     "metadata": {},
     "outputs": [
      {
       "output_type": "stream",
       "stream": "stdout",
       "text": [
        "Using lxorder, lyorder =  3 9\n",
        "-------------------------------------------------------------------------------"
       ]
      },
      {
       "output_type": "stream",
       "stream": "stdout",
       "text": [
        "\n",
        "NSFITCOORDS -- Mon Oct 12 15:45:48 HST 2015\n",
        "\n",
        "Using input files:"
       ]
      },
      {
       "output_type": "stream",
       "stream": "stdout",
       "text": [
        "\n",
        "tel_comb\n"
       ]
      },
      {
       "output_type": "stream",
       "stream": "stdout",
       "text": [
        "Using output files:\n",
        "ftel_comb\n"
       ]
      },
      {
       "output_type": "stream",
       "stream": "stdout",
       "text": [
        "NSFITCOORDS: Fitnames for tel_comb: ftel_comb_SCI_1_lamp\n"
       ]
      },
      {
       "output_type": "stream",
       "stream": "stdout",
       "text": [
        "NSFITCOORDS: Exit status good\n",
        "-------------------------------------------------------------------------------\n"
       ]
      },
      {
       "output_type": "stream",
       "stream": "stdout",
       "text": [
        "-------------------------------------------------------------------------------\n",
        "NSTRANSFORM -- Mon Oct 12 15:45:50 HST 2015\n",
        "\n",
        "Using input files:"
       ]
      },
      {
       "output_type": "stream",
       "stream": "stdout",
       "text": [
        "\n",
        "ftel_comb\n"
       ]
      },
      {
       "output_type": "stream",
       "stream": "stdout",
       "text": [
        "Using output files:\n",
        "tftel_comb\n"
       ]
      },
      {
       "output_type": "stream",
       "stream": "stdout",
       "text": [
        "NSTRANSFORM: Fitnames for ftel_comb: ftel_comb_SCI_1_lamp\n",
        "WARNING - NSTRANSFORM: No MDF in ftel_comb"
       ]
      },
      {
       "output_type": "stream",
       "stream": "stdout",
       "text": [
        "\n"
       ]
      },
      {
       "output_type": "stream",
       "stream": "stdout",
       "text": [
        "NSTRANSFORM: Exit status good\n",
        "-------------------------------------------------------------------------------\n"
       ]
      }
     ],
     "prompt_number": 39
    },
    {
     "cell_type": "heading",
     "level": 2,
     "metadata": {},
     "source": [
      "STEP 17: Extract the telluric spectrum"
     ]
    },
    {
     "cell_type": "markdown",
     "metadata": {},
     "source": [
      "We run <code>nsextract</code> in non-interactive mode since the telluric is quite bright.  (Running it in interactive mode does confirm that the automatic aperture selection is coincident with the telluric spectrum.)"
     ]
    },
    {
     "cell_type": "code",
     "collapsed": false,
     "input": [
      "iraf.imdelete('xtftel_comb.fits', verify='no')\n",
      "iraf.nsextract('tftel_comb.fits', fl_apall='yes', fl_findneg='no', \\\n",
      "    fl_inter='no', fl_trace='yes')\n",
      "\n",
      "iraf.splot ('xtftel_comb.fits[SCI,1]')"
     ],
     "language": "python",
     "metadata": {},
     "outputs": [
      {
       "output_type": "stream",
       "stream": "stdout",
       "text": [
        "-------------------------------------------------------------------------------\n",
        "NSEXTRACT -- Mon Oct 12 15:46:11 HST 2015\n",
        " \n"
       ]
      },
      {
       "output_type": "stream",
       "stream": "stdout",
       "text": [
        "WARNING - NSEXTRACT: Output variance planes derived from apall rather than input variance plane.\n",
        "Using input files:\n",
        "tftel_comb 1 no\n"
       ]
      },
      {
       "output_type": "stream",
       "stream": "stdout",
       "text": [
        "Using output files:\n",
        "xtftel_comb\n"
       ]
      },
      {
       "output_type": "stream",
       "stream": "stdout",
       "text": [
        "\n",
        "Searching aperture database ...\n"
       ]
      },
      {
       "output_type": "stream",
       "stream": "stdout",
       "text": [
        "Finding apertures ...\n"
       ]
      },
      {
       "output_type": "stream",
       "stream": "stdout",
       "text": [
        "Oct 12 15:46: FIND - 1 apertures found for tmpscivar58249_1400\n"
       ]
      },
      {
       "output_type": "stream",
       "stream": "stdout",
       "text": [
        "Resizing apertures ...\n"
       ]
      },
      {
       "output_type": "stream",
       "stream": "stdout",
       "text": [
        "Oct 12 15:46: APRESIZE  - 1 apertures resized for tmpscivar58249_1400 (-3.57, 3.61)\n"
       ]
      },
      {
       "output_type": "stream",
       "stream": "stdout",
       "text": [
        "Tracing apertures ...\n"
       ]
      },
      {
       "output_type": "stream",
       "stream": "stdout",
       "text": [
        "Oct 12 15:46: TRACE - 1 apertures traced in tmpscivar58249_1400.\n"
       ]
      },
      {
       "output_type": "stream",
       "stream": "stdout",
       "text": [
        "Oct 12 15:46: DATABASE - 1 apertures for tmpscivar58249_1400 written to JH221750_database\n"
       ]
      },
      {
       "output_type": "stream",
       "stream": "stdout",
       "text": [
        "Extracting apertures ...\n"
       ]
      },
      {
       "output_type": "stream",
       "stream": "stdout",
       "text": [
        "Oct 12 15:46: EXTRACT - Aperture 1 from tmpscivar58249_1400 --> tmpspeca58249_1388\n"
       ]
      },
      {
       "output_type": "stream",
       "stream": "stdout",
       "text": [
        "Searching aperture database ...\n"
       ]
      },
      {
       "output_type": "stream",
       "stream": "stdout",
       "text": [
        "Oct 12 15:46: DATABASE  - 1 apertures read for tmpscivar58249_1400 from JH221750_database\n"
       ]
      },
      {
       "output_type": "stream",
       "stream": "stdout",
       "text": [
        "Oct 12 15:46: DATABASE - 1 apertures for tftel_comb[DQ,1] written to JH221750_database\n"
       ]
      },
      {
       "output_type": "stream",
       "stream": "stdout",
       "text": [
        "Extracting apertures ...\n"
       ]
      },
      {
       "output_type": "stream",
       "stream": "stdout",
       "text": [
        "Oct 12 15:46: EXTRACT - Aperture 1 from tftel_comb[DQ,1] --> tmpspecdqa58249_1392\n"
       ]
      },
      {
       "output_type": "stream",
       "stream": "stdout",
       "text": [
        "NSEXTRACT: Aperture centre at 910.2176,500.0\n",
        "NSEXTRACT: S/N for xtftel_comb: "
       ]
      },
      {
       "output_type": "stream",
       "stream": "stdout",
       "text": [
        "\n",
        "           from variance array:     43.32"
       ]
      },
      {
       "output_type": "stream",
       "stream": "stdout",
       "text": [
        "\n",
        "           from smoothed spectrum:   7.59\n"
       ]
      },
      {
       "output_type": "stream",
       "stream": "stdout",
       "text": [
        "\n",
        "NSEXTRACT: Exit status good\n",
        "-------------------------------------------------------------------------------\n"
       ]
      }
     ],
     "prompt_number": 40
    },
    {
     "cell_type": "markdown",
     "metadata": {},
     "source": [
      "**The signal looks good.  The telluric is not saturated.  Should be okay to proceed to a Science Quality reduction now.**\n",
      "\n",
      "This telluric spectrum will be used later.  It will then need to be corrected to remove the stellar features either by fitting Voight profiles on each hydrogen line and removing each feature, or by fitting a stellar model to it."
     ]
    },
    {
     "cell_type": "heading",
     "level": 2,
     "metadata": {},
     "source": [
      "FINAL quicklook spectrum: xtfobj_comb.fits  (not corrected for telluric features)"
     ]
    },
    {
     "cell_type": "heading",
     "level": 2,
     "metadata": {},
     "source": [
      "FINAL quicklook telluric: xtftel_comb.fits"
     ]
    }
   ],
   "metadata": {}
  }
 ]
}