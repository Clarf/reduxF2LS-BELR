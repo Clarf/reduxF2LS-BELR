{
 "metadata": {
  "name": "",
  "signature": "sha256:b3b01813a8d6b01dbe15a6986097e35adc0db4fd92ac3d61ac9c52630dc8f426"
 },
 "nbformat": 3,
 "nbformat_minor": 0,
 "worksheets": [
  {
   "cells": [
    {
     "cell_type": "heading",
     "level": 1,
     "metadata": {},
     "source": [
      "F2 Longslit HK Reduction of SDSSJ221750.50-002425.9"
     ]
    },
    {
     "cell_type": "markdown",
     "metadata": {},
     "source": [
      "----\n",
      "Science Dataset:\n",
      "----------------\n",
      "<table>\n",
      "<tr><td> <strong>Redshift</strong> </td> <td>0.60065</td></tr>\n",
      "</table>\n",
      "\n",
      "<table>\n",
      "    <tr><td> <strong>Observation UT date</strong> </td> <td>2015 Jul 30, \\*2015 Aug 1, \\*\\*2015 Jun 30, \\*\\*\\*2015 Jul 5</td></tr>\n",
      "    <tr><td> <strong>Data filename prefix</strong> </td><td>S20150730S, \\*S20150801S, \\*\\*S20150630S, \\*\\*\\*S20150705S</td></tr>\n",
      "</table>\n",
      "<br>\n",
      "**File numbers:**\n",
      "<table>\n",
      "    <tr><td>Science </td>          <td>278-281 (HK, HK, 2pix-slit, 120s)</td></tr>\n",
      "    <tr><td>Darks for science </td><td>\\*470-476 (120s)</td></tr>\n",
      "    <tr><td>Flat </td>             <td>\\*\\*87     (HK, HK, 2pix-slit, 4s)</td></tr>\n",
      "    <tr><td>Darks for flat </td>   <td>\\*\\*\\*134-140 (4s)</td></tr>\n",
      "    <tr><td>Arc </td>              <td>282    (HK, HK, 2pix-slit, 90s)</td></tr>\n",
      "    <tr><td>Darks for arc </td>    <td>\\*449-455 (90s)</td></tr>\n",
      "</table>\n",
      "\n",
      "Telluric Dataset:\n",
      "-----------------\n",
      "<table>\n",
      "<tr><td> Name: </td><td>HIP 112790</td></tr>\n",
      "<tr><td> Spectral Type: </td><td>B5V</td></tr>\n",
      "<tr><td> Temperature: </td><td>$15,400 K$</td></tr>\n",
      "<tr><td> Airmass: </td><td>1.07</td></tr>\n",
      "<tr><td> Airmass Science: </td><td>1.154</td></tr>\n",
      "    <tr><td> Delta Time: </td><td>~30 min. Tel_end=06:11:05, Sci_beg=06:40:46 </td></tr>\n",
      "</table>\n",
      "<table>\n",
      "    <tr><td> <strong>Observation UT date</strong> </td> <td>2015 Jul 30, \\*2015 Aug 1, \\*\\*2015 Jun 30, \\*\\*\\*2015 Jul 5</td></tr>\n",
      "    <tr><td> <strong>Data filename prefix</strong> </td><td>S20150730S, \\*S20150801S, \\*\\*S20150630S, \\*\\*\\*S20150705S</td></tr>\n",
      "</table>\n",
      "\n",
      "**File numbers:**\n",
      "<table>\n",
      "    <tr><td>Telluric (HIP 112790) </td><td>263-266 (HK, HK, 2pix-slit, 30s)</td></tr>\n",
      "    <tr><td>Darks for telluric </td> <td>\\*435-441 (30s)</td></tr>\n",
      "    <tr><td>Flat </td>               <td>\\*\\*87     (HK, HK, 2pix-slit, 4s)</td></tr>\n",
      "    <tr><td>Darks for flat </td>     <td>\\*\\*\\*134-140 (4s)</td></tr>\n",
      "    <tr><td>Arc </td>                <td>267     (HK, HK, 2pix-slit, 90s)</td></tr>\n",
      "    <tr><td>Darks for arc </td>      <td>\\*449-455 (90s)</td></tr>\n",
      "</table>\n",
      "\n",
      "----"
     ]
    },
    {
     "cell_type": "heading",
     "level": 2,
     "metadata": {},
     "source": [
      "STEP 0: Define variables specific to this target and start parallel PyRAF session."
     ]
    },
    {
     "cell_type": "code",
     "collapsed": true,
     "input": [
      "import os\n",
      "# UPDATE DATE IN REDUX_DIR\n",
      "#redux_dir = '/Users/ckenyon/Gemini/GS-2013B-Q-73/SDSSJ232652.96-003012.6/20131203-05Mar2015/reduxHK'\n",
      "redux_dir = '/Volumes/MyRugged/research/BELR/GS-2015B-Q-27/SDSSJ221750.50-002425.9/science/reduxHK'\n",
      "os.chdir(redux_dir)\n",
      "\n",
      "logfile = \"HK221750.log\"\n",
      "database = \"HK221750_database/\"\n",
      "raw_data_path = \"../../../raw/\"\n",
      "flatroot = \"S20150630S\" ; flats = \"87\"\n",
      "flatdarkroot = \"S20150705S\" ; flatdarks = \"134-140\"\n",
      "arcroot = \"S20150730S\" ; arcs = \"282\"\n",
      "arcdarkroot = \"S20150801S\" ; arcdarks = \"449-455\"\n",
      "objroot = \"S20150730S\" ; objs = \"278-281\"\n",
      "objdarkroot = \"S20150801S\" ; objdarks = \"470-476\"\n",
      "telroot = \"S20150730S\" ; tels = \"263-266\"\n",
      "teldarkroot = \"S20150801S\" ; teldarks = \"435-441\"\n",
      "telarcroot = \"S20150730S\" ; telarcs = \"267\"\n",
      "telarcdarkroot = \"S20150801S\" ; telarcdarks = \"449-455\"\n",
      "\n",
      "lxorder=3 ; lyorder=8  # used by nsfitcoords.  \n",
      "                       # Values are determine in Step 8."
     ],
     "language": "python",
     "metadata": {},
     "outputs": [],
     "prompt_number": 1
    },
    {
     "cell_type": "heading",
     "level": 4,
     "metadata": {},
     "source": [
      "Now get a PyRAF session ready.  This will be needed for some interactive tasks that don't work well in the notebook. "
     ]
    },
    {
     "cell_type": "markdown",
     "metadata": {},
     "source": [
      "Open an xterm or a Terminal, then:\n",
      "\n",
      "\n",
      "UPDATE DATE HERE TOO\n",
      "\n",
      "    cd '/Volumes/MyRugged/research/BELR/GS-2015B-Q-27/SDSSJ221750.50-002425.9/science/reduxHK'\n",
      "    pyraf"
     ]
    },
    {
     "cell_type": "markdown",
     "metadata": {},
     "source": [
      "Then in the PyRAF session:\n",
      "\n",
      "    gemini\n",
      "    f2\n",
      "    unlearn gemini\n",
      "    unlearn f2\n",
      "    unlearn gnirs\n",
      "    unlearn gemtools"
     ]
    },
    {
     "cell_type": "markdown",
     "metadata": {},
     "source": [
      "Get your PyRAF configured.  In the PyRAF session:\n",
      "\n",
      "    iraf.f2.logfile = \"HK221750.log\"\n",
      "    iraf.f2.database = \"HK221750_database/\"\n",
      "    set rawdir = \"../../../raw/\"\n",
      "    set stdimage=imt2048\n",
      "    nsheaders('f2', logfile=iraf.f2.logfile)"
     ]
    },
    {
     "cell_type": "heading",
     "level": 2,
     "metadata": {},
     "source": [
      "STEP 1: Initialize the required packages"
     ]
    },
    {
     "cell_type": "heading",
     "level": 4,
     "metadata": {},
     "source": [
      "Launch ds9 before proceeding further."
     ]
    },
    {
     "cell_type": "heading",
     "level": 4,
     "metadata": {},
     "source": [
      "Load the packages required for the notebook session."
     ]
    },
    {
     "cell_type": "code",
     "collapsed": true,
     "input": [
      "from pyraf import iraf\n",
      "iraf.gemini()\n",
      "iraf.f2()"
     ],
     "language": "python",
     "metadata": {},
     "outputs": [
      {
       "output_type": "stream",
       "stream": "stdout",
       "text": [
        "This is the initial release of the IRAF FITSUTIL package\n",
        "to include support for FITS tile compression via 'fpack'.\n",
        "Please send comments and questions to seaman@noao.edu.\n",
        "\n",
        " \n",
        "     +------------------- Gemini IRAF Package -------------------+\n",
        "     |              Version 1.13, January 30, 2015               |\n",
        "     |             Requires IRAF v2.14.1 or greater              |\n",
        "     |              Tested with Ureka IRAF v2.16                 |\n",
        "     |             Gemini Observatory, Hilo, Hawaii              |\n",
        "     |    Please use the help desk for submission of questions   |\n",
        "     |  http://www.gemini.edu/sciops/helpdesk/helpdeskIndex.html |\n",
        "     +-----------------------------------------------------------+\n",
        " \n",
        "     Warning setting imtype=fits\n",
        "     Warning setting use_new_imt=no\n",
        " \n",
        "gemini/:\n",
        " f2/            gmos/           midir/          oscir/\n",
        " flamingos/     gnirs/          nifs/           quirc/\n",
        " gemtools/      gsaoi/          niri/\n"
       ]
      },
      {
       "output_type": "stream",
       "stream": "stdout",
       "text": [
        "\n",
        "Loading the gnirs package:\n",
        "gnirs/:\n",
        " gnirsexamples  nfflt2pin       nsextract       nsreduce        nstransform\n",
        " gnirsinfo      nfquick         nsfitcoords     nsressky        nswavelength\n",
        " gnirsinfoifu   nsappwave       nsflat          nssdist         nswedit\n",
        " gnirsinfols    nscombine       nsheaders       nsslitfunction  nvnoise\n",
        " gnirsinfoxd    nscut           nsoffset        nsstack         nxdisplay\n",
        " nfcube         nsedge          nsprepare       nstelluric\n",
        "\n",
        "Loading the niri package:\n",
        "niri/:\n",
        " nifastsky      nireduce        niriinfo        nisky           nprepare\n",
        " niflat         niriexamples    nirotate        nisupersky      nresidual\n",
        "\n",
        "Loading the f2 package:\n",
        "f2/:\n",
        " f2cut          f2examples      f2infoimaging   f2infomos\n",
        " f2display      f2info          f2infols        f2prepare\n"
       ]
      }
     ],
     "prompt_number": 2
    },
    {
     "cell_type": "markdown",
     "metadata": {},
     "source": [
      "Reset tasks to the default parameters.  (Note: this doesn't seem to be working from the Python shell.)"
     ]
    },
    {
     "cell_type": "code",
     "collapsed": true,
     "input": [
      "iraf.unlearn(iraf.gemini, iraf.f2, iraf.gnirs, iraf.gemtools)"
     ],
     "language": "python",
     "metadata": {},
     "outputs": [],
     "prompt_number": 3
    },
    {
     "cell_type": "heading",
     "level": 2,
     "metadata": {},
     "source": [
      "STEP 2: Define various parameters and variables."
     ]
    },
    {
     "cell_type": "code",
     "collapsed": true,
     "input": [
      "iraf.f2.logfile = logfile\n",
      "iraf.f2.database = database\n",
      "rawdir = raw_data_path\n",
      "iraf.set(stdimage='imt2048')\n",
      "\n",
      "iraf.nsheaders('f2', logfile=iraf.f2.logfile)"
     ],
     "language": "python",
     "metadata": {},
     "outputs": [
      {
       "output_type": "stream",
       "stream": "stdout",
       "text": [
        "------------------------------------------------------------------------------\n"
       ]
      },
      {
       "output_type": "stream",
       "stream": "stdout",
       "text": [
        "NSHEADERS -- Wed Oct 28 08:06:34 HST 2015\n",
        "\n"
       ]
      },
      {
       "output_type": "stream",
       "stream": "stdout",
       "text": [
        "setting header keywords\n",
        "setting niflat.thresh_flo, niflat.thresh_fup, niflat.thresh_dlo,\n",
        "   and niflat.thresh_dup.\n",
        "setting niflat.statsec"
       ]
      },
      {
       "output_type": "stream",
       "stream": "stdout",
       "text": [
        "\n",
        "setting nifastsky.statsec\n",
        "setting nisky.statsec\n",
        "setting nireduce.statsec"
       ]
      },
      {
       "output_type": "stream",
       "stream": "stdout",
       "text": [
        "\n",
        "setting nsflat.statsec and fitsec\n",
        "setting nswavelength.coordlist, nswavelength.threshold, and"
       ]
      },
      {
       "output_type": "stream",
       "stream": "stdout",
       "text": [
        "\n",
        "   nswavelength.fl_median.\n",
        "setting the default logfile\n",
        "setting the default database\n"
       ]
      }
     ],
     "prompt_number": 3
    },
    {
     "cell_type": "markdown",
     "metadata": {},
     "source": [
      "*If necessary to start from scratch, delete the log file and the database.*"
     ]
    },
    {
     "cell_type": "code",
     "collapsed": true,
     "input": [
      "if (iraf.access(iraf.f2.logfile)):\n",
      "    iraf.delete(iraf.f2.logfile, verify='no')\n",
      "if (iraf.access(iraf.f2.database)):\n",
      "    iraf.delete(iraf.f2.database + '*', verify='no')"
     ],
     "language": "python",
     "metadata": {},
     "outputs": [],
     "prompt_number": 5
    },
    {
     "cell_type": "heading",
     "level": 2,
     "metadata": {},
     "source": [
      "STEP 3: Create the reduction lists"
     ]
    },
    {
     "cell_type": "code",
     "collapsed": true,
     "input": [
      "iraf.delete('flat.lis, flatdark.lis, arc.lis, arcdark.lis, obj.lis, objdark.lis, \\\n",
      "    tel.lis, teldark.lis, telarc.lis, telarcdark.lis', verify='no')\n",
      "\n",
      "iraf.gemlist(flatroot, flats, Stdout='flat.lis')\n",
      "iraf.gemlist(flatdarkroot, flatdarks, Stdout='flatdark.lis')\n",
      "iraf.gemlist(arcroot, arcs, Stdout='arc.lis')\n",
      "iraf.gemlist(arcdarkroot, arcdarks, Stdout='arcdark.lis')\n",
      "iraf.gemlist(objroot, objs, Stdout='obj.lis')\n",
      "iraf.gemlist(objdarkroot, objdarks, Stdout='objdark.lis')\n",
      "iraf.gemlist(telroot, tels, Stdout='tel.lis')\n",
      "iraf.gemlist(teldarkroot, teldarks, Stdout='teldark.lis')\n",
      "iraf.gemlist(telarcroot, telarcs, Stdout='telarc.lis')\n",
      "iraf.gemlist(telarcdarkroot, telarcdarks, Stdout='telarcdark.lis')\n",
      "\n",
      "iraf.concat('flat.lis, flatdark.lis, arc.lis, arcdark.lis, obj.lis, objdark.lis, \\\n",
      "    tel.lis, teldark.lis, telarc.lis, telarcdark.lis', 'all.lis')\n",
      "\n",
      "# remove duplicates\n",
      "all_file = open('all.lis', 'r')\n",
      "all_lines = all_file.readlines()\n",
      "all_file.close()\n",
      "lines_seen = list()\n",
      "for line in all_lines:\n",
      "    if line not in lines_seen:\n",
      "        lines_seen.append(line)\n",
      "all_file = open('all.lis', 'w')\n",
      "all_file.writelines(lines_seen)\n",
      "all_file.close()\n"
     ],
     "language": "python",
     "metadata": {},
     "outputs": [
      {
       "output_type": "stream",
       "stream": "stderr",
       "text": [
        "Warning: Cannot delete file (flat.lis)\n"
       ]
      },
      {
       "output_type": "stream",
       "stream": "stderr",
       "text": [
        "Warning: Cannot delete file (flatdark.lis)\n"
       ]
      },
      {
       "output_type": "stream",
       "stream": "stderr",
       "text": [
        "Warning: Cannot delete file (arc.lis)\n"
       ]
      },
      {
       "output_type": "stream",
       "stream": "stderr",
       "text": [
        "Warning: Cannot delete file (arcdark.lis)\n"
       ]
      },
      {
       "output_type": "stream",
       "stream": "stderr",
       "text": [
        "Warning: Cannot delete file (obj.lis)\n"
       ]
      },
      {
       "output_type": "stream",
       "stream": "stderr",
       "text": [
        "Warning: Cannot delete file (objdark.lis)\n"
       ]
      },
      {
       "output_type": "stream",
       "stream": "stderr",
       "text": [
        "Warning: Cannot delete file (tel.lis)\n"
       ]
      },
      {
       "output_type": "stream",
       "stream": "stderr",
       "text": [
        "Warning: Cannot delete file (teldark.lis)\n"
       ]
      },
      {
       "output_type": "stream",
       "stream": "stderr",
       "text": [
        "Warning: Cannot delete file (telarc.lis)\n"
       ]
      },
      {
       "output_type": "stream",
       "stream": "stderr",
       "text": [
        "Warning: Cannot delete file (telarcdark.lis)\n"
       ]
      }
     ],
     "prompt_number": 6
    },
    {
     "cell_type": "heading",
     "level": 2,
     "metadata": {},
     "source": [
      "STEP 4: Visually inspect the data"
     ]
    },
    {
     "cell_type": "code",
     "collapsed": true,
     "input": [
      "all_file = open('all.lis', 'r')\n",
      "for line in all_file:\n",
      "    image = line.strip() + '[1]'\n",
      "    print image\n",
      "    iraf.display(rawdir + image, 1)\n",
      "    iraf.sleep(5)\n",
      "    \n",
      "all_file.close()"
     ],
     "language": "python",
     "metadata": {},
     "outputs": [
      {
       "output_type": "stream",
       "stream": "stdout",
       "text": [
        "S20150630S0087[1]\n",
        "z1=-79. z2=27147.\n"
       ]
      },
      {
       "output_type": "stream",
       "stream": "stdout",
       "text": [
        "S20150705S0134[1]\n",
        "z1=-75. z2=275.3539\n"
       ]
      },
      {
       "output_type": "stream",
       "stream": "stdout",
       "text": [
        "S20150705S0135[1]\n",
        "z1=-70. z2=266.4071\n"
       ]
      },
      {
       "output_type": "stream",
       "stream": "stdout",
       "text": [
        "S20150705S0136[1]\n",
        "z1=-70.66469 z2=260.9967\n"
       ]
      },
      {
       "output_type": "stream",
       "stream": "stdout",
       "text": [
        "S20150705S0137[1]\n",
        "z1=-73. z2=278.5409\n"
       ]
      },
      {
       "output_type": "stream",
       "stream": "stdout",
       "text": [
        "S20150705S0138[1]\n",
        "z1=-76.13686 z2=266.4798\n"
       ]
      },
      {
       "output_type": "stream",
       "stream": "stdout",
       "text": [
        "S20150705S0139[1]\n",
        "z1=-74.03656 z2=266.3773\n"
       ]
      },
      {
       "output_type": "stream",
       "stream": "stdout",
       "text": [
        "S20150705S0140[1]\n",
        "z1=-72. z2=277.8439\n"
       ]
      },
      {
       "output_type": "stream",
       "stream": "stdout",
       "text": [
        "S20150730S0282[1]\n",
        "z1=-52. z2=3694.136\n"
       ]
      },
      {
       "output_type": "stream",
       "stream": "stdout",
       "text": [
        "S20150801S0449[1]\n",
        "z1=-72.15263 z2=266.4916\n"
       ]
      },
      {
       "output_type": "stream",
       "stream": "stdout",
       "text": [
        "S20150801S0450[1]\n",
        "z1=-71.40135 z2=263.7368\n"
       ]
      },
      {
       "output_type": "stream",
       "stream": "stdout",
       "text": [
        "S20150801S0451[1]\n",
        "z1=-74. z2=264.4514\n"
       ]
      },
      {
       "output_type": "stream",
       "stream": "stdout",
       "text": [
        "S20150801S0452[1]\n",
        "z1=-72. z2=265.7183\n"
       ]
      },
      {
       "output_type": "stream",
       "stream": "stdout",
       "text": [
        "S20150801S0453[1]\n",
        "z1=-74.9375 z2=268.2811\n"
       ]
      },
      {
       "output_type": "stream",
       "stream": "stdout",
       "text": [
        "S20150801S0454[1]\n",
        "z1=-74. z2=266.2322\n"
       ]
      },
      {
       "output_type": "stream",
       "stream": "stdout",
       "text": [
        "S20150801S0455[1]\n",
        "z1=-77. z2=267.3255\n"
       ]
      },
      {
       "output_type": "stream",
       "stream": "stdout",
       "text": [
        "S20150730S0278[1]\n",
        "z1=-238. z2=10619.3\n"
       ]
      },
      {
       "output_type": "stream",
       "stream": "stdout",
       "text": [
        "S20150730S0279[1]\n",
        "z1=-132. z2=10784.67\n"
       ]
      },
      {
       "output_type": "stream",
       "stream": "stdout",
       "text": [
        "S20150730S0280[1]\n",
        "z1=-126. z2=11058.48\n"
       ]
      },
      {
       "output_type": "stream",
       "stream": "stdout",
       "text": [
        "S20150730S0281[1]\n",
        "z1=-135. z2=11885.34\n"
       ]
      },
      {
       "output_type": "stream",
       "stream": "stdout",
       "text": [
        "S20150801S0470[1]\n",
        "z1=-81. z2=437.0107\n"
       ]
      },
      {
       "output_type": "stream",
       "stream": "stdout",
       "text": [
        "S20150801S0471[1]\n",
        "z1=-111. z2=436.8688\n"
       ]
      },
      {
       "output_type": "stream",
       "stream": "stdout",
       "text": [
        "S20150801S0472[1]\n",
        "z1=-100. z2=435.7098\n"
       ]
      },
      {
       "output_type": "stream",
       "stream": "stdout",
       "text": [
        "S20150801S0473[1]\n",
        "z1=-114. z2=429.4601\n"
       ]
      },
      {
       "output_type": "stream",
       "stream": "stdout",
       "text": [
        "S20150801S0474[1]\n",
        "z1=-114. z2=431.6388\n"
       ]
      },
      {
       "output_type": "stream",
       "stream": "stdout",
       "text": [
        "S20150801S0475[1]\n",
        "z1=-114. z2=423.1916\n"
       ]
      },
      {
       "output_type": "stream",
       "stream": "stdout",
       "text": [
        "S20150801S0476[1]\n",
        "z1=-88. z2=415.2224\n"
       ]
      },
      {
       "output_type": "stream",
       "stream": "stdout",
       "text": [
        "S20150730S0263[1]\n",
        "z1=-83. z2=526.0419\n"
       ]
      },
      {
       "output_type": "stream",
       "stream": "stdout",
       "text": [
        "S20150730S0264[1]\n",
        "z1=-79. z2=509.4111\n"
       ]
      },
      {
       "output_type": "stream",
       "stream": "stdout",
       "text": [
        "S20150730S0265[1]\n",
        "z1=-81. z2=501.6959\n"
       ]
      },
      {
       "output_type": "stream",
       "stream": "stdout",
       "text": [
        "S20150730S0266[1]\n",
        "z1=-77. z2=526.567\n"
       ]
      },
      {
       "output_type": "stream",
       "stream": "stdout",
       "text": [
        "S20150801S0435[1]\n",
        "z1=-66.5546 z2=254.8763\n"
       ]
      },
      {
       "output_type": "stream",
       "stream": "stdout",
       "text": [
        "S20150801S0436[1]\n",
        "z1=-62.73286 z2=253.049\n"
       ]
      },
      {
       "output_type": "stream",
       "stream": "stdout",
       "text": [
        "S20150801S0437[1]\n",
        "z1=-73.61891 z2=259.9528\n"
       ]
      },
      {
       "output_type": "stream",
       "stream": "stdout",
       "text": [
        "S20150801S0438[1]\n",
        "z1=-65.75383 z2=254.074\n"
       ]
      },
      {
       "output_type": "stream",
       "stream": "stdout",
       "text": [
        "S20150801S0439[1]\n",
        "z1=-67.34642 z2=256.6708\n"
       ]
      },
      {
       "output_type": "stream",
       "stream": "stdout",
       "text": [
        "S20150801S0440[1]\n",
        "z1=-76.10368 z2=266.4466\n"
       ]
      },
      {
       "output_type": "stream",
       "stream": "stdout",
       "text": [
        "S20150801S0441[1]\n",
        "z1=-71.54187 z2=259.8736\n"
       ]
      },
      {
       "output_type": "stream",
       "stream": "stdout",
       "text": [
        "S20150730S0267[1]\n",
        "z1=-58. z2=3534.858\n"
       ]
      }
     ],
     "prompt_number": 7
    },
    {
     "cell_type": "heading",
     "level": 2,
     "metadata": {},
     "source": [
      "STEP 5: f2prepare all the data"
     ]
    },
    {
     "cell_type": "code",
     "collapsed": false,
     "input": [
      "iraf.imdelete('f@all.lis', verify='no')\n",
      "iraf.f2prepare('@all.lis', rawpath=rawdir, fl_vardq='yes', fl_correct='yes', \\\n",
      "               fl_saturated='yes', fl_nonlinear='yes')"
     ],
     "language": "python",
     "metadata": {},
     "outputs": [
      {
       "output_type": "stream",
       "stream": "stdout",
       "text": [
        "----------------------------------------------------------------------------\n",
        "F2PREPARE -- Mon Oct 26 10:46:58 HST 2015\n",
        " \n",
        "\n"
       ]
      },
      {
       "output_type": "stream",
       "stream": "stdout",
       "text": [
        "Processing 39 files\n"
       ]
      },
      {
       "output_type": "stream",
       "stream": "stdout",
       "text": [
        "WARNING - F2PREPARE: Bad pixel mask is either an empty string or contains\n",
        "                     spaces. Not using BPM to generate data quality plane.\n",
        " \n",
        "  n      input file -->      output file\n",
        "                 filter     focal plane       input BPM   RON  gain     sat\n",
        " \n"
       ]
      },
      {
       "output_type": "stream",
       "stream": "stdout",
       "text": [
        "  1 ../../../raw/S20150630S0087 -->  fS20150630S0087 \n",
        "                     HK       2pix-slit            none  11.7   4.4   35000 \n"
       ]
      },
      {
       "output_type": "stream",
       "stream": "stdout",
       "text": [
        "  2 ../../../raw/S20150705S0134 -->  fS20150705S0134 \n",
        "                   Dark      2-pix_grid            none  11.7   4.4   35000 \n"
       ]
      },
      {
       "output_type": "stream",
       "stream": "stdout",
       "text": [
        "  3 ../../../raw/S20150705S0135 -->  fS20150705S0135 \n",
        "                   Dark      2-pix_grid            none  11.7   4.4   35000 \n"
       ]
      },
      {
       "output_type": "stream",
       "stream": "stdout",
       "text": [
        "  4 ../../../raw/S20150705S0136 -->  fS20150705S0136 \n",
        "                   Dark      2-pix_grid            none  11.7   4.4   35000 \n"
       ]
      },
      {
       "output_type": "stream",
       "stream": "stdout",
       "text": [
        "  5 ../../../raw/S20150705S0137 -->  fS20150705S0137 \n",
        "                   Dark      2-pix_grid            none  11.7   4.4   35000 \n"
       ]
      },
      {
       "output_type": "stream",
       "stream": "stdout",
       "text": [
        "  6 ../../../raw/S20150705S0138 -->  fS20150705S0138 \n",
        "                   Dark      2-pix_grid            none  11.7   4.4   35000 \n"
       ]
      },
      {
       "output_type": "stream",
       "stream": "stdout",
       "text": [
        "  7 ../../../raw/S20150705S0139 -->  fS20150705S0139 \n",
        "                   Dark      2-pix_grid            none  11.7   4.4   35000 \n"
       ]
      },
      {
       "output_type": "stream",
       "stream": "stdout",
       "text": [
        "  8 ../../../raw/S20150705S0140 -->  fS20150705S0140 \n",
        "                   Dark      2-pix_grid            none  11.7   4.4   35000 \n"
       ]
      },
      {
       "output_type": "stream",
       "stream": "stdout",
       "text": [
        "  9 ../../../raw/S20150730S0282 -->  fS20150730S0282 \n",
        "                     HK       2pix-slit            none  11.7   4.4   35000 \n"
       ]
      },
      {
       "output_type": "stream",
       "stream": "stdout",
       "text": [
        " 10 ../../../raw/S20150801S0449 -->  fS20150801S0449 \n",
        "                   Dark      2-pix_grid            none  11.7   4.4   35000 \n"
       ]
      },
      {
       "output_type": "stream",
       "stream": "stdout",
       "text": [
        " 11 ../../../raw/S20150801S0450 -->  fS20150801S0450 \n",
        "                   Dark      2-pix_grid            none  11.7   4.4   35000 \n"
       ]
      },
      {
       "output_type": "stream",
       "stream": "stdout",
       "text": [
        " 12 ../../../raw/S20150801S0451 -->  fS20150801S0451 \n",
        "                   Dark      2-pix_grid            none  11.7   4.4   35000 \n"
       ]
      },
      {
       "output_type": "stream",
       "stream": "stdout",
       "text": [
        " 13 ../../../raw/S20150801S0452 -->  fS20150801S0452 \n",
        "                   Dark      2-pix_grid            none  11.7   4.4   35000 \n"
       ]
      },
      {
       "output_type": "stream",
       "stream": "stdout",
       "text": [
        " 14 ../../../raw/S20150801S0453 -->  fS20150801S0453 \n",
        "                   Dark      2-pix_grid            none  11.7   4.4   35000 \n"
       ]
      },
      {
       "output_type": "stream",
       "stream": "stdout",
       "text": [
        " 15 ../../../raw/S20150801S0454 -->  fS20150801S0454 \n",
        "                   Dark      2-pix_grid            none  11.7   4.4   35000 \n"
       ]
      },
      {
       "output_type": "stream",
       "stream": "stdout",
       "text": [
        " 16 ../../../raw/S20150801S0455 -->  fS20150801S0455 \n",
        "                   Dark      2-pix_grid            none  11.7   4.4   35000 \n",
        "Dividing ../../../raw/S20150730S0278 by number of non-destructive reads: 8"
       ]
      },
      {
       "output_type": "stream",
       "stream": "stdout",
       "text": [
        "\n"
       ]
      },
      {
       "output_type": "stream",
       "stream": "stdout",
       "text": [
        " 17 ../../../raw/S20150730S0278 -->  fS20150730S0278 \n",
        "                     HK       2pix-slit            none   5.0   4.4   35000 \n",
        "Dividing ../../../raw/S20150730S0279 by number of non-destructive reads: 8"
       ]
      },
      {
       "output_type": "stream",
       "stream": "stdout",
       "text": [
        "\n"
       ]
      },
      {
       "output_type": "stream",
       "stream": "stdout",
       "text": [
        " 18 ../../../raw/S20150730S0279 -->  fS20150730S0279 \n",
        "                     HK       2pix-slit            none   5.0   4.4   35000 \n",
        "Dividing ../../../raw/S20150730S0280 by number of non-destructive reads: 8"
       ]
      },
      {
       "output_type": "stream",
       "stream": "stdout",
       "text": [
        "\n"
       ]
      },
      {
       "output_type": "stream",
       "stream": "stdout",
       "text": [
        " 19 ../../../raw/S20150730S0280 -->  fS20150730S0280 \n",
        "                     HK       2pix-slit            none   5.0   4.4   35000 \n",
        "Dividing ../../../raw/S20150730S0281 by number of non-destructive reads: 8"
       ]
      },
      {
       "output_type": "stream",
       "stream": "stdout",
       "text": [
        "\n"
       ]
      },
      {
       "output_type": "stream",
       "stream": "stdout",
       "text": [
        " 20 ../../../raw/S20150730S0281 -->  fS20150730S0281 \n",
        "                     HK       2pix-slit            none   5.0   4.4   35000 \n",
        "Dividing ../../../raw/S20150801S0470 by number of non-destructive reads: 8"
       ]
      },
      {
       "output_type": "stream",
       "stream": "stdout",
       "text": [
        "\n"
       ]
      },
      {
       "output_type": "stream",
       "stream": "stdout",
       "text": [
        " 21 ../../../raw/S20150801S0470 -->  fS20150801S0470 \n",
        "                   Dark      2-pix_grid            none   5.0   4.4   35000 \n",
        "Dividing ../../../raw/S20150801S0471 by number of non-destructive reads: 8"
       ]
      },
      {
       "output_type": "stream",
       "stream": "stdout",
       "text": [
        "\n"
       ]
      },
      {
       "output_type": "stream",
       "stream": "stdout",
       "text": [
        " 22 ../../../raw/S20150801S0471 -->  fS20150801S0471 \n",
        "                   Dark      2-pix_grid            none   5.0   4.4   35000 \n",
        "Dividing ../../../raw/S20150801S0472 by number of non-destructive reads: 8"
       ]
      },
      {
       "output_type": "stream",
       "stream": "stdout",
       "text": [
        "\n"
       ]
      },
      {
       "output_type": "stream",
       "stream": "stdout",
       "text": [
        " 23 ../../../raw/S20150801S0472 -->  fS20150801S0472 \n",
        "                   Dark      2-pix_grid            none   5.0   4.4   35000 \n",
        "Dividing ../../../raw/S20150801S0473 by number of non-destructive reads: 8"
       ]
      },
      {
       "output_type": "stream",
       "stream": "stdout",
       "text": [
        "\n"
       ]
      },
      {
       "output_type": "stream",
       "stream": "stdout",
       "text": [
        " 24 ../../../raw/S20150801S0473 -->  fS20150801S0473 \n",
        "                   Dark      2-pix_grid            none   5.0   4.4   35000 \n",
        "Dividing ../../../raw/S20150801S0474 by number of non-destructive reads: 8"
       ]
      },
      {
       "output_type": "stream",
       "stream": "stdout",
       "text": [
        "\n"
       ]
      },
      {
       "output_type": "stream",
       "stream": "stdout",
       "text": [
        " 25 ../../../raw/S20150801S0474 -->  fS20150801S0474 \n",
        "                   Dark      2-pix_grid            none   5.0   4.4   35000 \n",
        "Dividing ../../../raw/S20150801S0475 by number of non-destructive reads: 8"
       ]
      },
      {
       "output_type": "stream",
       "stream": "stdout",
       "text": [
        "\n"
       ]
      },
      {
       "output_type": "stream",
       "stream": "stdout",
       "text": [
        " 26 ../../../raw/S20150801S0475 -->  fS20150801S0475 \n",
        "                   Dark      2-pix_grid            none   5.0   4.4   35000 \n",
        "Dividing ../../../raw/S20150801S0476 by number of non-destructive reads: 8"
       ]
      },
      {
       "output_type": "stream",
       "stream": "stdout",
       "text": [
        "\n"
       ]
      },
      {
       "output_type": "stream",
       "stream": "stdout",
       "text": [
        " 27 ../../../raw/S20150801S0476 -->  fS20150801S0476 \n",
        "                   Dark      2-pix_grid            none   5.0   4.4   35000 \n"
       ]
      },
      {
       "output_type": "stream",
       "stream": "stdout",
       "text": [
        " 28 ../../../raw/S20150730S0263 -->  fS20150730S0263 \n",
        "                     HK       2pix-slit            none  11.7   4.4   35000 \n"
       ]
      },
      {
       "output_type": "stream",
       "stream": "stdout",
       "text": [
        " 29 ../../../raw/S20150730S0264 -->  fS20150730S0264 \n",
        "                     HK       2pix-slit            none  11.7   4.4   35000 \n"
       ]
      },
      {
       "output_type": "stream",
       "stream": "stdout",
       "text": [
        " 30 ../../../raw/S20150730S0265 -->  fS20150730S0265 \n",
        "                     HK       2pix-slit            none  11.7   4.4   35000 \n"
       ]
      },
      {
       "output_type": "stream",
       "stream": "stdout",
       "text": [
        " 31 ../../../raw/S20150730S0266 -->  fS20150730S0266 \n",
        "                     HK       2pix-slit            none  11.7   4.4   35000 \n"
       ]
      },
      {
       "output_type": "stream",
       "stream": "stdout",
       "text": [
        " 32 ../../../raw/S20150801S0435 -->  fS20150801S0435 \n",
        "                   Dark      2-pix_grid            none  11.7   4.4   35000 \n"
       ]
      },
      {
       "output_type": "stream",
       "stream": "stdout",
       "text": [
        " 33 ../../../raw/S20150801S0436 -->  fS20150801S0436 \n",
        "                   Dark      2-pix_grid            none  11.7   4.4   35000 \n"
       ]
      },
      {
       "output_type": "stream",
       "stream": "stdout",
       "text": [
        " 34 ../../../raw/S20150801S0437 -->  fS20150801S0437 \n",
        "                   Dark      2-pix_grid            none  11.7   4.4   35000 \n"
       ]
      },
      {
       "output_type": "stream",
       "stream": "stdout",
       "text": [
        " 35 ../../../raw/S20150801S0438 -->  fS20150801S0438 \n",
        "                   Dark      2-pix_grid            none  11.7   4.4   35000 \n"
       ]
      },
      {
       "output_type": "stream",
       "stream": "stdout",
       "text": [
        " 36 ../../../raw/S20150801S0439 -->  fS20150801S0439 \n",
        "                   Dark      2-pix_grid            none  11.7   4.4   35000 \n"
       ]
      },
      {
       "output_type": "stream",
       "stream": "stdout",
       "text": [
        " 37 ../../../raw/S20150801S0440 -->  fS20150801S0440 \n",
        "                   Dark      2-pix_grid            none  11.7   4.4   35000 \n"
       ]
      },
      {
       "output_type": "stream",
       "stream": "stdout",
       "text": [
        " 38 ../../../raw/S20150801S0441 -->  fS20150801S0441 \n",
        "                   Dark      2-pix_grid            none  11.7   4.4   35000 \n"
       ]
      },
      {
       "output_type": "stream",
       "stream": "stdout",
       "text": [
        " 39 ../../../raw/S20150730S0267 -->  fS20150730S0267 \n",
        "                     HK       2pix-slit            none  11.7   4.4   35000 \n",
        " \n",
        "F2PREPARE exit status: good.\n",
        "----------------------------------------------------------------------------\n"
       ]
      }
     ],
     "prompt_number": 8
    },
    {
     "cell_type": "heading",
     "level": 2,
     "metadata": {},
     "source": [
      "STEP 6:  Create the necessary dark frames"
     ]
    },
    {
     "cell_type": "code",
     "collapsed": true,
     "input": [
      "iraf.delete('fflatdark.lis', verify='no')\n",
      "iraf.imdelete('flatdark.fits', verify='no')\n",
      "iraf.sections('f@flatdark.lis', Stdout='fflatdark.lis')\n",
      "iraf.gemcombine('@fflatdark.lis', 'flatdark.fits', combine='average', \\\n",
      "    fl_vardq='yes', logfile=iraf.f2.logfile)\n",
      "\n",
      "iraf.delete('farcdark.lis', verify='no')\n",
      "iraf.imdelete('arcdark.fits', verify='no')\n",
      "iraf.sections('f@arcdark.lis', Stdout='farcdark.lis')\n",
      "iraf.gemcombine('@farcdark.lis', 'arcdark.fits', combine='average', \\\n",
      "    fl_vardq='yes', logfile=iraf.f2.logfile)\n",
      "\n",
      "iraf.delete('fobjdark.lis', verify='no')\n",
      "iraf.imdelete('objdark.fits', verify='no')\n",
      "iraf.sections('f@objdark.lis', Stdout='fobjdark.lis')\n",
      "iraf.gemcombine('@fobjdark.lis', 'objdark.fits', combine='average', \\\n",
      "    fl_vardq='yes', logfile=iraf.f2.logfile)\n",
      "\n",
      "iraf.delete('fteldark.lis', verify='no')\n",
      "iraf.imdelete('teldark.fits', verify='no')\n",
      "iraf.sections('f@teldark.lis', Stdout='fteldark.lis')\n",
      "iraf.gemcombine('@fteldark.lis', 'teldark.fits', combine='average', \\\n",
      "    fl_vardq='yes', logfile=iraf.f2.logfile)\n",
      "\n",
      "iraf.delete('ftelarcdark.lis', verify='no')\n",
      "iraf.imdelete('telarcdark.fits', verify='no')\n",
      "iraf.sections('f@telarcdark.lis', Stdout='ftelarcdark.lis')\n",
      "iraf.gemcombine('@ftelarcdark.lis', 'telarcdark.fits', combine='average', \\\n",
      "    fl_vardq='yes', logfile=iraf.f2.logfile)\n"
     ],
     "language": "python",
     "metadata": {},
     "outputs": [
      {
       "output_type": "stream",
       "stream": "stderr",
       "text": [
        "Warning: Cannot delete file (fflatdark.lis)\n"
       ]
      },
      {
       "output_type": "stream",
       "stream": "stdout",
       "text": [
        "--------------------------------------------------------------------------------\n",
        "GEMCOMBINE -- Mon Oct 26 10:51:12 HST 2015\n",
        " \n",
        "GEMCOMBINE: input = @fflatdark.lis\n",
        "GEMCOMBINE: output = flatdark.fits\n",
        "GEMCOMBINE: title = \n",
        "GEMCOMBINE: bpmfile = \n",
        "GEMCOMBINE: sci_ext = SCI\n",
        "GEMCOMBINE: var_ext = VAR\n",
        "GEMCOMBINE: dq_ext = DQ\n",
        " \n"
       ]
      },
      {
       "output_type": "stream",
       "stream": "stdout",
       "text": [
        "\n",
        "Oct 26 10:51: IMCOMBINE\n",
        "  combine = average, scale = none, zero = none, weight = none\n",
        "  reject = avsigclip, mclip = yes, nkeep = 1\n",
        "  lsigma = 3., hsigma = 3.\n",
        "  blank = 0.\n",
        "  statsec = Oct 26 10:51\n",
        "                Images \n",
        "  fS20150705S0134.fits[SCI]\n",
        "  fS20150705S0135.fits[SCI]\n",
        "  fS20150705S0136.fits[SCI]\n",
        "  fS20150705S0137.fits[SCI]\n",
        "  fS20150705S0138.fits[SCI]\n",
        "  fS20150705S0139.fits[SCI]\n",
        "  fS20150705S0140.fits[SCI]\n",
        "\n",
        "  Output image = tmpcombout49811_336, ncombine = 7\n",
        "  Number rejected mask = tmpcombdq49811_337.pl\n",
        "  Sigma image = tmpcombsig49811_338\n"
       ]
      },
      {
       "output_type": "stream",
       "stream": "stdout",
       "text": [
        " \n",
        "GEMCOMBINE -- Finished: Mon Oct 26 10:51:25 HST 2015\n",
        " \n",
        "GEMCOMBINE -- Exit status: GOOD\n",
        "--------------------------------------------------------------------------------\n"
       ]
      },
      {
       "output_type": "stream",
       "stream": "stderr",
       "text": [
        "Warning: Cannot delete file (farcdark.lis)\n"
       ]
      },
      {
       "output_type": "stream",
       "stream": "stdout",
       "text": [
        "--------------------------------------------------------------------------------\n",
        "GEMCOMBINE -- Mon Oct 26 10:51:25 HST 2015\n",
        " \n",
        "GEMCOMBINE: input = @farcdark.lis\n",
        "GEMCOMBINE: output = arcdark.fits\n",
        "GEMCOMBINE: title = \n",
        "GEMCOMBINE: bpmfile = \n",
        "GEMCOMBINE: sci_ext = SCI\n",
        "GEMCOMBINE: var_ext = VAR\n",
        "GEMCOMBINE: dq_ext = DQ\n",
        " \n"
       ]
      },
      {
       "output_type": "stream",
       "stream": "stdout",
       "text": [
        "\n",
        "Oct 26 10:51: IMCOMBINE\n",
        "  combine = average, scale = none, zero = none, weight = none\n",
        "  reject = avsigclip, mclip = yes, nkeep = 1\n",
        "  lsigma = 3., hsigma = 3.\n",
        "  blank = 0.\n",
        "  statsec = Oct 26 10:51\n",
        "                Images \n",
        "  fS20150801S0449.fits[SCI]\n",
        "  fS20150801S0450.fits[SCI]\n",
        "  fS20150801S0451.fits[SCI]\n",
        "  fS20150801S0452.fits[SCI]\n",
        "  fS20150801S0453.fits[SCI]\n",
        "  fS20150801S0454.fits[SCI]\n",
        "  fS20150801S0455.fits[SCI]\n",
        "\n",
        "  Output image = tmpcombout49811_356, ncombine = 7\n",
        "  Number rejected mask = tmpcombdq49811_357.pl\n",
        "  Sigma image = tmpcombsig49811_358\n"
       ]
      },
      {
       "output_type": "stream",
       "stream": "stdout",
       "text": [
        " \n",
        "GEMCOMBINE -- Finished: Mon Oct 26 10:51:39 HST 2015\n",
        " \n",
        "GEMCOMBINE -- Exit status: GOOD\n",
        "--------------------------------------------------------------------------------\n"
       ]
      },
      {
       "output_type": "stream",
       "stream": "stderr",
       "text": [
        "Warning: Cannot delete file (fobjdark.lis)\n"
       ]
      },
      {
       "output_type": "stream",
       "stream": "stdout",
       "text": [
        "--------------------------------------------------------------------------------\n",
        "GEMCOMBINE -- Mon Oct 26 10:51:39 HST 2015\n",
        " \n",
        "GEMCOMBINE: input = @fobjdark.lis\n",
        "GEMCOMBINE: output = objdark.fits\n",
        "GEMCOMBINE: title = \n",
        "GEMCOMBINE: bpmfile = \n",
        "GEMCOMBINE: sci_ext = SCI\n",
        "GEMCOMBINE: var_ext = VAR\n",
        "GEMCOMBINE: dq_ext = DQ\n",
        " \n"
       ]
      },
      {
       "output_type": "stream",
       "stream": "stdout",
       "text": [
        "\n",
        "Oct 26 10:51: IMCOMBINE\n",
        "  combine = average, scale = none, zero = none, weight = none\n",
        "  reject = avsigclip, mclip = yes, nkeep = 1\n",
        "  lsigma = 3., hsigma = 3.\n",
        "  blank = 0.\n",
        "  statsec = Oct 26 10:51\n",
        "                Images \n",
        "  fS20150801S0470.fits[SCI]\n",
        "  fS20150801S0471.fits[SCI]\n",
        "  fS20150801S0472.fits[SCI]\n",
        "  fS20150801S0473.fits[SCI]\n",
        "  fS20150801S0474.fits[SCI]\n",
        "  fS20150801S0475.fits[SCI]\n",
        "  fS20150801S0476.fits[SCI]\n",
        "\n",
        "  Output image = tmpcombout49811_376, ncombine = 7\n",
        "  Number rejected mask = tmpcombdq49811_377.pl\n",
        "  Sigma image = tmpcombsig49811_378\n"
       ]
      },
      {
       "output_type": "stream",
       "stream": "stdout",
       "text": [
        " \n",
        "GEMCOMBINE -- Finished: Mon Oct 26 10:51:53 HST 2015\n",
        " \n",
        "GEMCOMBINE -- Exit status: GOOD\n",
        "--------------------------------------------------------------------------------\n"
       ]
      },
      {
       "output_type": "stream",
       "stream": "stderr",
       "text": [
        "Warning: Cannot delete file (fteldark.lis)\n"
       ]
      },
      {
       "output_type": "stream",
       "stream": "stdout",
       "text": [
        "--------------------------------------------------------------------------------\n",
        "GEMCOMBINE -- Mon Oct 26 10:51:53 HST 2015\n",
        " \n",
        "GEMCOMBINE: input = @fteldark.lis\n",
        "GEMCOMBINE: output = teldark.fits\n",
        "GEMCOMBINE: title = \n",
        "GEMCOMBINE: bpmfile = \n",
        "GEMCOMBINE: sci_ext = SCI\n",
        "GEMCOMBINE: var_ext = VAR\n",
        "GEMCOMBINE: dq_ext = DQ\n",
        " \n"
       ]
      },
      {
       "output_type": "stream",
       "stream": "stdout",
       "text": [
        "\n",
        "Oct 26 10:51: IMCOMBINE\n",
        "  combine = average, scale = none, zero = none, weight = none\n",
        "  reject = avsigclip, mclip = yes, nkeep = 1\n",
        "  lsigma = 3., hsigma = 3.\n",
        "  blank = 0.\n",
        "  statsec = Oct 26 10:51\n",
        "                Images \n",
        "  fS20150801S0435.fits[SCI]\n",
        "  fS20150801S0436.fits[SCI]\n",
        "  fS20150801S0437.fits[SCI]\n",
        "  fS20150801S0438.fits[SCI]\n",
        "  fS20150801S0439.fits[SCI]\n",
        "  fS20150801S0440.fits[SCI]\n",
        "  fS20150801S0441.fits[SCI]\n",
        "\n",
        "  Output image = tmpcombout49811_396, ncombine = 7\n",
        "  Number rejected mask = tmpcombdq49811_397.pl\n",
        "  Sigma image = tmpcombsig49811_398\n"
       ]
      },
      {
       "output_type": "stream",
       "stream": "stdout",
       "text": [
        " \n",
        "GEMCOMBINE -- Finished: Mon Oct 26 10:52:06 HST 2015\n",
        " \n",
        "GEMCOMBINE -- Exit status: GOOD\n",
        "--------------------------------------------------------------------------------\n"
       ]
      },
      {
       "output_type": "stream",
       "stream": "stderr",
       "text": [
        "Warning: Cannot delete file (ftelarcdark.lis)\n"
       ]
      },
      {
       "output_type": "stream",
       "stream": "stdout",
       "text": [
        "--------------------------------------------------------------------------------\n",
        "GEMCOMBINE -- Mon Oct 26 10:52:06 HST 2015\n",
        " \n",
        "GEMCOMBINE: input = @ftelarcdark.lis\n",
        "GEMCOMBINE: output = telarcdark.fits\n",
        "GEMCOMBINE: title = \n",
        "GEMCOMBINE: bpmfile = \n",
        "GEMCOMBINE: sci_ext = SCI\n",
        "GEMCOMBINE: var_ext = VAR\n",
        "GEMCOMBINE: dq_ext = DQ\n",
        " \n"
       ]
      },
      {
       "output_type": "stream",
       "stream": "stdout",
       "text": [
        "\n",
        "Oct 26 10:52: IMCOMBINE\n",
        "  combine = average, scale = none, zero = none, weight = none\n",
        "  reject = avsigclip, mclip = yes, nkeep = 1\n",
        "  lsigma = 3., hsigma = 3.\n",
        "  blank = 0.\n",
        "  statsec = Oct 26 10:52\n",
        "                Images \n",
        "  fS20150801S0449.fits[SCI]\n",
        "  fS20150801S0450.fits[SCI]\n",
        "  fS20150801S0451.fits[SCI]\n",
        "  fS20150801S0452.fits[SCI]\n",
        "  fS20150801S0453.fits[SCI]\n",
        "  fS20150801S0454.fits[SCI]\n",
        "  fS20150801S0455.fits[SCI]\n",
        "\n",
        "  Output image = tmpcombout49811_416, ncombine = 7\n",
        "  Number rejected mask = tmpcombdq49811_417.pl\n",
        "  Sigma image = tmpcombsig49811_418\n"
       ]
      },
      {
       "output_type": "stream",
       "stream": "stdout",
       "text": [
        " \n",
        "GEMCOMBINE -- Finished: Mon Oct 26 10:52:18 HST 2015\n",
        " \n",
        "GEMCOMBINE -- Exit status: GOOD\n",
        "--------------------------------------------------------------------------------\n"
       ]
      }
     ],
     "prompt_number": 9
    },
    {
     "cell_type": "heading",
     "level": 2,
     "metadata": {},
     "source": [
      "STEP 7:  Create the normalized flat field and BPM."
     ]
    },
    {
     "cell_type": "heading",
     "level": 3,
     "metadata": {},
     "source": [
      "Subtract the dark from the flat images then cut"
     ]
    },
    {
     "cell_type": "code",
     "collapsed": true,
     "input": [
      "iraf.imdelete ('df@flat.lis', verify='no')\n",
      "\n",
      "file = open('flat.lis', 'r')\n",
      "for line in file:\n",
      "\timage = line.strip()\n",
      "\tiraf.gemarith ('f' + image, '-', 'flatdark.fits', 'df' + image, \\\n",
      "\t\tfl_vardq='yes', logfile=iraf.f2.logfile)\n",
      "\n",
      "file.close()\n",
      "\n",
      "iraf.imdelete ('cdf@flat.lis', verify='no')\n",
      "iraf.f2cut ('df@flat.lis')"
     ],
     "language": "python",
     "metadata": {},
     "outputs": [
      {
       "output_type": "stream",
       "stream": "stdout",
       "text": [
        "GEMARITH begin (this task relies on gemexpr)\n"
       ]
      },
      {
       "output_type": "stream",
       "stream": "stdout",
       "text": [
        "GEMARITH PHU copy: fS20150630S0087[0] --> dfS20150630S0087[0,APPEND])\n"
       ]
      },
      {
       "output_type": "stream",
       "stream": "stdout",
       "text": [
        "GEMARITH No MDF present in source\n"
       ]
      },
      {
       "output_type": "stream",
       "stream": "stdout",
       "text": [
        "GEMARITH gemarith: done\n"
       ]
      },
      {
       "output_type": "stream",
       "stream": "stdout",
       "text": [
        "----------------------------------------------------------------------------\n",
        "F2CUT -- Mon Oct 26 10:52:29 HST 2015\n",
        " \n",
        "\n",
        "Pixel scale: 0.1797"
       ]
      },
      {
       "output_type": "stream",
       "stream": "stdout",
       "text": [
        "\n",
        "Grism: HK_G5802\n",
        "Filter: HK\n",
        "\n",
        "dfS20150630S0087 --> cdfS20150630S0087"
       ]
      },
      {
       "output_type": "stream",
       "stream": "stdout",
       "text": [
        "\n",
        " [SCI,1][57:1490,200:1797] --> [SCI,1]\n"
       ]
      },
      {
       "output_type": "stream",
       "stream": "stdout",
       "text": [
        " \n",
        "F2CUT exit status: good.\n",
        "----------------------------------------------------------------------------\n"
       ]
      }
     ],
     "prompt_number": 10
    },
    {
     "cell_type": "heading",
     "level": 3,
     "metadata": {},
     "source": [
      "Construct the normalised flat field.  "
     ]
    },
    {
     "cell_type": "markdown",
     "metadata": {},
     "source": [
      "The flats are derived from images taken with the calibration unit (GCAL) shutter open (\"lamps-on\").  It is recommended to run <code>nsflat</code> interactively to ensure a good fit of the lamp's profile.\n",
      "\n",
      "The fit order must be high enough to fit the lamp's profile but not too high since we do not want to fit the variations due to the pixel to pixel variation.  For the HK filter, the fit should look like in the screenshots below.  Note that in the zoomed plot, the fit matches the overall profile, not the high frequency variations.\n",
      "\n",
      "The overall fit:\n",
      "\n",
      "![SC-HK-nsflat_fit](screenshots/SC-HK-nsflat_fit.png)\n",
      "\n",
      "<br \\>\n",
      "Zooming in to confirm that the high frequency signal is not being fit:  \n",
      "\n",
      "![SC-HK-nsflat_fit_zoom](screenshots/SC-HK-nsflat_fit_zoom.png)"
     ]
    },
    {
     "cell_type": "markdown",
     "metadata": {},
     "source": [
      "If the order needs to be changed, the <code>:order</code> command will be required and that does not work well in the iPython notebook.  So copy the following to the PyRAF we prepared earlier, and find a good fit.\n",
      "\n",
      "    iraf.imdelete('flat.fits,f2_ls_bpm.pl', verify='no')\n",
      "    iraf.nsflat('cdf@flat.lis', flatfile='flat.fits', \\\n",
      "        bpmfile='f2_ls_bpm.pl', thr_flo=0.35, thr_fup=3.0, \\\n",
      "        fl_inter='yes', order=120)\n",
      "        "
     ]
    },
    {
     "cell_type": "heading",
     "level": 2,
     "metadata": {},
     "source": [
      "STEP 8:  Reduce the science arc and determine the wavelength solution"
     ]
    },
    {
     "cell_type": "markdown",
     "metadata": {},
     "source": [
      "The wavelength solution is derived from an arc taken right after the science observation, before anything is moved (eg. grating, slit, etc.)\n",
      "\n",
      "We will reduce the arc and calculate the wavelength solution as this is what we will surely be using for the science observations.\n",
      "\n",
      "The wavelength solution step really should be done in interactive mode as it is not uncommon to have to reject lines and/or adjust the matches with the line list."
     ]
    },
    {
     "cell_type": "heading",
     "level": 3,
     "metadata": {},
     "source": [
      "Reduce the science arc"
     ]
    },
    {
     "cell_type": "code",
     "collapsed": true,
     "input": [
      "# Subtract the dark from the arc images prior to cutting and flat dividing.\n",
      "\n",
      "iraf.imdelete('df@arc.lis', verify='no')\n",
      "iraf.nsreduce('f@arc.lis', outprefix='d', fl_cut='no', fl_process_cut='no', \\\n",
      "    fl_dark='yes', darkimage='arcdark.fits', fl_sky='no', fl_flat='no')\n",
      "\n",
      "# Cut the arc images and divide by the normalised flat field image.\n",
      "\n",
      "iraf.imdelete('rdf@arc.lis', verify='no')\n",
      "iraf.nsreduce('df@arc.lis', fl_cut='yes', fl_dark='no', fl_sky='no', fl_flat='yes', \\\n",
      "    flatimage='flat.fits')\n",
      "\n",
      "# Combine the arc files (if there is more than one arc file)\n",
      "\n",
      "iraf.imdelete('arc.fits', verify='no')\n",
      "iraf.delete('rdfarc.lis', verify='no')\n",
      "iraf.sections('rdf@arc.lis//.fits', Stdout='rdfarc.lis')\n",
      "\n",
      "count = 0\n",
      "file = open('arc.lis', 'r')\n",
      "for line in file:\n",
      "\tcount += 1\n",
      "\n",
      "if count == 1:\n",
      "\tiraf.copy ('@rdfarc.lis', 'arc.fits')\n",
      "else:\n",
      "\tiraf.gemcombine ('@rdfarc.lis', 'arc.fits', fl_vardq='yes')\n",
      "\n",
      "file.close()\n",
      "print 'Done'"
     ],
     "language": "python",
     "metadata": {},
     "outputs": [
      {
       "output_type": "stream",
       "stream": "stdout",
       "text": [
        "-------------------------------------------------------------------------------\n",
        "NSREDUCE -- Mon Oct 26 10:58:08 HST 2015\n",
        " \n",
        "NSREDUCE: Processing 1 extension(s) from 1 file(s)."
       ]
      },
      {
       "output_type": "stream",
       "stream": "stdout",
       "text": [
        "\n"
       ]
      },
      {
       "output_type": "stream",
       "stream": "stdout",
       "text": [
        "NSREDUCE: slit: 2pix-slit\n",
        "NSREDUCE: filter: HK\n",
        "\n",
        "   n input                   --> output                  sky image\n",
        " dark                    flat                    scale\n",
        "\n",
        "   1 fS20150730S0282         --> dfS20150730S0282        none                   \n",
        " arcdark                 none                    1.0000 \n"
       ]
      },
      {
       "output_type": "stream",
       "stream": "stdout",
       "text": [
        " \n",
        "NSREDUCE exit status: good.\n",
        "------------------------------------------------------------------------------\n",
        "-------------------------------------------------------------------------------"
       ]
      },
      {
       "output_type": "stream",
       "stream": "stdout",
       "text": [
        "\n",
        "NSREDUCE -- Mon Oct 26 10:58:11 HST 2015\n",
        " \n",
        "----------------------------------------------------------------------------"
       ]
      },
      {
       "output_type": "stream",
       "stream": "stdout",
       "text": [
        "\n",
        "F2CUT -- Mon Oct 26 10:58:11 HST 2015\n",
        " \n",
        "\n",
        "Pixel scale: 0.1797"
       ]
      },
      {
       "output_type": "stream",
       "stream": "stdout",
       "text": [
        "\n",
        "Grism: HK_G5802\n",
        "Filter: HK\n",
        "\n",
        "dfS20150730S0282 --> dfS20150730S0282-49811_489"
       ]
      },
      {
       "output_type": "stream",
       "stream": "stdout",
       "text": [
        "\n",
        " [SCI,1][57:1490,200:1797] --> [SCI,1]\n"
       ]
      },
      {
       "output_type": "stream",
       "stream": "stdout",
       "text": [
        " \n",
        "F2CUT exit status: good.\n",
        "----------------------------------------------------------------------------\n",
        "------------------------------------------------------------------------------"
       ]
      },
      {
       "output_type": "stream",
       "stream": "stdout",
       "text": [
        "\n",
        "NSAPPWAVE -- Mon Oct 26 10:58:13 HST 2015\n",
        " \n"
       ]
      },
      {
       "output_type": "stream",
       "stream": "stdout",
       "text": [
        "NSAPPWAVE: Processing 1 extension(s) from 1 file(s).\n",
        "  Camera     Grating    Filter     Prism      FPMask     Wave   Delta Order Axis\n",
        "dfS20150730S0282-49811_489 -> dfS20150730S0282-49811_490 ( 1)"
       ]
      },
      {
       "output_type": "stream",
       "stream": "stdout",
       "text": [
        "\n",
        "  f/16_G5830   HK_G5802         HK             2pix-slit 18710.00 -7.83 INDEF 2\n"
       ]
      },
      {
       "output_type": "stream",
       "stream": "stdout",
       "text": [
        "NSAPPWAVE: cradius not from table for dfS20150730S0282-49811_489.\n",
        "           (further table messages supressed for this file).\n",
        "  extension  1: 18710.000000 -7.826000 INDEF\n"
       ]
      },
      {
       "output_type": "stream",
       "stream": "stdout",
       "text": [
        "\n",
        "NSAPPWAVE Exit status good\n",
        "------------------------------------------------------------------------------\n",
        "NSREDUCE: Processing 1 extension(s) from 1 file(s)."
       ]
      },
      {
       "output_type": "stream",
       "stream": "stdout",
       "text": [
        "\n"
       ]
      },
      {
       "output_type": "stream",
       "stream": "stdout",
       "text": [
        "NSREDUCE: slit: 2pix-slit\n",
        "NSREDUCE: filter: HK\n",
        "\n",
        "   n input                   --> output                  sky image\n",
        " dark                    flat                    scale\n",
        "\n",
        "   1 dfS20150730S0282        --> rdfS20150730S0282       none                   \n",
        " none                    flat                    1.0000 \n"
       ]
      },
      {
       "output_type": "stream",
       "stream": "stdout",
       "text": [
        " \n",
        "NSREDUCE exit status: good.\n",
        "------------------------------------------------------------------------------\n"
       ]
      },
      {
       "output_type": "stream",
       "stream": "stderr",
       "text": [
        "Warning: Cannot delete file (rdfarc.lis)\n"
       ]
      },
      {
       "output_type": "stream",
       "stream": "stdout",
       "text": [
        "Done\n"
       ]
      }
     ],
     "prompt_number": 11
    },
    {
     "cell_type": "heading",
     "level": 3,
     "metadata": {},
     "source": [
      "Determine the wavelength solution from the science arc"
     ]
    },
    {
     "cell_type": "markdown",
     "metadata": {},
     "source": [
      "Normally, the lines will be identified automatically and this step, while interactive is used to delete a couple outliers and visually confirm that the fit is good.\n",
      "\n",
      "If, for some reason (it can happen), the lines do not get identified automatically and they need to be marked manually, you will need to run the two commands below in the PyRAF sessions since you will need full interactive support.  But most of the time, running this in the notebook works okay."
     ]
    },
    {
     "cell_type": "code",
     "collapsed": true,
     "input": [
      "iraf.imdelete ('warc.fits', verify='no')\n",
      "iraf.nswavelength ('arc.fits', fl_inter='yes', order=8)\n",
      "\n",
      "# Be very careful when fitting the turnover around 21000.\n",
      "# RMS: 0.7023\n",
      "# Blue end matches confirmed with the J-band arc plot from the Gemini website."
     ],
     "language": "python",
     "metadata": {},
     "outputs": [
      {
       "output_type": "stream",
       "stream": "stdout",
       "text": [
        "-------------------------------------------------------------------------------\n",
        "NSWAVELENGTH -- Mon Oct 26 10:59:17 HST 2015\n"
       ]
      },
      {
       "output_type": "stream",
       "stream": "stdout",
       "text": [
        "\n",
        "NSWAVELENGTH: LS data detected. Calling nswhelper to process data."
       ]
      },
      {
       "output_type": "stream",
       "stream": "stdout",
       "text": [
        "\n",
        "-------------------------------------------------------------------------------\n",
        "NSWHELPER -- Mon Oct 26 10:59:17 HST 2015\n"
       ]
      },
      {
       "output_type": "stream",
       "stream": "stdout",
       "text": [
        "\n"
       ]
      },
      {
       "output_type": "stream",
       "stream": "stdout",
       "text": [
        "Using input files:\n",
        "arc\n"
       ]
      },
      {
       "output_type": "stream",
       "stream": "stdout",
       "text": [
        "Using output files:\n",
        "warc\n"
       ]
      },
      {
       "output_type": "stream",
       "stream": "stdout",
       "text": [
        "Lamp image: arc[SCI,1]\n",
        "\n"
       ]
      },
      {
       "output_type": "stream",
       "stream": "stdout",
       "text": [
        "AUTOIDENTIFY: NOAO/IRAF V2.16 klabrie@libellule.gemini.edu Mon 10:59:18 26-Oct-2015\n"
       ]
      },
      {
       "output_type": "stream",
       "stream": "stdout",
       "text": [
        "  Spectrum                 # Found   Midpoint Dispersion        RMS\n"
       ]
      },
      {
       "output_type": "stream",
       "stream": "stdout",
       "text": [
        "  warc[SCI,1][717,*]            47     18964.      -7.53      0.702\n"
       ]
      },
      {
       "output_type": "stream",
       "stream": "stdout",
       "text": [
        "warc[SCI,1][717,*]: Examine identifications interactively?"
       ]
      },
      {
       "output_type": "stream",
       "stream": "stdout",
       "text": [
        "   1536.28  13410.724    13410.2 5 NOAO\n"
       ]
      },
      {
       "output_type": "stream",
       "stream": "stdout",
       "text": [
        "   1589.14  13010.875    13011.8 B NOAO\n"
       ]
      },
      {
       "output_type": "stream",
       "stream": "stdout",
       "text": [
        "   1589.14  13010.875    13011.8 B NOAO\n"
       ]
      },
      {
       "output_type": "stream",
       "stream": "stdout",
       "text": [
        "   1589.14  13010.875    13011.8 B NOAO\n"
       ]
      },
      {
       "output_type": "stream",
       "stream": "stdout",
       "text": [
        "window:"
       ]
      },
      {
       "output_type": "stream",
       "stream": "stdout",
       "text": [
        "again:"
       ]
      },
      {
       "output_type": "stream",
       "stream": "stdout",
       "text": [
        "   1589.14  13010.875    13011.8 B NOAO\n"
       ]
      },
      {
       "output_type": "stream",
       "stream": "stdout",
       "text": [
        "   1523.44   13507.74 (   13507.9 1000 NOAO): "
       ]
      },
      {
       "output_type": "stream",
       "stream": "stdout",
       "text": [
        "   1523.44   13507.74    13507.9 1000 NOAO\n"
       ]
      },
      {
       "output_type": "stream",
       "stream": "stdout",
       "text": [
        "   1541.63  13370.288 (   13370.8 1000 NOAO): "
       ]
      },
      {
       "output_type": "stream",
       "stream": "stdout",
       "text": [
        "   1541.63  13370.288    13370.8 1000 NOAO\n"
       ]
      },
      {
       "output_type": "stream",
       "stream": "stdout",
       "text": [
        "   1589.19  13010.512 (   13011.8 200 NOAO): "
       ]
      },
      {
       "output_type": "stream",
       "stream": "stdout",
       "text": [
        "   1589.19  13010.512    13011.8 200 NOAO\n"
       ]
      },
      {
       "output_type": "stream",
       "stream": "stdout",
       "text": [
        "   1495.02  13722.437 (   13722.3 1000 NOAO): "
       ]
      },
      {
       "output_type": "stream",
       "stream": "stdout",
       "text": [
        "   1495.02  13722.437    13722.3 1000 NOAO\n"
       ]
      },
      {
       "output_type": "stream",
       "stream": "stdout",
       "text": [
        "   1495.02  13722.442    13722.3 1000 NOAO\n"
       ]
      },
      {
       "output_type": "stream",
       "stream": "stdout",
       "text": [
        "\n",
        "REIDENTIFY: NOAO/IRAF V2.16 klabrie@libellule.gemini.edu Mon 11:03:22 26-Oct-2015\n"
       ]
      },
      {
       "output_type": "stream",
       "stream": "stdout",
       "text": [
        "  Reference image = warc[SCI,1], New image = warc[SCI,1], Refit = yes\n",
        "          Image Data    Found     Fit Pix Shift  User Shift  Z Shift      RMS\n"
       ]
      },
      {
       "output_type": "stream",
       "stream": "stdout",
       "text": [
        "warc[SCI,1][707,*]     42/42   42/42     0.0346      -0.262  -1.4E-5      0.7\n"
       ]
      },
      {
       "output_type": "stream",
       "stream": "stdout",
       "text": [
        "warc[SCI,1][707,*]     42/42   42/42     0.0346      -0.262  -1.4E-5      0.7\n"
       ]
      },
      {
       "output_type": "stream",
       "stream": "stdout",
       "text": [
        "warc[SCI,1][697,*]     42/42   42/42     0.0734      -0.554  -3.0E-5    0.679\n"
       ]
      },
      {
       "output_type": "stream",
       "stream": "stdout",
       "text": [
        "warc[SCI,1][687,*]     41/42   41/41      0.115      -0.871  -4.7E-5    0.659\n"
       ]
      },
      {
       "output_type": "stream",
       "stream": "stdout",
       "text": [
        "warc[SCI,1][677,*]     42/42   42/42      0.153       -1.16  -6.2E-5    0.661\n"
       ]
      },
      {
       "output_type": "stream",
       "stream": "stdout",
       "text": [
        "warc[SCI,1][667,*]     41/42   41/41      0.192       -1.45  -7.8E-5    0.684\n"
       ]
      },
      {
       "output_type": "stream",
       "stream": "stdout",
       "text": [
        "warc[SCI,1][657,*]     41/42   41/41      0.225        -1.7  -9.2E-5    0.689\n"
       ]
      },
      {
       "output_type": "stream",
       "stream": "stdout",
       "text": [
        "warc[SCI,1][647,*]     41/42   41/41      0.279       -2.11  -1.2E-4    0.752\n"
       ]
      },
      {
       "output_type": "stream",
       "stream": "stdout",
       "text": [
        "warc[SCI,1][637,*]     41/42   41/41      0.306       -2.31  -1.3E-4    0.771\n"
       ]
      },
      {
       "output_type": "stream",
       "stream": "stdout",
       "text": [
        "warc[SCI,1][627,*]     41/42   41/41      0.339       -2.56  -1.4E-4    0.747\n"
       ]
      },
      {
       "output_type": "stream",
       "stream": "stdout",
       "text": [
        "warc[SCI,1][617,*]     41/42   41/41      0.371        -2.8  -1.5E-4     0.74\n"
       ]
      },
      {
       "output_type": "stream",
       "stream": "stdout",
       "text": [
        "warc[SCI,1][607,*]     41/42   41/41      0.409       -3.09  -1.7E-4    0.685\n"
       ]
      },
      {
       "output_type": "stream",
       "stream": "stdout",
       "text": [
        "warc[SCI,1][597,*]     41/42   41/41      0.447       -3.38  -1.8E-4     0.74\n"
       ]
      },
      {
       "output_type": "stream",
       "stream": "stdout",
       "text": [
        "warc[SCI,1][587,*]     41/42   40/41      0.478       -3.62  -1.9E-4    0.678\n"
       ]
      },
      {
       "output_type": "stream",
       "stream": "stdout",
       "text": [
        "warc[SCI,1][577,*]     41/42   41/41      0.508       -3.84  -2.1E-4    0.749\n"
       ]
      },
      {
       "output_type": "stream",
       "stream": "stdout",
       "text": [
        "warc[SCI,1][567,*]     41/42   39/41      0.559       -4.22  -2.3E-4    0.629\n"
       ]
      },
      {
       "output_type": "stream",
       "stream": "stdout",
       "text": [
        "warc[SCI,1][557,*]     41/42   41/41      0.594       -4.49  -2.4E-4    0.757\n"
       ]
      },
      {
       "output_type": "stream",
       "stream": "stdout",
       "text": [
        "warc[SCI,1][547,*]     41/42   40/41      0.644       -4.87  -2.6E-4    0.743\n"
       ]
      },
      {
       "output_type": "stream",
       "stream": "stdout",
       "text": [
        "warc[SCI,1][537,*]     42/42   41/42        0.7       -5.29  -2.9E-4    0.803\n"
       ]
      },
      {
       "output_type": "stream",
       "stream": "stdout",
       "text": [
        "warc[SCI,1][527,*]     41/42   40/41      0.768        -5.8  -3.1E-4    0.714\n"
       ]
      },
      {
       "output_type": "stream",
       "stream": "stdout",
       "text": [
        "warc[SCI,1][517,*]     41/42   39/41      0.796       -6.01  -3.2E-4    0.539\n"
       ]
      },
      {
       "output_type": "stream",
       "stream": "stdout",
       "text": [
        "warc[SCI,1][507,*]     41/42   40/41      0.836       -6.32  -3.4E-4    0.643\n"
       ]
      },
      {
       "output_type": "stream",
       "stream": "stdout",
       "text": [
        "warc[SCI,1][497,*]     41/42   40/41      0.885       -6.69  -3.6E-4    0.634\n"
       ]
      },
      {
       "output_type": "stream",
       "stream": "stdout",
       "text": [
        "warc[SCI,1][487,*]     41/42   40/41      0.928       -7.02  -3.8E-4     0.65\n"
       ]
      },
      {
       "output_type": "stream",
       "stream": "stdout",
       "text": [
        "warc[SCI,1][477,*]     41/42   40/41       0.98       -7.41  -4.0E-4    0.737\n"
       ]
      },
      {
       "output_type": "stream",
       "stream": "stdout",
       "text": [
        "warc[SCI,1][467,*]     41/42   41/41       1.02       -7.71  -4.2E-4    0.843\n"
       ]
      },
      {
       "output_type": "stream",
       "stream": "stdout",
       "text": [
        "warc[SCI,1][457,*]     42/42   41/42       1.06       -7.99  -4.3E-4    0.792\n"
       ]
      },
      {
       "output_type": "stream",
       "stream": "stdout",
       "text": [
        "warc[SCI,1][447,*]     42/42   40/42       1.09       -8.24  -4.4E-4    0.627\n"
       ]
      },
      {
       "output_type": "stream",
       "stream": "stdout",
       "text": [
        "warc[SCI,1][437,*]     41/42   41/41       1.13       -8.57  -4.6E-4    0.724\n"
       ]
      },
      {
       "output_type": "stream",
       "stream": "stdout",
       "text": [
        "warc[SCI,1][427,*]     41/42   41/41       1.17       -8.85  -4.7E-4    0.739\n"
       ]
      },
      {
       "output_type": "stream",
       "stream": "stdout",
       "text": [
        "warc[SCI,1][417,*]     42/42   41/42       1.21       -9.12  -4.9E-4    0.665\n"
       ]
      },
      {
       "output_type": "stream",
       "stream": "stdout",
       "text": [
        "warc[SCI,1][407,*]     42/42   41/42       1.26       -9.54  -5.1E-4    0.705\n"
       ]
      },
      {
       "output_type": "stream",
       "stream": "stdout",
       "text": [
        "warc[SCI,1][397,*]     42/42   40/42       1.31       -9.89  -5.3E-4    0.625\n"
       ]
      },
      {
       "output_type": "stream",
       "stream": "stdout",
       "text": [
        "warc[SCI,1][387,*]     42/42   41/42       1.36       -10.3  -5.5E-4    0.678\n"
       ]
      },
      {
       "output_type": "stream",
       "stream": "stdout",
       "text": [
        "warc[SCI,1][377,*]     42/42   41/42       1.41       -10.6  -5.7E-4    0.637\n"
       ]
      },
      {
       "output_type": "stream",
       "stream": "stdout",
       "text": [
        "warc[SCI,1][367,*]     42/42   42/42       1.45       -10.9  -5.8E-4    0.816\n"
       ]
      },
      {
       "output_type": "stream",
       "stream": "stdout",
       "text": [
        "warc[SCI,1][357,*]     41/42   41/41       1.48       -11.2  -6.0E-4     0.78\n"
       ]
      },
      {
       "output_type": "stream",
       "stream": "stdout",
       "text": [
        "warc[SCI,1][347,*]     42/42   42/42       1.56       -11.8  -6.3E-4    0.827\n"
       ]
      },
      {
       "output_type": "stream",
       "stream": "stdout",
       "text": [
        "warc[SCI,1][337,*]     42/42   42/42       1.62       -12.3  -6.6E-4     0.88\n"
       ]
      },
      {
       "output_type": "stream",
       "stream": "stdout",
       "text": [
        "warc[SCI,1][327,*]     42/42   42/42       1.68       -12.7  -6.8E-4    0.896\n"
       ]
      },
      {
       "output_type": "stream",
       "stream": "stdout",
       "text": [
        "warc[SCI,1][317,*]     41/42   40/41       1.58        -12.  -6.5E-4    0.827\n"
       ]
      },
      {
       "output_type": "stream",
       "stream": "stdout",
       "text": [
        "warc[SCI,1][307,*]     42/42   42/42        1.8       -13.6  -7.3E-4    0.819\n"
       ]
      },
      {
       "output_type": "stream",
       "stream": "stdout",
       "text": [
        "warc[SCI,1][297,*]     42/42   42/42        1.8       -13.6  -7.3E-4     1.91\n"
       ]
      },
      {
       "output_type": "stream",
       "stream": "stdout",
       "text": [
        "warc[SCI,1][287,*]     42/42   42/42       1.93       -14.6  -7.8E-4    0.815\n"
       ]
      },
      {
       "output_type": "stream",
       "stream": "stdout",
       "text": [
        "warc[SCI,1][277,*]     42/42   41/42       1.99       -15.1  -8.0E-4     0.72\n"
       ]
      },
      {
       "output_type": "stream",
       "stream": "stdout",
       "text": [
        "warc[SCI,1][267,*]     42/42   42/42       2.05       -15.5  -8.3E-4    0.866\n"
       ]
      },
      {
       "output_type": "stream",
       "stream": "stdout",
       "text": [
        "warc[SCI,1][257,*]     41/42   40/41       1.93       -14.6  -7.9E-4    0.802\n"
       ]
      },
      {
       "output_type": "stream",
       "stream": "stdout",
       "text": [
        "warc[SCI,1][247,*]     41/42   40/41       1.98        -15.  -8.1E-4    0.786\n"
       ]
      },
      {
       "output_type": "stream",
       "stream": "stdout",
       "text": [
        "warc[SCI,1][237,*]     41/42   39/41       2.06       -15.5  -8.4E-4    0.632\n"
       ]
      },
      {
       "output_type": "stream",
       "stream": "stdout",
       "text": [
        "warc[SCI,1][227,*]     41/42   38/41       2.12        -16.  -8.7E-4     0.55\n"
       ]
      },
      {
       "output_type": "stream",
       "stream": "stdout",
       "text": [
        "warc[SCI,1][217,*]     42/42   40/42       2.37       -17.9  -9.6E-4    0.509\n"
       ]
      },
      {
       "output_type": "stream",
       "stream": "stdout",
       "text": [
        "warc[SCI,1][207,*]     42/42   42/42       2.42       -18.3  -9.7E-4     0.69\n"
       ]
      },
      {
       "output_type": "stream",
       "stream": "stdout",
       "text": [
        "warc[SCI,1][197,*]     42/42   41/42       2.49       -18.8  -1.0E-3    0.609\n"
       ]
      },
      {
       "output_type": "stream",
       "stream": "stdout",
       "text": [
        "warc[SCI,1][187,*]     41/42   39/41        2.4       -18.1  -9.8E-4    0.596\n"
       ]
      },
      {
       "output_type": "stream",
       "stream": "stdout",
       "text": [
        "warc[SCI,1][177,*]     41/42   38/41       2.48       -18.8   -0.001    0.546\n"
       ]
      },
      {
       "output_type": "stream",
       "stream": "stdout",
       "text": [
        "warc[SCI,1][167,*]     41/42   38/41       2.53       -19.2   -0.001    0.544\n"
       ]
      },
      {
       "output_type": "stream",
       "stream": "stdout",
       "text": [
        "warc[SCI,1][157,*]     40/42   38/40        2.6       -19.6  -0.0011    0.587\n"
       ]
      },
      {
       "output_type": "stream",
       "stream": "stdout",
       "text": [
        "warc[SCI,1][147,*]     41/42   39/41       2.58       -19.5   -0.001    0.583\n"
       ]
      },
      {
       "output_type": "stream",
       "stream": "stdout",
       "text": [
        "warc[SCI,1][137,*]     41/42   39/41       2.63       -19.9  -0.0011    0.702\n"
       ]
      },
      {
       "output_type": "stream",
       "stream": "stdout",
       "text": [
        "warc[SCI,1][127,*]     41/42   39/41       2.71       -20.4  -0.0011    0.802\n"
       ]
      },
      {
       "output_type": "stream",
       "stream": "stdout",
       "text": [
        "warc[SCI,1][117,*]     41/42   40/41        2.8       -21.1  -0.0011    0.889\n"
       ]
      },
      {
       "output_type": "stream",
       "stream": "stdout",
       "text": [
        "warc[SCI,1][107,*]     41/42   40/41       2.89       -21.8  -0.0012    0.735\n"
       ]
      },
      {
       "output_type": "stream",
       "stream": "stdout",
       "text": [
        "warc[SCI,1][97,*]      41/42   40/41       2.96       -22.3  -0.0012    0.771\n"
       ]
      },
      {
       "output_type": "stream",
       "stream": "stdout",
       "text": [
        "warc[SCI,1][87,*]      41/42   39/41       3.02       -22.8  -0.0012    0.672\n"
       ]
      },
      {
       "output_type": "stream",
       "stream": "stdout",
       "text": [
        "warc[SCI,1][77,*]      41/42   40/41       3.07       -23.2  -0.0012    0.753\n"
       ]
      },
      {
       "output_type": "stream",
       "stream": "stdout",
       "text": [
        "warc[SCI,1][67,*]      40/42   39/40       3.01       -22.7  -0.0012    0.715\n"
       ]
      },
      {
       "output_type": "stream",
       "stream": "stdout",
       "text": [
        "warc[SCI,1][57,*]      39/42   37/39       2.96       -22.3  -0.0012    0.768\n"
       ]
      },
      {
       "output_type": "stream",
       "stream": "stdout",
       "text": [
        "warc[SCI,1][47,*]      39/42   37/39       3.04       -22.9  -0.0013    0.762\n"
       ]
      },
      {
       "output_type": "stream",
       "stream": "stdout",
       "text": [
        "warc[SCI,1][37,*]      39/42   37/39       3.12       -23.5  -0.0013    0.872\n"
       ]
      },
      {
       "output_type": "stream",
       "stream": "stdout",
       "text": [
        "warc[SCI,1][27,*]      38/42   37/38       3.05        -23.  -0.0013     1.09\n",
        "Non-monotonic dispersion function"
       ]
      },
      {
       "output_type": "stream",
       "stream": "stdout",
       "text": [
        "    ** Too many features lost **\n"
       ]
      },
      {
       "output_type": "stream",
       "stream": "stdout",
       "text": [
        "warc[SCI,1][17,*]      38/42   37/38        3.1       -23.4  -0.0013     1.11\n",
        "Non-monotonic dispersion function"
       ]
      },
      {
       "output_type": "stream",
       "stream": "stdout",
       "text": [
        "    ** Too many features lost **\n"
       ]
      },
      {
       "output_type": "stream",
       "stream": "stdout",
       "text": [
        "warc[SCI,1][7,*]       38/42   38/38       3.17       -23.9  -0.0013      1.4\n",
        "Non-monotonic dispersion function"
       ]
      },
      {
       "output_type": "stream",
       "stream": "stdout",
       "text": [
        "    ** Too many features lost **\n"
       ]
      },
      {
       "output_type": "stream",
       "stream": "stdout",
       "text": [
        "warc[SCI,1][727,*]     42/42   41/42    -0.0352       0.266  1.48E-5    0.641\n"
       ]
      },
      {
       "output_type": "stream",
       "stream": "stdout",
       "text": [
        "warc[SCI,1][737,*]     42/42   40/42    -0.0716       0.541  3.01E-5    0.539\n"
       ]
      },
      {
       "output_type": "stream",
       "stream": "stdout",
       "text": [
        "warc[SCI,1][747,*]     42/42   41/42     -0.104       0.787  4.34E-5     0.61\n"
       ]
      },
      {
       "output_type": "stream",
       "stream": "stdout",
       "text": [
        "warc[SCI,1][757,*]     42/42   41/42     -0.137        1.04  5.70E-5    0.605\n"
       ]
      },
      {
       "output_type": "stream",
       "stream": "stdout",
       "text": [
        "warc[SCI,1][767,*]     42/42   41/42     -0.171        1.29  7.16E-5    0.657\n"
       ]
      },
      {
       "output_type": "stream",
       "stream": "stdout",
       "text": [
        "warc[SCI,1][777,*]     42/42   41/42     -0.204        1.54  8.57E-5    0.689\n"
       ]
      },
      {
       "output_type": "stream",
       "stream": "stdout",
       "text": [
        "warc[SCI,1][787,*]     41/42   41/41     -0.237        1.79  9.93E-5    0.683\n"
       ]
      },
      {
       "output_type": "stream",
       "stream": "stdout",
       "text": [
        "warc[SCI,1][797,*]     41/42   41/41      -0.27        2.04  1.13E-4    0.625\n"
       ]
      },
      {
       "output_type": "stream",
       "stream": "stdout",
       "text": [
        "warc[SCI,1][807,*]     42/42   41/42     -0.325        2.46  1.38E-4    0.636\n"
       ]
      },
      {
       "output_type": "stream",
       "stream": "stdout",
       "text": [
        "warc[SCI,1][817,*]     42/42   42/42     -0.359        2.71  1.53E-4    0.722\n"
       ]
      },
      {
       "output_type": "stream",
       "stream": "stdout",
       "text": [
        "warc[SCI,1][827,*]     42/42   41/42     -0.393        2.97  1.67E-4    0.658\n"
       ]
      },
      {
       "output_type": "stream",
       "stream": "stdout",
       "text": [
        "warc[SCI,1][837,*]     42/42   41/42      -0.43        3.25  1.84E-4    0.621\n"
       ]
      },
      {
       "output_type": "stream",
       "stream": "stdout",
       "text": [
        "warc[SCI,1][847,*]     42/42   42/42     -0.453        3.42  1.93E-4    0.763\n"
       ]
      },
      {
       "output_type": "stream",
       "stream": "stdout",
       "text": [
        "warc[SCI,1][857,*]     42/42   42/42     -0.474        3.58  2.02E-4    0.724\n"
       ]
      },
      {
       "output_type": "stream",
       "stream": "stdout",
       "text": [
        "warc[SCI,1][867,*]     42/42   42/42     -0.506        3.82  2.16E-4    0.725\n"
       ]
      },
      {
       "output_type": "stream",
       "stream": "stdout",
       "text": [
        "warc[SCI,1][877,*]     42/42   41/42     -0.547        4.13  2.35E-4    0.727\n"
       ]
      },
      {
       "output_type": "stream",
       "stream": "stdout",
       "text": [
        "warc[SCI,1][887,*]     42/42   42/42     -0.554        4.19  2.37E-4    0.717\n"
       ]
      },
      {
       "output_type": "stream",
       "stream": "stdout",
       "text": [
        "warc[SCI,1][897,*]     42/42   42/42     -0.587        4.44  2.51E-4    0.715\n"
       ]
      },
      {
       "output_type": "stream",
       "stream": "stdout",
       "text": [
        "warc[SCI,1][907,*]     42/42   42/42     -0.621        4.69  2.65E-4    0.719\n"
       ]
      },
      {
       "output_type": "stream",
       "stream": "stdout",
       "text": [
        "warc[SCI,1][917,*]     42/42   41/42     -0.656        4.95  2.81E-4    0.652\n"
       ]
      },
      {
       "output_type": "stream",
       "stream": "stdout",
       "text": [
        "warc[SCI,1][927,*]     42/42   42/42     -0.677        5.12  2.91E-4    0.702\n"
       ]
      },
      {
       "output_type": "stream",
       "stream": "stdout",
       "text": [
        "warc[SCI,1][937,*]     41/42   41/41     -0.712        5.38  3.06E-4    0.696\n"
       ]
      },
      {
       "output_type": "stream",
       "stream": "stdout",
       "text": [
        "warc[SCI,1][947,*]     41/42   41/41     -0.733        5.53  3.15E-4    0.667\n"
       ]
      },
      {
       "output_type": "stream",
       "stream": "stdout",
       "text": [
        "warc[SCI,1][957,*]     42/42   42/42     -0.741         5.6  3.19E-4    0.774\n"
       ]
      },
      {
       "output_type": "stream",
       "stream": "stdout",
       "text": [
        "warc[SCI,1][967,*]     41/42   41/41     -0.773        5.84  3.33E-4    0.668\n"
       ]
      },
      {
       "output_type": "stream",
       "stream": "stdout",
       "text": [
        "warc[SCI,1][977,*]     41/42   41/41     -0.791        5.97  3.40E-4    0.664\n"
       ]
      },
      {
       "output_type": "stream",
       "stream": "stdout",
       "text": [
        "warc[SCI,1][987,*]     42/42   41/42     -0.797        6.02  3.44E-4    0.653\n"
       ]
      },
      {
       "output_type": "stream",
       "stream": "stdout",
       "text": [
        "warc[SCI,1][997,*]     42/42   41/42     -0.812        6.13  3.50E-4    0.658\n"
       ]
      },
      {
       "output_type": "stream",
       "stream": "stdout",
       "text": [
        "warc[SCI,1][1007,*]    42/42   41/42     -0.826        6.24  3.56E-4    0.661\n"
       ]
      },
      {
       "output_type": "stream",
       "stream": "stdout",
       "text": [
        "warc[SCI,1][1017,*]    42/42   41/42      -0.84        6.35  3.63E-4    0.684\n"
       ]
      },
      {
       "output_type": "stream",
       "stream": "stdout",
       "text": [
        "warc[SCI,1][1027,*]    41/42   41/41     -0.878        6.64  3.81E-4    0.699\n"
       ]
      },
      {
       "output_type": "stream",
       "stream": "stdout",
       "text": [
        "warc[SCI,1][1037,*]    41/42   41/41     -0.881        6.66  3.83E-4    0.663\n"
       ]
      },
      {
       "output_type": "stream",
       "stream": "stdout",
       "text": [
        "warc[SCI,1][1047,*]    41/42   41/41     -0.892        6.74  3.88E-4    0.684\n"
       ]
      },
      {
       "output_type": "stream",
       "stream": "stdout",
       "text": [
        "warc[SCI,1][1057,*]    41/42   41/41     -0.899        6.79  3.91E-4    0.673\n"
       ]
      },
      {
       "output_type": "stream",
       "stream": "stdout",
       "text": [
        "warc[SCI,1][1067,*]    42/42   41/42     -0.899        6.79  3.92E-4    0.687\n"
       ]
      },
      {
       "output_type": "stream",
       "stream": "stdout",
       "text": [
        "warc[SCI,1][1077,*]    41/42   41/41     -0.942        7.11  4.11E-4    0.698\n"
       ]
      },
      {
       "output_type": "stream",
       "stream": "stdout",
       "text": [
        "warc[SCI,1][1087,*]    41/42   41/41     -0.957        7.23  4.19E-4    0.702\n"
       ]
      },
      {
       "output_type": "stream",
       "stream": "stdout",
       "text": [
        "warc[SCI,1][1097,*]    41/42   41/41     -0.966         7.3  4.23E-4    0.712\n"
       ]
      },
      {
       "output_type": "stream",
       "stream": "stdout",
       "text": [
        "warc[SCI,1][1107,*]    41/42   41/41     -0.978        7.39  4.29E-4    0.722\n"
       ]
      },
      {
       "output_type": "stream",
       "stream": "stdout",
       "text": [
        "warc[SCI,1][1117,*]    41/42   41/41     -0.998        7.54  4.38E-4    0.713\n"
       ]
      },
      {
       "output_type": "stream",
       "stream": "stdout",
       "text": [
        "warc[SCI,1][1127,*]    41/42   41/41      -1.01        7.66  4.46E-4    0.717\n"
       ]
      },
      {
       "output_type": "stream",
       "stream": "stdout",
       "text": [
        "warc[SCI,1][1137,*]    41/42   41/41      -1.03        7.78  4.55E-4    0.732\n"
       ]
      },
      {
       "output_type": "stream",
       "stream": "stdout",
       "text": [
        "warc[SCI,1][1147,*]    41/42   41/41      -1.05        7.95  4.65E-4    0.778\n"
       ]
      },
      {
       "output_type": "stream",
       "stream": "stdout",
       "text": [
        "warc[SCI,1][1157,*]    42/42   41/42      -1.06        8.03  4.73E-4    0.691\n"
       ]
      },
      {
       "output_type": "stream",
       "stream": "stdout",
       "text": [
        "warc[SCI,1][1167,*]    42/42   42/42      -1.08        8.15  4.82E-4    0.825\n"
       ]
      },
      {
       "output_type": "stream",
       "stream": "stdout",
       "text": [
        "warc[SCI,1][1177,*]    42/42   41/42      -1.09        8.27  4.90E-4    0.749\n"
       ]
      },
      {
       "output_type": "stream",
       "stream": "stdout",
       "text": [
        "warc[SCI,1][1187,*]    42/42   41/42      -1.11         8.4  4.97E-4    0.685\n"
       ]
      },
      {
       "output_type": "stream",
       "stream": "stdout",
       "text": [
        "warc[SCI,1][1197,*]    42/42   41/42      -1.14        8.61  5.12E-4    0.702\n"
       ]
      },
      {
       "output_type": "stream",
       "stream": "stdout",
       "text": [
        "warc[SCI,1][1207,*]    42/42   41/42      -1.15         8.7  5.18E-4    0.703\n"
       ]
      },
      {
       "output_type": "stream",
       "stream": "stdout",
       "text": [
        "warc[SCI,1][1217,*]    42/42   41/42      -1.16        8.75  5.23E-4    0.679\n"
       ]
      },
      {
       "output_type": "stream",
       "stream": "stdout",
       "text": [
        "warc[SCI,1][1227,*]    42/42   41/42      -1.16        8.77  5.25E-4    0.692\n"
       ]
      },
      {
       "output_type": "stream",
       "stream": "stdout",
       "text": [
        "warc[SCI,1][1237,*]    42/42   41/42      -1.17        8.86  5.31E-4    0.672\n"
       ]
      },
      {
       "output_type": "stream",
       "stream": "stdout",
       "text": [
        "warc[SCI,1][1247,*]    42/42   41/42      -1.18         8.9  5.35E-4    0.684\n"
       ]
      },
      {
       "output_type": "stream",
       "stream": "stdout",
       "text": [
        "warc[SCI,1][1257,*]    42/42   41/42      -1.19        8.96  5.40E-4    0.707\n"
       ]
      },
      {
       "output_type": "stream",
       "stream": "stdout",
       "text": [
        "warc[SCI,1][1267,*]    42/42   41/42      -1.19        8.97  5.42E-4    0.702\n"
       ]
      },
      {
       "output_type": "stream",
       "stream": "stdout",
       "text": [
        "warc[SCI,1][1277,*]    42/42   41/42      -1.18        8.92  5.40E-4    0.741\n"
       ]
      },
      {
       "output_type": "stream",
       "stream": "stdout",
       "text": [
        "warc[SCI,1][1287,*]    42/42   41/42      -1.17        8.83  5.37E-4    0.748\n"
       ]
      },
      {
       "output_type": "stream",
       "stream": "stdout",
       "text": [
        "warc[SCI,1][1297,*]    42/42   41/42      -1.15        8.68  5.28E-4     0.75\n"
       ]
      },
      {
       "output_type": "stream",
       "stream": "stdout",
       "text": [
        "warc[SCI,1][1307,*]    42/42   42/42      -1.14        8.65  5.27E-4    0.868\n"
       ]
      },
      {
       "output_type": "stream",
       "stream": "stdout",
       "text": [
        "warc[SCI,1][1317,*]    42/42   39/42      -1.12        8.49  5.20E-4    0.568\n"
       ]
      },
      {
       "output_type": "stream",
       "stream": "stdout",
       "text": [
        "warc[SCI,1][1327,*]    42/42   42/42      -1.11        8.41  5.16E-4    0.904\n"
       ]
      },
      {
       "output_type": "stream",
       "stream": "stdout",
       "text": [
        "warc[SCI,1][1337,*]    42/42   41/42      -1.11        8.36  5.13E-4    0.789\n"
       ]
      },
      {
       "output_type": "stream",
       "stream": "stdout",
       "text": [
        "warc[SCI,1][1347,*]    41/42   39/41      -1.11        8.38  5.16E-4    0.633\n"
       ]
      },
      {
       "output_type": "stream",
       "stream": "stdout",
       "text": [
        "warc[SCI,1][1357,*]    42/42   42/42      -1.11        8.41  5.19E-4     1.01\n"
       ]
      },
      {
       "output_type": "stream",
       "stream": "stdout",
       "text": [
        "warc[SCI,1][1367,*]    41/42   41/41      -1.13        8.53  5.28E-4    0.892\n"
       ]
      },
      {
       "output_type": "stream",
       "stream": "stdout",
       "text": [
        "warc[SCI,1][1377,*]    42/42   41/42      -1.16        8.76  5.43E-4    0.841\n"
       ]
      },
      {
       "output_type": "stream",
       "stream": "stdout",
       "text": [
        "warc[SCI,1][1387,*]    42/42   39/42      -1.13        8.52  5.32E-4    0.639\n"
       ]
      },
      {
       "output_type": "stream",
       "stream": "stdout",
       "text": [
        "warc[SCI,1][1397,*]    42/42   41/42      -1.12        8.43  5.30E-4    0.875\n"
       ]
      },
      {
       "output_type": "stream",
       "stream": "stdout",
       "text": [
        "warc[SCI,1][1407,*]    42/42   42/42      -1.09        8.24  5.17E-4     1.07\n"
       ]
      },
      {
       "output_type": "stream",
       "stream": "stdout",
       "text": [
        "warc[SCI,1][1417,*]    42/42   42/42      -1.09        8.24  5.19E-4     1.01\n"
       ]
      },
      {
       "output_type": "stream",
       "stream": "stdout",
       "text": [
        "warc[SCI,1][1427,*]    42/42   42/42       -1.1        8.33  5.27E-4    0.983\n"
       ]
      },
      {
       "output_type": "stream",
       "stream": "stdout",
       "text": [
        "\n",
        "NSWHELPER Exit status good\n",
        "-------------------------------------------------------------------------------\n",
        "\n",
        "NSWAVELENGTH Exit status good\n",
        "-------------------------------------------------------------------------------\n"
       ]
      }
     ],
     "prompt_number": 12
    },
    {
     "cell_type": "heading",
     "level": 2,
     "metadata": {},
     "source": [
      "Test recovery of a calibrated arc"
     ]
    },
    {
     "cell_type": "markdown",
     "metadata": {},
     "source": [
      "Confirm that applying the wavelength solution to the arc itself recovers a correctly wavelength-calibrated arc.  The key step is **<code>nsfitcoords</code>**.  The default **<code>lxorder</code>** and **<code>lyorder</code>** are both set to 2 which doesn't seem to be correct.  Running **<code>nsfitcoords</code>** interactively on the arc will allow us to discover the best **<code>lxorder</code>** and **<code>lyorder</code>** for this wavelength solution, and use that as a starting point later when using the arc wavelength solution (**<code>warc.fits</code>**) on the telluric and the science."
     ]
    },
    {
     "cell_type": "markdown",
     "metadata": {},
     "source": [
      "Cut and paste these instructions in the PyRAF session that we prepared in Step 0. \n",
      "\n",
      "    iraf.imdelete('farc.fits', verify='no')\n",
      "    iraf.nsfitcoords('arc.fits', lamptransf='warc.fits', fl_inter='yes')\n",
      "    # Note down the xorder and yorder needed for a good fit.  Use\n",
      "    # that whenever warc.fits is used by nsfitcoords.\n",
      "    # :xorder 3, :yorder 8\n",
      "    # RMS: 0.856"
     ]
    },
    {
     "cell_type": "markdown",
     "metadata": {},
     "source": [
      "Record the lxorder and lyorder in the notebook session for future use."
     ]
    },
    {
     "cell_type": "code",
     "collapsed": true,
     "input": [
      "lxorder=3 ; lyorder=8"
     ],
     "language": "python",
     "metadata": {},
     "outputs": [],
     "prompt_number": 13
    },
    {
     "cell_type": "code",
     "collapsed": true,
     "input": [
      "iraf.imdelete('tfarc.fits', verify='no')\n",
      "iraf.nstransform('farc.fits')\n",
      "iraf.display('tfarc.fits[sci,1]', 1)"
     ],
     "language": "python",
     "metadata": {},
     "outputs": [
      {
       "output_type": "stream",
       "stream": "stdout",
       "text": [
        "-------------------------------------------------------------------------------\n",
        "NSTRANSFORM -- Mon Oct 26 11:09:17 HST 2015\n",
        "\n",
        "Using input files:"
       ]
      },
      {
       "output_type": "stream",
       "stream": "stdout",
       "text": [
        "\n",
        "farc\n"
       ]
      },
      {
       "output_type": "stream",
       "stream": "stdout",
       "text": [
        "Using output files:\n",
        "tfarc\n"
       ]
      },
      {
       "output_type": "stream",
       "stream": "stdout",
       "text": [
        "NSTRANSFORM: Fitnames for farc: farc_SCI_1_lamp\n",
        "WARNING - NSTRANSFORM: No MDF in farc"
       ]
      },
      {
       "output_type": "stream",
       "stream": "stdout",
       "text": [
        "\n"
       ]
      },
      {
       "output_type": "stream",
       "stream": "stdout",
       "text": [
        "NSTRANSFORM: Exit status good\n",
        "-------------------------------------------------------------------------------\n"
       ]
      },
      {
       "output_type": "stream",
       "stream": "stdout",
       "text": [
        "z1=0. z2=5892.191\n"
       ]
      }
     ],
     "prompt_number": 16
    },
    {
     "cell_type": "markdown",
     "metadata": {},
     "source": [
      "Make sure that the top line is nicely straight all the way through.  A straight line means that the xorder and yorder are not too high.  If the line is straight, continue, otherwise repeat the nsfitscoords step.  Either reduce the order or delete points that are way off."
     ]
    },
    {
     "cell_type": "code",
     "collapsed": true,
     "input": [
      "# display the first telluric to identify on which column the spectrum falls in\n",
      "# the A position.\n",
      "first_tel = iraf.head('tel.lis', nlines=1, Stdout=1)[0].strip()\n",
      "iraf.display('f'+first_tel+'[1]', 1)"
     ],
     "language": "python",
     "metadata": {},
     "outputs": [
      {
       "output_type": "stream",
       "stream": "stdout",
       "text": [
        "z1=-83. z2=526.0419\n"
       ]
      }
     ],
     "prompt_number": 17
    },
    {
     "cell_type": "code",
     "collapsed": true,
     "input": [
      "# UPDATE POSITION OF TELLURIC\n",
      "# position of the telluric is column 951 (around the center of the frame)\n",
      "iraf.tel_position = 951"
     ],
     "language": "python",
     "metadata": {},
     "outputs": [],
     "prompt_number": 18
    },
    {
     "cell_type": "code",
     "collapsed": true,
     "input": [
      "iraf.splot('tfarc.fits[sci,1]', line=iraf.tel_position, options=\"auto wreset flip\")"
     ],
     "language": "python",
     "metadata": {},
     "outputs": [
      {
       "output_type": "stream",
       "stream": "stdout",
       "text": [
        "window:"
       ]
      },
      {
       "output_type": "stream",
       "stream": "stdout",
       "text": [
        "again:"
       ]
      },
      {
       "output_type": "stream",
       "stream": "stdout",
       "text": [
        "k again:"
       ]
      },
      {
       "output_type": "stream",
       "stream": "stdout",
       "text": [
        "\n",
        "1: center =  13369.2, flux =  171589., eqw = -28.07, gfwhm =  20.36"
       ]
      },
      {
       "output_type": "stream",
       "stream": "stdout",
       "text": [
        "k again:"
       ]
      },
      {
       "output_type": "stream",
       "stream": "stdout",
       "text": [
        "\n",
        "1: center =  13504.2, flux =  694062., eqw =  -560., gfwhm =  34.44"
       ]
      },
      {
       "output_type": "stream",
       "stream": "stdout",
       "text": [
        "k again:"
       ]
      },
      {
       "output_type": "stream",
       "stream": "stdout",
       "text": [
        "\n",
        "1: center =  13506.7, flux =  241767., eqw = -24.98, gfwhm =  19.68"
       ]
      },
      {
       "output_type": "stream",
       "stream": "stdout",
       "text": [
        "k again:"
       ]
      },
      {
       "output_type": "stream",
       "stream": "stdout",
       "text": [
        "\n",
        "1: center =  13721.4, flux =  322574., eqw = -25.95, gfwhm =  18.79"
       ]
      },
      {
       "output_type": "stream",
       "stream": "stdout",
       "text": [
        "window:"
       ]
      },
      {
       "output_type": "stream",
       "stream": "stdout",
       "text": [
        "window:"
       ]
      },
      {
       "output_type": "stream",
       "stream": "stdout",
       "text": [
        "again:"
       ]
      },
      {
       "output_type": "stream",
       "stream": "stdout",
       "text": [
        "k again:"
       ]
      },
      {
       "output_type": "stream",
       "stream": "stdout",
       "text": [
        "\n",
        "1: center =  14095.7, flux =   80286., eqw = -44.68, gfwhm =  20.11"
       ]
      },
      {
       "output_type": "stream",
       "stream": "stdout",
       "text": [
        "k again:"
       ]
      },
      {
       "output_type": "stream",
       "stream": "stdout",
       "text": [
        "\n",
        "1: center =  15048.6, flux =  166676., eqw = -134.8, gfwhm =  22.78"
       ]
      },
      {
       "output_type": "stream",
       "stream": "stdout",
       "text": [
        "window:"
       ]
      },
      {
       "output_type": "stream",
       "stream": "stdout",
       "text": [
        "window:"
       ]
      },
      {
       "output_type": "stream",
       "stream": "stdout",
       "text": [
        "again:"
       ]
      },
      {
       "output_type": "stream",
       "stream": "stdout",
       "text": [
        "window:"
       ]
      },
      {
       "output_type": "stream",
       "stream": "stdout",
       "text": [
        "window:"
       ]
      },
      {
       "output_type": "stream",
       "stream": "stdout",
       "text": [
        "again:"
       ]
      },
      {
       "output_type": "stream",
       "stream": "stdout",
       "text": [
        "k again:"
       ]
      },
      {
       "output_type": "stream",
       "stream": "stdout",
       "text": [
        "\n",
        "1: center =  15993.3, flux =   81522., eqw = -85.77, gfwhm =  17.61"
       ]
      },
      {
       "output_type": "stream",
       "stream": "stdout",
       "text": [
        "k again:"
       ]
      },
      {
       "output_type": "stream",
       "stream": "stdout",
       "text": [
        "\n",
        "1: center =  16524.2, flux =  117742., eqw = -65.57, gfwhm =   15.3"
       ]
      },
      {
       "output_type": "stream",
       "stream": "stdout",
       "text": [
        "k again:"
       ]
      },
      {
       "output_type": "stream",
       "stream": "stdout",
       "text": [
        "\n",
        "1: center =  16944.6, flux =  901481., eqw = -183.2, gfwhm =  21.26"
       ]
      },
      {
       "output_type": "stream",
       "stream": "stdout",
       "text": [
        "k again:"
       ]
      },
      {
       "output_type": "stream",
       "stream": "stdout",
       "text": [
        "\n",
        "1: center =  16745.2, flux =   46774., eqw = -56.37, gfwhm =  13.18"
       ]
      },
      {
       "output_type": "stream",
       "stream": "stdout",
       "text": [
        "window:"
       ]
      },
      {
       "output_type": "stream",
       "stream": "stdout",
       "text": [
        "window:"
       ]
      },
      {
       "output_type": "stream",
       "stream": "stdout",
       "text": [
        "again:"
       ]
      },
      {
       "output_type": "stream",
       "stream": "stdout",
       "text": [
        "k again:"
       ]
      },
      {
       "output_type": "stream",
       "stream": "stdout",
       "text": [
        "\n",
        "1: center =  17450.8, flux =  103880., eqw = -78.57, gfwhm =  13.55"
       ]
      },
      {
       "output_type": "stream",
       "stream": "stdout",
       "text": [
        "k again:"
       ]
      },
      {
       "output_type": "stream",
       "stream": "stdout",
       "text": [
        "\n",
        "1: center =  17916.3, flux =  2.376E7, eqw = -1.2E4, gfwhm =  1308."
       ]
      },
      {
       "output_type": "stream",
       "stream": "stdout",
       "text": [
        "k again:"
       ]
      },
      {
       "output_type": "stream",
       "stream": "stdout",
       "text": [
        "\n",
        "1: center =  18433.2, flux =  118237., eqw =  -64.9, gfwhm =  12.85"
       ]
      },
      {
       "output_type": "stream",
       "stream": "stdout",
       "text": [
        "window:"
       ]
      },
      {
       "output_type": "stream",
       "stream": "stdout",
       "text": [
        "window:"
       ]
      },
      {
       "output_type": "stream",
       "stream": "stdout",
       "text": [
        "again:"
       ]
      },
      {
       "output_type": "stream",
       "stream": "stdout",
       "text": [
        "k again:"
       ]
      },
      {
       "output_type": "stream",
       "stream": "stdout",
       "text": [
        "\n",
        "1: center =  19823.8, flux =   31889., eqw = -35.77, gfwhm =  14.13"
       ]
      },
      {
       "output_type": "stream",
       "stream": "stdout",
       "text": [
        "k again:"
       ]
      },
      {
       "output_type": "stream",
       "stream": "stdout",
       "text": [
        "\n",
        "1: center =  19970.4, flux =   38146., eqw = -48.49, gfwhm =  18.66"
       ]
      },
      {
       "output_type": "stream",
       "stream": "stdout",
       "text": [
        "k again:"
       ]
      },
      {
       "output_type": "stream",
       "stream": "stdout",
       "text": [
        "\n",
        "1: center =  20321.7, flux =   17415., eqw = -24.43, gfwhm =  17.89"
       ]
      },
      {
       "output_type": "stream",
       "stream": "stdout",
       "text": [
        "k again:"
       ]
      },
      {
       "output_type": "stream",
       "stream": "stdout",
       "text": [
        "\n",
        "1: center =  20622.2, flux =  172986., eqw = -55.25, gfwhm =   15.6"
       ]
      },
      {
       "output_type": "stream",
       "stream": "stdout",
       "text": [
        "k again:"
       ]
      },
      {
       "output_type": "stream",
       "stream": "stdout",
       "text": [
        "\n",
        "1: center =  20996.3, flux =   60255., eqw = -24.46, gfwhm =  11.84"
       ]
      },
      {
       "output_type": "stream",
       "stream": "stdout",
       "text": [
        "window:"
       ]
      },
      {
       "output_type": "stream",
       "stream": "stdout",
       "text": [
        "window:"
       ]
      },
      {
       "output_type": "stream",
       "stream": "stdout",
       "text": [
        "again:"
       ]
      },
      {
       "output_type": "stream",
       "stream": "stdout",
       "text": [
        "k again:"
       ]
      },
      {
       "output_type": "stream",
       "stream": "stdout",
       "text": [
        "\n",
        "1: center =  20991.1, flux =   85881., eqw = -26.78, gfwhm =  14.75"
       ]
      },
      {
       "output_type": "stream",
       "stream": "stdout",
       "text": [
        "k again:"
       ]
      },
      {
       "output_type": "stream",
       "stream": "stdout",
       "text": [
        "\n",
        "1: center =  21338.4, flux =    8021., eqw = -6.805, gfwhm =  15.66"
       ]
      },
      {
       "output_type": "stream",
       "stream": "stdout",
       "text": [
        "k again:"
       ]
      },
      {
       "output_type": "stream",
       "stream": "stdout",
       "text": [
        "\n",
        "1: center =  21540.8, flux =   30153., eqw = -16.56, gfwhm =  15.38"
       ]
      },
      {
       "output_type": "stream",
       "stream": "stdout",
       "text": [
        "window:"
       ]
      },
      {
       "output_type": "stream",
       "stream": "stdout",
       "text": [
        "window:"
       ]
      },
      {
       "output_type": "stream",
       "stream": "stdout",
       "text": [
        "again:"
       ]
      },
      {
       "output_type": "stream",
       "stream": "stdout",
       "text": [
        "k again:"
       ]
      },
      {
       "output_type": "stream",
       "stream": "stdout",
       "text": [
        "\n",
        "1: center =  22083.8, flux =   33939., eqw = -16.66, gfwhm =  16.84"
       ]
      },
      {
       "output_type": "stream",
       "stream": "stdout",
       "text": [
        "k again:"
       ]
      },
      {
       "output_type": "stream",
       "stream": "stdout",
       "text": [
        "\n",
        "1: center =  23140.1, flux =   21238., eqw = -7.587, gfwhm =  18.59"
       ]
      },
      {
       "output_type": "stream",
       "stream": "stdout",
       "text": [
        "k again:"
       ]
      },
      {
       "output_type": "stream",
       "stream": "stdout",
       "text": [
        "\n",
        "1: center =  23847.9, flux =   27642., eqw = -6.416, gfwhm =  31.18"
       ]
      },
      {
       "output_type": "stream",
       "stream": "stdout",
       "text": [
        "k again:"
       ]
      },
      {
       "output_type": "stream",
       "stream": "stdout",
       "text": [
        "\n",
        "1: center =  23972.7, flux =   16974., eqw = -3.492, gfwhm =  19.48"
       ]
      }
     ],
     "prompt_number": 19
    },
    {
     "cell_type": "markdown",
     "metadata": {},
     "source": [
      "Check that the arc lines are at the correct wavelength. Use '<code>k</code>' on each side of the a line to get the centroid. Then compare with the line list and the diagrams.\n",
      "\n",
      "Resource:  \n",
      "    http://www.gemini.edu/sciops/instruments/niri/?q=node/10166\n",
      "\n",
      "The NIRI plots from that webpage work well.\n",
      "\n",
      "** Result: (Kathleen)** <br/>\n",
      "The arc gets transformed correctly with lxorder=3, lyorder=8.  The line measurements are recorded in Reduction_Lines_Verfication.xlsx spreadsheet.  There is no systematic offsets.  Both the red and blue end lines have asymmetric profiles.  The blue end fit is a bit less good with an error of about -1.4 Angstroms (< 14100 Ang).  Over the range, -0.6 +/- 1.2, or on the residuals 1 +/- 0.9."
     ]
    },
    {
     "cell_type": "heading",
     "level": 2,
     "metadata": {},
     "source": [
      "STEP 9: Reduce the science data"
     ]
    },
    {
     "cell_type": "code",
     "collapsed": true,
     "input": [
      "iraf.imdelete('df@obj.lis', verify='no')\n",
      "iraf.nsreduce('f@obj.lis', outprefix='d', fl_cut='no', fl_process_cut='no', \\\n",
      "    fl_dark='yes', darkimage='objdark.fits', fl_sky='no', fl_flat='no')\n",
      "\n",
      "iraf.imdelete('rdf@obj.lis', verify='no')\n",
      "iraf.nsreduce('df@obj.lis', fl_cut='yes', fl_sky='yes', \\\n",
      "    fl_flat='yes', flatimage='flat.fits')"
     ],
     "language": "python",
     "metadata": {},
     "outputs": [
      {
       "output_type": "stream",
       "stream": "stdout",
       "text": [
        "-------------------------------------------------------------------------------\n",
        "NSREDUCE -- Mon Oct 26 16:51:16 HST 2015\n",
        " \n",
        "NSREDUCE: Processing 4 extension(s) from 4 file(s)."
       ]
      },
      {
       "output_type": "stream",
       "stream": "stdout",
       "text": [
        "\n"
       ]
      },
      {
       "output_type": "stream",
       "stream": "stdout",
       "text": [
        "NSREDUCE: slit: 2pix-slit\n",
        "NSREDUCE: filter: HK\n",
        "\n",
        "   n input                   --> output                  sky image\n",
        " dark                    flat                    scale\n",
        "\n",
        "   1 fS20150730S0278         --> dfS20150730S0278        none                   \n",
        " objdark                 none                    1.0000 \n",
        "   2 fS20150730S0279         --> dfS20150730S0279        none                   "
       ]
      },
      {
       "output_type": "stream",
       "stream": "stdout",
       "text": [
        "\n",
        " objdark                 none                    1.0000 \n",
        "   3 fS20150730S0280         --> dfS20150730S0280        none                   "
       ]
      },
      {
       "output_type": "stream",
       "stream": "stdout",
       "text": [
        "\n",
        " objdark                 none                    1.0000 \n",
        "   4 fS20150730S0281         --> dfS20150730S0281        none                   "
       ]
      },
      {
       "output_type": "stream",
       "stream": "stdout",
       "text": [
        "\n",
        " objdark                 none                    1.0000 \n"
       ]
      },
      {
       "output_type": "stream",
       "stream": "stdout",
       "text": [
        " \n",
        "NSREDUCE exit status: good.\n",
        "------------------------------------------------------------------------------\n",
        "-------------------------------------------------------------------------------"
       ]
      },
      {
       "output_type": "stream",
       "stream": "stdout",
       "text": [
        "\n",
        "NSREDUCE -- Mon Oct 26 16:51:26 HST 2015\n",
        " \n",
        "----------------------------------------------------------------------------"
       ]
      },
      {
       "output_type": "stream",
       "stream": "stdout",
       "text": [
        "\n",
        "F2CUT -- Mon Oct 26 16:51:26 HST 2015\n",
        " \n",
        "\n",
        "Pixel scale: 0.1797"
       ]
      },
      {
       "output_type": "stream",
       "stream": "stdout",
       "text": [
        "\n",
        "Grism: HK_G5802"
       ]
      },
      {
       "output_type": "stream",
       "stream": "stdout",
       "text": [
        "\n",
        "Filter: HK\n",
        "\n",
        "dfS20150730S0278 --> dfS20150730S0278-49811_3453"
       ]
      },
      {
       "output_type": "stream",
       "stream": "stdout",
       "text": [
        "\n",
        " [SCI,1][57:1490,200:1797] --> [SCI,1]"
       ]
      },
      {
       "output_type": "stream",
       "stream": "stdout",
       "text": [
        "\n",
        "dfS20150730S0279 --> dfS20150730S0279-49811_3455"
       ]
      },
      {
       "output_type": "stream",
       "stream": "stdout",
       "text": [
        "\n",
        "dfS20150730S0280 --> dfS20150730S0280-49811_3457"
       ]
      },
      {
       "output_type": "stream",
       "stream": "stdout",
       "text": [
        "\n",
        "dfS20150730S0281 --> dfS20150730S0281-49811_3459"
       ]
      },
      {
       "output_type": "stream",
       "stream": "stdout",
       "text": [
        "\n"
       ]
      },
      {
       "output_type": "stream",
       "stream": "stdout",
       "text": [
        " \n",
        "F2CUT exit status: good.\n",
        "----------------------------------------------------------------------------\n",
        "------------------------------------------------------------------------------\n",
        "NSAPPWAVE -- Mon Oct 26 16:51:36 HST 2015\n",
        " "
       ]
      },
      {
       "output_type": "stream",
       "stream": "stdout",
       "text": [
        "\n"
       ]
      },
      {
       "output_type": "stream",
       "stream": "stdout",
       "text": [
        "NSAPPWAVE: Processing 4 extension(s) from 4 file(s).\n",
        "  Camera     Grating    Filter     Prism      FPMask     Wave   Delta Order Axis\n",
        "dfS20150730S0278-49811_3453 -> dfS20150730S0278-49811_3454 ( 1)"
       ]
      },
      {
       "output_type": "stream",
       "stream": "stdout",
       "text": [
        "\n",
        "  f/16_G5830   HK_G5802         HK             2pix-slit 18710.00 -7.83 INDEF 2\n"
       ]
      },
      {
       "output_type": "stream",
       "stream": "stdout",
       "text": [
        "NSAPPWAVE: cradius not from table for dfS20150730S0278-49811_3453.\n",
        "           (further table messages supressed for this file).\n",
        "  extension  1: 18710.000000 -7.826000 INDEF\n",
        "dfS20150730S0279-49811_3455 -> dfS20150730S0279-49811_3456 ( 1)"
       ]
      },
      {
       "output_type": "stream",
       "stream": "stdout",
       "text": [
        "\n",
        "  f/16_G5830   HK_G5802         HK             2pix-slit 18710.00 -7.83 INDEF 2\n"
       ]
      },
      {
       "output_type": "stream",
       "stream": "stdout",
       "text": [
        "NSAPPWAVE: cradius not from table for dfS20150730S0279-49811_3455.\n",
        "           (further table messages supressed for this file).\n",
        "  extension  1: 18710.000000 -7.826000 INDEF\n",
        "dfS20150730S0280-49811_3457 -> dfS20150730S0280-49811_3458 ( 1)"
       ]
      },
      {
       "output_type": "stream",
       "stream": "stdout",
       "text": [
        "\n",
        "  f/16_G5830   HK_G5802         HK             2pix-slit 18710.00 -7.83 INDEF 2\n"
       ]
      },
      {
       "output_type": "stream",
       "stream": "stdout",
       "text": [
        "NSAPPWAVE: cradius not from table for dfS20150730S0280-49811_3457.\n",
        "           (further table messages supressed for this file).\n",
        "  extension  1: 18710.000000 -7.826000 INDEF\n",
        "dfS20150730S0281-49811_3459 -> dfS20150730S0281-49811_3460 ( 1)"
       ]
      },
      {
       "output_type": "stream",
       "stream": "stdout",
       "text": [
        "\n",
        "  f/16_G5830   HK_G5802         HK             2pix-slit 18710.00 -7.83 INDEF 2\n"
       ]
      },
      {
       "output_type": "stream",
       "stream": "stdout",
       "text": [
        "NSAPPWAVE: cradius not from table for dfS20150730S0281-49811_3459.\n",
        "           (further table messages supressed for this file).\n",
        "  extension  1: 18710.000000 -7.826000 INDEF\n"
       ]
      },
      {
       "output_type": "stream",
       "stream": "stdout",
       "text": [
        "\n",
        "NSAPPWAVE Exit status good\n",
        "------------------------------------------------------------------------------\n",
        "NSREDUCE: Generating the sky frame(s) using the other nod positions\n",
        "          (separations greater than 1.5 arcsec) from neighbouring\n",
        "          exposures.\n"
       ]
      },
      {
       "output_type": "stream",
       "stream": "stdout",
       "text": [
        "\n",
        "------------------------------------------------------------------------------"
       ]
      },
      {
       "output_type": "stream",
       "stream": "stdout",
       "text": [
        "\n",
        "NSSKY -- Mon Oct 26 16:51:52 HST 2015\n",
        " \n",
        "WARNING - NSSKY: Will take sky from input images\n",
        "NSSKY: Obs time for dfS20150730S0278-49811_3454.fits[0]:  6:40:25.8"
       ]
      },
      {
       "output_type": "stream",
       "stream": "stdout",
       "text": [
        "\n",
        "NSSKY: Obs time for dfS20150730S0279-49811_3456.fits[0]:  6:43:00.8  0:02:35.0\n",
        "NSSKY: Obs time for dfS20150730S0280-49811_3458.fits[0]:  6:45:34.8  0:02:34.0\n",
        "NSSKY: Obs time for dfS20150730S0281-49811_3460.fits[0]:  6:48:09.3  0:02:34.5\n",
        "NSSKY: Min/max:  0:02:34.0/ 0:02:35.0\n",
        "NSSKY: Using observations within 155.0s as sky.\n",
        "NSSKY: Grouping images (please wait).\n"
       ]
      },
      {
       "output_type": "stream",
       "stream": "stdout",
       "text": [
        " \n",
        "NSSKY exit status: good.\n",
        "NSREDUCE: Processing 4 extension(s) from 4 file(s)."
       ]
      },
      {
       "output_type": "stream",
       "stream": "stdout",
       "text": [
        "\n"
       ]
      },
      {
       "output_type": "stream",
       "stream": "stdout",
       "text": [
        "NSREDUCE: slit: 2pix-slit\n",
        "NSREDUCE: filter: HK\n",
        "\n",
        "   n input                   --> output                  sky image\n",
        " dark                    flat                    scale\n",
        "\n",
        "   1 dfS20150730S0278        --> rdfS20150730S0278       dfS20150730S0279-49811_3456\n",
        " none                    flat                    1.0000 \n",
        "   2 dfS20150730S0279        --> rdfS20150730S0279       dfS20150730S0278-49811_3454"
       ]
      },
      {
       "output_type": "stream",
       "stream": "stdout",
       "text": [
        "\n",
        " none                    flat                    1.0000 \n",
        "   3 dfS20150730S0280        --> rdfS20150730S0280       dfS20150730S0281-49811_3460"
       ]
      },
      {
       "output_type": "stream",
       "stream": "stdout",
       "text": [
        "\n",
        " none                    flat                    1.0000 \n",
        "   4 dfS20150730S0281        --> rdfS20150730S0281       dfS20150730S0280-49811_3458"
       ]
      },
      {
       "output_type": "stream",
       "stream": "stdout",
       "text": [
        "\n",
        " none                    flat                    1.0000 \n"
       ]
      },
      {
       "output_type": "stream",
       "stream": "stdout",
       "text": [
        " \n",
        "NSREDUCE exit status: good.\n",
        "------------------------------------------------------------------------------\n"
       ]
      }
     ],
     "prompt_number": 48
    },
    {
     "cell_type": "heading",
     "level": 2,
     "metadata": {},
     "source": [
      "STEP 10: Combine the science data"
     ]
    },
    {
     "cell_type": "markdown",
     "metadata": {},
     "source": [
      "The <code>rejtype</code> is set to <code>minmax</code> in the example included in the Gemini IRAF package.  Kathleen finds that for faint targets, that does not work at all.  Therefore, here we set <code>rejtype</code> to <code>none</code> which seems to work well."
     ]
    },
    {
     "cell_type": "code",
     "collapsed": true,
     "input": [
      "iraf.imdelete('obj_comb.fits', verify='no')\n",
      "iraf.nscombine('rdf@obj.lis', output='obj_comb.fits', fl_shiftint='no', \\\n",
      "    fl_cross='no', rejtype='none')\n",
      "\n",
      "iraf.display('obj_comb.fits[SCI,1]', 1)"
     ],
     "language": "python",
     "metadata": {},
     "outputs": [
      {
       "output_type": "stream",
       "stream": "stdout",
       "text": [
        "--------------------------------------------------------------------------------\n",
        "NSCOMBINE: Mon Oct 26 17:18:45 HST 2015\n",
        " \n",
        "Shifting and combining to single file.\n",
        "Input images = rdf@obj.lis\n",
        "rdfS20150730S0278\n"
       ]
      },
      {
       "output_type": "stream",
       "stream": "stdout",
       "text": [
        "rdfS20150730S0279\n"
       ]
      },
      {
       "output_type": "stream",
       "stream": "stdout",
       "text": [
        "rdfS20150730S0280\n"
       ]
      },
      {
       "output_type": "stream",
       "stream": "stdout",
       "text": [
        "rdfS20150730S0281\n"
       ]
      },
      {
       "output_type": "stream",
       "stream": "stdout",
       "text": [
        "Bad pixel mask = \n",
        "Offset tolerance = 0.5\n",
        "Statistics section = [*,*]\n",
        "Combine algorithm = average\n",
        "Rejection algorithm = none\n",
        "Use integer pixel shifts? no\n",
        "Boundary extension  = nearest\n",
        "NSCOMBINE: Unshifted images:"
       ]
      },
      {
       "output_type": "stream",
       "stream": "stdout",
       "text": [
        "\n",
        "rdfS20150730S0278\n"
       ]
      },
      {
       "output_type": "stream",
       "stream": "stdout",
       "text": [
        "WARNING - NSCOMBINE: Non-zero shift in dispersion direction: 0.16694490818\n",
        "                     (setting to zero)\n",
        "NSCOMBINE: Images shifted by -110.962715637,0.0:\n",
        "rdfS20150730S0279\n",
        "rdfS20150730S0280\n"
       ]
      },
      {
       "output_type": "stream",
       "stream": "stdout",
       "text": [
        "10% "
       ]
      },
      {
       "output_type": "stream",
       "stream": "stdout",
       "text": [
        "20% "
       ]
      },
      {
       "output_type": "stream",
       "stream": "stdout",
       "text": [
        "30% "
       ]
      },
      {
       "output_type": "stream",
       "stream": "stdout",
       "text": [
        "40% "
       ]
      },
      {
       "output_type": "stream",
       "stream": "stdout",
       "text": [
        "50% "
       ]
      },
      {
       "output_type": "stream",
       "stream": "stdout",
       "text": [
        "60% "
       ]
      },
      {
       "output_type": "stream",
       "stream": "stdout",
       "text": [
        "70% "
       ]
      },
      {
       "output_type": "stream",
       "stream": "stdout",
       "text": [
        "80% "
       ]
      },
      {
       "output_type": "stream",
       "stream": "stdout",
       "text": [
        "90% "
       ]
      },
      {
       "output_type": "stream",
       "stream": "stdout",
       "text": [
        "100% "
       ]
      },
      {
       "output_type": "stream",
       "stream": "stdout",
       "text": [
        "- done\n"
       ]
      },
      {
       "output_type": "stream",
       "stream": "stdout",
       "text": [
        "10% "
       ]
      },
      {
       "output_type": "stream",
       "stream": "stdout",
       "text": [
        "20% "
       ]
      },
      {
       "output_type": "stream",
       "stream": "stdout",
       "text": [
        "30% "
       ]
      },
      {
       "output_type": "stream",
       "stream": "stdout",
       "text": [
        "40% "
       ]
      },
      {
       "output_type": "stream",
       "stream": "stdout",
       "text": [
        "50% "
       ]
      },
      {
       "output_type": "stream",
       "stream": "stdout",
       "text": [
        "60% "
       ]
      },
      {
       "output_type": "stream",
       "stream": "stdout",
       "text": [
        "70% "
       ]
      },
      {
       "output_type": "stream",
       "stream": "stdout",
       "text": [
        "80% "
       ]
      },
      {
       "output_type": "stream",
       "stream": "stdout",
       "text": [
        "90% "
       ]
      },
      {
       "output_type": "stream",
       "stream": "stdout",
       "text": [
        "100% "
       ]
      },
      {
       "output_type": "stream",
       "stream": "stdout",
       "text": [
        "- done\n"
       ]
      },
      {
       "output_type": "stream",
       "stream": "stdout",
       "text": [
        "WARNING - NSCOMBINE: Non-zero shift in dispersion direction: -20.1446855871\n",
        "                     (setting to zero)\n",
        "NSCOMBINE: Images shifted by -0.389538119087,0.0:\n",
        "rdfS20150730S0281\n"
       ]
      },
      {
       "output_type": "stream",
       "stream": "stdout",
       "text": [
        "10% "
       ]
      },
      {
       "output_type": "stream",
       "stream": "stdout",
       "text": [
        "20% "
       ]
      },
      {
       "output_type": "stream",
       "stream": "stdout",
       "text": [
        "30% "
       ]
      },
      {
       "output_type": "stream",
       "stream": "stdout",
       "text": [
        "40% "
       ]
      },
      {
       "output_type": "stream",
       "stream": "stdout",
       "text": [
        "50% "
       ]
      },
      {
       "output_type": "stream",
       "stream": "stdout",
       "text": [
        "60% "
       ]
      },
      {
       "output_type": "stream",
       "stream": "stdout",
       "text": [
        "70% "
       ]
      },
      {
       "output_type": "stream",
       "stream": "stdout",
       "text": [
        "80% "
       ]
      },
      {
       "output_type": "stream",
       "stream": "stdout",
       "text": [
        "90% "
       ]
      },
      {
       "output_type": "stream",
       "stream": "stdout",
       "text": [
        "100% "
       ]
      },
      {
       "output_type": "stream",
       "stream": "stdout",
       "text": [
        "- done\n"
       ]
      },
      {
       "output_type": "stream",
       "stream": "stdout",
       "text": [
        "WARNING - GEMCOMBINE: five or less images to combine.\n"
       ]
      },
      {
       "output_type": "stream",
       "stream": "stdout",
       "text": [
        "NSCOMBINE: Exit status good.\n",
        "--------------------------------------------------------------------------------\n",
        "z1=-46.94925 z2=45.26265\n"
       ]
      }
     ],
     "prompt_number": 49
    },
    {
     "cell_type": "heading",
     "level": 2,
     "metadata": {},
     "source": [
      "STEP 11: Wavelength calibrate the science data"
     ]
    },
    {
     "cell_type": "markdown",
     "metadata": {},
     "source": [
      "It is assumed that the arc has been taken right after (or before) the science observations, without anything moving in-between, other than getting the arc in the field of view.  \n",
      "\n",
      "While the OH sky lines could be used, the coverage is not always adequate across the dispersion axis and the sky lines tend to be a bit broader than the arc lines. \n",
      "\n",
      "-------------\n",
      "**FOR SCIENCE REDUCTION, NOT QUICKLOOK**\n",
      "\n",
      "We will nevertheless double-check that the arc works well on the science observation.  To that end, we will use a science frame that has not been sky subtracted yet, and apply the arc solution.  We will measure the OH sky lines to confirm that they fall where they are supposed to fall.  If this test passes, then we will apply the arc solution to the combined science frame from Step 10.\n",
      "\n",
      "(It should pass.  If it doesn't, something is really wrong with the data and one might have to use the OH sky lines for the wavelength calibration after all.)\n",
      "\n",
      "The key tasks used for this step are:\n",
      "\n",
      "* nsfitcoords:  Used to determine the final 2-D surface solution, based on a previously calculated wavelength solution, to be applied to the data.\n",
      "* nstransform:  Actually applies the 2-D solution found by nsfitcoords to the data.\n",
      "\n",
      "Spatial rectification (s-distortion correction) is not usually needed with F2 longslit data."
     ]
    },
    {
     "cell_type": "heading",
     "level": 3,
     "metadata": {},
     "source": [
      "11.1 NOT FOR QL: Test accuracy of the wavelength solution the sky lines."
     ]
    },
    {
     "cell_type": "markdown",
     "metadata": {},
     "source": [
      "We reduce the first science frame but without the sky subtraction."
     ]
    },
    {
     "cell_type": "code",
     "collapsed": true,
     "input": [
      "first_obj = iraf.head('obj.lis', nlines=1, Stdout=1)[0].strip()\n",
      "iraf.imdelete('Xdf'+first_obj, verify='no')\n",
      "iraf.nsreduce('df'+first_obj, outprefix='X', fl_cut='yes', fl_dark='no', \\\n",
      "              fl_sky='no', fl_flat='yes', flatimage='flat.fits')\n",
      "iraf.display('Xdf'+first_obj+'[sci,1]', 1)\n",
      "# confirm that the sky lines are strong enough."
     ],
     "language": "python",
     "metadata": {},
     "outputs": [
      {
       "output_type": "stream",
       "stream": "stdout",
       "text": [
        "-------------------------------------------------------------------------------\n",
        "NSREDUCE -- Tue Oct 27 10:50:00 HST 2015\n",
        " \n",
        "----------------------------------------------------------------------------"
       ]
      },
      {
       "output_type": "stream",
       "stream": "stdout",
       "text": [
        "\n",
        "F2CUT -- Tue Oct 27 10:50:01 HST 2015\n",
        " \n",
        "\n",
        "Pixel scale: 0.1797"
       ]
      },
      {
       "output_type": "stream",
       "stream": "stdout",
       "text": [
        "\n",
        "Grism: HK_G5802\n",
        "Filter: HK\n",
        "\n",
        "dfS20150730S0278 --> dfS20150730S0278-80871x"
       ]
      },
      {
       "output_type": "stream",
       "stream": "stdout",
       "text": [
        "\n",
        " [SCI,1][57:1490,200:1797] --> [SCI,1]\n"
       ]
      },
      {
       "output_type": "stream",
       "stream": "stdout",
       "text": [
        " \n",
        "F2CUT exit status: good.\n",
        "----------------------------------------------------------------------------\n",
        "------------------------------------------------------------------------------"
       ]
      },
      {
       "output_type": "stream",
       "stream": "stdout",
       "text": [
        "\n",
        "NSAPPWAVE -- Tue Oct 27 10:50:04 HST 2015\n",
        " \n"
       ]
      },
      {
       "output_type": "stream",
       "stream": "stdout",
       "text": [
        "NSAPPWAVE: Processing 1 extension(s) from 1 file(s).\n",
        "  Camera     Grating    Filter     Prism      FPMask     Wave   Delta Order Axis\n",
        "dfS20150730S0278-80871x -> dfS20150730S0278-80871y ( 1)"
       ]
      },
      {
       "output_type": "stream",
       "stream": "stdout",
       "text": [
        "\n",
        "  f/16_G5830   HK_G5802         HK             2pix-slit 18710.00 -7.83 INDEF 2\n"
       ]
      },
      {
       "output_type": "stream",
       "stream": "stdout",
       "text": [
        "NSAPPWAVE: cradius not from table for dfS20150730S0278-80871x.\n",
        "           (further table messages supressed for this file).\n",
        "  extension  1: 18710.000000 -7.826000 INDEF\n"
       ]
      },
      {
       "output_type": "stream",
       "stream": "stdout",
       "text": [
        "\n",
        "NSAPPWAVE Exit status good\n",
        "------------------------------------------------------------------------------\n",
        "NSREDUCE: Processing 1 extension(s) from 1 file(s)."
       ]
      },
      {
       "output_type": "stream",
       "stream": "stdout",
       "text": [
        "\n"
       ]
      },
      {
       "output_type": "stream",
       "stream": "stdout",
       "text": [
        "NSREDUCE: slit: 2pix-slit\n",
        "NSREDUCE: filter: HK\n",
        "\n",
        "   n input                   --> output                  sky image\n",
        " dark                    flat                    scale\n",
        "\n",
        "   1 dfS20150730S0278        --> XdfS20150730S0278       none                   \n",
        " none                    flat                    1.0000 \n"
       ]
      },
      {
       "output_type": "stream",
       "stream": "stdout",
       "text": [
        " \n",
        "NSREDUCE exit status: good.\n",
        "------------------------------------------------------------------------------\n",
        "z1=58.91756 z2=2522.925\n"
       ]
      }
     ],
     "prompt_number": 4
    },
    {
     "cell_type": "markdown",
     "metadata": {},
     "source": [
      "We apply the arc solution on the frame with the sky lines."
     ]
    },
    {
     "cell_type": "code",
     "collapsed": true,
     "input": [
      "iraf.imdelete('fXdf'+first_obj, verify='no')\n",
      "iraf.nsfitcoords ('Xdf'+first_obj, lamptransf='warc.fits', lxorder=lxorder, lyorder=lyorder)\n",
      "\n",
      "iraf.imdelete('tfXdf'+first_obj, verify='no')\n",
      "iraf.nstransform('fXdf'+first_obj)"
     ],
     "language": "python",
     "metadata": {},
     "outputs": [
      {
       "output_type": "stream",
       "stream": "stdout",
       "text": [
        "-------------------------------------------------------------------------------\n",
        "NSFITCOORDS -- Tue Oct 27 11:02:46 HST 2015\n",
        "\n",
        "Using input files:"
       ]
      },
      {
       "output_type": "stream",
       "stream": "stdout",
       "text": [
        "\n",
        "XdfS20150730S0278\n"
       ]
      },
      {
       "output_type": "stream",
       "stream": "stdout",
       "text": [
        "Using output files:\n",
        "fXdfS20150730S0278\n"
       ]
      },
      {
       "output_type": "stream",
       "stream": "stdout",
       "text": [
        "NSFITCOORDS: Fitnames for XdfS20150730S0278: fXdfS20150730S0278_SCI_1_lamp\n"
       ]
      },
      {
       "output_type": "stream",
       "stream": "stdout",
       "text": [
        "NSFITCOORDS: Exit status good\n",
        "-------------------------------------------------------------------------------\n"
       ]
      },
      {
       "output_type": "stream",
       "stream": "stdout",
       "text": [
        "-------------------------------------------------------------------------------\n",
        "NSTRANSFORM -- Tue Oct 27 11:02:49 HST 2015\n",
        "\n",
        "Using input files:"
       ]
      },
      {
       "output_type": "stream",
       "stream": "stdout",
       "text": [
        "\n",
        "fXdfS20150730S0278\n"
       ]
      },
      {
       "output_type": "stream",
       "stream": "stdout",
       "text": [
        "Using output files:\n",
        "tfXdfS20150730S0278\n"
       ]
      },
      {
       "output_type": "stream",
       "stream": "stdout",
       "text": [
        "NSTRANSFORM: Fitnames for fXdfS20150730S0278: fXdfS20150730S0278_SCI_1_lamp\n",
        "WARNING - NSTRANSFORM: No MDF in fXdfS20150730S0278"
       ]
      },
      {
       "output_type": "stream",
       "stream": "stdout",
       "text": [
        "\n"
       ]
      },
      {
       "output_type": "stream",
       "stream": "stdout",
       "text": [
        "NSTRANSFORM: Exit status good\n",
        "-------------------------------------------------------------------------------\n"
       ]
      }
     ],
     "prompt_number": 5
    },
    {
     "cell_type": "markdown",
     "metadata": {},
     "source": [
      "Use <code>splot</code> to measure the wavelength of the sky lines in the corrected science.  Do this in the pyraf session, not in the notebook."
     ]
    },
    {
     "cell_type": "markdown",
     "metadata": {},
     "source": [
      "    first_obj = iraf.head('obj.lis', nlines=1, Stdout=1)[0].strip()\n",
      "    iraf.splot ('tfXdf'+first_obj+'[sci,1]', line=750)\n",
      "    # line=750 is just somewhere in the middle.\n",
      "    # :nsum 30\n",
      "    # Use 'k' again and sky line plots and lists to check position\n",
      "    #  of the sky lines.\n",
      "    \n",
      "Resources:  \n",
      "[http://www.ukirt.hawaii.edu/astronomy/calib/spec_cal/oh.html](http://www.ukirt.hawaii.edu/astronomy/calib/spec_cal/oh.html)  \n",
      "[http://www.ukirt.hawaii.edu/astronomy/calib/spec_cal/ohlines.html](http://www.ukirt.hawaii.edu/astronomy/calib/spec_cal/ohlines.html)  \n"
     ]
    },
    {
     "cell_type": "markdown",
     "metadata": {},
     "source": [
      "** RESULTS **\n",
      "\n",
      "Verifications of the OH lines in the H-band section and the K-band section show that the lines do NOT show up at the correct wavelength after the transformation.  The lines in the center are okay, but the OH lines < 17000 Ang are wrong by ~ -2 Angstrom, and the OH lines > 20200 Ang are wrong by ~ + 3.5, even more the further to the red we go.\n",
      "\n",
      "This is believed to be due to the asymmetry of the lines and lost of resolution.\n",
      "\n",
      "** <font color='red'>The arc solution cannot be used to calibrate the science data </font> **"
     ]
    },
    {
     "cell_type": "heading",
     "level": 3,
     "metadata": {},
     "source": [
      "11.2 Calculate the wavelength solution from the OH lines"
     ]
    },
    {
     "cell_type": "markdown",
     "metadata": {},
     "source": [
      "IMPORTANT:  There are no OH sky lines redwards of 22750 Ang and blueward of 15000 Ang which means that the wavelength calibration in those regions will have a reduced accuracy.  In our case, that's fine since we don't have features of interest in those parts of the spectrum."
     ]
    },
    {
     "cell_type": "heading",
     "level": 4,
     "metadata": {},
     "source": [
      "Determine the wavelength solution for the science using the OH lines"
     ]
    },
    {
     "cell_type": "markdown",
     "metadata": {},
     "source": [
      "**IMPORTANT**: Run this interactively and **do** delete the bad lines from the fit and re-fit.  There are bad line identifications redward of 22750 Ang and blueward of 15000 Ang.  Remove all those bad lines."
     ]
    },
    {
     "cell_type": "code",
     "collapsed": true,
     "input": [
      "iraf.imdelete('wXdf'+first_obj+'.fits', verify='no')\n",
      "iraf.nswavelength('Xdf'+first_obj+'.fits', \n",
      "                  coordlist='gemini$gcal/linelists/ohlines.dat', \n",
      "                  fl_inter='yes')"
     ],
     "language": "python",
     "metadata": {},
     "outputs": [
      {
       "output_type": "stream",
       "stream": "stdout",
       "text": [
        "-------------------------------------------------------------------------------\n",
        "NSWAVELENGTH -- Tue Oct 27 13:36:41 HST 2015\n",
        "\n",
        "NSWAVELENGTH: LS data detected. Calling nswhelper to process data."
       ]
      },
      {
       "output_type": "stream",
       "stream": "stdout",
       "text": [
        "\n",
        "-------------------------------------------------------------------------------"
       ]
      },
      {
       "output_type": "stream",
       "stream": "stdout",
       "text": [
        "\n",
        "NSWHELPER -- Tue Oct 27 13:36:42 HST 2015\n",
        "\n"
       ]
      },
      {
       "output_type": "stream",
       "stream": "stdout",
       "text": [
        "Using input files:\n",
        "XdfS20150730S0278\n"
       ]
      },
      {
       "output_type": "stream",
       "stream": "stdout",
       "text": [
        "Using output files:\n",
        "wXdfS20150730S0278\n"
       ]
      },
      {
       "output_type": "stream",
       "stream": "stdout",
       "text": [
        "Lamp image: XdfS20150730S0278[SCI,1]\n",
        "\n"
       ]
      },
      {
       "output_type": "stream",
       "stream": "stdout",
       "text": [
        "AUTOIDENTIFY: NOAO/IRAF V2.16 klabrie@libellule.gemini.edu Tue 13:36:54 27-Oct-2015\n"
       ]
      },
      {
       "output_type": "stream",
       "stream": "stdout",
       "text": [
        "  Spectrum                 # Found   Midpoint Dispersion        RMS\n"
       ]
      },
      {
       "output_type": "stream",
       "stream": "stdout",
       "text": [
        "  wXdfS20150730S0278[SCI,1][717,*]        121    18963.6      -7.54       2.29\n"
       ]
      },
      {
       "output_type": "stream",
       "stream": "stdout",
       "text": [
        "wXdfS20150730S0278[SCI,1][717,*]: Examine identifications interactively?"
       ]
      },
      {
       "output_type": "stream",
       "stream": "stdout",
       "text": [
        "   1382.72  14576.233     14564. 0.35\n"
       ]
      },
      {
       "output_type": "stream",
       "stream": "stdout",
       "text": [
        "window:"
       ]
      },
      {
       "output_type": "stream",
       "stream": "stdout",
       "text": [
        "   1382.72  14576.233     14564. 0.35\n"
       ]
      },
      {
       "output_type": "stream",
       "stream": "stdout",
       "text": [
        "window:"
       ]
      },
      {
       "output_type": "stream",
       "stream": "stdout",
       "text": [
        "again:"
       ]
      },
      {
       "output_type": "stream",
       "stream": "stdout",
       "text": [
        "   1382.72  14576.233     14564. 0.35\n"
       ]
      },
      {
       "output_type": "stream",
       "stream": "stdout",
       "text": [
        "   1572.67  13150.458    13156.7 0.35\n"
       ]
      },
      {
       "output_type": "stream",
       "stream": "stdout",
       "text": [
        "   1560.80  13239.528    13236.6 0.14\n"
       ]
      },
      {
       "output_type": "stream",
       "stream": "stdout",
       "text": [
        "   1550.31  13318.228    13324.7 \n"
       ]
      },
      {
       "output_type": "stream",
       "stream": "stdout",
       "text": [
        "   1536.83  13419.324    13420.8 0.26\n"
       ]
      },
      {
       "output_type": "stream",
       "stream": "stdout",
       "text": [
        "   1502.76   13674.98    13677.2 \n"
       ]
      },
      {
       "output_type": "stream",
       "stream": "stdout",
       "text": [
        "   1480.36  13843.156    13823.7 \n"
       ]
      },
      {
       "output_type": "stream",
       "stream": "stdout",
       "text": [
        "   1455.47  14029.946    14058.8 \n"
       ]
      },
      {
       "output_type": "stream",
       "stream": "stdout",
       "text": [
        "   1444.88  14109.476     14107. 0.10\n"
       ]
      },
      {
       "output_type": "stream",
       "stream": "stdout",
       "text": [
        "   1439.77  14147.797     14134. 0.18\n"
       ]
      },
      {
       "output_type": "stream",
       "stream": "stdout",
       "text": [
        "   1435.84  14177.304    14192.9 \n"
       ]
      },
      {
       "output_type": "stream",
       "stream": "stdout",
       "text": [
        "   1419.15  14302.625    14292.9 0.07\n"
       ]
      },
      {
       "output_type": "stream",
       "stream": "stdout",
       "text": [
        "   1411.43  14360.586    14374.4 \n"
       ]
      },
      {
       "output_type": "stream",
       "stream": "stdout",
       "text": [
        "   1389.54  14524.966     14519. 0.70\n"
       ]
      },
      {
       "output_type": "stream",
       "stream": "stdout",
       "text": [
        "   1389.54  14524.966     14519. \n"
       ]
      },
      {
       "output_type": "stream",
       "stream": "stdout",
       "text": [
        "window:"
       ]
      },
      {
       "output_type": "stream",
       "stream": "stdout",
       "text": [
        "   1389.54  14524.966     14519. \n"
       ]
      },
      {
       "output_type": "stream",
       "stream": "stdout",
       "text": [
        "   1378.27   14605.11    14604.8 0.23\n"
       ]
      },
      {
       "output_type": "stream",
       "stream": "stdout",
       "text": [
        "   1365.83  14699.007    14702.2 \n"
       ]
      },
      {
       "output_type": "stream",
       "stream": "stdout",
       "text": [
        "   1347.77  14835.352     14833. 0.62\n"
       ]
      },
      {
       "output_type": "stream",
       "stream": "stdout",
       "text": [
        "   1335.21  14930.087    14931.9 0.38\n"
       ]
      },
      {
       "output_type": "stream",
       "stream": "stdout",
       "text": [
        "   1300.90  15188.938     15187. 1.41\n"
       ]
      },
      {
       "output_type": "stream",
       "stream": "stdout",
       "text": [
        "window:"
       ]
      },
      {
       "output_type": "stream",
       "stream": "stdout",
       "text": [
        "   1300.90  15188.938     15187. 1.41\n"
       ]
      },
      {
       "output_type": "stream",
       "stream": "stdout",
       "text": [
        "window:"
       ]
      },
      {
       "output_type": "stream",
       "stream": "stdout",
       "text": [
        "again:"
       ]
      },
      {
       "output_type": "stream",
       "stream": "stdout",
       "text": [
        "   1300.90  15188.938     15187. 1.41\n"
       ]
      },
      {
       "output_type": "stream",
       "stream": "stdout",
       "text": [
        "    328.67  22517.011     22518. 0.25\n"
       ]
      },
      {
       "output_type": "stream",
       "stream": "stdout",
       "text": [
        "    328.67  22517.452     22518. 0.25\n"
       ]
      },
      {
       "output_type": "stream",
       "stream": "stdout",
       "text": [
        "    328.67  22517.452     22518. 0.25\n"
       ]
      },
      {
       "output_type": "stream",
       "stream": "stdout",
       "text": [
        "window:"
       ]
      },
      {
       "output_type": "stream",
       "stream": "stdout",
       "text": [
        "    328.67  22517.452     22518. 0.25\n"
       ]
      },
      {
       "output_type": "stream",
       "stream": "stdout",
       "text": [
        "window:"
       ]
      },
      {
       "output_type": "stream",
       "stream": "stdout",
       "text": [
        "    328.67  22517.452     22518. 0.25\n"
       ]
      },
      {
       "output_type": "stream",
       "stream": "stdout",
       "text": [
        "window:"
       ]
      },
      {
       "output_type": "stream",
       "stream": "stdout",
       "text": [
        "again:"
       ]
      },
      {
       "output_type": "stream",
       "stream": "stdout",
       "text": [
        "    328.67  22517.452     22518. 0.25\n"
       ]
      },
      {
       "output_type": "stream",
       "stream": "stdout",
       "text": [
        "   1318.37  15056.108 (   15055.5 1.95): "
       ]
      },
      {
       "output_type": "stream",
       "stream": "stdout",
       "text": [
        "   1318.37  15056.108    15055.5 1.95\n"
       ]
      },
      {
       "output_type": "stream",
       "stream": "stdout",
       "text": [
        "   1318.37  15056.008    15055.5 1.95\n"
       ]
      },
      {
       "output_type": "stream",
       "stream": "stdout",
       "text": [
        "   1318.37  15056.008    15055.5 1.95\n"
       ]
      },
      {
       "output_type": "stream",
       "stream": "stdout",
       "text": [
        "\n",
        "REIDENTIFY: NOAO/IRAF V2.16 klabrie@libellule.gemini.edu Tue 13:39:04 27-Oct-2015\n"
       ]
      },
      {
       "output_type": "stream",
       "stream": "stdout",
       "text": [
        "  Reference image = wXdfS20150730S0278[SCI,1], New image = wXdfS20150730S0278[SCI,1], Refit = yes\n",
        "          Image Data    Found     Fit Pix Shift  User Shift  Z Shift      RMS\n"
       ]
      },
      {
       "output_type": "stream",
       "stream": "stdout",
       "text": [
        "wXdfS20150730S0278[SCI,1][707,*] 83/84   83/83     0.0277      -0.209  -1.1E-5    0.806\n"
       ]
      },
      {
       "output_type": "stream",
       "stream": "stdout",
       "text": [
        "wXdfS20150730S0278[SCI,1][707,*] 83/84   83/83     0.0277      -0.209  -1.1E-5    0.806\n"
       ]
      },
      {
       "output_type": "stream",
       "stream": "stdout",
       "text": [
        "wXdfS20150730S0278[SCI,1][697,*] 81/84   81/81     0.0681      -0.514  -2.7E-5    0.833\n"
       ]
      },
      {
       "output_type": "stream",
       "stream": "stdout",
       "text": [
        "wXdfS20150730S0278[SCI,1][687,*] 83/84   82/83      0.126      -0.946  -5.0E-5    0.823\n"
       ]
      },
      {
       "output_type": "stream",
       "stream": "stdout",
       "text": [
        "wXdfS20150730S0278[SCI,1][677,*] 82/84   81/82      0.156       -1.17  -6.3E-5    0.749\n"
       ]
      },
      {
       "output_type": "stream",
       "stream": "stdout",
       "text": [
        "wXdfS20150730S0278[SCI,1][667,*] 82/84   82/82      0.203       -1.53  -8.2E-5     0.88\n"
       ]
      },
      {
       "output_type": "stream",
       "stream": "stdout",
       "text": [
        "wXdfS20150730S0278[SCI,1][657,*] 82/84   80/82      0.252        -1.9  -1.0E-4    0.743\n"
       ]
      },
      {
       "output_type": "stream",
       "stream": "stdout",
       "text": [
        "wXdfS20150730S0278[SCI,1][647,*] 83/84   83/83      0.297       -2.24  -1.2E-4    0.864\n"
       ]
      },
      {
       "output_type": "stream",
       "stream": "stdout",
       "text": [
        "wXdfS20150730S0278[SCI,1][637,*] 82/84   81/82      0.335       -2.53  -1.4E-4    0.874\n"
       ]
      },
      {
       "output_type": "stream",
       "stream": "stdout",
       "text": [
        "wXdfS20150730S0278[SCI,1][627,*] 83/84   82/83      0.393       -2.96  -1.6E-4    0.782\n"
       ]
      },
      {
       "output_type": "stream",
       "stream": "stdout",
       "text": [
        "wXdfS20150730S0278[SCI,1][617,*] 83/84   82/83      0.436       -3.28  -1.8E-4    0.925\n"
       ]
      },
      {
       "output_type": "stream",
       "stream": "stdout",
       "text": [
        "wXdfS20150730S0278[SCI,1][607,*] 83/84   83/83      0.491        -3.7  -2.0E-4    0.878\n"
       ]
      },
      {
       "output_type": "stream",
       "stream": "stdout",
       "text": [
        "wXdfS20150730S0278[SCI,1][597,*] 82/84   81/82      0.539       -4.06  -2.2E-4    0.797\n"
       ]
      },
      {
       "output_type": "stream",
       "stream": "stdout",
       "text": [
        "wXdfS20150730S0278[SCI,1][587,*] 82/84   82/82      0.577       -4.35  -2.3E-4    0.843\n"
       ]
      },
      {
       "output_type": "stream",
       "stream": "stdout",
       "text": [
        "wXdfS20150730S0278[SCI,1][577,*] 83/84   81/83      0.617       -4.65  -2.5E-4    0.835\n"
       ]
      },
      {
       "output_type": "stream",
       "stream": "stdout",
       "text": [
        "wXdfS20150730S0278[SCI,1][567,*] 83/84   81/83      0.671       -5.06  -2.7E-4    0.737\n"
       ]
      },
      {
       "output_type": "stream",
       "stream": "stdout",
       "text": [
        "wXdfS20150730S0278[SCI,1][557,*] 83/84   80/83      0.696       -5.25  -2.8E-4    0.761\n"
       ]
      },
      {
       "output_type": "stream",
       "stream": "stdout",
       "text": [
        "wXdfS20150730S0278[SCI,1][547,*] 84/84   81/84      0.746       -5.63  -3.0E-4    0.749\n"
       ]
      },
      {
       "output_type": "stream",
       "stream": "stdout",
       "text": [
        "wXdfS20150730S0278[SCI,1][537,*] 84/84   84/84      0.822        -6.2  -3.3E-4    0.908\n"
       ]
      },
      {
       "output_type": "stream",
       "stream": "stdout",
       "text": [
        "wXdfS20150730S0278[SCI,1][527,*] 84/84   82/84      0.882       -6.65  -3.6E-4    0.885\n"
       ]
      },
      {
       "output_type": "stream",
       "stream": "stdout",
       "text": [
        "wXdfS20150730S0278[SCI,1][517,*] 84/84   82/84      0.924       -6.97  -3.7E-4    0.796\n"
       ]
      },
      {
       "output_type": "stream",
       "stream": "stdout",
       "text": [
        "wXdfS20150730S0278[SCI,1][507,*] 84/84   82/84      0.969       -7.31  -3.9E-4    0.787\n"
       ]
      },
      {
       "output_type": "stream",
       "stream": "stdout",
       "text": [
        "wXdfS20150730S0278[SCI,1][497,*] 83/84   81/83      0.998       -7.52  -4.0E-4    0.844\n"
       ]
      },
      {
       "output_type": "stream",
       "stream": "stdout",
       "text": [
        "wXdfS20150730S0278[SCI,1][487,*] 82/84   80/82       1.05        -7.9  -4.2E-4    0.738\n"
       ]
      },
      {
       "output_type": "stream",
       "stream": "stdout",
       "text": [
        "wXdfS20150730S0278[SCI,1][477,*] 84/84   82/84       1.12       -8.44  -4.5E-4    0.875\n"
       ]
      },
      {
       "output_type": "stream",
       "stream": "stdout",
       "text": [
        "wXdfS20150730S0278[SCI,1][467,*] 84/84   82/84       1.18       -8.89  -4.7E-4    0.879\n"
       ]
      },
      {
       "output_type": "stream",
       "stream": "stdout",
       "text": [
        "wXdfS20150730S0278[SCI,1][457,*] 83/84   82/83       1.23       -9.27  -4.9E-4    0.902\n"
       ]
      },
      {
       "output_type": "stream",
       "stream": "stdout",
       "text": [
        "wXdfS20150730S0278[SCI,1][447,*] 81/84   80/81       1.26       -9.49  -5.1E-4     0.89\n"
       ]
      },
      {
       "output_type": "stream",
       "stream": "stdout",
       "text": [
        "wXdfS20150730S0278[SCI,1][437,*] 82/84   81/82       1.33       -10.1  -5.3E-4    0.843\n"
       ]
      },
      {
       "output_type": "stream",
       "stream": "stdout",
       "text": [
        "wXdfS20150730S0278[SCI,1][427,*] 82/84   80/82       1.38       -10.4  -5.6E-4    0.827\n"
       ]
      },
      {
       "output_type": "stream",
       "stream": "stdout",
       "text": [
        "wXdfS20150730S0278[SCI,1][417,*] 83/84   82/83       1.44       -10.9  -5.8E-4    0.846\n"
       ]
      },
      {
       "output_type": "stream",
       "stream": "stdout",
       "text": [
        "wXdfS20150730S0278[SCI,1][407,*] 83/84   82/83        1.5       -11.3  -6.0E-4    0.864\n"
       ]
      },
      {
       "output_type": "stream",
       "stream": "stdout",
       "text": [
        "wXdfS20150730S0278[SCI,1][397,*] 82/84   80/82       1.56       -11.8  -6.3E-4    0.854\n"
       ]
      },
      {
       "output_type": "stream",
       "stream": "stdout",
       "text": [
        "wXdfS20150730S0278[SCI,1][387,*] 83/84   81/83       1.61       -12.1  -6.5E-4    0.803\n"
       ]
      },
      {
       "output_type": "stream",
       "stream": "stdout",
       "text": [
        "wXdfS20150730S0278[SCI,1][377,*] 81/84   74/81       1.67       -12.6  -6.7E-4      0.7\n"
       ]
      },
      {
       "output_type": "stream",
       "stream": "stdout",
       "text": [
        "wXdfS20150730S0278[SCI,1][367,*] 82/84   81/82       1.76       -13.3  -7.1E-4    0.778\n"
       ]
      },
      {
       "output_type": "stream",
       "stream": "stdout",
       "text": [
        "wXdfS20150730S0278[SCI,1][357,*] 84/84   83/84       1.82       -13.7  -7.3E-4    0.899\n"
       ]
      },
      {
       "output_type": "stream",
       "stream": "stdout",
       "text": [
        "wXdfS20150730S0278[SCI,1][347,*] 84/84   81/84       1.88       -14.2  -7.6E-4    0.819\n"
       ]
      },
      {
       "output_type": "stream",
       "stream": "stdout",
       "text": [
        "wXdfS20150730S0278[SCI,1][337,*] 84/84   80/84       1.94       -14.6  -7.8E-4    0.831\n"
       ]
      },
      {
       "output_type": "stream",
       "stream": "stdout",
       "text": [
        "wXdfS20150730S0278[SCI,1][327,*] 84/84   82/84       2.01       -15.2  -8.1E-4    0.857\n"
       ]
      },
      {
       "output_type": "stream",
       "stream": "stdout",
       "text": [
        "wXdfS20150730S0278[SCI,1][317,*] 84/84   82/84        2.1       -15.8  -8.4E-4    0.924\n"
       ]
      },
      {
       "output_type": "stream",
       "stream": "stdout",
       "text": [
        "wXdfS20150730S0278[SCI,1][307,*] 82/84   82/82       2.19       -16.5  -8.8E-4    0.833\n"
       ]
      },
      {
       "output_type": "stream",
       "stream": "stdout",
       "text": [
        "wXdfS20150730S0278[SCI,1][297,*] 83/84   81/83       2.23       -16.8  -9.0E-4    0.959\n"
       ]
      },
      {
       "output_type": "stream",
       "stream": "stdout",
       "text": [
        "wXdfS20150730S0278[SCI,1][287,*] 83/84   82/83       2.31       -17.4  -9.3E-4    0.973\n"
       ]
      },
      {
       "output_type": "stream",
       "stream": "stdout",
       "text": [
        "wXdfS20150730S0278[SCI,1][277,*] 83/84   81/83       2.38       -17.9  -9.5E-4     0.93\n"
       ]
      },
      {
       "output_type": "stream",
       "stream": "stdout",
       "text": [
        "wXdfS20150730S0278[SCI,1][267,*] 82/84   81/82       2.46       -18.6  -9.9E-4    0.966\n"
       ]
      },
      {
       "output_type": "stream",
       "stream": "stdout",
       "text": [
        "wXdfS20150730S0278[SCI,1][257,*] 83/84   81/83       2.54       -19.2   -0.001    0.876\n"
       ]
      },
      {
       "output_type": "stream",
       "stream": "stdout",
       "text": [
        "wXdfS20150730S0278[SCI,1][247,*] 82/84   78/82       2.59       -19.5   -0.001    0.821\n"
       ]
      },
      {
       "output_type": "stream",
       "stream": "stdout",
       "text": [
        "wXdfS20150730S0278[SCI,1][237,*] 82/84   80/82       2.68       -20.2  -0.0011    0.882\n"
       ]
      },
      {
       "output_type": "stream",
       "stream": "stdout",
       "text": [
        "wXdfS20150730S0278[SCI,1][227,*] 84/84   79/84       2.75       -20.7  -0.0011    0.885\n"
       ]
      },
      {
       "output_type": "stream",
       "stream": "stdout",
       "text": [
        "wXdfS20150730S0278[SCI,1][217,*] 84/84   81/84       2.81       -21.2  -0.0011     1.11\n"
       ]
      },
      {
       "output_type": "stream",
       "stream": "stdout",
       "text": [
        "wXdfS20150730S0278[SCI,1][207,*] 81/84   79/81        2.9       -21.8  -0.0012    0.948\n"
       ]
      },
      {
       "output_type": "stream",
       "stream": "stdout",
       "text": [
        "wXdfS20150730S0278[SCI,1][197,*] 82/84   79/82       2.97       -22.4  -0.0012     1.02\n"
       ]
      },
      {
       "output_type": "stream",
       "stream": "stdout",
       "text": [
        "wXdfS20150730S0278[SCI,1][187,*] 83/84   80/83       3.08       -23.2  -0.0012     1.01\n"
       ]
      },
      {
       "output_type": "stream",
       "stream": "stdout",
       "text": [
        "wXdfS20150730S0278[SCI,1][177,*] 82/84   79/82       3.21       -24.2  -0.0013    0.903\n"
       ]
      },
      {
       "output_type": "stream",
       "stream": "stdout",
       "text": [
        "wXdfS20150730S0278[SCI,1][167,*] 81/84   79/81       3.29       -24.8  -0.0013    0.897\n"
       ]
      },
      {
       "output_type": "stream",
       "stream": "stdout",
       "text": [
        "wXdfS20150730S0278[SCI,1][157,*] 80/84   80/80       3.32       -25.1  -0.0013     1.04\n"
       ]
      },
      {
       "output_type": "stream",
       "stream": "stdout",
       "text": [
        "    ** Too many features lost **\n"
       ]
      },
      {
       "output_type": "stream",
       "stream": "stdout",
       "text": [
        "wXdfS20150730S0278[SCI,1][147,*] 81/84   80/81       3.42       -25.8  -0.0014    0.927\n"
       ]
      },
      {
       "output_type": "stream",
       "stream": "stdout",
       "text": [
        "wXdfS20150730S0278[SCI,1][137,*] 80/84   78/80       3.52       -26.5  -0.0014    0.863\n"
       ]
      },
      {
       "output_type": "stream",
       "stream": "stdout",
       "text": [
        "    ** Too many features lost **\n"
       ]
      },
      {
       "output_type": "stream",
       "stream": "stdout",
       "text": [
        "wXdfS20150730S0278[SCI,1][127,*] 80/84   77/80        3.5       -26.4  -0.0014    0.794\n"
       ]
      },
      {
       "output_type": "stream",
       "stream": "stdout",
       "text": [
        "    ** Too many features lost **\n"
       ]
      },
      {
       "output_type": "stream",
       "stream": "stdout",
       "text": [
        "wXdfS20150730S0278[SCI,1][117,*] 79/84   78/79       3.65       -27.5  -0.0015    0.971\n"
       ]
      },
      {
       "output_type": "stream",
       "stream": "stdout",
       "text": [
        "    ** Too many features lost **\n"
       ]
      },
      {
       "output_type": "stream",
       "stream": "stdout",
       "text": [
        "wXdfS20150730S0278[SCI,1][107,*] 82/84   77/82       3.81       -28.7  -0.0015    0.913\n"
       ]
      },
      {
       "output_type": "stream",
       "stream": "stdout",
       "text": [
        "wXdfS20150730S0278[SCI,1][97,*] 81/84   75/81       3.83       -28.9  -0.0015    0.934\n"
       ]
      },
      {
       "output_type": "stream",
       "stream": "stdout",
       "text": [
        "wXdfS20150730S0278[SCI,1][87,*] 82/84   78/82       3.93       -29.6  -0.0016    0.974\n"
       ]
      },
      {
       "output_type": "stream",
       "stream": "stdout",
       "text": [
        "wXdfS20150730S0278[SCI,1][77,*] 82/84   79/82       3.95       -29.8  -0.0016     1.12\n"
       ]
      },
      {
       "output_type": "stream",
       "stream": "stdout",
       "text": [
        "wXdfS20150730S0278[SCI,1][67,*] 81/84   76/81       4.08       -30.7  -0.0016    0.924\n"
       ]
      },
      {
       "output_type": "stream",
       "stream": "stdout",
       "text": [
        "wXdfS20150730S0278[SCI,1][57,*] 81/84   78/81       4.18       -31.5  -0.0017     1.33\n"
       ]
      },
      {
       "output_type": "stream",
       "stream": "stdout",
       "text": [
        "wXdfS20150730S0278[SCI,1][47,*] 81/84   72/81       4.17       -31.4  -0.0017    0.802\n"
       ]
      },
      {
       "output_type": "stream",
       "stream": "stdout",
       "text": [
        "wXdfS20150730S0278[SCI,1][37,*] 81/84   77/81       4.41       -33.2  -0.0018    0.895\n"
       ]
      },
      {
       "output_type": "stream",
       "stream": "stdout",
       "text": [
        "wXdfS20150730S0278[SCI,1][27,*] 79/84   73/79       4.35       -32.8  -0.0018    0.847\n"
       ]
      },
      {
       "output_type": "stream",
       "stream": "stdout",
       "text": [
        "    ** Too many features lost **\n"
       ]
      },
      {
       "output_type": "stream",
       "stream": "stdout",
       "text": [
        "wXdfS20150730S0278[SCI,1][17,*] 80/84   76/80       4.53       -34.2  -0.0018    0.901\n"
       ]
      },
      {
       "output_type": "stream",
       "stream": "stdout",
       "text": [
        "    ** Too many features lost **\n"
       ]
      },
      {
       "output_type": "stream",
       "stream": "stdout",
       "text": [
        "wXdfS20150730S0278[SCI,1][7,*] 80/84   74/80       4.62       -34.8  -0.0019    0.953\n"
       ]
      },
      {
       "output_type": "stream",
       "stream": "stdout",
       "text": [
        "    ** Too many features lost **\n"
       ]
      },
      {
       "output_type": "stream",
       "stream": "stdout",
       "text": [
        "wXdfS20150730S0278[SCI,1][727,*] 83/84   80/83    -0.0633       0.478  2.68E-5    0.765\n"
       ]
      },
      {
       "output_type": "stream",
       "stream": "stdout",
       "text": [
        "wXdfS20150730S0278[SCI,1][737,*] 84/84   82/84     -0.093       0.701  3.77E-5     0.81\n"
       ]
      },
      {
       "output_type": "stream",
       "stream": "stdout",
       "text": [
        "wXdfS20150730S0278[SCI,1][747,*] 84/84   81/84     -0.146         1.1  5.87E-5    0.761\n"
       ]
      },
      {
       "output_type": "stream",
       "stream": "stdout",
       "text": [
        "wXdfS20150730S0278[SCI,1][757,*] 84/84   84/84     -0.176        1.33  7.15E-5    0.868\n"
       ]
      },
      {
       "output_type": "stream",
       "stream": "stdout",
       "text": [
        "wXdfS20150730S0278[SCI,1][767,*] 84/84   83/84     -0.206        1.55  8.43E-5     0.78\n"
       ]
      },
      {
       "output_type": "stream",
       "stream": "stdout",
       "text": [
        "wXdfS20150730S0278[SCI,1][777,*] 84/84   83/84     -0.254        1.91  1.03E-4    0.821\n"
       ]
      },
      {
       "output_type": "stream",
       "stream": "stdout",
       "text": [
        "wXdfS20150730S0278[SCI,1][787,*] 84/84   82/84     -0.285        2.15  1.16E-4    0.905\n"
       ]
      },
      {
       "output_type": "stream",
       "stream": "stdout",
       "text": [
        "wXdfS20150730S0278[SCI,1][797,*] 83/84   83/83     -0.326        2.46  1.33E-4    0.924\n"
       ]
      },
      {
       "output_type": "stream",
       "stream": "stdout",
       "text": [
        "wXdfS20150730S0278[SCI,1][807,*] 84/84   83/84     -0.371         2.8  1.51E-4    0.826\n"
       ]
      },
      {
       "output_type": "stream",
       "stream": "stdout",
       "text": [
        "wXdfS20150730S0278[SCI,1][817,*] 84/84   84/84     -0.406        3.06  1.66E-4    0.862\n"
       ]
      },
      {
       "output_type": "stream",
       "stream": "stdout",
       "text": [
        "wXdfS20150730S0278[SCI,1][827,*] 83/84   80/83     -0.438         3.3  1.79E-4    0.651\n"
       ]
      },
      {
       "output_type": "stream",
       "stream": "stdout",
       "text": [
        "wXdfS20150730S0278[SCI,1][837,*] 81/84   80/81     -0.478        3.61  1.95E-4    0.803\n"
       ]
      },
      {
       "output_type": "stream",
       "stream": "stdout",
       "text": [
        "wXdfS20150730S0278[SCI,1][847,*] 83/84   82/83     -0.508        3.83  2.08E-4    0.811\n"
       ]
      },
      {
       "output_type": "stream",
       "stream": "stdout",
       "text": [
        "wXdfS20150730S0278[SCI,1][857,*] 83/84   83/83     -0.538        4.06  2.19E-4    0.842\n"
       ]
      },
      {
       "output_type": "stream",
       "stream": "stdout",
       "text": [
        "wXdfS20150730S0278[SCI,1][867,*] 83/84   82/83     -0.575        4.33  2.34E-4    0.862\n"
       ]
      },
      {
       "output_type": "stream",
       "stream": "stdout",
       "text": [
        "wXdfS20150730S0278[SCI,1][877,*] 83/84   83/83     -0.601        4.53  2.45E-4     0.83\n"
       ]
      },
      {
       "output_type": "stream",
       "stream": "stdout",
       "text": [
        "wXdfS20150730S0278[SCI,1][887,*] 83/84   82/83     -0.632        4.76  2.58E-4    0.801\n"
       ]
      },
      {
       "output_type": "stream",
       "stream": "stdout",
       "text": [
        "wXdfS20150730S0278[SCI,1][897,*] 82/84   82/82     -0.661        4.99  2.70E-4    0.791\n"
       ]
      },
      {
       "output_type": "stream",
       "stream": "stdout",
       "text": [
        "wXdfS20150730S0278[SCI,1][907,*] 82/84   82/82     -0.699        5.27  2.85E-4     0.83\n"
       ]
      },
      {
       "output_type": "stream",
       "stream": "stdout",
       "text": [
        "wXdfS20150730S0278[SCI,1][917,*] 82/84   82/82     -0.747        5.63  3.05E-4    0.835\n"
       ]
      },
      {
       "output_type": "stream",
       "stream": "stdout",
       "text": [
        "wXdfS20150730S0278[SCI,1][927,*] 82/84   82/82      -0.77         5.8  3.15E-4    0.855\n"
       ]
      },
      {
       "output_type": "stream",
       "stream": "stdout",
       "text": [
        "wXdfS20150730S0278[SCI,1][937,*] 82/84   82/82     -0.781        5.89  3.19E-4    0.774\n"
       ]
      },
      {
       "output_type": "stream",
       "stream": "stdout",
       "text": [
        "wXdfS20150730S0278[SCI,1][947,*] 82/84   81/82     -0.825        6.22  3.37E-4    0.837\n"
       ]
      },
      {
       "output_type": "stream",
       "stream": "stdout",
       "text": [
        "wXdfS20150730S0278[SCI,1][957,*] 83/84   82/83     -0.836         6.3  3.42E-4    0.838\n"
       ]
      },
      {
       "output_type": "stream",
       "stream": "stdout",
       "text": [
        "wXdfS20150730S0278[SCI,1][967,*] 83/84   81/83     -0.863        6.51  3.53E-4    0.794\n"
       ]
      },
      {
       "output_type": "stream",
       "stream": "stdout",
       "text": [
        "wXdfS20150730S0278[SCI,1][977,*] 83/84   82/83     -0.873        6.58  3.57E-4    0.789\n"
       ]
      },
      {
       "output_type": "stream",
       "stream": "stdout",
       "text": [
        "wXdfS20150730S0278[SCI,1][987,*] 82/84   81/82     -0.897        6.76  3.69E-4    0.779\n"
       ]
      },
      {
       "output_type": "stream",
       "stream": "stdout",
       "text": [
        "wXdfS20150730S0278[SCI,1][997,*] 83/84   83/83      -0.92        6.94  3.77E-4    0.821\n"
       ]
      },
      {
       "output_type": "stream",
       "stream": "stdout",
       "text": [
        "wXdfS20150730S0278[SCI,1][1007,*] 82/84   82/82     -0.944        7.11  3.86E-4    0.858\n"
       ]
      },
      {
       "output_type": "stream",
       "stream": "stdout",
       "text": [
        "wXdfS20150730S0278[SCI,1][1017,*] 82/84   81/82     -0.966        7.28  3.95E-4    0.837\n"
       ]
      },
      {
       "output_type": "stream",
       "stream": "stdout",
       "text": [
        "wXdfS20150730S0278[SCI,1][1027,*] 82/84   81/82     -0.968        7.29  3.97E-4    0.831\n"
       ]
      },
      {
       "output_type": "stream",
       "stream": "stdout",
       "text": [
        "wXdfS20150730S0278[SCI,1][1037,*] 82/84   81/82     -0.968         7.3  3.97E-4    0.803\n"
       ]
      },
      {
       "output_type": "stream",
       "stream": "stdout",
       "text": [
        "wXdfS20150730S0278[SCI,1][1047,*] 82/84   81/82     -0.979        7.38  4.01E-4    0.827\n"
       ]
      },
      {
       "output_type": "stream",
       "stream": "stdout",
       "text": [
        "wXdfS20150730S0278[SCI,1][1057,*] 82/84   82/82     -0.978        7.37  4.01E-4     0.88\n"
       ]
      },
      {
       "output_type": "stream",
       "stream": "stdout",
       "text": [
        "wXdfS20150730S0278[SCI,1][1067,*] 82/84   80/82      -1.01        7.64  4.16E-4    0.856\n"
       ]
      },
      {
       "output_type": "stream",
       "stream": "stdout",
       "text": [
        "wXdfS20150730S0278[SCI,1][1077,*] 83/84   82/83      -1.01        7.65  4.17E-4    0.805\n"
       ]
      },
      {
       "output_type": "stream",
       "stream": "stdout",
       "text": [
        "wXdfS20150730S0278[SCI,1][1087,*] 81/84   79/81      -1.03        7.79  4.24E-4    0.823\n"
       ]
      },
      {
       "output_type": "stream",
       "stream": "stdout",
       "text": [
        "wXdfS20150730S0278[SCI,1][1097,*] 82/84   81/82      -1.04        7.82  4.26E-4    0.751\n"
       ]
      },
      {
       "output_type": "stream",
       "stream": "stdout",
       "text": [
        "wXdfS20150730S0278[SCI,1][1107,*] 82/84   80/82      -1.06        7.99  4.35E-4    0.818\n"
       ]
      },
      {
       "output_type": "stream",
       "stream": "stdout",
       "text": [
        "wXdfS20150730S0278[SCI,1][1117,*] 83/84   81/83      -1.05        7.95  4.34E-4    0.826\n"
       ]
      },
      {
       "output_type": "stream",
       "stream": "stdout",
       "text": [
        "wXdfS20150730S0278[SCI,1][1127,*] 82/84   79/82      -1.08        8.14  4.44E-4    0.694\n"
       ]
      },
      {
       "output_type": "stream",
       "stream": "stdout",
       "text": [
        "wXdfS20150730S0278[SCI,1][1137,*] 83/84   82/83      -1.09        8.21  4.48E-4    0.819\n"
       ]
      },
      {
       "output_type": "stream",
       "stream": "stdout",
       "text": [
        "wXdfS20150730S0278[SCI,1][1147,*] 83/84   81/83       -1.1        8.27  4.53E-4    0.762\n"
       ]
      },
      {
       "output_type": "stream",
       "stream": "stdout",
       "text": [
        "wXdfS20150730S0278[SCI,1][1157,*] 82/84   79/82      -1.14        8.58  4.68E-4    0.712\n"
       ]
      },
      {
       "output_type": "stream",
       "stream": "stdout",
       "text": [
        "wXdfS20150730S0278[SCI,1][1167,*] 84/84   82/84      -1.14         8.6  4.70E-4    0.844\n"
       ]
      },
      {
       "output_type": "stream",
       "stream": "stdout",
       "text": [
        "wXdfS20150730S0278[SCI,1][1177,*] 84/84   80/84      -1.15        8.64  4.73E-4    0.706\n"
       ]
      },
      {
       "output_type": "stream",
       "stream": "stdout",
       "text": [
        "wXdfS20150730S0278[SCI,1][1187,*] 84/84   83/84      -1.16        8.74  4.79E-4    0.811\n"
       ]
      },
      {
       "output_type": "stream",
       "stream": "stdout",
       "text": [
        "wXdfS20150730S0278[SCI,1][1197,*] 84/84   84/84      -1.18        8.89  4.88E-4    0.923\n"
       ]
      },
      {
       "output_type": "stream",
       "stream": "stdout",
       "text": [
        "wXdfS20150730S0278[SCI,1][1207,*] 83/84   82/83      -1.18        8.92  4.90E-4    0.805\n"
       ]
      },
      {
       "output_type": "stream",
       "stream": "stdout",
       "text": [
        "wXdfS20150730S0278[SCI,1][1217,*] 84/84   83/84      -1.19          9.  4.94E-4     0.88\n"
       ]
      },
      {
       "output_type": "stream",
       "stream": "stdout",
       "text": [
        "wXdfS20150730S0278[SCI,1][1227,*] 84/84   84/84      -1.19        8.94  4.93E-4    0.832\n"
       ]
      },
      {
       "output_type": "stream",
       "stream": "stdout",
       "text": [
        "wXdfS20150730S0278[SCI,1][1237,*] 84/84   83/84      -1.19        9.01  4.96E-4     0.86\n"
       ]
      },
      {
       "output_type": "stream",
       "stream": "stdout",
       "text": [
        "wXdfS20150730S0278[SCI,1][1247,*] 84/84   84/84      -1.19        8.99  4.96E-4    0.854\n"
       ]
      },
      {
       "output_type": "stream",
       "stream": "stdout",
       "text": [
        "wXdfS20150730S0278[SCI,1][1257,*] 84/84   84/84       -1.2        9.07  5.00E-4    0.919\n"
       ]
      },
      {
       "output_type": "stream",
       "stream": "stdout",
       "text": [
        "wXdfS20150730S0278[SCI,1][1267,*] 84/84   84/84      -1.18        8.92  4.93E-4    0.855\n"
       ]
      },
      {
       "output_type": "stream",
       "stream": "stdout",
       "text": [
        "wXdfS20150730S0278[SCI,1][1277,*] 84/84   84/84      -1.19        8.95  4.95E-4    0.844\n"
       ]
      },
      {
       "output_type": "stream",
       "stream": "stdout",
       "text": [
        "wXdfS20150730S0278[SCI,1][1287,*] 84/84   81/84      -1.17        8.79  4.86E-4     0.76\n"
       ]
      },
      {
       "output_type": "stream",
       "stream": "stdout",
       "text": [
        "wXdfS20150730S0278[SCI,1][1297,*] 84/84   83/84      -1.13        8.54  4.73E-4    0.877\n"
       ]
      },
      {
       "output_type": "stream",
       "stream": "stdout",
       "text": [
        "wXdfS20150730S0278[SCI,1][1307,*] 83/84   79/83      -1.11        8.39  4.67E-4     0.69\n"
       ]
      },
      {
       "output_type": "stream",
       "stream": "stdout",
       "text": [
        "wXdfS20150730S0278[SCI,1][1317,*] 84/84   84/84      -1.11        8.37  4.64E-4    0.901\n"
       ]
      },
      {
       "output_type": "stream",
       "stream": "stdout",
       "text": [
        "wXdfS20150730S0278[SCI,1][1327,*] 83/84   81/83       -1.1        8.32  4.61E-4    0.793\n"
       ]
      },
      {
       "output_type": "stream",
       "stream": "stdout",
       "text": [
        "wXdfS20150730S0278[SCI,1][1337,*] 84/84   81/84      -1.09        8.21  4.55E-4    0.793\n"
       ]
      },
      {
       "output_type": "stream",
       "stream": "stdout",
       "text": [
        "wXdfS20150730S0278[SCI,1][1347,*] 83/84   81/83      -1.08        8.15  4.54E-4    0.778\n"
       ]
      },
      {
       "output_type": "stream",
       "stream": "stdout",
       "text": [
        "wXdfS20150730S0278[SCI,1][1357,*] 83/84   80/83      -1.06        7.98  4.45E-4    0.826\n"
       ]
      },
      {
       "output_type": "stream",
       "stream": "stdout",
       "text": [
        "wXdfS20150730S0278[SCI,1][1367,*] 83/84   82/83      -1.09         8.2  4.57E-4    0.874\n"
       ]
      },
      {
       "output_type": "stream",
       "stream": "stdout",
       "text": [
        "wXdfS20150730S0278[SCI,1][1377,*] 84/84   84/84      -1.09        8.22  4.59E-4    0.932\n"
       ]
      },
      {
       "output_type": "stream",
       "stream": "stdout",
       "text": [
        "wXdfS20150730S0278[SCI,1][1387,*] 83/84   80/83      -1.08        8.17  4.57E-4     0.82\n"
       ]
      },
      {
       "output_type": "stream",
       "stream": "stdout",
       "text": [
        "wXdfS20150730S0278[SCI,1][1397,*] 82/84   80/82      -1.05        7.95  4.45E-4     0.84\n"
       ]
      },
      {
       "output_type": "stream",
       "stream": "stdout",
       "text": [
        "wXdfS20150730S0278[SCI,1][1407,*] 82/84   77/82      -1.02        7.68  4.31E-4    0.759\n"
       ]
      },
      {
       "output_type": "stream",
       "stream": "stdout",
       "text": [
        "wXdfS20150730S0278[SCI,1][1417,*] 82/84   78/82      -1.01        7.61  4.28E-4    0.796\n"
       ]
      },
      {
       "output_type": "stream",
       "stream": "stdout",
       "text": [
        "wXdfS20150730S0278[SCI,1][1427,*] 84/84   84/84      -1.02        7.71  4.35E-4    0.997\n"
       ]
      },
      {
       "output_type": "stream",
       "stream": "stdout",
       "text": [
        "\n",
        "NSWHELPER Exit status good\n",
        "-------------------------------------------------------------------------------\n",
        "\n",
        "NSWAVELENGTH Exit status good\n",
        "-------------------------------------------------------------------------------\n"
       ]
      }
     ],
     "prompt_number": 12
    },
    {
     "cell_type": "heading",
     "level": 4,
     "metadata": {},
     "source": [
      "Apply this solution on the non-sky subtracted frame."
     ]
    },
    {
     "cell_type": "markdown",
     "metadata": {},
     "source": [
      "Most likely the `lxorder` and `lyorder` should be same as for the arc solution given that this must be a function of the optics.  I (Kathleen) did run `nsfitcoords` interactively in a PyRAF session and I confirm that `lxorder 3` and `lyorder 8` are required even with the OH line solution. No need to run it interactively anymore."
     ]
    },
    {
     "cell_type": "code",
     "collapsed": true,
     "input": [
      "iraf.imdelete('fXdf'+first_obj, verify='no')\n",
      "iraf.nsfitcoords ('Xdf'+first_obj, lamptransf='wXdf'+first_obj+'.fits', \\\n",
      "                  lxorder=lxorder, lyorder=lyorder, fl_inter='no')\n",
      "\n",
      "iraf.imdelete('tfXdf'+first_obj, verify='no')\n",
      "iraf.nstransform('fXdf'+first_obj)"
     ],
     "language": "python",
     "metadata": {},
     "outputs": [
      {
       "output_type": "stream",
       "stream": "stdout",
       "text": [
        "-------------------------------------------------------------------------------\n",
        "NSFITCOORDS -- Tue Oct 27 13:59:38 HST 2015\n",
        "\n",
        "Using input files:"
       ]
      },
      {
       "output_type": "stream",
       "stream": "stdout",
       "text": [
        "\n",
        "XdfS20150730S0278\n"
       ]
      },
      {
       "output_type": "stream",
       "stream": "stdout",
       "text": [
        "Using output files:\n",
        "fXdfS20150730S0278\n"
       ]
      },
      {
       "output_type": "stream",
       "stream": "stdout",
       "text": [
        "NSFITCOORDS: Fitnames for XdfS20150730S0278: fXdfS20150730S0278_SCI_1_lamp\n"
       ]
      },
      {
       "output_type": "stream",
       "stream": "stdout",
       "text": [
        "NSFITCOORDS: Exit status good\n",
        "-------------------------------------------------------------------------------\n"
       ]
      },
      {
       "output_type": "stream",
       "stream": "stdout",
       "text": [
        "-------------------------------------------------------------------------------\n",
        "NSTRANSFORM -- Tue Oct 27 13:59:41 HST 2015\n",
        "\n",
        "Using input files:"
       ]
      },
      {
       "output_type": "stream",
       "stream": "stdout",
       "text": [
        "\n",
        "fXdfS20150730S0278\n"
       ]
      },
      {
       "output_type": "stream",
       "stream": "stdout",
       "text": [
        "Using output files:\n",
        "tfXdfS20150730S0278\n"
       ]
      },
      {
       "output_type": "stream",
       "stream": "stdout",
       "text": [
        "NSTRANSFORM: Fitnames for fXdfS20150730S0278: fXdfS20150730S0278_SCI_1_lamp\n",
        "WARNING - NSTRANSFORM: No MDF in fXdfS20150730S0278"
       ]
      },
      {
       "output_type": "stream",
       "stream": "stdout",
       "text": [
        "\n"
       ]
      },
      {
       "output_type": "stream",
       "stream": "stdout",
       "text": [
        "NSTRANSFORM: Exit status good\n",
        "-------------------------------------------------------------------------------\n"
       ]
      }
     ],
     "prompt_number": 18
    },
    {
     "cell_type": "markdown",
     "metadata": {},
     "source": [
      "Verify if the OH lines are showing up in the right position this time.\n",
      "\n",
      "    first_obj = iraf.head('obj.lis', nlines=1, Stdout=1)[0].strip()\n",
      "    iraf.splot ('tfXdf'+first_obj+'[sci,1]', line=750)\n",
      "    # line=750 is just somewhere in the middle.\n",
      "    # :nsum 30\n",
      "    # Use 'k' again and sky line plots and lists to check position\n",
      "    #  of the sky lines.\n",
      "    \n",
      "Resources:  \n",
      "[http://www.ukirt.hawaii.edu/astronomy/calib/spec_cal/oh.html](http://www.ukirt.hawaii.edu/astronomy/calib/spec_cal/oh.html)  \n",
      "[http://www.ukirt.hawaii.edu/astronomy/calib/spec_cal/ohlines.html](http://www.ukirt.hawaii.edu/astronomy/calib/spec_cal/ohlines.html)  \n"
     ]
    },
    {
     "cell_type": "markdown",
     "metadata": {},
     "source": [
      "** RESULTS **\n",
      "\n",
      "Not perfect, but significantly better than with the arc.  The same pattern is measured but with a lower amplitude.  At the blue end, it is similar, but at the red end it is reduce by at least half, with good matches all the way to 21800 Angs. At the blue end, the good matches start much sooner, around 15800 Angs.\n",
      "\n",
      "** <font color='red'>We will use the solution from the OH lines.</font> **"
     ]
    },
    {
     "cell_type": "heading",
     "level": 3,
     "metadata": {},
     "source": [
      "11.3 Apply the wavelength solution"
     ]
    },
    {
     "cell_type": "code",
     "collapsed": true,
     "input": [
      "# Select either the arc or the OH solution for 'wavesolution'\n",
      "\n",
      "#wavesolution = 'warc.fits'\n",
      "wavesolution = 'wXdf'+first_obj+'.fits'\n",
      "\n",
      "iraf.imdelete('fobj_comb.fits', verify='no')\n",
      "iraf.nsfitcoords('obj_comb.fits', lamptransf=wavesolution, \\\n",
      "                 lxorder=lxorder, lyorder=lyorder, fl_inter='no')\n",
      "\n",
      "iraf.imdelete('tfobj_comb.fits', verify='no')\n",
      "iraf.nstransform('fobj_comb.fits')"
     ],
     "language": "python",
     "metadata": {},
     "outputs": [
      {
       "output_type": "stream",
       "stream": "stdout",
       "text": [
        "-------------------------------------------------------------------------------\n",
        "NSFITCOORDS -- Tue Oct 27 14:21:20 HST 2015\n",
        "\n",
        "Using input files:"
       ]
      },
      {
       "output_type": "stream",
       "stream": "stdout",
       "text": [
        "\n",
        "obj_comb\n"
       ]
      },
      {
       "output_type": "stream",
       "stream": "stdout",
       "text": [
        "Using output files:\n",
        "fobj_comb\n"
       ]
      },
      {
       "output_type": "stream",
       "stream": "stdout",
       "text": [
        "NSFITCOORDS: Fitnames for obj_comb: fobj_comb_SCI_1_lamp\n"
       ]
      },
      {
       "output_type": "stream",
       "stream": "stdout",
       "text": [
        "NSFITCOORDS: Exit status good\n",
        "-------------------------------------------------------------------------------\n"
       ]
      },
      {
       "output_type": "stream",
       "stream": "stdout",
       "text": [
        "-------------------------------------------------------------------------------\n",
        "NSTRANSFORM -- Tue Oct 27 14:21:23 HST 2015\n",
        "\n",
        "Using input files:"
       ]
      },
      {
       "output_type": "stream",
       "stream": "stdout",
       "text": [
        "\n",
        "fobj_comb\n"
       ]
      },
      {
       "output_type": "stream",
       "stream": "stdout",
       "text": [
        "Using output files:\n",
        "tfobj_comb\n"
       ]
      },
      {
       "output_type": "stream",
       "stream": "stdout",
       "text": [
        "NSTRANSFORM: Fitnames for fobj_comb: fobj_comb_SCI_1_lamp\n",
        "WARNING - NSTRANSFORM: No MDF in fobj_comb"
       ]
      },
      {
       "output_type": "stream",
       "stream": "stdout",
       "text": [
        "\n"
       ]
      },
      {
       "output_type": "stream",
       "stream": "stdout",
       "text": [
        "NSTRANSFORM: Exit status good\n",
        "-------------------------------------------------------------------------------\n"
       ]
      }
     ],
     "prompt_number": 19
    },
    {
     "cell_type": "code",
     "collapsed": true,
     "input": [
      "iraf.display('tfobj_comb.fits[sci,1]', 1)"
     ],
     "language": "python",
     "metadata": {},
     "outputs": [
      {
       "output_type": "stream",
       "stream": "stdout",
       "text": [
        "z1=-34.38675 z2=33.79842\n"
       ]
      }
     ],
     "prompt_number": 20
    },
    {
     "cell_type": "heading",
     "level": 2,
     "metadata": {},
     "source": [
      "STEP 12: Extract the science spectrum"
     ]
    },
    {
     "cell_type": "markdown",
     "metadata": {},
     "source": [
      "For faint science spectra, the telluric can be used as a reference when extracting the science spectrum; set <code>trace=tftel_comb.fits</code>.  Note that you will need to reduce the telluric first (Steps 13-17).\n",
      "\n",
      "Continue below if the science spectrum is strong enough to be traced.  (The most common case.)"
     ]
    },
    {
     "cell_type": "code",
     "collapsed": true,
     "input": [
      "iraf.display('tfobj_comb.fits[sci,1]', 1)"
     ],
     "language": "python",
     "metadata": {},
     "outputs": [
      {
       "output_type": "stream",
       "stream": "stdout",
       "text": [
        "z1=-34.38675 z2=33.79842\n"
       ]
      }
     ],
     "prompt_number": 21
    },
    {
     "cell_type": "markdown",
     "metadata": {},
     "source": [
      "Can see a nice signal on the 2D image."
     ]
    },
    {
     "cell_type": "markdown",
     "metadata": {},
     "source": [
      "For this extraction, one needs to:\n",
      "1. delete, '`d`', the aperture automatically selected.  It selects some random spike at the far left of the cross-section.\n",
      "1. mark, '`m`', the real location of the science spectrum, around column 956.\n",
      "1. adjust with '`u`' and '`l`', the width of the aperture, it seems a bit too wide."
     ]
    },
    {
     "cell_type": "code",
     "collapsed": true,
     "input": [
      "iraf.imdelete('xtfobj_comb.fits', verify='no')\n",
      "iraf.nsextract('tfobj_comb.fits', fl_apall='yes', fl_findneg='no', \\\n",
      "               fl_inter='yes', fl_trace='yes')\n",
      "\n",
      "iraf.splot('xtfobj_comb.fits[SCI,1]')"
     ],
     "language": "python",
     "metadata": {},
     "outputs": [
      {
       "output_type": "stream",
       "stream": "stdout",
       "text": [
        "-------------------------------------------------------------------------------\n",
        "NSEXTRACT -- Tue Oct 27 14:22:45 HST 2015\n",
        " "
       ]
      },
      {
       "output_type": "stream",
       "stream": "stdout",
       "text": [
        "\n"
       ]
      },
      {
       "output_type": "stream",
       "stream": "stdout",
       "text": [
        "WARNING - NSEXTRACT: Output variance planes derived from apall rather than input variance plane.\n",
        "Using input files:\n",
        "tfobj_comb 1 no\n"
       ]
      },
      {
       "output_type": "stream",
       "stream": "stdout",
       "text": [
        "Using output files:\n",
        "xtfobj_comb\n"
       ]
      },
      {
       "output_type": "stream",
       "stream": "stdout",
       "text": [
        "\n",
        "Searching aperture database ...\n"
       ]
      },
      {
       "output_type": "stream",
       "stream": "stderr",
       "text": [
        "Find apertures for tmpscivar80871_245?"
       ]
      },
      {
       "output_type": "stream",
       "stream": "stdout",
       "text": [
        "Finding apertures ...\n"
       ]
      },
      {
       "output_type": "stream",
       "stream": "stdout",
       "text": [
        "Oct 27 14:22: FIND - 1 apertures found for tmpscivar80871_245\n"
       ]
      },
      {
       "output_type": "stream",
       "stream": "stderr",
       "text": [
        "Resize apertures for tmpscivar80871_245?"
       ]
      },
      {
       "output_type": "stream",
       "stream": "stdout",
       "text": [
        "Resizing apertures ...\n"
       ]
      },
      {
       "output_type": "stream",
       "stream": "stdout",
       "text": [
        "Oct 27 14:22: APRESIZE  - 1 apertures resized for tmpscivar80871_245 (-1.01, 0.93)\n"
       ]
      },
      {
       "output_type": "stream",
       "stream": "stderr",
       "text": [
        "Edit apertures for tmpscivar80871_245?"
       ]
      },
      {
       "output_type": "stream",
       "stream": "stdout",
       "text": [
        "     aperture = 1  beam = 1  center = 310.07  low = -1.01  upper = 0.93\n"
       ]
      },
      {
       "output_type": "stream",
       "stream": "stdout",
       "text": [
        "window:"
       ]
      },
      {
       "output_type": "stream",
       "stream": "stdout",
       "text": [
        "again:"
       ]
      },
      {
       "output_type": "stream",
       "stream": "stdout",
       "text": [
        "     aperture = 1  beam = 1  center = 927.58  low = -10.00  upper = 10.00\n"
       ]
      },
      {
       "output_type": "stream",
       "stream": "stdout",
       "text": [
        "     aperture = 1  beam = 1  center = 927.58  low = -4.65  upper = 10.00\n"
       ]
      },
      {
       "output_type": "stream",
       "stream": "stdout",
       "text": [
        "     aperture = 1  beam = 1  center = 927.58  low = -4.65  upper = 2.72\n"
       ]
      },
      {
       "output_type": "stream",
       "stream": "stdout",
       "text": [
        "     aperture = 1  beam = 1  center = 927.58  low = -4.65  upper = 3.42\n"
       ]
      },
      {
       "output_type": "stream",
       "stream": "stdout",
       "text": [
        "     aperture = 1  beam = 1  center = 927.58  low = -3.60  upper = 3.42\n"
       ]
      },
      {
       "output_type": "stream",
       "stream": "stderr",
       "text": [
        "Trace apertures for tmpscivar80871_245?"
       ]
      },
      {
       "output_type": "stream",
       "stream": "stderr",
       "text": [
        "Fit traced positions for tmpscivar80871_245 interactively?"
       ]
      },
      {
       "output_type": "stream",
       "stream": "stdout",
       "text": [
        "Tracing apertures ...\n"
       ]
      },
      {
       "output_type": "stream",
       "stream": "stderr",
       "text": [
        "Fit curve to aperture 1 of tmpscivar80871_245 interactively"
       ]
      },
      {
       "output_type": "stream",
       "stream": "stdout",
       "text": [
        "Oct 27 14:23: TRACE - 1 apertures traced in tmpscivar80871_245.\n"
       ]
      },
      {
       "output_type": "stream",
       "stream": "stderr",
       "text": [
        "Write apertures for tmpscivar80871_245 to HK221750_database"
       ]
      },
      {
       "output_type": "stream",
       "stream": "stdout",
       "text": [
        "Oct 27 14:23: DATABASE - 1 apertures for tmpscivar80871_245 written to HK221750_database\n"
       ]
      },
      {
       "output_type": "stream",
       "stream": "stderr",
       "text": [
        "Extract aperture spectra for tmpscivar80871_245?"
       ]
      },
      {
       "output_type": "stream",
       "stream": "stderr",
       "text": [
        "Review extracted spectra from tmpscivar80871_245?"
       ]
      },
      {
       "output_type": "stream",
       "stream": "stdout",
       "text": [
        "Extracting apertures ...\n"
       ]
      },
      {
       "output_type": "stream",
       "stream": "stderr",
       "text": [
        "Review extracted spectrum for aperture 1 from tmpscivar80871_245?"
       ]
      },
      {
       "output_type": "stream",
       "stream": "stdout",
       "text": [
        "Oct 27 14:23: EXTRACT - Aperture 1 from tmpscivar80871_245 --> tmpspeca80871_233\n"
       ]
      },
      {
       "output_type": "stream",
       "stream": "stdout",
       "text": [
        "Searching aperture database ...\n"
       ]
      },
      {
       "output_type": "stream",
       "stream": "stdout",
       "text": [
        "Oct 27 14:23: DATABASE  - 1 apertures read for tmpscivar80871_245 from HK221750_database\n"
       ]
      },
      {
       "output_type": "stream",
       "stream": "stdout",
       "text": [
        "Oct 27 14:23: DATABASE - 1 apertures for tfobj_comb[DQ,1] written to HK221750_database\n"
       ]
      },
      {
       "output_type": "stream",
       "stream": "stdout",
       "text": [
        "Extracting apertures ...\n"
       ]
      },
      {
       "output_type": "stream",
       "stream": "stdout",
       "text": [
        "Oct 27 14:23: EXTRACT - Aperture 1 from tfobj_comb[DQ,1] --> tmpspecdqa80871_237\n"
       ]
      },
      {
       "output_type": "stream",
       "stream": "stdout",
       "text": [
        "NSEXTRACT: Aperture centre at 927.5825,500.0\n",
        "NSEXTRACT: S/N for xtfobj_comb: "
       ]
      },
      {
       "output_type": "stream",
       "stream": "stdout",
       "text": [
        "\n",
        "           from variance array:      5.34"
       ]
      },
      {
       "output_type": "stream",
       "stream": "stdout",
       "text": [
        "\n",
        "           from smoothed spectrum:   4.62\n"
       ]
      },
      {
       "output_type": "stream",
       "stream": "stdout",
       "text": [
        "\n",
        "NSEXTRACT: Exit status good\n",
        "-------------------------------------------------------------------------------\n"
       ]
      }
     ],
     "prompt_number": 22
    },
    {
     "cell_type": "heading",
     "level": 4,
     "metadata": {},
     "source": [
      "The F2 IRAF package does not clean up the WCS properly.  We do this now."
     ]
    },
    {
     "cell_type": "code",
     "collapsed": true,
     "input": [
      "iraf.hedit('xtfobj_comb.fits[sci,1]', 'CD2_2', delete='yes',\\\n",
      "            verify='no',update='yes')\n",
      "iraf.hedit('xtfobj_comb.fits[sci,1]', 'CTYPE2', delete='yes',\\\n",
      "           verify='no',update='yes')\n",
      "iraf.hedit('xtfobj_comb.fits[sci,1]', 'LTM2_2', delete='yes',\\\n",
      "           verify='no',update='yes')\n",
      "iraf.hedit('xtfobj_comb.fits[var,1]', 'CD2_2', delete='yes',\\\n",
      "           verify='no',update='yes')\n",
      "iraf.hedit('xtfobj_comb.fits[var,1]', 'CTYPE2', delete='yes',\\\n",
      "           verify='no',update='yes')\n",
      "iraf.hedit('xtfobj_comb.fits[var,1]', 'LTM2_2', delete='yes',\\\n",
      "           verify='no',update='yes')"
     ],
     "language": "python",
     "metadata": {},
     "outputs": [
      {
       "output_type": "stream",
       "stream": "stdout",
       "text": [
        "xtfobj_comb.fits[sci,1],CD2_2 deleted\n",
        "xtfobj_comb.fits[sci,1] updated\n"
       ]
      },
      {
       "output_type": "stream",
       "stream": "stdout",
       "text": [
        "xtfobj_comb.fits[sci,1],CTYPE2 deleted\n",
        "xtfobj_comb.fits[sci,1] updated\n"
       ]
      },
      {
       "output_type": "stream",
       "stream": "stdout",
       "text": [
        "xtfobj_comb.fits[sci,1],LTM2_2 deleted\n",
        "xtfobj_comb.fits[sci,1] updated\n"
       ]
      },
      {
       "output_type": "stream",
       "stream": "stdout",
       "text": [
        "xtfobj_comb.fits[var,1],CD2_2 deleted\n",
        "xtfobj_comb.fits[var,1] updated\n"
       ]
      },
      {
       "output_type": "stream",
       "stream": "stdout",
       "text": [
        "xtfobj_comb.fits[var,1],CTYPE2 deleted\n",
        "xtfobj_comb.fits[var,1] updated\n"
       ]
      },
      {
       "output_type": "stream",
       "stream": "stdout",
       "text": [
        "xtfobj_comb.fits[var,1],LTM2_2 deleted\n",
        "xtfobj_comb.fits[var,1] updated\n"
       ]
      }
     ],
     "prompt_number": 23
    },
    {
     "cell_type": "code",
     "collapsed": true,
     "input": [
      "!splot xtfobj_comb.fits -l quasar -z 0.60065 -y -50 800 --variance 2"
     ],
     "language": "python",
     "metadata": {},
     "outputs": [],
     "prompt_number": 13
    },
    {
     "cell_type": "markdown",
     "metadata": {},
     "source": [
      "<hr size=3 \\>\n",
      "<hr size=3 \\>"
     ]
    },
    {
     "cell_type": "heading",
     "level": 2,
     "metadata": {},
     "source": [
      "STEP 13: Reduce the telluric standard dataset"
     ]
    },
    {
     "cell_type": "code",
     "collapsed": true,
     "input": [
      "iraf.imdelete('df@tel.lis', verify='no')\n",
      "iraf.nsreduce('f@tel.lis', outprefix='d', fl_cut='no', fl_process_cut='no', \\\n",
      "    fl_dark='yes', darkimage='teldark.fits', fl_sky='no', fl_flat='no')\n",
      "\n",
      "iraf.imdelete('rdf@tel.lis', verify='no')\n",
      "iraf.nsreduce('df@tel.lis', fl_cut='yes', fl_dark='no', fl_sky='yes', \\\n",
      "    fl_flat='yes', flatimage='flat.fits')\n"
     ],
     "language": "python",
     "metadata": {},
     "outputs": [
      {
       "output_type": "stream",
       "stream": "stdout",
       "text": [
        "-------------------------------------------------------------------------------\n",
        "NSREDUCE -- Tue Oct 27 15:47:35 HST 2015\n",
        " \n",
        "NSREDUCE: Processing 4 extension(s) from 4 file(s)."
       ]
      },
      {
       "output_type": "stream",
       "stream": "stdout",
       "text": [
        "\n"
       ]
      },
      {
       "output_type": "stream",
       "stream": "stdout",
       "text": [
        "NSREDUCE: slit: 2pix-slit\n",
        "NSREDUCE: filter: HK\n",
        "\n",
        "   n input                   --> output                  sky image\n",
        " dark                    flat                    scale\n",
        "\n",
        "   1 fS20150730S0263         --> dfS20150730S0263        none                   \n",
        " teldark                 none                    1.0000 \n",
        "   2 fS20150730S0264         --> dfS20150730S0264        none                   "
       ]
      },
      {
       "output_type": "stream",
       "stream": "stdout",
       "text": [
        "\n",
        " teldark                 none                    1.0000 \n",
        "   3 fS20150730S0265         --> dfS20150730S0265        none                   "
       ]
      },
      {
       "output_type": "stream",
       "stream": "stdout",
       "text": [
        "\n",
        " teldark                 none                    1.0000 \n",
        "   4 fS20150730S0266         --> dfS20150730S0266        none                   "
       ]
      },
      {
       "output_type": "stream",
       "stream": "stdout",
       "text": [
        "\n",
        " teldark                 none                    1.0000 \n"
       ]
      },
      {
       "output_type": "stream",
       "stream": "stdout",
       "text": [
        " \n",
        "NSREDUCE exit status: good.\n",
        "------------------------------------------------------------------------------\n",
        "-------------------------------------------------------------------------------"
       ]
      },
      {
       "output_type": "stream",
       "stream": "stdout",
       "text": [
        "\n",
        "NSREDUCE -- Tue Oct 27 15:47:47 HST 2015\n",
        " \n",
        "----------------------------------------------------------------------------"
       ]
      },
      {
       "output_type": "stream",
       "stream": "stdout",
       "text": [
        "\n",
        "F2CUT -- Tue Oct 27 15:47:47 HST 2015\n",
        " \n",
        "\n",
        "Pixel scale: 0.1797"
       ]
      },
      {
       "output_type": "stream",
       "stream": "stdout",
       "text": [
        "\n",
        "Grism: HK_G5802\n",
        "Filter: HK\n",
        "\n",
        "dfS20150730S0263 --> dfS20150730S0263-80871_293"
       ]
      },
      {
       "output_type": "stream",
       "stream": "stdout",
       "text": [
        "\n",
        " [SCI,1][57:1490,200:1797] --> [SCI,1]\n",
        "dfS20150730S0264 --> dfS20150730S0264-80871_295"
       ]
      },
      {
       "output_type": "stream",
       "stream": "stdout",
       "text": [
        "\n",
        "dfS20150730S0265 --> dfS20150730S0265-80871_297"
       ]
      },
      {
       "output_type": "stream",
       "stream": "stdout",
       "text": [
        "\n",
        "dfS20150730S0266 --> dfS20150730S0266-80871_299"
       ]
      },
      {
       "output_type": "stream",
       "stream": "stdout",
       "text": [
        "\n"
       ]
      },
      {
       "output_type": "stream",
       "stream": "stdout",
       "text": [
        " \n",
        "F2CUT exit status: good.\n",
        "----------------------------------------------------------------------------\n",
        "------------------------------------------------------------------------------"
       ]
      },
      {
       "output_type": "stream",
       "stream": "stdout",
       "text": [
        "\n",
        "NSAPPWAVE -- Tue Oct 27 15:47:54 HST 2015\n",
        " \n"
       ]
      },
      {
       "output_type": "stream",
       "stream": "stdout",
       "text": [
        "NSAPPWAVE: Processing 4 extension(s) from 4 file(s).\n",
        "  Camera     Grating    Filter     Prism      FPMask     Wave   Delta Order Axis\n",
        "dfS20150730S0263-80871_293 -> dfS20150730S0263-80871_294 ( 1)"
       ]
      },
      {
       "output_type": "stream",
       "stream": "stdout",
       "text": [
        "\n",
        "  f/16_G5830   HK_G5802         HK             2pix-slit 18710.00 -7.83 INDEF 2\n"
       ]
      },
      {
       "output_type": "stream",
       "stream": "stdout",
       "text": [
        "NSAPPWAVE: cradius not from table for dfS20150730S0263-80871_293.\n",
        "           (further table messages supressed for this file).\n",
        "  extension  1: 18710.000000 -7.826000 INDEF\n",
        "dfS20150730S0264-80871_295 -> dfS20150730S0264-80871_296 ( 1)"
       ]
      },
      {
       "output_type": "stream",
       "stream": "stdout",
       "text": [
        "\n",
        "  f/16_G5830   HK_G5802         HK             2pix-slit 18710.00 -7.83 INDEF 2\n"
       ]
      },
      {
       "output_type": "stream",
       "stream": "stdout",
       "text": [
        "NSAPPWAVE: cradius not from table for dfS20150730S0264-80871_295.\n",
        "           (further table messages supressed for this file).\n",
        "  extension  1: 18710.000000 -7.826000 INDEF\n",
        "dfS20150730S0265-80871_297 -> dfS20150730S0265-80871_298 ( 1)"
       ]
      },
      {
       "output_type": "stream",
       "stream": "stdout",
       "text": [
        "\n",
        "  f/16_G5830   HK_G5802         HK             2pix-slit 18710.00 -7.83 INDEF 2\n"
       ]
      },
      {
       "output_type": "stream",
       "stream": "stdout",
       "text": [
        "NSAPPWAVE: cradius not from table for dfS20150730S0265-80871_297.\n",
        "           (further table messages supressed for this file).\n",
        "  extension  1: 18710.000000 -7.826000 INDEF\n",
        "dfS20150730S0266-80871_299 -> dfS20150730S0266-80871_300 ( 1)"
       ]
      },
      {
       "output_type": "stream",
       "stream": "stdout",
       "text": [
        "\n",
        "  f/16_G5830   HK_G5802         HK             2pix-slit 18710.00 -7.83 INDEF 2\n"
       ]
      },
      {
       "output_type": "stream",
       "stream": "stdout",
       "text": [
        "NSAPPWAVE: cradius not from table for dfS20150730S0266-80871_299.\n",
        "           (further table messages supressed for this file).\n",
        "  extension  1: 18710.000000 -7.826000 INDEF\n"
       ]
      },
      {
       "output_type": "stream",
       "stream": "stdout",
       "text": [
        "\n",
        "NSAPPWAVE Exit status good\n",
        "------------------------------------------------------------------------------\n",
        "NSREDUCE: Generating the sky frame(s) using the other nod positions\n",
        "          (separations greater than 1.5 arcsec) from neighbouring\n",
        "          exposures.\n",
        "\n",
        "------------------------------------------------------------------------------"
       ]
      },
      {
       "output_type": "stream",
       "stream": "stdout",
       "text": [
        "\n",
        "NSSKY -- Tue Oct 27 15:48:10 HST 2015\n",
        " \n",
        "WARNING - NSSKY: Will take sky from input images\n",
        "NSSKY: Obs time for dfS20150730S0263-80871_294.fits[0]:  6:08:04.3"
       ]
      },
      {
       "output_type": "stream",
       "stream": "stdout",
       "text": [
        "\n",
        "NSSKY: Obs time for dfS20150730S0264-80871_296.fits[0]:  6:08:59.8  0:00:55.5\n",
        "NSSKY: Obs time for dfS20150730S0265-80871_298.fits[0]:  6:09:51.3  0:00:51.5\n",
        "NSSKY: Obs time for dfS20150730S0266-80871_300.fits[0]:  6:10:43.8  0:00:52.5\n",
        "NSSKY: Min/max:  0:00:51.5/ 0:00:55.5\n",
        "NSSKY: Using observations within  55.5s as sky.\n",
        "NSSKY: Grouping images (please wait).\n"
       ]
      },
      {
       "output_type": "stream",
       "stream": "stdout",
       "text": [
        " \n",
        "NSSKY exit status: good.\n",
        "NSREDUCE: Processing 4 extension(s) from 4 file(s)."
       ]
      },
      {
       "output_type": "stream",
       "stream": "stdout",
       "text": [
        "\n"
       ]
      },
      {
       "output_type": "stream",
       "stream": "stdout",
       "text": [
        "NSREDUCE: slit: 2pix-slit\n",
        "NSREDUCE: filter: HK\n",
        "\n",
        "   n input                   --> output                  sky image\n",
        " dark                    flat                    scale\n",
        "\n",
        "   1 dfS20150730S0263        --> rdfS20150730S0263       dfS20150730S0264-80871_296"
       ]
      },
      {
       "output_type": "stream",
       "stream": "stdout",
       "text": [
        "\n",
        " none                    flat                    1.0000 \n",
        "   2 dfS20150730S0264        --> rdfS20150730S0264       dfS20150730S0263-80871_294"
       ]
      },
      {
       "output_type": "stream",
       "stream": "stdout",
       "text": [
        "\n",
        " none                    flat                    1.0000 \n",
        "   3 dfS20150730S0265        --> rdfS20150730S0265       dfS20150730S0266-80871_300"
       ]
      },
      {
       "output_type": "stream",
       "stream": "stdout",
       "text": [
        "\n",
        " none                    flat                    1.0000 \n",
        "   4 dfS20150730S0266        --> rdfS20150730S0266       dfS20150730S0265-80871_298"
       ]
      },
      {
       "output_type": "stream",
       "stream": "stdout",
       "text": [
        "\n",
        " none                    flat                    1.0000 \n"
       ]
      },
      {
       "output_type": "stream",
       "stream": "stdout",
       "text": [
        " \n",
        "NSREDUCE exit status: good.\n",
        "------------------------------------------------------------------------------\n"
       ]
      }
     ],
     "prompt_number": 26
    },
    {
     "cell_type": "heading",
     "level": 2,
     "metadata": {},
     "source": [
      "STEP 14:  Combine the reduced telluric datasets"
     ]
    },
    {
     "cell_type": "code",
     "collapsed": true,
     "input": [
      "iraf.imdelete('tel_comb.fits', verify='no')\n",
      "iraf.nscombine('rdf@tel.lis', output='tel_comb.fits', fl_shiftint='no', fl_cross='yes')\n",
      "\n",
      "iraf.display('tel_comb.fits[SCI,1]', 1)\n"
     ],
     "language": "python",
     "metadata": {},
     "outputs": [
      {
       "output_type": "stream",
       "stream": "stdout",
       "text": [
        "--------------------------------------------------------------------------------\n",
        "NSCOMBINE: Tue Oct 27 15:48:37 HST 2015\n",
        " "
       ]
      },
      {
       "output_type": "stream",
       "stream": "stdout",
       "text": [
        "\n",
        "Shifting and combining to single file.\n",
        "Input images = rdf@tel.lis\n",
        "rdfS20150730S0263\n"
       ]
      },
      {
       "output_type": "stream",
       "stream": "stdout",
       "text": [
        "rdfS20150730S0264\n"
       ]
      },
      {
       "output_type": "stream",
       "stream": "stdout",
       "text": [
        "rdfS20150730S0265\n"
       ]
      },
      {
       "output_type": "stream",
       "stream": "stdout",
       "text": [
        "rdfS20150730S0266\n"
       ]
      },
      {
       "output_type": "stream",
       "stream": "stdout",
       "text": [
        "Bad pixel mask = \n",
        "Offset tolerance = 0.5\n",
        "Statistics section = [*,*]\n",
        "Combine algorithm = average\n",
        "Rejection algorithm = sigclip\n",
        "Use integer pixel shifts? no\n",
        "Boundary extension  = nearest\n",
        "NSCOMBINE: Unshifted images:"
       ]
      },
      {
       "output_type": "stream",
       "stream": "stdout",
       "text": [
        "\n",
        "rdfS20150730S0263\n",
        "rdfS20150730S0266\n"
       ]
      },
      {
       "output_type": "stream",
       "stream": "stdout",
       "text": [
        "------------------------------------------------------------------------------\n",
        "NSOFFSET -- Tue Oct 27 15:48:39 HST 2015\n",
        " \n"
       ]
      },
      {
       "output_type": "stream",
       "stream": "stdout",
       "text": [
        "NSOFFSET: Calculating cross correlation (please wait).\n",
        "NSOFFSET: Integer offset for rdfS20150730S0264 is 167."
       ]
      },
      {
       "output_type": "stream",
       "stream": "stdout",
       "text": [
        "\n"
       ]
      },
      {
       "output_type": "stream",
       "stream": "stdout",
       "text": [
        "NSOFFSET: Final offset for rdfS20150730S0264 is 166.7.\n"
       ]
      },
      {
       "output_type": "stream",
       "stream": "stdout",
       "text": [
        "NSOFFSET: Shifting rdfS20150730S0264-80871_422 WCS in X by 166.7 pixels.\n"
       ]
      },
      {
       "output_type": "stream",
       "stream": "stdout",
       "text": [
        "NSOFFSET: Shifting rdfS20150730S0265-80871_423 WCS in X by 166.7 pixels.\n"
       ]
      },
      {
       "output_type": "stream",
       "stream": "stdout",
       "text": [
        " \n",
        "NSOFFSET exit status: good.\n",
        "-------------------------------------------------------------------------------\n",
        "NSCOMBINE: Images shifted by -166.666666667,0.0:"
       ]
      },
      {
       "output_type": "stream",
       "stream": "stdout",
       "text": [
        "\n",
        "rdfS20150730S0264-80871_422\n",
        "rdfS20150730S0265-80871_423\n"
       ]
      },
      {
       "output_type": "stream",
       "stream": "stdout",
       "text": [
        "10% "
       ]
      },
      {
       "output_type": "stream",
       "stream": "stdout",
       "text": [
        "20% "
       ]
      },
      {
       "output_type": "stream",
       "stream": "stdout",
       "text": [
        "30% "
       ]
      },
      {
       "output_type": "stream",
       "stream": "stdout",
       "text": [
        "40% "
       ]
      },
      {
       "output_type": "stream",
       "stream": "stdout",
       "text": [
        "50% "
       ]
      },
      {
       "output_type": "stream",
       "stream": "stdout",
       "text": [
        "60% "
       ]
      },
      {
       "output_type": "stream",
       "stream": "stdout",
       "text": [
        "70% "
       ]
      },
      {
       "output_type": "stream",
       "stream": "stdout",
       "text": [
        "80% "
       ]
      },
      {
       "output_type": "stream",
       "stream": "stdout",
       "text": [
        "90% "
       ]
      },
      {
       "output_type": "stream",
       "stream": "stdout",
       "text": [
        "100% "
       ]
      },
      {
       "output_type": "stream",
       "stream": "stdout",
       "text": [
        "- done\n"
       ]
      },
      {
       "output_type": "stream",
       "stream": "stdout",
       "text": [
        "10% "
       ]
      },
      {
       "output_type": "stream",
       "stream": "stdout",
       "text": [
        "20% "
       ]
      },
      {
       "output_type": "stream",
       "stream": "stdout",
       "text": [
        "30% "
       ]
      },
      {
       "output_type": "stream",
       "stream": "stdout",
       "text": [
        "40% "
       ]
      },
      {
       "output_type": "stream",
       "stream": "stdout",
       "text": [
        "50% "
       ]
      },
      {
       "output_type": "stream",
       "stream": "stdout",
       "text": [
        "60% "
       ]
      },
      {
       "output_type": "stream",
       "stream": "stdout",
       "text": [
        "70% "
       ]
      },
      {
       "output_type": "stream",
       "stream": "stdout",
       "text": [
        "80% "
       ]
      },
      {
       "output_type": "stream",
       "stream": "stdout",
       "text": [
        "90% "
       ]
      },
      {
       "output_type": "stream",
       "stream": "stdout",
       "text": [
        "100% "
       ]
      },
      {
       "output_type": "stream",
       "stream": "stdout",
       "text": [
        "- done\n"
       ]
      },
      {
       "output_type": "stream",
       "stream": "stdout",
       "text": [
        "WARNING - GEMCOMBINE: five or less images to combine.\n"
       ]
      },
      {
       "output_type": "stream",
       "stream": "stdout",
       "text": [
        "NSCOMBINE: Exit status good.\n",
        "--------------------------------------------------------------------------------\n",
        "z1=-27.90685 z2=28.10726\n"
       ]
      }
     ],
     "prompt_number": 27
    },
    {
     "cell_type": "heading",
     "level": 2,
     "metadata": {},
     "source": [
      "STEP 15:  Reduce the telluric arc and determine the wavelength solution"
     ]
    },
    {
     "cell_type": "markdown",
     "metadata": {},
     "source": [
      "The wavelength solution is derived from an arc taken right after the telluric observation, before anything is moved (eg. grating, slit, etc.)\n",
      "\n",
      "We will reduce the arc and calculate the wavelength solution to be applied to the telluric observations.\n",
      "\n",
      "The wavelength solution step really should be done in interactive mode as it is not uncommon to have to reject lines and/or adjust the matches with the line list."
     ]
    },
    {
     "cell_type": "heading",
     "level": 3,
     "metadata": {},
     "source": [
      "Reduce the telluric arc"
     ]
    },
    {
     "cell_type": "code",
     "collapsed": true,
     "input": [
      "# Subtract the dark from the arc images prior to cutting and flat dividing.\n",
      "\n",
      "iraf.imdelete('df@telarc.lis', verify='no')\n",
      "iraf.nsreduce('f@telarc.lis', outprefix='d', fl_cut='no', fl_process_cut='no', \\\n",
      "    fl_dark='yes', darkimage='telarcdark.fits', fl_sky='no', fl_flat='no')\n",
      "\n",
      "# Cut the arc images and divide by the normalised flat field image.\n",
      "\n",
      "iraf.imdelete('rdf@telarc.lis', verify='no')\n",
      "iraf.nsreduce('df@telarc.lis', fl_cut='yes', fl_dark='no', fl_sky='no', fl_flat='yes', \\\n",
      "    flatimage='flat.fits')\n",
      "\n",
      "# Combine the arc files (if there is more than one arc file)\n",
      "\n",
      "iraf.imdelete('telarc.fits', verify='no')\n",
      "iraf.delete('rdftelarc.lis', verify='no')\n",
      "iraf.sections('rdf@telarc.lis//.fits', Stdout='rdftelarc.lis')\n",
      "\n",
      "count = 0\n",
      "file = open('telarc.lis', 'r')\n",
      "for line in file:\n",
      "\tcount += 1\n",
      "\n",
      "if count == 1:\n",
      "\tiraf.copy ('@rdftelarc.lis', 'telarc.fits')\n",
      "else:\n",
      "\tiraf.gemcombine ('@rdftelarc.lis', 'telarc.fits', fl_vardq='yes')\n",
      "\n",
      "file.close()\n",
      "print 'Done'"
     ],
     "language": "python",
     "metadata": {},
     "outputs": [
      {
       "output_type": "stream",
       "stream": "stdout",
       "text": [
        "-------------------------------------------------------------------------------\n",
        "NSREDUCE -- Tue Oct 27 16:30:26 HST 2015\n",
        " \n",
        "NSREDUCE: Processing 1 extension(s) from 1 file(s)."
       ]
      },
      {
       "output_type": "stream",
       "stream": "stdout",
       "text": [
        "\n"
       ]
      },
      {
       "output_type": "stream",
       "stream": "stdout",
       "text": [
        "NSREDUCE: slit: 2pix-slit\n",
        "NSREDUCE: filter: HK\n",
        "\n",
        "   n input                   --> output                  sky image\n",
        " dark                    flat                    scale\n",
        "\n",
        "   1 fS20150730S0267         --> dfS20150730S0267        none                   \n",
        " telarcdark              none                    1.0000 \n"
       ]
      },
      {
       "output_type": "stream",
       "stream": "stdout",
       "text": [
        " \n",
        "NSREDUCE exit status: good.\n",
        "------------------------------------------------------------------------------\n",
        "-------------------------------------------------------------------------------"
       ]
      },
      {
       "output_type": "stream",
       "stream": "stdout",
       "text": [
        "\n",
        "NSREDUCE -- Tue Oct 27 16:30:31 HST 2015\n",
        " \n",
        "----------------------------------------------------------------------------"
       ]
      },
      {
       "output_type": "stream",
       "stream": "stdout",
       "text": [
        "\n",
        "F2CUT -- Tue Oct 27 16:30:31 HST 2015\n",
        " \n",
        "\n",
        "Pixel scale: 0.1797"
       ]
      },
      {
       "output_type": "stream",
       "stream": "stdout",
       "text": [
        "\n",
        "Grism: HK_G5802\n",
        "Filter: HK\n",
        "\n",
        "dfS20150730S0267 --> dfS20150730S0267-80871_547"
       ]
      },
      {
       "output_type": "stream",
       "stream": "stdout",
       "text": [
        "\n",
        " [SCI,1][57:1490,200:1797] --> [SCI,1]"
       ]
      },
      {
       "output_type": "stream",
       "stream": "stdout",
       "text": [
        "\n"
       ]
      },
      {
       "output_type": "stream",
       "stream": "stdout",
       "text": [
        " \n",
        "F2CUT exit status: good.\n",
        "----------------------------------------------------------------------------\n",
        "------------------------------------------------------------------------------\n",
        "NSAPPWAVE -- Tue Oct 27 16:30:35 HST 2015"
       ]
      },
      {
       "output_type": "stream",
       "stream": "stdout",
       "text": [
        "\n",
        " \n"
       ]
      },
      {
       "output_type": "stream",
       "stream": "stdout",
       "text": [
        "NSAPPWAVE: Processing 1 extension(s) from 1 file(s).\n",
        "  Camera     Grating    Filter     Prism      FPMask     Wave   Delta Order Axis\n",
        "dfS20150730S0267-80871_547 -> dfS20150730S0267-80871_548 ( 1)"
       ]
      },
      {
       "output_type": "stream",
       "stream": "stdout",
       "text": [
        "\n",
        "  f/16_G5830   HK_G5802         HK             2pix-slit 18710.00 -7.83 INDEF 2"
       ]
      },
      {
       "output_type": "stream",
       "stream": "stdout",
       "text": [
        "\n"
       ]
      },
      {
       "output_type": "stream",
       "stream": "stdout",
       "text": [
        "NSAPPWAVE: cradius not from table for dfS20150730S0267-80871_547.\n",
        "           (further table messages supressed for this file).\n",
        "  extension  1: 18710.000000 -7.826000 INDEF\n"
       ]
      },
      {
       "output_type": "stream",
       "stream": "stdout",
       "text": [
        "\n",
        "NSAPPWAVE Exit status good\n",
        "------------------------------------------------------------------------------\n",
        "NSREDUCE: Processing 1 extension(s) from 1 file(s)."
       ]
      },
      {
       "output_type": "stream",
       "stream": "stdout",
       "text": [
        "\n"
       ]
      },
      {
       "output_type": "stream",
       "stream": "stdout",
       "text": [
        "NSREDUCE: slit: 2pix-slit\n",
        "NSREDUCE: filter: HK\n",
        "\n",
        "   n input                   --> output                  sky image\n",
        " dark                    flat                    scale\n",
        "\n",
        "   1 dfS20150730S0267        --> rdfS20150730S0267       none                   \n",
        " none                    flat                    1.0000 \n"
       ]
      },
      {
       "output_type": "stream",
       "stream": "stdout",
       "text": [
        " \n",
        "NSREDUCE exit status: good.\n",
        "------------------------------------------------------------------------------\n"
       ]
      },
      {
       "output_type": "stream",
       "stream": "stderr",
       "text": [
        "Warning: Cannot delete file (rdftelarc.lis)\n"
       ]
      },
      {
       "output_type": "stream",
       "stream": "stdout",
       "text": [
        "Done\n"
       ]
      }
     ],
     "prompt_number": 28
    },
    {
     "cell_type": "heading",
     "level": 3,
     "metadata": {},
     "source": [
      "Determine the wavelength solution from the telluric arc"
     ]
    },
    {
     "cell_type": "markdown",
     "metadata": {},
     "source": [
      "Normally, the lines will be identified automatically and this step, while interactive is used to delete a couple outliers and visually confirm that the fit is good.\n",
      "\n",
      "If, for some reason (it can happen), the lines do not get identified automatically and they need to be marked manually, you will need to run the two commands below in the PyRAF sessions since you will need full interactive support.  But most of the time, running this in the notebook works okay."
     ]
    },
    {
     "cell_type": "code",
     "collapsed": true,
     "input": [
      "iraf.imdelete ('wtelarc.fits', verify='no')\n",
      "iraf.nswavelength ('telarc.fits', fl_inter='yes', order=8)\n",
      "\n",
      "# Be very careful when fitting the turnover around 21000.  "
     ],
     "language": "python",
     "metadata": {},
     "outputs": [
      {
       "output_type": "stream",
       "stream": "stdout",
       "text": [
        "-------------------------------------------------------------------------------\n",
        "NSWAVELENGTH -- Tue Oct 27 16:34:20 HST 2015\n",
        "\n",
        "NSWAVELENGTH: LS data detected. Calling nswhelper to process data."
       ]
      },
      {
       "output_type": "stream",
       "stream": "stdout",
       "text": [
        "\n",
        "-------------------------------------------------------------------------------"
       ]
      },
      {
       "output_type": "stream",
       "stream": "stdout",
       "text": [
        "\n",
        "NSWHELPER -- Tue Oct 27 16:34:20 HST 2015\n",
        "\n"
       ]
      },
      {
       "output_type": "stream",
       "stream": "stdout",
       "text": [
        "Using input files:\n",
        "telarc\n"
       ]
      },
      {
       "output_type": "stream",
       "stream": "stdout",
       "text": [
        "Using output files:\n",
        "wtelarc\n"
       ]
      },
      {
       "output_type": "stream",
       "stream": "stdout",
       "text": [
        "Lamp image: telarc[SCI,1]\n",
        "\n"
       ]
      },
      {
       "output_type": "stream",
       "stream": "stdout",
       "text": [
        "AUTOIDENTIFY: NOAO/IRAF V2.16 klabrie@libellule.local Tue 16:34:21 27-Oct-2015\n"
       ]
      },
      {
       "output_type": "stream",
       "stream": "stdout",
       "text": [
        "  Spectrum                 # Found   Midpoint Dispersion        RMS\n"
       ]
      },
      {
       "output_type": "stream",
       "stream": "stdout",
       "text": [
        "  wtelarc[SCI,1][717,*]         47    18964.7      -7.52       1.99\n"
       ]
      },
      {
       "output_type": "stream",
       "stream": "stdout",
       "text": [
        "wtelarc[SCI,1][717,*]: Examine identifications interactively?"
       ]
      },
      {
       "output_type": "stream",
       "stream": "stdout",
       "text": [
        "   1588.86  13011.248    13011.8 200 NOAO\n"
       ]
      },
      {
       "output_type": "stream",
       "stream": "stdout",
       "text": [
        "    247.20  23136.385   23139.51 412   KH\n"
       ]
      },
      {
       "output_type": "stream",
       "stream": "stdout",
       "text": [
        "window:"
       ]
      },
      {
       "output_type": "stream",
       "stream": "stdout",
       "text": [
        "again:"
       ]
      },
      {
       "output_type": "stream",
       "stream": "stdout",
       "text": [
        "    247.20  23136.385   23139.51 412   KH\n"
       ]
      },
      {
       "output_type": "stream",
       "stream": "stdout",
       "text": [
        "   1588.86  13011.248    13011.8 200 NOAO\n"
       ]
      },
      {
       "output_type": "stream",
       "stream": "stdout",
       "text": [
        "   1560.65  13223.428    13217.6 200 NOAO\n"
       ]
      },
      {
       "output_type": "stream",
       "stream": "stdout",
       "text": [
        "   1541.34  13369.178    13370.8 B NOAO\n"
       ]
      },
      {
       "output_type": "stream",
       "stream": "stdout",
       "text": [
        "window:"
       ]
      },
      {
       "output_type": "stream",
       "stream": "stdout",
       "text": [
        "   1541.34  13369.178    13370.8 B NOAO\n"
       ]
      },
      {
       "output_type": "stream",
       "stream": "stdout",
       "text": [
        "window:"
       ]
      },
      {
       "output_type": "stream",
       "stream": "stdout",
       "text": [
        "again:"
       ]
      },
      {
       "output_type": "stream",
       "stream": "stdout",
       "text": [
        "   1541.34  13369.178    13370.8 B NOAO\n"
       ]
      },
      {
       "output_type": "stream",
       "stream": "stdout",
       "text": [
        "   1541.34  13368.291    13370.8 B NOAO\n"
       ]
      },
      {
       "output_type": "stream",
       "stream": "stdout",
       "text": [
        "    153.51  23866.423 (  23851.54 1769   KH): "
       ]
      },
      {
       "output_type": "stream",
       "stream": "stdout",
       "text": [
        "    153.51  23866.423   23851.54 1769   KH\n"
       ]
      },
      {
       "output_type": "stream",
       "stream": "stdout",
       "text": [
        "    247.20  23139.611   23139.51 412   KH\n"
       ]
      },
      {
       "output_type": "stream",
       "stream": "stdout",
       "text": [
        "window:"
       ]
      },
      {
       "output_type": "stream",
       "stream": "stdout",
       "text": [
        "    247.20  23139.611   23139.51 412   KH\n"
       ]
      },
      {
       "output_type": "stream",
       "stream": "stdout",
       "text": [
        "window:"
       ]
      },
      {
       "output_type": "stream",
       "stream": "stdout",
       "text": [
        "again:"
       ]
      },
      {
       "output_type": "stream",
       "stream": "stdout",
       "text": [
        "    247.20  23139.611   23139.51 412   KH\n"
       ]
      },
      {
       "output_type": "stream",
       "stream": "stdout",
       "text": [
        "    247.18  23139.789 (  23139.51 412   KH): "
       ]
      },
      {
       "output_type": "stream",
       "stream": "stdout",
       "text": [
        "    247.18  23139.789   23139.51 412   KH\n"
       ]
      },
      {
       "output_type": "stream",
       "stream": "stdout",
       "text": [
        "window:"
       ]
      },
      {
       "output_type": "stream",
       "stream": "stdout",
       "text": [
        "    247.18   23139.56   23139.51 412   KH\n"
       ]
      },
      {
       "output_type": "stream",
       "stream": "stdout",
       "text": [
        "window:"
       ]
      },
      {
       "output_type": "stream",
       "stream": "stdout",
       "text": [
        "    247.18   23139.56   23139.51 412   KH\n"
       ]
      },
      {
       "output_type": "stream",
       "stream": "stdout",
       "text": [
        "window:"
       ]
      },
      {
       "output_type": "stream",
       "stream": "stdout",
       "text": [
        "again:"
       ]
      },
      {
       "output_type": "stream",
       "stream": "stdout",
       "text": [
        "    247.18   23139.56   23139.51 412   KH\n"
       ]
      },
      {
       "output_type": "stream",
       "stream": "stdout",
       "text": [
        "   1541.33  13369.929 (   13370.8 1000 NOAO): "
       ]
      },
      {
       "output_type": "stream",
       "stream": "stdout",
       "text": [
        "   1541.33  13369.929    13370.8 1000 NOAO\n"
       ]
      },
      {
       "output_type": "stream",
       "stream": "stdout",
       "text": [
        "   1523.15  13507.824    13507.9 1000 NOAO\n"
       ]
      },
      {
       "output_type": "stream",
       "stream": "stdout",
       "text": [
        "   1523.15  13507.812 (   13507.9 1000 NOAO): "
       ]
      },
      {
       "output_type": "stream",
       "stream": "stdout",
       "text": [
        "   1523.15  13507.812    13507.9 1000 NOAO\n"
       ]
      },
      {
       "output_type": "stream",
       "stream": "stdout",
       "text": [
        "   1523.15  13507.812    13507.9 \n"
       ]
      },
      {
       "output_type": "stream",
       "stream": "stdout",
       "text": [
        "   1541.33  13369.941 (   13370.8 1000 NOAO): "
       ]
      },
      {
       "output_type": "stream",
       "stream": "stdout",
       "text": [
        "   1541.33  13369.941    13370.8 1000 NOAO\n"
       ]
      },
      {
       "output_type": "stream",
       "stream": "stdout",
       "text": [
        "   1541.33  13370.495    13370.8 1000 NOAO\n"
       ]
      },
      {
       "output_type": "stream",
       "stream": "stdout",
       "text": [
        "Center not found: check cursor position\u0007"
       ]
      },
      {
       "output_type": "stream",
       "stream": "stdout",
       "text": [
        "Center not found: check cursor position\u0007"
       ]
      },
      {
       "output_type": "stream",
       "stream": "stdout",
       "text": [
        "   1541.33  13370.495    13370.8 1000 NOAO\n"
       ]
      },
      {
       "output_type": "stream",
       "stream": "stdout",
       "text": [
        "window:"
       ]
      },
      {
       "output_type": "stream",
       "stream": "stdout",
       "text": [
        "   1541.33  13370.495    13370.8 1000 NOAO\n"
       ]
      },
      {
       "output_type": "stream",
       "stream": "stdout",
       "text": [
        "window:"
       ]
      },
      {
       "output_type": "stream",
       "stream": "stdout",
       "text": [
        "again:"
       ]
      },
      {
       "output_type": "stream",
       "stream": "stdout",
       "text": [
        "   1541.33  13370.495    13370.8 1000 NOAO\n"
       ]
      },
      {
       "output_type": "stream",
       "stream": "stdout",
       "text": [
        "    153.51  23857.629 (  23851.54 1769   KH): "
       ]
      },
      {
       "output_type": "stream",
       "stream": "stdout",
       "text": [
        "    153.51  23857.629   23851.54 1769   KH\n"
       ]
      },
      {
       "output_type": "stream",
       "stream": "stdout",
       "text": [
        "    153.51  23851.634   23851.54 1769   KH\n"
       ]
      },
      {
       "output_type": "stream",
       "stream": "stdout",
       "text": [
        "    137.66   23972.54 (  23973.05 766   KH): "
       ]
      },
      {
       "output_type": "stream",
       "stream": "stdout",
       "text": [
        "    137.66   23972.54   23973.05 766   KH\n"
       ]
      },
      {
       "output_type": "stream",
       "stream": "stdout",
       "text": [
        "    137.66  23972.877   23973.05 766   KH\n"
       ]
      },
      {
       "output_type": "stream",
       "stream": "stdout",
       "text": [
        "window:"
       ]
      },
      {
       "output_type": "stream",
       "stream": "stdout",
       "text": [
        "    137.66  23972.877   23973.05 766   KH\n"
       ]
      },
      {
       "output_type": "stream",
       "stream": "stdout",
       "text": [
        "    137.66  23972.816   23973.05 766   KH\n"
       ]
      },
      {
       "output_type": "stream",
       "stream": "stdout",
       "text": [
        "\n",
        "REIDENTIFY: NOAO/IRAF V2.16 klabrie@libellule.local Tue 16:37:50 27-Oct-2015\n"
       ]
      },
      {
       "output_type": "stream",
       "stream": "stdout",
       "text": [
        "  Reference image = wtelarc[SCI,1], New image = wtelarc[SCI,1], Refit = yes\n",
        "          Image Data    Found     Fit Pix Shift  User Shift  Z Shift      RMS\n"
       ]
      },
      {
       "output_type": "stream",
       "stream": "stdout",
       "text": [
        "wtelarc[SCI,1][707,*]  37/37   36/37     0.0419      -0.317  -1.7E-5    0.465\n"
       ]
      },
      {
       "output_type": "stream",
       "stream": "stdout",
       "text": [
        "wtelarc[SCI,1][707,*]  37/37   36/37     0.0419      -0.317  -1.7E-5    0.465\n"
       ]
      },
      {
       "output_type": "stream",
       "stream": "stdout",
       "text": [
        "wtelarc[SCI,1][697,*]  37/37   36/37     0.0839      -0.634  -3.4E-5     0.47\n"
       ]
      },
      {
       "output_type": "stream",
       "stream": "stdout",
       "text": [
        "wtelarc[SCI,1][687,*]  37/37   35/37      0.134       -1.01  -5.4E-5     0.41\n"
       ]
      },
      {
       "output_type": "stream",
       "stream": "stdout",
       "text": [
        "wtelarc[SCI,1][677,*]  37/37   36/37      0.172        -1.3  -7.0E-5    0.476\n"
       ]
      },
      {
       "output_type": "stream",
       "stream": "stdout",
       "text": [
        "wtelarc[SCI,1][667,*]  37/37   36/37      0.218       -1.65  -9.0E-5    0.556\n"
       ]
      },
      {
       "output_type": "stream",
       "stream": "stdout",
       "text": [
        "wtelarc[SCI,1][657,*]  37/37   37/37       0.26       -1.97  -1.1E-4    0.597\n"
       ]
      },
      {
       "output_type": "stream",
       "stream": "stdout",
       "text": [
        "wtelarc[SCI,1][647,*]  37/37   37/37      0.324       -2.45  -1.3E-4    0.735\n"
       ]
      },
      {
       "output_type": "stream",
       "stream": "stdout",
       "text": [
        "wtelarc[SCI,1][637,*]  37/37   37/37      0.348       -2.63  -1.4E-4    0.711\n"
       ]
      },
      {
       "output_type": "stream",
       "stream": "stdout",
       "text": [
        "wtelarc[SCI,1][627,*]  37/37   37/37      0.388       -2.93  -1.6E-4    0.651\n"
       ]
      },
      {
       "output_type": "stream",
       "stream": "stdout",
       "text": [
        "wtelarc[SCI,1][617,*]  37/37   37/37      0.418       -3.16  -1.7E-4    0.609\n"
       ]
      },
      {
       "output_type": "stream",
       "stream": "stdout",
       "text": [
        "wtelarc[SCI,1][607,*]  37/37   37/37      0.457       -3.45  -1.9E-4    0.587\n"
       ]
      },
      {
       "output_type": "stream",
       "stream": "stdout",
       "text": [
        "wtelarc[SCI,1][597,*]  37/37   37/37      0.495       -3.74  -2.0E-4    0.577\n"
       ]
      },
      {
       "output_type": "stream",
       "stream": "stdout",
       "text": [
        "wtelarc[SCI,1][587,*]  37/37   37/37      0.528       -3.99  -2.1E-4    0.617\n"
       ]
      },
      {
       "output_type": "stream",
       "stream": "stdout",
       "text": [
        "wtelarc[SCI,1][577,*]  37/37   37/37      0.563       -4.25  -2.3E-4    0.594\n"
       ]
      },
      {
       "output_type": "stream",
       "stream": "stdout",
       "text": [
        "wtelarc[SCI,1][567,*]  37/37   37/37      0.601       -4.54  -2.4E-4    0.642\n"
       ]
      },
      {
       "output_type": "stream",
       "stream": "stdout",
       "text": [
        "wtelarc[SCI,1][557,*]  37/37   37/37      0.654       -4.94  -2.6E-4    0.677\n"
       ]
      },
      {
       "output_type": "stream",
       "stream": "stdout",
       "text": [
        "wtelarc[SCI,1][547,*]  37/37   37/37      0.707       -5.34  -2.9E-4    0.779\n"
       ]
      },
      {
       "output_type": "stream",
       "stream": "stdout",
       "text": [
        "wtelarc[SCI,1][537,*]  37/37   37/37      0.754        -5.7  -3.1E-4     0.73\n"
       ]
      },
      {
       "output_type": "stream",
       "stream": "stdout",
       "text": [
        "wtelarc[SCI,1][527,*]  37/37   37/37      0.804       -6.08  -3.2E-4    0.799\n"
       ]
      },
      {
       "output_type": "stream",
       "stream": "stdout",
       "text": [
        "wtelarc[SCI,1][517,*]  37/37   36/37      0.835       -6.31  -3.4E-4    0.601\n"
       ]
      },
      {
       "output_type": "stream",
       "stream": "stdout",
       "text": [
        "wtelarc[SCI,1][507,*]  37/37   35/37       0.88       -6.66  -3.5E-4     0.49\n"
       ]
      },
      {
       "output_type": "stream",
       "stream": "stdout",
       "text": [
        "wtelarc[SCI,1][497,*]  37/37   36/37      0.929       -7.03  -3.7E-4    0.554\n"
       ]
      },
      {
       "output_type": "stream",
       "stream": "stdout",
       "text": [
        "wtelarc[SCI,1][487,*]  36/37   36/36         1.       -7.57  -4.0E-4    0.622\n"
       ]
      },
      {
       "output_type": "stream",
       "stream": "stdout",
       "text": [
        "wtelarc[SCI,1][477,*]  37/37   36/37       1.06       -8.04  -4.3E-4    0.681\n"
       ]
      },
      {
       "output_type": "stream",
       "stream": "stdout",
       "text": [
        "wtelarc[SCI,1][467,*]  37/37   36/37       1.12       -8.44  -4.5E-4      0.7\n"
       ]
      },
      {
       "output_type": "stream",
       "stream": "stdout",
       "text": [
        "wtelarc[SCI,1][457,*]  37/37   36/37       1.16       -8.79  -4.7E-4    0.665\n"
       ]
      },
      {
       "output_type": "stream",
       "stream": "stdout",
       "text": [
        "wtelarc[SCI,1][447,*]  37/37   36/37       1.21       -9.12  -4.8E-4    0.584\n"
       ]
      },
      {
       "output_type": "stream",
       "stream": "stdout",
       "text": [
        "wtelarc[SCI,1][437,*]  37/37   36/37       1.25       -9.43  -5.0E-4    0.611\n"
       ]
      },
      {
       "output_type": "stream",
       "stream": "stdout",
       "text": [
        "wtelarc[SCI,1][427,*]  37/37   37/37       1.29       -9.77  -5.2E-4     0.74\n"
       ]
      },
      {
       "output_type": "stream",
       "stream": "stdout",
       "text": [
        "wtelarc[SCI,1][417,*]  37/37   37/37       1.34       -10.2  -5.4E-4    0.676\n"
       ]
      },
      {
       "output_type": "stream",
       "stream": "stdout",
       "text": [
        "wtelarc[SCI,1][407,*]  37/37   37/37        1.4       -10.6  -5.6E-4    0.694\n"
       ]
      },
      {
       "output_type": "stream",
       "stream": "stdout",
       "text": [
        "wtelarc[SCI,1][397,*]  37/37   37/37       1.45        -11.  -5.8E-4    0.674\n"
       ]
      },
      {
       "output_type": "stream",
       "stream": "stdout",
       "text": [
        "wtelarc[SCI,1][387,*]  37/37   37/37       1.51       -11.4  -6.0E-4    0.696\n"
       ]
      },
      {
       "output_type": "stream",
       "stream": "stdout",
       "text": [
        "wtelarc[SCI,1][377,*]  37/37   37/37       1.56       -11.8  -6.2E-4    0.609\n"
       ]
      },
      {
       "output_type": "stream",
       "stream": "stdout",
       "text": [
        "wtelarc[SCI,1][367,*]  37/37   37/37       1.61       -12.2  -6.4E-4    0.573\n"
       ]
      },
      {
       "output_type": "stream",
       "stream": "stdout",
       "text": [
        "wtelarc[SCI,1][357,*]  36/37   36/36       1.64       -12.4  -6.6E-4    0.624\n"
       ]
      },
      {
       "output_type": "stream",
       "stream": "stdout",
       "text": [
        "wtelarc[SCI,1][347,*]  37/37   37/37       1.73       -13.1  -6.9E-4    0.634\n"
       ]
      },
      {
       "output_type": "stream",
       "stream": "stdout",
       "text": [
        "wtelarc[SCI,1][337,*]  37/37   37/37       1.79       -13.6  -7.2E-4    0.696\n"
       ]
      },
      {
       "output_type": "stream",
       "stream": "stdout",
       "text": [
        "wtelarc[SCI,1][327,*]  37/37   36/37       1.86        -14.  -7.4E-4    0.649\n"
       ]
      },
      {
       "output_type": "stream",
       "stream": "stdout",
       "text": [
        "wtelarc[SCI,1][317,*]  36/37   35/36       1.75       -13.2  -7.1E-4     0.75\n"
       ]
      },
      {
       "output_type": "stream",
       "stream": "stdout",
       "text": [
        "wtelarc[SCI,1][307,*]  37/37   37/37       1.99        -15.  -7.9E-4    0.705\n"
       ]
      },
      {
       "output_type": "stream",
       "stream": "stdout",
       "text": [
        "wtelarc[SCI,1][297,*]  37/37   37/37       2.06       -15.6  -8.2E-4    0.684\n"
       ]
      },
      {
       "output_type": "stream",
       "stream": "stdout",
       "text": [
        "wtelarc[SCI,1][287,*]  37/37   37/37       2.13       -16.1  -8.5E-4    0.673\n"
       ]
      },
      {
       "output_type": "stream",
       "stream": "stdout",
       "text": [
        "wtelarc[SCI,1][277,*]  37/37   37/37       2.22       -16.8  -8.9E-4    0.653\n"
       ]
      },
      {
       "output_type": "stream",
       "stream": "stdout",
       "text": [
        "wtelarc[SCI,1][267,*]  37/37   35/37       2.27       -17.2  -9.1E-4    0.548\n"
       ]
      },
      {
       "output_type": "stream",
       "stream": "stdout",
       "text": [
        "wtelarc[SCI,1][257,*]  37/37   36/37       2.34       -17.7  -9.3E-4    0.627\n"
       ]
      },
      {
       "output_type": "stream",
       "stream": "stdout",
       "text": [
        "wtelarc[SCI,1][247,*]  37/37   36/37        2.4       -18.2  -9.6E-4    0.643\n"
       ]
      },
      {
       "output_type": "stream",
       "stream": "stdout",
       "text": [
        "wtelarc[SCI,1][237,*]  37/37   37/37       2.48       -18.8  -9.9E-4    0.765\n"
       ]
      },
      {
       "output_type": "stream",
       "stream": "stdout",
       "text": [
        "wtelarc[SCI,1][227,*]  37/37   36/37       2.55       -19.3   -0.001    0.693\n"
       ]
      },
      {
       "output_type": "stream",
       "stream": "stdout",
       "text": [
        "wtelarc[SCI,1][217,*]  37/37   37/37       2.64       -19.9  -0.0011    0.722\n"
       ]
      },
      {
       "output_type": "stream",
       "stream": "stdout",
       "text": [
        "wtelarc[SCI,1][207,*]  37/37   36/37        2.7       -20.4  -0.0011    0.525\n"
       ]
      },
      {
       "output_type": "stream",
       "stream": "stdout",
       "text": [
        "wtelarc[SCI,1][197,*]  37/37   36/37       2.77       -20.9  -0.0011    0.538\n"
       ]
      },
      {
       "output_type": "stream",
       "stream": "stdout",
       "text": [
        "wtelarc[SCI,1][187,*]  37/37   36/37       2.86       -21.6  -0.0011     0.51\n"
       ]
      },
      {
       "output_type": "stream",
       "stream": "stdout",
       "text": [
        "wtelarc[SCI,1][177,*]  36/37   34/36       2.76       -20.9  -0.0011    0.503\n"
       ]
      },
      {
       "output_type": "stream",
       "stream": "stdout",
       "text": [
        "wtelarc[SCI,1][167,*]  36/37   35/36       2.81       -21.3  -0.0011    0.857\n"
       ]
      },
      {
       "output_type": "stream",
       "stream": "stdout",
       "text": [
        "wtelarc[SCI,1][157,*]  36/37   34/36       2.85       -21.5  -0.0011    0.542\n"
       ]
      },
      {
       "output_type": "stream",
       "stream": "stdout",
       "text": [
        "wtelarc[SCI,1][147,*]  36/37   35/36       2.88       -21.8  -0.0012    0.753\n"
       ]
      },
      {
       "output_type": "stream",
       "stream": "stdout",
       "text": [
        "wtelarc[SCI,1][137,*]  36/37   34/36       2.92       -22.1  -0.0012    0.649\n"
       ]
      },
      {
       "output_type": "stream",
       "stream": "stdout",
       "text": [
        "wtelarc[SCI,1][127,*]  36/37   35/36         3.       -22.7  -0.0012    0.745\n"
       ]
      },
      {
       "output_type": "stream",
       "stream": "stdout",
       "text": [
        "wtelarc[SCI,1][117,*]  36/37   35/36       3.12       -23.6  -0.0013    0.707\n"
       ]
      },
      {
       "output_type": "stream",
       "stream": "stdout",
       "text": [
        "wtelarc[SCI,1][107,*]  36/37   35/36       3.22       -24.3  -0.0013    0.625\n"
       ]
      },
      {
       "output_type": "stream",
       "stream": "stdout",
       "text": [
        "wtelarc[SCI,1][97,*]   36/37   35/36       3.31        -25.  -0.0013    0.719\n"
       ]
      },
      {
       "output_type": "stream",
       "stream": "stdout",
       "text": [
        "wtelarc[SCI,1][87,*]   36/37   34/36       3.36       -25.4  -0.0013     0.61\n"
       ]
      },
      {
       "output_type": "stream",
       "stream": "stdout",
       "text": [
        "wtelarc[SCI,1][77,*]   36/37   35/36       3.42       -25.9  -0.0014    0.798\n"
       ]
      },
      {
       "output_type": "stream",
       "stream": "stdout",
       "text": [
        "wtelarc[SCI,1][67,*]   36/37   35/36        3.5       -26.5  -0.0014    0.688\n"
       ]
      },
      {
       "output_type": "stream",
       "stream": "stdout",
       "text": [
        "wtelarc[SCI,1][57,*]   36/37   35/36       3.59       -27.2  -0.0014    0.687\n"
       ]
      },
      {
       "output_type": "stream",
       "stream": "stdout",
       "text": [
        "wtelarc[SCI,1][47,*]   36/37   35/36       3.69       -27.9  -0.0015      0.6\n"
       ]
      },
      {
       "output_type": "stream",
       "stream": "stdout",
       "text": [
        "wtelarc[SCI,1][37,*]   35/37   34/35       3.65       -27.6  -0.0015    0.769\n"
       ]
      },
      {
       "output_type": "stream",
       "stream": "stdout",
       "text": [
        "wtelarc[SCI,1][27,*]   34/37   32/34       3.58        -27.  -0.0015    0.717\n"
       ]
      },
      {
       "output_type": "stream",
       "stream": "stdout",
       "text": [
        "wtelarc[SCI,1][17,*]   34/37   31/34       3.64       -27.5  -0.0015     1.46\n"
       ]
      },
      {
       "output_type": "stream",
       "stream": "stdout",
       "text": [
        "wtelarc[SCI,1][7,*]    34/37   32/34       3.71        -28.  -0.0015     1.81\n"
       ]
      },
      {
       "output_type": "stream",
       "stream": "stdout",
       "text": [
        "wtelarc[SCI,1][727,*]  37/37   36/37    -0.0357       0.269  1.46E-5    0.541\n"
       ]
      },
      {
       "output_type": "stream",
       "stream": "stdout",
       "text": [
        "wtelarc[SCI,1][737,*]  36/37   36/36    -0.0791       0.598  3.20E-5    0.584\n"
       ]
      },
      {
       "output_type": "stream",
       "stream": "stdout",
       "text": [
        "wtelarc[SCI,1][747,*]  37/37   36/37     -0.133          1.  5.45E-5    0.609\n"
       ]
      },
      {
       "output_type": "stream",
       "stream": "stdout",
       "text": [
        "wtelarc[SCI,1][757,*]  37/37   37/37      -0.16        1.21  6.47E-5    0.737\n"
       ]
      },
      {
       "output_type": "stream",
       "stream": "stdout",
       "text": [
        "wtelarc[SCI,1][767,*]  37/37   36/37     -0.197        1.49  8.03E-5    0.698\n"
       ]
      },
      {
       "output_type": "stream",
       "stream": "stdout",
       "text": [
        "wtelarc[SCI,1][777,*]  37/37   37/37     -0.231        1.75  9.45E-5    0.834\n"
       ]
      },
      {
       "output_type": "stream",
       "stream": "stdout",
       "text": [
        "wtelarc[SCI,1][787,*]  37/37   37/37     -0.272        2.05  1.11E-4    0.852\n"
       ]
      },
      {
       "output_type": "stream",
       "stream": "stdout",
       "text": [
        "wtelarc[SCI,1][797,*]  37/37   37/37     -0.303        2.29  1.25E-4    0.782\n"
       ]
      },
      {
       "output_type": "stream",
       "stream": "stdout",
       "text": [
        "wtelarc[SCI,1][807,*]  37/37   37/37      -0.34        2.57  1.40E-4    0.714\n"
       ]
      },
      {
       "output_type": "stream",
       "stream": "stdout",
       "text": [
        "wtelarc[SCI,1][817,*]  37/37   37/37     -0.374        2.83  1.55E-4    0.639\n"
       ]
      },
      {
       "output_type": "stream",
       "stream": "stdout",
       "text": [
        "wtelarc[SCI,1][827,*]  37/37   37/37     -0.412        3.11  1.72E-4    0.702\n"
       ]
      },
      {
       "output_type": "stream",
       "stream": "stdout",
       "text": [
        "wtelarc[SCI,1][837,*]  37/37   37/37     -0.443        3.35  1.84E-4    0.623\n"
       ]
      },
      {
       "output_type": "stream",
       "stream": "stdout",
       "text": [
        "wtelarc[SCI,1][847,*]  37/37   37/37     -0.475        3.59  1.98E-4    0.642\n"
       ]
      },
      {
       "output_type": "stream",
       "stream": "stdout",
       "text": [
        "wtelarc[SCI,1][857,*]  37/37   33/37     -0.494        3.74  2.06E-4    0.241\n"
       ]
      },
      {
       "output_type": "stream",
       "stream": "stdout",
       "text": [
        "wtelarc[SCI,1][867,*]  37/37   37/37     -0.528        3.99  2.20E-4    0.588\n"
       ]
      },
      {
       "output_type": "stream",
       "stream": "stdout",
       "text": [
        "wtelarc[SCI,1][877,*]  37/37   35/37     -0.572        4.32  2.40E-4    0.484\n"
       ]
      },
      {
       "output_type": "stream",
       "stream": "stdout",
       "text": [
        "wtelarc[SCI,1][887,*]  37/37   37/37     -0.588        4.44  2.46E-4    0.594\n"
       ]
      },
      {
       "output_type": "stream",
       "stream": "stdout",
       "text": [
        "wtelarc[SCI,1][897,*]  37/37   37/37     -0.619        4.68  2.58E-4    0.664\n"
       ]
      },
      {
       "output_type": "stream",
       "stream": "stdout",
       "text": [
        "wtelarc[SCI,1][907,*]  37/37   37/37     -0.658        4.97  2.75E-4    0.586\n"
       ]
      },
      {
       "output_type": "stream",
       "stream": "stdout",
       "text": [
        "wtelarc[SCI,1][917,*]  37/37   37/37     -0.687        5.19  2.88E-4    0.593\n"
       ]
      },
      {
       "output_type": "stream",
       "stream": "stdout",
       "text": [
        "wtelarc[SCI,1][927,*]  37/37   37/37     -0.714        5.39  2.99E-4    0.609\n"
       ]
      },
      {
       "output_type": "stream",
       "stream": "stdout",
       "text": [
        "wtelarc[SCI,1][937,*]  37/37   37/37     -0.733        5.54  3.08E-4     0.61\n"
       ]
      },
      {
       "output_type": "stream",
       "stream": "stdout",
       "text": [
        "wtelarc[SCI,1][947,*]  37/37   37/37     -0.754         5.7  3.16E-4    0.613\n"
       ]
      },
      {
       "output_type": "stream",
       "stream": "stdout",
       "text": [
        "wtelarc[SCI,1][957,*]  37/37   35/37     -0.776        5.86  3.26E-4    0.462\n"
       ]
      },
      {
       "output_type": "stream",
       "stream": "stdout",
       "text": [
        "wtelarc[SCI,1][967,*]  37/37   36/37     -0.793          6.  3.33E-4    0.538\n"
       ]
      },
      {
       "output_type": "stream",
       "stream": "stdout",
       "text": [
        "wtelarc[SCI,1][977,*]  37/37   35/37     -0.803        6.07  3.37E-4    0.468\n"
       ]
      },
      {
       "output_type": "stream",
       "stream": "stdout",
       "text": [
        "wtelarc[SCI,1][987,*]  37/37   37/37     -0.834         6.3  3.50E-4    0.609\n"
       ]
      },
      {
       "output_type": "stream",
       "stream": "stdout",
       "text": [
        "wtelarc[SCI,1][997,*]  37/37   37/37     -0.853        6.45  3.58E-4    0.651\n"
       ]
      },
      {
       "output_type": "stream",
       "stream": "stdout",
       "text": [
        "wtelarc[SCI,1][1007,*] 37/37   35/37      -0.87        6.57  3.66E-4    0.505\n"
       ]
      },
      {
       "output_type": "stream",
       "stream": "stdout",
       "text": [
        "wtelarc[SCI,1][1017,*] 37/37   35/37     -0.883        6.67  3.72E-4    0.455\n"
       ]
      },
      {
       "output_type": "stream",
       "stream": "stdout",
       "text": [
        "wtelarc[SCI,1][1027,*] 37/37   35/37     -0.895        6.76  3.78E-4    0.462\n"
       ]
      },
      {
       "output_type": "stream",
       "stream": "stdout",
       "text": [
        "wtelarc[SCI,1][1037,*] 37/37   36/37     -0.902        6.82  3.82E-4    0.548\n"
       ]
      },
      {
       "output_type": "stream",
       "stream": "stdout",
       "text": [
        "wtelarc[SCI,1][1047,*] 37/37   36/37     -0.912        6.89  3.86E-4    0.566\n"
       ]
      },
      {
       "output_type": "stream",
       "stream": "stdout",
       "text": [
        "wtelarc[SCI,1][1057,*] 37/37   35/37     -0.918        6.94  3.89E-4    0.454\n"
       ]
      },
      {
       "output_type": "stream",
       "stream": "stdout",
       "text": [
        "wtelarc[SCI,1][1067,*] 37/37   36/37     -0.942        7.12  3.99E-4    0.528\n"
       ]
      },
      {
       "output_type": "stream",
       "stream": "stdout",
       "text": [
        "wtelarc[SCI,1][1077,*] 37/37   36/37     -0.964        7.28  4.10E-4    0.578\n"
       ]
      },
      {
       "output_type": "stream",
       "stream": "stdout",
       "text": [
        "wtelarc[SCI,1][1087,*] 37/37   35/37     -0.976        7.37  4.16E-4    0.459\n"
       ]
      },
      {
       "output_type": "stream",
       "stream": "stdout",
       "text": [
        "wtelarc[SCI,1][1097,*] 37/37   36/37     -0.986        7.45  4.20E-4    0.524\n"
       ]
      },
      {
       "output_type": "stream",
       "stream": "stdout",
       "text": [
        "wtelarc[SCI,1][1107,*] 37/37   36/37        -1.        7.57  4.28E-4     0.56\n"
       ]
      },
      {
       "output_type": "stream",
       "stream": "stdout",
       "text": [
        "wtelarc[SCI,1][1117,*] 37/37   36/37      -1.01        7.67  4.34E-4    0.545\n"
       ]
      },
      {
       "output_type": "stream",
       "stream": "stdout",
       "text": [
        "wtelarc[SCI,1][1127,*] 37/37   36/37      -1.03        7.77  4.41E-4    0.606\n"
       ]
      },
      {
       "output_type": "stream",
       "stream": "stdout",
       "text": [
        "wtelarc[SCI,1][1137,*] 36/37   36/36      -1.06        7.99  4.54E-4     0.59\n"
       ]
      },
      {
       "output_type": "stream",
       "stream": "stdout",
       "text": [
        "wtelarc[SCI,1][1147,*] 37/37   36/37      -1.07        8.12  4.62E-4    0.599\n"
       ]
      },
      {
       "output_type": "stream",
       "stream": "stdout",
       "text": [
        "wtelarc[SCI,1][1157,*] 37/37   36/37      -1.09        8.23  4.70E-4    0.597\n"
       ]
      },
      {
       "output_type": "stream",
       "stream": "stdout",
       "text": [
        "wtelarc[SCI,1][1167,*] 37/37   36/37      -1.13         8.5  4.87E-4    0.633\n"
       ]
      },
      {
       "output_type": "stream",
       "stream": "stdout",
       "text": [
        "wtelarc[SCI,1][1177,*] 37/37   36/37      -1.14         8.6  4.93E-4    0.638\n"
       ]
      },
      {
       "output_type": "stream",
       "stream": "stdout",
       "text": [
        "wtelarc[SCI,1][1187,*] 37/37   36/37      -1.16        8.74  5.01E-4    0.646\n"
       ]
      },
      {
       "output_type": "stream",
       "stream": "stdout",
       "text": [
        "wtelarc[SCI,1][1197,*] 37/37   36/37      -1.17        8.83  5.08E-4    0.675\n"
       ]
      },
      {
       "output_type": "stream",
       "stream": "stdout",
       "text": [
        "wtelarc[SCI,1][1207,*] 37/37   36/37      -1.19        8.99  5.18E-4    0.668\n"
       ]
      },
      {
       "output_type": "stream",
       "stream": "stdout",
       "text": [
        "wtelarc[SCI,1][1217,*] 37/37   36/37      -1.19        9.02  5.21E-4    0.674\n"
       ]
      },
      {
       "output_type": "stream",
       "stream": "stdout",
       "text": [
        "wtelarc[SCI,1][1227,*] 37/37   36/37      -1.19        9.02  5.21E-4    0.658\n"
       ]
      },
      {
       "output_type": "stream",
       "stream": "stdout",
       "text": [
        "wtelarc[SCI,1][1237,*] 37/37   36/37       -1.2        9.06  5.25E-4    0.674\n"
       ]
      },
      {
       "output_type": "stream",
       "stream": "stdout",
       "text": [
        "wtelarc[SCI,1][1247,*] 37/37   36/37      -1.21         9.1  5.28E-4    0.681\n"
       ]
      },
      {
       "output_type": "stream",
       "stream": "stdout",
       "text": [
        "wtelarc[SCI,1][1257,*] 37/37   37/37       -1.2        9.08  5.27E-4    0.828\n"
       ]
      },
      {
       "output_type": "stream",
       "stream": "stdout",
       "text": [
        "wtelarc[SCI,1][1267,*] 37/37   37/37       -1.2        9.06  5.28E-4    0.866\n"
       ]
      },
      {
       "output_type": "stream",
       "stream": "stdout",
       "text": [
        "wtelarc[SCI,1][1277,*] 37/37   37/37      -1.19        9.01  5.26E-4      0.9\n"
       ]
      },
      {
       "output_type": "stream",
       "stream": "stdout",
       "text": [
        "wtelarc[SCI,1][1287,*] 37/37   36/37      -1.18        8.88  5.21E-4    0.771\n"
       ]
      },
      {
       "output_type": "stream",
       "stream": "stdout",
       "text": [
        "wtelarc[SCI,1][1297,*] 37/37   36/37      -1.16        8.78  5.15E-4    0.762\n"
       ]
      },
      {
       "output_type": "stream",
       "stream": "stdout",
       "text": [
        "wtelarc[SCI,1][1307,*] 37/37   36/37      -1.16        8.75  5.15E-4    0.724\n"
       ]
      },
      {
       "output_type": "stream",
       "stream": "stdout",
       "text": [
        "wtelarc[SCI,1][1317,*] 37/37   36/37      -1.12        8.43  4.98E-4    0.726\n"
       ]
      },
      {
       "output_type": "stream",
       "stream": "stdout",
       "text": [
        "wtelarc[SCI,1][1327,*] 37/37   35/37       -1.1        8.33  4.93E-4    0.646\n"
       ]
      },
      {
       "output_type": "stream",
       "stream": "stdout",
       "text": [
        "wtelarc[SCI,1][1337,*] 37/37   36/37      -1.13        8.51  5.04E-4    0.744\n"
       ]
      },
      {
       "output_type": "stream",
       "stream": "stdout",
       "text": [
        "wtelarc[SCI,1][1347,*] 37/37   36/37      -1.12        8.49  5.04E-4    0.779\n"
       ]
      },
      {
       "output_type": "stream",
       "stream": "stdout",
       "text": [
        "wtelarc[SCI,1][1357,*] 37/37   36/37       -1.1        8.28  4.93E-4    0.772\n"
       ]
      },
      {
       "output_type": "stream",
       "stream": "stdout",
       "text": [
        "wtelarc[SCI,1][1367,*] 37/37   36/37      -1.14         8.6  5.12E-4    0.813\n"
       ]
      },
      {
       "output_type": "stream",
       "stream": "stdout",
       "text": [
        "wtelarc[SCI,1][1377,*] 37/37   36/37      -1.14        8.62  5.16E-4    0.836\n"
       ]
      },
      {
       "output_type": "stream",
       "stream": "stdout",
       "text": [
        "wtelarc[SCI,1][1387,*] 37/37   36/37       -1.1        8.31  5.00E-4     0.79\n"
       ]
      },
      {
       "output_type": "stream",
       "stream": "stdout",
       "text": [
        "wtelarc[SCI,1][1397,*] 37/37   36/37      -1.08        8.19  4.95E-4    0.869\n"
       ]
      },
      {
       "output_type": "stream",
       "stream": "stdout",
       "text": [
        "wtelarc[SCI,1][1407,*] 37/37   36/37      -1.06        7.99  4.83E-4    0.832\n"
       ]
      },
      {
       "output_type": "stream",
       "stream": "stdout",
       "text": [
        "wtelarc[SCI,1][1417,*] 37/37   36/37      -1.09        8.21  4.97E-4    0.854\n"
       ]
      },
      {
       "output_type": "stream",
       "stream": "stdout",
       "text": [
        "wtelarc[SCI,1][1427,*] 37/37   36/37       -1.1        8.29  5.04E-4    0.847\n"
       ]
      },
      {
       "output_type": "stream",
       "stream": "stdout",
       "text": [
        "\n",
        "NSWHELPER Exit status good\n",
        "-------------------------------------------------------------------------------\n",
        "\n",
        "NSWAVELENGTH Exit status good\n",
        "-------------------------------------------------------------------------------\n"
       ]
      }
     ],
     "prompt_number": 4
    },
    {
     "cell_type": "heading",
     "level": 3,
     "metadata": {},
     "source": [
      "Test recovery of a calibrated arc"
     ]
    },
    {
     "cell_type": "markdown",
     "metadata": {},
     "source": [
      "Confirm that applying the wavelength solution to the arc itself recovers a correctly wavelength-calibrated arc.  The key step is **<code>nsfitcoords</code>**.  The default **<code>lxorder</code>** and **<code>lyorder</code>** are both set to 2 which doesn't seem to be correct.  Running **<code>nsfitcoords</code>** interactively on the arc will allow us to discover the best **<code>lxorder</code>** and **<code>lyorder</code>** for this wavelength solution, and use that as a starting point later when using the arc wavelength solution (**<code>wtelarc.fits</code>**) on the telluric and the science."
     ]
    },
    {
     "cell_type": "markdown",
     "metadata": {},
     "source": [
      "Cut and paste these instructions in the PyRAF session that we prepared in Step 0. \n",
      "\n",
      "    iraf.imdelete('ftelarc.fits', verify='no')\n",
      "    iraf.nsfitcoords('telarc.fits', lamptransf='wtelarc.fits', fl_inter='yes')\n",
      "    # Note down the xorder and yorder needed for a good fit.  Use\n",
      "    # that whenever warc.fits is used by nsfitcoords.\n",
      "    # :xorder 3, :yorder 8\n",
      "\n",
      "\n",
      "The yorder is probably a bit high, but it definitely removes any trace of a wave pattern..."
     ]
    },
    {
     "cell_type": "markdown",
     "metadata": {},
     "source": [
      "Record the lxorder and lyorder in the notebook session for future use."
     ]
    },
    {
     "cell_type": "code",
     "collapsed": true,
     "input": [
      "lxorder=3 ; lyorder=8"
     ],
     "language": "python",
     "metadata": {},
     "outputs": [],
     "prompt_number": 5
    },
    {
     "cell_type": "code",
     "collapsed": true,
     "input": [
      "iraf.imdelete('tftelarc.fits', verify='no')\n",
      "iraf.nstransform('ftelarc.fits')\n",
      "iraf.display('tftelarc.fits[sci,1]', 1)"
     ],
     "language": "python",
     "metadata": {},
     "outputs": [
      {
       "output_type": "stream",
       "stream": "stdout",
       "text": [
        "-------------------------------------------------------------------------------\n",
        "NSTRANSFORM -- Tue Oct 27 16:45:44 HST 2015\n",
        "\n",
        "Using input files:"
       ]
      },
      {
       "output_type": "stream",
       "stream": "stdout",
       "text": [
        "\n",
        "ftelarc\n"
       ]
      },
      {
       "output_type": "stream",
       "stream": "stdout",
       "text": [
        "Using output files:\n",
        "tftelarc\n"
       ]
      },
      {
       "output_type": "stream",
       "stream": "stdout",
       "text": [
        "NSTRANSFORM: Fitnames for ftelarc: ftelarc_SCI_1_lamp\n",
        "WARNING - NSTRANSFORM: No MDF in ftelarc"
       ]
      },
      {
       "output_type": "stream",
       "stream": "stdout",
       "text": [
        "\n"
       ]
      },
      {
       "output_type": "stream",
       "stream": "stdout",
       "text": [
        "NSTRANSFORM: Exit status good\n",
        "-------------------------------------------------------------------------------\n"
       ]
      },
      {
       "output_type": "stream",
       "stream": "stdout",
       "text": [
        "z1=0. z2=4764.915\n"
       ]
      }
     ],
     "prompt_number": 6
    },
    {
     "cell_type": "code",
     "collapsed": true,
     "input": [
      "# display the first telluric to identify on which column the spectrum falls in\n",
      "# the A position.\n",
      "first_tel = iraf.head('tel.lis', nlines=1, Stdout=1)[0].strip()\n",
      "iraf.display('f'+first_tel+'[1]', 1)"
     ],
     "language": "python",
     "metadata": {},
     "outputs": [
      {
       "output_type": "stream",
       "stream": "stdout",
       "text": [
        "z1=-83. z2=526.0419\n"
       ]
      }
     ],
     "prompt_number": 7
    },
    {
     "cell_type": "code",
     "collapsed": true,
     "input": [
      "# UPDATE POSITION OF TELLURIC\n",
      "# position of the telluric is column 951 (around the center of the frame)\n",
      "iraf.tel_position = 951"
     ],
     "language": "python",
     "metadata": {},
     "outputs": [],
     "prompt_number": 8
    },
    {
     "cell_type": "code",
     "collapsed": true,
     "input": [
      "iraf.splot('tftelarc.fits[sci,1]', line=iraf.tel_position, options=\"auto wreset flip\")"
     ],
     "language": "python",
     "metadata": {},
     "outputs": [
      {
       "output_type": "stream",
       "stream": "stdout",
       "text": [
        "window:"
       ]
      },
      {
       "output_type": "stream",
       "stream": "stdout",
       "text": [
        "again:"
       ]
      },
      {
       "output_type": "stream",
       "stream": "stdout",
       "text": [
        "k again:"
       ]
      },
      {
       "output_type": "stream",
       "stream": "stdout",
       "text": [
        "\n",
        "1: center =   13370., flux =  138010., eqw = -19.69, gfwhm =  18.56"
       ]
      },
      {
       "output_type": "stream",
       "stream": "stdout",
       "text": [
        "k again:"
       ]
      },
      {
       "output_type": "stream",
       "stream": "stdout",
       "text": [
        "\n",
        "1: center =  13505.4, flux =  551827., eqw = -159.7, gfwhm =  30.42"
       ]
      },
      {
       "output_type": "stream",
       "stream": "stdout",
       "text": [
        "k again:"
       ]
      },
      {
       "output_type": "stream",
       "stream": "stdout",
       "text": [
        "\n",
        "1: center =  13721.5, flux =  299137., eqw = -22.98, gfwhm =  17.65"
       ]
      },
      {
       "output_type": "stream",
       "stream": "stdout",
       "text": [
        "window:"
       ]
      },
      {
       "output_type": "stream",
       "stream": "stdout",
       "text": [
        "window:"
       ]
      },
      {
       "output_type": "stream",
       "stream": "stdout",
       "text": [
        "again:"
       ]
      },
      {
       "output_type": "stream",
       "stream": "stdout",
       "text": [
        "k again:"
       ]
      },
      {
       "output_type": "stream",
       "stream": "stdout",
       "text": [
        "\n",
        "1: center =  14095.6, flux =  118486., eqw = -111.8, gfwhm =  26.01"
       ]
      },
      {
       "output_type": "stream",
       "stream": "stdout",
       "text": [
        "k again:"
       ]
      },
      {
       "output_type": "stream",
       "stream": "stdout",
       "text": [
        "\n",
        "1: center =  15048.4, flux =  167059., eqw =  -137., gfwhm =  22.54"
       ]
      },
      {
       "output_type": "stream",
       "stream": "stdout",
       "text": [
        "window:"
       ]
      },
      {
       "output_type": "stream",
       "stream": "stdout",
       "text": [
        "window:"
       ]
      },
      {
       "output_type": "stream",
       "stream": "stdout",
       "text": [
        "again:"
       ]
      },
      {
       "output_type": "stream",
       "stream": "stdout",
       "text": [
        "k again:"
       ]
      },
      {
       "output_type": "stream",
       "stream": "stdout",
       "text": [
        "\n",
        "1: center =  15993.5, flux =   68898., eqw = -51.41, gfwhm =   15.7"
       ]
      },
      {
       "output_type": "stream",
       "stream": "stdout",
       "text": [
        "k again:"
       ]
      },
      {
       "output_type": "stream",
       "stream": "stdout",
       "text": [
        "\n",
        "1: center =  16944.2, flux =  1.021E6, eqw =  -498., gfwhm =  22.58"
       ]
      },
      {
       "output_type": "stream",
       "stream": "stdout",
       "text": [
        "k again:"
       ]
      },
      {
       "output_type": "stream",
       "stream": "stdout",
       "text": [
        "\n",
        "1: center =  16744.6, flux =   44279., eqw = -50.65, gfwhm =  13.57"
       ]
      },
      {
       "output_type": "stream",
       "stream": "stdout",
       "text": [
        "k again:"
       ]
      },
      {
       "output_type": "stream",
       "stream": "stdout",
       "text": [
        "\n",
        "1: center =   16524., flux =  128470., eqw = -89.63, gfwhm =  16.17"
       ]
      },
      {
       "output_type": "stream",
       "stream": "stdout",
       "text": [
        "k again:"
       ]
      },
      {
       "output_type": "stream",
       "stream": "stdout",
       "text": [
        "\n",
        "1: center =  17450.5, flux =  107186., eqw = -101.1, gfwhm =   12.2"
       ]
      },
      {
       "output_type": "stream",
       "stream": "stdout",
       "text": [
        "k again:"
       ]
      },
      {
       "output_type": "stream",
       "stream": "stdout",
       "text": [
        "\n",
        "1: center =  17919.8, flux =  673446., eqw = -424.4, gfwhm =  14.75"
       ]
      },
      {
       "output_type": "stream",
       "stream": "stdout",
       "text": [
        "window:"
       ]
      },
      {
       "output_type": "stream",
       "stream": "stdout",
       "text": [
        "window:"
       ]
      },
      {
       "output_type": "stream",
       "stream": "stdout",
       "text": [
        "again:"
       ]
      },
      {
       "output_type": "stream",
       "stream": "stdout",
       "text": [
        "k again:"
       ]
      },
      {
       "output_type": "stream",
       "stream": "stdout",
       "text": [
        "\n",
        "1: center =  18433.4, flux =  147679., eqw =  -165., gfwhm =  15.97"
       ]
      },
      {
       "output_type": "stream",
       "stream": "stdout",
       "text": [
        "k again:"
       ]
      },
      {
       "output_type": "stream",
       "stream": "stdout",
       "text": [
        "\n",
        "1: center =  19823.2, flux =   42675., eqw = -63.94, gfwhm =  18.73"
       ]
      },
      {
       "output_type": "stream",
       "stream": "stdout",
       "text": [
        "k again:"
       ]
      },
      {
       "output_type": "stream",
       "stream": "stdout",
       "text": [
        "\n",
        "1: center =  19970.9, flux =   33784., eqw = -42.19, gfwhm =  15.43"
       ]
      },
      {
       "output_type": "stream",
       "stream": "stdout",
       "text": [
        "k again:"
       ]
      },
      {
       "output_type": "stream",
       "stream": "stdout",
       "text": [
        "\n",
        "1: center =  20322.9, flux =   14736., eqw = -19.78, gfwhm =  15.05"
       ]
      },
      {
       "output_type": "stream",
       "stream": "stdout",
       "text": [
        "k again:"
       ]
      },
      {
       "output_type": "stream",
       "stream": "stdout",
       "text": [
        "\n",
        "1: center =  20621.5, flux =  187148., eqw = -58.74, gfwhm =  17.83"
       ]
      },
      {
       "output_type": "stream",
       "stream": "stdout",
       "text": [
        "k again:"
       ]
      },
      {
       "output_type": "stream",
       "stream": "stdout",
       "text": [
        "\n",
        "1: center =  20992.4, flux =  107469., eqw = -48.29, gfwhm =  16.47"
       ]
      },
      {
       "output_type": "stream",
       "stream": "stdout",
       "text": [
        "window:"
       ]
      },
      {
       "output_type": "stream",
       "stream": "stdout",
       "text": [
        "window:"
       ]
      },
      {
       "output_type": "stream",
       "stream": "stdout",
       "text": [
        "again:"
       ]
      },
      {
       "output_type": "stream",
       "stream": "stdout",
       "text": [
        "k again:"
       ]
      },
      {
       "output_type": "stream",
       "stream": "stdout",
       "text": [
        "\n",
        "1: center =  21339.2, flux =    8198., eqw = -7.125, gfwhm =  15.57"
       ]
      },
      {
       "output_type": "stream",
       "stream": "stdout",
       "text": [
        "k again:"
       ]
      },
      {
       "output_type": "stream",
       "stream": "stdout",
       "text": [
        "\n",
        "1: center =  21541.3, flux =   40882., eqw = -27.51, gfwhm =  17.68"
       ]
      },
      {
       "output_type": "stream",
       "stream": "stdout",
       "text": [
        "k again:"
       ]
      },
      {
       "output_type": "stream",
       "stream": "stdout",
       "text": [
        "\n",
        "1: center =  22084.1, flux =   34861., eqw = -17.47, gfwhm =    18."
       ]
      },
      {
       "output_type": "stream",
       "stream": "stdout",
       "text": [
        "window:"
       ]
      },
      {
       "output_type": "stream",
       "stream": "stdout",
       "text": [
        "window:"
       ]
      },
      {
       "output_type": "stream",
       "stream": "stdout",
       "text": [
        "again:"
       ]
      },
      {
       "output_type": "stream",
       "stream": "stdout",
       "text": [
        "k again:"
       ]
      },
      {
       "output_type": "stream",
       "stream": "stdout",
       "text": [
        "\n",
        "1: center =  23139.9, flux =   21927., eqw = -7.887, gfwhm =  20.34"
       ]
      },
      {
       "output_type": "stream",
       "stream": "stdout",
       "text": [
        "k again:"
       ]
      },
      {
       "output_type": "stream",
       "stream": "stdout",
       "text": [
        "\n",
        "1: center =  23853.6, flux =   21695., eqw = -5.117, gfwhm =  22.53"
       ]
      },
      {
       "output_type": "stream",
       "stream": "stdout",
       "text": [
        "k again:"
       ]
      },
      {
       "output_type": "stream",
       "stream": "stdout",
       "text": [
        "\n",
        "1: center =  23972.9, flux =   29119., eqw = -6.374, gfwhm =   24.5"
       ]
      }
     ],
     "prompt_number": 9
    },
    {
     "cell_type": "markdown",
     "metadata": {},
     "source": [
      "Check that the arc lines are at the correct wavelength. Use '<code>k</code>' on each side of the a line to get the centroid. Then compare with the line list and the diagrams.\n",
      "\n",
      "Resource:  \n",
      "    http://www.gemini.edu/sciops/instruments/niri/?q=node/10166\n",
      "\n",
      "The NIRI plots from that webpage work well.\n",
      "\n",
      "** Result: (Kathleen)**\n",
      "\n",
      "The arc gets transformed correctly with lxorder=3, lyorder=8.  The line measurements are recorded in Reduction_Lines_Verification.xlsx spreadsheet.  There are no systematic offset.  The lines get more and more asymmetric as one get closer to the edges of the range.  At the blue end the accuracy is a bit less (< 15100 Angs).  Over the range, average is -0.1 +/- 1.1, or on the absolute residuals 0.8 +/- 0.7."
     ]
    },
    {
     "cell_type": "heading",
     "level": 2,
     "metadata": {},
     "source": [
      "STEP 16:  Wavelength calibrate the telluric data"
     ]
    },
    {
     "cell_type": "markdown",
     "metadata": {},
     "source": [
      "An arc is taken with the telluric (circa 2015B).  But because of the bad optics it might not be accurate enough.\n",
      "\n",
      "The OH sky lines can be used, however the coverage is not always adequate across the dispersion axis, and the sky lines tend to be a bit broader than the arc lines.\n",
      "\n",
      "Check the arc solution, then check the OH solution."
     ]
    },
    {
     "cell_type": "markdown",
     "metadata": {},
     "source": [
      "** FOR SCIENCE REDUCTION, NOT QUICKLOOK **\n",
      "\n",
      "We will double-check that the arc works well on the science observation. To that end, we will use a science frame that has not been sky subtracted yet, and apply the arc solution. We will measure the OH sky lines to confirm that they fall where they are supposed to fall. If this test passes, then we will apply the arc solution to the tellurics.  If it doesn't, we will have to use the OH sky lines for the wavelength calibration (if the OH lines are bright enough.)\n",
      "\n",
      "The key tasks used for this step are:\n",
      "\n",
      "* nsfitcoords: Used to determine the final 2-D surface solution, based on a previously calculated wavelength solution, to be applied to the data.\n",
      "* nstransform: Actually applies the 2-D solution found by nsfitcoords to the data.\n",
      "\n",
      "Spatial rectification (s-distortion correction) is not usually needed with F2 longslit data."
     ]
    },
    {
     "cell_type": "heading",
     "level": 3,
     "metadata": {},
     "source": [
      "16.1 NOT QL: Test accuracy of the wavelength solution on the sky lines"
     ]
    },
    {
     "cell_type": "markdown",
     "metadata": {},
     "source": [
      "We reduce the first telluric frame but without doing the sky subtraction."
     ]
    },
    {
     "cell_type": "code",
     "collapsed": true,
     "input": [
      "first_tel = iraf.head('tel.lis', nlines=1, Stdout=1)[0].strip()\n",
      "iraf.imdelete('Xdf'+first_tel, verify='no')\n",
      "iraf.nsreduce('df'+first_tel, outprefix='X', fl_cut='yes', fl_dark='no', \\\n",
      "              fl_sky='no', fl_flat='yes', flatimage='flat.fits')\n",
      "iraf.display('Xdf'+first_tel+'[sci,1]', 1)\n",
      "# confirm that the sky lines are strong enough.\n",
      "# ... should be strong enough."
     ],
     "language": "python",
     "metadata": {},
     "outputs": [
      {
       "output_type": "stream",
       "stream": "stdout",
       "text": [
        "-------------------------------------------------------------------------------\n",
        "NSREDUCE -- Tue Oct 27 17:01:08 HST 2015\n",
        " \n",
        "----------------------------------------------------------------------------"
       ]
      },
      {
       "output_type": "stream",
       "stream": "stdout",
       "text": [
        "\n",
        "F2CUT -- Tue Oct 27 17:01:08 HST 2015\n",
        " \n",
        "\n",
        "Pixel scale: 0.1797"
       ]
      },
      {
       "output_type": "stream",
       "stream": "stdout",
       "text": [
        "\n",
        "Grism: HK_G5802\n",
        "Filter: HK\n",
        "\n",
        "dfS20150730S0263 --> dfS20150730S0263-98527_17"
       ]
      },
      {
       "output_type": "stream",
       "stream": "stdout",
       "text": [
        "\n",
        " [SCI,1][57:1490,200:1797] --> [SCI,1]\n"
       ]
      },
      {
       "output_type": "stream",
       "stream": "stdout",
       "text": [
        " \n",
        "F2CUT exit status: good.\n",
        "----------------------------------------------------------------------------\n",
        "------------------------------------------------------------------------------"
       ]
      },
      {
       "output_type": "stream",
       "stream": "stdout",
       "text": [
        "\n",
        "NSAPPWAVE -- Tue Oct 27 17:01:11 HST 2015\n",
        " \n"
       ]
      },
      {
       "output_type": "stream",
       "stream": "stdout",
       "text": [
        "NSAPPWAVE: Processing 1 extension(s) from 1 file(s).\n",
        "  Camera     Grating    Filter     Prism      FPMask     Wave   Delta Order Axis\n",
        "dfS20150730S0263-98527_17 -> dfS20150730S0263-98527_18 ( 1)"
       ]
      },
      {
       "output_type": "stream",
       "stream": "stdout",
       "text": [
        "\n",
        "  f/16_G5830   HK_G5802         HK             2pix-slit 18710.00 -7.83 INDEF 2\n"
       ]
      },
      {
       "output_type": "stream",
       "stream": "stdout",
       "text": [
        "NSAPPWAVE: cradius not from table for dfS20150730S0263-98527_17.\n",
        "           (further table messages supressed for this file).\n",
        "  extension  1: 18710.000000 -7.826000 INDEF\n"
       ]
      },
      {
       "output_type": "stream",
       "stream": "stdout",
       "text": [
        "\n",
        "NSAPPWAVE Exit status good\n",
        "------------------------------------------------------------------------------\n",
        "NSREDUCE: Processing 1 extension(s) from 1 file(s)."
       ]
      },
      {
       "output_type": "stream",
       "stream": "stdout",
       "text": [
        "\n"
       ]
      },
      {
       "output_type": "stream",
       "stream": "stdout",
       "text": [
        "NSREDUCE: slit: 2pix-slit\n",
        "NSREDUCE: filter: HK\n",
        "\n",
        "   n input                   --> output                  sky image\n",
        " dark                    flat                    scale\n",
        "\n",
        "   1 dfS20150730S0263        --> XdfS20150730S0263       none                   \n",
        " none                    flat                    1.0000 \n"
       ]
      },
      {
       "output_type": "stream",
       "stream": "stdout",
       "text": [
        " \n",
        "NSREDUCE exit status: good.\n",
        "------------------------------------------------------------------------------\n",
        "z1=3.408454 z2=485.0484\n"
       ]
      }
     ],
     "prompt_number": 10
    },
    {
     "cell_type": "markdown",
     "metadata": {},
     "source": [
      "We apply the arc solution on the frame with the sky lines."
     ]
    },
    {
     "cell_type": "code",
     "collapsed": true,
     "input": [
      "iraf.imdelete('fXdf'+first_tel, verify='no')\n",
      "iraf.nsfitcoords ('Xdf'+first_tel, lamptransf='warc.fits', \\\n",
      "                  lxorder=lxorder, lyorder=lyorder)\n",
      "\n",
      "iraf.imdelete('tfXdf'+first_tel, verify='no')\n",
      "iraf.nstransform('fXdf'+first_tel)"
     ],
     "language": "python",
     "metadata": {},
     "outputs": [
      {
       "output_type": "stream",
       "stream": "stdout",
       "text": [
        "-------------------------------------------------------------------------------\n",
        "NSFITCOORDS -- Tue Oct 27 17:01:55 HST 2015"
       ]
      },
      {
       "output_type": "stream",
       "stream": "stdout",
       "text": [
        "\n",
        "\n",
        "Using input files:"
       ]
      },
      {
       "output_type": "stream",
       "stream": "stdout",
       "text": [
        "\n",
        "XdfS20150730S0263\n"
       ]
      },
      {
       "output_type": "stream",
       "stream": "stdout",
       "text": [
        "Using output files:\n",
        "fXdfS20150730S0263\n"
       ]
      },
      {
       "output_type": "stream",
       "stream": "stdout",
       "text": [
        "NSFITCOORDS: Fitnames for XdfS20150730S0263: fXdfS20150730S0263_SCI_1_lamp\n"
       ]
      },
      {
       "output_type": "stream",
       "stream": "stdout",
       "text": [
        "NSFITCOORDS: Exit status good\n",
        "-------------------------------------------------------------------------------\n"
       ]
      },
      {
       "output_type": "stream",
       "stream": "stdout",
       "text": [
        "-------------------------------------------------------------------------------\n",
        "NSTRANSFORM -- Tue Oct 27 17:01:58 HST 2015\n",
        "\n",
        "Using input files:"
       ]
      },
      {
       "output_type": "stream",
       "stream": "stdout",
       "text": [
        "\n",
        "fXdfS20150730S0263\n"
       ]
      },
      {
       "output_type": "stream",
       "stream": "stdout",
       "text": [
        "Using output files:\n",
        "tfXdfS20150730S0263\n"
       ]
      },
      {
       "output_type": "stream",
       "stream": "stdout",
       "text": [
        "NSTRANSFORM: Fitnames for fXdfS20150730S0263: fXdfS20150730S0263_SCI_1_lamp\n",
        "WARNING - NSTRANSFORM: No MDF in fXdfS20150730S0263"
       ]
      },
      {
       "output_type": "stream",
       "stream": "stdout",
       "text": [
        "\n"
       ]
      },
      {
       "output_type": "stream",
       "stream": "stdout",
       "text": [
        "NSTRANSFORM: Exit status good\n",
        "-------------------------------------------------------------------------------\n"
       ]
      }
     ],
     "prompt_number": 11
    },
    {
     "cell_type": "markdown",
     "metadata": {},
     "source": [
      "Use IRAF `splot` to measure the wavelength of the sky lines in the corrected science.  Do this in the pyraf session, not in the notebook."
     ]
    },
    {
     "cell_type": "markdown",
     "metadata": {},
     "source": [
      "    first_tel = iraf.head('tel.lis', nlines=1, Stdout=1)[0].strip()\n",
      "    iraf.splot ('tfXdf'+first_tel+'[sci,1]', line=750)\n",
      "    # line=750 is just somewhere in the middle.\n",
      "    # :nsum 30\n",
      "    # Use 'k' again and sky line plots and lists to check position\n",
      "    #  of the sky lines.\n",
      "    \n",
      "Resources:  \n",
      "[http://www.ukirt.hawaii.edu/astronomy/calib/spec_cal/oh.html](http://www.ukirt.hawaii.edu/astronomy/calib/spec_cal/oh.html)  \n",
      "[http://www.ukirt.hawaii.edu/astronomy/calib/spec_cal/ohlines.html](http://www.ukirt.hawaii.edu/astronomy/calib/spec_cal/ohlines.html)  \n"
     ]
    },
    {
     "cell_type": "markdown",
     "metadata": {},
     "source": [
      "** RESULTS **\n",
      "\n",
      "Verification of the OH lines in the H-band section and the K-band section show that the lines do not all show up at the correct wavelength after the transformation.  Lines in the center are okay, so are the lines all the way to the blue end.  However, the OH lines > 20,000 Angs are wrong by more than 2 Angs up to 7 Angs for the reddest line.\n",
      "\n",
      "This is believed to be due to the asymmetry of the lines and lost of resolution.   The lines on the blue side indeed do not show the strong assymetry I'm used to see.  The lines on the red end do.\n",
      "\n",
      "** <font color='red'>The arc solution probably cannot be used to calibrate the science data.</font>**   Let's see what we get with the OH solution."
     ]
    },
    {
     "cell_type": "heading",
     "level": 3,
     "metadata": {},
     "source": [
      "16.2 Calculate the wavelength solution from the OH lines"
     ]
    },
    {
     "cell_type": "markdown",
     "metadata": {},
     "source": [
      "IMPORTANT: There are no OH sky lines redwards of 22750 Ang and blueward of 15000 Ang which means that the wavelength calibration in those regions will have a reduced accuracy. In our case, that's fine since we don't have features of interest in those parts of the spectrum."
     ]
    },
    {
     "cell_type": "heading",
     "level": 4,
     "metadata": {},
     "source": [
      "Determine the wavelength solution for the telluric using OH lines"
     ]
    },
    {
     "cell_type": "markdown",
     "metadata": {},
     "source": [
      "**IMPORTANT**: Run this interactively and do delete the bad lines from the fit and re-fit. There are bad line identifications redward of 22750 Ang and blueward of 15000 Ang. Remove all those bad lines."
     ]
    },
    {
     "cell_type": "code",
     "collapsed": true,
     "input": [
      "first_tel = iraf.head('tel.lis', nlines=1, Stdout=1)[0].strip()\n",
      "iraf.imdelete('wXdf'+first_tel+'.fits', verify='no')\n",
      "iraf.nswavelength('Xdf'+first_tel+'.fits', \n",
      "                  coordlist='gemini$gcal/linelists/ohlines.dat', \n",
      "                  fl_inter='yes')"
     ],
     "language": "python",
     "metadata": {},
     "outputs": [
      {
       "output_type": "stream",
       "stream": "stdout",
       "text": [
        "-------------------------------------------------------------------------------\n",
        "NSWAVELENGTH -- Wed Oct 28 10:08:03 HST 2015\n",
        "\n",
        "NSWAVELENGTH: LS data detected. Calling nswhelper to process data."
       ]
      },
      {
       "output_type": "stream",
       "stream": "stdout",
       "text": [
        "\n",
        "-------------------------------------------------------------------------------\n",
        "NSWHELPER -- Wed Oct 28 10:08:03 HST 2015"
       ]
      },
      {
       "output_type": "stream",
       "stream": "stdout",
       "text": [
        "\n",
        "\n"
       ]
      },
      {
       "output_type": "stream",
       "stream": "stdout",
       "text": [
        "Using input files:\n",
        "XdfS20150730S0263\n"
       ]
      },
      {
       "output_type": "stream",
       "stream": "stdout",
       "text": [
        "Using output files:\n",
        "wXdfS20150730S0263\n"
       ]
      },
      {
       "output_type": "stream",
       "stream": "stdout",
       "text": [
        "Lamp image: XdfS20150730S0263[SCI,1]\n",
        "\n"
       ]
      },
      {
       "output_type": "stream",
       "stream": "stdout",
       "text": [
        "AUTOIDENTIFY: NOAO/IRAF V2.16 klabrie@libellule.local Wed 10:08:11 28-Oct-2015\n"
       ]
      },
      {
       "output_type": "stream",
       "stream": "stdout",
       "text": [
        "  Spectrum                 # Found   Midpoint Dispersion        RMS\n"
       ]
      },
      {
       "output_type": "stream",
       "stream": "stdout",
       "text": [
        "  wXdfS20150730S0263[SCI,1][717,*]        121    18962.7      -7.52       1.76\n"
       ]
      },
      {
       "output_type": "stream",
       "stream": "stdout",
       "text": [
        "wXdfS20150730S0263[SCI,1][717,*]: Examine identifications interactively?"
       ]
      },
      {
       "output_type": "stream",
       "stream": "stdout",
       "text": [
        "   1440.04  14134.086     14134. 0.18\n"
       ]
      },
      {
       "output_type": "stream",
       "stream": "stdout",
       "text": [
        "   1586.81  13019.079    13021.6 \n"
       ]
      },
      {
       "output_type": "stream",
       "stream": "stdout",
       "text": [
        "   1579.29  13076.341    13085.2 0.39\n"
       ]
      },
      {
       "output_type": "stream",
       "stream": "stdout",
       "text": [
        "   1572.34  13129.282    13127.8 0.07\n"
       ]
      },
      {
       "output_type": "stream",
       "stream": "stdout",
       "text": [
        "   1569.14  13153.623    13156.7 2.30\n"
       ]
      },
      {
       "output_type": "stream",
       "stream": "stdout",
       "text": [
        "   1561.42  13212.355     13211. 0.10\n"
       ]
      },
      {
       "output_type": "stream",
       "stream": "stdout",
       "text": [
        "   1548.49  13310.708    13324.7 0.04\n"
       ]
      },
      {
       "output_type": "stream",
       "stream": "stdout",
       "text": [
        "   1533.44  13425.115    13420.8 0.60\n"
       ]
      },
      {
       "output_type": "stream",
       "stream": "stdout",
       "text": [
        "   1480.46  13827.509    13823.7 0.35\n"
       ]
      },
      {
       "output_type": "stream",
       "stream": "stdout",
       "text": [
        "    328.63  22517.658     22518. 0.25\n"
       ]
      },
      {
       "output_type": "stream",
       "stream": "stdout",
       "text": [
        "    328.63  22517.837     22518. 0.25\n"
       ]
      },
      {
       "output_type": "stream",
       "stream": "stdout",
       "text": [
        "    328.63  22517.837     22518. 0.25\n"
       ]
      },
      {
       "output_type": "stream",
       "stream": "stdout",
       "text": [
        "window:"
       ]
      },
      {
       "output_type": "stream",
       "stream": "stdout",
       "text": [
        "again:"
       ]
      },
      {
       "output_type": "stream",
       "stream": "stdout",
       "text": [
        "    328.63  22517.837     22518. 0.25\n"
       ]
      },
      {
       "output_type": "stream",
       "stream": "stdout",
       "text": [
        "   1454.94  14021.248    14022.2 0.15\n"
       ]
      },
      {
       "output_type": "stream",
       "stream": "stdout",
       "text": [
        "   1443.74  14106.138     14107. \n"
       ]
      },
      {
       "output_type": "stream",
       "stream": "stdout",
       "text": [
        "   1440.04  14134.182     14134. 0.18\n"
       ]
      },
      {
       "output_type": "stream",
       "stream": "stdout",
       "text": [
        "   1418.42  14297.959    14292.9 \n"
       ]
      },
      {
       "output_type": "stream",
       "stream": "stdout",
       "text": [
        "   1411.31  14351.833    14356.7 0.62\n"
       ]
      },
      {
       "output_type": "stream",
       "stream": "stdout",
       "text": [
        "   1411.31  14351.833    14356.7 \n"
       ]
      },
      {
       "output_type": "stream",
       "stream": "stdout",
       "text": [
        "   1411.31  14351.833    14356.7 \n"
       ]
      },
      {
       "output_type": "stream",
       "stream": "stdout",
       "text": [
        "   1411.31  14351.833    14356.7 \n"
       ]
      },
      {
       "output_type": "stream",
       "stream": "stdout",
       "text": [
        "   1318.21  15056.988 (   15055.5 1.95): "
       ]
      },
      {
       "output_type": "stream",
       "stream": "stdout",
       "text": [
        "   1318.21  15056.988    15055.5 1.95\n"
       ]
      },
      {
       "output_type": "stream",
       "stream": "stdout",
       "text": [
        "   1340.74  14886.902 (   14886.2 ): "
       ]
      },
      {
       "output_type": "stream",
       "stream": "stdout",
       "text": [
        "   1340.74  14886.902    14886.2 \n"
       ]
      },
      {
       "output_type": "stream",
       "stream": "stdout",
       "text": [
        "   1334.61  14933.161 (   14931.9 0.26): "
       ]
      },
      {
       "output_type": "stream",
       "stream": "stdout",
       "text": [
        "   1334.61  14933.161    14931.9 0.26\n"
       ]
      },
      {
       "output_type": "stream",
       "stream": "stdout",
       "text": [
        "   1347.49  14835.948 (    14833. 0.62): "
       ]
      },
      {
       "output_type": "stream",
       "stream": "stdout",
       "text": [
        "   1347.49  14835.948     14833. 0.62\n"
       ]
      },
      {
       "output_type": "stream",
       "stream": "stdout",
       "text": [
        "   1389.35  14519.742 (    14519. 0.60): "
       ]
      },
      {
       "output_type": "stream",
       "stream": "stdout",
       "text": [
        "   1389.35  14519.742     14519. 0.60\n"
       ]
      },
      {
       "output_type": "stream",
       "stream": "stdout",
       "text": [
        "   1389.35  14519.742     14519. 0.60\n"
       ]
      },
      {
       "output_type": "stream",
       "stream": "stdout",
       "text": [
        "   1377.96  14605.829 (   14604.8 0.35): "
       ]
      },
      {
       "output_type": "stream",
       "stream": "stdout",
       "text": [
        "   1377.96  14605.829    14604.8 0.35\n"
       ]
      },
      {
       "output_type": "stream",
       "stream": "stdout",
       "text": [
        "   1389.35  14519.742     14519. 0.60\n"
       ]
      },
      {
       "output_type": "stream",
       "stream": "stdout",
       "text": [
        "   1389.35  14519.742     14519. 0.60\n"
       ]
      },
      {
       "output_type": "stream",
       "stream": "stdout",
       "text": [
        "   1340.74  14886.902    14886.2 \n"
       ]
      },
      {
       "output_type": "stream",
       "stream": "stdout",
       "text": [
        "   1347.49  14835.948     14833. 0.62\n"
       ]
      },
      {
       "output_type": "stream",
       "stream": "stdout",
       "text": [
        "   1352.45  14798.498    14799.8 0.70\n"
       ]
      },
      {
       "output_type": "stream",
       "stream": "stdout",
       "text": [
        "   1389.35  14519.742     14519. 0.60\n"
       ]
      },
      {
       "output_type": "stream",
       "stream": "stdout",
       "text": [
        "   1389.35  14518.473     14519. 0.60\n"
       ]
      },
      {
       "output_type": "stream",
       "stream": "stdout",
       "text": [
        "   1318.21  15056.233    15055.5 1.95\n"
       ]
      },
      {
       "output_type": "stream",
       "stream": "stdout",
       "text": [
        "   1293.75  15240.946     15241. \n"
       ]
      },
      {
       "output_type": "stream",
       "stream": "stdout",
       "text": [
        "   1293.75  15241.202     15241. \n"
       ]
      },
      {
       "output_type": "stream",
       "stream": "stdout",
       "text": [
        "window:"
       ]
      },
      {
       "output_type": "stream",
       "stream": "stdout",
       "text": [
        "   1293.75  15241.202     15241. \n"
       ]
      },
      {
       "output_type": "stream",
       "stream": "stdout",
       "text": [
        "window:"
       ]
      },
      {
       "output_type": "stream",
       "stream": "stdout",
       "text": [
        "again:"
       ]
      },
      {
       "output_type": "stream",
       "stream": "stdout",
       "text": [
        "   1293.75  15241.202     15241. \n"
       ]
      },
      {
       "output_type": "stream",
       "stream": "stdout",
       "text": [
        "   1293.76  15241.089 (    15241. 1.41): "
       ]
      },
      {
       "output_type": "stream",
       "stream": "stdout",
       "text": [
        "   1293.76  15241.089     15241. 1.41\n"
       ]
      },
      {
       "output_type": "stream",
       "stream": "stdout",
       "text": [
        "   1281.66  15332.383 (   15332.4 1.15): "
       ]
      },
      {
       "output_type": "stream",
       "stream": "stdout",
       "text": [
        "   1281.66  15332.383    15332.4 1.15\n"
       ]
      },
      {
       "output_type": "stream",
       "stream": "stdout",
       "text": [
        "   1268.50  15431.717 (   15432.1 1.08): "
       ]
      },
      {
       "output_type": "stream",
       "stream": "stdout",
       "text": [
        "   1268.50  15431.717    15432.1 1.08\n"
       ]
      },
      {
       "output_type": "stream",
       "stream": "stdout",
       "text": [
        "   1253.83  15542.384 (   15540.4 0.55): "
       ]
      },
      {
       "output_type": "stream",
       "stream": "stdout",
       "text": [
        "   1253.83  15542.384    15540.4 0.55\n"
       ]
      },
      {
       "output_type": "stream",
       "stream": "stdout",
       "text": [
        "   1239.02  15654.025 (    15655. 1.05): "
       ]
      },
      {
       "output_type": "stream",
       "stream": "stdout",
       "text": [
        "   1239.02  15654.025     15655. 1.05\n"
       ]
      },
      {
       "output_type": "stream",
       "stream": "stdout",
       "text": [
        "   1253.83  15542.384    15540.4 0.55\n"
       ]
      },
      {
       "output_type": "stream",
       "stream": "stdout",
       "text": [
        "   1268.50  15431.717    15432.1 1.08\n"
       ]
      },
      {
       "output_type": "stream",
       "stream": "stdout",
       "text": [
        "   1239.02  15654.025     15655. 1.05\n"
       ]
      },
      {
       "output_type": "stream",
       "stream": "stdout",
       "text": [
        "   1215.10  15834.416    15833.2 0.65\n"
       ]
      },
      {
       "output_type": "stream",
       "stream": "stdout",
       "text": [
        "   1215.08  15834.551 (   15833.2 2.30): "
       ]
      },
      {
       "output_type": "stream",
       "stream": "stdout",
       "text": [
        "   1215.08  15834.551    15833.2 2.30\n"
       ]
      },
      {
       "output_type": "stream",
       "stream": "stdout",
       "text": [
        "   1293.76  15240.925     15241. 1.41\n"
       ]
      },
      {
       "output_type": "stream",
       "stream": "stdout",
       "text": [
        "window:"
       ]
      },
      {
       "output_type": "stream",
       "stream": "stdout",
       "text": [
        "again:"
       ]
      },
      {
       "output_type": "stream",
       "stream": "stdout",
       "text": [
        "window:"
       ]
      },
      {
       "output_type": "stream",
       "stream": "stdout",
       "text": [
        "   1293.76  15240.925     15241. 1.41\n"
       ]
      },
      {
       "output_type": "stream",
       "stream": "stdout",
       "text": [
        "window:"
       ]
      },
      {
       "output_type": "stream",
       "stream": "stdout",
       "text": [
        "   1293.76  15240.925     15241. 1.41\n"
       ]
      },
      {
       "output_type": "stream",
       "stream": "stdout",
       "text": [
        "window:"
       ]
      },
      {
       "output_type": "stream",
       "stream": "stdout",
       "text": [
        "again:"
       ]
      },
      {
       "output_type": "stream",
       "stream": "stdout",
       "text": [
        "   1293.76  15240.925     15241. 1.41\n"
       ]
      },
      {
       "output_type": "stream",
       "stream": "stdout",
       "text": [
        "    540.97   20910.91    20909.6 0.30\n"
       ]
      },
      {
       "output_type": "stream",
       "stream": "stdout",
       "text": [
        "    461.98  21507.562 (   21507.3 1.20): "
       ]
      },
      {
       "output_type": "stream",
       "stream": "stdout",
       "text": [
        "    461.98  21507.562    21507.3 1.20\n"
       ]
      },
      {
       "output_type": "stream",
       "stream": "stdout",
       "text": [
        "    540.96  20910.968 (   20909.6 0.33): "
       ]
      },
      {
       "output_type": "stream",
       "stream": "stdout",
       "text": [
        "    540.96  20910.968    20909.6 0.33\n"
       ]
      },
      {
       "output_type": "stream",
       "stream": "stdout",
       "text": [
        "    565.13  20728.576 (    20729. 0.77): "
       ]
      },
      {
       "output_type": "stream",
       "stream": "stdout",
       "text": [
        "    565.13  20728.576     20729. 0.77\n"
       ]
      },
      {
       "output_type": "stream",
       "stream": "stdout",
       "text": [
        "    435.27  21709.582 (   21711.1 0.25): "
       ]
      },
      {
       "output_type": "stream",
       "stream": "stdout",
       "text": [
        "    435.27  21709.582    21711.1 0.25\n"
       ]
      },
      {
       "output_type": "stream",
       "stream": "stdout",
       "text": [
        "    461.98  21507.562    21507.3 1.20\n"
       ]
      },
      {
       "output_type": "stream",
       "stream": "stdout",
       "text": [
        "window:"
       ]
      },
      {
       "output_type": "stream",
       "stream": "stdout",
       "text": [
        "again:"
       ]
      },
      {
       "output_type": "stream",
       "stream": "stdout",
       "text": [
        "window:"
       ]
      },
      {
       "output_type": "stream",
       "stream": "stdout",
       "text": [
        "window:"
       ]
      },
      {
       "output_type": "stream",
       "stream": "stdout",
       "text": [
        "again:"
       ]
      },
      {
       "output_type": "stream",
       "stream": "stdout",
       "text": [
        "window:"
       ]
      },
      {
       "output_type": "stream",
       "stream": "stdout",
       "text": [
        "    461.98  21507.374    21507.3 1.20\n"
       ]
      },
      {
       "output_type": "stream",
       "stream": "stdout",
       "text": [
        "    413.31  21875.514 (   21873.5 0.35): "
       ]
      },
      {
       "output_type": "stream",
       "stream": "stdout",
       "text": [
        "    413.31  21875.514    21873.5 0.35\n"
       ]
      },
      {
       "output_type": "stream",
       "stream": "stdout",
       "text": [
        "    423.00  21802.206    21802.2 0.70\n"
       ]
      },
      {
       "output_type": "stream",
       "stream": "stdout",
       "text": [
        "    363.98  22249.067 (   22247.9 0.28): "
       ]
      },
      {
       "output_type": "stream",
       "stream": "stdout",
       "text": [
        "    363.98  22249.067    22247.9 0.28\n"
       ]
      },
      {
       "output_type": "stream",
       "stream": "stdout",
       "text": [
        "    380.30  22125.492    22125.5 0.10\n"
       ]
      },
      {
       "output_type": "stream",
       "stream": "stdout",
       "text": [
        "    380.30  22125.728    22125.5 0.10\n"
       ]
      },
      {
       "output_type": "stream",
       "stream": "stdout",
       "text": [
        "    505.61  21177.821 (   21176.6 0.38): "
       ]
      },
      {
       "output_type": "stream",
       "stream": "stdout",
       "text": [
        "    505.61  21177.821    21176.6 0.38\n"
       ]
      },
      {
       "output_type": "stream",
       "stream": "stdout",
       "text": [
        "    496.31  21248.097 (   21249.7 0.41): "
       ]
      },
      {
       "output_type": "stream",
       "stream": "stdout",
       "text": [
        "    496.31  21248.097    21249.7 0.41\n"
       ]
      },
      {
       "output_type": "stream",
       "stream": "stdout",
       "text": [
        "    505.61  21177.821    21176.6 0.38\n"
       ]
      },
      {
       "output_type": "stream",
       "stream": "stdout",
       "text": [
        "window:"
       ]
      },
      {
       "output_type": "stream",
       "stream": "stdout",
       "text": [
        "again:"
       ]
      },
      {
       "output_type": "stream",
       "stream": "stdout",
       "text": [
        "window:"
       ]
      },
      {
       "output_type": "stream",
       "stream": "stdout",
       "text": [
        "\u0007\n"
       ]
      },
      {
       "output_type": "stream",
       "stream": "stdout",
       "text": [
        "    547.53  20861.107    20860.3 1.20\n"
       ]
      },
      {
       "output_type": "stream",
       "stream": "stdout",
       "text": [
        "window:"
       ]
      },
      {
       "output_type": "stream",
       "stream": "stdout",
       "text": [
        "    547.53  20861.107    20860.3 1.20\n"
       ]
      },
      {
       "output_type": "stream",
       "stream": "stdout",
       "text": [
        "    540.96   20910.72 (   20909.6 0.33): "
       ]
      },
      {
       "output_type": "stream",
       "stream": "stdout",
       "text": [
        "    540.96   20910.72    20909.6 0.33\n"
       ]
      },
      {
       "output_type": "stream",
       "stream": "stdout",
       "text": [
        "    486.10   21324.91 (    21326. 0.16): "
       ]
      },
      {
       "output_type": "stream",
       "stream": "stdout",
       "text": [
        "    486.10   21324.91     21326. 0.16\n"
       ]
      },
      {
       "output_type": "stream",
       "stream": "stdout",
       "text": [
        "    505.61  21177.556    21176.6 0.38\n"
       ]
      },
      {
       "output_type": "stream",
       "stream": "stdout",
       "text": [
        "    565.13  20728.378     20729. 0.77\n"
       ]
      },
      {
       "output_type": "stream",
       "stream": "stdout",
       "text": [
        "    565.13  20728.378     20729. 0.77\n"
       ]
      },
      {
       "output_type": "stream",
       "stream": "stdout",
       "text": [
        "    565.13  20728.436     20729. 0.77\n"
       ]
      },
      {
       "output_type": "stream",
       "stream": "stdout",
       "text": [
        "window:"
       ]
      },
      {
       "output_type": "stream",
       "stream": "stdout",
       "text": [
        "    565.13  20728.436     20729. 0.77\n"
       ]
      },
      {
       "output_type": "stream",
       "stream": "stdout",
       "text": [
        "\n",
        "REIDENTIFY: NOAO/IRAF V2.16 klabrie@libellule.local Wed 10:17:13 28-Oct-2015\n"
       ]
      },
      {
       "output_type": "stream",
       "stream": "stdout",
       "text": [
        "  Reference image = wXdfS20150730S0263[SCI,1], New image = wXdfS20150730S0263[SCI,1], Refit = yes\n",
        "          Image Data    Found     Fit Pix Shift  User Shift  Z Shift      RMS\n"
       ]
      },
      {
       "output_type": "stream",
       "stream": "stdout",
       "text": [
        "wXdfS20150730S0263[SCI,1][707,*] 69/70   68/69     0.0297      -0.224  -1.2E-5    0.804\n"
       ]
      },
      {
       "output_type": "stream",
       "stream": "stdout",
       "text": [
        "wXdfS20150730S0263[SCI,1][707,*] 69/70   68/69     0.0297      -0.224  -1.2E-5    0.804\n"
       ]
      },
      {
       "output_type": "stream",
       "stream": "stdout",
       "text": [
        "wXdfS20150730S0263[SCI,1][697,*] 70/70   68/70     0.0129     -0.0981  -4.9E-6     0.74\n"
       ]
      },
      {
       "output_type": "stream",
       "stream": "stdout",
       "text": [
        "wXdfS20150730S0263[SCI,1][687,*] 70/70   68/70      0.111      -0.839  -4.6E-5    0.801\n"
       ]
      },
      {
       "output_type": "stream",
       "stream": "stdout",
       "text": [
        "wXdfS20150730S0263[SCI,1][677,*] 70/70   69/70      0.168       -1.27  -6.9E-5    0.828\n"
       ]
      },
      {
       "output_type": "stream",
       "stream": "stdout",
       "text": [
        "wXdfS20150730S0263[SCI,1][667,*] 70/70   67/70        0.2       -1.51  -8.1E-5    0.716\n"
       ]
      },
      {
       "output_type": "stream",
       "stream": "stdout",
       "text": [
        "wXdfS20150730S0263[SCI,1][657,*] 69/70   69/69      0.244       -1.84  -1.0E-4    0.838\n"
       ]
      },
      {
       "output_type": "stream",
       "stream": "stdout",
       "text": [
        "wXdfS20150730S0263[SCI,1][647,*] 70/70   69/70      0.295       -2.22  -1.2E-4    0.725\n"
       ]
      },
      {
       "output_type": "stream",
       "stream": "stdout",
       "text": [
        "wXdfS20150730S0263[SCI,1][637,*] 70/70   69/70      0.319        -2.4  -1.3E-4    0.867\n"
       ]
      },
      {
       "output_type": "stream",
       "stream": "stdout",
       "text": [
        "wXdfS20150730S0263[SCI,1][627,*] 70/70   67/70      0.376       -2.84  -1.5E-4    0.716\n"
       ]
      },
      {
       "output_type": "stream",
       "stream": "stdout",
       "text": [
        "wXdfS20150730S0263[SCI,1][617,*] 68/70   68/68      0.414       -3.12  -1.7E-4    0.903\n"
       ]
      },
      {
       "output_type": "stream",
       "stream": "stdout",
       "text": [
        "wXdfS20150730S0263[SCI,1][607,*] 69/70   67/69      0.417       -3.15  -1.7E-4    0.889\n"
       ]
      },
      {
       "output_type": "stream",
       "stream": "stdout",
       "text": [
        "wXdfS20150730S0263[SCI,1][597,*] 70/70   68/70      0.482       -3.63  -2.0E-4    0.786\n"
       ]
      },
      {
       "output_type": "stream",
       "stream": "stdout",
       "text": [
        "wXdfS20150730S0263[SCI,1][587,*] 70/70   68/70      0.505       -3.81  -2.1E-4    0.795\n"
       ]
      },
      {
       "output_type": "stream",
       "stream": "stdout",
       "text": [
        "wXdfS20150730S0263[SCI,1][577,*] 70/70   68/70      0.541       -4.08  -2.2E-4    0.777\n"
       ]
      },
      {
       "output_type": "stream",
       "stream": "stdout",
       "text": [
        "wXdfS20150730S0263[SCI,1][567,*] 69/70   69/69      0.637        -4.8  -2.6E-4    0.799\n"
       ]
      },
      {
       "output_type": "stream",
       "stream": "stdout",
       "text": [
        "wXdfS20150730S0263[SCI,1][557,*] 70/70   68/70      0.643       -4.84  -2.6E-4    0.772\n"
       ]
      },
      {
       "output_type": "stream",
       "stream": "stdout",
       "text": [
        "wXdfS20150730S0263[SCI,1][547,*] 70/70   68/70      0.699       -5.27  -2.9E-4    0.795\n"
       ]
      },
      {
       "output_type": "stream",
       "stream": "stdout",
       "text": [
        "wXdfS20150730S0263[SCI,1][537,*] 70/70   67/70      0.842       -6.34  -3.4E-4    0.841\n"
       ]
      },
      {
       "output_type": "stream",
       "stream": "stdout",
       "text": [
        "wXdfS20150730S0263[SCI,1][527,*] 69/70   67/69      0.876        -6.6  -3.6E-4    0.655\n"
       ]
      },
      {
       "output_type": "stream",
       "stream": "stdout",
       "text": [
        "wXdfS20150730S0263[SCI,1][517,*] 70/70   68/70      0.865       -6.52  -3.5E-4     0.71\n"
       ]
      },
      {
       "output_type": "stream",
       "stream": "stdout",
       "text": [
        "wXdfS20150730S0263[SCI,1][507,*] 70/70   68/70      0.909       -6.85  -3.7E-4    0.828\n"
       ]
      },
      {
       "output_type": "stream",
       "stream": "stdout",
       "text": [
        "wXdfS20150730S0263[SCI,1][497,*] 69/70   68/69      0.931       -7.02  -3.8E-4     0.84\n"
       ]
      },
      {
       "output_type": "stream",
       "stream": "stdout",
       "text": [
        "wXdfS20150730S0263[SCI,1][487,*] 69/70   67/69       1.05       -7.89  -4.3E-4    0.702\n"
       ]
      },
      {
       "output_type": "stream",
       "stream": "stdout",
       "text": [
        "wXdfS20150730S0263[SCI,1][477,*] 69/70   68/69       1.11       -8.37  -4.5E-4    0.783\n"
       ]
      },
      {
       "output_type": "stream",
       "stream": "stdout",
       "text": [
        "wXdfS20150730S0263[SCI,1][467,*] 70/70   67/70        1.1       -8.27  -4.5E-4    0.676\n"
       ]
      },
      {
       "output_type": "stream",
       "stream": "stdout",
       "text": [
        "wXdfS20150730S0263[SCI,1][457,*] 68/70   67/68       1.19       -8.99  -4.9E-4    0.801\n"
       ]
      },
      {
       "output_type": "stream",
       "stream": "stdout",
       "text": [
        "wXdfS20150730S0263[SCI,1][447,*] 70/70   69/70        1.2       -9.07  -4.9E-4     0.86\n"
       ]
      },
      {
       "output_type": "stream",
       "stream": "stdout",
       "text": [
        "wXdfS20150730S0263[SCI,1][437,*] 70/70   68/70       1.26       -9.46  -5.1E-4    0.795\n"
       ]
      },
      {
       "output_type": "stream",
       "stream": "stdout",
       "text": [
        "wXdfS20150730S0263[SCI,1][427,*] 70/70   69/70       1.29       -9.75  -5.3E-4    0.924\n"
       ]
      },
      {
       "output_type": "stream",
       "stream": "stdout",
       "text": [
        "wXdfS20150730S0263[SCI,1][417,*] 70/70   66/70       1.33        -10.  -5.4E-4    0.865\n"
       ]
      },
      {
       "output_type": "stream",
       "stream": "stdout",
       "text": [
        "wXdfS20150730S0263[SCI,1][407,*] 70/70   67/70       1.42       -10.7  -5.8E-4     0.82\n"
       ]
      },
      {
       "output_type": "stream",
       "stream": "stdout",
       "text": [
        "wXdfS20150730S0263[SCI,1][397,*] 69/70   69/69       1.56       -11.7  -6.4E-4    0.818\n"
       ]
      },
      {
       "output_type": "stream",
       "stream": "stdout",
       "text": [
        "wXdfS20150730S0263[SCI,1][387,*] 70/70   66/70       1.56       -11.7  -6.4E-4    0.734\n"
       ]
      },
      {
       "output_type": "stream",
       "stream": "stdout",
       "text": [
        "wXdfS20150730S0263[SCI,1][377,*] 69/70   64/69        1.6        -12.  -6.5E-4    0.632\n"
       ]
      },
      {
       "output_type": "stream",
       "stream": "stdout",
       "text": [
        "wXdfS20150730S0263[SCI,1][367,*] 69/70   66/69       1.72       -12.9  -7.0E-4     0.71\n"
       ]
      },
      {
       "output_type": "stream",
       "stream": "stdout",
       "text": [
        "wXdfS20150730S0263[SCI,1][357,*] 70/70   69/70       1.79       -13.5  -7.3E-4    0.813\n"
       ]
      },
      {
       "output_type": "stream",
       "stream": "stdout",
       "text": [
        "wXdfS20150730S0263[SCI,1][347,*] 70/70   69/70        1.8       -13.6  -7.4E-4    0.743\n"
       ]
      },
      {
       "output_type": "stream",
       "stream": "stdout",
       "text": [
        "wXdfS20150730S0263[SCI,1][337,*] 70/70   67/70       1.86        -14.  -7.6E-4    0.658\n"
       ]
      },
      {
       "output_type": "stream",
       "stream": "stdout",
       "text": [
        "wXdfS20150730S0263[SCI,1][327,*] 69/70   68/69         2.       -15.1  -8.2E-4    0.698\n"
       ]
      },
      {
       "output_type": "stream",
       "stream": "stdout",
       "text": [
        "wXdfS20150730S0263[SCI,1][317,*] 70/70   67/70       2.09       -15.7  -8.5E-4    0.797\n"
       ]
      },
      {
       "output_type": "stream",
       "stream": "stdout",
       "text": [
        "wXdfS20150730S0263[SCI,1][307,*] 68/70   68/68       2.11       -15.9  -8.6E-4    0.876\n"
       ]
      },
      {
       "output_type": "stream",
       "stream": "stdout",
       "text": [
        "wXdfS20150730S0263[SCI,1][297,*] 70/70   70/70        2.2       -16.6  -9.0E-4    0.745\n"
       ]
      },
      {
       "output_type": "stream",
       "stream": "stdout",
       "text": [
        "wXdfS20150730S0263[SCI,1][287,*] 70/70   67/70        2.3       -17.3  -9.4E-4    0.813\n"
       ]
      },
      {
       "output_type": "stream",
       "stream": "stdout",
       "text": [
        "wXdfS20150730S0263[SCI,1][277,*] 70/70   65/70       2.24       -16.9  -9.2E-4    0.833\n"
       ]
      },
      {
       "output_type": "stream",
       "stream": "stdout",
       "text": [
        "wXdfS20150730S0263[SCI,1][267,*] 70/70   68/70       2.34       -17.6  -9.5E-4     0.91\n"
       ]
      },
      {
       "output_type": "stream",
       "stream": "stdout",
       "text": [
        "wXdfS20150730S0263[SCI,1][257,*] 69/70   66/69        2.4       -18.1  -9.8E-4      0.7\n"
       ]
      },
      {
       "output_type": "stream",
       "stream": "stdout",
       "text": [
        "wXdfS20150730S0263[SCI,1][247,*] 69/70   67/69        2.5       -18.8   -0.001    0.847\n"
       ]
      },
      {
       "output_type": "stream",
       "stream": "stdout",
       "text": [
        "wXdfS20150730S0263[SCI,1][237,*] 69/70   67/69       2.63       -19.8  -0.0011    0.769\n"
       ]
      },
      {
       "output_type": "stream",
       "stream": "stdout",
       "text": [
        "wXdfS20150730S0263[SCI,1][227,*] 70/70   68/70       2.71       -20.5  -0.0011    0.751\n"
       ]
      },
      {
       "output_type": "stream",
       "stream": "stdout",
       "text": [
        "wXdfS20150730S0263[SCI,1][217,*] 69/70   66/69       2.79        -21.  -0.0011    0.819\n"
       ]
      },
      {
       "output_type": "stream",
       "stream": "stdout",
       "text": [
        "wXdfS20150730S0263[SCI,1][207,*] 69/70   67/69       2.85       -21.5  -0.0012     0.89\n"
       ]
      },
      {
       "output_type": "stream",
       "stream": "stdout",
       "text": [
        "wXdfS20150730S0263[SCI,1][197,*] 69/70   69/69       2.94       -22.2  -0.0012    0.962\n"
       ]
      },
      {
       "output_type": "stream",
       "stream": "stdout",
       "text": [
        "wXdfS20150730S0263[SCI,1][187,*] 70/70   69/70       3.06       -23.1  -0.0013    0.975\n"
       ]
      },
      {
       "output_type": "stream",
       "stream": "stdout",
       "text": [
        "wXdfS20150730S0263[SCI,1][177,*] 67/70   67/67       3.13       -23.6  -0.0013    0.914\n"
       ]
      },
      {
       "output_type": "stream",
       "stream": "stdout",
       "text": [
        "wXdfS20150730S0263[SCI,1][167,*] 69/70   66/69       3.18        -24.  -0.0013    0.814\n"
       ]
      },
      {
       "output_type": "stream",
       "stream": "stdout",
       "text": [
        "wXdfS20150730S0263[SCI,1][157,*] 69/70   67/69       3.27       -24.6  -0.0013    0.992\n"
       ]
      },
      {
       "output_type": "stream",
       "stream": "stdout",
       "text": [
        "wXdfS20150730S0263[SCI,1][147,*] 67/70   65/67       3.33       -25.1  -0.0014    0.839\n"
       ]
      },
      {
       "output_type": "stream",
       "stream": "stdout",
       "text": [
        "wXdfS20150730S0263[SCI,1][137,*] 66/70   65/66       3.45        -26.  -0.0014    0.708\n"
       ]
      },
      {
       "output_type": "stream",
       "stream": "stdout",
       "text": [
        "    ** Too many features lost **\n"
       ]
      },
      {
       "output_type": "stream",
       "stream": "stdout",
       "text": [
        "wXdfS20150730S0263[SCI,1][127,*] 69/70   66/69       3.46       -26.1  -0.0014    0.786\n"
       ]
      },
      {
       "output_type": "stream",
       "stream": "stdout",
       "text": [
        "wXdfS20150730S0263[SCI,1][117,*] 70/70   69/70       3.55       -26.7  -0.0014    0.777\n"
       ]
      },
      {
       "output_type": "stream",
       "stream": "stdout",
       "text": [
        "wXdfS20150730S0263[SCI,1][107,*] 70/70   68/70       3.77       -28.4  -0.0015    0.875\n"
       ]
      },
      {
       "output_type": "stream",
       "stream": "stdout",
       "text": [
        "wXdfS20150730S0263[SCI,1][97,*] 69/70   67/69       3.75       -28.3  -0.0015    0.859\n"
       ]
      },
      {
       "output_type": "stream",
       "stream": "stdout",
       "text": [
        "wXdfS20150730S0263[SCI,1][87,*] 69/70   68/69       3.82       -28.8  -0.0016    0.867\n"
       ]
      },
      {
       "output_type": "stream",
       "stream": "stdout",
       "text": [
        "wXdfS20150730S0263[SCI,1][77,*] 69/70   67/69       3.88       -29.2  -0.0016    0.889\n"
       ]
      },
      {
       "output_type": "stream",
       "stream": "stdout",
       "text": [
        "wXdfS20150730S0263[SCI,1][67,*] 70/70   68/70       3.98        -30.  -0.0016    0.804\n"
       ]
      },
      {
       "output_type": "stream",
       "stream": "stdout",
       "text": [
        "wXdfS20150730S0263[SCI,1][57,*] 70/70   67/70         4.       -30.1  -0.0016    0.813\n"
       ]
      },
      {
       "output_type": "stream",
       "stream": "stdout",
       "text": [
        "wXdfS20150730S0263[SCI,1][47,*] 69/70   65/69       4.11        -31.  -0.0017    0.704\n"
       ]
      },
      {
       "output_type": "stream",
       "stream": "stdout",
       "text": [
        "wXdfS20150730S0263[SCI,1][37,*] 69/70   66/69       4.31       -32.5  -0.0018    0.738\n"
       ]
      },
      {
       "output_type": "stream",
       "stream": "stdout",
       "text": [
        "wXdfS20150730S0263[SCI,1][27,*] 70/70   67/70       4.39       -33.1  -0.0018    0.865\n"
       ]
      },
      {
       "output_type": "stream",
       "stream": "stdout",
       "text": [
        "wXdfS20150730S0263[SCI,1][17,*] 70/70   68/70       4.47       -33.7  -0.0018    0.739\n"
       ]
      },
      {
       "output_type": "stream",
       "stream": "stdout",
       "text": [
        "wXdfS20150730S0263[SCI,1][7,*] 69/70   65/69       4.59       -34.6  -0.0019    0.758\n"
       ]
      },
      {
       "output_type": "stream",
       "stream": "stdout",
       "text": [
        "wXdfS20150730S0263[SCI,1][727,*] 69/70   69/69    -0.0418       0.315  1.72E-5     0.74\n"
       ]
      },
      {
       "output_type": "stream",
       "stream": "stdout",
       "text": [
        "wXdfS20150730S0263[SCI,1][737,*] 69/70   68/69    -0.0838       0.631  3.47E-5    0.719\n"
       ]
      },
      {
       "output_type": "stream",
       "stream": "stdout",
       "text": [
        "wXdfS20150730S0263[SCI,1][747,*] 70/70   67/70     -0.179        1.35  7.39E-5    0.715\n"
       ]
      },
      {
       "output_type": "stream",
       "stream": "stdout",
       "text": [
        "wXdfS20150730S0263[SCI,1][757,*] 70/70   69/70      -0.22        1.66  9.11E-5    0.788\n"
       ]
      },
      {
       "output_type": "stream",
       "stream": "stdout",
       "text": [
        "wXdfS20150730S0263[SCI,1][767,*] 70/70   69/70     -0.221        1.66  9.12E-5    0.725\n"
       ]
      },
      {
       "output_type": "stream",
       "stream": "stdout",
       "text": [
        "wXdfS20150730S0263[SCI,1][777,*] 70/70   69/70     -0.313        2.35  1.29E-4    0.738\n"
       ]
      },
      {
       "output_type": "stream",
       "stream": "stdout",
       "text": [
        "wXdfS20150730S0263[SCI,1][787,*] 70/70   69/70     -0.271        2.04  1.12E-4     0.74\n"
       ]
      },
      {
       "output_type": "stream",
       "stream": "stdout",
       "text": [
        "wXdfS20150730S0263[SCI,1][797,*] 70/70   69/70     -0.294        2.22  1.21E-4    0.844\n"
       ]
      },
      {
       "output_type": "stream",
       "stream": "stdout",
       "text": [
        "wXdfS20150730S0263[SCI,1][807,*] 70/70   68/70     -0.366        2.76  1.51E-4    0.693\n"
       ]
      },
      {
       "output_type": "stream",
       "stream": "stdout",
       "text": [
        "wXdfS20150730S0263[SCI,1][817,*] 70/70   70/70     -0.399        3.01  1.65E-4    0.829\n"
       ]
      },
      {
       "output_type": "stream",
       "stream": "stdout",
       "text": [
        "wXdfS20150730S0263[SCI,1][827,*] 70/70   68/70     -0.423        3.19  1.76E-4    0.732\n"
       ]
      },
      {
       "output_type": "stream",
       "stream": "stdout",
       "text": [
        "wXdfS20150730S0263[SCI,1][837,*] 70/70   69/70      -0.48        3.62  1.99E-4    0.753\n"
       ]
      },
      {
       "output_type": "stream",
       "stream": "stdout",
       "text": [
        "wXdfS20150730S0263[SCI,1][847,*] 70/70   70/70     -0.513        3.86  2.12E-4    0.825\n"
       ]
      },
      {
       "output_type": "stream",
       "stream": "stdout",
       "text": [
        "wXdfS20150730S0263[SCI,1][857,*] 69/70   69/69     -0.523        3.94  2.17E-4    0.715\n"
       ]
      },
      {
       "output_type": "stream",
       "stream": "stdout",
       "text": [
        "wXdfS20150730S0263[SCI,1][867,*] 69/70   68/69     -0.584         4.4  2.42E-4    0.786\n"
       ]
      },
      {
       "output_type": "stream",
       "stream": "stdout",
       "text": [
        "wXdfS20150730S0263[SCI,1][877,*] 70/70   68/70     -0.643        4.84  2.66E-4     0.82\n"
       ]
      },
      {
       "output_type": "stream",
       "stream": "stdout",
       "text": [
        "wXdfS20150730S0263[SCI,1][887,*] 66/70   62/66     -0.636        4.79  2.64E-4     1.12\n"
       ]
      },
      {
       "output_type": "stream",
       "stream": "stdout",
       "text": [
        "    ** Too many features lost **\n"
       ]
      },
      {
       "output_type": "stream",
       "stream": "stdout",
       "text": [
        "wXdfS20150730S0263[SCI,1][897,*] 64/70   55/64      -0.58        4.37  2.39E-4     2.09\n"
       ]
      },
      {
       "output_type": "stream",
       "stream": "stdout",
       "text": [
        "    ** Too many features lost **\n"
       ]
      },
      {
       "output_type": "stream",
       "stream": "stdout",
       "text": [
        "wXdfS20150730S0263[SCI,1][907,*] 70/70   63/70     -0.586        4.42  2.42E-4    0.891\n"
       ]
      },
      {
       "output_type": "stream",
       "stream": "stdout",
       "text": [
        "wXdfS20150730S0263[SCI,1][917,*] 69/70   68/69     -0.727        5.47  3.02E-4    0.745\n"
       ]
      },
      {
       "output_type": "stream",
       "stream": "stdout",
       "text": [
        "wXdfS20150730S0263[SCI,1][927,*] 70/70   69/70     -0.812        6.12  3.37E-4    0.704\n"
       ]
      },
      {
       "output_type": "stream",
       "stream": "stdout",
       "text": [
        "wXdfS20150730S0263[SCI,1][937,*] 70/70   68/70     -0.793        5.97  3.29E-4    0.769\n"
       ]
      },
      {
       "output_type": "stream",
       "stream": "stdout",
       "text": [
        "wXdfS20150730S0263[SCI,1][947,*] 70/70   68/70     -0.784        5.91  3.25E-4    0.746\n"
       ]
      },
      {
       "output_type": "stream",
       "stream": "stdout",
       "text": [
        "wXdfS20150730S0263[SCI,1][957,*] 69/70   69/69     -0.821        6.18  3.41E-4    0.789\n"
       ]
      },
      {
       "output_type": "stream",
       "stream": "stdout",
       "text": [
        "wXdfS20150730S0263[SCI,1][967,*] 70/70   70/70     -0.845        6.37  3.51E-4    0.936\n"
       ]
      },
      {
       "output_type": "stream",
       "stream": "stdout",
       "text": [
        "wXdfS20150730S0263[SCI,1][977,*] 70/70   69/70     -0.791        5.96  3.28E-4    0.968\n"
       ]
      },
      {
       "output_type": "stream",
       "stream": "stdout",
       "text": [
        "wXdfS20150730S0263[SCI,1][987,*] 70/70   69/70     -0.934        7.04  3.88E-4    0.848\n"
       ]
      },
      {
       "output_type": "stream",
       "stream": "stdout",
       "text": [
        "wXdfS20150730S0263[SCI,1][997,*] 70/70   69/70     -0.894        6.74  3.71E-4     1.01\n"
       ]
      },
      {
       "output_type": "stream",
       "stream": "stdout",
       "text": [
        "wXdfS20150730S0263[SCI,1][1007,*] 69/70   67/69     -0.909        6.85  3.77E-4    0.705\n"
       ]
      },
      {
       "output_type": "stream",
       "stream": "stdout",
       "text": [
        "wXdfS20150730S0263[SCI,1][1017,*] 69/70   68/69     -0.941        7.09  3.91E-4     0.83\n"
       ]
      },
      {
       "output_type": "stream",
       "stream": "stdout",
       "text": [
        "wXdfS20150730S0263[SCI,1][1027,*] 70/70   69/70     -0.874        6.59  3.63E-4    0.801\n"
       ]
      },
      {
       "output_type": "stream",
       "stream": "stdout",
       "text": [
        "wXdfS20150730S0263[SCI,1][1037,*] 70/70   68/70      -1.01        7.61  4.19E-4    0.795\n"
       ]
      },
      {
       "output_type": "stream",
       "stream": "stdout",
       "text": [
        "wXdfS20150730S0263[SCI,1][1047,*] 68/70   66/68     -0.935        7.05  3.87E-4     0.82\n"
       ]
      },
      {
       "output_type": "stream",
       "stream": "stdout",
       "text": [
        "wXdfS20150730S0263[SCI,1][1057,*] 70/70   67/70      -1.02        7.71  4.25E-4    0.688\n"
       ]
      },
      {
       "output_type": "stream",
       "stream": "stdout",
       "text": [
        "wXdfS20150730S0263[SCI,1][1067,*] 70/70   69/70      -1.05        7.92  4.38E-4    0.827\n"
       ]
      },
      {
       "output_type": "stream",
       "stream": "stdout",
       "text": [
        "wXdfS20150730S0263[SCI,1][1077,*] 69/70   69/69      -1.02         7.7  4.26E-4    0.744\n"
       ]
      },
      {
       "output_type": "stream",
       "stream": "stdout",
       "text": [
        "wXdfS20150730S0263[SCI,1][1087,*] 70/70   68/70      -1.08        8.17  4.51E-4    0.763\n"
       ]
      },
      {
       "output_type": "stream",
       "stream": "stdout",
       "text": [
        "wXdfS20150730S0263[SCI,1][1097,*] 70/70   68/70     -0.979        7.38  4.08E-4    0.831\n"
       ]
      },
      {
       "output_type": "stream",
       "stream": "stdout",
       "text": [
        "wXdfS20150730S0263[SCI,1][1107,*] 70/70   63/70      -1.09        8.23  4.55E-4    0.574\n"
       ]
      },
      {
       "output_type": "stream",
       "stream": "stdout",
       "text": [
        "wXdfS20150730S0263[SCI,1][1117,*] 70/70   70/70      -1.06        7.97  4.42E-4     0.83\n"
       ]
      },
      {
       "output_type": "stream",
       "stream": "stdout",
       "text": [
        "wXdfS20150730S0263[SCI,1][1127,*] 70/70   69/70      -1.06          8.  4.44E-4     0.72\n"
       ]
      },
      {
       "output_type": "stream",
       "stream": "stdout",
       "text": [
        "wXdfS20150730S0263[SCI,1][1137,*] 69/70   68/69      -1.07        8.08  4.48E-4    0.749\n"
       ]
      },
      {
       "output_type": "stream",
       "stream": "stdout",
       "text": [
        "wXdfS20150730S0263[SCI,1][1147,*] 70/70   68/70      -1.06        7.97  4.42E-4    0.728\n"
       ]
      },
      {
       "output_type": "stream",
       "stream": "stdout",
       "text": [
        "wXdfS20150730S0263[SCI,1][1157,*] 69/70   69/69      -1.11        8.37  4.64E-4    0.774\n"
       ]
      },
      {
       "output_type": "stream",
       "stream": "stdout",
       "text": [
        "wXdfS20150730S0263[SCI,1][1167,*] 70/70   69/70      -1.12        8.45  4.69E-4     0.63\n"
       ]
      },
      {
       "output_type": "stream",
       "stream": "stdout",
       "text": [
        "wXdfS20150730S0263[SCI,1][1177,*] 70/70   67/70      -1.19        8.94  4.96E-4    0.618\n"
       ]
      },
      {
       "output_type": "stream",
       "stream": "stdout",
       "text": [
        "wXdfS20150730S0263[SCI,1][1187,*] 70/70   67/70      -1.22        9.21  5.11E-4    0.665\n"
       ]
      },
      {
       "output_type": "stream",
       "stream": "stdout",
       "text": [
        "wXdfS20150730S0263[SCI,1][1197,*] 69/70   69/69      -1.18         8.9  4.95E-4    0.768\n"
       ]
      },
      {
       "output_type": "stream",
       "stream": "stdout",
       "text": [
        "wXdfS20150730S0263[SCI,1][1207,*] 70/70   66/70      -1.25        9.41  5.23E-4    0.654\n"
       ]
      },
      {
       "output_type": "stream",
       "stream": "stdout",
       "text": [
        "wXdfS20150730S0263[SCI,1][1217,*] 70/70   69/70      -1.25        9.41  5.24E-4    0.788\n"
       ]
      },
      {
       "output_type": "stream",
       "stream": "stdout",
       "text": [
        "wXdfS20150730S0263[SCI,1][1227,*] 69/70   69/69      -1.19        8.98  5.01E-4    0.741\n"
       ]
      },
      {
       "output_type": "stream",
       "stream": "stdout",
       "text": [
        "wXdfS20150730S0263[SCI,1][1237,*] 70/70   68/70      -1.26        9.51  5.30E-4    0.621\n"
       ]
      },
      {
       "output_type": "stream",
       "stream": "stdout",
       "text": [
        "wXdfS20150730S0263[SCI,1][1247,*] 70/70   68/70      -1.16        8.74  4.88E-4    0.774\n"
       ]
      },
      {
       "output_type": "stream",
       "stream": "stdout",
       "text": [
        "wXdfS20150730S0263[SCI,1][1257,*] 70/70   67/70      -1.27        9.59  5.34E-4    0.842\n"
       ]
      },
      {
       "output_type": "stream",
       "stream": "stdout",
       "text": [
        "wXdfS20150730S0263[SCI,1][1267,*] 69/70   68/69       -1.2        9.06  5.07E-4    0.715\n"
       ]
      },
      {
       "output_type": "stream",
       "stream": "stdout",
       "text": [
        "wXdfS20150730S0263[SCI,1][1277,*] 70/70   66/70      -1.17         8.8  4.93E-4    0.679\n"
       ]
      },
      {
       "output_type": "stream",
       "stream": "stdout",
       "text": [
        "wXdfS20150730S0263[SCI,1][1287,*] 70/70   70/70      -1.17        8.79  4.92E-4    0.823\n"
       ]
      },
      {
       "output_type": "stream",
       "stream": "stdout",
       "text": [
        "wXdfS20150730S0263[SCI,1][1297,*] 70/70   68/70      -1.12        8.43  4.73E-4    0.768\n"
       ]
      },
      {
       "output_type": "stream",
       "stream": "stdout",
       "text": [
        "wXdfS20150730S0263[SCI,1][1307,*] 70/70   67/70      -1.18        8.89  4.97E-4    0.653\n"
       ]
      },
      {
       "output_type": "stream",
       "stream": "stdout",
       "text": [
        "wXdfS20150730S0263[SCI,1][1317,*] 70/70   69/70      -1.19        8.93  5.01E-4    0.756\n"
       ]
      },
      {
       "output_type": "stream",
       "stream": "stdout",
       "text": [
        "wXdfS20150730S0263[SCI,1][1327,*] 70/70   68/70      -1.15        8.69  4.86E-4    0.728\n"
       ]
      },
      {
       "output_type": "stream",
       "stream": "stdout",
       "text": [
        "wXdfS20150730S0263[SCI,1][1337,*] 70/70   66/70      -1.15         8.7  4.88E-4     0.62\n"
       ]
      },
      {
       "output_type": "stream",
       "stream": "stdout",
       "text": [
        "wXdfS20150730S0263[SCI,1][1347,*] 70/70   67/70      -1.07        8.07  4.54E-4    0.684\n"
       ]
      },
      {
       "output_type": "stream",
       "stream": "stdout",
       "text": [
        "wXdfS20150730S0263[SCI,1][1357,*] 70/70   66/70      -1.14        8.59  4.83E-4    0.631\n"
       ]
      },
      {
       "output_type": "stream",
       "stream": "stdout",
       "text": [
        "wXdfS20150730S0263[SCI,1][1367,*] 70/70   68/70       -1.1        8.29  4.67E-4    0.899\n"
       ]
      },
      {
       "output_type": "stream",
       "stream": "stdout",
       "text": [
        "wXdfS20150730S0263[SCI,1][1377,*] 70/70   68/70      -1.06        7.99  4.50E-4    0.791\n"
       ]
      },
      {
       "output_type": "stream",
       "stream": "stdout",
       "text": [
        "wXdfS20150730S0263[SCI,1][1387,*] 70/70   69/70      -1.16        8.77  4.95E-4    0.766\n"
       ]
      },
      {
       "output_type": "stream",
       "stream": "stdout",
       "text": [
        "wXdfS20150730S0263[SCI,1][1397,*] 69/70   67/69      -1.05        7.93  4.49E-4    0.706\n"
       ]
      },
      {
       "output_type": "stream",
       "stream": "stdout",
       "text": [
        "wXdfS20150730S0263[SCI,1][1407,*] 70/70   68/70      -1.09        8.24  4.66E-4    0.716\n"
       ]
      },
      {
       "output_type": "stream",
       "stream": "stdout",
       "text": [
        "wXdfS20150730S0263[SCI,1][1417,*] 69/70   67/69      -1.05        7.93  4.49E-4    0.844\n"
       ]
      },
      {
       "output_type": "stream",
       "stream": "stdout",
       "text": [
        "wXdfS20150730S0263[SCI,1][1427,*] 69/70   66/69      -1.03        7.79  4.43E-4    0.705\n"
       ]
      },
      {
       "output_type": "stream",
       "stream": "stdout",
       "text": [
        "\n",
        "NSWHELPER Exit status good\n",
        "-------------------------------------------------------------------------------\n",
        "\n",
        "NSWAVELENGTH Exit status good\n",
        "-------------------------------------------------------------------------------\n"
       ]
      }
     ],
     "prompt_number": 7
    },
    {
     "cell_type": "heading",
     "level": 4,
     "metadata": {},
     "source": [
      "Apply this solution to the non-sky subtracted frame"
     ]
    },
    {
     "cell_type": "markdown",
     "metadata": {},
     "source": [
      "Most likely the `lxorder` and `lyorder` should be same as for the arc solution given that this must be a function of the optics. I (Kathleen) did run nsfitcoords interactively in a PyRAF session and I confirm that `lxorder` 3 and `lyorder` 8 are required even with the OH line solution. No need to run it interactively anymore."
     ]
    },
    {
     "cell_type": "code",
     "collapsed": true,
     "input": [
      "iraf.imdelete('fXdf'+first_tel, verify='no')\n",
      "iraf.nsfitcoords ('Xdf'+first_tel, lamptransf='wXdf'+first_tel+'.fits', \\\n",
      "                  lxorder=lxorder, lyorder=lyorder, fl_inter='no')\n",
      "\n",
      "iraf.imdelete('tfXdf'+first_tel, verify='no')\n",
      "iraf.nstransform('fXdf'+first_tel)"
     ],
     "language": "python",
     "metadata": {},
     "outputs": [
      {
       "output_type": "stream",
       "stream": "stdout",
       "text": [
        "-------------------------------------------------------------------------------\n",
        "NSFITCOORDS -- Wed Oct 28 10:17:51 HST 2015\n",
        "\n",
        "Using input files:"
       ]
      },
      {
       "output_type": "stream",
       "stream": "stdout",
       "text": [
        "\n",
        "XdfS20150730S0263\n"
       ]
      },
      {
       "output_type": "stream",
       "stream": "stdout",
       "text": [
        "Using output files:\n",
        "fXdfS20150730S0263\n"
       ]
      },
      {
       "output_type": "stream",
       "stream": "stdout",
       "text": [
        "NSFITCOORDS: Fitnames for XdfS20150730S0263: fXdfS20150730S0263_SCI_1_lamp\n"
       ]
      },
      {
       "output_type": "stream",
       "stream": "stdout",
       "text": [
        "NSFITCOORDS: Exit status good\n",
        "-------------------------------------------------------------------------------\n"
       ]
      },
      {
       "output_type": "stream",
       "stream": "stdout",
       "text": [
        "-------------------------------------------------------------------------------\n",
        "NSTRANSFORM -- Wed Oct 28 10:17:53 HST 2015\n",
        "\n",
        "Using input files:"
       ]
      },
      {
       "output_type": "stream",
       "stream": "stdout",
       "text": [
        "\n",
        "fXdfS20150730S0263\n"
       ]
      },
      {
       "output_type": "stream",
       "stream": "stdout",
       "text": [
        "Using output files:\n",
        "tfXdfS20150730S0263\n"
       ]
      },
      {
       "output_type": "stream",
       "stream": "stdout",
       "text": [
        "NSTRANSFORM: Fitnames for fXdfS20150730S0263: fXdfS20150730S0263_SCI_1_lamp\n",
        "WARNING - NSTRANSFORM: No MDF in fXdfS20150730S0263"
       ]
      },
      {
       "output_type": "stream",
       "stream": "stdout",
       "text": [
        "\n"
       ]
      },
      {
       "output_type": "stream",
       "stream": "stdout",
       "text": [
        "NSTRANSFORM: Exit status good\n",
        "-------------------------------------------------------------------------------\n"
       ]
      }
     ],
     "prompt_number": 8
    },
    {
     "cell_type": "markdown",
     "metadata": {},
     "source": [
      "Verify if the OH lines are showing up in the right position.\n",
      "\n",
      "    first_tel = iraf.head('tel.lis', nlines=1, Stdout=1)[0].strip()\n",
      "    iraf.splot ('tfXdf'+first_tel+'[sci,1]', line=750)\n",
      "    # line=750 is just somewhere in the middle.\n",
      "    # :nsum 30\n",
      "    # Use 'k' again and sky line plots and lists to check position\n",
      "    #  of the sky lines.\n",
      "    \n",
      "Resources:  \n",
      "[http://www.ukirt.hawaii.edu/astronomy/calib/spec_cal/oh.html](http://www.ukirt.hawaii.edu/astronomy/calib/spec_cal/oh.html)  \n",
      "[http://www.ukirt.hawaii.edu/astronomy/calib/spec_cal/ohlines.html](http://www.ukirt.hawaii.edu/astronomy/calib/spec_cal/ohlines.html)  \n"
     ]
    },
    {
     "cell_type": "markdown",
     "metadata": {},
     "source": [
      "**RESULTS**\n",
      "\n",
      "Not perfect, but significantly better than with the arc. The same pattern is measured but with a much lower amplitude. The central section is quite flat, unlike for the arc where there's a clearly visible correlation and steep slope.\n",
      "\n",
      "** <font color='red'>We will use the solution from the OH lines.</font> **"
     ]
    },
    {
     "cell_type": "heading",
     "level": 3,
     "metadata": {},
     "source": [
      "16.3 Apply the telluric arc solution"
     ]
    },
    {
     "cell_type": "code",
     "collapsed": true,
     "input": [
      "# Select either the arc or the OH solution for 'wavesolution'\n",
      "\n",
      "#wavesolution = 'wtelarc.fits'\n",
      "wavesolution = 'wXdf'+first_tel+'.fits'\n",
      "\n",
      "print 'Using lxorder, lyorder = ', lxorder, lyorder\n",
      "iraf.imdelete('ftel_comb.fits', verify='no')\n",
      "iraf.nsfitcoords('tel_comb.fits', lamptransf=wavesolution, \\\n",
      "                 lxorder=lxorder, lyorder=lyorder, fl_inter='no')\n",
      "\n",
      "iraf.imdelete ('tftel_comb.fits', verify='no')\n",
      "iraf.nstransform ('ftel_comb.fits')"
     ],
     "language": "python",
     "metadata": {},
     "outputs": [
      {
       "output_type": "stream",
       "stream": "stdout",
       "text": [
        "Using lxorder, lyorder =  3 8\n",
        "-------------------------------------------------------------------------------"
       ]
      },
      {
       "output_type": "stream",
       "stream": "stdout",
       "text": [
        "\n",
        "NSFITCOORDS -- Wed Oct 28 14:52:11 HST 2015"
       ]
      },
      {
       "output_type": "stream",
       "stream": "stdout",
       "text": [
        "\n",
        "\n",
        "Using input files:"
       ]
      },
      {
       "output_type": "stream",
       "stream": "stdout",
       "text": [
        "\n",
        "tel_comb\n"
       ]
      },
      {
       "output_type": "stream",
       "stream": "stdout",
       "text": [
        "Using output files:\n",
        "ftel_comb\n"
       ]
      },
      {
       "output_type": "stream",
       "stream": "stdout",
       "text": [
        "NSFITCOORDS: Fitnames for tel_comb: ftel_comb_SCI_1_lamp\n"
       ]
      },
      {
       "output_type": "stream",
       "stream": "stdout",
       "text": [
        "NSFITCOORDS: Exit status good\n",
        "-------------------------------------------------------------------------------\n"
       ]
      },
      {
       "output_type": "stream",
       "stream": "stdout",
       "text": [
        "-------------------------------------------------------------------------------\n",
        "NSTRANSFORM -- Wed Oct 28 14:52:14 HST 2015"
       ]
      },
      {
       "output_type": "stream",
       "stream": "stdout",
       "text": [
        "\n",
        "\n",
        "Using input files:"
       ]
      },
      {
       "output_type": "stream",
       "stream": "stdout",
       "text": [
        "\n",
        "ftel_comb\n"
       ]
      },
      {
       "output_type": "stream",
       "stream": "stdout",
       "text": [
        "Using output files:\n",
        "tftel_comb\n"
       ]
      },
      {
       "output_type": "stream",
       "stream": "stdout",
       "text": [
        "NSTRANSFORM: Fitnames for ftel_comb: ftel_comb_SCI_1_lamp\n",
        "WARNING - NSTRANSFORM: No MDF in ftel_comb"
       ]
      },
      {
       "output_type": "stream",
       "stream": "stdout",
       "text": [
        "\n"
       ]
      },
      {
       "output_type": "stream",
       "stream": "stdout",
       "text": [
        "NSTRANSFORM: Exit status good\n",
        "-------------------------------------------------------------------------------\n"
       ]
      }
     ],
     "prompt_number": 9
    },
    {
     "cell_type": "code",
     "collapsed": true,
     "input": [
      "iraf.display('tftel_comb.fits[sci,1]', 1)"
     ],
     "language": "python",
     "metadata": {},
     "outputs": [
      {
       "output_type": "stream",
       "stream": "stdout",
       "text": [
        "z1=-24.41938 z2=24.46832\n"
       ]
      }
     ],
     "prompt_number": 11
    },
    {
     "cell_type": "markdown",
     "metadata": {},
     "source": [
      "Check that the spectral features (the hydrogen lines in this case) fall where they are supposed to be.\n",
      "\n",
      "Cut an paste these instructions in the PyRAF session.  (The splot interactive '<code>:</code>'-commands do not work well from the notebook.)\n",
      "\n",
      "    iraf.display ('tftel_comb[sci,1]', 1)\n",
      "    # note on which column the telluric falls\n",
      "    iraf.tel_position = 892\n",
      "    \n",
      "    splot (\"tftel_comb[sci,1]\", line=iraf.tel_position)\n",
      "    # :nsum 30\n",
      "    # Use 'k' on each side of the a line to centroid.\n",
      "    # Compare with atomic line list.\n",
      "\n",
      "** RESULTS **\n",
      "\n",
      "Not perfect, but that's probably expected since the lines are also affected by telluric features.  More importantly, there is no systematic offset or pattern in the residuals."
     ]
    },
    {
     "cell_type": "heading",
     "level": 2,
     "metadata": {},
     "source": [
      "STEP 17: Extract the telluric spectrum"
     ]
    },
    {
     "cell_type": "markdown",
     "metadata": {},
     "source": [
      "We run <code>nsextract</code> in non-interactive mode since the telluric is quite bright.  (Running it in interactive mode does confirm that the automatic aperture selection is coincident with the telluric spectrum.)"
     ]
    },
    {
     "cell_type": "code",
     "collapsed": true,
     "input": [
      "iraf.imdelete('xtftel_comb.fits', verify='no')\n",
      "iraf.nsextract('tftel_comb.fits', fl_apall='yes', fl_findneg='no', \\\n",
      "    fl_inter='no', fl_trace='yes')\n",
      "\n",
      "iraf.splot ('xtftel_comb.fits[SCI,1]')"
     ],
     "language": "python",
     "metadata": {},
     "outputs": [
      {
       "output_type": "stream",
       "stream": "stdout",
       "text": [
        "-------------------------------------------------------------------------------\n",
        "NSEXTRACT -- Wed Oct 28 15:09:11 HST 2015\n",
        " \n"
       ]
      },
      {
       "output_type": "stream",
       "stream": "stdout",
       "text": [
        "WARNING - NSEXTRACT: Output variance planes derived from apall rather than input variance plane.\n",
        "Using input files:\n",
        "tftel_comb 1 no\n"
       ]
      },
      {
       "output_type": "stream",
       "stream": "stdout",
       "text": [
        "Using output files:\n",
        "xtftel_comb\n"
       ]
      },
      {
       "output_type": "stream",
       "stream": "stdout",
       "text": [
        "\n",
        "Searching aperture database ...\n"
       ]
      },
      {
       "output_type": "stream",
       "stream": "stdout",
       "text": [
        "Finding apertures ...\n"
       ]
      },
      {
       "output_type": "stream",
       "stream": "stdout",
       "text": [
        "Oct 28 15:09: FIND - 1 apertures found for tmpscivar918_84\n"
       ]
      },
      {
       "output_type": "stream",
       "stream": "stdout",
       "text": [
        "Resizing apertures ...\n"
       ]
      },
      {
       "output_type": "stream",
       "stream": "stdout",
       "text": [
        "Oct 28 15:09: APRESIZE  - 1 apertures resized for tmpscivar918_84 (-3.89, 4.17)\n"
       ]
      },
      {
       "output_type": "stream",
       "stream": "stdout",
       "text": [
        "Tracing apertures ...\n"
       ]
      },
      {
       "output_type": "stream",
       "stream": "stdout",
       "text": [
        "Oct 28 15:09: TRACE - Trace of aperture 1 in tmpscivar918_84 lost at line 1590.\n"
       ]
      },
      {
       "output_type": "stream",
       "stream": "stdout",
       "text": [
        "Oct 28 15:09: TRACE - 1 apertures traced in tmpscivar918_84.\n"
       ]
      },
      {
       "output_type": "stream",
       "stream": "stdout",
       "text": [
        "Oct 28 15:09: DATABASE - 1 apertures for tmpscivar918_84 written to HK221750_database\n"
       ]
      },
      {
       "output_type": "stream",
       "stream": "stdout",
       "text": [
        "Extracting apertures ...\n"
       ]
      },
      {
       "output_type": "stream",
       "stream": "stdout",
       "text": [
        "Oct 28 15:09: EXTRACT - Aperture 1 from tmpscivar918_84 --> tmpspeca918_72\n"
       ]
      },
      {
       "output_type": "stream",
       "stream": "stdout",
       "text": [
        "Searching aperture database ...\n"
       ]
      },
      {
       "output_type": "stream",
       "stream": "stdout",
       "text": [
        "Oct 28 15:09: DATABASE  - 1 apertures read for tmpscivar918_84 from HK221750_database\n"
       ]
      },
      {
       "output_type": "stream",
       "stream": "stdout",
       "text": [
        "Oct 28 15:09: DATABASE - 1 apertures for tftel_comb[DQ,1] written to HK221750_database\n"
       ]
      },
      {
       "output_type": "stream",
       "stream": "stdout",
       "text": [
        "Extracting apertures ...\n"
       ]
      },
      {
       "output_type": "stream",
       "stream": "stdout",
       "text": [
        "Oct 28 15:09: EXTRACT - Aperture 1 from tftel_comb[DQ,1] --> tmpspecdqa918_76\n"
       ]
      },
      {
       "output_type": "stream",
       "stream": "stdout",
       "text": [
        "NSEXTRACT: Aperture centre at 899.7426,500.0\n",
        "NSEXTRACT: S/N for xtftel_comb: "
       ]
      },
      {
       "output_type": "stream",
       "stream": "stdout",
       "text": [
        "\n",
        "           from variance array:     57.24"
       ]
      },
      {
       "output_type": "stream",
       "stream": "stdout",
       "text": [
        "\n",
        "           from smoothed spectrum:   4.38"
       ]
      },
      {
       "output_type": "stream",
       "stream": "stdout",
       "text": [
        "\n",
        "\n",
        "NSEXTRACT: Exit status good\n",
        "-------------------------------------------------------------------------------\n"
       ]
      }
     ],
     "prompt_number": 12
    },
    {
     "cell_type": "markdown",
     "metadata": {},
     "source": [
      "This telluric spectrum will be used later.  It will then need to be corrected to remove the stellar features either by fitting Voight profiles on each hydrogen line and removing each feature, or by fitting a stellar model to it."
     ]
    },
    {
     "cell_type": "heading",
     "level": 2,
     "metadata": {},
     "source": [
      "STEP 18: Apply the telluric correction to the science spectrum"
     ]
    },
    {
     "cell_type": "markdown",
     "metadata": {},
     "source": [
      "<font color='red'>WARNING:   THIS STEP DO NOT WORK WELL.  The simple `rmfeature` tool cannot do a good job at matching the features in the H-band.  We need to develop software to either 1) fit a model stellar spectrum and remove that, or 2) fit a model of the telluric features, remove that, use `rmfeature` to get the line fits, then `rmfeature` with input parameters on the original telluric. \n",
      "\n",
      "This section will need to be rewritten once we have implemented and tested the tool(s).</font>"
     ]
    },
    {
     "cell_type": "markdown",
     "metadata": {},
     "source": [
      "----"
     ]
    },
    {
     "cell_type": "markdown",
     "metadata": {},
     "source": [
      "No matter what standard star you observed for the telluric correction, there will be stellar features in the spectrum.  There are two ways to remove the stellar features from the telluric spectrum:  1) fit a line profile to and remove each stellar feature from the telluric spectrum; 2) use a stellar model, resample, scale, and subtract it from the telluric to remove the stellar features.\n",
      "\n",
      "The stellar model option is possibly better, but whether it is necessary is still unclear (circa Oct 2015).  The question is whether we need to fit a blackbody to the telluric to properly calibrate the science spectrum.  (Depends a bit on the science, I (KL) think).   <code>nstelluric</code> does fit the continuum of the telluric and of the science to scale the standard.  Is this sufficient?   TBD.\n",
      "\n",
      "**Note**: The telluric star for this observation is a B5V star. \n",
      "\n",
      "For now, we use `rmfeature` to fit a Voight profile to each hydrogen feature and remove it from the telluric spectrum.  The procedure is a bit tedious because of the very clunky nature of `rmfeature` but it does work in the end, with a bit of patience."
     ]
    },
    {
     "cell_type": "heading",
     "level": 3,
     "metadata": {},
     "source": [
      "Remove stellar features from telluric spectrum."
     ]
    },
    {
     "cell_type": "markdown",
     "metadata": {},
     "source": [
      "The stellar features we have to deal with are hydrogen absorption lines.  There's only one in the K-band, but there are quite a few in the H-band.  We start from the red-end and make our way to the bluest hydrogen we can identify and fit.\n",
      "\n",
      "There are two approaches to deal with the stellar features:\n",
      "1. manual removal by fitting Voight profiles to the features\n",
      "1. use of a stellar model.\n",
      "\n",
      "Right now, since we do not have a procedure to resample and scale the stellar model, we will remove the features manually with a custom-made python scripts `rmfeature`.  Note that apparently there are tools in IRAF to do that type of removal, and also the deal with the stellar model, but I (Kathleen) have no idea what those are or how to use them. "
     ]
    },
    {
     "cell_type": "heading",
     "level": 4,
     "metadata": {},
     "source": [
      "Manual removal of features with Voigt profile"
     ]
    },
    {
     "cell_type": "markdown",
     "metadata": {},
     "source": [
      "Stellar features listed here are for an A0V star and may need to be updated for other stellar types (e.g. A3V, B5V)  [Probably not though.]\n",
      "\n",
      "The stellar features (vacuum) are (in $\\unicode[serif]{xC5}$) : 21661[1], 17367[2], 16811[3], 16412[4], 16114[5], 15885[6], 15705[7], 15561[clean].\n",
      "\n",
      "We are not correcting for 15196, 15265, 15346, 15443 as they are really lost in the noise/telluric absorption.\n",
      "\n",
      "In a terminal, run `rmfeature`:\n",
      "\n",
      "    rmfeature xtftel_comb.fits tel_tmp1.fits\n",
      "\n",
      "Removal of hydrogen lines:\n",
      "\n",
      "    Line          pixel1, pixel2, comment \n",
      "\n",
      "    15196 [Br]\n",
      "\n",
      "    15265 [Br]\n",
      "\n",
      "    15346 [Br]\n",
      "\n",
      "    15443 [Br]\n",
      "\n",
      "    15561 [Br]\n",
      "\n",
      "    15705 [Br]\n",
      "\n",
      "    15885 [Br]  370, 400 Manually set the function:\n",
      "                   --init 22750 -3 12500 386 -8 0.0066\n",
      "                   It was impossible to get a good fit automatically.\n",
      "                   tel_tmp5 -> tel_tmp6\n",
      "\n",
      "    16114 [Br]  393, 460, Manually set the function:\n",
      "                   --init 32750 -28.0 -55000 415.8 11.5 0.00008\n",
      "                   It was impossible to get a good fit automatically.\n",
      "                   The fit is particularly important since the Pa_delta \n",
      "                   line in the source is co-located.\n",
      "                   tel_tmp4 -> tel_tmp5\n",
      "\n",
      "    16412 [Br]  446, 475, tel_tmp3 -> tel_tmp4\n",
      "\n",
      "    16811 [Br]  492, 532, tel_tmp2 -> tel_tmp3\n",
      "\n",
      "    17367 [Br]  546, 597, tel_tmp1 -> tel_tmp2\n",
      "\n",
      "    21661 [Br]  1122, 1177, xtftel_comb.fits -> tel_tmp1\n"
     ]
    },
    {
     "cell_type": "heading",
     "level": 4,
     "metadata": {},
     "source": [
      "Creation of a blackbody"
     ]
    },
    {
     "cell_type": "markdown",
     "metadata": {},
     "source": [
      "The telluric star is HIP 112790.  It is a B5V star with an approximate temperature of $15,400 K$.\n",
      "\n",
      "Resource for temperatures:  \n",
      "[http://www.ukirt.hawaii.edu/astronomy/utils/temp.html](http://www.ukirt.hawaii.edu/astronomy/utils/temp.html)\n",
      "\n",
      "First, we figure out the start and end wavelength, and the sampling we require to match the science spectrum.  Then we create the blackbody spectrum and convert it into a MEF file.  This will allow us to keep propagating the variance plane."
     ]
    },
    {
     "cell_type": "code",
     "collapsed": true,
     "input": [
      "iraf.wspectext('xtfobj_comb.fits[sci,1]', 'xtfobj_comb.txt', header='no')\n",
      "wstart = int(round(float(iraf.head('xtfobj_comb.txt', nlines=1, Stdout=1)[0].split()[0])))\n",
      "wend = int(round(float(iraf.tail('xtfobj_comb.txt', nlines=1, Stdout=1)[0].split()[0])))\n",
      "nsamples = int(iraf.hselect('xtfobj_comb.fits[sci,1]', 'NAXIS1', 'yes', Stdout=1)[0])\n",
      "\n",
      "print 'Start wavelength: ', wstart\n",
      "print 'End wavelength: ', wend\n",
      "print 'Number of samples: ', nsamples"
     ],
     "language": "python",
     "metadata": {},
     "outputs": []
    },
    {
     "cell_type": "code",
     "collapsed": true,
     "input": [
      "iraf.imdelete('B5V_blackbody_sci.fits', verify='no')\n",
      "iraf.mk1dspec('B5V_blackbody_sci.fits', ncols=nsamples, \\\n",
      "              wstart=wstart, wend=wend, temperature=10700)\n",
      "iraf.splot('B5V_blackbody_sci.fits')\n",
      "\n",
      "iraf.imdelete('B5V_blackbody_var.fits', verify='no')\n",
      "iraf.imdelete('B5V_blackbody_dq.fits', verify='no')\n",
      "from astropy.io import fits\n",
      "import numpy as np\n",
      "bb_sci = fits.open('B5V_blackbody_sci.fits')\n",
      "bb_var = fits.HDUList()\n",
      "bb_var.append(fits.ImageHDU())\n",
      "bb_var[0].header = bb_sci[0].header\n",
      "bb_var[0].data = np.zeros(bb_sci[0].data.size, dtype=np.float32)\n",
      "bb_var.writeto('B5V_blackbody_var.fits')\n",
      "bb_dq = fits.HDUList()\n",
      "bb_dq.append(fits.ImageHDU())\n",
      "bb_dq[0].header = bb_sci[0].header\n",
      "bb_dq[0].data = np.zeros(bb_sci[0].data.size, dtype=np.float32)\n",
      "bb_dq.writeto('B5V_blackbody_dq.fits')\n",
      "bb_sci.close()\n",
      "\n",
      "iraf.imdelete('B5V_blackbody.fits', verify='no')\n",
      "iraf.wmef('B5V_blackbody_sci.fits,B5V_blackbody_var.fits,B5V_blackbody_dq.fits',\\\n",
      "          'B5V_blackbody.fits')\n",
      "\n",
      "iraf.fxhead('B5V_blackbody.fits')"
     ],
     "language": "python",
     "metadata": {},
     "outputs": []
    },
    {
     "cell_type": "heading",
     "level": 3,
     "metadata": {},
     "source": [
      "Use the clean telluric to correct the science spectrum"
     ]
    },
    {
     "cell_type": "markdown",
     "metadata": {},
     "source": [
      "We will try two approaches:\n",
      "1. `nstelluric` approach\n",
      "1. manual approach\n",
      "\n",
      "Spoiler warning: The `nstelluric` approach gives significantly better results (less noisy and more accurate continuum shape).   See the **Discussion** section below, after the **Manual approach** section."
     ]
    },
    {
     "cell_type": "heading",
     "level": 4,
     "metadata": {},
     "source": [
      "The `nstelluric` approach"
     ]
    },
    {
     "cell_type": "markdown",
     "metadata": {},
     "source": [
      "`nstelluric` normalize the telluric and the science, and then cross-correlate the two to find first the shift in pixel between the two, and then the necessary scaling factor.  Part of the scaling factor applied to the telluric is the airmass ratio.  Then, the shifted and scaled normalized telluric is divided from the non-normalized science.\n",
      "\n",
      "**Procedure**  \n",
      "Fit the continuum of the telluric and the science to scale the two to each other.  Use only the H-band and K-band regions, ignore the regions where the atmosphere is opaque.  Use the `s` option in `nstelluric` to define the regions to use (ie. the \"sample\"), or `:sample` to enter the regions precisely.\n",
      "\n",
      "Run this interactive task in a PyRAF session.  See screenshots below to get an idea of what it should look like.\n",
      "\n",
      "    iraf.imdelete('axtfobj_comb.fits', verify='no')\n",
      "    iraf.nstelluric('xtfobj_comb.fits', 'tel_clean', fitorder=12, \\\n",
      "        threshold=0.01, fl_inter='yes')\n",
      "        \n",
      "The order used to fit the telluric is: 5  \n",
      "The order used to fit the science is: 5  # same as for the telluric.  \n",
      "Scale: 1  \n",
      "Shift: -1.25  \n",
      "Sample: 19:62 311:643 1054:1540 - how do I get this from using s in pyraf?\n",
      "\n",
      "Given that the arc solution is different from the science and for the telluric, a slight shift is probably expected. \n",
      "\n",
      "Fitting the telluric:  \n",
      "![SC-HK-nstelluric_telfit](screenshots/SC-HK-nstelluric_telfit.png)\n",
      "<br \\>\n",
      "Fitting the science target:  \n",
      "![SC-HK-nstelluric_objfit](screenshots/SC-HK-nstelluric_objfit.png)\n",
      "<br \\>\n",
      "The next window is for adjusting the cross-correlation solution, if needed.  In this case, after a bit of exploration of the parameter space, we find that the automatic solution is the best.  A good area to focus on is the $2\\mu$ region.\n",
      "![SC-HK-nstelluric_cross](screenshots/SC-HK-nstelluric_cross.png)\n",
      "<br \\>\n",
      "Zooming on the $2\\mu$ region.  See how the strong telluric features gets cleanly canceled.\n",
      "![SC-HK-nstelluric_cross_zoom](screenshots/SC-HK-nstelluric_cross_zoom.png)\n",
      "<br \\>\n",
      "<br \\>\n",
      "\n",
      "    iraf.splot('axtfobj_comb.fits[SCI,1]', ymin=-200, ymax=1000)\n",
      "    \n",
      "    iraf.specplot('xtfobj_comb.fits[sci,1],axtfobj_comb.fits[sci,1],\\\n",
      "        tel_clean.fits[sci,1]', fraction=0.05, yscale='yes', ymin=-100,\\\n",
      "        ymax=4000)\n"
     ]
    },
    {
     "cell_type": "markdown",
     "metadata": {},
     "source": [
      "The telluric spectrum, ie. the spectrum of a star, was divided into the science spectrum.  This means that to recover the correct continuum for the science spectrum one needs to multiply the science spectrum with a blackbody (if rmfeature was used), or a stellar model (if rmfeature was not used.)"
     ]
    },
    {
     "cell_type": "code",
     "collapsed": true,
     "input": [
      "iraf.imdelete('axtfobj_bb.fits', verify='no')\n",
      "iraf.gemarith('axtfobj_comb.fits','*', 'B5V_blackbody.fits', \\\n",
      "              'axtfobj_bb.fits', fl_vardq='yes')"
     ],
     "language": "python",
     "metadata": {},
     "outputs": []
    },
    {
     "cell_type": "code",
     "collapsed": true,
     "input": [
      "iraf.splot('axtfobj_bb.fits[sci,1]', ymin=-20000, ymax=300000)"
     ],
     "language": "python",
     "metadata": {},
     "outputs": []
    },
    {
     "cell_type": "markdown",
     "metadata": {},
     "source": [
      "![SC-HK_nstelluric](screenshots/SC-HK-nstelluric.png)"
     ]
    },
    {
     "cell_type": "markdown",
     "metadata": {},
     "source": [
      "During the extraction, some 2D WCS are not being cleaned up correctly.  Here is how to remove the 2D info from what is now a 1D spectrum."
     ]
    },
    {
     "cell_type": "code",
     "collapsed": true,
     "input": [
      "iraf.hedit('axtfobj_bb.fits[sci,1]', 'CD2_2', delete='yes',\\\n",
      "            verify='no',update='yes')\n",
      "iraf.hedit('axtfobj_bb.fits[sci,1]', 'CTYPE2', delete='yes',\\\n",
      "           verify='no',update='yes')\n",
      "iraf.hedit('axtfobj_bb.fits[sci,1]', 'LTM2_2', delete='yes',\\\n",
      "           verify='no',update='yes')\n",
      "iraf.hedit('axtfobj_bb.fits[var,1]', 'CD2_2', delete='yes',\\\n",
      "           verify='no',update='yes')\n",
      "iraf.hedit('axtfobj_bb.fits[var,1]', 'CTYPE2', delete='yes',\\\n",
      "           verify='no',update='yes')\n",
      "iraf.hedit('axtfobj_bb.fits[var,1]', 'LTM2_2', delete='yes',\\\n",
      "           verify='no',update='yes')"
     ],
     "language": "python",
     "metadata": {},
     "outputs": []
    },
    {
     "cell_type": "markdown",
     "metadata": {},
     "source": [
      "Using Kathleen's Python <code>splot</code> in a shell, plot the final spectrum with line identifcation and with an overplot of the error."
     ]
    },
    {
     "cell_type": "code",
     "collapsed": true,
     "input": [
      "!splot axtfobj_bb.fits -l quasar -z 0.60065 -y -25000 250000 --variance 2"
     ],
     "language": "python",
     "metadata": {},
     "outputs": []
    },
    {
     "cell_type": "heading",
     "level": 4,
     "metadata": {},
     "source": [
      "The manual approach"
     ]
    },
    {
     "cell_type": "markdown",
     "metadata": {},
     "source": [
      "Here we do not do any shifting or scaling or airmass correction.  We divide by the telluric standard and multiply by the blackbody."
     ]
    },
    {
     "cell_type": "code",
     "collapsed": true,
     "input": [
      "iraf.imdelete('xtfobj_telrm.fits', verify='no')\n",
      "iraf.gemarith('xtfobj_comb.fits','/','tel_clean.fits', \\\n",
      "              'xtfobj_telrm.fits', fl_vardq='yes')\n"
     ],
     "language": "python",
     "metadata": {},
     "outputs": []
    },
    {
     "cell_type": "code",
     "collapsed": true,
     "input": [
      "iraf.splot('xtfobj_telrm.fits[sci,1]', ymin=-0.01, ymax=0.045)"
     ],
     "language": "python",
     "metadata": {},
     "outputs": []
    },
    {
     "cell_type": "code",
     "collapsed": true,
     "input": [
      "iraf.imdelete('xtfobj_telbb.fits', verify='no')\n",
      "iraf.gemarith('xtfobj_telrm.fits', '*', 'B5V_blackbody.fits', \\\n",
      "              'xtfobj_telbb.fits', fl_vardq='yes')"
     ],
     "language": "python",
     "metadata": {},
     "outputs": []
    },
    {
     "cell_type": "code",
     "collapsed": true,
     "input": [
      "iraf.splot('xtfobj_telbb.fits[sci,1]', ymin=-2.5, ymax=17.5)"
     ],
     "language": "python",
     "metadata": {},
     "outputs": []
    },
    {
     "cell_type": "markdown",
     "metadata": {},
     "source": [
      "![SC-HK_telmanual](screenshots/SC-HK-telmanual.png)"
     ]
    },
    {
     "cell_type": "code",
     "collapsed": true,
     "input": [
      "iraf.hedit('xtfobj_telbb.fits[sci,1]', 'CD2_2', delete='yes',\\\n",
      "            verify='no',update='yes')\n",
      "iraf.hedit('xtfobj_telbb.fits[sci,1]', 'CTYPE2', delete='yes',\\\n",
      "           verify='no',update='yes')\n",
      "iraf.hedit('xtfobj_telbb.fits[sci,1]', 'LTM2_2', delete='yes',\\\n",
      "           verify='no',update='yes')\n",
      "iraf.hedit('xtfobj_telbb.fits[var,1]', 'CD2_2', delete='yes',\\\n",
      "           verify='no',update='yes')\n",
      "iraf.hedit('xtfobj_telbb.fits[var,1]', 'CTYPE2', delete='yes',\\\n",
      "           verify='no',update='yes')\n",
      "iraf.hedit('xtfobj_telbb.fits[var,1]', 'LTM2_2', delete='yes',\\\n",
      "           verify='no',update='yes')"
     ],
     "language": "python",
     "metadata": {},
     "outputs": []
    },
    {
     "cell_type": "code",
     "collapsed": true,
     "input": [
      "!splot xtfobj_telbb.fits -l quasar -z 0.60065 -y -2 15 --variance 2"
     ],
     "language": "python",
     "metadata": {},
     "outputs": []
    },
    {
     "cell_type": "markdown",
     "metadata": {},
     "source": [
      "<font color=red> This is an old comment.  Use it as inspiration.</font>\n",
      "\n",
      "The final plot in the manual method is a lot more noisy and the slope of the continuum is shallower.  One can make the spectrum less noisy by applying the shift found in nstelluric, and the slope can be made steeper by applying the airmass correction nstelluric used.  This will be left as an exercise...  (I, Kathleen, did all this already to convince myself that the `nstelluric` results were correct.)"
     ]
    },
    {
     "cell_type": "heading",
     "level": 4,
     "metadata": {},
     "source": [
      "Discussion on telluric correction techniques"
     ]
    },
    {
     "cell_type": "markdown",
     "metadata": {},
     "source": [
      "<font color=red>This is an old discussion.  Use it as inspiration.</font>\n",
      "\n",
      "Doing the telluric correction manually is suited for cases where the telluric standard was observed very close in time with the science to avoid time-dependent sky variations and at the same airmass, and obviously where nothing in the optical path moved and flexure is minimal.\n",
      "\n",
      "In the present case, the optics moved, the telluric was observed 50 min after the science target, and at an airmass of 1.848 when the science was observed at airmass 1.465.  Clearly, this is a messy observation.\n",
      "\n",
      "The movements in the optics (or flexure) causes the telluric to be offset from the science spectrum as clearly shown during the wavelength calibration.  This was also picked up by `nstelluric` which found that a shift of -1.94 pixel is necessary.\n",
      "\n",
      "The large airmass difference is corrected for in `nstelluric`.  But in the manual approach, that difference is not taken into account (one could, but we didn't above).  The result was that the non-airmass corrected spectrum showed a much shallower continuum slope.\n",
      "\n",
      "At least, it seems that the atmosphere was fairly stable since even if the data was taken 50 minutes later, `nstelluric` didn't have to apply a scaling factor (other than the airmass correction factor).\n",
      "\n",
      "What was found here is that the `nstelluric` task, when used correctly does produce rather good results that are far less noisy than the results from the manual approach, especially when there are issues with telluric standard observations.  With enough fiddling with shift, airmass correction, scaling, one should be able to reproduce the `nstelluric` result but it seems more straightforward with `nstelluric`.  I (Kathleen) did play around and I got close, close enough to convince myself that the slope was okay, but never got the noise to go down to the `nstelluric` level, then I got bored."
     ]
    },
    {
     "cell_type": "heading",
     "level": 2,
     "metadata": {},
     "source": [
      "FINAL spectrum: axtfobj_bb.fits"
     ]
    }
   ],
   "metadata": {}
  }
 ]
}