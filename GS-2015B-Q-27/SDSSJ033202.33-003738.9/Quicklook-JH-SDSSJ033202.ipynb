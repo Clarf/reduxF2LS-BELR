{
 "metadata": {
  "name": "",
  "signature": "sha256:8e339c821351add846f095edecada9b1b79d0bfba5376ed7b9905ebd22743087"
 },
 "nbformat": 3,
 "nbformat_minor": 0,
 "worksheets": [
  {
   "cells": [
    {
     "cell_type": "heading",
     "level": 1,
     "metadata": {},
     "source": [
      "F2 Longslit JH Reduction of SDSSJ033202.33-003738.9"
     ]
    },
    {
     "cell_type": "markdown",
     "metadata": {},
     "source": [
      "----\n",
      "Science Dataset:\n",
      "----------------\n",
      "<table>\n",
      "<tr><td> <strong>Redshift</strong> </td> <td>0.60741</td></tr>\n",
      "</table>\n",
      "\n",
      "<table>\n",
      "    <tr><td> <strong>Observation UT date</strong> </td> <td>2015 Aug 27, \\*2015 Sep 4</td></tr>\n",
      "    <tr><td> <strong>Data filename prefix</strong> </td><td>S20150827S, \\*S20150904S</td></tr>\n",
      "</table>\n",
      "<br>\n",
      "**File numbers:**\n",
      "<table>\n",
      "    <tr><td>Science </td>          <td>633-636 (JH, JH, 2pix-slit, 100s)</td></tr>\n",
      "    <tr><td>Darks for science </td><td>\\*188-194 (100s)</td></tr>\n",
      "    <tr><td>Flat </td>             <td>638     (JH, JH, 2pix-slit, 8s)</td></tr>\n",
      "    <tr><td>Darks for flat </td>   <td>\\*97-103 (8s)</td></tr>\n",
      "    <tr><td>Arc </td>              <td>637    (JH, JH, 2pix-slit, 30s)</td></tr>\n",
      "    <tr><td>Darks for arc </td>    <td>\\*146-152(30s)</td></tr>\n",
      "</table>\n",
      "\n",
      "Telluric Dataset:\n",
      "-----------------\n",
      "<table>\n",
      "<tr><td> Name: </td><td>HIP 11809</td></tr>\n",
      "<tr><td> Spectral Type: </td><td>B6V</td></tr>\n",
      "<tr><td> Temperature: </td><td>$14,100 K$</td></tr>\n",
      "<tr><td> Airmass: </td><td>1.21</td></tr>\n",
      "<tr><td> Airmass Science: </td><td>1.21</td></tr>\n",
      "    <tr><td> Delta Time: </td><td>~25 min. Tel_end=08:16, Sci_beg=08:43 </td></tr>\n",
      "</table>\n",
      "<table>\n",
      "    <tr><td> <strong>Observation UT date</strong> </td> <td>2015 Aug 27, \\*2015 Sep 4</td></tr>\n",
      "    <tr><td> <strong>Data filename prefix</strong> </td><td>S20150827S, \\*S20150904S</td></tr>\n",
      "</table>\n",
      "\n",
      "**File numbers:**\n",
      "<table>\n",
      "    <tr><td>Telluric (HIP 11809) </td><td>616-619 (JH, JH, 2pix-slit, 90s)</td></tr>\n",
      "    <tr><td>Darks for telluric </td> <td>\\*167-173 (90s)</td></tr>\n",
      "    <tr><td>Flat </td>               <td>638     (JH, JH, 2pix-slit, 8s)</td></tr>\n",
      "    <tr><td>Darks for flat </td>     <td>\\*97-103 (8s)</td></tr>\n",
      "    <tr><td>Arc </td>                <td>620     (JH, JH, 2pix-slit, 30s)</td></tr>\n",
      "    <tr><td>Darks for arc </td>      <td>\\*146-152 (30s)</td></tr>\n",
      "</table>\n",
      "\n",
      "----"
     ]
    },
    {
     "cell_type": "heading",
     "level": 2,
     "metadata": {},
     "source": [
      "STEP 0: Define variables specific to this target and start parallel PyRAF session."
     ]
    },
    {
     "cell_type": "code",
     "collapsed": false,
     "input": [
      "import os\n",
      "# UPDATE DATE IN REDUX_DIR\n",
      "#redux_dir = '/Users/ckenyon/Gemini/GS-2013B-Q-73/SDSSJ232652.96-003012.6/20131203-05Mar2015/reduxHK'\n",
      "redux_dir = '/Volumes/MyRugged/research/BELR/GS-2015B-Q-27/SDSSJ033202.33-003738.9/quicklook/reduxJH'\n",
      "os.chdir(redux_dir)\n",
      "\n",
      "logfile = \"JH033202.log\"\n",
      "database = \"JH033202_database/\"\n",
      "raw_data_path = \"../../../raw/\"\n",
      "flatroot = \"S20150827S\" ; flats = \"638\"\n",
      "flatdarkroot = \"S20150904S\" ; flatdarks = \"97-103\"\n",
      "arcroot = \"S20150827S\" ; arcs = \"637\"\n",
      "arcdarkroot = \"S20150904S\" ; arcdarks = \"146-152\"\n",
      "objroot = \"S20150827S\" ; objs = \"633-636\"\n",
      "objdarkroot = \"S20150904S\" ; objdarks = \"188-194\"\n",
      "telroot = \"S20150827S\" ; tels = \"616-619\"\n",
      "teldarkroot = \"S20150904S\" ; teldarks = \"167-173\"\n",
      "telarcroot = \"S20150827S\" ; telarcs = \"620\"\n",
      "telarcdarkroot = \"S20150904S\" ; telarcdarks = \"146-152\"\n",
      "\n",
      "lxorder=3 ; lyorder=8  # used by nsfitcoords.  \n",
      "                       # Values are determine in Step 8."
     ],
     "language": "python",
     "metadata": {},
     "outputs": [],
     "prompt_number": 1
    },
    {
     "cell_type": "heading",
     "level": 4,
     "metadata": {},
     "source": [
      "Now get a PyRAF session ready.  This will be needed for some interactive tasks that don't work well in the notebook. "
     ]
    },
    {
     "cell_type": "markdown",
     "metadata": {},
     "source": [
      "Open an xterm or a Terminal, then:\n",
      "\n",
      "\n",
      "UPDATE DATE HERE TOO\n",
      "\n",
      "    cd '/Volumes/MyRugged/research/BELR/GS-2015B-Q-27/SDSSJ033202.33-003738.9/quicklook/reduxJH'\n",
      "    pyraf"
     ]
    },
    {
     "cell_type": "markdown",
     "metadata": {},
     "source": [
      "Then in the PyRAF session:\n",
      "\n",
      "    gemini\n",
      "    f2\n",
      "    unlearn gemini\n",
      "    unlearn f2\n",
      "    unlearn gnirs\n",
      "    unlearn gemtools"
     ]
    },
    {
     "cell_type": "markdown",
     "metadata": {},
     "source": [
      "Get your PyRAF configured.  In the PyRAF session:\n",
      "\n",
      "    iraf.f2.logfile = \"JH033202.log\"\n",
      "    iraf.f2.database = \"JH033202_database/\"\n",
      "    set rawdir = \"../../../raw/\"\n",
      "    set stdimage=imt2048\n",
      "    nsheaders('f2', logfile=iraf.f2.logfile)"
     ]
    },
    {
     "cell_type": "heading",
     "level": 2,
     "metadata": {},
     "source": [
      "STEP 1: Initialize the required packages"
     ]
    },
    {
     "cell_type": "heading",
     "level": 4,
     "metadata": {},
     "source": [
      "Launch ds9 before proceeding further."
     ]
    },
    {
     "cell_type": "heading",
     "level": 4,
     "metadata": {},
     "source": [
      "Load the packages required for the notebook session."
     ]
    },
    {
     "cell_type": "code",
     "collapsed": false,
     "input": [
      "from pyraf import iraf\n",
      "iraf.gemini()\n",
      "iraf.f2()"
     ],
     "language": "python",
     "metadata": {},
     "outputs": [
      {
       "output_type": "stream",
       "stream": "stdout",
       "text": [
        "This is the initial release of the IRAF FITSUTIL package\n",
        "to include support for FITS tile compression via 'fpack'.\n",
        "Please send comments and questions to seaman@noao.edu.\n",
        "\n",
        " \n",
        "     +------------------- Gemini IRAF Package -------------------+\n",
        "     |              Version 1.13, January 30, 2015               |\n",
        "     |             Requires IRAF v2.14.1 or greater              |\n",
        "     |              Tested with Ureka IRAF v2.16                 |\n",
        "     |             Gemini Observatory, Hilo, Hawaii              |\n",
        "     |    Please use the help desk for submission of questions   |\n",
        "     |  http://www.gemini.edu/sciops/helpdesk/helpdeskIndex.html |\n",
        "     +-----------------------------------------------------------+\n",
        " \n",
        "     Warning setting imtype=fits\n",
        "     Warning setting use_new_imt=no\n",
        " \n",
        "gemini/:\n",
        " f2/            gmos/           midir/          oscir/\n",
        " flamingos/     gnirs/          nifs/           quirc/\n",
        " gemtools/      gsaoi/          niri/\n"
       ]
      },
      {
       "output_type": "stream",
       "stream": "stdout",
       "text": [
        "\n",
        "Loading the gnirs package:\n",
        "gnirs/:\n",
        " gnirsexamples  nfflt2pin       nsextract       nsreduce        nstransform\n",
        " gnirsinfo      nfquick         nsfitcoords     nsressky        nswavelength\n",
        " gnirsinfoifu   nsappwave       nsflat          nssdist         nswedit\n",
        " gnirsinfols    nscombine       nsheaders       nsslitfunction  nvnoise\n",
        " gnirsinfoxd    nscut           nsoffset        nsstack         nxdisplay\n",
        " nfcube         nsedge          nsprepare       nstelluric\n",
        "\n",
        "Loading the niri package:\n",
        "niri/:\n",
        " nifastsky      nireduce        niriinfo        nisky           nprepare\n",
        " niflat         niriexamples    nirotate        nisupersky      nresidual\n",
        "\n",
        "Loading the f2 package:\n",
        "f2/:\n",
        " f2cut          f2examples      f2infoimaging   f2infomos\n",
        " f2display      f2info          f2infols        f2prepare\n"
       ]
      }
     ],
     "prompt_number": 2
    },
    {
     "cell_type": "markdown",
     "metadata": {},
     "source": [
      "Reset tasks to the default parameters.  (Note: this doesn't seem to be working from the Python shell.)"
     ]
    },
    {
     "cell_type": "code",
     "collapsed": false,
     "input": [
      "iraf.unlearn(iraf.gemini, iraf.f2, iraf.gnirs, iraf.gemtools)"
     ],
     "language": "python",
     "metadata": {},
     "outputs": [],
     "prompt_number": 3
    },
    {
     "cell_type": "heading",
     "level": 2,
     "metadata": {},
     "source": [
      "STEP 2: Define various parameters and variables."
     ]
    },
    {
     "cell_type": "code",
     "collapsed": false,
     "input": [
      "iraf.f2.logfile = logfile\n",
      "iraf.f2.database = database\n",
      "rawdir = raw_data_path\n",
      "iraf.set(stdimage='imt2048')\n",
      "\n",
      "iraf.nsheaders('f2', logfile=iraf.f2.logfile)"
     ],
     "language": "python",
     "metadata": {},
     "outputs": [
      {
       "output_type": "stream",
       "stream": "stdout",
       "text": [
        "------------------------------------------------------------------------------\n"
       ]
      },
      {
       "output_type": "stream",
       "stream": "stdout",
       "text": [
        "NSHEADERS -- Mon Oct 12 09:14:41 HST 2015\n",
        "\n"
       ]
      },
      {
       "output_type": "stream",
       "stream": "stdout",
       "text": [
        "setting header keywords\n",
        "setting niflat.thresh_flo, niflat.thresh_fup, niflat.thresh_dlo,\n",
        "   and niflat.thresh_dup.\n",
        "setting niflat.statsec\n",
        "setting nifastsky.statsec\n",
        "setting nisky.statsec\n",
        "setting nireduce.statsec\n",
        "setting nsflat.statsec and fitsec\n",
        "setting nswavelength.coordlist, nswavelength.threshold, and\n",
        "   nswavelength.fl_median.\n",
        "setting the default logfile\n",
        "setting the default database\n"
       ]
      }
     ],
     "prompt_number": 4
    },
    {
     "cell_type": "markdown",
     "metadata": {},
     "source": [
      "*If necessary to start from scratch, delete the log file and the database.*"
     ]
    },
    {
     "cell_type": "code",
     "collapsed": false,
     "input": [
      "if (iraf.access(iraf.f2.logfile)):\n",
      "    iraf.delete(iraf.f2.logfile, verify='no')\n",
      "if (iraf.access(iraf.f2.database)):\n",
      "    iraf.delete(iraf.f2.database + '*', verify='no')"
     ],
     "language": "python",
     "metadata": {},
     "outputs": [],
     "prompt_number": 5
    },
    {
     "cell_type": "heading",
     "level": 2,
     "metadata": {},
     "source": [
      "STEP 3: Create the reduction lists"
     ]
    },
    {
     "cell_type": "code",
     "collapsed": false,
     "input": [
      "iraf.delete('flat.lis, flatdark.lis, arc.lis, arcdark.lis, obj.lis, objdark.lis, \\\n",
      "    tel.lis, teldark.lis, telarc.lis, telarcdark.lis', verify='no')\n",
      "\n",
      "iraf.gemlist(flatroot, flats, Stdout='flat.lis')\n",
      "iraf.gemlist(flatdarkroot, flatdarks, Stdout='flatdark.lis')\n",
      "iraf.gemlist(arcroot, arcs, Stdout='arc.lis')\n",
      "iraf.gemlist(arcdarkroot, arcdarks, Stdout='arcdark.lis')\n",
      "iraf.gemlist(objroot, objs, Stdout='obj.lis')\n",
      "iraf.gemlist(objdarkroot, objdarks, Stdout='objdark.lis')\n",
      "iraf.gemlist(telroot, tels, Stdout='tel.lis')\n",
      "iraf.gemlist(teldarkroot, teldarks, Stdout='teldark.lis')\n",
      "iraf.gemlist(telarcroot, telarcs, Stdout='telarc.lis')\n",
      "iraf.gemlist(telarcdarkroot, telarcdarks, Stdout='telarcdark.lis')\n",
      "\n",
      "iraf.concat('flat.lis, flatdark.lis, arc.lis, arcdark.lis, obj.lis, objdark.lis, \\\n",
      "    tel.lis, teldark.lis, telarc.lis, telarcdark.lis', 'all.lis')\n",
      "\n",
      "# remove duplicates\n",
      "all_file = open('all.lis', 'r')\n",
      "all_lines = all_file.readlines()\n",
      "all_file.close()\n",
      "lines_seen = list()\n",
      "for line in all_lines:\n",
      "    if line not in lines_seen:\n",
      "        lines_seen.append(line)\n",
      "all_file = open('all.lis', 'w')\n",
      "all_file.writelines(lines_seen)\n",
      "all_file.close()\n"
     ],
     "language": "python",
     "metadata": {},
     "outputs": [
      {
       "output_type": "stream",
       "stream": "stderr",
       "text": [
        "Warning: Cannot delete file (flat.lis)\n"
       ]
      },
      {
       "output_type": "stream",
       "stream": "stderr",
       "text": [
        "Warning: Cannot delete file (flatdark.lis)\n"
       ]
      },
      {
       "output_type": "stream",
       "stream": "stderr",
       "text": [
        "Warning: Cannot delete file (arc.lis)\n"
       ]
      },
      {
       "output_type": "stream",
       "stream": "stderr",
       "text": [
        "Warning: Cannot delete file (arcdark.lis)\n"
       ]
      },
      {
       "output_type": "stream",
       "stream": "stderr",
       "text": [
        "Warning: Cannot delete file (obj.lis)\n"
       ]
      },
      {
       "output_type": "stream",
       "stream": "stderr",
       "text": [
        "Warning: Cannot delete file (objdark.lis)\n"
       ]
      },
      {
       "output_type": "stream",
       "stream": "stderr",
       "text": [
        "Warning: Cannot delete file (tel.lis)\n"
       ]
      },
      {
       "output_type": "stream",
       "stream": "stderr",
       "text": [
        "Warning: Cannot delete file (teldark.lis)\n"
       ]
      },
      {
       "output_type": "stream",
       "stream": "stderr",
       "text": [
        "Warning: Cannot delete file (telarc.lis)\n"
       ]
      },
      {
       "output_type": "stream",
       "stream": "stderr",
       "text": [
        "Warning: Cannot delete file (telarcdark.lis)\n"
       ]
      }
     ],
     "prompt_number": 6
    },
    {
     "cell_type": "heading",
     "level": 2,
     "metadata": {},
     "source": [
      "STEP 4: Visually inspect the data"
     ]
    },
    {
     "cell_type": "code",
     "collapsed": false,
     "input": [
      "all_file = open('all.lis', 'r')\n",
      "for line in all_file:\n",
      "    image = line.strip() + '[1]'\n",
      "    print image\n",
      "    iraf.display(rawdir + image, 1)\n",
      "    iraf.sleep(5)\n",
      "    \n",
      "all_file.close()"
     ],
     "language": "python",
     "metadata": {},
     "outputs": [
      {
       "output_type": "stream",
       "stream": "stdout",
       "text": [
        "S20150827S0638[1]\n",
        "z1=-241. z2=12543.11\n"
       ]
      },
      {
       "output_type": "stream",
       "stream": "stdout",
       "text": [
        "S20150904S0097[1]\n",
        "z1=-77.05414 z2=185.3168\n"
       ]
      },
      {
       "output_type": "stream",
       "stream": "stdout",
       "text": [
        "S20150904S0098[1]\n",
        "z1=-76.43141 z2=184.6928\n"
       ]
      },
      {
       "output_type": "stream",
       "stream": "stdout",
       "text": [
        "S20150904S0099[1]\n",
        "z1=-77.0256 z2=187.2902\n"
       ]
      },
      {
       "output_type": "stream",
       "stream": "stdout",
       "text": [
        "S20150904S0100[1]\n",
        "z1=-78.94073 z2=187.2071\n"
       ]
      },
      {
       "output_type": "stream",
       "stream": "stdout",
       "text": [
        "S20150904S0101[1]\n",
        "z1=-76.45155 z2=185.714\n"
       ]
      },
      {
       "output_type": "stream",
       "stream": "stdout",
       "text": [
        "S20150904S0102[1]\n",
        "z1=-80.95787 z2=189.2283\n"
       ]
      },
      {
       "output_type": "stream",
       "stream": "stdout",
       "text": [
        "S20150904S0103[1]\n",
        "z1=-76.43846 z2=184.6999\n"
       ]
      },
      {
       "output_type": "stream",
       "stream": "stdout",
       "text": [
        "S20150827S0637[1]\n",
        "z1=-81. z2=1235.891\n"
       ]
      },
      {
       "output_type": "stream",
       "stream": "stdout",
       "text": [
        "S20150904S0146[1]\n",
        "z1=-74.4248 z2=184.6842\n"
       ]
      },
      {
       "output_type": "stream",
       "stream": "stdout",
       "text": [
        "S20150904S0147[1]\n",
        "z1=-75. z2=193.7123\n"
       ]
      },
      {
       "output_type": "stream",
       "stream": "stdout",
       "text": [
        "S20150904S0148[1]\n",
        "z1=-83.36078 z2=191.636\n"
       ]
      },
      {
       "output_type": "stream",
       "stream": "stdout",
       "text": [
        "S20150904S0149[1]\n",
        "z1=-72.67894 z2=184.9368\n"
       ]
      },
      {
       "output_type": "stream",
       "stream": "stdout",
       "text": [
        "S20150904S0150[1]\n",
        "z1=-76.74464 z2=187.0087\n"
       ]
      },
      {
       "output_type": "stream",
       "stream": "stdout",
       "text": [
        "S20150904S0151[1]\n",
        "z1=-80. z2=194.3001\n"
       ]
      },
      {
       "output_type": "stream",
       "stream": "stdout",
       "text": [
        "S20150904S0152[1]\n",
        "z1=-80. z2=190.8327\n"
       ]
      },
      {
       "output_type": "stream",
       "stream": "stdout",
       "text": [
        "S20150827S0633[1]\n",
        "z1=-174. z2=4226.734\n"
       ]
      },
      {
       "output_type": "stream",
       "stream": "stdout",
       "text": [
        "S20150827S0634[1]\n",
        "z1=-143. z2=4210.736\n"
       ]
      },
      {
       "output_type": "stream",
       "stream": "stdout",
       "text": [
        "S20150827S0635[1]\n",
        "z1=-102. z2=4260.785\n"
       ]
      },
      {
       "output_type": "stream",
       "stream": "stdout",
       "text": [
        "S20150827S0636[1]\n",
        "z1=-102. z2=4382.472\n"
       ]
      },
      {
       "output_type": "stream",
       "stream": "stdout",
       "text": [
        "S20150904S0188[1]\n",
        "z1=-94. z2=341.0243\n"
       ]
      },
      {
       "output_type": "stream",
       "stream": "stdout",
       "text": [
        "S20150904S0189[1]\n",
        "z1=-107. z2=316.512\n"
       ]
      },
      {
       "output_type": "stream",
       "stream": "stdout",
       "text": [
        "S20150904S0190[1]\n",
        "z1=-122. z2=324.5586\n"
       ]
      },
      {
       "output_type": "stream",
       "stream": "stdout",
       "text": [
        "S20150904S0191[1]\n",
        "z1=-133. z2=324.8265\n"
       ]
      },
      {
       "output_type": "stream",
       "stream": "stdout",
       "text": [
        "S20150904S0192[1]\n",
        "z1=-91. z2=308.5667\n"
       ]
      },
      {
       "output_type": "stream",
       "stream": "stdout",
       "text": [
        "S20150904S0193[1]\n",
        "z1=-96. z2=321.401\n"
       ]
      },
      {
       "output_type": "stream",
       "stream": "stdout",
       "text": [
        "S20150904S0194[1]\n",
        "z1=-129. z2=337.3533\n"
       ]
      },
      {
       "output_type": "stream",
       "stream": "stdout",
       "text": [
        "S20150827S0616[1]\n",
        "z1=-71. z2=536.2787\n"
       ]
      },
      {
       "output_type": "stream",
       "stream": "stdout",
       "text": [
        "S20150827S0617[1]\n",
        "z1=-80. z2=524.6653\n"
       ]
      },
      {
       "output_type": "stream",
       "stream": "stdout",
       "text": [
        "S20150827S0618[1]\n",
        "z1=-78. z2=545.1248\n"
       ]
      },
      {
       "output_type": "stream",
       "stream": "stdout",
       "text": [
        "S20150827S0619[1]\n",
        "z1=-74. z2=546.4279\n"
       ]
      },
      {
       "output_type": "stream",
       "stream": "stdout",
       "text": [
        "S20150904S0167[1]\n",
        "z1=-80. z2=198.2132\n"
       ]
      },
      {
       "output_type": "stream",
       "stream": "stdout",
       "text": [
        "S20150904S0168[1]\n",
        "z1=-77. z2=197.1598\n"
       ]
      },
      {
       "output_type": "stream",
       "stream": "stdout",
       "text": [
        "S20150904S0169[1]\n",
        "z1=-85.91255 z2=200.199\n"
       ]
      },
      {
       "output_type": "stream",
       "stream": "stdout",
       "text": [
        "S20150904S0170[1]\n",
        "z1=-84. z2=197.3367\n"
       ]
      },
      {
       "output_type": "stream",
       "stream": "stdout",
       "text": [
        "S20150904S0171[1]\n",
        "z1=-83. z2=195.8843\n"
       ]
      },
      {
       "output_type": "stream",
       "stream": "stdout",
       "text": [
        "S20150904S0172[1]\n",
        "z1=-78. z2=197.1683\n"
       ]
      },
      {
       "output_type": "stream",
       "stream": "stdout",
       "text": [
        "S20150904S0173[1]\n",
        "z1=-77. z2=198.1463\n"
       ]
      },
      {
       "output_type": "stream",
       "stream": "stdout",
       "text": [
        "S20150827S0620[1]\n",
        "z1=-81. z2=1230.042\n"
       ]
      }
     ],
     "prompt_number": 7
    },
    {
     "cell_type": "heading",
     "level": 2,
     "metadata": {},
     "source": [
      "STEP 5: f2prepare all the data"
     ]
    },
    {
     "cell_type": "code",
     "collapsed": false,
     "input": [
      "iraf.imdelete('f@all.lis', verify='no')\n",
      "iraf.f2prepare('@all.lis', rawpath=rawdir, fl_vardq='yes', fl_correct='yes', \\\n",
      "               fl_saturated='yes', fl_nonlinear='yes')"
     ],
     "language": "python",
     "metadata": {},
     "outputs": [
      {
       "output_type": "stream",
       "stream": "stdout",
       "text": [
        "----------------------------------------------------------------------------\n",
        "F2PREPARE -- Mon Oct 12 09:21:57 HST 2015\n",
        " \n",
        "\n"
       ]
      },
      {
       "output_type": "stream",
       "stream": "stdout",
       "text": [
        "Processing 39 files\n"
       ]
      },
      {
       "output_type": "stream",
       "stream": "stdout",
       "text": [
        "WARNING - F2PREPARE: Bad pixel mask is either an empty string or contains\n",
        "                     spaces. Not using BPM to generate data quality plane.\n",
        " \n",
        "  n      input file -->      output file\n",
        "                 filter     focal plane       input BPM   RON  gain     sat\n",
        " \n"
       ]
      },
      {
       "output_type": "stream",
       "stream": "stdout",
       "text": [
        "  1 ../../../raw/S20150827S0638 -->  fS20150827S0638 \n",
        "                     JH       2pix-slit            none  11.7   4.4   35000 \n"
       ]
      },
      {
       "output_type": "stream",
       "stream": "stdout",
       "text": [
        "  2 ../../../raw/S20150904S0097 -->  fS20150904S0097 \n",
        "                   Dark      2-pix_grid            none  11.7   4.4   35000 \n"
       ]
      },
      {
       "output_type": "stream",
       "stream": "stdout",
       "text": [
        "  3 ../../../raw/S20150904S0098 -->  fS20150904S0098 \n",
        "                   Dark      2-pix_grid            none  11.7   4.4   35000 \n"
       ]
      },
      {
       "output_type": "stream",
       "stream": "stdout",
       "text": [
        "  4 ../../../raw/S20150904S0099 -->  fS20150904S0099 \n",
        "                   Dark      2-pix_grid            none  11.7   4.4   35000 \n"
       ]
      },
      {
       "output_type": "stream",
       "stream": "stdout",
       "text": [
        "  5 ../../../raw/S20150904S0100 -->  fS20150904S0100 \n",
        "                   Dark      2-pix_grid            none  11.7   4.4   35000 \n"
       ]
      },
      {
       "output_type": "stream",
       "stream": "stdout",
       "text": [
        "  6 ../../../raw/S20150904S0101 -->  fS20150904S0101 \n",
        "                   Dark      2-pix_grid            none  11.7   4.4   35000 \n"
       ]
      },
      {
       "output_type": "stream",
       "stream": "stdout",
       "text": [
        "  7 ../../../raw/S20150904S0102 -->  fS20150904S0102 \n",
        "                   Dark      2-pix_grid            none  11.7   4.4   35000 \n"
       ]
      },
      {
       "output_type": "stream",
       "stream": "stdout",
       "text": [
        "  8 ../../../raw/S20150904S0103 -->  fS20150904S0103 \n",
        "                   Dark      2-pix_grid            none  11.7   4.4   35000 \n"
       ]
      },
      {
       "output_type": "stream",
       "stream": "stdout",
       "text": [
        "  9 ../../../raw/S20150827S0637 -->  fS20150827S0637 \n",
        "                     JH       2pix-slit            none  11.7   4.4   35000 \n"
       ]
      },
      {
       "output_type": "stream",
       "stream": "stdout",
       "text": [
        " 10 ../../../raw/S20150904S0146 -->  fS20150904S0146 \n",
        "                   Dark      2-pix_grid            none  11.7   4.4   35000 \n"
       ]
      },
      {
       "output_type": "stream",
       "stream": "stdout",
       "text": [
        " 11 ../../../raw/S20150904S0147 -->  fS20150904S0147 \n",
        "                   Dark      2-pix_grid            none  11.7   4.4   35000 \n"
       ]
      },
      {
       "output_type": "stream",
       "stream": "stdout",
       "text": [
        " 12 ../../../raw/S20150904S0148 -->  fS20150904S0148 \n",
        "                   Dark      2-pix_grid            none  11.7   4.4   35000 \n"
       ]
      },
      {
       "output_type": "stream",
       "stream": "stdout",
       "text": [
        " 13 ../../../raw/S20150904S0149 -->  fS20150904S0149 \n",
        "                   Dark      2-pix_grid            none  11.7   4.4   35000 \n"
       ]
      },
      {
       "output_type": "stream",
       "stream": "stdout",
       "text": [
        " 14 ../../../raw/S20150904S0150 -->  fS20150904S0150 \n",
        "                   Dark      2-pix_grid            none  11.7   4.4   35000 \n"
       ]
      },
      {
       "output_type": "stream",
       "stream": "stdout",
       "text": [
        " 15 ../../../raw/S20150904S0151 -->  fS20150904S0151 \n",
        "                   Dark      2-pix_grid            none  11.7   4.4   35000 \n"
       ]
      },
      {
       "output_type": "stream",
       "stream": "stdout",
       "text": [
        " 16 ../../../raw/S20150904S0152 -->  fS20150904S0152 \n",
        "                   Dark      2-pix_grid            none  11.7   4.4   35000 \n",
        "Dividing ../../../raw/S20150827S0633 by number of non-destructive reads: 8"
       ]
      },
      {
       "output_type": "stream",
       "stream": "stdout",
       "text": [
        "\n"
       ]
      },
      {
       "output_type": "stream",
       "stream": "stdout",
       "text": [
        " 17 ../../../raw/S20150827S0633 -->  fS20150827S0633 \n",
        "                     JH       2pix-slit            none   5.0   4.4   35000 \n",
        "Dividing ../../../raw/S20150827S0634 by number of non-destructive reads: 8"
       ]
      },
      {
       "output_type": "stream",
       "stream": "stdout",
       "text": [
        "\n"
       ]
      },
      {
       "output_type": "stream",
       "stream": "stdout",
       "text": [
        " 18 ../../../raw/S20150827S0634 -->  fS20150827S0634 \n",
        "                     JH       2pix-slit            none   5.0   4.4   35000 \n",
        "Dividing ../../../raw/S20150827S0635 by number of non-destructive reads: 8"
       ]
      },
      {
       "output_type": "stream",
       "stream": "stdout",
       "text": [
        "\n"
       ]
      },
      {
       "output_type": "stream",
       "stream": "stdout",
       "text": [
        " 19 ../../../raw/S20150827S0635 -->  fS20150827S0635 \n",
        "                     JH       2pix-slit            none   5.0   4.4   35000 \n",
        "Dividing ../../../raw/S20150827S0636 by number of non-destructive reads: 8"
       ]
      },
      {
       "output_type": "stream",
       "stream": "stdout",
       "text": [
        "\n"
       ]
      },
      {
       "output_type": "stream",
       "stream": "stdout",
       "text": [
        " 20 ../../../raw/S20150827S0636 -->  fS20150827S0636 \n",
        "                     JH       2pix-slit            none   5.0   4.4   35000 \n",
        "Dividing ../../../raw/S20150904S0188 by number of non-destructive reads: 8"
       ]
      },
      {
       "output_type": "stream",
       "stream": "stdout",
       "text": [
        "\n"
       ]
      },
      {
       "output_type": "stream",
       "stream": "stdout",
       "text": [
        " 21 ../../../raw/S20150904S0188 -->  fS20150904S0188 \n",
        "                   Dark      2-pix_grid            none   5.0   4.4   35000 \n",
        "Dividing ../../../raw/S20150904S0189 by number of non-destructive reads: 8"
       ]
      },
      {
       "output_type": "stream",
       "stream": "stdout",
       "text": [
        "\n"
       ]
      },
      {
       "output_type": "stream",
       "stream": "stdout",
       "text": [
        " 22 ../../../raw/S20150904S0189 -->  fS20150904S0189 \n",
        "                   Dark      2-pix_grid            none   5.0   4.4   35000 \n",
        "Dividing ../../../raw/S20150904S0190 by number of non-destructive reads: 8"
       ]
      },
      {
       "output_type": "stream",
       "stream": "stdout",
       "text": [
        "\n"
       ]
      },
      {
       "output_type": "stream",
       "stream": "stdout",
       "text": [
        " 23 ../../../raw/S20150904S0190 -->  fS20150904S0190 \n",
        "                   Dark      2-pix_grid            none   5.0   4.4   35000 \n",
        "Dividing ../../../raw/S20150904S0191 by number of non-destructive reads: 8"
       ]
      },
      {
       "output_type": "stream",
       "stream": "stdout",
       "text": [
        "\n"
       ]
      },
      {
       "output_type": "stream",
       "stream": "stdout",
       "text": [
        " 24 ../../../raw/S20150904S0191 -->  fS20150904S0191 \n",
        "                   Dark      2-pix_grid            none   5.0   4.4   35000 \n",
        "Dividing ../../../raw/S20150904S0192 by number of non-destructive reads: 8"
       ]
      },
      {
       "output_type": "stream",
       "stream": "stdout",
       "text": [
        "\n"
       ]
      },
      {
       "output_type": "stream",
       "stream": "stdout",
       "text": [
        " 25 ../../../raw/S20150904S0192 -->  fS20150904S0192 \n",
        "                   Dark      2-pix_grid            none   5.0   4.4   35000 \n",
        "Dividing ../../../raw/S20150904S0193 by number of non-destructive reads: 8"
       ]
      },
      {
       "output_type": "stream",
       "stream": "stdout",
       "text": [
        "\n"
       ]
      },
      {
       "output_type": "stream",
       "stream": "stdout",
       "text": [
        " 26 ../../../raw/S20150904S0193 -->  fS20150904S0193 \n",
        "                   Dark      2-pix_grid            none   5.0   4.4   35000 \n",
        "Dividing ../../../raw/S20150904S0194 by number of non-destructive reads: 8"
       ]
      },
      {
       "output_type": "stream",
       "stream": "stdout",
       "text": [
        "\n"
       ]
      },
      {
       "output_type": "stream",
       "stream": "stdout",
       "text": [
        " 27 ../../../raw/S20150904S0194 -->  fS20150904S0194 \n",
        "                   Dark      2-pix_grid            none   5.0   4.4   35000 \n"
       ]
      },
      {
       "output_type": "stream",
       "stream": "stdout",
       "text": [
        " 28 ../../../raw/S20150827S0616 -->  fS20150827S0616 \n",
        "                     JH       2pix-slit            none  11.7   4.4   35000 \n"
       ]
      },
      {
       "output_type": "stream",
       "stream": "stdout",
       "text": [
        " 29 ../../../raw/S20150827S0617 -->  fS20150827S0617 \n",
        "                     JH       2pix-slit            none  11.7   4.4   35000 \n"
       ]
      },
      {
       "output_type": "stream",
       "stream": "stdout",
       "text": [
        " 30 ../../../raw/S20150827S0618 -->  fS20150827S0618 \n",
        "                     JH       2pix-slit            none  11.7   4.4   35000 \n"
       ]
      },
      {
       "output_type": "stream",
       "stream": "stdout",
       "text": [
        " 31 ../../../raw/S20150827S0619 -->  fS20150827S0619 \n",
        "                     JH       2pix-slit            none  11.7   4.4   35000 \n"
       ]
      },
      {
       "output_type": "stream",
       "stream": "stdout",
       "text": [
        " 32 ../../../raw/S20150904S0167 -->  fS20150904S0167 \n",
        "                   Dark      2-pix_grid            none  11.7   4.4   35000 \n"
       ]
      },
      {
       "output_type": "stream",
       "stream": "stdout",
       "text": [
        " 33 ../../../raw/S20150904S0168 -->  fS20150904S0168 \n",
        "                   Dark      2-pix_grid            none  11.7   4.4   35000 \n"
       ]
      },
      {
       "output_type": "stream",
       "stream": "stdout",
       "text": [
        " 34 ../../../raw/S20150904S0169 -->  fS20150904S0169 \n",
        "                   Dark      2-pix_grid            none  11.7   4.4   35000 \n"
       ]
      },
      {
       "output_type": "stream",
       "stream": "stdout",
       "text": [
        " 35 ../../../raw/S20150904S0170 -->  fS20150904S0170 \n",
        "                   Dark      2-pix_grid            none  11.7   4.4   35000 \n"
       ]
      },
      {
       "output_type": "stream",
       "stream": "stdout",
       "text": [
        " 36 ../../../raw/S20150904S0171 -->  fS20150904S0171 \n",
        "                   Dark      2-pix_grid            none  11.7   4.4   35000 \n"
       ]
      },
      {
       "output_type": "stream",
       "stream": "stdout",
       "text": [
        " 37 ../../../raw/S20150904S0172 -->  fS20150904S0172 \n",
        "                   Dark      2-pix_grid            none  11.7   4.4   35000 \n"
       ]
      },
      {
       "output_type": "stream",
       "stream": "stdout",
       "text": [
        " 38 ../../../raw/S20150904S0173 -->  fS20150904S0173 \n",
        "                   Dark      2-pix_grid            none  11.7   4.4   35000 \n"
       ]
      },
      {
       "output_type": "stream",
       "stream": "stdout",
       "text": [
        " 39 ../../../raw/S20150827S0620 -->  fS20150827S0620 \n",
        "                     JH       2pix-slit            none  11.7   4.4   35000 \n",
        " \n",
        "F2PREPARE exit status: good.\n",
        "----------------------------------------------------------------------------\n"
       ]
      }
     ],
     "prompt_number": 8
    },
    {
     "cell_type": "heading",
     "level": 2,
     "metadata": {},
     "source": [
      "STEP 6:  Create the necessary dark frames"
     ]
    },
    {
     "cell_type": "code",
     "collapsed": false,
     "input": [
      "iraf.delete('fflatdark.lis', verify='no')\n",
      "iraf.imdelete('flatdark.fits', verify='no')\n",
      "iraf.sections('f@flatdark.lis', Stdout='fflatdark.lis')\n",
      "iraf.gemcombine('@fflatdark.lis', 'flatdark.fits', combine='average', \\\n",
      "    fl_vardq='yes', logfile=iraf.f2.logfile)\n",
      "\n",
      "iraf.delete('farcdark.lis', verify='no')\n",
      "iraf.imdelete('arcdark.fits', verify='no')\n",
      "iraf.sections('f@arcdark.lis', Stdout='farcdark.lis')\n",
      "iraf.gemcombine('@farcdark.lis', 'arcdark.fits', combine='average', \\\n",
      "    fl_vardq='yes', logfile=iraf.f2.logfile)\n",
      "\n",
      "iraf.delete('fobjdark.lis', verify='no')\n",
      "iraf.imdelete('objdark.fits', verify='no')\n",
      "iraf.sections('f@objdark.lis', Stdout='fobjdark.lis')\n",
      "iraf.gemcombine('@fobjdark.lis', 'objdark.fits', combine='average', \\\n",
      "    fl_vardq='yes', logfile=iraf.f2.logfile)\n",
      "\n",
      "iraf.delete('fteldark.lis', verify='no')\n",
      "iraf.imdelete('teldark.fits', verify='no')\n",
      "iraf.sections('f@teldark.lis', Stdout='fteldark.lis')\n",
      "iraf.gemcombine('@fteldark.lis', 'teldark.fits', combine='average', \\\n",
      "    fl_vardq='yes', logfile=iraf.f2.logfile)\n",
      "\n",
      "iraf.delete('ftelarcdark.lis', verify='no')\n",
      "iraf.imdelete('telarcdark.fits', verify='no')\n",
      "iraf.sections('f@telarcdark.lis', Stdout='ftelarcdark.lis')\n",
      "iraf.gemcombine('@ftelarcdark.lis', 'telarcdark.fits', combine='average', \\\n",
      "    fl_vardq='yes', logfile=iraf.f2.logfile)\n"
     ],
     "language": "python",
     "metadata": {},
     "outputs": [
      {
       "output_type": "stream",
       "stream": "stderr",
       "text": [
        "Warning: Cannot delete file (fflatdark.lis)\n"
       ]
      },
      {
       "output_type": "stream",
       "stream": "stdout",
       "text": [
        "--------------------------------------------------------------------------------\n",
        "GEMCOMBINE -- Mon Oct 12 09:28:49 HST 2015\n",
        " \n",
        "GEMCOMBINE: input = @fflatdark.lis\n",
        "GEMCOMBINE: output = flatdark.fits\n",
        "GEMCOMBINE: title = \n",
        "GEMCOMBINE: bpmfile = \n",
        "GEMCOMBINE: sci_ext = SCI\n",
        "GEMCOMBINE: var_ext = VAR\n",
        "GEMCOMBINE: dq_ext = DQ\n",
        " \n"
       ]
      },
      {
       "output_type": "stream",
       "stream": "stdout",
       "text": [
        "\n",
        "Oct 12  9:28: IMCOMBINE\n",
        "  combine = average, scale = none, zero = none, weight = none\n",
        "  reject = avsigclip, mclip = yes, nkeep = 1\n",
        "  lsigma = 3., hsigma = 3.\n",
        "  blank = 0.\n",
        "  statsec = Oct 12  9:28\n",
        "                Images \n",
        "  fS20150904S0097.fits[SCI]\n",
        "  fS20150904S0098.fits[SCI]\n",
        "  fS20150904S0099.fits[SCI]\n",
        "  fS20150904S0100.fits[SCI]\n",
        "  fS20150904S0101.fits[SCI]\n",
        "  fS20150904S0102.fits[SCI]\n",
        "  fS20150904S0103.fits[SCI]\n",
        "\n",
        "  Output image = tmpcombout50204_336, ncombine = 7\n",
        "  Number rejected mask = tmpcombdq50204_337.pl\n",
        "  Sigma image = tmpcombsig50204_338\n"
       ]
      },
      {
       "output_type": "stream",
       "stream": "stdout",
       "text": [
        " \n",
        "GEMCOMBINE -- Finished: Mon Oct 12 09:29:02 HST 2015\n",
        " \n",
        "GEMCOMBINE -- Exit status: GOOD\n",
        "--------------------------------------------------------------------------------\n"
       ]
      },
      {
       "output_type": "stream",
       "stream": "stderr",
       "text": [
        "Warning: Cannot delete file (farcdark.lis)\n"
       ]
      },
      {
       "output_type": "stream",
       "stream": "stdout",
       "text": [
        "--------------------------------------------------------------------------------\n",
        "GEMCOMBINE -- Mon Oct 12 09:29:02 HST 2015\n",
        " \n",
        "GEMCOMBINE: input = @farcdark.lis\n",
        "GEMCOMBINE: output = arcdark.fits\n",
        "GEMCOMBINE: title = \n",
        "GEMCOMBINE: bpmfile = \n",
        "GEMCOMBINE: sci_ext = SCI\n",
        "GEMCOMBINE: var_ext = VAR\n",
        "GEMCOMBINE: dq_ext = DQ\n",
        " \n"
       ]
      },
      {
       "output_type": "stream",
       "stream": "stdout",
       "text": [
        "\n",
        "Oct 12  9:29: IMCOMBINE\n",
        "  combine = average, scale = none, zero = none, weight = none\n",
        "  reject = avsigclip, mclip = yes, nkeep = 1\n",
        "  lsigma = 3., hsigma = 3.\n",
        "  blank = 0.\n",
        "  statsec = Oct 12  9:29\n",
        "                Images \n",
        "  fS20150904S0146.fits[SCI]\n",
        "  fS20150904S0147.fits[SCI]\n",
        "  fS20150904S0148.fits[SCI]\n",
        "  fS20150904S0149.fits[SCI]\n",
        "  fS20150904S0150.fits[SCI]\n",
        "  fS20150904S0151.fits[SCI]\n",
        "  fS20150904S0152.fits[SCI]\n",
        "\n",
        "  Output image = tmpcombout50204_356, ncombine = 7\n",
        "  Number rejected mask = tmpcombdq50204_357.pl\n",
        "  Sigma image = tmpcombsig50204_358\n"
       ]
      },
      {
       "output_type": "stream",
       "stream": "stdout",
       "text": [
        " \n",
        "GEMCOMBINE -- Finished: Mon Oct 12 09:29:14 HST 2015\n",
        " \n",
        "GEMCOMBINE -- Exit status: GOOD\n",
        "--------------------------------------------------------------------------------\n"
       ]
      },
      {
       "output_type": "stream",
       "stream": "stderr",
       "text": [
        "Warning: Cannot delete file (fobjdark.lis)\n"
       ]
      },
      {
       "output_type": "stream",
       "stream": "stdout",
       "text": [
        "--------------------------------------------------------------------------------\n",
        "GEMCOMBINE -- Mon Oct 12 09:29:14 HST 2015\n",
        " \n",
        "GEMCOMBINE: input = @fobjdark.lis\n",
        "GEMCOMBINE: output = objdark.fits\n",
        "GEMCOMBINE: title = \n",
        "GEMCOMBINE: bpmfile = \n",
        "GEMCOMBINE: sci_ext = SCI\n",
        "GEMCOMBINE: var_ext = VAR\n",
        "GEMCOMBINE: dq_ext = DQ\n",
        " \n"
       ]
      },
      {
       "output_type": "stream",
       "stream": "stdout",
       "text": [
        "\n",
        "Oct 12  9:29: IMCOMBINE\n",
        "  combine = average, scale = none, zero = none, weight = none\n",
        "  reject = avsigclip, mclip = yes, nkeep = 1\n",
        "  lsigma = 3., hsigma = 3.\n",
        "  blank = 0.\n",
        "  statsec = Oct 12  9:29\n",
        "                Images \n",
        "  fS20150904S0188.fits[SCI]\n",
        "  fS20150904S0189.fits[SCI]\n",
        "  fS20150904S0190.fits[SCI]\n",
        "  fS20150904S0191.fits[SCI]\n",
        "  fS20150904S0192.fits[SCI]\n",
        "  fS20150904S0193.fits[SCI]\n",
        "  fS20150904S0194.fits[SCI]\n",
        "\n",
        "  Output image = tmpcombout50204_376, ncombine = 7\n",
        "  Number rejected mask = tmpcombdq50204_377.pl\n",
        "  Sigma image = tmpcombsig50204_378\n"
       ]
      },
      {
       "output_type": "stream",
       "stream": "stdout",
       "text": [
        " \n",
        "GEMCOMBINE -- Finished: Mon Oct 12 09:29:26 HST 2015\n",
        " \n",
        "GEMCOMBINE -- Exit status: GOOD\n",
        "--------------------------------------------------------------------------------\n"
       ]
      },
      {
       "output_type": "stream",
       "stream": "stderr",
       "text": [
        "Warning: Cannot delete file (fteldark.lis)\n"
       ]
      },
      {
       "output_type": "stream",
       "stream": "stdout",
       "text": [
        "--------------------------------------------------------------------------------\n",
        "GEMCOMBINE -- Mon Oct 12 09:29:26 HST 2015\n",
        " \n",
        "GEMCOMBINE: input = @fteldark.lis\n",
        "GEMCOMBINE: output = teldark.fits\n",
        "GEMCOMBINE: title = \n",
        "GEMCOMBINE: bpmfile = \n",
        "GEMCOMBINE: sci_ext = SCI\n",
        "GEMCOMBINE: var_ext = VAR\n",
        "GEMCOMBINE: dq_ext = DQ\n",
        " \n"
       ]
      },
      {
       "output_type": "stream",
       "stream": "stdout",
       "text": [
        "\n",
        "Oct 12  9:29: IMCOMBINE\n",
        "  combine = average, scale = none, zero = none, weight = none\n",
        "  reject = avsigclip, mclip = yes, nkeep = 1\n",
        "  lsigma = 3., hsigma = 3.\n",
        "  blank = 0.\n",
        "  statsec = Oct 12  9:29\n",
        "                Images \n",
        "  fS20150904S0167.fits[SCI]\n",
        "  fS20150904S0168.fits[SCI]\n",
        "  fS20150904S0169.fits[SCI]\n",
        "  fS20150904S0170.fits[SCI]\n",
        "  fS20150904S0171.fits[SCI]\n",
        "  fS20150904S0172.fits[SCI]\n",
        "  fS20150904S0173.fits[SCI]\n",
        "\n",
        "  Output image = tmpcombout50204_396, ncombine = 7\n",
        "  Number rejected mask = tmpcombdq50204_397.pl\n",
        "  Sigma image = tmpcombsig50204_398\n"
       ]
      },
      {
       "output_type": "stream",
       "stream": "stdout",
       "text": [
        " \n",
        "GEMCOMBINE -- Finished: Mon Oct 12 09:29:38 HST 2015\n",
        " \n",
        "GEMCOMBINE -- Exit status: GOOD\n",
        "--------------------------------------------------------------------------------\n"
       ]
      },
      {
       "output_type": "stream",
       "stream": "stderr",
       "text": [
        "Warning: Cannot delete file (ftelarcdark.lis)\n"
       ]
      },
      {
       "output_type": "stream",
       "stream": "stdout",
       "text": [
        "--------------------------------------------------------------------------------\n",
        "GEMCOMBINE -- Mon Oct 12 09:29:38 HST 2015\n",
        " \n",
        "GEMCOMBINE: input = @ftelarcdark.lis\n",
        "GEMCOMBINE: output = telarcdark.fits\n",
        "GEMCOMBINE: title = \n",
        "GEMCOMBINE: bpmfile = \n",
        "GEMCOMBINE: sci_ext = SCI\n",
        "GEMCOMBINE: var_ext = VAR\n",
        "GEMCOMBINE: dq_ext = DQ\n",
        " \n"
       ]
      },
      {
       "output_type": "stream",
       "stream": "stdout",
       "text": [
        "\n",
        "Oct 12  9:29: IMCOMBINE\n",
        "  combine = average, scale = none, zero = none, weight = none\n",
        "  reject = avsigclip, mclip = yes, nkeep = 1\n",
        "  lsigma = 3., hsigma = 3.\n",
        "  blank = 0.\n",
        "  statsec = Oct 12  9:29\n",
        "                Images \n",
        "  fS20150904S0146.fits[SCI]\n",
        "  fS20150904S0147.fits[SCI]\n",
        "  fS20150904S0148.fits[SCI]\n",
        "  fS20150904S0149.fits[SCI]\n",
        "  fS20150904S0150.fits[SCI]\n",
        "  fS20150904S0151.fits[SCI]\n",
        "  fS20150904S0152.fits[SCI]\n",
        "\n",
        "  Output image = tmpcombout50204_416, ncombine = 7\n",
        "  Number rejected mask = tmpcombdq50204_417.pl\n",
        "  Sigma image = tmpcombsig50204_418\n"
       ]
      },
      {
       "output_type": "stream",
       "stream": "stdout",
       "text": [
        " \n",
        "GEMCOMBINE -- Finished: Mon Oct 12 09:29:48 HST 2015\n",
        " \n",
        "GEMCOMBINE -- Exit status: GOOD\n",
        "--------------------------------------------------------------------------------\n"
       ]
      }
     ],
     "prompt_number": 9
    },
    {
     "cell_type": "heading",
     "level": 2,
     "metadata": {},
     "source": [
      "STEP 7:  Create the normalized flat field and BPM."
     ]
    },
    {
     "cell_type": "heading",
     "level": 3,
     "metadata": {},
     "source": [
      "Subtract the dark from the flat images then cut"
     ]
    },
    {
     "cell_type": "code",
     "collapsed": false,
     "input": [
      "iraf.imdelete ('df@flat.lis', verify='no')\n",
      "\n",
      "file = open('flat.lis', 'r')\n",
      "for line in file:\n",
      "\timage = line.strip()\n",
      "\tiraf.gemarith ('f' + image, '-', 'flatdark.fits', 'df' + image, \\\n",
      "\t\tfl_vardq='yes', logfile=iraf.f2.logfile)\n",
      "\n",
      "file.close()\n",
      "\n",
      "iraf.imdelete ('cdf@flat.lis', verify='no')\n",
      "iraf.f2cut ('df@flat.lis')"
     ],
     "language": "python",
     "metadata": {},
     "outputs": [
      {
       "output_type": "stream",
       "stream": "stdout",
       "text": [
        "GEMARITH begin (this task relies on gemexpr)\n"
       ]
      },
      {
       "output_type": "stream",
       "stream": "stdout",
       "text": [
        "GEMARITH PHU copy: fS20150827S0638[0] --> dfS20150827S0638[0,APPEND])\n"
       ]
      },
      {
       "output_type": "stream",
       "stream": "stdout",
       "text": [
        "GEMARITH No MDF present in source\n"
       ]
      },
      {
       "output_type": "stream",
       "stream": "stdout",
       "text": [
        "GEMARITH gemarith: done\n"
       ]
      },
      {
       "output_type": "stream",
       "stream": "stdout",
       "text": [
        "----------------------------------------------------------------------------\n",
        "F2CUT -- Mon Oct 12 09:29:57 HST 2015\n",
        " \n",
        "\n",
        "Pixel scale: 0.1797"
       ]
      },
      {
       "output_type": "stream",
       "stream": "stdout",
       "text": [
        "\n",
        "Grism: JH_G5801\n",
        "Filter: JH\n",
        "\n",
        "dfS20150827S0638 --> cdfS20150827S0638"
       ]
      },
      {
       "output_type": "stream",
       "stream": "stdout",
       "text": [
        "\n",
        " [SCI,1][42:1507,367:1620] --> [SCI,1]\n"
       ]
      },
      {
       "output_type": "stream",
       "stream": "stdout",
       "text": [
        " \n",
        "F2CUT exit status: good.\n",
        "----------------------------------------------------------------------------\n"
       ]
      }
     ],
     "prompt_number": 10
    },
    {
     "cell_type": "heading",
     "level": 3,
     "metadata": {},
     "source": [
      "Construct the normalised flat field.  "
     ]
    },
    {
     "cell_type": "markdown",
     "metadata": {},
     "source": [
      "The flats are derived from images taken with the calibration unit (GCAL) shutter open (\"lamps-on\").  It is recommended to run <code>nsflat</code> interactively to ensure a good fit of the lamp's profile.\n",
      "\n",
      "The fit order must be high enough to fit the lamp's profile but not too high since we do not want to fit the variations due to the pixel to pixel variation.  For the JH filter, the fit should look like in the screenshots below.  Note that in the zoomed plot, the fit matches the overall profile, not the high frequency variations.\n",
      "\n",
      "The overall fit:\n",
      "\n",
      "![QL-JH-nsflat_fit](../screenshots/QL-JH-nsflat_fit.png)\n",
      "\n",
      "<br \\>\n",
      "Zooming in to confirm that the high frequency signal is not being fit:  \n",
      "\n",
      "![QL-JH-nsflat_fit_zoom](../screenshots/QL-JH-nsflat_fit_zoom.png)"
     ]
    },
    {
     "cell_type": "markdown",
     "metadata": {},
     "source": [
      "If the order needs to be changed, the <code>:order</code> command will be required and that does not work well in the iPython notebook.  So copy the following to the PyRAF we prepared earlier, and find a good fit.\n",
      "\n",
      "    iraf.imdelete('flat.fits,f2_ls_bpm.pl', verify='no')\n",
      "    iraf.nsflat('cdf@flat.lis', flatfile='flat.fits', \\\n",
      "        bpmfile='f2_ls_bpm.pl', thr_flo=0.35, thr_fup=3.0, \\\n",
      "        fl_inter='yes', order=120)\n",
      "        "
     ]
    },
    {
     "cell_type": "heading",
     "level": 2,
     "metadata": {},
     "source": [
      "STEP 8:  Reduce the science arc and determine the wavelength solution"
     ]
    },
    {
     "cell_type": "markdown",
     "metadata": {},
     "source": [
      "The wavelength solution is derived from an arc taken right after the science observation, before anything is moved (eg. grating, slit, etc.)\n",
      "\n",
      "We will reduce the arc and calculate the wavelength solution as this is what we will surely be using for the science observations.\n",
      "\n",
      "The wavelength solution step really should be done in interactive mode as it is not uncommon to have to reject lines and/or adjust the matches with the line list."
     ]
    },
    {
     "cell_type": "heading",
     "level": 3,
     "metadata": {},
     "source": [
      "Reduce the science arc"
     ]
    },
    {
     "cell_type": "code",
     "collapsed": false,
     "input": [
      "# Subtract the dark from the arc images prior to cutting and flat dividing.\n",
      "\n",
      "iraf.imdelete('df@arc.lis', verify='no')\n",
      "iraf.nsreduce('f@arc.lis', outprefix='d', fl_cut='no', fl_process_cut='no', \\\n",
      "    fl_dark='yes', darkimage='arcdark.fits', fl_sky='no', fl_flat='no')\n",
      "\n",
      "# Cut the arc images and divide by the normalised flat field image.\n",
      "\n",
      "iraf.imdelete('rdf@arc.lis', verify='no')\n",
      "iraf.nsreduce('df@arc.lis', fl_cut='yes', fl_dark='no', fl_sky='no', fl_flat='yes', \\\n",
      "    flatimage='flat.fits')\n",
      "\n",
      "# Combine the arc files (if there is more than one arc file)\n",
      "\n",
      "iraf.imdelete('arc.fits', verify='no')\n",
      "iraf.delete('rdfarc.lis', verify='no')\n",
      "iraf.sections('rdf@arc.lis//.fits', Stdout='rdfarc.lis')\n",
      "\n",
      "count = 0\n",
      "file = open('arc.lis', 'r')\n",
      "for line in file:\n",
      "\tcount += 1\n",
      "\n",
      "if count == 1:\n",
      "\tiraf.copy ('@rdfarc.lis', 'arc.fits')\n",
      "else:\n",
      "\tiraf.gemcombine ('@rdfarc.lis', 'arc.fits', fl_vardq='yes')\n",
      "\n",
      "file.close()\n",
      "print 'Done'"
     ],
     "language": "python",
     "metadata": {},
     "outputs": [
      {
       "output_type": "stream",
       "stream": "stdout",
       "text": [
        "-------------------------------------------------------------------------------\n",
        "NSREDUCE -- Mon Oct 12 09:30:48 HST 2015\n",
        " \n",
        "NSREDUCE: Processing 1 extension(s) from 1 file(s)."
       ]
      },
      {
       "output_type": "stream",
       "stream": "stdout",
       "text": [
        "\n"
       ]
      },
      {
       "output_type": "stream",
       "stream": "stdout",
       "text": [
        "NSREDUCE: slit: 2pix-slit\n",
        "NSREDUCE: filter: JH\n",
        "\n",
        "   n input                   --> output                  sky image\n",
        " dark                    flat                    scale\n",
        "\n",
        "   1 fS20150827S0637         --> dfS20150827S0637        none                   \n",
        " arcdark                 none                    1.0000 \n"
       ]
      },
      {
       "output_type": "stream",
       "stream": "stdout",
       "text": [
        " \n",
        "NSREDUCE exit status: good.\n",
        "------------------------------------------------------------------------------\n",
        "-------------------------------------------------------------------------------"
       ]
      },
      {
       "output_type": "stream",
       "stream": "stdout",
       "text": [
        "\n",
        "NSREDUCE -- Mon Oct 12 09:30:51 HST 2015\n",
        " \n",
        "----------------------------------------------------------------------------"
       ]
      },
      {
       "output_type": "stream",
       "stream": "stdout",
       "text": [
        "\n",
        "F2CUT -- Mon Oct 12 09:30:51 HST 2015\n",
        " \n",
        "\n",
        "Pixel scale: 0.1797"
       ]
      },
      {
       "output_type": "stream",
       "stream": "stdout",
       "text": [
        "\n",
        "Grism: JH_G5801\n",
        "Filter: JH\n",
        "\n",
        "dfS20150827S0637 --> dfS20150827S0637-50204_489"
       ]
      },
      {
       "output_type": "stream",
       "stream": "stdout",
       "text": [
        "\n",
        " [SCI,1][42:1507,367:1620] --> [SCI,1]\n"
       ]
      },
      {
       "output_type": "stream",
       "stream": "stdout",
       "text": [
        " \n",
        "F2CUT exit status: good.\n",
        "----------------------------------------------------------------------------\n",
        "------------------------------------------------------------------------------\n",
        "NSAPPWAVE -- Mon Oct 12 09:30:52 HST 2015\n",
        " \n"
       ]
      },
      {
       "output_type": "stream",
       "stream": "stdout",
       "text": [
        "NSAPPWAVE: Processing 1 extension(s) from 1 file(s).\n",
        "  Camera     Grating    Filter     Prism      FPMask     Wave   Delta Order Axis\n",
        "dfS20150827S0637-50204_489 -> dfS20150827S0637-50204_490 ( 1)"
       ]
      },
      {
       "output_type": "stream",
       "stream": "stdout",
       "text": [
        "\n",
        "  f/16_G5830   JH_G5801         JH             2pix-slit 13900.00 -6.67 INDEF 2\n"
       ]
      },
      {
       "output_type": "stream",
       "stream": "stdout",
       "text": [
        "NSAPPWAVE: cradius not from table for dfS20150827S0637-50204_489.\n",
        "           (further table messages supressed for this file).\n",
        "  extension  1: 13900.000000 -6.667000 INDEF\n"
       ]
      },
      {
       "output_type": "stream",
       "stream": "stdout",
       "text": [
        "\n",
        "NSAPPWAVE Exit status good\n",
        "------------------------------------------------------------------------------\n",
        "NSREDUCE: Processing 1 extension(s) from 1 file(s).\n"
       ]
      },
      {
       "output_type": "stream",
       "stream": "stdout",
       "text": [
        "NSREDUCE: slit: 2pix-slit\n",
        "NSREDUCE: filter: JH\n",
        "\n",
        "   n input                   --> output                  sky image\n",
        " dark                    flat                    scale\n",
        "\n",
        "   1 dfS20150827S0637        --> rdfS20150827S0637       none                   \n",
        " none                    flat                    1.0000 \n"
       ]
      },
      {
       "output_type": "stream",
       "stream": "stdout",
       "text": [
        " \n",
        "NSREDUCE exit status: good.\n",
        "------------------------------------------------------------------------------\n"
       ]
      },
      {
       "output_type": "stream",
       "stream": "stderr",
       "text": [
        "Warning: Cannot delete file (rdfarc.lis)\n"
       ]
      },
      {
       "output_type": "stream",
       "stream": "stdout",
       "text": [
        "Done\n"
       ]
      }
     ],
     "prompt_number": 11
    },
    {
     "cell_type": "heading",
     "level": 3,
     "metadata": {},
     "source": [
      "Determine the wavelength solution from the science arc"
     ]
    },
    {
     "cell_type": "markdown",
     "metadata": {},
     "source": [
      "Normally, the lines will be identified automatically and this step, while interactive is used to delete a couple outliers and visually confirm that the fit is good.\n",
      "\n",
      "If, for some reason (it can happen), the lines do not get identified automatically and they need to be marked manually, you will need to run the two commands below in the PyRAF sessions since you will need full interactive support.  But most of the time, running this in the notebook works okay."
     ]
    },
    {
     "cell_type": "code",
     "collapsed": false,
     "input": [
      "iraf.imdelete ('warc.fits', verify='no')\n",
      "iraf.nswavelength ('arc.fits', fl_inter='yes', order=8)\n",
      "\n",
      "# RMS 0.38"
     ],
     "language": "python",
     "metadata": {},
     "outputs": [
      {
       "output_type": "stream",
       "stream": "stdout",
       "text": [
        "-------------------------------------------------------------------------------\n",
        "NSWAVELENGTH -- Mon Oct 12 09:31:10 HST 2015\n",
        "\n",
        "NSWAVELENGTH: LS data detected. Calling nswhelper to process data."
       ]
      },
      {
       "output_type": "stream",
       "stream": "stdout",
       "text": [
        "\n",
        "-------------------------------------------------------------------------------\n",
        "NSWHELPER -- Mon Oct 12 09:31:10 HST 2015\n",
        "\n"
       ]
      },
      {
       "output_type": "stream",
       "stream": "stdout",
       "text": [
        "Using input files:\n",
        "arc\n"
       ]
      },
      {
       "output_type": "stream",
       "stream": "stdout",
       "text": [
        "Using output files:\n",
        "warc\n"
       ]
      },
      {
       "output_type": "stream",
       "stream": "stdout",
       "text": [
        "Lamp image: arc[SCI,1]\n",
        "\n"
       ]
      },
      {
       "output_type": "stream",
       "stream": "stdout",
       "text": [
        "AUTOIDENTIFY: NOAO/IRAF V2.16 klabrie@libellule.gemini.edu Mon 09:31:13 12-Oct-2015\n"
       ]
      },
      {
       "output_type": "stream",
       "stream": "stdout",
       "text": [
        "  Spectrum                 # Found   Midpoint Dispersion        RMS\n"
       ]
      },
      {
       "output_type": "stream",
       "stream": "stdout",
       "text": [
        "  warc[SCI,1][733,*]            63     13882.      -6.51      0.378\n"
       ]
      },
      {
       "output_type": "stream",
       "stream": "stdout",
       "text": [
        "warc[SCI,1][733,*]: Examine identifications interactively?"
       ]
      },
      {
       "output_type": "stream",
       "stream": "stdout",
       "text": [
        "    996.31  11490.798    11491.2 B NOAO\n"
       ]
      },
      {
       "output_type": "stream",
       "stream": "stdout",
       "text": [
        "   1122.14  10676.587    10676.5 100 NOAO\n"
       ]
      },
      {
       "output_type": "stream",
       "stream": "stdout",
       "text": [
        "   1122.14  10676.587    10676.5 100 NOAO\n"
       ]
      },
      {
       "output_type": "stream",
       "stream": "stdout",
       "text": [
        "\n",
        "REIDENTIFY: NOAO/IRAF V2.16 klabrie@libellule.gemini.edu Mon 09:31:37 12-Oct-2015\n"
       ]
      },
      {
       "output_type": "stream",
       "stream": "stdout",
       "text": [
        "  Reference image = warc[SCI,1], New image = warc[SCI,1], Refit = yes\n",
        "          Image Data    Found     Fit Pix Shift  User Shift  Z Shift      RMS\n"
       ]
      },
      {
       "output_type": "stream",
       "stream": "stdout",
       "text": [
        "warc[SCI,1][723,*]     56/57   55/56     0.0346      -0.226  -1.7E-5    0.317\n"
       ]
      },
      {
       "output_type": "stream",
       "stream": "stdout",
       "text": [
        "warc[SCI,1][723,*]     56/57   55/56     0.0346      -0.226  -1.7E-5    0.317\n"
       ]
      },
      {
       "output_type": "stream",
       "stream": "stdout",
       "text": [
        "warc[SCI,1][713,*]     56/57   54/56     0.0718      -0.468  -3.4E-5    0.355\n"
       ]
      },
      {
       "output_type": "stream",
       "stream": "stdout",
       "text": [
        "warc[SCI,1][703,*]     56/57   54/56      0.124      -0.806  -5.8E-5    0.336\n"
       ]
      },
      {
       "output_type": "stream",
       "stream": "stdout",
       "text": [
        "warc[SCI,1][693,*]     57/57   53/57      0.138      -0.897  -6.6E-5    0.337\n"
       ]
      },
      {
       "output_type": "stream",
       "stream": "stdout",
       "text": [
        "warc[SCI,1][683,*]     56/57   54/56      0.194       -1.26  -9.0E-5    0.333\n"
       ]
      },
      {
       "output_type": "stream",
       "stream": "stdout",
       "text": [
        "warc[SCI,1][673,*]     56/57   53/56      0.199        -1.3  -9.9E-5    0.356\n"
       ]
      },
      {
       "output_type": "stream",
       "stream": "stdout",
       "text": [
        "warc[SCI,1][663,*]     55/57   54/55      0.287       -1.87  -1.3E-4     0.37\n"
       ]
      },
      {
       "output_type": "stream",
       "stream": "stdout",
       "text": [
        "warc[SCI,1][653,*]     57/57   56/57      0.341       -2.22  -1.6E-4    0.439\n"
       ]
      },
      {
       "output_type": "stream",
       "stream": "stdout",
       "text": [
        "warc[SCI,1][643,*]     56/57   55/56      0.382       -2.49  -1.8E-4    0.391\n"
       ]
      },
      {
       "output_type": "stream",
       "stream": "stdout",
       "text": [
        "warc[SCI,1][633,*]     56/57   55/56      0.422       -2.75  -2.0E-4    0.381\n"
       ]
      },
      {
       "output_type": "stream",
       "stream": "stdout",
       "text": [
        "warc[SCI,1][623,*]     57/57   57/57      0.486       -3.17  -2.3E-4    0.409\n"
       ]
      },
      {
       "output_type": "stream",
       "stream": "stdout",
       "text": [
        "warc[SCI,1][613,*]     56/57   56/56      0.529       -3.45  -2.5E-4    0.406\n"
       ]
      },
      {
       "output_type": "stream",
       "stream": "stdout",
       "text": [
        "warc[SCI,1][603,*]     57/57   57/57      0.586       -3.82  -2.7E-4    0.453\n"
       ]
      },
      {
       "output_type": "stream",
       "stream": "stdout",
       "text": [
        "warc[SCI,1][593,*]     56/57   55/56      0.619       -4.03  -2.9E-4    0.416\n"
       ]
      },
      {
       "output_type": "stream",
       "stream": "stdout",
       "text": [
        "warc[SCI,1][583,*]     55/57   54/55      0.662       -4.31  -3.1E-4     0.41\n"
       ]
      },
      {
       "output_type": "stream",
       "stream": "stdout",
       "text": [
        "warc[SCI,1][573,*]     56/57   54/56       0.71       -4.63  -3.3E-4     0.43\n"
       ]
      },
      {
       "output_type": "stream",
       "stream": "stdout",
       "text": [
        "warc[SCI,1][563,*]     57/57   55/57      0.744       -4.85  -3.5E-4    0.457\n"
       ]
      },
      {
       "output_type": "stream",
       "stream": "stdout",
       "text": [
        "warc[SCI,1][553,*]     56/57   54/56      0.797       -5.19  -3.7E-4    0.442\n"
       ]
      },
      {
       "output_type": "stream",
       "stream": "stdout",
       "text": [
        "warc[SCI,1][543,*]     55/57   55/55       0.88       -5.73  -4.1E-4    0.414\n"
       ]
      },
      {
       "output_type": "stream",
       "stream": "stdout",
       "text": [
        "warc[SCI,1][533,*]     55/57   54/55      0.925       -6.03  -4.3E-4     0.37\n"
       ]
      },
      {
       "output_type": "stream",
       "stream": "stdout",
       "text": [
        "warc[SCI,1][523,*]     54/57   54/54      0.974       -6.35  -4.6E-4    0.357\n"
       ]
      },
      {
       "output_type": "stream",
       "stream": "stdout",
       "text": [
        "warc[SCI,1][513,*]     55/57   55/55       1.02       -6.62  -4.8E-4     0.37\n"
       ]
      },
      {
       "output_type": "stream",
       "stream": "stdout",
       "text": [
        "warc[SCI,1][503,*]     55/57   54/55       1.06       -6.91  -5.0E-4    0.371\n"
       ]
      },
      {
       "output_type": "stream",
       "stream": "stdout",
       "text": [
        "warc[SCI,1][493,*]     56/57   54/56        1.1       -7.16  -5.2E-4    0.372\n"
       ]
      },
      {
       "output_type": "stream",
       "stream": "stdout",
       "text": [
        "warc[SCI,1][483,*]     55/57   55/55       1.18       -7.68  -5.5E-4    0.349\n"
       ]
      },
      {
       "output_type": "stream",
       "stream": "stdout",
       "text": [
        "warc[SCI,1][473,*]     56/57   54/56       1.22       -7.96  -5.7E-4     0.37\n"
       ]
      },
      {
       "output_type": "stream",
       "stream": "stdout",
       "text": [
        "warc[SCI,1][463,*]     55/57   54/55       1.29        -8.4  -6.0E-4    0.323\n"
       ]
      },
      {
       "output_type": "stream",
       "stream": "stdout",
       "text": [
        "warc[SCI,1][453,*]     55/57   53/55       1.34       -8.73  -6.3E-4    0.311\n"
       ]
      },
      {
       "output_type": "stream",
       "stream": "stdout",
       "text": [
        "warc[SCI,1][443,*]     55/57   54/55        1.4       -9.14  -6.6E-4    0.329\n"
       ]
      },
      {
       "output_type": "stream",
       "stream": "stdout",
       "text": [
        "warc[SCI,1][433,*]     55/57   54/55       1.45       -9.42  -6.7E-4    0.385\n"
       ]
      },
      {
       "output_type": "stream",
       "stream": "stdout",
       "text": [
        "warc[SCI,1][423,*]     56/57   54/56       1.54        -10.  -7.1E-4    0.345\n"
       ]
      },
      {
       "output_type": "stream",
       "stream": "stdout",
       "text": [
        "warc[SCI,1][413,*]     55/57   55/55       1.57       -10.2  -7.3E-4    0.403\n"
       ]
      },
      {
       "output_type": "stream",
       "stream": "stdout",
       "text": [
        "warc[SCI,1][403,*]     57/57   57/57       1.66       -10.8  -7.7E-4    0.423\n"
       ]
      },
      {
       "output_type": "stream",
       "stream": "stdout",
       "text": [
        "warc[SCI,1][393,*]     57/57   54/57       1.66       -10.8  -7.8E-4    0.389\n"
       ]
      },
      {
       "output_type": "stream",
       "stream": "stdout",
       "text": [
        "warc[SCI,1][383,*]     56/57   56/56       1.76       -11.5  -8.2E-4    0.382\n"
       ]
      },
      {
       "output_type": "stream",
       "stream": "stdout",
       "text": [
        "warc[SCI,1][373,*]     57/57   54/57        1.8       -11.7  -8.4E-4    0.356\n"
       ]
      },
      {
       "output_type": "stream",
       "stream": "stdout",
       "text": [
        "warc[SCI,1][363,*]     56/57   56/56       1.89       -12.3  -8.8E-4    0.396\n"
       ]
      },
      {
       "output_type": "stream",
       "stream": "stdout",
       "text": [
        "warc[SCI,1][353,*]     55/57   55/55       1.96       -12.7  -9.1E-4    0.382\n"
       ]
      },
      {
       "output_type": "stream",
       "stream": "stdout",
       "text": [
        "warc[SCI,1][343,*]     55/57   54/55       2.03       -13.2  -9.5E-4    0.378\n"
       ]
      },
      {
       "output_type": "stream",
       "stream": "stdout",
       "text": [
        "warc[SCI,1][333,*]     56/57   54/56       2.09       -13.6  -9.7E-4    0.351\n"
       ]
      },
      {
       "output_type": "stream",
       "stream": "stdout",
       "text": [
        "warc[SCI,1][323,*]     56/57   52/56       2.14       -13.9  -1.0E-3     0.33\n"
       ]
      },
      {
       "output_type": "stream",
       "stream": "stdout",
       "text": [
        "warc[SCI,1][313,*]     56/57   56/56       2.25       -14.6   -0.001    0.504\n"
       ]
      },
      {
       "output_type": "stream",
       "stream": "stdout",
       "text": [
        "warc[SCI,1][303,*]     56/57   55/56        2.3        -15.  -0.0011    0.393\n"
       ]
      },
      {
       "output_type": "stream",
       "stream": "stdout",
       "text": [
        "warc[SCI,1][293,*]     56/57   54/56       2.33       -15.2  -0.0011    0.421\n"
       ]
      },
      {
       "output_type": "stream",
       "stream": "stdout",
       "text": [
        "warc[SCI,1][283,*]     55/57   54/55       2.45        -16.  -0.0011     0.36\n"
       ]
      },
      {
       "output_type": "stream",
       "stream": "stdout",
       "text": [
        "warc[SCI,1][273,*]     55/57   53/55       2.53       -16.5  -0.0012    0.336\n"
       ]
      },
      {
       "output_type": "stream",
       "stream": "stdout",
       "text": [
        "warc[SCI,1][263,*]     55/57   53/55       2.59       -16.9  -0.0012    0.344\n"
       ]
      },
      {
       "output_type": "stream",
       "stream": "stdout",
       "text": [
        "warc[SCI,1][253,*]     55/57   53/55       2.61        -17.  -0.0012    0.322\n"
       ]
      },
      {
       "output_type": "stream",
       "stream": "stdout",
       "text": [
        "warc[SCI,1][243,*]     57/57   52/57       2.74       -17.9  -0.0013    0.236\n"
       ]
      },
      {
       "output_type": "stream",
       "stream": "stdout",
       "text": [
        "warc[SCI,1][233,*]     56/57   55/56       2.82       -18.4  -0.0013     0.35\n"
       ]
      },
      {
       "output_type": "stream",
       "stream": "stdout",
       "text": [
        "warc[SCI,1][223,*]     56/57   54/56       2.92        -19.  -0.0014    0.308\n"
       ]
      },
      {
       "output_type": "stream",
       "stream": "stdout",
       "text": [
        "warc[SCI,1][213,*]     56/57   56/56         3.       -19.5  -0.0014    0.391\n"
       ]
      },
      {
       "output_type": "stream",
       "stream": "stdout",
       "text": [
        "warc[SCI,1][203,*]     56/57   56/56       3.08       -20.1  -0.0014    0.376\n"
       ]
      },
      {
       "output_type": "stream",
       "stream": "stdout",
       "text": [
        "warc[SCI,1][193,*]     57/57   54/57       3.24       -21.1  -0.0015    0.407\n"
       ]
      },
      {
       "output_type": "stream",
       "stream": "stdout",
       "text": [
        "warc[SCI,1][183,*]     55/57   55/55       3.28       -21.3  -0.0015     0.38\n"
       ]
      },
      {
       "output_type": "stream",
       "stream": "stdout",
       "text": [
        "warc[SCI,1][173,*]     56/57   54/56       3.36       -21.9  -0.0016    0.457\n"
       ]
      },
      {
       "output_type": "stream",
       "stream": "stdout",
       "text": [
        "warc[SCI,1][163,*]     55/57   54/55       3.41       -22.2  -0.0016    0.342\n"
       ]
      },
      {
       "output_type": "stream",
       "stream": "stdout",
       "text": [
        "warc[SCI,1][153,*]     55/57   54/55       3.44       -22.5  -0.0016    0.331\n"
       ]
      },
      {
       "output_type": "stream",
       "stream": "stdout",
       "text": [
        "warc[SCI,1][143,*]     54/57   53/54       3.54       -23.1  -0.0016    0.318\n"
       ]
      },
      {
       "output_type": "stream",
       "stream": "stdout",
       "text": [
        "warc[SCI,1][133,*]     56/57   51/56       3.61       -23.5  -0.0017      0.3\n"
       ]
      },
      {
       "output_type": "stream",
       "stream": "stdout",
       "text": [
        "warc[SCI,1][123,*]     57/57   53/57       3.74       -24.4  -0.0017    0.332\n"
       ]
      },
      {
       "output_type": "stream",
       "stream": "stdout",
       "text": [
        "warc[SCI,1][113,*]     55/57   50/55       3.89       -25.3  -0.0018    0.237\n"
       ]
      },
      {
       "output_type": "stream",
       "stream": "stdout",
       "text": [
        "warc[SCI,1][103,*]     55/57   49/55       3.91       -25.5  -0.0018    0.252\n"
       ]
      },
      {
       "output_type": "stream",
       "stream": "stdout",
       "text": [
        "warc[SCI,1][93,*]      57/57   55/57       3.97       -25.8  -0.0018    0.425\n"
       ]
      },
      {
       "output_type": "stream",
       "stream": "stdout",
       "text": [
        "warc[SCI,1][83,*]      57/57   54/57       4.01       -26.1  -0.0019    0.396\n"
       ]
      },
      {
       "output_type": "stream",
       "stream": "stdout",
       "text": [
        "warc[SCI,1][73,*]      57/57   54/57       4.13       -26.9  -0.0019    0.365\n"
       ]
      },
      {
       "output_type": "stream",
       "stream": "stdout",
       "text": [
        "warc[SCI,1][63,*]      56/57   50/56       4.19       -27.3  -0.0019    0.358\n"
       ]
      },
      {
       "output_type": "stream",
       "stream": "stdout",
       "text": [
        "warc[SCI,1][53,*]      56/57   51/56       4.31       -28.1   -0.002    0.349\n"
       ]
      },
      {
       "output_type": "stream",
       "stream": "stdout",
       "text": [
        "warc[SCI,1][43,*]      56/57   51/56       4.45        -29.  -0.0021    0.326\n"
       ]
      },
      {
       "output_type": "stream",
       "stream": "stdout",
       "text": [
        "warc[SCI,1][33,*]      55/57   53/55       4.56       -29.7  -0.0021    0.385\n"
       ]
      },
      {
       "output_type": "stream",
       "stream": "stdout",
       "text": [
        "warc[SCI,1][23,*]      56/57   50/56       4.65       -30.3  -0.0022    0.291\n"
       ]
      },
      {
       "output_type": "stream",
       "stream": "stdout",
       "text": [
        "warc[SCI,1][13,*]      56/57   52/56       4.75        -31.  -0.0022    0.321\n"
       ]
      },
      {
       "output_type": "stream",
       "stream": "stdout",
       "text": [
        "warc[SCI,1][3,*]       56/57   52/56       4.83       -31.5  -0.0022      0.4\n"
       ]
      },
      {
       "output_type": "stream",
       "stream": "stdout",
       "text": [
        "warc[SCI,1][743,*]     55/57   53/55    -0.0485       0.316  2.28E-5    0.321\n"
       ]
      },
      {
       "output_type": "stream",
       "stream": "stdout",
       "text": [
        "warc[SCI,1][753,*]     56/57   56/56     -0.103       0.669  4.72E-5     0.39\n"
       ]
      },
      {
       "output_type": "stream",
       "stream": "stdout",
       "text": [
        "warc[SCI,1][763,*]     56/57   55/56     -0.135       0.877  6.34E-5    0.322\n"
       ]
      },
      {
       "output_type": "stream",
       "stream": "stdout",
       "text": [
        "warc[SCI,1][773,*]     56/57   56/56     -0.173        1.13  8.14E-5    0.367\n"
       ]
      },
      {
       "output_type": "stream",
       "stream": "stdout",
       "text": [
        "warc[SCI,1][783,*]     56/57   55/56     -0.234        1.52  1.12E-4    0.416\n"
       ]
      },
      {
       "output_type": "stream",
       "stream": "stdout",
       "text": [
        "warc[SCI,1][793,*]     56/57   54/56     -0.251        1.63  1.19E-4     0.34\n"
       ]
      },
      {
       "output_type": "stream",
       "stream": "stdout",
       "text": [
        "warc[SCI,1][803,*]     55/57   54/55     -0.293        1.91  1.39E-4    0.383\n"
       ]
      },
      {
       "output_type": "stream",
       "stream": "stdout",
       "text": [
        "warc[SCI,1][813,*]     55/57   55/55     -0.327        2.13  1.55E-4    0.411\n"
       ]
      },
      {
       "output_type": "stream",
       "stream": "stdout",
       "text": [
        "warc[SCI,1][823,*]     56/57   56/56     -0.375        2.44  1.78E-4    0.408\n"
       ]
      },
      {
       "output_type": "stream",
       "stream": "stdout",
       "text": [
        "warc[SCI,1][833,*]     57/57   53/57     -0.425        2.77  1.99E-4    0.348\n"
       ]
      },
      {
       "output_type": "stream",
       "stream": "stdout",
       "text": [
        "warc[SCI,1][843,*]     57/57   55/57     -0.495        3.22  2.28E-4    0.448\n"
       ]
      },
      {
       "output_type": "stream",
       "stream": "stdout",
       "text": [
        "warc[SCI,1][853,*]     56/57   51/56     -0.513        3.34  2.39E-4    0.349\n"
       ]
      },
      {
       "output_type": "stream",
       "stream": "stdout",
       "text": [
        "warc[SCI,1][863,*]     57/57   55/57     -0.524        3.41  2.46E-4      0.4\n"
       ]
      },
      {
       "output_type": "stream",
       "stream": "stdout",
       "text": [
        "warc[SCI,1][873,*]     57/57   56/57     -0.548        3.57  2.58E-4    0.463\n"
       ]
      },
      {
       "output_type": "stream",
       "stream": "stdout",
       "text": [
        "warc[SCI,1][883,*]     57/57   55/57     -0.577        3.76  2.72E-4    0.391\n"
       ]
      },
      {
       "output_type": "stream",
       "stream": "stdout",
       "text": [
        "warc[SCI,1][893,*]     56/57   55/56     -0.601        3.92  2.83E-4    0.408\n"
       ]
      },
      {
       "output_type": "stream",
       "stream": "stdout",
       "text": [
        "warc[SCI,1][903,*]     57/57   57/57     -0.636        4.14  3.00E-4    0.484\n"
       ]
      },
      {
       "output_type": "stream",
       "stream": "stdout",
       "text": [
        "warc[SCI,1][913,*]     57/57   56/57     -0.666        4.33  3.15E-4    0.417\n"
       ]
      },
      {
       "output_type": "stream",
       "stream": "stdout",
       "text": [
        "warc[SCI,1][923,*]     57/57   56/57     -0.718        4.67  3.40E-4    0.475\n"
       ]
      },
      {
       "output_type": "stream",
       "stream": "stdout",
       "text": [
        "warc[SCI,1][933,*]     56/57   56/56     -0.735        4.79  3.47E-4    0.478\n"
       ]
      },
      {
       "output_type": "stream",
       "stream": "stdout",
       "text": [
        "warc[SCI,1][943,*]     56/57   56/56     -0.778        5.07  3.69E-4    0.458\n"
       ]
      },
      {
       "output_type": "stream",
       "stream": "stdout",
       "text": [
        "warc[SCI,1][953,*]     56/57   55/56      -0.79        5.15  3.75E-4    0.415\n"
       ]
      },
      {
       "output_type": "stream",
       "stream": "stdout",
       "text": [
        "warc[SCI,1][963,*]     57/57   56/57     -0.822        5.35  3.90E-4    0.431\n"
       ]
      },
      {
       "output_type": "stream",
       "stream": "stdout",
       "text": [
        "warc[SCI,1][973,*]     57/57   56/57     -0.851        5.54  4.04E-4    0.407\n"
       ]
      },
      {
       "output_type": "stream",
       "stream": "stdout",
       "text": [
        "warc[SCI,1][983,*]     56/57   55/56     -0.842        5.48  4.00E-4    0.383\n"
       ]
      },
      {
       "output_type": "stream",
       "stream": "stdout",
       "text": [
        "warc[SCI,1][993,*]     55/57   54/55     -0.867        5.64  4.14E-4    0.341\n"
       ]
      },
      {
       "output_type": "stream",
       "stream": "stdout",
       "text": [
        "warc[SCI,1][1003,*]    56/57   53/56      -0.96        6.25  4.49E-4    0.402\n"
       ]
      },
      {
       "output_type": "stream",
       "stream": "stdout",
       "text": [
        "warc[SCI,1][1013,*]    56/57   55/56     -0.907        5.91  4.31E-4    0.423\n"
       ]
      },
      {
       "output_type": "stream",
       "stream": "stdout",
       "text": [
        "warc[SCI,1][1023,*]    56/57   54/56     -0.938        6.11  4.49E-4    0.358\n"
       ]
      },
      {
       "output_type": "stream",
       "stream": "stdout",
       "text": [
        "warc[SCI,1][1033,*]    57/57   55/57      -0.96        6.25  4.57E-4    0.393\n"
       ]
      },
      {
       "output_type": "stream",
       "stream": "stdout",
       "text": [
        "warc[SCI,1][1043,*]    57/57   56/57     -0.968         6.3  4.61E-4    0.478\n"
       ]
      },
      {
       "output_type": "stream",
       "stream": "stdout",
       "text": [
        "warc[SCI,1][1053,*]    55/57   54/55     -0.957        6.23  4.58E-4    0.397\n"
       ]
      },
      {
       "output_type": "stream",
       "stream": "stdout",
       "text": [
        "warc[SCI,1][1063,*]    56/57   54/56     -0.966        6.29  4.60E-4    0.393\n"
       ]
      },
      {
       "output_type": "stream",
       "stream": "stdout",
       "text": [
        "warc[SCI,1][1073,*]    56/57   55/56     -0.982        6.39  4.68E-4    0.442\n"
       ]
      },
      {
       "output_type": "stream",
       "stream": "stdout",
       "text": [
        "warc[SCI,1][1083,*]    56/57   55/56        -1.        6.53  4.78E-4    0.401\n"
       ]
      },
      {
       "output_type": "stream",
       "stream": "stdout",
       "text": [
        "warc[SCI,1][1093,*]    55/57   53/55      -1.02        6.64  4.89E-4    0.326\n"
       ]
      },
      {
       "output_type": "stream",
       "stream": "stdout",
       "text": [
        "warc[SCI,1][1103,*]    56/57   56/56      -1.03         6.7  4.91E-4    0.453\n"
       ]
      },
      {
       "output_type": "stream",
       "stream": "stdout",
       "text": [
        "warc[SCI,1][1113,*]    55/57   52/55      -1.04        6.76  4.93E-4    0.338\n"
       ]
      },
      {
       "output_type": "stream",
       "stream": "stdout",
       "text": [
        "warc[SCI,1][1123,*]    56/57   54/56      -1.06        6.88  5.05E-4    0.322\n"
       ]
      },
      {
       "output_type": "stream",
       "stream": "stdout",
       "text": [
        "warc[SCI,1][1133,*]    55/57   53/55      -1.07        6.98  5.15E-4     0.32\n"
       ]
      },
      {
       "output_type": "stream",
       "stream": "stdout",
       "text": [
        "warc[SCI,1][1143,*]    55/57   52/55      -1.09        7.11  5.25E-4    0.303\n"
       ]
      },
      {
       "output_type": "stream",
       "stream": "stdout",
       "text": [
        "warc[SCI,1][1153,*]    55/57   52/55      -1.11        7.22  5.33E-4    0.314\n"
       ]
      },
      {
       "output_type": "stream",
       "stream": "stdout",
       "text": [
        "warc[SCI,1][1163,*]    55/57   52/55      -1.12        7.29  5.39E-4    0.297\n"
       ]
      },
      {
       "output_type": "stream",
       "stream": "stdout",
       "text": [
        "warc[SCI,1][1173,*]    55/57   52/55      -1.14        7.42  5.49E-4    0.316\n"
       ]
      },
      {
       "output_type": "stream",
       "stream": "stdout",
       "text": [
        "warc[SCI,1][1183,*]    55/57   53/55      -1.15        7.51  5.57E-4    0.336\n"
       ]
      },
      {
       "output_type": "stream",
       "stream": "stdout",
       "text": [
        "warc[SCI,1][1193,*]    55/57   53/55      -1.16        7.57  5.62E-4    0.354\n"
       ]
      },
      {
       "output_type": "stream",
       "stream": "stdout",
       "text": [
        "warc[SCI,1][1203,*]    56/57   53/56      -1.18        7.71  5.70E-4    0.337\n"
       ]
      },
      {
       "output_type": "stream",
       "stream": "stdout",
       "text": [
        "warc[SCI,1][1213,*]    56/57   53/56       -1.2        7.83  5.79E-4    0.366\n"
       ]
      },
      {
       "output_type": "stream",
       "stream": "stdout",
       "text": [
        "warc[SCI,1][1223,*]    56/57   53/56      -1.21        7.89  5.84E-4    0.354\n"
       ]
      },
      {
       "output_type": "stream",
       "stream": "stdout",
       "text": [
        "warc[SCI,1][1233,*]    56/57   53/56      -1.22        7.92  5.88E-4    0.366\n"
       ]
      },
      {
       "output_type": "stream",
       "stream": "stdout",
       "text": [
        "warc[SCI,1][1243,*]    56/57   55/56      -1.22        7.93  5.88E-4    0.451\n"
       ]
      },
      {
       "output_type": "stream",
       "stream": "stdout",
       "text": [
        "warc[SCI,1][1253,*]    55/57   49/55      -1.24        8.09  6.05E-4    0.254\n"
       ]
      },
      {
       "output_type": "stream",
       "stream": "stdout",
       "text": [
        "warc[SCI,1][1263,*]    56/57   55/56      -1.24        8.04  5.98E-4    0.469\n"
       ]
      },
      {
       "output_type": "stream",
       "stream": "stdout",
       "text": [
        "warc[SCI,1][1273,*]    55/57   52/55      -1.24        8.05  6.02E-4    0.334\n"
       ]
      },
      {
       "output_type": "stream",
       "stream": "stdout",
       "text": [
        "warc[SCI,1][1283,*]    56/57   53/56      -1.22        7.91  5.94E-4    0.396\n"
       ]
      },
      {
       "output_type": "stream",
       "stream": "stdout",
       "text": [
        "warc[SCI,1][1293,*]    56/57   55/56      -1.23        7.97  5.95E-4    0.442\n"
       ]
      },
      {
       "output_type": "stream",
       "stream": "stdout",
       "text": [
        "warc[SCI,1][1303,*]    55/57   53/55       -1.2        7.81  5.86E-4    0.392\n"
       ]
      },
      {
       "output_type": "stream",
       "stream": "stdout",
       "text": [
        "warc[SCI,1][1313,*]    56/57   49/56      -1.19        7.77  5.78E-4    0.286\n"
       ]
      },
      {
       "output_type": "stream",
       "stream": "stdout",
       "text": [
        "warc[SCI,1][1323,*]    56/57   53/56      -1.17        7.59  5.69E-4    0.401\n"
       ]
      },
      {
       "output_type": "stream",
       "stream": "stdout",
       "text": [
        "warc[SCI,1][1333,*]    55/57   51/55      -1.15        7.47  5.63E-4    0.312\n"
       ]
      },
      {
       "output_type": "stream",
       "stream": "stdout",
       "text": [
        "warc[SCI,1][1343,*]    56/57   53/56      -1.13        7.36  5.51E-4    0.451\n"
       ]
      },
      {
       "output_type": "stream",
       "stream": "stdout",
       "text": [
        "warc[SCI,1][1353,*]    56/57   53/56      -1.14        7.41  5.56E-4    0.425\n"
       ]
      },
      {
       "output_type": "stream",
       "stream": "stdout",
       "text": [
        "warc[SCI,1][1363,*]    55/57   54/55      -1.15        7.45  5.62E-4    0.437\n"
       ]
      },
      {
       "output_type": "stream",
       "stream": "stdout",
       "text": [
        "warc[SCI,1][1373,*]    56/57   52/56      -1.15        7.45  5.60E-4    0.396\n"
       ]
      },
      {
       "output_type": "stream",
       "stream": "stdout",
       "text": [
        "warc[SCI,1][1383,*]    56/57   53/56      -1.15         7.5  5.66E-4    0.432\n"
       ]
      },
      {
       "output_type": "stream",
       "stream": "stdout",
       "text": [
        "warc[SCI,1][1393,*]    55/57   53/55      -1.16        7.57  5.74E-4    0.395\n"
       ]
      },
      {
       "output_type": "stream",
       "stream": "stdout",
       "text": [
        "warc[SCI,1][1403,*]    56/57   52/56      -1.19        7.74  5.81E-4    0.417\n"
       ]
      },
      {
       "output_type": "stream",
       "stream": "stdout",
       "text": [
        "warc[SCI,1][1413,*]    56/57   51/56      -1.16        7.53  5.65E-4    0.369\n"
       ]
      },
      {
       "output_type": "stream",
       "stream": "stdout",
       "text": [
        "warc[SCI,1][1423,*]    55/57   53/55      -1.09         7.1  5.42E-4    0.401\n"
       ]
      },
      {
       "output_type": "stream",
       "stream": "stdout",
       "text": [
        "warc[SCI,1][1433,*]    56/57   52/56      -1.15        7.49  5.64E-4    0.377\n"
       ]
      },
      {
       "output_type": "stream",
       "stream": "stdout",
       "text": [
        "warc[SCI,1][1443,*]    55/57   52/55      -1.11        7.19  5.51E-4    0.373\n"
       ]
      },
      {
       "output_type": "stream",
       "stream": "stdout",
       "text": [
        "warc[SCI,1][1453,*]    56/57   54/56      -1.07        6.92  5.32E-4    0.373\n"
       ]
      },
      {
       "output_type": "stream",
       "stream": "stdout",
       "text": [
        "warc[SCI,1][1463,*]    55/57   51/55      -1.07        6.97  5.37E-4    0.375\n"
       ]
      },
      {
       "output_type": "stream",
       "stream": "stdout",
       "text": [
        "\n",
        "NSWHELPER Exit status good\n",
        "-------------------------------------------------------------------------------\n",
        "\n",
        "NSWAVELENGTH Exit status good\n",
        "-------------------------------------------------------------------------------\n"
       ]
      }
     ],
     "prompt_number": 12
    },
    {
     "cell_type": "heading",
     "level": 2,
     "metadata": {},
     "source": [
      "Test recovery of a calibrated arc"
     ]
    },
    {
     "cell_type": "markdown",
     "metadata": {},
     "source": [
      "Confirm that applying the wavelength solution to the arc itself recovers a correctly wavelength-calibrated arc.  The key step is **<code>nsfitcoords</code>**.  The default **<code>lxorder</code>** and **<code>lyorder</code>** are both set to 2 which doesn't seem to be correct.  Running **<code>nsfitcoords</code>** interactively on the arc will allow us to discover the best **<code>lxorder</code>** and **<code>lyorder</code>** for this wavelength solution, and use that as a starting point later when using the arc wavelength solution (**<code>warc.fits</code>**) on the telluric and the science."
     ]
    },
    {
     "cell_type": "markdown",
     "metadata": {},
     "source": [
      "Cut and paste these instructions in the PyRAF session that we prepared in Step 0. \n",
      "\n",
      "    iraf.imdelete('farc.fits', verify='no')\n",
      "    iraf.nsfitcoords('arc.fits', lamptransf='warc.fits', fl_inter='yes')\n",
      "    # Note down the xorder and yorder needed for a good fit.  Use\n",
      "    # that whenever warc.fits is used by nsfitcoords.\n",
      "    # :xorder 3, :yorder 8\n",
      "\n",
      "\n",
      "The yorder is probably a bit high, but it definitely removes any trace of a wave pattern..."
     ]
    },
    {
     "cell_type": "markdown",
     "metadata": {},
     "source": [
      "Record the lxorder and lyorder in the notebook session for future use."
     ]
    },
    {
     "cell_type": "code",
     "collapsed": false,
     "input": [
      "lxorder=3 ; lyorder=8"
     ],
     "language": "python",
     "metadata": {},
     "outputs": [],
     "prompt_number": 13
    },
    {
     "cell_type": "code",
     "collapsed": false,
     "input": [
      "iraf.imdelete('tfarc.fits', verify='no')\n",
      "iraf.nstransform('farc.fits')\n",
      "iraf.display('tfarc.fits[sci,1]', 1)"
     ],
     "language": "python",
     "metadata": {},
     "outputs": [
      {
       "output_type": "stream",
       "stream": "stdout",
       "text": [
        "-------------------------------------------------------------------------------\n",
        "NSTRANSFORM -- Mon Oct 12 09:33:01 HST 2015\n",
        "\n",
        "Using input files:"
       ]
      },
      {
       "output_type": "stream",
       "stream": "stdout",
       "text": [
        "\n",
        "farc\n"
       ]
      },
      {
       "output_type": "stream",
       "stream": "stdout",
       "text": [
        "Using output files:\n",
        "tfarc\n"
       ]
      },
      {
       "output_type": "stream",
       "stream": "stdout",
       "text": [
        "NSTRANSFORM: Fitnames for farc: farc_SCI_1_lamp\n",
        "WARNING - NSTRANSFORM: No MDF in farc"
       ]
      },
      {
       "output_type": "stream",
       "stream": "stdout",
       "text": [
        "\n"
       ]
      },
      {
       "output_type": "stream",
       "stream": "stdout",
       "text": [
        "NSTRANSFORM: Exit status good\n",
        "-------------------------------------------------------------------------------\n"
       ]
      },
      {
       "output_type": "stream",
       "stream": "stdout",
       "text": [
        "z1=0. z2=1073.68\n"
       ]
      }
     ],
     "prompt_number": 14
    },
    {
     "cell_type": "code",
     "collapsed": false,
     "input": [
      "# display the first telluric to identify on which column the spectrum falls in\n",
      "# the A position.\n",
      "first_tel = iraf.head('tel.lis', nlines=1, Stdout=1)[0].strip()\n",
      "iraf.display('f'+first_tel+'[1]', 1)"
     ],
     "language": "python",
     "metadata": {},
     "outputs": [
      {
       "output_type": "stream",
       "stream": "stdout",
       "text": [
        "z1=-71. z2=536.2787\n"
       ]
      }
     ],
     "prompt_number": 15
    },
    {
     "cell_type": "code",
     "collapsed": false,
     "input": [
      "# UPDATE POSITION OF TELLURIC\n",
      "# position of the telluric is column 951 (around the center of the frame)\n",
      "iraf.tel_position = 951"
     ],
     "language": "python",
     "metadata": {},
     "outputs": [],
     "prompt_number": 16
    },
    {
     "cell_type": "code",
     "collapsed": false,
     "input": [
      "iraf.splot('tfarc.fits[sci,1]', line=iraf.tel_position, options=\"auto wreset flip\")"
     ],
     "language": "python",
     "metadata": {},
     "outputs": [
      {
       "output_type": "stream",
       "stream": "stdout",
       "text": [
        "window:"
       ]
      },
      {
       "output_type": "stream",
       "stream": "stdout",
       "text": [
        "again:"
       ]
      },
      {
       "output_type": "stream",
       "stream": "stdout",
       "text": [
        "k again:"
       ]
      },
      {
       "output_type": "stream",
       "stream": "stdout",
       "text": [
        "\n",
        "1: center =  13370.8, flux =  144113., eqw =  -125., gfwhm =  9.893"
       ]
      },
      {
       "output_type": "stream",
       "stream": "stdout",
       "text": [
        "window:"
       ]
      },
      {
       "output_type": "stream",
       "stream": "stdout",
       "text": [
        "window:"
       ]
      },
      {
       "output_type": "stream",
       "stream": "stdout",
       "text": [
        "again:"
       ]
      },
      {
       "output_type": "stream",
       "stream": "stdout",
       "text": [
        "k again:"
       ]
      },
      {
       "output_type": "stream",
       "stream": "stdout",
       "text": [
        "\n",
        "1: center =  10472.9, flux =   75600., eqw = -51.91, gfwhm =  14.99"
       ]
      },
      {
       "output_type": "stream",
       "stream": "stdout",
       "text": [
        "window:"
       ]
      },
      {
       "output_type": "stream",
       "stream": "stdout",
       "text": [
        "window:"
       ]
      },
      {
       "output_type": "stream",
       "stream": "stdout",
       "text": [
        "again:"
       ]
      },
      {
       "output_type": "stream",
       "stream": "stdout",
       "text": [
        "k again:"
       ]
      },
      {
       "output_type": "stream",
       "stream": "stdout",
       "text": [
        "\n",
        "1: center =  16945.8, flux =  191918., eqw = -52.15, gfwhm =   16.1"
       ]
      },
      {
       "output_type": "stream",
       "stream": "stdout",
       "text": [
        "window:"
       ]
      }
     ],
     "prompt_number": 17
    },
    {
     "cell_type": "markdown",
     "metadata": {},
     "source": [
      "Check that the arc lines are at the correct wavelength. Use '<code>k</code>' on each side of the a line to get the centroid. Then compare with the line list and the diagrams.\n",
      "\n",
      "Resource:  \n",
      "    http://www.gemini.edu/sciops/instruments/niri/?q=node/10166\n",
      "\n",
      "The NIRI plots from that webpage work well.\n",
      "\n",
      "*Result: (Kathleen)\n",
      "The arc gets transformed correctly with lxorder=3, lyorder=8.  Just quicklook for now, I have not looked carefully at the blue and red end, and I have not looked for an absolute offset.  I do notice that the lines are asymmetric at the blue and red end. "
     ]
    },
    {
     "cell_type": "heading",
     "level": 2,
     "metadata": {},
     "source": [
      "STEP 9: Reduce the science data"
     ]
    },
    {
     "cell_type": "code",
     "collapsed": false,
     "input": [
      "iraf.imdelete('df@obj.lis', verify='no')\n",
      "iraf.nsreduce('f@obj.lis', outprefix='d', fl_cut='no', fl_process_cut='no', \\\n",
      "    fl_dark='yes', darkimage='objdark.fits', fl_sky='no', fl_flat='no')\n",
      "\n",
      "iraf.imdelete('rdf@obj.lis', verify='no')\n",
      "iraf.nsreduce('df@obj.lis', fl_cut='yes', fl_dark='no', fl_sky='yes', \\\n",
      "    fl_flat='yes', flatimage='flat.fits')"
     ],
     "language": "python",
     "metadata": {},
     "outputs": [
      {
       "output_type": "stream",
       "stream": "stdout",
       "text": [
        "-------------------------------------------------------------------------------\n",
        "NSREDUCE -- Mon Oct 12 09:36:49 HST 2015\n",
        " \n",
        "NSREDUCE: Processing 4 extension(s) from 4 file(s)."
       ]
      },
      {
       "output_type": "stream",
       "stream": "stdout",
       "text": [
        "\n"
       ]
      },
      {
       "output_type": "stream",
       "stream": "stdout",
       "text": [
        "NSREDUCE: slit: 2pix-slit\n",
        "NSREDUCE: filter: JH\n",
        "\n",
        "   n input                   --> output                  sky image\n",
        " dark                    flat                    scale\n",
        "\n",
        "   1 fS20150827S0633         --> dfS20150827S0633        none                   \n",
        " objdark                 none                    1.0000 \n",
        "   2 fS20150827S0634         --> dfS20150827S0634        none                   "
       ]
      },
      {
       "output_type": "stream",
       "stream": "stdout",
       "text": [
        "\n",
        " objdark                 none                    1.0000 \n",
        "   3 fS20150827S0635         --> dfS20150827S0635        none                   "
       ]
      },
      {
       "output_type": "stream",
       "stream": "stdout",
       "text": [
        "\n",
        " objdark                 none                    1.0000 \n",
        "   4 fS20150827S0636         --> dfS20150827S0636        none                   "
       ]
      },
      {
       "output_type": "stream",
       "stream": "stdout",
       "text": [
        "\n",
        " objdark                 none                    1.0000 \n"
       ]
      },
      {
       "output_type": "stream",
       "stream": "stdout",
       "text": [
        " \n",
        "NSREDUCE exit status: good.\n",
        "------------------------------------------------------------------------------\n",
        "-------------------------------------------------------------------------------"
       ]
      },
      {
       "output_type": "stream",
       "stream": "stdout",
       "text": [
        "\n",
        "NSREDUCE -- Mon Oct 12 09:36:58 HST 2015\n",
        " \n",
        "----------------------------------------------------------------------------"
       ]
      },
      {
       "output_type": "stream",
       "stream": "stdout",
       "text": [
        "\n",
        "F2CUT -- Mon Oct 12 09:36:58 HST 2015\n",
        " \n",
        "\n",
        "Pixel scale: 0.1797"
       ]
      },
      {
       "output_type": "stream",
       "stream": "stdout",
       "text": [
        "\n",
        "Grism: JH_G5801\n",
        "Filter: JH\n",
        "\n",
        "dfS20150827S0633 --> dfS20150827S0633-50204_589"
       ]
      },
      {
       "output_type": "stream",
       "stream": "stdout",
       "text": [
        "\n",
        " [SCI,1][42:1507,367:1620] --> [SCI,1]\n",
        "dfS20150827S0634 --> dfS20150827S0634-50204_591"
       ]
      },
      {
       "output_type": "stream",
       "stream": "stdout",
       "text": [
        "\n",
        "dfS20150827S0635 --> dfS20150827S0635-50204_593"
       ]
      },
      {
       "output_type": "stream",
       "stream": "stdout",
       "text": [
        "\n",
        "dfS20150827S0636 --> dfS20150827S0636-50204_595"
       ]
      },
      {
       "output_type": "stream",
       "stream": "stdout",
       "text": [
        "\n"
       ]
      },
      {
       "output_type": "stream",
       "stream": "stdout",
       "text": [
        " \n",
        "F2CUT exit status: good.\n",
        "----------------------------------------------------------------------------\n",
        "------------------------------------------------------------------------------\n",
        "NSAPPWAVE -- Mon Oct 12 09:37:04 HST 2015\n",
        " \n"
       ]
      },
      {
       "output_type": "stream",
       "stream": "stdout",
       "text": [
        "NSAPPWAVE: Processing 4 extension(s) from 4 file(s).\n",
        "  Camera     Grating    Filter     Prism      FPMask     Wave   Delta Order Axis\n",
        "dfS20150827S0633-50204_589 -> dfS20150827S0633-50204_590 ( 1)"
       ]
      },
      {
       "output_type": "stream",
       "stream": "stdout",
       "text": [
        "\n",
        "  f/16_G5830   JH_G5801         JH             2pix-slit 13900.00 -6.67 INDEF 2\n"
       ]
      },
      {
       "output_type": "stream",
       "stream": "stdout",
       "text": [
        "NSAPPWAVE: cradius not from table for dfS20150827S0633-50204_589.\n",
        "           (further table messages supressed for this file).\n",
        "  extension  1: 13900.000000 -6.667000 INDEF\n",
        "dfS20150827S0634-50204_591 -> dfS20150827S0634-50204_592 ( 1)"
       ]
      },
      {
       "output_type": "stream",
       "stream": "stdout",
       "text": [
        "\n",
        "  f/16_G5830   JH_G5801         JH             2pix-slit 13900.00 -6.67 INDEF 2\n"
       ]
      },
      {
       "output_type": "stream",
       "stream": "stdout",
       "text": [
        "NSAPPWAVE: cradius not from table for dfS20150827S0634-50204_591.\n",
        "           (further table messages supressed for this file).\n",
        "  extension  1: 13900.000000 -6.667000 INDEF\n",
        "dfS20150827S0635-50204_593 -> dfS20150827S0635-50204_594 ( 1)"
       ]
      },
      {
       "output_type": "stream",
       "stream": "stdout",
       "text": [
        "\n",
        "  f/16_G5830   JH_G5801         JH             2pix-slit 13900.00 -6.67 INDEF 2\n"
       ]
      },
      {
       "output_type": "stream",
       "stream": "stdout",
       "text": [
        "NSAPPWAVE: cradius not from table for dfS20150827S0635-50204_593.\n",
        "           (further table messages supressed for this file).\n",
        "  extension  1: 13900.000000 -6.667000 INDEF\n",
        "dfS20150827S0636-50204_595 -> dfS20150827S0636-50204_596 ( 1)"
       ]
      },
      {
       "output_type": "stream",
       "stream": "stdout",
       "text": [
        "\n",
        "  f/16_G5830   JH_G5801         JH             2pix-slit 13900.00 -6.67 INDEF 2\n"
       ]
      },
      {
       "output_type": "stream",
       "stream": "stdout",
       "text": [
        "NSAPPWAVE: cradius not from table for dfS20150827S0636-50204_595.\n",
        "           (further table messages supressed for this file).\n",
        "  extension  1: 13900.000000 -6.667000 INDEF\n"
       ]
      },
      {
       "output_type": "stream",
       "stream": "stdout",
       "text": [
        "\n",
        "NSAPPWAVE Exit status good\n",
        "------------------------------------------------------------------------------\n",
        "NSREDUCE: Generating the sky frame(s) using the other nod positions\n",
        "          (separations greater than 1.5 arcsec) from neighbouring\n",
        "          exposures.\n",
        "\n",
        "------------------------------------------------------------------------------"
       ]
      },
      {
       "output_type": "stream",
       "stream": "stdout",
       "text": [
        "\n",
        "NSSKY -- Mon Oct 12 09:37:17 HST 2015\n",
        " \n",
        "WARNING - NSSKY: Will take sky from input images\n",
        "NSSKY: Obs time for dfS20150827S0633-50204_590.fits[0]:  8:42:11.9"
       ]
      },
      {
       "output_type": "stream",
       "stream": "stdout",
       "text": [
        "\n",
        "NSSKY: Obs time for dfS20150827S0634-50204_592.fits[0]:  8:44:27.4  0:02:15.5\n",
        "NSSKY: Obs time for dfS20150827S0635-50204_594.fits[0]:  8:46:38.4  0:02:11.0\n",
        "NSSKY: Obs time for dfS20150827S0636-50204_596.fits[0]:  8:48:53.9  0:02:15.5\n",
        "NSSKY: Min/max:  0:02:11.0/ 0:02:15.5\n",
        "NSSKY: Using observations within 135.5s as sky.\n",
        "NSSKY: Grouping images (please wait).\n"
       ]
      },
      {
       "output_type": "stream",
       "stream": "stdout",
       "text": [
        " \n",
        "NSSKY exit status: good.\n",
        "NSREDUCE: Processing 4 extension(s) from 4 file(s)."
       ]
      },
      {
       "output_type": "stream",
       "stream": "stdout",
       "text": [
        "\n"
       ]
      },
      {
       "output_type": "stream",
       "stream": "stdout",
       "text": [
        "NSREDUCE: slit: 2pix-slit\n",
        "NSREDUCE: filter: JH\n",
        "\n",
        "   n input                   --> output                  sky image\n",
        " dark                    flat                    scale\n",
        "\n",
        "   1 dfS20150827S0633        --> rdfS20150827S0633       dfS20150827S0634-50204_592\n",
        " none                    flat                    1.0000 \n",
        "   2 dfS20150827S0634        --> rdfS20150827S0634       dfS20150827S0633-50204_590"
       ]
      },
      {
       "output_type": "stream",
       "stream": "stdout",
       "text": [
        "\n",
        " none                    flat                    1.0000 \n",
        "   3 dfS20150827S0635        --> rdfS20150827S0635       dfS20150827S0636-50204_596"
       ]
      },
      {
       "output_type": "stream",
       "stream": "stdout",
       "text": [
        "\n",
        " none                    flat                    1.0000 \n",
        "   4 dfS20150827S0636        --> rdfS20150827S0636       dfS20150827S0635-50204_594"
       ]
      },
      {
       "output_type": "stream",
       "stream": "stdout",
       "text": [
        "\n",
        " none                    flat                    1.0000 \n"
       ]
      },
      {
       "output_type": "stream",
       "stream": "stdout",
       "text": [
        " \n",
        "NSREDUCE exit status: good.\n",
        "------------------------------------------------------------------------------\n"
       ]
      }
     ],
     "prompt_number": 18
    },
    {
     "cell_type": "heading",
     "level": 2,
     "metadata": {},
     "source": [
      "STEP 10: Combine the science data"
     ]
    },
    {
     "cell_type": "markdown",
     "metadata": {},
     "source": [
      "The <code>rejtype</code> is set to <code>minmax</code> in the example included in the Gemini IRAF package.  Kathleen finds that for faint targets, that does not work at all.  Therefore, here we set <code>rejtype</code> to <code>none</code> which seems to work well."
     ]
    },
    {
     "cell_type": "code",
     "collapsed": false,
     "input": [
      "iraf.imdelete('obj_comb.fits', verify='no')\n",
      "iraf.nscombine('rdf@obj.lis', output='obj_comb.fits', fl_shiftint='no', \\\n",
      "    fl_cross='no', rejtype='none')\n",
      "\n",
      "iraf.display('obj_comb.fits[SCI,1]', 1)"
     ],
     "language": "python",
     "metadata": {},
     "outputs": [
      {
       "output_type": "stream",
       "stream": "stdout",
       "text": [
        "--------------------------------------------------------------------------------\n",
        "NSCOMBINE: Mon Oct 12 09:38:07 HST 2015\n",
        " \n",
        "Shifting and combining to single file.\n",
        "Input images = rdf@obj.lis\n",
        "rdfS20150827S0633\n"
       ]
      },
      {
       "output_type": "stream",
       "stream": "stdout",
       "text": [
        "rdfS20150827S0634\n"
       ]
      },
      {
       "output_type": "stream",
       "stream": "stdout",
       "text": [
        "rdfS20150827S0635\n"
       ]
      },
      {
       "output_type": "stream",
       "stream": "stdout",
       "text": [
        "rdfS20150827S0636\n"
       ]
      },
      {
       "output_type": "stream",
       "stream": "stdout",
       "text": [
        "Bad pixel mask = \n",
        "Offset tolerance = 0.5\n",
        "Statistics section = [*,*]\n",
        "Combine algorithm = average\n",
        "Rejection algorithm = none\n",
        "Use integer pixel shifts? no\n",
        "Boundary extension  = nearest\n",
        "NSCOMBINE: Unshifted images:"
       ]
      },
      {
       "output_type": "stream",
       "stream": "stdout",
       "text": [
        "\n",
        "rdfS20150827S0633\n",
        "rdfS20150827S0636\n"
       ]
      },
      {
       "output_type": "stream",
       "stream": "stdout",
       "text": [
        "WARNING - NSCOMBINE: Non-zero shift in dispersion direction: 0.16694490818\n",
        "                     (setting to zero)\n",
        "NSCOMBINE: Images shifted by -111.686143573,0.0:\n",
        "rdfS20150827S0634\n",
        "rdfS20150827S0635\n"
       ]
      },
      {
       "output_type": "stream",
       "stream": "stdout",
       "text": [
        "10% "
       ]
      },
      {
       "output_type": "stream",
       "stream": "stdout",
       "text": [
        "20% "
       ]
      },
      {
       "output_type": "stream",
       "stream": "stdout",
       "text": [
        "30% "
       ]
      },
      {
       "output_type": "stream",
       "stream": "stdout",
       "text": [
        "40% "
       ]
      },
      {
       "output_type": "stream",
       "stream": "stdout",
       "text": [
        "50% "
       ]
      },
      {
       "output_type": "stream",
       "stream": "stdout",
       "text": [
        "60% "
       ]
      },
      {
       "output_type": "stream",
       "stream": "stdout",
       "text": [
        "70% "
       ]
      },
      {
       "output_type": "stream",
       "stream": "stdout",
       "text": [
        "80% "
       ]
      },
      {
       "output_type": "stream",
       "stream": "stdout",
       "text": [
        "90% "
       ]
      },
      {
       "output_type": "stream",
       "stream": "stdout",
       "text": [
        "100% "
       ]
      },
      {
       "output_type": "stream",
       "stream": "stdout",
       "text": [
        "- done\n"
       ]
      },
      {
       "output_type": "stream",
       "stream": "stdout",
       "text": [
        "10% "
       ]
      },
      {
       "output_type": "stream",
       "stream": "stdout",
       "text": [
        "20% "
       ]
      },
      {
       "output_type": "stream",
       "stream": "stdout",
       "text": [
        "30% "
       ]
      },
      {
       "output_type": "stream",
       "stream": "stdout",
       "text": [
        "40% "
       ]
      },
      {
       "output_type": "stream",
       "stream": "stdout",
       "text": [
        "50% "
       ]
      },
      {
       "output_type": "stream",
       "stream": "stdout",
       "text": [
        "60% "
       ]
      },
      {
       "output_type": "stream",
       "stream": "stdout",
       "text": [
        "70% "
       ]
      },
      {
       "output_type": "stream",
       "stream": "stdout",
       "text": [
        "80% "
       ]
      },
      {
       "output_type": "stream",
       "stream": "stdout",
       "text": [
        "90% "
       ]
      },
      {
       "output_type": "stream",
       "stream": "stdout",
       "text": [
        "100% "
       ]
      },
      {
       "output_type": "stream",
       "stream": "stdout",
       "text": [
        "- done\n"
       ]
      },
      {
       "output_type": "stream",
       "stream": "stdout",
       "text": [
        "WARNING - GEMCOMBINE: five or less images to combine.\n"
       ]
      },
      {
       "output_type": "stream",
       "stream": "stdout",
       "text": [
        "NSCOMBINE: Exit status good.\n",
        "--------------------------------------------------------------------------------\n",
        "z1=-25.3147 z2=24.36187\n"
       ]
      }
     ],
     "prompt_number": 19
    },
    {
     "cell_type": "heading",
     "level": 2,
     "metadata": {},
     "source": [
      "STEP 11: Wavelength calibrate the science data"
     ]
    },
    {
     "cell_type": "markdown",
     "metadata": {},
     "source": [
      "It is assumed that the arc has been taken right after (or before) the science observations, without anything moving in-between, other than getting the arc in the field of view.  \n",
      "\n",
      "While the OH sky lines could be used, the coverage is not always adequate across the dispersion axis and the sky lines tend to be a bit broader than the arc lines. "
     ]
    },
    {
     "cell_type": "heading",
     "level": 4,
     "metadata": {},
     "source": [
      "Apply the wavelength solution from the arc to the combined science frame."
     ]
    },
    {
     "cell_type": "code",
     "collapsed": false,
     "input": [
      "iraf.imdelete('fobj_comb.fits', verify='no')\n",
      "iraf.nsfitcoords('obj_comb.fits', lamptransf='warc.fits', lxorder=lxorder, lyorder=lyorder)\n",
      "\n",
      "iraf.imdelete('tfobj_comb.fits', verify='no')\n",
      "iraf.nstransform('fobj_comb.fits')"
     ],
     "language": "python",
     "metadata": {},
     "outputs": [
      {
       "output_type": "stream",
       "stream": "stdout",
       "text": [
        "-------------------------------------------------------------------------------\n",
        "NSFITCOORDS -- Mon Oct 12 09:38:26 HST 2015\n",
        "\n",
        "Using input files:"
       ]
      },
      {
       "output_type": "stream",
       "stream": "stdout",
       "text": [
        "\n",
        "obj_comb\n"
       ]
      },
      {
       "output_type": "stream",
       "stream": "stdout",
       "text": [
        "Using output files:\n",
        "fobj_comb\n"
       ]
      },
      {
       "output_type": "stream",
       "stream": "stdout",
       "text": [
        "NSFITCOORDS: Fitnames for obj_comb: fobj_comb_SCI_1_lamp\n"
       ]
      },
      {
       "output_type": "stream",
       "stream": "stdout",
       "text": [
        "NSFITCOORDS: Exit status good\n",
        "-------------------------------------------------------------------------------\n"
       ]
      },
      {
       "output_type": "stream",
       "stream": "stdout",
       "text": [
        "-------------------------------------------------------------------------------\n",
        "NSTRANSFORM -- Mon Oct 12 09:38:27 HST 2015\n",
        "\n",
        "Using input files:"
       ]
      },
      {
       "output_type": "stream",
       "stream": "stdout",
       "text": [
        "\n",
        "fobj_comb\n"
       ]
      },
      {
       "output_type": "stream",
       "stream": "stdout",
       "text": [
        "Using output files:\n",
        "tfobj_comb\n"
       ]
      },
      {
       "output_type": "stream",
       "stream": "stdout",
       "text": [
        "NSTRANSFORM: Fitnames for fobj_comb: fobj_comb_SCI_1_lamp\n",
        "WARNING - NSTRANSFORM: No MDF in fobj_comb"
       ]
      },
      {
       "output_type": "stream",
       "stream": "stdout",
       "text": [
        "\n"
       ]
      },
      {
       "output_type": "stream",
       "stream": "stdout",
       "text": [
        "NSTRANSFORM: Exit status good\n",
        "-------------------------------------------------------------------------------\n"
       ]
      }
     ],
     "prompt_number": 20
    },
    {
     "cell_type": "heading",
     "level": 2,
     "metadata": {},
     "source": [
      "STEP 12: Extract the science spectrum"
     ]
    },
    {
     "cell_type": "markdown",
     "metadata": {},
     "source": [
      "For faint science spectra, the telluric can be used as a reference when extracting the science spectrum; set <code>trace=tftel_comb.fits</code>.  Note that you will need to reduce the telluric first (Steps 13-17).\n",
      "\n",
      "Continue below if the science spectrum is strong enough to be traced.  (The most common case.)"
     ]
    },
    {
     "cell_type": "code",
     "collapsed": false,
     "input": [
      "iraf.display('tfobj_comb.fits[sci,1]', 1)"
     ],
     "language": "python",
     "metadata": {},
     "outputs": [
      {
       "output_type": "stream",
       "stream": "stdout",
       "text": [
        "z1=-22.34291 z2=22.38769\n"
       ]
      }
     ],
     "prompt_number": 21
    },
    {
     "cell_type": "markdown",
     "metadata": {},
     "source": [
      "Can see a nice signal on the 2D image.  A bit noisy.  Can see an emission line."
     ]
    },
    {
     "cell_type": "markdown",
     "metadata": {},
     "source": [
      "For this extraction, one needs to:\n",
      "1. delete, '`d`', the aperture automatically selected.  It selects some random spike at the far left of the cross-section.\n",
      "1. mark, '`m`', the real location of the science spectrum, around column 956.\n",
      "1. adjust with '`u`' and '`l`', the width of the aperture, it seems a bit too wide."
     ]
    },
    {
     "cell_type": "code",
     "collapsed": false,
     "input": [
      "iraf.imdelete('xtfobj_comb.fits', verify='no')\n",
      "iraf.nsextract('tfobj_comb.fits', fl_apall='yes', fl_findneg='no', \\\n",
      "               fl_inter='yes', fl_trace='yes')\n",
      "\n",
      "iraf.splot('xtfobj_comb.fits[SCI,1]')"
     ],
     "language": "python",
     "metadata": {},
     "outputs": [
      {
       "output_type": "stream",
       "stream": "stdout",
       "text": [
        "-------------------------------------------------------------------------------\n",
        "NSEXTRACT -- Mon Oct 12 09:38:58 HST 2015\n",
        " \n"
       ]
      },
      {
       "output_type": "stream",
       "stream": "stdout",
       "text": [
        "WARNING - NSEXTRACT: Output variance planes derived from apall rather than input variance plane.\n",
        "Using input files:\n",
        "tfobj_comb 1 no\n"
       ]
      },
      {
       "output_type": "stream",
       "stream": "stdout",
       "text": [
        "Using output files:\n",
        "xtfobj_comb\n"
       ]
      },
      {
       "output_type": "stream",
       "stream": "stdout",
       "text": [
        "\n",
        "Searching aperture database ...\n"
       ]
      },
      {
       "output_type": "stream",
       "stream": "stderr",
       "text": [
        "Find apertures for tmpscivar50204_802?"
       ]
      },
      {
       "output_type": "stream",
       "stream": "stdout",
       "text": [
        "Finding apertures ...\n"
       ]
      },
      {
       "output_type": "stream",
       "stream": "stdout",
       "text": [
        "Oct 12  9:39: FIND - 1 apertures found for tmpscivar50204_802\n"
       ]
      },
      {
       "output_type": "stream",
       "stream": "stderr",
       "text": [
        "Resize apertures for tmpscivar50204_802?"
       ]
      },
      {
       "output_type": "stream",
       "stream": "stdout",
       "text": [
        "Resizing apertures ...\n"
       ]
      },
      {
       "output_type": "stream",
       "stream": "stdout",
       "text": [
        "Oct 12  9:39: APRESIZE  - 1 apertures resized for tmpscivar50204_802 (-4.87, 4.10)\n"
       ]
      },
      {
       "output_type": "stream",
       "stream": "stderr",
       "text": [
        "Edit apertures for tmpscivar50204_802?"
       ]
      },
      {
       "output_type": "stream",
       "stream": "stdout",
       "text": [
        "     aperture = 1  beam = 1  center = 909.33  low = -4.87  upper = 4.10\n"
       ]
      },
      {
       "output_type": "stream",
       "stream": "stdout",
       "text": [
        "window:"
       ]
      },
      {
       "output_type": "stream",
       "stream": "stdout",
       "text": [
        "again:"
       ]
      },
      {
       "output_type": "stream",
       "stream": "stdout",
       "text": [
        "     aperture = 1  beam = 1  center = 909.33  low = -4.87  upper = 4.10\n"
       ]
      },
      {
       "output_type": "stream",
       "stream": "stderr",
       "text": [
        "Trace apertures for tmpscivar50204_802?"
       ]
      },
      {
       "output_type": "stream",
       "stream": "stderr",
       "text": [
        "Fit traced positions for tmpscivar50204_802 interactively?"
       ]
      },
      {
       "output_type": "stream",
       "stream": "stdout",
       "text": [
        "Tracing apertures ...\n"
       ]
      },
      {
       "output_type": "stream",
       "stream": "stderr",
       "text": [
        "Fit curve to aperture 1 of tmpscivar50204_802 interactively"
       ]
      },
      {
       "output_type": "stream",
       "stream": "stdout",
       "text": [
        "Oct 12  9:39: TRACE - 1 apertures traced in tmpscivar50204_802.\n"
       ]
      },
      {
       "output_type": "stream",
       "stream": "stderr",
       "text": [
        "Write apertures for tmpscivar50204_802 to JH033202_database"
       ]
      },
      {
       "output_type": "stream",
       "stream": "stdout",
       "text": [
        "Oct 12  9:39: DATABASE - 1 apertures for tmpscivar50204_802 written to JH033202_database\n"
       ]
      },
      {
       "output_type": "stream",
       "stream": "stderr",
       "text": [
        "Extract aperture spectra for tmpscivar50204_802?"
       ]
      },
      {
       "output_type": "stream",
       "stream": "stderr",
       "text": [
        "Review extracted spectra from tmpscivar50204_802?"
       ]
      },
      {
       "output_type": "stream",
       "stream": "stdout",
       "text": [
        "Extracting apertures ...\n"
       ]
      },
      {
       "output_type": "stream",
       "stream": "stderr",
       "text": [
        "Review extracted spectrum for aperture 1 from tmpscivar50204_802?"
       ]
      },
      {
       "output_type": "stream",
       "stream": "stdout",
       "text": [
        "Oct 12  9:39: EXTRACT - Aperture 1 from tmpscivar50204_802 --> tmpspeca50204_790\n"
       ]
      },
      {
       "output_type": "stream",
       "stream": "stdout",
       "text": [
        "Searching aperture database ...\n"
       ]
      },
      {
       "output_type": "stream",
       "stream": "stdout",
       "text": [
        "Oct 12  9:39: DATABASE  - 1 apertures read for tmpscivar50204_802 from JH033202_database\n"
       ]
      },
      {
       "output_type": "stream",
       "stream": "stdout",
       "text": [
        "Oct 12  9:39: DATABASE - 1 apertures for tfobj_comb[DQ,1] written to JH033202_database\n"
       ]
      },
      {
       "output_type": "stream",
       "stream": "stdout",
       "text": [
        "Extracting apertures ...\n"
       ]
      },
      {
       "output_type": "stream",
       "stream": "stdout",
       "text": [
        "Oct 12  9:39: EXTRACT - Aperture 1 from tfobj_comb[DQ,1] --> tmpspecdqa50204_794\n"
       ]
      },
      {
       "output_type": "stream",
       "stream": "stdout",
       "text": [
        "NSEXTRACT: Aperture centre at 909.3306,500.0\n",
        "NSEXTRACT: S/N for xtfobj_comb: "
       ]
      },
      {
       "output_type": "stream",
       "stream": "stdout",
       "text": [
        "\n",
        "           from variance array:      7.76"
       ]
      },
      {
       "output_type": "stream",
       "stream": "stdout",
       "text": [
        "\n",
        "           from smoothed spectrum:   0.46\n"
       ]
      },
      {
       "output_type": "stream",
       "stream": "stdout",
       "text": [
        "\n",
        "NSEXTRACT: Exit status good\n",
        "-------------------------------------------------------------------------------\n"
       ]
      }
     ],
     "prompt_number": 22
    },
    {
     "cell_type": "heading",
     "level": 4,
     "metadata": {},
     "source": [
      "The F2 IRAF package does not clean up the WCS properly.  We do this now."
     ]
    },
    {
     "cell_type": "code",
     "collapsed": false,
     "input": [
      "iraf.hedit('xtfobj_comb.fits[sci,1]', 'CD2_2', delete='yes',\\\n",
      "            verify='no',update='yes')\n",
      "iraf.hedit('xtfobj_comb.fits[sci,1]', 'CTYPE2', delete='yes',\\\n",
      "           verify='no',update='yes')\n",
      "iraf.hedit('xtfobj_comb.fits[sci,1]', 'LTM2_2', delete='yes',\\\n",
      "           verify='no',update='yes')\n",
      "iraf.hedit('xtfobj_comb.fits[var,1]', 'CD2_2', delete='yes',\\\n",
      "           verify='no',update='yes')\n",
      "iraf.hedit('xtfobj_comb.fits[var,1]', 'CTYPE2', delete='yes',\\\n",
      "           verify='no',update='yes')\n",
      "iraf.hedit('xtfobj_comb.fits[var,1]', 'LTM2_2', delete='yes',\\\n",
      "           verify='no',update='yes')"
     ],
     "language": "python",
     "metadata": {},
     "outputs": [
      {
       "output_type": "stream",
       "stream": "stdout",
       "text": [
        "xtfobj_comb.fits[sci,1],CD2_2 deleted\n",
        "xtfobj_comb.fits[sci,1] updated\n"
       ]
      },
      {
       "output_type": "stream",
       "stream": "stdout",
       "text": [
        "xtfobj_comb.fits[sci,1],CTYPE2 deleted\n",
        "xtfobj_comb.fits[sci,1] updated\n"
       ]
      },
      {
       "output_type": "stream",
       "stream": "stdout",
       "text": [
        "xtfobj_comb.fits[sci,1],LTM2_2 deleted\n",
        "xtfobj_comb.fits[sci,1] updated\n"
       ]
      },
      {
       "output_type": "stream",
       "stream": "stdout",
       "text": [
        "xtfobj_comb.fits[var,1],CD2_2 deleted\n",
        "xtfobj_comb.fits[var,1] updated\n"
       ]
      },
      {
       "output_type": "stream",
       "stream": "stdout",
       "text": [
        "xtfobj_comb.fits[var,1],CTYPE2 deleted\n",
        "xtfobj_comb.fits[var,1] updated\n"
       ]
      },
      {
       "output_type": "stream",
       "stream": "stdout",
       "text": [
        "xtfobj_comb.fits[var,1],LTM2_2 deleted\n",
        "xtfobj_comb.fits[var,1] updated\n"
       ]
      }
     ],
     "prompt_number": 23
    },
    {
     "cell_type": "code",
     "collapsed": false,
     "input": [
      "!splot xtfobj_comb.fits -l quasar -z 0.60741 -y -50 800 --variance 2"
     ],
     "language": "python",
     "metadata": {},
     "outputs": [
      {
       "output_type": "stream",
       "stream": "stdout",
       "text": [
        "\u001b[0;33mWARNING\u001b[0m: FITSFixedWarning: RADECSYS= 'FK5 ' / R.A./DEC. coordinate system reference \r\n",
        "RADECSYS is non-standard, use RADESYSa. [astropy.wcs.wcs]\r\n",
        "\u001b[0;33mWARNING\u001b[0m: FITSFixedWarning: 'datfix' made the change 'Changed '' to '2015-08-27T07:13:07.500''. [astropy.wcs.wcs]\r\n"
       ]
      }
     ],
     "prompt_number": 25
    },
    {
     "cell_type": "heading",
     "level": 2,
     "metadata": {},
     "source": [
      "STEP 13: Reduce the telluric standard dataset"
     ]
    },
    {
     "cell_type": "code",
     "collapsed": false,
     "input": [
      "iraf.imdelete('df@tel.lis', verify='no')\n",
      "iraf.nsreduce('f@tel.lis', outprefix='d', fl_cut='no', fl_process_cut='no', \\\n",
      "    fl_dark='yes', darkimage='teldark.fits', fl_sky='no', fl_flat='no')\n",
      "\n",
      "iraf.imdelete('rdf@tel.lis', verify='no')\n",
      "iraf.nsreduce('df@tel.lis', fl_cut='yes', fl_dark='no', fl_sky='yes', \\\n",
      "    fl_flat='yes', flatimage='flat.fits')\n"
     ],
     "language": "python",
     "metadata": {},
     "outputs": [
      {
       "output_type": "stream",
       "stream": "stdout",
       "text": [
        "-------------------------------------------------------------------------------\n",
        "NSREDUCE -- Mon Oct 12 09:42:24 HST 2015\n",
        " \n",
        "NSREDUCE: Processing 4 extension(s) from 4 file(s)."
       ]
      },
      {
       "output_type": "stream",
       "stream": "stdout",
       "text": [
        "\n"
       ]
      },
      {
       "output_type": "stream",
       "stream": "stdout",
       "text": [
        "NSREDUCE: slit: 2pix-slit\n",
        "NSREDUCE: filter: JH\n",
        "\n",
        "   n input                   --> output                  sky image\n",
        " dark                    flat                    scale\n",
        "\n",
        "   1 fS20150827S0616         --> dfS20150827S0616        none                   \n",
        " teldark                 none                    1.0000 \n",
        "   2 fS20150827S0617         --> dfS20150827S0617        none                   "
       ]
      },
      {
       "output_type": "stream",
       "stream": "stdout",
       "text": [
        "\n",
        " teldark                 none                    1.0000 \n",
        "   3 fS20150827S0618         --> dfS20150827S0618        none                   "
       ]
      },
      {
       "output_type": "stream",
       "stream": "stdout",
       "text": [
        "\n",
        " teldark                 none                    1.0000 \n",
        "   4 fS20150827S0619         --> dfS20150827S0619        none                   "
       ]
      },
      {
       "output_type": "stream",
       "stream": "stdout",
       "text": [
        "\n",
        " teldark                 none                    1.0000 \n"
       ]
      },
      {
       "output_type": "stream",
       "stream": "stdout",
       "text": [
        " \n",
        "NSREDUCE exit status: good.\n",
        "------------------------------------------------------------------------------\n",
        "-------------------------------------------------------------------------------"
       ]
      },
      {
       "output_type": "stream",
       "stream": "stdout",
       "text": [
        "\n",
        "NSREDUCE -- Mon Oct 12 09:42:33 HST 2015\n",
        " \n",
        "----------------------------------------------------------------------------"
       ]
      },
      {
       "output_type": "stream",
       "stream": "stdout",
       "text": [
        "\n",
        "F2CUT -- Mon Oct 12 09:42:33 HST 2015\n",
        " \n",
        "\n",
        "Pixel scale: 0.1797"
       ]
      },
      {
       "output_type": "stream",
       "stream": "stdout",
       "text": [
        "\n",
        "Grism: JH_G5801\n",
        "Filter: JH\n",
        "\n",
        "dfS20150827S0616 --> dfS20150827S0616-50204_850"
       ]
      },
      {
       "output_type": "stream",
       "stream": "stdout",
       "text": [
        "\n",
        " [SCI,1][42:1507,367:1620] --> [SCI,1]\n",
        "dfS20150827S0617 --> dfS20150827S0617-50204_852"
       ]
      },
      {
       "output_type": "stream",
       "stream": "stdout",
       "text": [
        "\n",
        "dfS20150827S0618 --> dfS20150827S0618-50204_854"
       ]
      },
      {
       "output_type": "stream",
       "stream": "stdout",
       "text": [
        "\n",
        "dfS20150827S0619 --> dfS20150827S0619-50204_856"
       ]
      },
      {
       "output_type": "stream",
       "stream": "stdout",
       "text": [
        "\n"
       ]
      },
      {
       "output_type": "stream",
       "stream": "stdout",
       "text": [
        " \n",
        "F2CUT exit status: good.\n",
        "----------------------------------------------------------------------------\n",
        "------------------------------------------------------------------------------\n",
        "NSAPPWAVE -- Mon Oct 12 09:42:38 HST 2015\n",
        " \n"
       ]
      },
      {
       "output_type": "stream",
       "stream": "stdout",
       "text": [
        "NSAPPWAVE: Processing 4 extension(s) from 4 file(s).\n",
        "  Camera     Grating    Filter     Prism      FPMask     Wave   Delta Order Axis\n",
        "dfS20150827S0616-50204_850 -> dfS20150827S0616-50204_851 ( 1)"
       ]
      },
      {
       "output_type": "stream",
       "stream": "stdout",
       "text": [
        "\n",
        "  f/16_G5830   JH_G5801         JH             2pix-slit 13900.00 -6.67 INDEF 2\n"
       ]
      },
      {
       "output_type": "stream",
       "stream": "stdout",
       "text": [
        "NSAPPWAVE: cradius not from table for dfS20150827S0616-50204_850.\n",
        "           (further table messages supressed for this file).\n",
        "  extension  1: 13900.000000 -6.667000 INDEF\n",
        "dfS20150827S0617-50204_852 -> dfS20150827S0617-50204_853 ( 1)"
       ]
      },
      {
       "output_type": "stream",
       "stream": "stdout",
       "text": [
        "\n",
        "  f/16_G5830   JH_G5801         JH             2pix-slit 13900.00 -6.67 INDEF 2\n"
       ]
      },
      {
       "output_type": "stream",
       "stream": "stdout",
       "text": [
        "NSAPPWAVE: cradius not from table for dfS20150827S0617-50204_852.\n",
        "           (further table messages supressed for this file).\n",
        "  extension  1: 13900.000000 -6.667000 INDEF\n",
        "dfS20150827S0618-50204_854 -> dfS20150827S0618-50204_855 ( 1)"
       ]
      },
      {
       "output_type": "stream",
       "stream": "stdout",
       "text": [
        "\n",
        "  f/16_G5830   JH_G5801         JH             2pix-slit 13900.00 -6.67 INDEF 2\n"
       ]
      },
      {
       "output_type": "stream",
       "stream": "stdout",
       "text": [
        "NSAPPWAVE: cradius not from table for dfS20150827S0618-50204_854.\n",
        "           (further table messages supressed for this file).\n",
        "  extension  1: 13900.000000 -6.667000 INDEF\n",
        "dfS20150827S0619-50204_856 -> dfS20150827S0619-50204_857 ( 1)"
       ]
      },
      {
       "output_type": "stream",
       "stream": "stdout",
       "text": [
        "\n",
        "  f/16_G5830   JH_G5801         JH             2pix-slit 13900.00 -6.67 INDEF 2\n"
       ]
      },
      {
       "output_type": "stream",
       "stream": "stdout",
       "text": [
        "NSAPPWAVE: cradius not from table for dfS20150827S0619-50204_856.\n",
        "           (further table messages supressed for this file).\n",
        "  extension  1: 13900.000000 -6.667000 INDEF\n"
       ]
      },
      {
       "output_type": "stream",
       "stream": "stdout",
       "text": [
        "\n",
        "NSAPPWAVE Exit status good\n",
        "------------------------------------------------------------------------------\n",
        "NSREDUCE: Generating the sky frame(s) using the other nod positions\n",
        "          (separations greater than 1.5 arcsec) from neighbouring\n",
        "          exposures.\n",
        "\n",
        "------------------------------------------------------------------------------"
       ]
      },
      {
       "output_type": "stream",
       "stream": "stdout",
       "text": [
        "\n",
        "NSSKY -- Mon Oct 12 09:42:52 HST 2015\n",
        " \n",
        "WARNING - NSSKY: Will take sky from input images"
       ]
      },
      {
       "output_type": "stream",
       "stream": "stdout",
       "text": [
        "\n",
        "NSSKY: Obs time for dfS20150827S0616-50204_851.fits[0]:  8:08:34.4"
       ]
      },
      {
       "output_type": "stream",
       "stream": "stdout",
       "text": [
        "\n",
        "NSSKY: Obs time for dfS20150827S0617-50204_853.fits[0]:  8:10:25.9  0:01:51.5\n",
        "NSSKY: Obs time for dfS20150827S0618-50204_855.fits[0]:  8:12:15.9  0:01:50.0\n",
        "NSSKY: Obs time for dfS20150827S0619-50204_857.fits[0]:  8:14:07.4  0:01:51.5\n",
        "NSSKY: Min/max:  0:01:50.0/ 0:01:51.5\n",
        "NSSKY: Using observations within 111.5s as sky.\n",
        "NSSKY: Grouping images (please wait).\n"
       ]
      },
      {
       "output_type": "stream",
       "stream": "stdout",
       "text": [
        " \n",
        "NSSKY exit status: good.\n",
        "NSREDUCE: Processing 4 extension(s) from 4 file(s)."
       ]
      },
      {
       "output_type": "stream",
       "stream": "stdout",
       "text": [
        "\n"
       ]
      },
      {
       "output_type": "stream",
       "stream": "stdout",
       "text": [
        "NSREDUCE: slit: 2pix-slit\n",
        "NSREDUCE: filter: JH\n",
        "\n",
        "   n input                   --> output                  sky image\n",
        " dark                    flat                    scale\n",
        "\n",
        "   1 dfS20150827S0616        --> rdfS20150827S0616       dfS20150827S0617-50204_853\n",
        " none                    flat                    1.0000 \n",
        "   2 dfS20150827S0617        --> rdfS20150827S0617       dfS20150827S0616-50204_851"
       ]
      },
      {
       "output_type": "stream",
       "stream": "stdout",
       "text": [
        "\n",
        " none                    flat                    1.0000 \n",
        "   3 dfS20150827S0618        --> rdfS20150827S0618       dfS20150827S0619-50204_857"
       ]
      },
      {
       "output_type": "stream",
       "stream": "stdout",
       "text": [
        "\n",
        " none                    flat                    1.0000 \n",
        "   4 dfS20150827S0619        --> rdfS20150827S0619       dfS20150827S0618-50204_855"
       ]
      },
      {
       "output_type": "stream",
       "stream": "stdout",
       "text": [
        "\n",
        " none                    flat                    1.0000 \n"
       ]
      },
      {
       "output_type": "stream",
       "stream": "stdout",
       "text": [
        " \n",
        "NSREDUCE exit status: good.\n",
        "------------------------------------------------------------------------------\n"
       ]
      }
     ],
     "prompt_number": 26
    },
    {
     "cell_type": "heading",
     "level": 2,
     "metadata": {},
     "source": [
      "STEP 14:  Combine the reduced telluric datasets"
     ]
    },
    {
     "cell_type": "code",
     "collapsed": false,
     "input": [
      "iraf.imdelete('tel_comb.fits', verify='no')\n",
      "iraf.nscombine('rdf@tel.lis', output='tel_comb.fits', fl_shiftint='no', fl_cross='yes')\n",
      "\n",
      "iraf.display('tel_comb.fits[SCI,1]', 1)\n"
     ],
     "language": "python",
     "metadata": {},
     "outputs": [
      {
       "output_type": "stream",
       "stream": "stdout",
       "text": [
        "--------------------------------------------------------------------------------\n",
        "NSCOMBINE: Mon Oct 12 09:43:34 HST 2015\n",
        " \n",
        "Shifting and combining to single file.\n",
        "Input images = rdf@tel.lis\n",
        "rdfS20150827S0616\n"
       ]
      },
      {
       "output_type": "stream",
       "stream": "stdout",
       "text": [
        "rdfS20150827S0617\n"
       ]
      },
      {
       "output_type": "stream",
       "stream": "stdout",
       "text": [
        "rdfS20150827S0618\n"
       ]
      },
      {
       "output_type": "stream",
       "stream": "stdout",
       "text": [
        "rdfS20150827S0619\n"
       ]
      },
      {
       "output_type": "stream",
       "stream": "stdout",
       "text": [
        "Bad pixel mask = \n",
        "Offset tolerance = 0.5\n",
        "Statistics section = [*,*]\n",
        "Combine algorithm = average\n",
        "Rejection algorithm = sigclip\n",
        "Use integer pixel shifts? no\n",
        "Boundary extension  = nearest\n",
        "NSCOMBINE: Unshifted images:"
       ]
      },
      {
       "output_type": "stream",
       "stream": "stdout",
       "text": [
        "\n",
        "rdfS20150827S0616\n",
        "rdfS20150827S0619\n"
       ]
      },
      {
       "output_type": "stream",
       "stream": "stdout",
       "text": [
        "------------------------------------------------------------------------------\n",
        "NSOFFSET -- Mon Oct 12 09:43:36 HST 2015\n",
        " \n"
       ]
      },
      {
       "output_type": "stream",
       "stream": "stdout",
       "text": [
        "NSOFFSET: Calculating cross correlation (please wait).\n",
        "NSOFFSET: Integer offset for rdfS20150827S0617 is 167."
       ]
      },
      {
       "output_type": "stream",
       "stream": "stdout",
       "text": [
        "\n"
       ]
      },
      {
       "output_type": "stream",
       "stream": "stdout",
       "text": [
        "NSOFFSET: Final offset for rdfS20150827S0617 is 167.5.\n"
       ]
      },
      {
       "output_type": "stream",
       "stream": "stdout",
       "text": [
        "NSOFFSET: Shifting rdfS20150827S0617-50204_979 WCS in X by 167.5 pixels.\n"
       ]
      },
      {
       "output_type": "stream",
       "stream": "stdout",
       "text": [
        "NSOFFSET: Shifting rdfS20150827S0618-50204_980 WCS in X by 167.5 pixels.\n"
       ]
      },
      {
       "output_type": "stream",
       "stream": "stdout",
       "text": [
        " \n",
        "NSOFFSET exit status: good.\n",
        "-------------------------------------------------------------------------------\n",
        "NSCOMBINE: Images shifted by -167.445742905,0.0:"
       ]
      },
      {
       "output_type": "stream",
       "stream": "stdout",
       "text": [
        "\n",
        "rdfS20150827S0617-50204_979\n",
        "rdfS20150827S0618-50204_980\n"
       ]
      },
      {
       "output_type": "stream",
       "stream": "stdout",
       "text": [
        "10% "
       ]
      },
      {
       "output_type": "stream",
       "stream": "stdout",
       "text": [
        "20% "
       ]
      },
      {
       "output_type": "stream",
       "stream": "stdout",
       "text": [
        "30% "
       ]
      },
      {
       "output_type": "stream",
       "stream": "stdout",
       "text": [
        "40% "
       ]
      },
      {
       "output_type": "stream",
       "stream": "stdout",
       "text": [
        "50% "
       ]
      },
      {
       "output_type": "stream",
       "stream": "stdout",
       "text": [
        "60% "
       ]
      },
      {
       "output_type": "stream",
       "stream": "stdout",
       "text": [
        "70% "
       ]
      },
      {
       "output_type": "stream",
       "stream": "stdout",
       "text": [
        "80% "
       ]
      },
      {
       "output_type": "stream",
       "stream": "stdout",
       "text": [
        "90% "
       ]
      },
      {
       "output_type": "stream",
       "stream": "stdout",
       "text": [
        "100% "
       ]
      },
      {
       "output_type": "stream",
       "stream": "stdout",
       "text": [
        "- done\n"
       ]
      },
      {
       "output_type": "stream",
       "stream": "stdout",
       "text": [
        "10% "
       ]
      },
      {
       "output_type": "stream",
       "stream": "stdout",
       "text": [
        "20% "
       ]
      },
      {
       "output_type": "stream",
       "stream": "stdout",
       "text": [
        "30% "
       ]
      },
      {
       "output_type": "stream",
       "stream": "stdout",
       "text": [
        "40% "
       ]
      },
      {
       "output_type": "stream",
       "stream": "stdout",
       "text": [
        "50% "
       ]
      },
      {
       "output_type": "stream",
       "stream": "stdout",
       "text": [
        "60% "
       ]
      },
      {
       "output_type": "stream",
       "stream": "stdout",
       "text": [
        "70% "
       ]
      },
      {
       "output_type": "stream",
       "stream": "stdout",
       "text": [
        "80% "
       ]
      },
      {
       "output_type": "stream",
       "stream": "stdout",
       "text": [
        "90% "
       ]
      },
      {
       "output_type": "stream",
       "stream": "stdout",
       "text": [
        "100% "
       ]
      },
      {
       "output_type": "stream",
       "stream": "stdout",
       "text": [
        "- done\n"
       ]
      },
      {
       "output_type": "stream",
       "stream": "stdout",
       "text": [
        "WARNING - GEMCOMBINE: five or less images to combine.\n"
       ]
      },
      {
       "output_type": "stream",
       "stream": "stdout",
       "text": [
        "NSCOMBINE: Exit status good.\n",
        "--------------------------------------------------------------------------------\n",
        "z1=-27.56312 z2=26.5588\n"
       ]
      }
     ],
     "prompt_number": 27
    },
    {
     "cell_type": "heading",
     "level": 2,
     "metadata": {},
     "source": [
      "STEP 15:  Reduce the telluric arc and determine the wavelength solution"
     ]
    },
    {
     "cell_type": "markdown",
     "metadata": {},
     "source": [
      "The wavelength solution is derived from an arc taken right after the telluric observation, before anything is moved (eg. grating, slit, etc.)\n",
      "\n",
      "We will reduce the arc and calculate the wavelength solution to be applied to the telluric observations.\n",
      "\n",
      "The wavelength solution step really should be done in interactive mode as it is not uncommon to have to reject lines and/or adjust the matches with the line list."
     ]
    },
    {
     "cell_type": "heading",
     "level": 3,
     "metadata": {},
     "source": [
      "Reduce the telluric arc"
     ]
    },
    {
     "cell_type": "code",
     "collapsed": false,
     "input": [
      "# Subtract the dark from the arc images prior to cutting and flat dividing.\n",
      "\n",
      "iraf.imdelete('df@telarc.lis', verify='no')\n",
      "iraf.nsreduce('f@telarc.lis', outprefix='d', fl_cut='no', fl_process_cut='no', \\\n",
      "    fl_dark='yes', darkimage='telarcdark.fits', fl_sky='no', fl_flat='no')\n",
      "\n",
      "# Cut the arc images and divide by the normalised flat field image.\n",
      "\n",
      "iraf.imdelete('rdf@telarc.lis', verify='no')\n",
      "iraf.nsreduce('df@telarc.lis', fl_cut='yes', fl_dark='no', fl_sky='no', fl_flat='yes', \\\n",
      "    flatimage='flat.fits')\n",
      "\n",
      "# Combine the arc files (if there is more than one arc file)\n",
      "\n",
      "iraf.imdelete('telarc.fits', verify='no')\n",
      "iraf.delete('rdftelarc.lis', verify='no')\n",
      "iraf.sections('rdf@telarc.lis//.fits', Stdout='rdftelarc.lis')\n",
      "\n",
      "count = 0\n",
      "file = open('telarc.lis', 'r')\n",
      "for line in file:\n",
      "\tcount += 1\n",
      "\n",
      "if count == 1:\n",
      "\tiraf.copy ('@rdftelarc.lis', 'telarc.fits')\n",
      "else:\n",
      "\tiraf.gemcombine ('@rdftelarc.lis', 'telarc.fits', fl_vardq='yes')\n",
      "\n",
      "file.close()\n",
      "print 'Done'"
     ],
     "language": "python",
     "metadata": {},
     "outputs": [
      {
       "output_type": "stream",
       "stream": "stdout",
       "text": [
        "-------------------------------------------------------------------------------\n",
        "NSREDUCE -- Mon Oct 12 09:45:39 HST 2015\n",
        " \n",
        "NSREDUCE: Processing 1 extension(s) from 1 file(s)."
       ]
      },
      {
       "output_type": "stream",
       "stream": "stdout",
       "text": [
        "\n"
       ]
      },
      {
       "output_type": "stream",
       "stream": "stdout",
       "text": [
        "NSREDUCE: slit: 2pix-slit\n",
        "NSREDUCE: filter: JH\n",
        "\n",
        "   n input                   --> output                  sky image\n",
        " dark                    flat                    scale\n",
        "\n",
        "   1 fS20150827S0620         --> dfS20150827S0620        none                   \n",
        " telarcdark              none                    1.0000 \n"
       ]
      },
      {
       "output_type": "stream",
       "stream": "stdout",
       "text": [
        " \n",
        "NSREDUCE exit status: good.\n",
        "------------------------------------------------------------------------------\n",
        "-------------------------------------------------------------------------------"
       ]
      },
      {
       "output_type": "stream",
       "stream": "stdout",
       "text": [
        "\n",
        "NSREDUCE -- Mon Oct 12 09:45:43 HST 2015\n",
        " \n",
        "----------------------------------------------------------------------------"
       ]
      },
      {
       "output_type": "stream",
       "stream": "stdout",
       "text": [
        "\n",
        "F2CUT -- Mon Oct 12 09:45:43 HST 2015\n",
        " \n",
        "\n",
        "Pixel scale: 0.1797"
       ]
      },
      {
       "output_type": "stream",
       "stream": "stdout",
       "text": [
        "\n",
        "Grism: JH_G5801\n",
        "Filter: JH\n",
        "\n",
        "dfS20150827S0620 --> dfS20150827S0620-50204_1104"
       ]
      },
      {
       "output_type": "stream",
       "stream": "stdout",
       "text": [
        "\n",
        " [SCI,1][42:1507,367:1620] --> [SCI,1]\n"
       ]
      },
      {
       "output_type": "stream",
       "stream": "stdout",
       "text": [
        " \n",
        "F2CUT exit status: good.\n",
        "----------------------------------------------------------------------------\n",
        "------------------------------------------------------------------------------\n",
        "NSAPPWAVE -- Mon Oct 12 09:45:44 HST 2015\n",
        " \n"
       ]
      },
      {
       "output_type": "stream",
       "stream": "stdout",
       "text": [
        "NSAPPWAVE: Processing 1 extension(s) from 1 file(s).\n",
        "  Camera     Grating    Filter     Prism      FPMask     Wave   Delta Order Axis\n",
        "dfS20150827S0620-50204_1104 -> dfS20150827S0620-50204_1105 ( 1)"
       ]
      },
      {
       "output_type": "stream",
       "stream": "stdout",
       "text": [
        "\n",
        "  f/16_G5830   JH_G5801         JH             2pix-slit 13900.00 -6.67 INDEF 2\n"
       ]
      },
      {
       "output_type": "stream",
       "stream": "stdout",
       "text": [
        "NSAPPWAVE: cradius not from table for dfS20150827S0620-50204_1104.\n",
        "           (further table messages supressed for this file).\n",
        "  extension  1: 13900.000000 -6.667000 INDEF\n"
       ]
      },
      {
       "output_type": "stream",
       "stream": "stdout",
       "text": [
        "\n",
        "NSAPPWAVE Exit status good\n",
        "------------------------------------------------------------------------------\n",
        "NSREDUCE: Processing 1 extension(s) from 1 file(s).\n"
       ]
      },
      {
       "output_type": "stream",
       "stream": "stdout",
       "text": [
        "NSREDUCE: slit: 2pix-slit\n",
        "NSREDUCE: filter: JH\n",
        "\n",
        "   n input                   --> output                  sky image\n",
        " dark                    flat                    scale\n",
        "\n",
        "   1 dfS20150827S0620        --> rdfS20150827S0620       none                   \n",
        " none                    flat                    1.0000 \n"
       ]
      },
      {
       "output_type": "stream",
       "stream": "stdout",
       "text": [
        " \n",
        "NSREDUCE exit status: good.\n",
        "------------------------------------------------------------------------------\n"
       ]
      },
      {
       "output_type": "stream",
       "stream": "stderr",
       "text": [
        "Warning: Cannot delete file (rdftelarc.lis)\n"
       ]
      },
      {
       "output_type": "stream",
       "stream": "stdout",
       "text": [
        "Done\n"
       ]
      }
     ],
     "prompt_number": 28
    },
    {
     "cell_type": "heading",
     "level": 3,
     "metadata": {},
     "source": [
      "Determine the wavelength solution from the science arc"
     ]
    },
    {
     "cell_type": "markdown",
     "metadata": {},
     "source": [
      "Normally, the lines will be identified automatically and this step, while interactive is used to delete a couple outliers and visually confirm that the fit is good.\n",
      "\n",
      "If, for some reason (it can happen), the lines do not get identified automatically and they need to be marked manually, you will need to run the two commands below in the PyRAF sessions since you will need full interactive support.  But most of the time, running this in the notebook works okay."
     ]
    },
    {
     "cell_type": "code",
     "collapsed": false,
     "input": [
      "iraf.imdelete ('wtelarc.fits', verify='no')\n",
      "iraf.nswavelength ('telarc.fits', fl_inter='yes', order=8)"
     ],
     "language": "python",
     "metadata": {},
     "outputs": [
      {
       "output_type": "stream",
       "stream": "stdout",
       "text": [
        "-------------------------------------------------------------------------------\n",
        "NSWAVELENGTH -- Mon Oct 12 09:45:56 HST 2015\n",
        "\n",
        "NSWAVELENGTH: LS data detected. Calling nswhelper to process data."
       ]
      },
      {
       "output_type": "stream",
       "stream": "stdout",
       "text": [
        "\n",
        "-------------------------------------------------------------------------------\n",
        "NSWHELPER -- Mon Oct 12 09:45:56 HST 2015\n",
        "\n"
       ]
      },
      {
       "output_type": "stream",
       "stream": "stdout",
       "text": [
        "Using input files:\n",
        "telarc\n"
       ]
      },
      {
       "output_type": "stream",
       "stream": "stdout",
       "text": [
        "Using output files:\n",
        "wtelarc\n"
       ]
      },
      {
       "output_type": "stream",
       "stream": "stdout",
       "text": [
        "Lamp image: telarc[SCI,1]\n",
        "\n"
       ]
      },
      {
       "output_type": "stream",
       "stream": "stdout",
       "text": [
        "AUTOIDENTIFY: NOAO/IRAF V2.16 klabrie@libellule.gemini.edu Mon 09:45:58 12-Oct-2015\n"
       ]
      },
      {
       "output_type": "stream",
       "stream": "stdout",
       "text": [
        "  Spectrum                 # Found   Midpoint Dispersion        RMS\n"
       ]
      },
      {
       "output_type": "stream",
       "stream": "stdout",
       "text": [
        "  wtelarc[SCI,1][733,*]         62    13882.6      -6.51      0.274\n"
       ]
      },
      {
       "output_type": "stream",
       "stream": "stdout",
       "text": [
        "wtelarc[SCI,1][733,*]: Examine identifications interactively?"
       ]
      },
      {
       "output_type": "stream",
       "stream": "stdout",
       "text": [
        "    968.49  11671.653    11671.9 100 NOAO\n"
       ]
      },
      {
       "output_type": "stream",
       "stream": "stdout",
       "text": [
        "   1055.24  11109.898    11109.5 3 NOAO\n"
       ]
      },
      {
       "output_type": "stream",
       "stream": "stdout",
       "text": [
        "   1055.24  11109.898    11109.5 3 NOAO\n"
       ]
      },
      {
       "output_type": "stream",
       "stream": "stdout",
       "text": [
        "\n",
        "REIDENTIFY: NOAO/IRAF V2.16 klabrie@libellule.gemini.edu Mon 09:46:09 12-Oct-2015\n"
       ]
      },
      {
       "output_type": "stream",
       "stream": "stdout",
       "text": [
        "  Reference image = wtelarc[SCI,1], New image = wtelarc[SCI,1], Refit = yes\n",
        "          Image Data    Found     Fit Pix Shift  User Shift  Z Shift      RMS\n"
       ]
      },
      {
       "output_type": "stream",
       "stream": "stdout",
       "text": [
        "wtelarc[SCI,1][723,*]  57/57   55/57     0.0366      -0.238  -1.8E-5    0.348\n"
       ]
      },
      {
       "output_type": "stream",
       "stream": "stdout",
       "text": [
        "wtelarc[SCI,1][723,*]  57/57   55/57     0.0366      -0.238  -1.8E-5    0.348\n"
       ]
      },
      {
       "output_type": "stream",
       "stream": "stdout",
       "text": [
        "wtelarc[SCI,1][713,*]  57/57   53/57     0.0665      -0.433  -3.2E-5    0.318\n"
       ]
      },
      {
       "output_type": "stream",
       "stream": "stdout",
       "text": [
        "wtelarc[SCI,1][703,*]  57/57   54/57      0.112      -0.729  -5.3E-5    0.355\n"
       ]
      },
      {
       "output_type": "stream",
       "stream": "stdout",
       "text": [
        "wtelarc[SCI,1][693,*]  56/57   55/56      0.161       -1.05  -7.6E-5    0.332\n"
       ]
      },
      {
       "output_type": "stream",
       "stream": "stdout",
       "text": [
        "wtelarc[SCI,1][683,*]  55/57   54/55      0.205       -1.34  -9.6E-5    0.378\n"
       ]
      },
      {
       "output_type": "stream",
       "stream": "stdout",
       "text": [
        "wtelarc[SCI,1][673,*]  56/57   55/56      0.257       -1.67  -1.2E-4    0.346\n"
       ]
      },
      {
       "output_type": "stream",
       "stream": "stdout",
       "text": [
        "wtelarc[SCI,1][663,*]  56/57   55/56      0.292        -1.9  -1.4E-4    0.409\n"
       ]
      },
      {
       "output_type": "stream",
       "stream": "stdout",
       "text": [
        "wtelarc[SCI,1][653,*]  56/57   54/56      0.349       -2.27  -1.6E-4    0.339\n"
       ]
      },
      {
       "output_type": "stream",
       "stream": "stdout",
       "text": [
        "wtelarc[SCI,1][643,*]  56/57   54/56      0.386       -2.51  -1.8E-4    0.343\n"
       ]
      },
      {
       "output_type": "stream",
       "stream": "stdout",
       "text": [
        "wtelarc[SCI,1][633,*]  56/57   56/56      0.437       -2.85  -2.1E-4    0.418\n"
       ]
      },
      {
       "output_type": "stream",
       "stream": "stdout",
       "text": [
        "wtelarc[SCI,1][623,*]  57/57   55/57      0.491        -3.2  -2.3E-4    0.399\n"
       ]
      },
      {
       "output_type": "stream",
       "stream": "stdout",
       "text": [
        "wtelarc[SCI,1][613,*]  56/57   56/56       0.54       -3.51  -2.6E-4    0.429\n"
       ]
      },
      {
       "output_type": "stream",
       "stream": "stdout",
       "text": [
        "wtelarc[SCI,1][603,*]  57/57   57/57      0.591       -3.85  -2.8E-4    0.486\n"
       ]
      },
      {
       "output_type": "stream",
       "stream": "stdout",
       "text": [
        "wtelarc[SCI,1][593,*]  57/57   54/57      0.579       -3.77  -2.8E-4    0.409\n"
       ]
      },
      {
       "output_type": "stream",
       "stream": "stdout",
       "text": [
        "wtelarc[SCI,1][583,*]  56/57   56/56      0.655       -4.26  -3.1E-4     0.43\n"
       ]
      },
      {
       "output_type": "stream",
       "stream": "stdout",
       "text": [
        "wtelarc[SCI,1][573,*]  56/57   56/56      0.712       -4.64  -3.4E-4    0.444\n"
       ]
      },
      {
       "output_type": "stream",
       "stream": "stdout",
       "text": [
        "wtelarc[SCI,1][563,*]  56/57   54/56      0.758       -4.94  -3.6E-4    0.366\n"
       ]
      },
      {
       "output_type": "stream",
       "stream": "stdout",
       "text": [
        "wtelarc[SCI,1][553,*]  57/57   53/57      0.798        -5.2  -3.8E-4    0.367\n"
       ]
      },
      {
       "output_type": "stream",
       "stream": "stdout",
       "text": [
        "wtelarc[SCI,1][543,*]  56/57   56/56      0.872       -5.68  -4.1E-4    0.376\n"
       ]
      },
      {
       "output_type": "stream",
       "stream": "stdout",
       "text": [
        "wtelarc[SCI,1][533,*]  56/57   55/56      0.923       -6.01  -4.3E-4    0.389\n"
       ]
      },
      {
       "output_type": "stream",
       "stream": "stdout",
       "text": [
        "wtelarc[SCI,1][523,*]  55/57   53/55       0.97       -6.32  -4.6E-4    0.335\n"
       ]
      },
      {
       "output_type": "stream",
       "stream": "stdout",
       "text": [
        "wtelarc[SCI,1][513,*]  56/57   56/56         1.       -6.52  -4.7E-4    0.365\n"
       ]
      },
      {
       "output_type": "stream",
       "stream": "stdout",
       "text": [
        "wtelarc[SCI,1][503,*]  56/57   55/56       1.05       -6.86  -4.9E-4    0.351\n"
       ]
      },
      {
       "output_type": "stream",
       "stream": "stdout",
       "text": [
        "wtelarc[SCI,1][493,*]  56/57   55/56       1.11       -7.24  -5.2E-4    0.345\n"
       ]
      },
      {
       "output_type": "stream",
       "stream": "stdout",
       "text": [
        "wtelarc[SCI,1][483,*]  56/57   55/56       1.17        -7.6  -5.5E-4    0.349\n"
       ]
      },
      {
       "output_type": "stream",
       "stream": "stdout",
       "text": [
        "wtelarc[SCI,1][473,*]  57/57   53/57       1.21       -7.88  -5.7E-4    0.277\n"
       ]
      },
      {
       "output_type": "stream",
       "stream": "stdout",
       "text": [
        "wtelarc[SCI,1][463,*]  56/57   54/56       1.28       -8.36  -6.0E-4    0.341\n"
       ]
      },
      {
       "output_type": "stream",
       "stream": "stdout",
       "text": [
        "wtelarc[SCI,1][453,*]  56/57   53/56       1.34        -8.7  -6.3E-4    0.315\n"
       ]
      },
      {
       "output_type": "stream",
       "stream": "stdout",
       "text": [
        "wtelarc[SCI,1][443,*]  55/57   55/55        1.4       -9.15  -6.6E-4    0.416\n"
       ]
      },
      {
       "output_type": "stream",
       "stream": "stdout",
       "text": [
        "wtelarc[SCI,1][433,*]  57/57   55/57       1.47       -9.61  -6.9E-4    0.404\n"
       ]
      },
      {
       "output_type": "stream",
       "stream": "stdout",
       "text": [
        "wtelarc[SCI,1][423,*]  57/57   56/57       1.52        -9.9  -7.1E-4    0.403\n"
       ]
      },
      {
       "output_type": "stream",
       "stream": "stdout",
       "text": [
        "wtelarc[SCI,1][413,*]  56/57   55/56       1.56       -10.2  -7.3E-4    0.355\n"
       ]
      },
      {
       "output_type": "stream",
       "stream": "stdout",
       "text": [
        "wtelarc[SCI,1][403,*]  57/57   57/57       1.65       -10.7  -7.7E-4    0.431\n"
       ]
      },
      {
       "output_type": "stream",
       "stream": "stdout",
       "text": [
        "wtelarc[SCI,1][393,*]  57/57   55/57       1.66       -10.8  -7.8E-4    0.399\n"
       ]
      },
      {
       "output_type": "stream",
       "stream": "stdout",
       "text": [
        "wtelarc[SCI,1][383,*]  56/57   56/56       1.75       -11.4  -8.2E-4    0.395\n"
       ]
      },
      {
       "output_type": "stream",
       "stream": "stdout",
       "text": [
        "wtelarc[SCI,1][373,*]  57/57   53/57       1.78       -11.6  -8.3E-4    0.354\n"
       ]
      },
      {
       "output_type": "stream",
       "stream": "stdout",
       "text": [
        "wtelarc[SCI,1][363,*]  56/57   54/56       1.89       -12.3  -8.9E-4    0.368\n"
       ]
      },
      {
       "output_type": "stream",
       "stream": "stdout",
       "text": [
        "wtelarc[SCI,1][353,*]  55/57   55/55       1.95       -12.7  -9.1E-4    0.389\n"
       ]
      },
      {
       "output_type": "stream",
       "stream": "stdout",
       "text": [
        "wtelarc[SCI,1][343,*]  55/57   55/55       2.02       -13.2  -9.4E-4    0.366\n"
       ]
      },
      {
       "output_type": "stream",
       "stream": "stdout",
       "text": [
        "wtelarc[SCI,1][333,*]  56/57   56/56       2.08       -13.5  -9.7E-4    0.398\n"
       ]
      },
      {
       "output_type": "stream",
       "stream": "stdout",
       "text": [
        "wtelarc[SCI,1][323,*]  57/57   54/57       2.13       -13.9  -9.9E-4    0.355\n"
       ]
      },
      {
       "output_type": "stream",
       "stream": "stdout",
       "text": [
        "wtelarc[SCI,1][313,*]  56/57   55/56       2.22       -14.5   -0.001    0.406\n"
       ]
      },
      {
       "output_type": "stream",
       "stream": "stdout",
       "text": [
        "wtelarc[SCI,1][303,*]  56/57   56/56       2.29       -14.9  -0.0011    0.394\n"
       ]
      },
      {
       "output_type": "stream",
       "stream": "stdout",
       "text": [
        "wtelarc[SCI,1][293,*]  56/57   53/56       2.33       -15.2  -0.0011    0.373\n"
       ]
      },
      {
       "output_type": "stream",
       "stream": "stdout",
       "text": [
        "wtelarc[SCI,1][283,*]  55/57   53/55       2.45        -16.  -0.0011     0.32\n"
       ]
      },
      {
       "output_type": "stream",
       "stream": "stdout",
       "text": [
        "wtelarc[SCI,1][273,*]  56/57   55/56        2.5       -16.3  -0.0012    0.406\n"
       ]
      },
      {
       "output_type": "stream",
       "stream": "stdout",
       "text": [
        "wtelarc[SCI,1][263,*]  56/57   53/56       2.58       -16.8  -0.0012     0.32\n"
       ]
      },
      {
       "output_type": "stream",
       "stream": "stdout",
       "text": [
        "wtelarc[SCI,1][253,*]  56/57   54/56       2.66       -17.3  -0.0012    0.312\n"
       ]
      },
      {
       "output_type": "stream",
       "stream": "stdout",
       "text": [
        "wtelarc[SCI,1][243,*]  57/57   53/57       2.74       -17.9  -0.0013    0.319\n"
       ]
      },
      {
       "output_type": "stream",
       "stream": "stdout",
       "text": [
        "wtelarc[SCI,1][233,*]  56/57   54/56       2.82       -18.4  -0.0013    0.328\n"
       ]
      },
      {
       "output_type": "stream",
       "stream": "stdout",
       "text": [
        "wtelarc[SCI,1][223,*]  56/57   55/56       2.92        -19.  -0.0014    0.419\n"
       ]
      },
      {
       "output_type": "stream",
       "stream": "stdout",
       "text": [
        "wtelarc[SCI,1][213,*]  56/57   55/56       2.99       -19.5  -0.0014    0.435\n"
       ]
      },
      {
       "output_type": "stream",
       "stream": "stdout",
       "text": [
        "wtelarc[SCI,1][203,*]  56/57   56/56       3.07        -20.  -0.0014    0.389\n"
       ]
      },
      {
       "output_type": "stream",
       "stream": "stdout",
       "text": [
        "wtelarc[SCI,1][193,*]  57/57   54/57       3.23       -21.1  -0.0015    0.408\n"
       ]
      },
      {
       "output_type": "stream",
       "stream": "stdout",
       "text": [
        "wtelarc[SCI,1][183,*]  56/57   55/56       3.25       -21.2  -0.0015    0.408\n"
       ]
      },
      {
       "output_type": "stream",
       "stream": "stdout",
       "text": [
        "wtelarc[SCI,1][173,*]  57/57   53/57       3.29       -21.4  -0.0015    0.403\n"
       ]
      },
      {
       "output_type": "stream",
       "stream": "stdout",
       "text": [
        "wtelarc[SCI,1][163,*]  56/57   55/56       3.38        -22.  -0.0016     0.41\n"
       ]
      },
      {
       "output_type": "stream",
       "stream": "stdout",
       "text": [
        "wtelarc[SCI,1][153,*]  56/57   55/56       3.41       -22.2  -0.0016    0.405\n"
       ]
      },
      {
       "output_type": "stream",
       "stream": "stdout",
       "text": [
        "wtelarc[SCI,1][143,*]  55/57   54/55        3.5       -22.8  -0.0016     0.35\n"
       ]
      },
      {
       "output_type": "stream",
       "stream": "stdout",
       "text": [
        "wtelarc[SCI,1][133,*]  56/57   53/56       3.57       -23.3  -0.0017    0.328\n"
       ]
      },
      {
       "output_type": "stream",
       "stream": "stdout",
       "text": [
        "wtelarc[SCI,1][123,*]  57/57   52/57       3.68        -24.  -0.0017    0.263\n"
       ]
      },
      {
       "output_type": "stream",
       "stream": "stdout",
       "text": [
        "wtelarc[SCI,1][113,*]  57/57   53/57       3.84        -25.  -0.0018    0.371\n"
       ]
      },
      {
       "output_type": "stream",
       "stream": "stdout",
       "text": [
        "wtelarc[SCI,1][103,*]  56/57   56/56        3.8       -24.8  -0.0018    0.753\n"
       ]
      },
      {
       "output_type": "stream",
       "stream": "stdout",
       "text": [
        "wtelarc[SCI,1][93,*]   57/57   53/57       3.95       -25.7  -0.0018    0.373\n"
       ]
      },
      {
       "output_type": "stream",
       "stream": "stdout",
       "text": [
        "wtelarc[SCI,1][83,*]   57/57   54/57       3.98       -25.9  -0.0018    0.375\n"
       ]
      },
      {
       "output_type": "stream",
       "stream": "stdout",
       "text": [
        "wtelarc[SCI,1][73,*]   56/57   51/56       4.02       -26.2  -0.0019    0.394\n"
       ]
      },
      {
       "output_type": "stream",
       "stream": "stdout",
       "text": [
        "wtelarc[SCI,1][63,*]   57/57   52/57       4.14        -27.  -0.0019    0.364\n"
       ]
      },
      {
       "output_type": "stream",
       "stream": "stdout",
       "text": [
        "wtelarc[SCI,1][53,*]   57/57   52/57       4.27       -27.8   -0.002    0.372\n"
       ]
      },
      {
       "output_type": "stream",
       "stream": "stdout",
       "text": [
        "wtelarc[SCI,1][43,*]   56/57   52/56        4.5       -29.3  -0.0021    0.398\n"
       ]
      },
      {
       "output_type": "stream",
       "stream": "stdout",
       "text": [
        "wtelarc[SCI,1][33,*]   55/57   53/55       4.55       -29.7  -0.0021    0.383\n"
       ]
      },
      {
       "output_type": "stream",
       "stream": "stdout",
       "text": [
        "wtelarc[SCI,1][23,*]   56/57   51/56       4.64       -30.2  -0.0021    0.335\n"
       ]
      },
      {
       "output_type": "stream",
       "stream": "stdout",
       "text": [
        "wtelarc[SCI,1][13,*]   55/57   52/55       4.74       -30.9  -0.0022    0.331\n"
       ]
      },
      {
       "output_type": "stream",
       "stream": "stdout",
       "text": [
        "wtelarc[SCI,1][3,*]    55/57   50/55        4.8       -31.3  -0.0022    0.374\n"
       ]
      },
      {
       "output_type": "stream",
       "stream": "stdout",
       "text": [
        "wtelarc[SCI,1][743,*]  56/57   54/56     -0.057       0.371  2.78E-5    0.303\n"
       ]
      },
      {
       "output_type": "stream",
       "stream": "stdout",
       "text": [
        "wtelarc[SCI,1][753,*]  57/57   56/57    -0.0934       0.608  4.44E-5    0.338\n"
       ]
      },
      {
       "output_type": "stream",
       "stream": "stdout",
       "text": [
        "wtelarc[SCI,1][763,*]  57/57   56/57     -0.134       0.871  6.37E-5    0.362\n"
       ]
      },
      {
       "output_type": "stream",
       "stream": "stdout",
       "text": [
        "wtelarc[SCI,1][773,*]  57/57   57/57     -0.167        1.09  7.94E-5    0.336\n"
       ]
      },
      {
       "output_type": "stream",
       "stream": "stdout",
       "text": [
        "wtelarc[SCI,1][783,*]  57/57   57/57     -0.207        1.35  9.81E-5    0.333\n"
       ]
      },
      {
       "output_type": "stream",
       "stream": "stdout",
       "text": [
        "wtelarc[SCI,1][793,*]  57/57   56/57     -0.247        1.61  1.17E-4    0.385\n"
       ]
      },
      {
       "output_type": "stream",
       "stream": "stdout",
       "text": [
        "wtelarc[SCI,1][803,*]  56/57   56/56      -0.28        1.82  1.33E-4    0.386\n"
       ]
      },
      {
       "output_type": "stream",
       "stream": "stdout",
       "text": [
        "wtelarc[SCI,1][813,*]  56/57   56/56      -0.32        2.09  1.52E-4    0.409\n"
       ]
      },
      {
       "output_type": "stream",
       "stream": "stdout",
       "text": [
        "wtelarc[SCI,1][823,*]  56/57   56/56     -0.365        2.38  1.73E-4    0.455\n"
       ]
      },
      {
       "output_type": "stream",
       "stream": "stdout",
       "text": [
        "wtelarc[SCI,1][833,*]  56/57   54/56       -0.4         2.6  1.90E-4     0.33\n"
       ]
      },
      {
       "output_type": "stream",
       "stream": "stdout",
       "text": [
        "wtelarc[SCI,1][843,*]  57/57   53/57     -0.482        3.14  2.23E-4    0.374\n"
       ]
      },
      {
       "output_type": "stream",
       "stream": "stdout",
       "text": [
        "wtelarc[SCI,1][853,*]  57/57   54/57     -0.504        3.28  2.35E-4    0.489\n"
       ]
      },
      {
       "output_type": "stream",
       "stream": "stdout",
       "text": [
        "wtelarc[SCI,1][863,*]  57/57   55/57     -0.519        3.38  2.44E-4    0.428\n"
       ]
      },
      {
       "output_type": "stream",
       "stream": "stdout",
       "text": [
        "wtelarc[SCI,1][873,*]  57/57   55/57     -0.537         3.5  2.53E-4    0.438\n"
       ]
      },
      {
       "output_type": "stream",
       "stream": "stdout",
       "text": [
        "wtelarc[SCI,1][883,*]  57/57   55/57     -0.572        3.73  2.70E-4    0.412\n"
       ]
      },
      {
       "output_type": "stream",
       "stream": "stdout",
       "text": [
        "wtelarc[SCI,1][893,*]  57/57   56/57     -0.593        3.86  2.80E-4    0.441\n"
       ]
      },
      {
       "output_type": "stream",
       "stream": "stdout",
       "text": [
        "wtelarc[SCI,1][903,*]  57/57   56/57     -0.631        4.11  2.98E-4    0.453\n"
       ]
      },
      {
       "output_type": "stream",
       "stream": "stdout",
       "text": [
        "wtelarc[SCI,1][913,*]  57/57   55/57     -0.652        4.25  3.08E-4    0.397\n"
       ]
      },
      {
       "output_type": "stream",
       "stream": "stdout",
       "text": [
        "wtelarc[SCI,1][923,*]  57/57   55/57     -0.699        4.55  3.30E-4    0.431\n"
       ]
      },
      {
       "output_type": "stream",
       "stream": "stdout",
       "text": [
        "wtelarc[SCI,1][933,*]  57/57   56/57     -0.736        4.79  3.49E-4    0.458\n"
       ]
      },
      {
       "output_type": "stream",
       "stream": "stdout",
       "text": [
        "wtelarc[SCI,1][943,*]  57/57   57/57     -0.771        5.02  3.66E-4    0.536\n"
       ]
      },
      {
       "output_type": "stream",
       "stream": "stdout",
       "text": [
        "wtelarc[SCI,1][953,*]  57/57   55/57     -0.774        5.04  3.67E-4    0.471\n"
       ]
      },
      {
       "output_type": "stream",
       "stream": "stdout",
       "text": [
        "wtelarc[SCI,1][963,*]  57/57   57/57     -0.802        5.22  3.81E-4    0.491\n"
       ]
      },
      {
       "output_type": "stream",
       "stream": "stdout",
       "text": [
        "wtelarc[SCI,1][973,*]  57/57   57/57     -0.844        5.49  4.02E-4     0.48\n"
       ]
      },
      {
       "output_type": "stream",
       "stream": "stdout",
       "text": [
        "wtelarc[SCI,1][983,*]  57/57   57/57     -0.841        5.48  4.00E-4    0.454\n"
       ]
      },
      {
       "output_type": "stream",
       "stream": "stdout",
       "text": [
        "wtelarc[SCI,1][993,*]  56/57   54/56      -0.87        5.66  4.16E-4    0.356\n"
       ]
      },
      {
       "output_type": "stream",
       "stream": "stdout",
       "text": [
        "wtelarc[SCI,1][1003,*] 57/57   53/57     -0.959        6.24  4.49E-4    0.343\n"
       ]
      },
      {
       "output_type": "stream",
       "stream": "stdout",
       "text": [
        "wtelarc[SCI,1][1013,*] 57/57   57/57     -0.908        5.91  4.33E-4     0.52\n"
       ]
      },
      {
       "output_type": "stream",
       "stream": "stdout",
       "text": [
        "wtelarc[SCI,1][1023,*] 56/57   55/56     -0.928        6.04  4.44E-4    0.351\n"
       ]
      },
      {
       "output_type": "stream",
       "stream": "stdout",
       "text": [
        "wtelarc[SCI,1][1033,*] 57/57   56/57     -0.949        6.17  4.52E-4    0.385\n"
       ]
      },
      {
       "output_type": "stream",
       "stream": "stdout",
       "text": [
        "wtelarc[SCI,1][1043,*] 57/57   56/57     -0.963        6.27  4.59E-4    0.404\n"
       ]
      },
      {
       "output_type": "stream",
       "stream": "stdout",
       "text": [
        "wtelarc[SCI,1][1053,*] 56/57   54/56     -0.958        6.23  4.59E-4    0.318\n"
       ]
      },
      {
       "output_type": "stream",
       "stream": "stdout",
       "text": [
        "wtelarc[SCI,1][1063,*] 56/57   55/56     -0.969        6.31  4.61E-4    0.399\n"
       ]
      },
      {
       "output_type": "stream",
       "stream": "stdout",
       "text": [
        "wtelarc[SCI,1][1073,*] 57/57   57/57     -0.984         6.4  4.70E-4    0.448\n"
       ]
      },
      {
       "output_type": "stream",
       "stream": "stdout",
       "text": [
        "wtelarc[SCI,1][1083,*] 57/57   56/57        -1.        6.54  4.80E-4      0.4\n"
       ]
      },
      {
       "output_type": "stream",
       "stream": "stdout",
       "text": [
        "wtelarc[SCI,1][1093,*] 56/57   55/56      -1.02        6.64  4.92E-4    0.368\n"
       ]
      },
      {
       "output_type": "stream",
       "stream": "stdout",
       "text": [
        "wtelarc[SCI,1][1103,*] 57/57   57/57      -1.03        6.68  4.92E-4    0.425\n"
       ]
      },
      {
       "output_type": "stream",
       "stream": "stdout",
       "text": [
        "wtelarc[SCI,1][1113,*] 55/57   50/55      -1.03        6.73  4.91E-4    0.257\n"
       ]
      },
      {
       "output_type": "stream",
       "stream": "stdout",
       "text": [
        "wtelarc[SCI,1][1123,*] 57/57   55/57      -1.05        6.83  5.03E-4    0.352\n"
       ]
      },
      {
       "output_type": "stream",
       "stream": "stdout",
       "text": [
        "wtelarc[SCI,1][1133,*] 56/57   54/56      -1.06        6.93  5.13E-4    0.305\n"
       ]
      },
      {
       "output_type": "stream",
       "stream": "stdout",
       "text": [
        "wtelarc[SCI,1][1143,*] 56/57   54/56      -1.09        7.08  5.25E-4    0.323\n"
       ]
      },
      {
       "output_type": "stream",
       "stream": "stdout",
       "text": [
        "wtelarc[SCI,1][1153,*] 56/57   55/56      -1.11        7.19  5.33E-4    0.375\n"
       ]
      },
      {
       "output_type": "stream",
       "stream": "stdout",
       "text": [
        "wtelarc[SCI,1][1163,*] 56/57   53/56      -1.12        7.27  5.40E-4    0.285\n"
       ]
      },
      {
       "output_type": "stream",
       "stream": "stdout",
       "text": [
        "wtelarc[SCI,1][1173,*] 56/57   54/56      -1.13        7.38  5.48E-4    0.319\n"
       ]
      },
      {
       "output_type": "stream",
       "stream": "stdout",
       "text": [
        "wtelarc[SCI,1][1183,*] 56/57   54/56      -1.15        7.48  5.56E-4    0.321\n"
       ]
      },
      {
       "output_type": "stream",
       "stream": "stdout",
       "text": [
        "wtelarc[SCI,1][1193,*] 56/57   54/56      -1.16        7.56  5.63E-4    0.332\n"
       ]
      },
      {
       "output_type": "stream",
       "stream": "stdout",
       "text": [
        "wtelarc[SCI,1][1203,*] 57/57   55/57      -1.18        7.66  5.68E-4    0.311\n"
       ]
      },
      {
       "output_type": "stream",
       "stream": "stdout",
       "text": [
        "wtelarc[SCI,1][1213,*] 57/57   55/57       -1.2        7.78  5.78E-4    0.349\n"
       ]
      },
      {
       "output_type": "stream",
       "stream": "stdout",
       "text": [
        "wtelarc[SCI,1][1223,*] 57/57   56/57      -1.21        7.84  5.83E-4    0.375\n"
       ]
      },
      {
       "output_type": "stream",
       "stream": "stdout",
       "text": [
        "wtelarc[SCI,1][1233,*] 57/57   55/57      -1.21        7.89  5.87E-4    0.365\n"
       ]
      },
      {
       "output_type": "stream",
       "stream": "stdout",
       "text": [
        "wtelarc[SCI,1][1243,*] 57/57   55/57      -1.21        7.88  5.86E-4    0.359\n"
       ]
      },
      {
       "output_type": "stream",
       "stream": "stdout",
       "text": [
        "wtelarc[SCI,1][1253,*] 56/57   54/56      -1.22        7.95  5.95E-4     0.32\n"
       ]
      },
      {
       "output_type": "stream",
       "stream": "stdout",
       "text": [
        "wtelarc[SCI,1][1263,*] 57/57   56/57      -1.22        7.96  5.94E-4    0.425\n"
       ]
      },
      {
       "output_type": "stream",
       "stream": "stdout",
       "text": [
        "wtelarc[SCI,1][1273,*] 56/57   54/56      -1.23        8.01  6.01E-4    0.325\n"
       ]
      },
      {
       "output_type": "stream",
       "stream": "stdout",
       "text": [
        "wtelarc[SCI,1][1283,*] 56/57   53/56      -1.21        7.85  5.91E-4    0.303\n"
       ]
      },
      {
       "output_type": "stream",
       "stream": "stdout",
       "text": [
        "wtelarc[SCI,1][1293,*] 57/57   57/57      -1.21        7.87  5.89E-4    0.493\n"
       ]
      },
      {
       "output_type": "stream",
       "stream": "stdout",
       "text": [
        "wtelarc[SCI,1][1303,*] 56/57   53/56      -1.19        7.72  5.81E-4    0.281\n"
       ]
      },
      {
       "output_type": "stream",
       "stream": "stdout",
       "text": [
        "wtelarc[SCI,1][1313,*] 57/57   53/57      -1.21        7.87  5.86E-4    0.297\n"
       ]
      },
      {
       "output_type": "stream",
       "stream": "stdout",
       "text": [
        "wtelarc[SCI,1][1323,*] 57/57   53/57      -1.16        7.54  5.66E-4    0.321\n"
       ]
      },
      {
       "output_type": "stream",
       "stream": "stdout",
       "text": [
        "wtelarc[SCI,1][1333,*] 56/57   53/56      -1.15        7.48  5.66E-4    0.338\n"
       ]
      },
      {
       "output_type": "stream",
       "stream": "stdout",
       "text": [
        "wtelarc[SCI,1][1343,*] 57/57   54/57      -1.13        7.33  5.51E-4    0.389\n"
       ]
      },
      {
       "output_type": "stream",
       "stream": "stdout",
       "text": [
        "wtelarc[SCI,1][1353,*] 57/57   52/57      -1.13        7.36  5.54E-4    0.327\n"
       ]
      },
      {
       "output_type": "stream",
       "stream": "stdout",
       "text": [
        "wtelarc[SCI,1][1363,*] 57/57   53/57      -1.17        7.61  5.71E-4    0.359\n"
       ]
      },
      {
       "output_type": "stream",
       "stream": "stdout",
       "text": [
        "wtelarc[SCI,1][1373,*] 56/57   54/56      -1.14        7.44  5.65E-4    0.357\n"
       ]
      },
      {
       "output_type": "stream",
       "stream": "stdout",
       "text": [
        "wtelarc[SCI,1][1383,*] 57/57   53/57      -1.15        7.44  5.63E-4    0.387\n"
       ]
      },
      {
       "output_type": "stream",
       "stream": "stdout",
       "text": [
        "wtelarc[SCI,1][1393,*] 56/57   54/56      -1.15        7.49  5.71E-4    0.378\n"
       ]
      },
      {
       "output_type": "stream",
       "stream": "stdout",
       "text": [
        "wtelarc[SCI,1][1403,*] 55/57   53/55      -1.15        7.45  5.67E-4    0.385\n"
       ]
      },
      {
       "output_type": "stream",
       "stream": "stdout",
       "text": [
        "wtelarc[SCI,1][1413,*] 56/57   54/56      -1.11         7.2  5.50E-4    0.369\n"
       ]
      },
      {
       "output_type": "stream",
       "stream": "stdout",
       "text": [
        "wtelarc[SCI,1][1423,*] 57/57   55/57      -1.07        6.96  5.33E-4    0.357\n"
       ]
      },
      {
       "output_type": "stream",
       "stream": "stdout",
       "text": [
        "wtelarc[SCI,1][1433,*] 56/57   53/56      -1.11        7.22  5.54E-4    0.327\n"
       ]
      },
      {
       "output_type": "stream",
       "stream": "stdout",
       "text": [
        "wtelarc[SCI,1][1443,*] 56/57   53/56       -1.1        7.16  5.51E-4    0.336\n"
       ]
      },
      {
       "output_type": "stream",
       "stream": "stdout",
       "text": [
        "wtelarc[SCI,1][1453,*] 57/57   54/57      -1.06        6.86  5.27E-4    0.309\n"
       ]
      },
      {
       "output_type": "stream",
       "stream": "stdout",
       "text": [
        "wtelarc[SCI,1][1463,*] 56/57   54/56      -1.08        6.99  5.40E-4    0.376\n"
       ]
      },
      {
       "output_type": "stream",
       "stream": "stdout",
       "text": [
        "\n",
        "NSWHELPER Exit status good\n",
        "-------------------------------------------------------------------------------\n",
        "\n",
        "NSWAVELENGTH Exit status good\n",
        "-------------------------------------------------------------------------------\n"
       ]
      }
     ],
     "prompt_number": 29
    },
    {
     "cell_type": "heading",
     "level": 3,
     "metadata": {},
     "source": [
      "Test recovery of a calibrated arc"
     ]
    },
    {
     "cell_type": "markdown",
     "metadata": {},
     "source": [
      "Confirm that applying the wavelength solution to the arc itself recovers a correctly wavelength-calibrated arc.  The key step is **<code>nsfitcoords</code>**.  The default **<code>lxorder</code>** and **<code>lyorder</code>** are both set to 2 which doesn't seem to be correct.  Running **<code>nsfitcoords</code>** interactively on the arc will allow us to discover the best **<code>lxorder</code>** and **<code>lyorder</code>** for this wavelength solution, and use that as a starting point later when using the arc wavelength solution (**<code>warc.fits</code>**) on the telluric and the science."
     ]
    },
    {
     "cell_type": "markdown",
     "metadata": {},
     "source": [
      "Cut and paste these instructions in the PyRAF session that we prepared in Step 0. \n",
      "\n",
      "    iraf.imdelete('ftelarc.fits', verify='no')\n",
      "    iraf.nsfitcoords('telarc.fits', lamptransf='wtelarc.fits', fl_inter='yes')\n",
      "    # Note down the xorder and yorder needed for a good fit.  Use\n",
      "    # that whenever wtelarc.fits is used by nsfitcoords.\n",
      "    # :xorder 3, :yorder 8\n",
      "\n",
      "\n",
      "The yorder is probably a bit high, but it definitely removes any trace of a wave pattern..."
     ]
    },
    {
     "cell_type": "markdown",
     "metadata": {},
     "source": [
      "Record the lxorder and lyorder in the notebook session for future use."
     ]
    },
    {
     "cell_type": "code",
     "collapsed": false,
     "input": [
      "lxorder=3 ; lyorder=8"
     ],
     "language": "python",
     "metadata": {},
     "outputs": [],
     "prompt_number": 30
    },
    {
     "cell_type": "code",
     "collapsed": false,
     "input": [
      "iraf.imdelete('tftelarc.fits', verify='no')\n",
      "iraf.nstransform('ftelarc.fits')\n",
      "iraf.display('tftelarc.fits[sci,1]', 1)"
     ],
     "language": "python",
     "metadata": {},
     "outputs": [
      {
       "output_type": "stream",
       "stream": "stdout",
       "text": [
        "-------------------------------------------------------------------------------\n",
        "NSTRANSFORM -- Mon Oct 12 09:47:45 HST 2015\n",
        "\n",
        "Using input files:"
       ]
      },
      {
       "output_type": "stream",
       "stream": "stdout",
       "text": [
        "\n",
        "ftelarc\n"
       ]
      },
      {
       "output_type": "stream",
       "stream": "stdout",
       "text": [
        "Using output files:\n",
        "tftelarc\n"
       ]
      },
      {
       "output_type": "stream",
       "stream": "stdout",
       "text": [
        "NSTRANSFORM: Fitnames for ftelarc: ftelarc_SCI_1_lamp\n",
        "WARNING - NSTRANSFORM: No MDF in ftelarc"
       ]
      },
      {
       "output_type": "stream",
       "stream": "stdout",
       "text": [
        "\n"
       ]
      },
      {
       "output_type": "stream",
       "stream": "stdout",
       "text": [
        "NSTRANSFORM: Exit status good\n",
        "-------------------------------------------------------------------------------\n"
       ]
      },
      {
       "output_type": "stream",
       "stream": "stdout",
       "text": [
        "z1=0. z2=486.1026\n"
       ]
      }
     ],
     "prompt_number": 31
    },
    {
     "cell_type": "code",
     "collapsed": false,
     "input": [
      "# display the first telluric to identify on which column the spectrum falls in\n",
      "# the A position.\n",
      "first_tel = iraf.head('tel.lis', nlines=1, Stdout=1)[0].strip()\n",
      "iraf.display('f'+first_tel+'[1]', 1)"
     ],
     "language": "python",
     "metadata": {},
     "outputs": [
      {
       "output_type": "stream",
       "stream": "stdout",
       "text": [
        "z1=-71. z2=536.2787\n"
       ]
      }
     ],
     "prompt_number": 32
    },
    {
     "cell_type": "code",
     "collapsed": false,
     "input": [
      "# UPDATE POSITION OF TELLURIC\n",
      "# position of the telluric is column 951 (around the center of the frame)\n",
      "iraf.tel_position = 951"
     ],
     "language": "python",
     "metadata": {},
     "outputs": [],
     "prompt_number": 33
    },
    {
     "cell_type": "code",
     "collapsed": false,
     "input": [
      "iraf.splot('tftelarc.fits[sci,1]', line=iraf.tel_position, options=\"auto wreset flip\")"
     ],
     "language": "python",
     "metadata": {},
     "outputs": [
      {
       "output_type": "stream",
       "stream": "stdout",
       "text": [
        "window:"
       ]
      },
      {
       "output_type": "stream",
       "stream": "stdout",
       "text": [
        "again:"
       ]
      },
      {
       "output_type": "stream",
       "stream": "stdout",
       "text": [
        "k again:"
       ]
      },
      {
       "output_type": "stream",
       "stream": "stdout",
       "text": [
        "\n",
        "1: center =  16945.4, flux =  168727., eqw = -37.64, gfwhm =  15.34"
       ]
      },
      {
       "output_type": "stream",
       "stream": "stdout",
       "text": [
        "window:"
       ]
      },
      {
       "output_type": "stream",
       "stream": "stdout",
       "text": [
        "window:"
       ]
      },
      {
       "output_type": "stream",
       "stream": "stdout",
       "text": [
        "again:"
       ]
      },
      {
       "output_type": "stream",
       "stream": "stdout",
       "text": [
        "k again:"
       ]
      },
      {
       "output_type": "stream",
       "stream": "stdout",
       "text": [
        "\n",
        "1: center =  13371.4, flux =   61437., eqw = -10.28, gfwhm =  5.709"
       ]
      },
      {
       "output_type": "stream",
       "stream": "stdout",
       "text": [
        "window:"
       ]
      },
      {
       "output_type": "stream",
       "stream": "stdout",
       "text": [
        "window:"
       ]
      },
      {
       "output_type": "stream",
       "stream": "stdout",
       "text": [
        "again:"
       ]
      },
      {
       "output_type": "stream",
       "stream": "stdout",
       "text": [
        "k again:"
       ]
      },
      {
       "output_type": "stream",
       "stream": "stdout",
       "text": [
        "\n",
        "1: center =  10472.5, flux =   93128., eqw = -99.14, gfwhm =  17.34"
       ]
      }
     ],
     "prompt_number": 34
    },
    {
     "cell_type": "markdown",
     "metadata": {},
     "source": [
      "Check that the arc lines are at the correct wavelength. Use '<code>k</code>' on each side of the a line to get the centroid. Then compare with the line list and the diagrams.\n",
      "\n",
      "Resource:  \n",
      "    http://www.gemini.edu/sciops/instruments/niri/?q=node/10166\n",
      "\n",
      "The NIRI plots from that webpage work well.\n",
      "\n",
      "*Result: (Kathleen)\n",
      "The arc gets transformed correctly with lxorder=3, lyorder=8.  Just quicklook for now, I have not looked carefully at the blue and red end, and I have not looked for an absolute offset. "
     ]
    },
    {
     "cell_type": "heading",
     "level": 2,
     "metadata": {},
     "source": [
      "STEP 16:  Wavelength calibrate the telluric data"
     ]
    },
    {
     "cell_type": "markdown",
     "metadata": {},
     "source": [
      "Now that an arc is taken with the telluric (circa 2015B), the wavelength calibration of the telluric data should be straight forward."
     ]
    },
    {
     "cell_type": "heading",
     "level": 3,
     "metadata": {},
     "source": [
      "Apply the telluric arc solution"
     ]
    },
    {
     "cell_type": "code",
     "collapsed": false,
     "input": [
      "print 'Using lxorder, lyorder = ', lxorder, lyorder\n",
      "iraf.imdelete('ftel_comb.fits', verify='no')\n",
      "iraf.nsfitcoords('tel_comb.fits', lamptransf='wtelarc.fits', \\\n",
      "                 lxorder=lxorder, lyorder=lyorder)\n",
      "\n",
      "iraf.imdelete ('tftel_comb.fits', verify='no')\n",
      "iraf.nstransform ('ftel_comb.fits')"
     ],
     "language": "python",
     "metadata": {},
     "outputs": [
      {
       "output_type": "stream",
       "stream": "stdout",
       "text": [
        "Using lxorder, lyorder =  3 8\n",
        "-------------------------------------------------------------------------------"
       ]
      },
      {
       "output_type": "stream",
       "stream": "stdout",
       "text": [
        "\n",
        "NSFITCOORDS -- Mon Oct 12 09:49:53 HST 2015\n",
        "\n",
        "Using input files:"
       ]
      },
      {
       "output_type": "stream",
       "stream": "stdout",
       "text": [
        "\n",
        "tel_comb\n"
       ]
      },
      {
       "output_type": "stream",
       "stream": "stdout",
       "text": [
        "Using output files:\n",
        "ftel_comb\n"
       ]
      },
      {
       "output_type": "stream",
       "stream": "stdout",
       "text": [
        "NSFITCOORDS: Fitnames for tel_comb: ftel_comb_SCI_1_lamp\n"
       ]
      },
      {
       "output_type": "stream",
       "stream": "stdout",
       "text": [
        "NSFITCOORDS: Exit status good\n",
        "-------------------------------------------------------------------------------\n"
       ]
      },
      {
       "output_type": "stream",
       "stream": "stdout",
       "text": [
        "-------------------------------------------------------------------------------\n",
        "NSTRANSFORM -- Mon Oct 12 09:49:55 HST 2015\n",
        "\n",
        "Using input files:"
       ]
      },
      {
       "output_type": "stream",
       "stream": "stdout",
       "text": [
        "\n",
        "ftel_comb\n"
       ]
      },
      {
       "output_type": "stream",
       "stream": "stdout",
       "text": [
        "Using output files:\n",
        "tftel_comb\n"
       ]
      },
      {
       "output_type": "stream",
       "stream": "stdout",
       "text": [
        "NSTRANSFORM: Fitnames for ftel_comb: ftel_comb_SCI_1_lamp\n",
        "WARNING - NSTRANSFORM: No MDF in ftel_comb"
       ]
      },
      {
       "output_type": "stream",
       "stream": "stdout",
       "text": [
        "\n"
       ]
      },
      {
       "output_type": "stream",
       "stream": "stdout",
       "text": [
        "NSTRANSFORM: Exit status good\n",
        "-------------------------------------------------------------------------------\n"
       ]
      }
     ],
     "prompt_number": 35
    },
    {
     "cell_type": "markdown",
     "metadata": {},
     "source": [
      "Check that the spectral features (the hydrogen lines in this case) fall where they are supposed to be.\n",
      "\n",
      "Cut an paste these instructions in the PyRAF session. (The splot interactive ':'-commands do not work well from the notebook.)\n",
      "\n",
      "    iraf.display ('tftel_comb[sci,1]', 1)\n",
      "    # note on which column the telluric falls\n",
      "    iraf.tel_position = 908\n",
      "\n",
      "    splot (\"tftel_comb[sci,1]\", line=iraf.tel_position)\n",
      "    # :nsum 30\n",
      "    # Use 'k' on each side of the a line to centroid.\n",
      "    # Compare with atomic line list.\n",
      "    Comment here on results of the verification."
     ]
    },
    {
     "cell_type": "heading",
     "level": 2,
     "metadata": {},
     "source": [
      "STEP 17: Extract the telluric spectrum"
     ]
    },
    {
     "cell_type": "markdown",
     "metadata": {},
     "source": [
      "We run <code>nsextract</code> in non-interactive mode since the telluric is quite bright.  (Running it in interactive mode does confirm that the automatic aperture selection is coincident with the telluric spectrum.)"
     ]
    },
    {
     "cell_type": "code",
     "collapsed": false,
     "input": [
      "iraf.imdelete('xtftel_comb.fits', verify='no')\n",
      "iraf.nsextract('tftel_comb.fits', fl_apall='yes', fl_findneg='no', \\\n",
      "    fl_inter='no', fl_trace='yes')\n",
      "\n",
      "iraf.splot ('xtftel_comb.fits[SCI,1]')"
     ],
     "language": "python",
     "metadata": {},
     "outputs": [
      {
       "output_type": "stream",
       "stream": "stdout",
       "text": [
        "-------------------------------------------------------------------------------\n",
        "NSEXTRACT -- Mon Oct 12 09:54:25 HST 2015\n",
        " \n"
       ]
      },
      {
       "output_type": "stream",
       "stream": "stdout",
       "text": [
        "WARNING - NSEXTRACT: Output variance planes derived from apall rather than input variance plane.\n",
        "Using input files:\n",
        "tftel_comb 1 no\n"
       ]
      },
      {
       "output_type": "stream",
       "stream": "stdout",
       "text": [
        "Using output files:\n",
        "xtftel_comb\n"
       ]
      },
      {
       "output_type": "stream",
       "stream": "stdout",
       "text": [
        "\n",
        "Searching aperture database ...\n"
       ]
      },
      {
       "output_type": "stream",
       "stream": "stdout",
       "text": [
        "Finding apertures ...\n"
       ]
      },
      {
       "output_type": "stream",
       "stream": "stdout",
       "text": [
        "Oct 12  9:54: FIND - 1 apertures found for tmpscivar50204_1208\n"
       ]
      },
      {
       "output_type": "stream",
       "stream": "stdout",
       "text": [
        "Resizing apertures ...\n"
       ]
      },
      {
       "output_type": "stream",
       "stream": "stdout",
       "text": [
        "Oct 12  9:54: APRESIZE  - 1 apertures resized for tmpscivar50204_1208 (-5.73, 5.40)\n"
       ]
      },
      {
       "output_type": "stream",
       "stream": "stdout",
       "text": [
        "Tracing apertures ...\n"
       ]
      },
      {
       "output_type": "stream",
       "stream": "stdout",
       "text": [
        "Oct 12  9:54: TRACE - 1 apertures traced in tmpscivar50204_1208.\n"
       ]
      },
      {
       "output_type": "stream",
       "stream": "stdout",
       "text": [
        "Oct 12  9:54: DATABASE - 1 apertures for tmpscivar50204_1208 written to JH033202_database\n"
       ]
      },
      {
       "output_type": "stream",
       "stream": "stdout",
       "text": [
        "Extracting apertures ...\n"
       ]
      },
      {
       "output_type": "stream",
       "stream": "stdout",
       "text": [
        "Oct 12  9:54: EXTRACT - Aperture 1 from tmpscivar50204_1208 --> tmpspeca50204_1196\n"
       ]
      },
      {
       "output_type": "stream",
       "stream": "stdout",
       "text": [
        "Searching aperture database ...\n"
       ]
      },
      {
       "output_type": "stream",
       "stream": "stdout",
       "text": [
        "Oct 12  9:54: DATABASE  - 1 apertures read for tmpscivar50204_1208 from JH033202_database\n"
       ]
      },
      {
       "output_type": "stream",
       "stream": "stdout",
       "text": [
        "Oct 12  9:54: DATABASE - 1 apertures for tftel_comb[DQ,1] written to JH033202_database\n"
       ]
      },
      {
       "output_type": "stream",
       "stream": "stdout",
       "text": [
        "Extracting apertures ...\n"
       ]
      },
      {
       "output_type": "stream",
       "stream": "stdout",
       "text": [
        "Oct 12  9:54: EXTRACT - Aperture 1 from tftel_comb[DQ,1] --> tmpspecdqa50204_1200\n"
       ]
      },
      {
       "output_type": "stream",
       "stream": "stdout",
       "text": [
        "NSEXTRACT: Aperture centre at 908.9273,500.0\n",
        "NSEXTRACT: S/N for xtftel_comb: "
       ]
      },
      {
       "output_type": "stream",
       "stream": "stdout",
       "text": [
        "\n",
        "           from variance array:     63.49"
       ]
      },
      {
       "output_type": "stream",
       "stream": "stdout",
       "text": [
        "\n",
        "           from smoothed spectrum:   2.60\n"
       ]
      },
      {
       "output_type": "stream",
       "stream": "stdout",
       "text": [
        "\n",
        "NSEXTRACT: Exit status good\n",
        "-------------------------------------------------------------------------------\n"
       ]
      }
     ],
     "prompt_number": 36
    },
    {
     "cell_type": "markdown",
     "metadata": {},
     "source": [
      "**The signal looks good.  The telluric is not saturated.  Should be okay to proceed to a Science Quality reduction now.**\n",
      "\n",
      "This telluric spectrum will be used later.  It will then need to be corrected to remove the stellar features either by fitting Voight profiles on each hydrogen line and removing each feature, or by fitting a stellar model to it."
     ]
    },
    {
     "cell_type": "heading",
     "level": 2,
     "metadata": {},
     "source": [
      "FINAL quicklook spectrum: xtfobj_comb.fits  (not corrected for telluric features)"
     ]
    },
    {
     "cell_type": "heading",
     "level": 2,
     "metadata": {},
     "source": [
      "FINAL quicklook telluric: xtftel_comb.fits"
     ]
    }
   ],
   "metadata": {}
  }
 ]
}