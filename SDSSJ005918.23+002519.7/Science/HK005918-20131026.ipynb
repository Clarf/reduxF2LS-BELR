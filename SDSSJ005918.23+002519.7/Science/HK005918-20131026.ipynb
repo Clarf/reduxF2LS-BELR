{
 "metadata": {
  "name": "HK005918-20131026"
 },
 "nbformat": 3,
 "nbformat_minor": 0,
 "worksheets": [
  {
   "cells": [
    {
     "cell_type": "heading",
     "level": 1,
     "metadata": {},
     "source": [
      "F2 Longslit HK Reduction of SDSSJ005918-20131026"
     ]
    },
    {
     "cell_type": "markdown",
     "metadata": {},
     "source": [
      "----\n",
      "Science Dataset:\n",
      "----------------\n",
      "\n",
      "<table>\n",
      "    <tr><td> <strong>Observation UT date</strong> </td> <td>2013 Oct 26, *2013 Oct 24</td></tr>\n",
      "    <tr><td> <strong>Data filename prefix</strong> </td><td>S20131026S, *S20131024S</td></tr>\n",
      "</table>\n",
      "\n",
      "**File numbers:**\n",
      "<table>\n",
      "    <tr><td>Science </td>          <td>681-684 (HK, HK, 2pix-slit, 90s)</td></tr>\n",
      "    <tr><td>Darks for science </td><td>797-803 (90s)</td></tr>\n",
      "    <tr><td>Flat </td>             <td>686     (HK, HK, 2pix-slit, 4s)</td></tr>\n",
      "    <tr><td>Darks for flat </td>   <td>*032-037 (4s)</td></tr>\n",
      "    <tr><td>Arc </td>              <td>685     (HK, HK, 2pix-slit, 90s)</td></tr>\n",
      "    <tr><td>Darks for arc </td>    <td>797-803 (90s)</td></tr>\n",
      "</table>\n",
      "\n",
      "Telluric Dataset:\n",
      "-----------------\n",
      "\n",
      "<table>\n",
      "    <tr><td> <strong>Observation UT date</strong> </td> <td>2013 Oct 26, *2013 Oct 24, **2013 Oct 25</td></tr>\n",
      "    <tr><td> <strong>Data filename prefix</strong> </td><td>S20131026S, *S20131024S, **S20131025S</td></tr>\n",
      "</table>\n",
      "\n",
      "**File numbers:**\n",
      "<table>\n",
      "    <tr><td>Telluric (HIP 1378) </td><td>699-702 (HK, HK, 2pix-slit, 30s)</td></tr>\n",
      "    <tr><td>Darks for telluric </td> <td>**401-406 (30s)</td></tr>\n",
      "    <tr><td>Flat </td>               <td>686     (HK, HK, 2pix-slit, 4s)</td></tr>\n",
      "    <tr><td>Darks for flat </td>     <td>*032-037 (4s)</td></tr>\n",
      "    <tr><td>Arc </td>                <td>685     (HK, HK, 2pix-slit, 90s)</td></tr>\n",
      "    <tr><td>Darks for arc </td>      <td>797-803 (90s)</td></tr>\n",
      "</table>\n",
      "\n",
      "----"
     ]
    },
    {
     "cell_type": "heading",
     "level": 2,
     "metadata": {},
     "source": [
      "STEP 0: Define variables specific to this target"
     ]
    },
    {
     "cell_type": "code",
     "collapsed": false,
     "input": [
      "import os\n",
      "redux_dir = '/Volumes/Rugged2/GS-2013B-Q-73/SDSSJ005918.23+002519.7/test_notebook/reduxHK'\n",
      "os.chdir(redux_dir)\n",
      "\n",
      "logfile = \"HK005918.log\"\n",
      "database = \"HK005918_database/\"\n",
      "raw_data_path = \"../../../raw/\"\n",
      "flatroot = \"S20131026S\" ; flats = \"686\"\n",
      "flatdarkroot = \"S20131024S\" ; flatdarks = \"032-037\"\n",
      "arcroot = \"S20131026S\" ; arcs = \"685\"\n",
      "arcdarkroot = \"S20131026S\" ; arcdarks = \"797-803\"\n",
      "objroot = \"S20131026S\" ; objs = \"681-684\"\n",
      "objdarkroot = \"S20131026S\" ; objdarks = \"797-803\"\n",
      "telroot = \"S20131026S\" ; tels = \"699-702\"\n",
      "teldarkroot = \"S20131025S\" ; teldarks = \"401-406\"\n",
      "\n",
      "warc_lxorder=2 ; warc_lyorder=2  # used by nsfitcoords.  Correct orders are calculated in Step 8."
     ],
     "language": "python",
     "metadata": {},
     "outputs": [],
     "prompt_number": 2
    },
    {
     "cell_type": "heading",
     "level": 2,
     "metadata": {},
     "source": [
      "STEP 1: Initialize the required packages"
     ]
    },
    {
     "cell_type": "markdown",
     "metadata": {},
     "source": [
      "Launch ds9 before proceeding further."
     ]
    },
    {
     "cell_type": "markdown",
     "metadata": {},
     "source": [
      "Load the required packages"
     ]
    },
    {
     "cell_type": "code",
     "collapsed": false,
     "input": [
      "from pyraf import iraf\n",
      "iraf.gemini()\n",
      "iraf.f2()"
     ],
     "language": "python",
     "metadata": {},
     "outputs": [
      {
       "output_type": "stream",
       "stream": "stdout",
       "text": [
        "This is the initial release of the IRAF FITSUTIL package\n",
        "to include support for FITS tile compression via 'fpack'.\n",
        "Please send comments and questions to seaman@noao.edu.\n",
        "\n",
        " \n",
        "     +------------------- Gemini IRAF Package -------------------+\n",
        "     |              Version 1.13_comm, July 22, 2014             |\n",
        "     |             Requires IRAF v2.14.1 or greater              |\n",
        "     |                 Tested with IRAF v2.14.1                  |\n",
        "     |             Gemini Observatory, Hilo, Hawaii              |\n",
        "     |    Please use the help desk for submission of questions   |\n",
        "     |  http://www.gemini.edu/sciops/helpdesk/helpdeskIndex.html |\n",
        "     +-----------------------------------------------------------+\n",
        " \n",
        "     Warning setting imtype=fits\n",
        "     Warning setting use_new_imt=no\n",
        " \n",
        "gemini/:\n",
        " f2/            gmos/           midir/          oscir/\n",
        " flamingos/     gnirs/          nifs/           quirc/\n",
        " gemtools/      gsaoi/          niri/\n"
       ]
      },
      {
       "output_type": "stream",
       "stream": "stdout",
       "text": [
        "\n",
        "Loading the gnirs package:\n",
        "gnirs/:\n",
        " gnirsexamples  nfflt2pin       nsextract       nsreduce        nstransform\n",
        " gnirsinfo      nfquick         nsfitcoords     nsressky        nswavelength\n",
        " gnirsinfoifu   nsappwave       nsflat          nssdist         nswedit\n",
        " gnirsinfols    nscombine       nsheaders       nsslitfunction  nvnoise\n",
        " gnirsinfoxd    nscut           nsoffset        nsstack         nxdisplay\n",
        " nfcube         nsedge          nsprepare       nstelluric\n",
        "\n",
        "Loading the niri package:\n",
        "niri/:\n",
        " nifastsky      nireduce        niriinfo        nisky           nprepare\n",
        " niflat         niriexamples    nirotate        nisupersky      nresidual\n",
        "\n",
        "Loading the f2 package:\n",
        "f2/:\n",
        " f2cut          f2examples      f2infoimaging   f2infomos\n",
        " f2display      f2info          f2infols        f2prepare\n"
       ]
      }
     ],
     "prompt_number": 3
    },
    {
     "cell_type": "markdown",
     "metadata": {},
     "source": [
      "Reset tasks to the default parameters.  (Note: this doesn't seem to be working from the Python shell.)"
     ]
    },
    {
     "cell_type": "code",
     "collapsed": false,
     "input": [
      "iraf.unlearn(iraf.gemini, iraf.f2, iraf.gnirs, iraf.gemtools)"
     ],
     "language": "python",
     "metadata": {},
     "outputs": [],
     "prompt_number": 4
    },
    {
     "cell_type": "heading",
     "level": 2,
     "metadata": {},
     "source": [
      "STEP 2: Define various parameters and variables."
     ]
    },
    {
     "cell_type": "code",
     "collapsed": false,
     "input": [
      "iraf.f2.logfile = logfile\n",
      "iraf.f2.database = database\n",
      "rawdir = raw_data_path\n",
      "iraf.set(stdimage='imt2048')\n",
      "\n",
      "iraf.nsheaders('f2', logfile=iraf.f2.logfile)"
     ],
     "language": "python",
     "metadata": {},
     "outputs": [
      {
       "output_type": "stream",
       "stream": "stdout",
       "text": [
        "------------------------------------------------------------------------------\n"
       ]
      },
      {
       "output_type": "stream",
       "stream": "stdout",
       "text": [
        "NSHEADERS -- Wed Sep 24 16:35:29 HST 2014\n",
        "\n"
       ]
      },
      {
       "output_type": "stream",
       "stream": "stdout",
       "text": [
        "setting header keywords\n",
        "setting niflat.thresh_flo, niflat.thresh_fup, niflat.thresh_dlo,\n",
        "   and niflat.thresh_dup.\n",
        "setting niflat.statsec\n",
        "setting nifastsky.statsec\n",
        "setting nisky.statsec\n",
        "setting nireduce.statsec\n",
        "setting nsflat.statsec and fitsec\n",
        "setting nswavelength.coordlist, nswavelength.threshold, and\n",
        "   nswavelength.fl_median.\n",
        "setting the default logfile\n",
        "setting the default database\n"
       ]
      }
     ],
     "prompt_number": 5
    },
    {
     "cell_type": "markdown",
     "metadata": {},
     "source": [
      "*If necessary to start from scratch, delete the log file and the database.*"
     ]
    },
    {
     "cell_type": "code",
     "collapsed": false,
     "input": [
      "if (iraf.access(iraf.f2.logfile)):\n",
      "    iraf.delete(iraf.f2.logfile, verify='no')\n",
      "if (iraf.access(iraf.f2.database)):\n",
      "    iraf.delete(iraf.f2.database + '*', verify='no')"
     ],
     "language": "python",
     "metadata": {},
     "outputs": [],
     "prompt_number": 5
    },
    {
     "cell_type": "heading",
     "level": 2,
     "metadata": {},
     "source": [
      "STEP 3: Create the reduction lists"
     ]
    },
    {
     "cell_type": "code",
     "collapsed": false,
     "input": [
      "iraf.delete('flat.lis, flatdark.lis, arc.lis, arcdark.lis, obj.lis, objdark.lis, \\\n",
      "    tel.lis, teldark.lis', verify='no')\n",
      "\n",
      "iraf.gemlist(flatroot, flats, Stdout='flat.lis')\n",
      "iraf.gemlist(flatdarkroot, flatdarks, Stdout='flatdark.lis')\n",
      "iraf.gemlist(arcroot, arcs, Stdout='arc.lis')\n",
      "iraf.gemlist(arcdarkroot, arcdarks, Stdout='arcdark.lis')\n",
      "iraf.gemlist(objroot, objs, Stdout='obj.lis')\n",
      "iraf.gemlist(objdarkroot, objdarks, Stdout='objdark.lis')\n",
      "iraf.gemlist(telroot, tels, Stdout='tel.lis')\n",
      "iraf.gemlist(teldarkroot, teldarks, Stdout='teldark.lis')\n",
      "\n",
      "iraf.concat('flat.lis, flatdark.lis, arc.lis, arcdark.lis, obj.lis, objdark.lis, \\\n",
      "    tel.lis, teldark.lis', 'all.lis')\n",
      "\n",
      "# remove duplicates\n",
      "all_file = open('all.lis', 'r')\n",
      "all_lines = all_file.readlines()\n",
      "all_file.close()\n",
      "lines_seen = list()\n",
      "for line in all_lines:\n",
      "    if line not in lines_seen:\n",
      "        lines_seen.append(line)\n",
      "all_file = open('all.lis', 'w')\n",
      "all_file.writelines(lines_seen)\n",
      "all_file.close()\n"
     ],
     "language": "python",
     "metadata": {},
     "outputs": [],
     "prompt_number": 10
    },
    {
     "cell_type": "heading",
     "level": 2,
     "metadata": {},
     "source": [
      "STEP 4: Visually inspect the data"
     ]
    },
    {
     "cell_type": "code",
     "collapsed": false,
     "input": [
      "all_file = open('all.lis', 'r')\n",
      "for line in all_file:\n",
      "    image = line.strip() + '[1]'\n",
      "    iraf.display(rawdir + image, 1)\n",
      "    iraf.sleep(5)\n",
      "    \n",
      "all_file.close()"
     ],
     "language": "python",
     "metadata": {},
     "outputs": [
      {
       "output_type": "stream",
       "stream": "stdout",
       "text": [
        "z1=-82. z2=5432.226\n"
       ]
      },
      {
       "output_type": "stream",
       "stream": "stdout",
       "text": [
        "z1=-81. z2=146.0746\n"
       ]
      },
      {
       "output_type": "stream",
       "stream": "stdout",
       "text": [
        "z1=-82. z2=146.5406\n"
       ]
      },
      {
       "output_type": "stream",
       "stream": "stdout",
       "text": [
        "z1=-82.68744 z2=146.9173\n"
       ]
      },
      {
       "output_type": "stream",
       "stream": "stdout",
       "text": [
        "z1=-77.77986 z2=141.9998\n"
       ]
      },
      {
       "output_type": "stream",
       "stream": "stdout",
       "text": [
        "z1=-77.23055 z2=141.4494\n"
       ]
      },
      {
       "output_type": "stream",
       "stream": "stdout",
       "text": [
        "z1=-81. z2=147.7607\n"
       ]
      },
      {
       "output_type": "stream",
       "stream": "stdout",
       "text": [
        "z1=-121. z2=22169.46\n"
       ]
      },
      {
       "output_type": "stream",
       "stream": "stdout",
       "text": [
        "z1=-153. z2=226.8519\n"
       ]
      },
      {
       "output_type": "stream",
       "stream": "stdout",
       "text": [
        "z1=-111. z2=217.4274\n"
       ]
      },
      {
       "output_type": "stream",
       "stream": "stdout",
       "text": [
        "z1=-117. z2=241.1388\n"
       ]
      },
      {
       "output_type": "stream",
       "stream": "stdout",
       "text": [
        "z1=-126.4991 z2=236.8629\n"
       ]
      },
      {
       "output_type": "stream",
       "stream": "stdout",
       "text": [
        "z1=-109.9918 z2=228.3305\n"
       ]
      },
      {
       "output_type": "stream",
       "stream": "stdout",
       "text": [
        "z1=-102. z2=238.5819\n"
       ]
      },
      {
       "output_type": "stream",
       "stream": "stdout",
       "text": [
        "z1=-106. z2=233.2487\n"
       ]
      },
      {
       "output_type": "stream",
       "stream": "stdout",
       "text": [
        "z1=-181. z2=9762.494\n"
       ]
      },
      {
       "output_type": "stream",
       "stream": "stdout",
       "text": [
        "z1=-116. z2=9839.311\n"
       ]
      },
      {
       "output_type": "stream",
       "stream": "stdout",
       "text": [
        "z1=-117. z2=9970.715\n"
       ]
      },
      {
       "output_type": "stream",
       "stream": "stdout",
       "text": [
        "z1=-127. z2=10064.25\n"
       ]
      },
      {
       "output_type": "stream",
       "stream": "stdout",
       "text": [
        "z1=-87. z2=744.0093\n"
       ]
      },
      {
       "output_type": "stream",
       "stream": "stdout",
       "text": [
        "z1=-84. z2=810.8185\n"
       ]
      },
      {
       "output_type": "stream",
       "stream": "stdout",
       "text": [
        "z1=-82. z2=796.9437\n"
       ]
      },
      {
       "output_type": "stream",
       "stream": "stdout",
       "text": [
        "z1=-76. z2=758.7146\n"
       ]
      },
      {
       "output_type": "stream",
       "stream": "stdout",
       "text": [
        "z1=-78.38551 z2=142.6067\n"
       ]
      },
      {
       "output_type": "stream",
       "stream": "stdout",
       "text": [
        "z1=-84.42091 z2=148.6542\n"
       ]
      },
      {
       "output_type": "stream",
       "stream": "stdout",
       "text": [
        "z1=-77. z2=145.9922\n"
       ]
      },
      {
       "output_type": "stream",
       "stream": "stdout",
       "text": [
        "z1=-77.6534 z2=139.8711\n"
       ]
      },
      {
       "output_type": "stream",
       "stream": "stdout",
       "text": [
        "z1=-81.09863 z2=147.3273\n"
       ]
      },
      {
       "output_type": "stream",
       "stream": "stdout",
       "text": [
        "z1=-78. z2=146.8848\n"
       ]
      }
     ],
     "prompt_number": 15
    },
    {
     "cell_type": "heading",
     "level": 2,
     "metadata": {},
     "source": [
      "STEP 5: f2prepare all the data"
     ]
    },
    {
     "cell_type": "code",
     "collapsed": false,
     "input": [
      "iraf.imdelete('f@all.lis', verify='no')\n",
      "iraf.f2prepare('@all.lis', rawpath=rawdir, fl_vardq='yes', fl_correct='yes', \\\n",
      "               fl_saturated='yes', fl_nonlinear='yes')"
     ],
     "language": "python",
     "metadata": {},
     "outputs": [
      {
       "output_type": "stream",
       "stream": "stdout",
       "text": [
        "----------------------------------------------------------------------------\n",
        "F2PREPARE -- Wed Sep 24 14:26:13 HST 2014\n",
        " \n",
        "\n"
       ]
      },
      {
       "output_type": "stream",
       "stream": "stdout",
       "text": [
        "Processing 29 files\n"
       ]
      },
      {
       "output_type": "stream",
       "stream": "stdout",
       "text": [
        "WARNING - F2PREPARE: Bad pixel mask is either an empty string or contains\n",
        "                     spaces. Not using BPM to generate data quality plane.\n",
        " \n",
        "  n      input file -->      output file\n",
        "                 filter     focal plane       input BPM   RON  gain     sat\n",
        " \n"
       ]
      },
      {
       "output_type": "stream",
       "stream": "stdout",
       "text": [
        "  1 ../../../raw/S20131026S0686 -->  fS20131026S0686 \n",
        "                     HK       2pix-slit            none  11.7   4.4   35000 \n"
       ]
      },
      {
       "output_type": "stream",
       "stream": "stdout",
       "text": [
        "  2 ../../../raw/S20131024S0032 -->  fS20131024S0032 \n",
        "                   Dark      2-pix_grid            none  11.7   4.4   35000 \n"
       ]
      },
      {
       "output_type": "stream",
       "stream": "stdout",
       "text": [
        "  3 ../../../raw/S20131024S0033 -->  fS20131024S0033 \n",
        "                   Dark      2-pix_grid            none  11.7   4.4   35000 \n"
       ]
      },
      {
       "output_type": "stream",
       "stream": "stdout",
       "text": [
        "  4 ../../../raw/S20131024S0034 -->  fS20131024S0034 \n",
        "                   Dark      2-pix_grid            none  11.7   4.4   35000 \n"
       ]
      },
      {
       "output_type": "stream",
       "stream": "stdout",
       "text": [
        "  5 ../../../raw/S20131024S0035 -->  fS20131024S0035 \n",
        "                   Dark      2-pix_grid            none  11.7   4.4   35000 \n"
       ]
      },
      {
       "output_type": "stream",
       "stream": "stdout",
       "text": [
        "  6 ../../../raw/S20131024S0036 -->  fS20131024S0036 \n",
        "                   Dark      2-pix_grid            none  11.7   4.4   35000 \n"
       ]
      },
      {
       "output_type": "stream",
       "stream": "stdout",
       "text": [
        "  7 ../../../raw/S20131024S0037 -->  fS20131024S0037 \n",
        "                   Dark      2-pix_grid            none  11.7   4.4   35000 \n",
        "Dividing ../../../raw/S20131026S0685 by number of non-destructive reads: 8"
       ]
      },
      {
       "output_type": "stream",
       "stream": "stdout",
       "text": [
        "\n"
       ]
      },
      {
       "output_type": "stream",
       "stream": "stdout",
       "text": [
        "  8 ../../../raw/S20131026S0685 -->  fS20131026S0685 \n",
        "                     HK       2pix-slit            none   5.0   4.4   35000 \n",
        "Dividing ../../../raw/S20131026S0797 by number of non-destructive reads: 8"
       ]
      },
      {
       "output_type": "stream",
       "stream": "stdout",
       "text": [
        "\n"
       ]
      },
      {
       "output_type": "stream",
       "stream": "stdout",
       "text": [
        "  9 ../../../raw/S20131026S0797 -->  fS20131026S0797 \n",
        "                   Dark      2-pix_grid            none   5.0   4.4   35000 \n",
        "Dividing ../../../raw/S20131026S0798 by number of non-destructive reads: 8"
       ]
      },
      {
       "output_type": "stream",
       "stream": "stdout",
       "text": [
        "\n"
       ]
      },
      {
       "output_type": "stream",
       "stream": "stdout",
       "text": [
        " 10 ../../../raw/S20131026S0798 -->  fS20131026S0798 \n",
        "                   Dark      2-pix_grid            none   5.0   4.4   35000 \n",
        "Dividing ../../../raw/S20131026S0799 by number of non-destructive reads: 8"
       ]
      },
      {
       "output_type": "stream",
       "stream": "stdout",
       "text": [
        "\n"
       ]
      },
      {
       "output_type": "stream",
       "stream": "stdout",
       "text": [
        " 11 ../../../raw/S20131026S0799 -->  fS20131026S0799 \n",
        "                   Dark      2-pix_grid            none   5.0   4.4   35000 \n",
        "Dividing ../../../raw/S20131026S0800 by number of non-destructive reads: 8"
       ]
      },
      {
       "output_type": "stream",
       "stream": "stdout",
       "text": [
        "\n"
       ]
      },
      {
       "output_type": "stream",
       "stream": "stdout",
       "text": [
        " 12 ../../../raw/S20131026S0800 -->  fS20131026S0800 \n",
        "                   Dark      2-pix_grid            none   5.0   4.4   35000 \n",
        "Dividing ../../../raw/S20131026S0801 by number of non-destructive reads: 8"
       ]
      },
      {
       "output_type": "stream",
       "stream": "stdout",
       "text": [
        "\n"
       ]
      },
      {
       "output_type": "stream",
       "stream": "stdout",
       "text": [
        " 13 ../../../raw/S20131026S0801 -->  fS20131026S0801 \n",
        "                   Dark      2-pix_grid            none   5.0   4.4   35000 \n",
        "Dividing ../../../raw/S20131026S0802 by number of non-destructive reads: 8"
       ]
      },
      {
       "output_type": "stream",
       "stream": "stdout",
       "text": [
        "\n"
       ]
      },
      {
       "output_type": "stream",
       "stream": "stdout",
       "text": [
        " 14 ../../../raw/S20131026S0802 -->  fS20131026S0802 \n",
        "                   Dark      2-pix_grid            none   5.0   4.4   35000 \n",
        "Dividing ../../../raw/S20131026S0803 by number of non-destructive reads: 8"
       ]
      },
      {
       "output_type": "stream",
       "stream": "stdout",
       "text": [
        "\n"
       ]
      },
      {
       "output_type": "stream",
       "stream": "stdout",
       "text": [
        " 15 ../../../raw/S20131026S0803 -->  fS20131026S0803 \n",
        "                   Dark      2-pix_grid            none   5.0   4.4   35000 \n",
        "Dividing ../../../raw/S20131026S0681 by number of non-destructive reads: 8"
       ]
      },
      {
       "output_type": "stream",
       "stream": "stdout",
       "text": [
        "\n"
       ]
      },
      {
       "output_type": "stream",
       "stream": "stdout",
       "text": [
        " 16 ../../../raw/S20131026S0681 -->  fS20131026S0681 \n",
        "                     HK       2pix-slit            none   5.0   4.4   35000 \n",
        "Dividing ../../../raw/S20131026S0682 by number of non-destructive reads: 8"
       ]
      },
      {
       "output_type": "stream",
       "stream": "stdout",
       "text": [
        "\n"
       ]
      },
      {
       "output_type": "stream",
       "stream": "stdout",
       "text": [
        " 17 ../../../raw/S20131026S0682 -->  fS20131026S0682 \n",
        "                     HK       2pix-slit            none   5.0   4.4   35000 \n",
        "Dividing ../../../raw/S20131026S0683 by number of non-destructive reads: 8"
       ]
      },
      {
       "output_type": "stream",
       "stream": "stdout",
       "text": [
        "\n"
       ]
      },
      {
       "output_type": "stream",
       "stream": "stdout",
       "text": [
        " 18 ../../../raw/S20131026S0683 -->  fS20131026S0683 \n",
        "                     HK       2pix-slit            none   5.0   4.4   35000 \n",
        "Dividing ../../../raw/S20131026S0684 by number of non-destructive reads: 8"
       ]
      },
      {
       "output_type": "stream",
       "stream": "stdout",
       "text": [
        "\n"
       ]
      },
      {
       "output_type": "stream",
       "stream": "stdout",
       "text": [
        " 19 ../../../raw/S20131026S0684 -->  fS20131026S0684 \n",
        "                     HK       2pix-slit            none   5.0   4.4   35000 \n"
       ]
      },
      {
       "output_type": "stream",
       "stream": "stdout",
       "text": [
        " 20 ../../../raw/S20131026S0699 -->  fS20131026S0699 \n",
        "                     HK       2pix-slit            none  11.7   4.4   35000 \n"
       ]
      },
      {
       "output_type": "stream",
       "stream": "stdout",
       "text": [
        " 21 ../../../raw/S20131026S0700 -->  fS20131026S0700 \n",
        "                     HK       2pix-slit            none  11.7   4.4   35000 \n"
       ]
      },
      {
       "output_type": "stream",
       "stream": "stdout",
       "text": [
        " 22 ../../../raw/S20131026S0701 -->  fS20131026S0701 \n",
        "                     HK       2pix-slit            none  11.7   4.4   35000 \n"
       ]
      },
      {
       "output_type": "stream",
       "stream": "stdout",
       "text": [
        " 23 ../../../raw/S20131026S0702 -->  fS20131026S0702 \n",
        "                     HK       2pix-slit            none  11.7   4.4   35000 \n"
       ]
      },
      {
       "output_type": "stream",
       "stream": "stdout",
       "text": [
        " 24 ../../../raw/S20131025S0401 -->  fS20131025S0401 \n",
        "                   Dark      2-pix_grid            none  11.7   4.4   35000 \n"
       ]
      },
      {
       "output_type": "stream",
       "stream": "stdout",
       "text": [
        " 25 ../../../raw/S20131025S0402 -->  fS20131025S0402 \n",
        "                   Dark      2-pix_grid            none  11.7   4.4   35000 \n"
       ]
      },
      {
       "output_type": "stream",
       "stream": "stdout",
       "text": [
        " 26 ../../../raw/S20131025S0403 -->  fS20131025S0403 \n",
        "                   Dark      2-pix_grid            none  11.7   4.4   35000 \n"
       ]
      },
      {
       "output_type": "stream",
       "stream": "stdout",
       "text": [
        " 27 ../../../raw/S20131025S0404 -->  fS20131025S0404 \n",
        "                   Dark      2-pix_grid            none  11.7   4.4   35000 \n"
       ]
      },
      {
       "output_type": "stream",
       "stream": "stdout",
       "text": [
        " 28 ../../../raw/S20131025S0405 -->  fS20131025S0405 \n",
        "                   Dark      2-pix_grid            none  11.7   4.4   35000 \n"
       ]
      },
      {
       "output_type": "stream",
       "stream": "stdout",
       "text": [
        " 29 ../../../raw/S20131025S0406 -->  fS20131025S0406 \n",
        "                   Dark      2-pix_grid            none  11.7   4.4   35000 \n",
        " \n",
        "F2PREPARE exit status: good.\n",
        "----------------------------------------------------------------------------\n"
       ]
      }
     ],
     "prompt_number": 16
    },
    {
     "cell_type": "heading",
     "level": 2,
     "metadata": {},
     "source": [
      "STEP 6:  Create the necessary dark frames"
     ]
    },
    {
     "cell_type": "code",
     "collapsed": false,
     "input": [
      "iraf.delete('fflatdark.lis', verify='no')\n",
      "iraf.imdelete('flatdark.fits', verify='no')\n",
      "iraf.sections('f@flatdark.lis', Stdout='fflatdark.lis')\n",
      "iraf.gemcombine('@fflatdark.lis', 'flatdark.fits', combine='average', \\\n",
      "    fl_vardq='yes', logfile=iraf.f2.logfile)\n",
      "\n",
      "iraf.delete('farcdark.lis', verify='no')\n",
      "iraf.imdelete('arcdark.fits', verify='no')\n",
      "iraf.sections('f@arcdark.lis', Stdout='farcdark.lis')\n",
      "iraf.gemcombine('@farcdark.lis', 'arcdark.fits', combine='average', \\\n",
      "    fl_vardq='yes', logfile=iraf.f2.logfile)\n",
      "\n",
      "iraf.delete('fobjdark.lis', verify='no')\n",
      "iraf.imdelete('objdark.fits', verify='no')\n",
      "iraf.sections('f@objdark.lis', Stdout='fobjdark.lis')\n",
      "iraf.gemcombine('@fobjdark.lis', 'objdark.fits', combine='average', \\\n",
      "    fl_vardq='yes', logfile=iraf.f2.logfile)\n",
      "\n",
      "iraf.delete('fteldark.lis', verify='no')\n",
      "iraf.imdelete('teldark.fits', verify='no')\n",
      "iraf.sections('f@teldark.lis', Stdout='fteldark.lis')\n",
      "iraf.gemcombine('@fteldark.lis', 'teldark.fits', combine='average', \\\n",
      "    fl_vardq='yes', logfile=iraf.f2.logfile)\n"
     ],
     "language": "python",
     "metadata": {},
     "outputs": [
      {
       "output_type": "stream",
       "stream": "stdout",
       "text": [
        "--------------------------------------------------------------------------------\n",
        "GEMCOMBINE -- Wed Sep 24 14:53:57 HST 2014"
       ]
      },
      {
       "output_type": "stream",
       "stream": "stdout",
       "text": [
        "\n",
        " \n",
        "GEMCOMBINE: input = @fflatdark.lis\n",
        "GEMCOMBINE: output = flatdark.fits\n",
        "GEMCOMBINE: title = \n",
        "GEMCOMBINE: bpmfile = \n",
        "GEMCOMBINE: sci_ext = SCI\n",
        "GEMCOMBINE: var_ext = VAR\n",
        "GEMCOMBINE: dq_ext = DQ\n",
        " \n"
       ]
      },
      {
       "output_type": "stream",
       "stream": "stdout",
       "text": [
        "\n",
        "Sep 24 14:54: IMCOMBINE\n",
        "  combine = average, scale = none, zero = none, weight = none\n",
        "  reject = avsigclip, mclip = yes, nkeep = 1\n",
        "  lsigma = 3., hsigma = 3.\n",
        "  blank = 0.\n",
        "  statsec = Sep 24 14:54\n",
        "                Images \n",
        "  fS20131024S0032.fits[SCI]\n",
        "  fS20131024S0033.fits[SCI]\n",
        "  fS20131024S0034.fits[SCI]\n",
        "  fS20131024S0035.fits[SCI]\n",
        "  fS20131024S0036.fits[SCI]\n",
        "  fS20131024S0037.fits[SCI]\n",
        "\n",
        "  Output image = tmpcombout59304_325, ncombine = 6\n",
        "  Number rejected mask = tmpcombdq59304_326.pl\n",
        "  Sigma image = tmpcombsig59304_327\n"
       ]
      },
      {
       "output_type": "stream",
       "stream": "stdout",
       "text": [
        " \n",
        "GEMCOMBINE -- Finished: Wed Sep 24 14:54:09 HST 2014\n",
        " \n",
        "GEMCOMBINE -- Exit status: GOOD\n",
        "--------------------------------------------------------------------------------\n"
       ]
      },
      {
       "output_type": "stream",
       "stream": "stderr",
       "text": [
        "Warning: Cannot delete file (farcdark.lis)\n"
       ]
      },
      {
       "output_type": "stream",
       "stream": "stdout",
       "text": [
        "--------------------------------------------------------------------------------\n",
        "GEMCOMBINE -- Wed Sep 24 14:54:09 HST 2014\n",
        " \n",
        "GEMCOMBINE: input = @farcdark.lis\n",
        "GEMCOMBINE: output = arcdark.fits\n",
        "GEMCOMBINE: title = \n",
        "GEMCOMBINE: bpmfile = \n",
        "GEMCOMBINE: sci_ext = SCI\n",
        "GEMCOMBINE: var_ext = VAR\n",
        "GEMCOMBINE: dq_ext = DQ\n",
        " \n"
       ]
      },
      {
       "output_type": "stream",
       "stream": "stdout",
       "text": [
        "\n",
        "Sep 24 14:54: IMCOMBINE\n",
        "  combine = average, scale = none, zero = none, weight = none\n",
        "  reject = avsigclip, mclip = yes, nkeep = 1\n",
        "  lsigma = 3., hsigma = 3.\n",
        "  blank = 0.\n",
        "  statsec = Sep 24 14:54\n",
        "                Images \n",
        "  fS20131026S0797.fits[SCI]\n",
        "  fS20131026S0798.fits[SCI]\n",
        "  fS20131026S0799.fits[SCI]\n",
        "  fS20131026S0800.fits[SCI]\n",
        "  fS20131026S0801.fits[SCI]\n",
        "  fS20131026S0802.fits[SCI]\n",
        "  fS20131026S0803.fits[SCI]\n",
        "\n",
        "  Output image = tmpcombout59304_345, ncombine = 7\n",
        "  Number rejected mask = tmpcombdq59304_346.pl\n",
        "  Sigma image = tmpcombsig59304_347\n"
       ]
      },
      {
       "output_type": "stream",
       "stream": "stdout",
       "text": [
        " \n",
        "GEMCOMBINE -- Finished: Wed Sep 24 14:54:24 HST 2014\n",
        " \n",
        "GEMCOMBINE -- Exit status: GOOD\n",
        "--------------------------------------------------------------------------------\n"
       ]
      },
      {
       "output_type": "stream",
       "stream": "stderr",
       "text": [
        "Warning: Cannot delete file (fobjdark.lis)\n"
       ]
      },
      {
       "output_type": "stream",
       "stream": "stdout",
       "text": [
        "--------------------------------------------------------------------------------\n",
        "GEMCOMBINE -- Wed Sep 24 14:54:25 HST 2014\n",
        " \n",
        "GEMCOMBINE: input = @fobjdark.lis\n",
        "GEMCOMBINE: output = objdark.fits\n",
        "GEMCOMBINE: title = \n",
        "GEMCOMBINE: bpmfile = \n",
        "GEMCOMBINE: sci_ext = SCI\n",
        "GEMCOMBINE: var_ext = VAR\n",
        "GEMCOMBINE: dq_ext = DQ\n",
        " \n"
       ]
      },
      {
       "output_type": "stream",
       "stream": "stdout",
       "text": [
        "\n",
        "Sep 24 14:54: IMCOMBINE\n",
        "  combine = average, scale = none, zero = none, weight = none\n",
        "  reject = avsigclip, mclip = yes, nkeep = 1\n",
        "  lsigma = 3., hsigma = 3.\n",
        "  blank = 0.\n",
        "  statsec = Sep 24 14:54\n",
        "                Images \n",
        "  fS20131026S0797.fits[SCI]\n",
        "  fS20131026S0798.fits[SCI]\n",
        "  fS20131026S0799.fits[SCI]\n",
        "  fS20131026S0800.fits[SCI]\n",
        "  fS20131026S0801.fits[SCI]\n",
        "  fS20131026S0802.fits[SCI]\n",
        "  fS20131026S0803.fits[SCI]\n",
        "\n",
        "  Output image = tmpcombout59304_365, ncombine = 7\n",
        "  Number rejected mask = tmpcombdq59304_366.pl\n",
        "  Sigma image = tmpcombsig59304_367\n"
       ]
      },
      {
       "output_type": "stream",
       "stream": "stdout",
       "text": [
        " \n",
        "GEMCOMBINE -- Finished: Wed Sep 24 14:54:34 HST 2014\n",
        " \n",
        "GEMCOMBINE -- Exit status: GOOD\n",
        "--------------------------------------------------------------------------------\n"
       ]
      },
      {
       "output_type": "stream",
       "stream": "stderr",
       "text": [
        "Warning: Cannot delete file (fteldark.lis)\n"
       ]
      },
      {
       "output_type": "stream",
       "stream": "stdout",
       "text": [
        "--------------------------------------------------------------------------------\n",
        "GEMCOMBINE -- Wed Sep 24 14:54:34 HST 2014\n",
        " \n",
        "GEMCOMBINE: input = @fteldark.lis\n",
        "GEMCOMBINE: output = teldark.fits\n",
        "GEMCOMBINE: title = \n",
        "GEMCOMBINE: bpmfile = \n",
        "GEMCOMBINE: sci_ext = SCI\n",
        "GEMCOMBINE: var_ext = VAR\n",
        "GEMCOMBINE: dq_ext = DQ\n",
        " \n"
       ]
      },
      {
       "output_type": "stream",
       "stream": "stdout",
       "text": [
        "\n",
        "Sep 24 14:54: IMCOMBINE\n",
        "  combine = average, scale = none, zero = none, weight = none\n",
        "  reject = avsigclip, mclip = yes, nkeep = 1\n",
        "  lsigma = 3., hsigma = 3.\n",
        "  blank = 0.\n",
        "  statsec = Sep 24 14:54\n",
        "                Images \n",
        "  fS20131025S0401.fits[SCI]\n",
        "  fS20131025S0402.fits[SCI]\n",
        "  fS20131025S0403.fits[SCI]\n",
        "  fS20131025S0404.fits[SCI]\n",
        "  fS20131025S0405.fits[SCI]\n",
        "  fS20131025S0406.fits[SCI]\n",
        "\n",
        "  Output image = tmpcombout59304_385, ncombine = 6\n",
        "  Number rejected mask = tmpcombdq59304_386.pl\n",
        "  Sigma image = tmpcombsig59304_387\n"
       ]
      },
      {
       "output_type": "stream",
       "stream": "stdout",
       "text": [
        " \n",
        "GEMCOMBINE -- Finished: Wed Sep 24 14:54:50 HST 2014\n",
        " \n",
        "GEMCOMBINE -- Exit status: GOOD\n",
        "--------------------------------------------------------------------------------\n"
       ]
      }
     ],
     "prompt_number": 18
    },
    {
     "cell_type": "heading",
     "level": 2,
     "metadata": {},
     "source": [
      "STEP 7:  Create the normalized flat field and BPM."
     ]
    },
    {
     "cell_type": "code",
     "collapsed": false,
     "input": [
      "# Subtract the dark from the flat images prior to cutting.\n",
      "\n",
      "iraf.imdelete ('df@flat.lis', verify='no')\n",
      "\n",
      "file = open('flat.lis', 'r')\n",
      "for line in file:\n",
      "\timage = line.strip()\n",
      "\tiraf.gemarith ('f' + image, '-', 'flatdark.fits', 'df' + image, \\\n",
      "\t\tfl_vardq='yes', logfile=iraf.f2.logfile)\n",
      "\n",
      "file.close()\n",
      "\n",
      "iraf.imdelete ('cdf@flat.lis', verify='no')\n",
      "iraf.f2cut ('df@flat.lis')\n",
      "\n",
      "# Construct the normalised flat field. The flats are derived from images taken \n",
      "# with the calibration unit (GCAL) shutter open (\"lamps-on\"). It is recommended\n",
      "# to run nsflat interactively.\n",
      "\n",
      "iraf.imdelete ('flat.fits,f2_ls_bpm.pl', verify='no')\n",
      "iraf.nsflat ('cdf@flat.lis', flatfile='flat.fits', bpmfile='f2_ls_bpm.pl', \\\n",
      "    thr_flo=0.35, thr_fup=3.0, fl_inter='yes', order=120)\n"
     ],
     "language": "python",
     "metadata": {},
     "outputs": [
      {
       "output_type": "stream",
       "stream": "stdout",
       "text": [
        "GEMARITH begin (this task relies on gemexpr)\n"
       ]
      },
      {
       "output_type": "stream",
       "stream": "stdout",
       "text": [
        "GEMARITH PHU copy: fS20131026S0686[0] --> dfS20131026S0686[0,APPEND])\n"
       ]
      },
      {
       "output_type": "stream",
       "stream": "stdout",
       "text": [
        "GEMARITH No MDF present in source\n"
       ]
      },
      {
       "output_type": "stream",
       "stream": "stdout",
       "text": [
        "GEMARITH gemarith: done\n"
       ]
      },
      {
       "output_type": "stream",
       "stream": "stdout",
       "text": [
        "----------------------------------------------------------------------------\n",
        "F2CUT -- Wed Sep 24 14:59:23 HST 2014\n",
        " \n",
        "\n",
        "Pixel scale: 0.1797"
       ]
      },
      {
       "output_type": "stream",
       "stream": "stdout",
       "text": [
        "\n",
        "Grism: HK_G5802\n",
        "Filter: HK\n",
        "\n",
        "dfS20131026S0686 --> cdfS20131026S0686"
       ]
      },
      {
       "output_type": "stream",
       "stream": "stdout",
       "text": [
        "\n",
        " [SCI,1][57:1490,200:1797] --> [SCI,1]\n"
       ]
      },
      {
       "output_type": "stream",
       "stream": "stdout",
       "text": [
        " \n",
        "F2CUT exit status: good.\n",
        "----------------------------------------------------------------------------\n",
        "-------------------------------------------------------------------------------\n",
        "NSFLAT -- Wed Sep 24 14:59:27 HST 2014"
       ]
      },
      {
       "output_type": "stream",
       "stream": "stdout",
       "text": [
        "\n",
        " \n",
        "WARNING - NSFLAT: No darks supplied.\n",
        "lampson = cdf@flat.lis\n",
        "fitting function = spline3\n",
        "fit order = 120\n",
        "fitting section = [*,*]\n",
        "Normalization statistic = midpt\n",
        "Statistics region = [*,*]\n",
        "flatfile = flat"
       ]
      },
      {
       "output_type": "stream",
       "stream": "stdout",
       "text": [
        "\n",
        "bpmfile = f2_ls_bpm.pl\n"
       ]
      },
      {
       "output_type": "stream",
       "stream": "stdout",
       "text": [
        "WARNING - NSFLAT: only one input image (flats).\n"
       ]
      },
      {
       "output_type": "stream",
       "stream": "stdout",
       "text": [
        "NSFLAT: process type: fit\n",
        "\n",
        "Common Interactive Commands:\n"
       ]
      },
      {
       "output_type": "stream",
       "stream": "stdout",
       "text": [
        "   'd'  -  Delete point nearest to cursor\n"
       ]
      },
      {
       "output_type": "stream",
       "stream": "stdout",
       "text": [
        "   'f'  -  Fit data and redraw\n"
       ]
      },
      {
       "output_type": "stream",
       "stream": "stdout",
       "text": [
        "   'q'  -  Exit the interactive curve fitting\n"
       ]
      },
      {
       "output_type": "stream",
       "stream": "stdout",
       "text": [
        "\n"
       ]
      },
      {
       "output_type": "stream",
       "stream": "stdout",
       "text": [
        "   '?'  -  Print complete list of options\n",
        "\n"
       ]
      },
      {
       "output_type": "stream",
       "stream": "stdout",
       "text": [
        "\n",
        " Extn            Stats.        Lamps         Darks         Flat\n",
        " no.             section     Mean   S/N    Mean   S/N    Mean   S/N\n",
        "   1                [*,*]  1152.3  70.6                 0.99  33.5  "
       ]
      },
      {
       "output_type": "stream",
       "stream": "stdout",
       "text": [
        "\n"
       ]
      },
      {
       "output_type": "stream",
       "stream": "stdout",
       "text": [
        " \n",
        "NSFLAT exit status: good.\n",
        "-------------------------------------------------------------------------------\n"
       ]
      }
     ],
     "prompt_number": 19
    },
    {
     "cell_type": "heading",
     "level": 2,
     "metadata": {},
     "source": [
      "STEP 8:  Reduce the arc and determine the wavelength solution"
     ]
    },
    {
     "cell_type": "markdown",
     "metadata": {},
     "source": [
      "The wavelength solution will also be derived from the sky lines in the science target and from sky lines in the telluric assuming that the exposure time of the latter is long enough to expose the sky lines.\n",
      "\n",
      "It has been found that the optics can move between the science observation and the telluric observation.  Using the sky lines when possible ensures that the wavelength solution doesn't vary due to optical path variation.\n",
      "\n",
      "Nevertheless, we will reduce the arc and calculate the wavelength solution from it in case we need it later.  The wavelength solution step really should be done in interactive mode as it is not uncommon to have to reject lines and/or adjust the matches with the line list."
     ]
    },
    {
     "cell_type": "heading",
     "level": 3,
     "metadata": {},
     "source": [
      "Reduce the arc"
     ]
    },
    {
     "cell_type": "code",
     "collapsed": false,
     "input": [
      "# Subtract the dark from the arc images prior to cutting and flat dividing.\n",
      "\n",
      "iraf.imdelete('df@arc.lis', verify='no')\n",
      "iraf.nsreduce('f@arc.lis', outprefix='d', fl_cut='no', fl_process_cut='no', \\\n",
      "    fl_dark='yes', darkimage='arcdark.fits', fl_sky='no', fl_flat='no')\n",
      "\n",
      "# Cut the arc images and divide by the normalised flat field image.\n",
      "\n",
      "iraf.imdelete('rdf@arc.lis', verify='no')\n",
      "iraf.nsreduce('df@arc.lis', fl_cut='yes', fl_dark='no', fl_sky='no', fl_flat='yes', \\\n",
      "    flatimage='flat.fits')\n",
      "\n",
      "# Combine the arc files (if there is more than one arc file)\n",
      "\n",
      "iraf.imdelete('arc.fits', verify='no')\n",
      "iraf.delete('rdfarc.lis', verify='no')\n",
      "iraf.sections('rdf@arc.lis//.fits', Stdout='rdfarc.lis')\n",
      "\n",
      "count = 0\n",
      "file = open('arc.lis', 'r')\n",
      "for line in file:\n",
      "\tcount += 1\n",
      "\n",
      "if count == 1:\n",
      "\tiraf.copy ('@rdfarc.lis', 'arc.fits')\n",
      "else:\n",
      "\tiraf.gemcombine ('@rdfarc.lis', 'arc.fits', fl_vardq='yes')\n",
      "\n",
      "file.close()\n"
     ],
     "language": "python",
     "metadata": {},
     "outputs": [
      {
       "output_type": "stream",
       "stream": "stdout",
       "text": [
        "-------------------------------------------------------------------------------\n",
        "NSREDUCE -- Wed Sep 24 15:15:27 HST 2014\n",
        " \n",
        "NSREDUCE: Processing 1 extension(s) from 1 file(s)."
       ]
      },
      {
       "output_type": "stream",
       "stream": "stdout",
       "text": [
        "\n"
       ]
      },
      {
       "output_type": "stream",
       "stream": "stdout",
       "text": [
        "NSREDUCE: slit: 2pix-slit\n",
        "NSREDUCE: filter: HK\n",
        "\n",
        "   n input                   --> output                  sky image\n",
        " dark                    flat                    scale\n",
        "\n",
        "   1 fS20131026S0685         --> dfS20131026S0685        none                   \n",
        " arcdark                 none                    1.0000 \n"
       ]
      },
      {
       "output_type": "stream",
       "stream": "stdout",
       "text": [
        " \n",
        "NSREDUCE exit status: good.\n",
        "------------------------------------------------------------------------------\n",
        "-------------------------------------------------------------------------------"
       ]
      },
      {
       "output_type": "stream",
       "stream": "stdout",
       "text": [
        "\n",
        "NSREDUCE -- Wed Sep 24 15:15:32 HST 2014\n",
        " \n",
        "----------------------------------------------------------------------------"
       ]
      },
      {
       "output_type": "stream",
       "stream": "stdout",
       "text": [
        "\n",
        "F2CUT -- Wed Sep 24 15:15:32 HST 2014\n",
        " \n",
        "\n",
        "Pixel scale: 0.1797"
       ]
      },
      {
       "output_type": "stream",
       "stream": "stdout",
       "text": [
        "\n",
        "Grism: HK_G5802\n",
        "Filter: HK\n",
        "\n",
        "dfS20131026S0685 --> dfS20131026S0685-59304_489"
       ]
      },
      {
       "output_type": "stream",
       "stream": "stdout",
       "text": [
        "\n",
        " [SCI,1][57:1490,200:1797] --> [SCI,1]\n"
       ]
      },
      {
       "output_type": "stream",
       "stream": "stdout",
       "text": [
        " \n",
        "F2CUT exit status: good.\n",
        "----------------------------------------------------------------------------\n",
        "------------------------------------------------------------------------------\n",
        "NSAPPWAVE -- Wed Sep 24 15:15:34 HST 2014\n",
        " \n"
       ]
      },
      {
       "output_type": "stream",
       "stream": "stdout",
       "text": [
        "NSAPPWAVE: Processing 1 extension(s) from 1 file(s).\n",
        "  Camera     Grating    Filter     Prism      FPMask     Wave   Delta Order Axis\n",
        "dfS20131026S0685-59304_489 -> dfS20131026S0685-59304_490 ( 1)"
       ]
      },
      {
       "output_type": "stream",
       "stream": "stdout",
       "text": [
        "\n",
        "  f/16_G5830   HK_G5802         HK             2pix-slit 18710.00 -7.83 INDEF 2\n"
       ]
      },
      {
       "output_type": "stream",
       "stream": "stdout",
       "text": [
        "NSAPPWAVE: cradius not from table for dfS20131026S0685-59304_489.\n",
        "           (further table messages supressed for this file).\n",
        "  extension  1: 18710.000000 -7.826000 INDEF\n"
       ]
      },
      {
       "output_type": "stream",
       "stream": "stdout",
       "text": [
        "\n",
        "NSAPPWAVE Exit status good\n",
        "------------------------------------------------------------------------------\n",
        "NSREDUCE: Processing 1 extension(s) from 1 file(s).\n"
       ]
      },
      {
       "output_type": "stream",
       "stream": "stdout",
       "text": [
        "NSREDUCE: slit: 2pix-slit\n",
        "NSREDUCE: filter: HK\n",
        "\n",
        "   n input                   --> output                  sky image\n",
        " dark                    flat                    scale\n",
        "\n",
        "   1 dfS20131026S0685        --> rdfS20131026S0685       none                   \n",
        " none                    flat                    1.0000 \n"
       ]
      },
      {
       "output_type": "stream",
       "stream": "stdout",
       "text": [
        " \n",
        "NSREDUCE exit status: good.\n",
        "------------------------------------------------------------------------------\n"
       ]
      },
      {
       "output_type": "stream",
       "stream": "stderr",
       "text": [
        "Warning: Cannot delete file (rdfarc.lis)\n"
       ]
      }
     ],
     "prompt_number": 20
    },
    {
     "cell_type": "heading",
     "level": 3,
     "metadata": {},
     "source": [
      "Determine the wavelength solution from the arc"
     ]
    },
    {
     "cell_type": "code",
     "collapsed": false,
     "input": [
      "iraf.imdelete ('warc.fits', verify='no')\n",
      "iraf.nswavelength ('arc.fits', fl_inter='yes')"
     ],
     "language": "python",
     "metadata": {},
     "outputs": [
      {
       "output_type": "stream",
       "stream": "stdout",
       "text": [
        "-------------------------------------------------------------------------------\n",
        "NSWAVELENGTH -- Wed Sep 24 15:17:19 HST 2014\n"
       ]
      },
      {
       "output_type": "stream",
       "stream": "stdout",
       "text": [
        "\n",
        "NSWAVELENGTH: LS data detected. Calling nswhelper to process data."
       ]
      },
      {
       "output_type": "stream",
       "stream": "stdout",
       "text": [
        "\n",
        "-------------------------------------------------------------------------------\n",
        "NSWHELPER -- Wed Sep 24 15:17:19 HST 2014\n",
        "\n"
       ]
      },
      {
       "output_type": "stream",
       "stream": "stdout",
       "text": [
        "Using input files:\n",
        "arc\n"
       ]
      },
      {
       "output_type": "stream",
       "stream": "stdout",
       "text": [
        "Using output files:\n",
        "warc\n"
       ]
      },
      {
       "output_type": "stream",
       "stream": "stdout",
       "text": [
        "Lamp image: arc[SCI,1]\n",
        "\n"
       ]
      },
      {
       "output_type": "stream",
       "stream": "stdout",
       "text": [
        "AUTOIDENTIFY: NOAO/IRAF V2.16 klabrie@rana.local Wed 15:17:21 24-Sep-2014\n"
       ]
      },
      {
       "output_type": "stream",
       "stream": "stdout",
       "text": [
        "  Spectrum                 # Found   Midpoint Dispersion        RMS\n"
       ]
      },
      {
       "output_type": "stream",
       "stream": "stdout",
       "text": [
        "  warc[SCI,1][717,*]            49    18896.5      -7.55      0.758\n"
       ]
      },
      {
       "output_type": "stream",
       "stream": "stdout",
       "text": [
        "warc[SCI,1][717,*]: Examine identifications interactively?"
       ]
      },
      {
       "output_type": "stream",
       "stream": "stdout",
       "text": [
        "   1529.76  13370.346    13370.8 1000 NOAO\n"
       ]
      },
      {
       "output_type": "stream",
       "stream": "stdout",
       "text": [
        "   1583.50  12959.919    12960.2 500 NOAO\n"
       ]
      },
      {
       "output_type": "stream",
       "stream": "stdout",
       "text": [
        "Center not found: check cursor position\u0007"
       ]
      },
      {
       "output_type": "stream",
       "stream": "stdout",
       "text": [
        "window:"
       ]
      },
      {
       "output_type": "stream",
       "stream": "stdout",
       "text": [
        "again:"
       ]
      },
      {
       "output_type": "stream",
       "stream": "stdout",
       "text": [
        "   1583.50  12959.919    12960.2 500 NOAO\n"
       ]
      },
      {
       "output_type": "stream",
       "stream": "stdout",
       "text": [
        "window:"
       ]
      },
      {
       "output_type": "stream",
       "stream": "stdout",
       "text": [
        "   1583.50  12959.919    12960.2 500 NOAO\n"
       ]
      },
      {
       "output_type": "stream",
       "stream": "stdout",
       "text": [
        "window:"
       ]
      },
      {
       "output_type": "stream",
       "stream": "stdout",
       "text": [
        "again:"
       ]
      },
      {
       "output_type": "stream",
       "stream": "stdout",
       "text": [
        "   1583.50  12959.919    12960.2 500 NOAO\n"
       ]
      },
      {
       "output_type": "stream",
       "stream": "stdout",
       "text": [
        "window:"
       ]
      },
      {
       "output_type": "stream",
       "stream": "stdout",
       "text": [
        "   1583.50  12959.919    12960.2 500 NOAO\n"
       ]
      },
      {
       "output_type": "stream",
       "stream": "stdout",
       "text": [
        "window:"
       ]
      },
      {
       "output_type": "stream",
       "stream": "stdout",
       "text": [
        "again:"
       ]
      },
      {
       "output_type": "stream",
       "stream": "stdout",
       "text": [
        "   1583.50  12959.919    12960.2 500 NOAO\n"
       ]
      },
      {
       "output_type": "stream",
       "stream": "stdout",
       "text": [
        "    991.40   17448.48 (   17449.7 11 NOAO): "
       ]
      },
      {
       "output_type": "stream",
       "stream": "stdout",
       "text": [
        "    991.40   17448.48    17449.7 11 NOAO\n"
       ]
      },
      {
       "output_type": "stream",
       "stream": "stdout",
       "text": [
        "\u0007    991.40   17448.48    17449.7 11 NOAO\n"
       ]
      },
      {
       "output_type": "stream",
       "stream": "stdout",
       "text": [
        "window:"
       ]
      },
      {
       "output_type": "stream",
       "stream": "stdout",
       "text": [
        "    991.40   17448.48    17449.7 11 NOAO\n"
       ]
      },
      {
       "output_type": "stream",
       "stream": "stdout",
       "text": [
        "window:"
       ]
      },
      {
       "output_type": "stream",
       "stream": "stdout",
       "text": [
        "again:"
       ]
      },
      {
       "output_type": "stream",
       "stream": "stdout",
       "text": [
        "    991.40   17448.48    17449.7 11 NOAO\n"
       ]
      },
      {
       "output_type": "stream",
       "stream": "stdout",
       "text": [
        "    861.07  18431.663 (   18432.8 10 NOAO): "
       ]
      },
      {
       "output_type": "stream",
       "stream": "stdout",
       "text": [
        "    861.07  18431.663    18432.8 10 NOAO\n"
       ]
      },
      {
       "output_type": "stream",
       "stream": "stdout",
       "text": [
        "\u0007    861.07  18431.663    18432.8 10 NOAO\n"
       ]
      },
      {
       "output_type": "stream",
       "stream": "stdout",
       "text": [
        "window:"
       ]
      },
      {
       "output_type": "stream",
       "stream": "stdout",
       "text": [
        "    861.07  18431.663    18432.8 10 NOAO\n"
       ]
      },
      {
       "output_type": "stream",
       "stream": "stdout",
       "text": [
        "    861.07  18431.808    18432.8 10 NOAO\n"
       ]
      },
      {
       "output_type": "stream",
       "stream": "stdout",
       "text": [
        "    861.07  18431.776    18432.8 10 NOAO\n"
       ]
      },
      {
       "output_type": "stream",
       "stream": "stdout",
       "text": [
        "    861.07  18431.776    18432.8 10 NOAO\n"
       ]
      },
      {
       "output_type": "stream",
       "stream": "stdout",
       "text": [
        "window:"
       ]
      },
      {
       "output_type": "stream",
       "stream": "stdout",
       "text": [
        "again:"
       ]
      },
      {
       "output_type": "stream",
       "stream": "stdout",
       "text": [
        "    861.07  18431.776    18432.8 10 NOAO\n"
       ]
      },
      {
       "output_type": "stream",
       "stream": "stdout",
       "text": [
        "    240.85    23139.3 (  23139.51 412   KH): "
       ]
      },
      {
       "output_type": "stream",
       "stream": "stdout",
       "text": [
        "    240.85    23139.3   23139.51 412   KH\n"
       ]
      },
      {
       "output_type": "stream",
       "stream": "stdout",
       "text": [
        "\u0007    240.85    23139.3   23139.51 412   KH\n"
       ]
      },
      {
       "output_type": "stream",
       "stream": "stdout",
       "text": [
        "window:"
       ]
      },
      {
       "output_type": "stream",
       "stream": "stdout",
       "text": [
        "    240.85  23139.337   23139.51 412   KH\n"
       ]
      },
      {
       "output_type": "stream",
       "stream": "stdout",
       "text": [
        "window:"
       ]
      },
      {
       "output_type": "stream",
       "stream": "stdout",
       "text": [
        "    240.85  23139.337   23139.51 412   KH\n"
       ]
      },
      {
       "output_type": "stream",
       "stream": "stdout",
       "text": [
        "   1511.78    13507.5    13507.9 1000 NOAO\n"
       ]
      },
      {
       "output_type": "stream",
       "stream": "stdout",
       "text": [
        "   1536.68  13317.511    13316.8 400 NOAO\n"
       ]
      },
      {
       "output_type": "stream",
       "stream": "stdout",
       "text": [
        "window:"
       ]
      },
      {
       "output_type": "stream",
       "stream": "stdout",
       "text": [
        "   1536.68  13317.741    13316.8 400 NOAO\n"
       ]
      },
      {
       "output_type": "stream",
       "stream": "stdout",
       "text": [
        "window:"
       ]
      },
      {
       "output_type": "stream",
       "stream": "stdout",
       "text": [
        "again:"
       ]
      },
      {
       "output_type": "stream",
       "stream": "stdout",
       "text": [
        "   1536.68  13317.741    13316.8 400 NOAO\n"
       ]
      },
      {
       "output_type": "stream",
       "stream": "stdout",
       "text": [
        "   1536.68  13317.741    13316.8 400 NOAO\n"
       ]
      },
      {
       "output_type": "stream",
       "stream": "stdout",
       "text": [
        "   1576.76  13011.673    13011.8 200 NOAO\n"
       ]
      },
      {
       "output_type": "stream",
       "stream": "stdout",
       "text": [
        "   1576.76  13011.808    13011.8 200 NOAO\n"
       ]
      },
      {
       "output_type": "stream",
       "stream": "stdout",
       "text": [
        "\n",
        "REIDENTIFY: NOAO/IRAF V2.16 klabrie@rana.local Wed 15:22:04 24-Sep-2014\n"
       ]
      },
      {
       "output_type": "stream",
       "stream": "stdout",
       "text": [
        "  Reference image = warc[SCI,1], New image = warc[SCI,1], Refit = yes\n",
        "          Image Data    Found     Fit Pix Shift  User Shift  Z Shift      RMS\n"
       ]
      },
      {
       "output_type": "stream",
       "stream": "stdout",
       "text": [
        "warc[SCI,1][707,*]     43/43   43/43    0.00996      -0.076  -2.4E-6     0.73\n"
       ]
      },
      {
       "output_type": "stream",
       "stream": "stdout",
       "text": [
        "warc[SCI,1][707,*]     43/43   43/43    0.00996      -0.076  -2.4E-6     0.73\n"
       ]
      },
      {
       "output_type": "stream",
       "stream": "stdout",
       "text": [
        "warc[SCI,1][697,*]     43/43   43/43     0.0308      -0.235  -1.1E-5    0.828\n"
       ]
      },
      {
       "output_type": "stream",
       "stream": "stdout",
       "text": [
        "warc[SCI,1][687,*]     42/43   42/42     0.0255      -0.195  -5.1E-6    0.848\n"
       ]
      },
      {
       "output_type": "stream",
       "stream": "stdout",
       "text": [
        "warc[SCI,1][677,*]     43/43   43/43     0.0321      -0.245  -5.8E-6    0.873\n"
       ]
      },
      {
       "output_type": "stream",
       "stream": "stdout",
       "text": [
        "warc[SCI,1][667,*]     43/43   42/43     0.0504      -0.385  -1.3E-5      0.9\n"
       ]
      },
      {
       "output_type": "stream",
       "stream": "stdout",
       "text": [
        "warc[SCI,1][657,*]     43/43   43/43     0.0313      -0.239  5.16E-7    0.869\n"
       ]
      },
      {
       "output_type": "stream",
       "stream": "stdout",
       "text": [
        "warc[SCI,1][647,*]     43/43   43/43     0.0264      -0.203  6.03E-6    0.892\n"
       ]
      },
      {
       "output_type": "stream",
       "stream": "stdout",
       "text": [
        "warc[SCI,1][637,*]     43/43   43/43     0.0328      -0.251  7.26E-6    0.808\n"
       ]
      },
      {
       "output_type": "stream",
       "stream": "stdout",
       "text": [
        "warc[SCI,1][627,*]     43/43   43/43     0.0371      -0.283  8.21E-6    0.829\n"
       ]
      },
      {
       "output_type": "stream",
       "stream": "stdout",
       "text": [
        "warc[SCI,1][617,*]     43/43   43/43     0.0382      -0.293  1.19E-5    0.813\n"
       ]
      },
      {
       "output_type": "stream",
       "stream": "stdout",
       "text": [
        "warc[SCI,1][607,*]     43/43   43/43     0.0252      -0.194  2.16E-5    0.794\n"
       ]
      },
      {
       "output_type": "stream",
       "stream": "stdout",
       "text": [
        "warc[SCI,1][597,*]     43/43   43/43     0.0396      -0.304  1.89E-5    0.857\n"
       ]
      },
      {
       "output_type": "stream",
       "stream": "stdout",
       "text": [
        "warc[SCI,1][587,*]     43/43   43/43     0.0499      -0.383  1.72E-5     0.91\n"
       ]
      },
      {
       "output_type": "stream",
       "stream": "stdout",
       "text": [
        "warc[SCI,1][577,*]     43/43   43/43       0.04      -0.307  2.57E-5    0.931\n"
       ]
      },
      {
       "output_type": "stream",
       "stream": "stdout",
       "text": [
        "warc[SCI,1][567,*]     43/43   43/43     0.0467      -0.359  2.53E-5    0.935\n"
       ]
      },
      {
       "output_type": "stream",
       "stream": "stdout",
       "text": [
        "warc[SCI,1][557,*]     43/43   43/43     0.0481       -0.37  2.80E-5    0.984\n"
       ]
      },
      {
       "output_type": "stream",
       "stream": "stdout",
       "text": [
        "warc[SCI,1][547,*]     43/43   43/43      0.057      -0.438  2.69E-5     1.06\n"
       ]
      },
      {
       "output_type": "stream",
       "stream": "stdout",
       "text": [
        "warc[SCI,1][537,*]     43/43   43/43      0.058      -0.446  3.16E-5    0.985\n"
       ]
      },
      {
       "output_type": "stream",
       "stream": "stdout",
       "text": [
        "warc[SCI,1][527,*]     43/43   43/43     0.0602      -0.463  3.44E-5    0.994\n"
       ]
      },
      {
       "output_type": "stream",
       "stream": "stdout",
       "text": [
        "warc[SCI,1][517,*]     43/43   43/43     0.0576      -0.442  4.13E-5      0.9\n"
       ]
      },
      {
       "output_type": "stream",
       "stream": "stdout",
       "text": [
        "warc[SCI,1][507,*]     43/43   43/43     0.0506       -0.39  4.88E-5    0.928\n"
       ]
      },
      {
       "output_type": "stream",
       "stream": "stdout",
       "text": [
        "warc[SCI,1][497,*]     43/43   43/43     0.0698      -0.536  4.25E-5    0.984\n"
       ]
      },
      {
       "output_type": "stream",
       "stream": "stdout",
       "text": [
        "warc[SCI,1][487,*]     43/43   43/43     0.0722      -0.555  4.56E-5     1.05\n"
       ]
      },
      {
       "output_type": "stream",
       "stream": "stdout",
       "text": [
        "warc[SCI,1][477,*]     43/43   43/43     0.0761      -0.585  4.91E-5     1.09\n"
       ]
      },
      {
       "output_type": "stream",
       "stream": "stdout",
       "text": [
        "warc[SCI,1][467,*]     43/43   43/43      0.078        -0.6  5.43E-5     1.14\n"
       ]
      },
      {
       "output_type": "stream",
       "stream": "stdout",
       "text": [
        "warc[SCI,1][457,*]     43/43   43/43     0.0837      -0.643  5.57E-5      1.1\n"
       ]
      },
      {
       "output_type": "stream",
       "stream": "stdout",
       "text": [
        "warc[SCI,1][447,*]     43/43   43/43     0.0726      -0.559  6.77E-5      1.1\n"
       ]
      },
      {
       "output_type": "stream",
       "stream": "stdout",
       "text": [
        "warc[SCI,1][437,*]     43/43   43/43      0.089      -0.685  6.40E-5     1.11\n"
       ]
      },
      {
       "output_type": "stream",
       "stream": "stdout",
       "text": [
        "warc[SCI,1][427,*]     43/43   43/43     0.0974      -0.749  6.40E-5     1.15\n"
       ]
      },
      {
       "output_type": "stream",
       "stream": "stdout",
       "text": [
        "warc[SCI,1][417,*]     43/43   42/43     0.0931      -0.717  7.04E-5     1.06\n"
       ]
      },
      {
       "output_type": "stream",
       "stream": "stdout",
       "text": [
        "warc[SCI,1][407,*]     41/43   40/41      0.144        -1.1  5.31E-5       1.\n"
       ]
      },
      {
       "output_type": "stream",
       "stream": "stdout",
       "text": [
        "warc[SCI,1][397,*]     41/43   40/41     0.0788      -0.607  8.66E-5     1.14\n"
       ]
      },
      {
       "output_type": "stream",
       "stream": "stdout",
       "text": [
        "warc[SCI,1][387,*]     40/43   38/40     -0.023       0.167  1.24E-4     1.01\n"
       ]
      },
      {
       "output_type": "stream",
       "stream": "stdout",
       "text": [
        "warc[SCI,1][377,*]     40/43   38/40   -0.00678      0.0425  1.22E-4     1.05\n"
       ]
      },
      {
       "output_type": "stream",
       "stream": "stdout",
       "text": [
        "warc[SCI,1][367,*]     40/43   38/40    0.00468     -0.0443  1.22E-4    0.968\n"
       ]
      },
      {
       "output_type": "stream",
       "stream": "stdout",
       "text": [
        "warc[SCI,1][357,*]     40/43   38/40     0.0342      -0.269  1.13E-4     1.02\n"
       ]
      },
      {
       "output_type": "stream",
       "stream": "stdout",
       "text": [
        "warc[SCI,1][347,*]     40/43   38/40     0.0318      -0.252  1.19E-4     1.14\n"
       ]
      },
      {
       "output_type": "stream",
       "stream": "stdout",
       "text": [
        "warc[SCI,1][337,*]     40/43   38/40     0.0532      -0.415  1.15E-4     1.12\n"
       ]
      },
      {
       "output_type": "stream",
       "stream": "stdout",
       "text": [
        "warc[SCI,1][327,*]     40/43   39/40     0.0571      -0.444  1.20E-4     1.25\n"
       ]
      },
      {
       "output_type": "stream",
       "stream": "stdout",
       "text": [
        "warc[SCI,1][317,*]     39/43   33/39      0.158       -1.21  7.86E-5    0.577\n"
       ]
      },
      {
       "output_type": "stream",
       "stream": "stdout",
       "text": [
        "    ** Too many features lost **\n"
       ]
      },
      {
       "output_type": "stream",
       "stream": "stdout",
       "text": [
        "warc[SCI,1][307,*]     40/43   39/40     0.0854       -0.66  1.19E-4      1.2\n"
       ]
      },
      {
       "output_type": "stream",
       "stream": "stdout",
       "text": [
        "warc[SCI,1][297,*]     40/43   36/40      0.255       -1.95  3.29E-5     1.09\n"
       ]
      },
      {
       "output_type": "stream",
       "stream": "stdout",
       "text": [
        "warc[SCI,1][287,*]     38/43   36/38      0.409       -3.13  -3.9E-5     1.55\n"
       ]
      },
      {
       "output_type": "stream",
       "stream": "stdout",
       "text": [
        "    ** Too many features lost **\n"
       ]
      },
      {
       "output_type": "stream",
       "stream": "stdout",
       "text": [
        "warc[SCI,1][277,*]     37/43   30/37      0.489       -3.74  -6.8E-5    0.545\n"
       ]
      },
      {
       "output_type": "stream",
       "stream": "stdout",
       "text": [
        "    ** Too many features lost **\n"
       ]
      },
      {
       "output_type": "stream",
       "stream": "stdout",
       "text": [
        "warc[SCI,1][267,*]     38/43   32/38      0.436       -3.33  -3.4E-5    0.719\n"
       ]
      },
      {
       "output_type": "stream",
       "stream": "stdout",
       "text": [
        "    ** Too many features lost **\n"
       ]
      },
      {
       "output_type": "stream",
       "stream": "stdout",
       "text": [
        "warc[SCI,1][257,*]     37/43   32/37      0.419       -3.19  -4.7E-5      1.1\n"
       ]
      },
      {
       "output_type": "stream",
       "stream": "stdout",
       "text": [
        "    ** Too many features lost **\n"
       ]
      },
      {
       "output_type": "stream",
       "stream": "stdout",
       "text": [
        "warc[SCI,1][247,*]     35/43   31/35      0.388       -2.94  -4.6E-5     1.21\n"
       ]
      },
      {
       "output_type": "stream",
       "stream": "stdout",
       "text": [
        "    ** Too many features lost **\n"
       ]
      },
      {
       "output_type": "stream",
       "stream": "stdout",
       "text": [
        "warc[SCI,1][237,*]     36/43   31/36      0.335       -2.53  -1.6E-5      1.2\n"
       ]
      },
      {
       "output_type": "stream",
       "stream": "stdout",
       "text": [
        "    ** Too many features lost **\n"
       ]
      },
      {
       "output_type": "stream",
       "stream": "stdout",
       "text": [
        "warc[SCI,1][227,*]     34/43   34/34      0.359       -2.71  -5.5E-5      8.7\n"
       ]
      },
      {
       "output_type": "stream",
       "stream": "stdout",
       "text": [
        "    ** Too many features lost **\n"
       ]
      },
      {
       "output_type": "stream",
       "stream": "stdout",
       "text": [
        "warc[SCI,1][217,*]     35/43   35/35       0.41        -3.1  -8.0E-5     9.02\n"
       ]
      },
      {
       "output_type": "stream",
       "stream": "stdout",
       "text": [
        "    ** Too many features lost **\n"
       ]
      },
      {
       "output_type": "stream",
       "stream": "stdout",
       "text": [
        "warc[SCI,1][207,*]     36/43   36/36      0.496       -3.75  -1.3E-4     9.61\n"
       ]
      },
      {
       "output_type": "stream",
       "stream": "stdout",
       "text": [
        "    ** Too many features lost **\n"
       ]
      },
      {
       "output_type": "stream",
       "stream": "stdout",
       "text": [
        "warc[SCI,1][197,*]     34/43   34/34      0.555        -4.2  -1.4E-4     8.58\n"
       ]
      },
      {
       "output_type": "stream",
       "stream": "stdout",
       "text": [
        "    ** Too many features lost **\n"
       ]
      },
      {
       "output_type": "stream",
       "stream": "stdout",
       "text": [
        "warc[SCI,1][187,*]     35/43   35/35      0.579       -4.38  -1.5E-4     8.41\n"
       ]
      },
      {
       "output_type": "stream",
       "stream": "stdout",
       "text": [
        "    ** Too many features lost **\n"
       ]
      },
      {
       "output_type": "stream",
       "stream": "stdout",
       "text": [
        "warc[SCI,1][177,*]     33/43   33/33      0.594        -4.5  -1.4E-4     8.11\n"
       ]
      },
      {
       "output_type": "stream",
       "stream": "stdout",
       "text": [
        "    ** Too many features lost **\n"
       ]
      },
      {
       "output_type": "stream",
       "stream": "stdout",
       "text": [
        "warc[SCI,1][167,*]     33/43   33/33      0.583       -4.41  -1.3E-4     8.19\n"
       ]
      },
      {
       "output_type": "stream",
       "stream": "stdout",
       "text": [
        "    ** Too many features lost **\n"
       ]
      },
      {
       "output_type": "stream",
       "stream": "stdout",
       "text": [
        "warc[SCI,1][157,*]     34/43   34/34      0.692       -5.24  -1.9E-4     9.47\n"
       ]
      },
      {
       "output_type": "stream",
       "stream": "stdout",
       "text": [
        "    ** Too many features lost **\n"
       ]
      },
      {
       "output_type": "stream",
       "stream": "stdout",
       "text": [
        "warc[SCI,1][147,*]     36/43   36/36      0.604       -4.57  -1.4E-4     10.7\n"
       ]
      },
      {
       "output_type": "stream",
       "stream": "stdout",
       "text": [
        "    ** Too many features lost **\n"
       ]
      },
      {
       "output_type": "stream",
       "stream": "stdout",
       "text": [
        "warc[SCI,1][137,*]     36/43   35/36      0.727        -5.5  -2.0E-4     10.9\n"
       ]
      },
      {
       "output_type": "stream",
       "stream": "stdout",
       "text": [
        "    ** Too many features lost **\n"
       ]
      },
      {
       "output_type": "stream",
       "stream": "stdout",
       "text": [
        "warc[SCI,1][127,*]     37/43   36/37      0.944       -7.14  -3.2E-4     11.9\n"
       ]
      },
      {
       "output_type": "stream",
       "stream": "stdout",
       "text": [
        "    ** Too many features lost **\n"
       ]
      },
      {
       "output_type": "stream",
       "stream": "stdout",
       "text": [
        "warc[SCI,1][117,*]     34/43   33/34      0.953       -7.21  -3.2E-4     10.4\n"
       ]
      },
      {
       "output_type": "stream",
       "stream": "stdout",
       "text": [
        "    ** Too many features lost **\n"
       ]
      },
      {
       "output_type": "stream",
       "stream": "stdout",
       "text": [
        "warc[SCI,1][107,*]     35/43   34/35       1.23        -9.3  -4.4E-4     11.6\n"
       ]
      },
      {
       "output_type": "stream",
       "stream": "stdout",
       "text": [
        "    ** Too many features lost **\n"
       ]
      },
      {
       "output_type": "stream",
       "stream": "stdout",
       "text": [
        "warc[SCI,1][97,*]      35/43   34/35       1.33       -10.1  -4.9E-4     10.4\n"
       ]
      },
      {
       "output_type": "stream",
       "stream": "stdout",
       "text": [
        "    ** Too many features lost **\n"
       ]
      },
      {
       "output_type": "stream",
       "stream": "stdout",
       "text": [
        "warc[SCI,1][87,*]      32/43   29/32       1.69       -12.8  -6.6E-4     6.01\n"
       ]
      },
      {
       "output_type": "stream",
       "stream": "stdout",
       "text": [
        "    ** Too many features lost **\n"
       ]
      },
      {
       "output_type": "stream",
       "stream": "stdout",
       "text": [
        "warc[SCI,1][77,*]      31/43   29/31       1.89       -14.3  -7.5E-4     5.96\n"
       ]
      },
      {
       "output_type": "stream",
       "stream": "stdout",
       "text": [
        "    ** Too many features lost **\n"
       ]
      },
      {
       "output_type": "stream",
       "stream": "stdout",
       "text": [
        "warc[SCI,1][67,*]      31/43   29/31       1.91       -14.5  -7.6E-4     5.97\n"
       ]
      },
      {
       "output_type": "stream",
       "stream": "stdout",
       "text": [
        "    ** Too many features lost **\n"
       ]
      },
      {
       "output_type": "stream",
       "stream": "stdout",
       "text": [
        "warc[SCI,1][57,*]      31/43   29/31       1.94       -14.7  -7.7E-4     6.08\n"
       ]
      },
      {
       "output_type": "stream",
       "stream": "stdout",
       "text": [
        "    ** Too many features lost **\n"
       ]
      },
      {
       "output_type": "stream",
       "stream": "stdout",
       "text": [
        "warc[SCI,1][47,*]      31/43   29/31       1.98        -15.  -7.8E-4     6.05\n"
       ]
      },
      {
       "output_type": "stream",
       "stream": "stdout",
       "text": [
        "    ** Too many features lost **\n"
       ]
      },
      {
       "output_type": "stream",
       "stream": "stdout",
       "text": [
        "warc[SCI,1][37,*]      31/43   29/31       2.04       -15.5  -8.0E-4     6.07\n"
       ]
      },
      {
       "output_type": "stream",
       "stream": "stdout",
       "text": [
        "    ** Too many features lost **\n"
       ]
      },
      {
       "output_type": "stream",
       "stream": "stdout",
       "text": [
        "warc[SCI,1][27,*]      30/43   27/30        1.9       -14.4  -7.5E-4     4.28\n"
       ]
      },
      {
       "output_type": "stream",
       "stream": "stdout",
       "text": [
        "    ** Too many features lost **\n"
       ]
      },
      {
       "output_type": "stream",
       "stream": "stdout",
       "text": [
        "warc[SCI,1][17,*]      30/43   28/30       1.91       -14.5  -7.5E-4     5.81\n"
       ]
      },
      {
       "output_type": "stream",
       "stream": "stdout",
       "text": [
        "    ** Too many features lost **\n"
       ]
      },
      {
       "output_type": "stream",
       "stream": "stdout",
       "text": [
        "warc[SCI,1][7,*]       29/43   26/29        1.8       -13.7  -7.1E-4      4.1\n"
       ]
      },
      {
       "output_type": "stream",
       "stream": "stdout",
       "text": [
        "    ** Too many features lost **\n"
       ]
      },
      {
       "output_type": "stream",
       "stream": "stdout",
       "text": [
        "warc[SCI,1][727,*]     43/43   43/43     0.0168      -0.128  -1.2E-5    0.762\n"
       ]
      },
      {
       "output_type": "stream",
       "stream": "stdout",
       "text": [
        "warc[SCI,1][737,*]     43/43   43/43    0.00424     -0.0324  -7.5E-6    0.713\n"
       ]
      },
      {
       "output_type": "stream",
       "stream": "stdout",
       "text": [
        "warc[SCI,1][747,*]     43/43   43/43    0.00632     -0.0478  -1.2E-5    0.696\n"
       ]
      },
      {
       "output_type": "stream",
       "stream": "stdout",
       "text": [
        "warc[SCI,1][757,*]     43/43   43/43       0.02      -0.152  -2.1E-5    0.696\n"
       ]
      },
      {
       "output_type": "stream",
       "stream": "stdout",
       "text": [
        "warc[SCI,1][767,*]     43/43   42/43     0.0282      -0.215  -2.9E-5    0.716\n"
       ]
      },
      {
       "output_type": "stream",
       "stream": "stdout",
       "text": [
        "warc[SCI,1][777,*]     43/43   42/43     0.0456      -0.347  -4.1E-5    0.703\n"
       ]
      },
      {
       "output_type": "stream",
       "stream": "stdout",
       "text": [
        "warc[SCI,1][787,*]     43/43   42/43     0.0321      -0.244  -3.5E-5    0.705\n"
       ]
      },
      {
       "output_type": "stream",
       "stream": "stdout",
       "text": [
        "warc[SCI,1][797,*]     43/43   42/43     0.0344      -0.261  -3.8E-5    0.787\n"
       ]
      },
      {
       "output_type": "stream",
       "stream": "stdout",
       "text": [
        "warc[SCI,1][807,*]     43/43   43/43     0.0242      -0.183  -3.5E-5    0.778\n"
       ]
      },
      {
       "output_type": "stream",
       "stream": "stdout",
       "text": [
        "warc[SCI,1][817,*]     43/43   43/43     0.0219      -0.165  -3.5E-5    0.804\n"
       ]
      },
      {
       "output_type": "stream",
       "stream": "stdout",
       "text": [
        "warc[SCI,1][827,*]     43/43   43/43     0.0289      -0.218  -4.0E-5    0.818\n"
       ]
      },
      {
       "output_type": "stream",
       "stream": "stdout",
       "text": [
        "warc[SCI,1][837,*]     43/43   43/43     0.0296      -0.224  -4.2E-5     0.71\n"
       ]
      },
      {
       "output_type": "stream",
       "stream": "stdout",
       "text": [
        "warc[SCI,1][847,*]     43/43   43/43     0.0239       -0.18  -4.0E-5    0.772\n"
       ]
      },
      {
       "output_type": "stream",
       "stream": "stdout",
       "text": [
        "warc[SCI,1][857,*]     43/43   42/43     0.0355      -0.268  -4.7E-5    0.653\n"
       ]
      },
      {
       "output_type": "stream",
       "stream": "stdout",
       "text": [
        "warc[SCI,1][867,*]     43/43   43/43     0.0486      -0.368  -5.5E-5    0.708\n"
       ]
      },
      {
       "output_type": "stream",
       "stream": "stdout",
       "text": [
        "warc[SCI,1][877,*]     43/43   43/43     0.0459      -0.347  -5.4E-5    0.691\n"
       ]
      },
      {
       "output_type": "stream",
       "stream": "stdout",
       "text": [
        "warc[SCI,1][887,*]     43/43   43/43     0.0433      -0.327  -5.4E-5      0.7\n"
       ]
      },
      {
       "output_type": "stream",
       "stream": "stdout",
       "text": [
        "warc[SCI,1][897,*]     42/43   42/42     0.0339      -0.254  -5.0E-5    0.736\n"
       ]
      },
      {
       "output_type": "stream",
       "stream": "stdout",
       "text": [
        "warc[SCI,1][907,*]     43/43   43/43     0.0381      -0.287  -5.4E-5    0.743\n"
       ]
      },
      {
       "output_type": "stream",
       "stream": "stdout",
       "text": [
        "warc[SCI,1][917,*]     43/43   43/43     0.0408      -0.308  -5.6E-5    0.737\n"
       ]
      },
      {
       "output_type": "stream",
       "stream": "stdout",
       "text": [
        "warc[SCI,1][927,*]     43/43   43/43     0.0519      -0.392  -6.3E-5    0.698\n"
       ]
      },
      {
       "output_type": "stream",
       "stream": "stdout",
       "text": [
        "warc[SCI,1][937,*]     43/43   43/43     0.0524      -0.395  -6.3E-5    0.678\n"
       ]
      },
      {
       "output_type": "stream",
       "stream": "stdout",
       "text": [
        "warc[SCI,1][947,*]     42/43   42/42     0.0517       -0.39  -6.4E-5    0.739\n"
       ]
      },
      {
       "output_type": "stream",
       "stream": "stdout",
       "text": [
        "warc[SCI,1][957,*]     43/43   43/43     0.0628      -0.475  -6.9E-5    0.668\n"
       ]
      },
      {
       "output_type": "stream",
       "stream": "stdout",
       "text": [
        "warc[SCI,1][967,*]     43/43   43/43     0.0812      -0.615  -7.9E-5    0.861\n"
       ]
      },
      {
       "output_type": "stream",
       "stream": "stdout",
       "text": [
        "warc[SCI,1][977,*]     43/43   42/43      0.107      -0.811  -9.3E-5    0.846\n"
       ]
      },
      {
       "output_type": "stream",
       "stream": "stdout",
       "text": [
        "warc[SCI,1][987,*]     43/43   43/43      0.105      -0.792  -9.1E-5    0.915\n"
       ]
      },
      {
       "output_type": "stream",
       "stream": "stdout",
       "text": [
        "warc[SCI,1][997,*]     43/43   43/43      0.117      -0.883  -9.7E-5    0.935\n"
       ]
      },
      {
       "output_type": "stream",
       "stream": "stdout",
       "text": [
        "warc[SCI,1][1007,*]    43/43   43/43      0.121      -0.917  -9.8E-5     0.81\n"
       ]
      },
      {
       "output_type": "stream",
       "stream": "stdout",
       "text": [
        "warc[SCI,1][1017,*]    43/43   42/43      0.167       -1.26  -1.2E-4    0.873\n"
       ]
      },
      {
       "output_type": "stream",
       "stream": "stdout",
       "text": [
        "warc[SCI,1][1027,*]    43/43   43/43       0.15       -1.14  -1.1E-4    0.962\n"
       ]
      },
      {
       "output_type": "stream",
       "stream": "stdout",
       "text": [
        "warc[SCI,1][1037,*]    43/43   42/43       0.21       -1.59  -1.4E-4    0.875\n"
       ]
      },
      {
       "output_type": "stream",
       "stream": "stdout",
       "text": [
        "warc[SCI,1][1047,*]    42/43   38/42      0.211        -1.6  -1.4E-4    0.616\n"
       ]
      },
      {
       "output_type": "stream",
       "stream": "stdout",
       "text": [
        "warc[SCI,1][1057,*]    43/43   42/43      0.233       -1.76  -1.5E-4    0.824\n"
       ]
      },
      {
       "output_type": "stream",
       "stream": "stdout",
       "text": [
        "warc[SCI,1][1067,*]    42/43   39/42      0.195       -1.47  -1.3E-4    0.621\n"
       ]
      },
      {
       "output_type": "stream",
       "stream": "stdout",
       "text": [
        "warc[SCI,1][1077,*]    43/43   42/43      0.241       -1.83  -1.5E-4    0.844\n"
       ]
      },
      {
       "output_type": "stream",
       "stream": "stdout",
       "text": [
        "warc[SCI,1][1087,*]    43/43   42/43      0.266       -2.01  -1.6E-4     0.83\n"
       ]
      },
      {
       "output_type": "stream",
       "stream": "stdout",
       "text": [
        "warc[SCI,1][1097,*]    42/43   38/42      0.231       -1.75  -1.4E-4    0.554\n"
       ]
      },
      {
       "output_type": "stream",
       "stream": "stdout",
       "text": [
        "warc[SCI,1][1107,*]    43/43   42/43      0.291        -2.2  -1.7E-4    0.863\n"
       ]
      },
      {
       "output_type": "stream",
       "stream": "stdout",
       "text": [
        "warc[SCI,1][1117,*]    43/43   39/43      0.294       -2.23  -1.7E-4    0.538\n"
       ]
      },
      {
       "output_type": "stream",
       "stream": "stdout",
       "text": [
        "warc[SCI,1][1127,*]    43/43   39/43      0.289       -2.19  -1.7E-4    0.521\n"
       ]
      },
      {
       "output_type": "stream",
       "stream": "stdout",
       "text": [
        "warc[SCI,1][1137,*]    42/43   38/42      0.251        -1.9  -1.5E-4     0.46\n"
       ]
      },
      {
       "output_type": "stream",
       "stream": "stdout",
       "text": [
        "warc[SCI,1][1147,*]    43/43   40/43      0.262       -1.99  -1.5E-4    0.637\n"
       ]
      },
      {
       "output_type": "stream",
       "stream": "stdout",
       "text": [
        "warc[SCI,1][1157,*]    43/43   39/43      0.311       -2.36  -1.7E-4    0.486\n"
       ]
      },
      {
       "output_type": "stream",
       "stream": "stdout",
       "text": [
        "warc[SCI,1][1167,*]    43/43   39/43      0.323       -2.45  -1.8E-4    0.482\n"
       ]
      },
      {
       "output_type": "stream",
       "stream": "stdout",
       "text": [
        "warc[SCI,1][1177,*]    43/43   39/43      0.323       -2.45  -1.8E-4    0.519\n"
       ]
      },
      {
       "output_type": "stream",
       "stream": "stdout",
       "text": [
        "warc[SCI,1][1187,*]    43/43   39/43      0.335       -2.54  -1.8E-4    0.534\n"
       ]
      },
      {
       "output_type": "stream",
       "stream": "stdout",
       "text": [
        "warc[SCI,1][1197,*]    43/43   36/43      0.338       -2.56  -1.8E-4    0.391\n"
       ]
      },
      {
       "output_type": "stream",
       "stream": "stdout",
       "text": [
        "warc[SCI,1][1207,*]    43/43   39/43       0.35       -2.65  -1.8E-4    0.503\n"
       ]
      },
      {
       "output_type": "stream",
       "stream": "stdout",
       "text": [
        "warc[SCI,1][1217,*]    43/43   42/43      0.373       -2.83  -1.9E-4    0.977\n"
       ]
      },
      {
       "output_type": "stream",
       "stream": "stdout",
       "text": [
        "warc[SCI,1][1227,*]    43/43   42/43      0.386       -2.93  -2.0E-4    0.906\n"
       ]
      },
      {
       "output_type": "stream",
       "stream": "stdout",
       "text": [
        "warc[SCI,1][1237,*]    43/43   38/43      0.397       -3.01  -2.0E-4    0.507\n"
       ]
      },
      {
       "output_type": "stream",
       "stream": "stdout",
       "text": [
        "warc[SCI,1][1247,*]    43/43   39/43      0.407       -3.09  -2.0E-4    0.555\n"
       ]
      },
      {
       "output_type": "stream",
       "stream": "stdout",
       "text": [
        "warc[SCI,1][1257,*]    43/43   42/43      0.422        -3.2  -2.1E-4     1.05\n"
       ]
      },
      {
       "output_type": "stream",
       "stream": "stdout",
       "text": [
        "warc[SCI,1][1267,*]    43/43   42/43      0.457       -3.47  -2.2E-4     1.15\n"
       ]
      },
      {
       "output_type": "stream",
       "stream": "stdout",
       "text": [
        "warc[SCI,1][1277,*]    43/43   37/43      0.477       -3.62  -2.3E-4    0.473\n"
       ]
      },
      {
       "output_type": "stream",
       "stream": "stdout",
       "text": [
        "warc[SCI,1][1287,*]    43/43   41/43      0.495       -3.76  -2.3E-4    0.931\n"
       ]
      },
      {
       "output_type": "stream",
       "stream": "stdout",
       "text": [
        "warc[SCI,1][1297,*]    43/43   39/43      0.528       -4.01  -2.4E-4    0.685\n"
       ]
      },
      {
       "output_type": "stream",
       "stream": "stdout",
       "text": [
        "warc[SCI,1][1307,*]    43/43   37/43      0.566       -4.29  -2.6E-4    0.536\n"
       ]
      },
      {
       "output_type": "stream",
       "stream": "stdout",
       "text": [
        "warc[SCI,1][1317,*]    43/43   37/43      0.589       -4.47  -2.7E-4    0.484\n"
       ]
      },
      {
       "output_type": "stream",
       "stream": "stdout",
       "text": [
        "warc[SCI,1][1327,*]    43/43   40/43      0.622       -4.72  -2.8E-4    0.704\n"
       ]
      },
      {
       "output_type": "stream",
       "stream": "stdout",
       "text": [
        "warc[SCI,1][1337,*]    43/43   39/43      0.641       -4.86  -2.9E-4    0.646\n"
       ]
      },
      {
       "output_type": "stream",
       "stream": "stdout",
       "text": [
        "warc[SCI,1][1347,*]    43/43   41/43      0.661       -5.02  -2.9E-4    0.833\n"
       ]
      },
      {
       "output_type": "stream",
       "stream": "stdout",
       "text": [
        "warc[SCI,1][1357,*]    43/43   40/43      0.663       -5.03  -2.9E-4     0.68\n"
       ]
      },
      {
       "output_type": "stream",
       "stream": "stdout",
       "text": [
        "warc[SCI,1][1367,*]    43/43   39/43      0.674       -5.12  -2.9E-4    0.609\n"
       ]
      },
      {
       "output_type": "stream",
       "stream": "stdout",
       "text": [
        "warc[SCI,1][1377,*]    43/43   42/43      0.687       -5.21  -3.0E-4     1.05\n"
       ]
      },
      {
       "output_type": "stream",
       "stream": "stdout",
       "text": [
        "warc[SCI,1][1387,*]    43/43   40/43      0.719       -5.46  -3.1E-4    0.788\n"
       ]
      },
      {
       "output_type": "stream",
       "stream": "stdout",
       "text": [
        "warc[SCI,1][1397,*]    43/43   42/43      0.768       -5.83  -3.3E-4     1.17\n"
       ]
      },
      {
       "output_type": "stream",
       "stream": "stdout",
       "text": [
        "warc[SCI,1][1407,*]    43/43   40/43      0.785       -5.96  -3.3E-4    0.851\n"
       ]
      },
      {
       "output_type": "stream",
       "stream": "stdout",
       "text": [
        "warc[SCI,1][1417,*]    43/43   43/43      0.806       -6.12  -3.4E-4     1.38\n"
       ]
      },
      {
       "output_type": "stream",
       "stream": "stdout",
       "text": [
        "warc[SCI,1][1427,*]    43/43   40/43      0.799       -6.06  -3.3E-4    0.827\n"
       ]
      },
      {
       "output_type": "stream",
       "stream": "stdout",
       "text": [
        "\n",
        "NSWHELPER Exit status good\n",
        "-------------------------------------------------------------------------------\n",
        "\n",
        "NSWAVELENGTH Exit status good\n",
        "-------------------------------------------------------------------------------\n"
       ]
      }
     ],
     "prompt_number": 22
    },
    {
     "cell_type": "heading",
     "level": 2,
     "metadata": {},
     "source": [
      "OPTIONAL: Test recovery of a calibrated arc"
     ]
    },
    {
     "cell_type": "markdown",
     "metadata": {},
     "source": [
      "This step is met to confirm that if we apply the wavelength solution to the arc itself, we do recover a correctly wavelength-calibrated arc.  The key step is **<code>nsfitcoords</code>**.  The default **<code>lxorder</code>** and **<code>lyorder</code>** are both set to 2 which doesn't seem to be correct.  Running **<code>nsfitcoords</code>** interactively on the arc will allow us to discover the best **<code>lxorder</code>** and **<code>lyorder</code>** for this wavelength solution, and use that as a starting point later when using the arc wavelength solution (**<code>warc.fits</code>**) on the telluric and the science."
     ]
    },
    {
     "cell_type": "markdown",
     "metadata": {},
     "source": [
      "Interactive IRAF tasks don't work very well from the iPython Notebook.  Use PyRAF and cut and paste these instructions.  Remember to run the commands from Step 0, Step 1, and Step 2.\n",
      "\n",
      "    iraf.imdelete('farc.fits', verify='no')\n",
      "    iraf.nsfitcoords('arc.fits', lamptransf='warc.fits', fl_inter='yes')\n",
      "    # Note down the xorder and yorder needed for a good fit.  Use\n",
      "    # that whenever warc.fits is used by nsfitcoords.\n",
      "    # xorder=3, yorder=6\n",
      "    lxorder=3 ; lyorder=6\n",
      "\n",
      "    iraf.imdelete('tfarc.fits', verify='no')\n",
      "    iraf.nstransform('farc.fits')\n",
      "    iraf.display('tfarc.fits[sci,1]', 1)\n",
      "\n",
      "    # display the first telluric to identify on which column the spectrum falls in\n",
      "    # the A position.\n",
      "    first_tel = iraf.head('tel.lis', nlines=1, Stdout=1)[0].strip()\n",
      "    iraf.display('f'+first_tel+'[1]', 1)\n",
      "    # position of the telluric is column 928\n",
      "    tel_position = 928\n",
      "\n",
      "    iraf.splot('tfarc.fits[sci,1]', line=tel_position)\n",
      "    # Set nsum ->  :nsum 30\n",
      "    #\n",
      "    # Check that the arc lines are at the correct wavelength.\n",
      "    # Use 'k' on each side of the a line to get the centroid.\n",
      "    # Then compare with the line list and the diagrams.\n",
      "    # Resource:\n",
      "    #    http://www.gemini.edu/sciops/instruments/niri/?q=node/10166\n",
      "    #    The NIRI plots work well but they are a mirror image of the\n",
      "    #    transformed arc.  Still all the info needed is there.\n",
      "\n",
      "    # Result: (Kathleen)\n",
      "    #   The arc gets transformed correctly with lxorder=3, lyorder=6.\n",
      "    #   The lines are within 1-2 Angstroms of the expected values.  \n",
      "    #   Note that the shape of the arc lines is not symmetric.  No\n",
      "    #   idea why, but it surely affects centering.\n"
     ]
    },
    {
     "cell_type": "heading",
     "level": 2,
     "metadata": {},
     "source": [
      "STEP 9: Reduce the telluric standard dataset"
     ]
    },
    {
     "cell_type": "code",
     "collapsed": false,
     "input": [
      "iraf.imdelete('df@tel.lis', verify='no')\n",
      "iraf.nsreduce('f@tel.lis', outprefix='d', fl_cut='no', fl_process_cut='no', \\\n",
      "    fl_dark='yes', darkimage='teldark.fits', fl_sky='no', fl_flat='no')\n",
      "\n",
      "iraf.imdelete('rdf@tel.lis', verify='no')\n",
      "iraf.nsreduce('df@tel.lis', fl_cut='yes', fl_dark='no', fl_sky='yes', \\\n",
      "    fl_flat='yes', flatimage='flat.fits')\n"
     ],
     "language": "python",
     "metadata": {},
     "outputs": [
      {
       "output_type": "stream",
       "stream": "stdout",
       "text": [
        "-------------------------------------------------------------------------------\n",
        "NSREDUCE -- Wed Sep 24 16:35:38 HST 2014\n",
        " \n",
        "NSREDUCE: Processing 4 extension(s) from 4 file(s)."
       ]
      },
      {
       "output_type": "stream",
       "stream": "stdout",
       "text": [
        "\n"
       ]
      },
      {
       "output_type": "stream",
       "stream": "stdout",
       "text": [
        "NSREDUCE: slit: 2pix-slit\n",
        "NSREDUCE: filter: HK\n",
        "\n",
        "   n input                   --> output                  sky image\n",
        " dark                    flat                    scale\n",
        "\n",
        "   1 fS20131026S0699         --> dfS20131026S0699        none                   \n",
        " teldark                 none                    1.0000 \n",
        "   2 fS20131026S0700         --> dfS20131026S0700        none                   "
       ]
      },
      {
       "output_type": "stream",
       "stream": "stdout",
       "text": [
        "\n",
        " teldark                 none                    1.0000 \n",
        "   3 fS20131026S0701         --> dfS20131026S0701        none                   "
       ]
      },
      {
       "output_type": "stream",
       "stream": "stdout",
       "text": [
        "\n",
        " teldark                 none                    1.0000 \n",
        "   4 fS20131026S0702         --> dfS20131026S0702        none                   "
       ]
      },
      {
       "output_type": "stream",
       "stream": "stdout",
       "text": [
        "\n",
        " teldark                 none                    1.0000 \n"
       ]
      },
      {
       "output_type": "stream",
       "stream": "stdout",
       "text": [
        " \n",
        "NSREDUCE exit status: good.\n",
        "------------------------------------------------------------------------------\n",
        "-------------------------------------------------------------------------------"
       ]
      },
      {
       "output_type": "stream",
       "stream": "stdout",
       "text": [
        "\n",
        "NSREDUCE -- Wed Sep 24 16:35:56 HST 2014\n",
        " \n",
        "----------------------------------------------------------------------------"
       ]
      },
      {
       "output_type": "stream",
       "stream": "stdout",
       "text": [
        "\n",
        "F2CUT -- Wed Sep 24 16:35:56 HST 2014\n",
        " \n",
        "\n",
        "Pixel scale: 0.1797"
       ]
      },
      {
       "output_type": "stream",
       "stream": "stdout",
       "text": [
        "\n",
        "Grism: HK_G5802\n",
        "Filter: HK\n",
        "\n",
        "dfS20131026S0699 --> dfS20131026S0699-59944_20"
       ]
      },
      {
       "output_type": "stream",
       "stream": "stdout",
       "text": [
        "\n",
        " [SCI,1][57:1490,200:1797] --> [SCI,1]\n",
        "dfS20131026S0700 --> dfS20131026S0700-59944_22"
       ]
      },
      {
       "output_type": "stream",
       "stream": "stdout",
       "text": [
        "\n",
        "dfS20131026S0701 --> dfS20131026S0701-59944_24"
       ]
      },
      {
       "output_type": "stream",
       "stream": "stdout",
       "text": [
        "\n",
        "dfS20131026S0702 --> dfS20131026S0702-59944_26"
       ]
      },
      {
       "output_type": "stream",
       "stream": "stdout",
       "text": [
        "\n"
       ]
      },
      {
       "output_type": "stream",
       "stream": "stdout",
       "text": [
        " \n",
        "F2CUT exit status: good.\n",
        "----------------------------------------------------------------------------\n",
        "------------------------------------------------------------------------------\n",
        "NSAPPWAVE -- Wed Sep 24 16:36:03 HST 2014\n",
        " \n"
       ]
      },
      {
       "output_type": "stream",
       "stream": "stdout",
       "text": [
        "NSAPPWAVE: Processing 4 extension(s) from 4 file(s).\n",
        "  Camera     Grating    Filter     Prism      FPMask     Wave   Delta Order Axis\n",
        "dfS20131026S0699-59944_20 -> dfS20131026S0699-59944_21 ( 1)"
       ]
      },
      {
       "output_type": "stream",
       "stream": "stdout",
       "text": [
        "\n",
        "  f/16_G5830   HK_G5802         HK             2pix-slit 18710.00 -7.83 INDEF 2\n"
       ]
      },
      {
       "output_type": "stream",
       "stream": "stdout",
       "text": [
        "NSAPPWAVE: cradius not from table for dfS20131026S0699-59944_20.\n",
        "           (further table messages supressed for this file).\n",
        "  extension  1: 18710.000000 -7.826000 INDEF\n",
        "dfS20131026S0700-59944_22 -> dfS20131026S0700-59944_23 ( 1)"
       ]
      },
      {
       "output_type": "stream",
       "stream": "stdout",
       "text": [
        "\n",
        "  f/16_G5830   HK_G5802         HK             2pix-slit 18710.00 -7.83 INDEF 2\n"
       ]
      },
      {
       "output_type": "stream",
       "stream": "stdout",
       "text": [
        "NSAPPWAVE: cradius not from table for dfS20131026S0700-59944_22.\n",
        "           (further table messages supressed for this file).\n",
        "  extension  1: 18710.000000 -7.826000 INDEF\n",
        "dfS20131026S0701-59944_24 -> dfS20131026S0701-59944_25 ( 1)"
       ]
      },
      {
       "output_type": "stream",
       "stream": "stdout",
       "text": [
        "\n",
        "  f/16_G5830   HK_G5802         HK             2pix-slit 18710.00 -7.83 INDEF 2\n"
       ]
      },
      {
       "output_type": "stream",
       "stream": "stdout",
       "text": [
        "NSAPPWAVE: cradius not from table for dfS20131026S0701-59944_24.\n",
        "           (further table messages supressed for this file).\n",
        "  extension  1: 18710.000000 -7.826000 INDEF\n",
        "dfS20131026S0702-59944_26 -> dfS20131026S0702-59944_27 ( 1)"
       ]
      },
      {
       "output_type": "stream",
       "stream": "stdout",
       "text": [
        "\n",
        "  f/16_G5830   HK_G5802         HK             2pix-slit 18710.00 -7.83 INDEF 2\n"
       ]
      },
      {
       "output_type": "stream",
       "stream": "stdout",
       "text": [
        "NSAPPWAVE: cradius not from table for dfS20131026S0702-59944_26.\n",
        "           (further table messages supressed for this file).\n",
        "  extension  1: 18710.000000 -7.826000 INDEF\n"
       ]
      },
      {
       "output_type": "stream",
       "stream": "stdout",
       "text": [
        "\n",
        "NSAPPWAVE Exit status good\n",
        "------------------------------------------------------------------------------\n",
        "NSREDUCE: Generating the sky frame(s) using the other nod positions\n",
        "          (separations greater than 1.5 arcsec) from neighbouring\n",
        "          exposures.\n",
        "\n",
        "------------------------------------------------------------------------------"
       ]
      },
      {
       "output_type": "stream",
       "stream": "stdout",
       "text": [
        "\n",
        "NSSKY -- Wed Sep 24 16:36:22 HST 2014\n",
        " \n",
        "WARNING - NSSKY: Will take sky from input images\n",
        "NSSKY: Obs time for dfS20131026S0699-59944_21.fits[0]:  6:41:51.7"
       ]
      },
      {
       "output_type": "stream",
       "stream": "stdout",
       "text": [
        "\n",
        "NSSKY: Obs time for dfS20131026S0700-59944_23.fits[0]:  6:42:45.2  0:00:53.5\n",
        "NSSKY: Obs time for dfS20131026S0701-59944_25.fits[0]:  6:43:38.7  0:00:53.5\n",
        "NSSKY: Obs time for dfS20131026S0702-59944_27.fits[0]:  6:44:32.2  0:00:53.5\n",
        "NSSKY: Min/max:  0:00:53.5/ 0:00:53.5\n",
        "NSSKY: Using observations within  53.5s as sky.\n",
        "NSSKY: Grouping images (please wait).\n"
       ]
      },
      {
       "output_type": "stream",
       "stream": "stdout",
       "text": [
        " \n",
        "NSSKY exit status: good.\n",
        "NSREDUCE: Processing 4 extension(s) from 4 file(s)."
       ]
      },
      {
       "output_type": "stream",
       "stream": "stdout",
       "text": [
        "\n"
       ]
      },
      {
       "output_type": "stream",
       "stream": "stdout",
       "text": [
        "NSREDUCE: slit: 2pix-slit\n",
        "NSREDUCE: filter: HK\n",
        "\n",
        "   n input                   --> output                  sky image\n",
        " dark                    flat                    scale\n",
        "\n",
        "   1 dfS20131026S0699        --> rdfS20131026S0699       dfS20131026S0700-59944_23\n",
        " none                    flat                    1.0000 \n",
        "   2 dfS20131026S0700        --> rdfS20131026S0700       dfS20131026S0699-59944_21"
       ]
      },
      {
       "output_type": "stream",
       "stream": "stdout",
       "text": [
        "\n",
        " none                    flat                    1.0000 \n",
        "   3 dfS20131026S0701        --> rdfS20131026S0701       dfS20131026S0702-59944_27"
       ]
      },
      {
       "output_type": "stream",
       "stream": "stdout",
       "text": [
        "\n",
        " none                    flat                    1.0000 \n",
        "   4 dfS20131026S0702        --> rdfS20131026S0702       dfS20131026S0701-59944_25"
       ]
      },
      {
       "output_type": "stream",
       "stream": "stdout",
       "text": [
        "\n",
        " none                    flat                    1.0000 \n"
       ]
      },
      {
       "output_type": "stream",
       "stream": "stdout",
       "text": [
        " \n",
        "NSREDUCE exit status: good.\n",
        "------------------------------------------------------------------------------\n"
       ]
      }
     ],
     "prompt_number": 6
    },
    {
     "cell_type": "heading",
     "level": 2,
     "metadata": {},
     "source": [
      "STEP 10:  Combine the reduced telluric datasets"
     ]
    },
    {
     "cell_type": "code",
     "collapsed": false,
     "input": [
      "iraf.imdelete('tel_comb.fits', verify='no')\n",
      "iraf.nscombine('rdf@tel.lis', output='tel_comb.fits', fl_shiftint='no', fl_cross='yes')\n",
      "\n",
      "iraf.display('tel_comb.fits[SCI,1]', 1)\n"
     ],
     "language": "python",
     "metadata": {},
     "outputs": [
      {
       "output_type": "stream",
       "stream": "stdout",
       "text": [
        "--------------------------------------------------------------------------------\n",
        "NSCOMBINE: Wed Sep 24 16:38:10 HST 2014\n",
        " \n",
        "Shifting and combining to single file.\n",
        "Input images = rdf@tel.lis\n",
        "rdfS20131026S0699\n"
       ]
      },
      {
       "output_type": "stream",
       "stream": "stdout",
       "text": [
        "rdfS20131026S0700\n"
       ]
      },
      {
       "output_type": "stream",
       "stream": "stdout",
       "text": [
        "rdfS20131026S0701\n"
       ]
      },
      {
       "output_type": "stream",
       "stream": "stdout",
       "text": [
        "rdfS20131026S0702\n"
       ]
      },
      {
       "output_type": "stream",
       "stream": "stdout",
       "text": [
        "Bad pixel mask = \n",
        "Offset tolerance = 0.5\n",
        "Statistics section = [*,*]\n",
        "Combine algorithm = average\n",
        "Rejection algorithm = sigclip\n",
        "Use integer pixel shifts? no\n",
        "Boundary extension  = nearest\n",
        "NSCOMBINE: Unshifted images:"
       ]
      },
      {
       "output_type": "stream",
       "stream": "stdout",
       "text": [
        "\n",
        "rdfS20131026S0699\n",
        "rdfS20131026S0702\n"
       ]
      },
      {
       "output_type": "stream",
       "stream": "stdout",
       "text": [
        "------------------------------------------------------------------------------\n",
        "NSOFFSET -- Wed Sep 24 16:38:12 HST 2014\n",
        " \n"
       ]
      },
      {
       "output_type": "stream",
       "stream": "stdout",
       "text": [
        "NSOFFSET: Calculating cross correlation (please wait).\n",
        "NSOFFSET: Integer offset for rdfS20131026S0700 is 167."
       ]
      },
      {
       "output_type": "stream",
       "stream": "stdout",
       "text": [
        "\n"
       ]
      },
      {
       "output_type": "stream",
       "stream": "stdout",
       "text": [
        "NSOFFSET: Final offset for rdfS20131026S0700 is 166.9.\n"
       ]
      },
      {
       "output_type": "stream",
       "stream": "stdout",
       "text": [
        "NSOFFSET: Shifting rdfS20131026S0700-59944_149 WCS in X by 166.9 pixels.\n"
       ]
      },
      {
       "output_type": "stream",
       "stream": "stdout",
       "text": [
        "NSOFFSET: Shifting rdfS20131026S0701-59944_150 WCS in X by 166.9 pixels.\n"
       ]
      },
      {
       "output_type": "stream",
       "stream": "stdout",
       "text": [
        " \n",
        "NSOFFSET exit status: good.\n",
        "-------------------------------------------------------------------------------\n",
        "NSCOMBINE: Images shifted by -166.833611575,0.0:"
       ]
      },
      {
       "output_type": "stream",
       "stream": "stdout",
       "text": [
        "\n",
        "rdfS20131026S0700-59944_149\n",
        "rdfS20131026S0701-59944_150\n"
       ]
      },
      {
       "output_type": "stream",
       "stream": "stdout",
       "text": [
        "10% "
       ]
      },
      {
       "output_type": "stream",
       "stream": "stdout",
       "text": [
        "20% "
       ]
      },
      {
       "output_type": "stream",
       "stream": "stdout",
       "text": [
        "30% "
       ]
      },
      {
       "output_type": "stream",
       "stream": "stdout",
       "text": [
        "40% "
       ]
      },
      {
       "output_type": "stream",
       "stream": "stdout",
       "text": [
        "50% "
       ]
      },
      {
       "output_type": "stream",
       "stream": "stdout",
       "text": [
        "60% "
       ]
      },
      {
       "output_type": "stream",
       "stream": "stdout",
       "text": [
        "70% "
       ]
      },
      {
       "output_type": "stream",
       "stream": "stdout",
       "text": [
        "80% "
       ]
      },
      {
       "output_type": "stream",
       "stream": "stdout",
       "text": [
        "90% "
       ]
      },
      {
       "output_type": "stream",
       "stream": "stdout",
       "text": [
        "100% "
       ]
      },
      {
       "output_type": "stream",
       "stream": "stdout",
       "text": [
        "- done\n"
       ]
      },
      {
       "output_type": "stream",
       "stream": "stdout",
       "text": [
        "10% "
       ]
      },
      {
       "output_type": "stream",
       "stream": "stdout",
       "text": [
        "20% "
       ]
      },
      {
       "output_type": "stream",
       "stream": "stdout",
       "text": [
        "30% "
       ]
      },
      {
       "output_type": "stream",
       "stream": "stdout",
       "text": [
        "40% "
       ]
      },
      {
       "output_type": "stream",
       "stream": "stdout",
       "text": [
        "50% "
       ]
      },
      {
       "output_type": "stream",
       "stream": "stdout",
       "text": [
        "60% "
       ]
      },
      {
       "output_type": "stream",
       "stream": "stdout",
       "text": [
        "70% "
       ]
      },
      {
       "output_type": "stream",
       "stream": "stdout",
       "text": [
        "80% "
       ]
      },
      {
       "output_type": "stream",
       "stream": "stdout",
       "text": [
        "90% "
       ]
      },
      {
       "output_type": "stream",
       "stream": "stdout",
       "text": [
        "100% "
       ]
      },
      {
       "output_type": "stream",
       "stream": "stdout",
       "text": [
        "- done\n"
       ]
      },
      {
       "output_type": "stream",
       "stream": "stdout",
       "text": [
        "WARNING - GEMCOMBINE: five or less images to combine.\n"
       ]
      },
      {
       "output_type": "stream",
       "stream": "stdout",
       "text": [
        "NSCOMBINE: Exit status good.\n",
        "--------------------------------------------------------------------------------\n",
        "z1=-31.87432 z2=31.72818\n"
       ]
      }
     ],
     "prompt_number": 7
    },
    {
     "cell_type": "heading",
     "level": 2,
     "metadata": {},
     "source": [
      "STEP 11:  Wavelength calibrate the telluric data"
     ]
    },
    {
     "cell_type": "code",
     "collapsed": false,
     "input": [],
     "language": "python",
     "metadata": {},
     "outputs": []
    }
   ],
   "metadata": {}
  }
 ]
}