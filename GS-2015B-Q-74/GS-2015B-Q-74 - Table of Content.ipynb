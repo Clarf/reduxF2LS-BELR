{
 "metadata": {
  "name": "",
  "signature": "sha256:4d9df40d64527f1c7a4872b4a19375f77ac56b0f01a24ec19bfa126ed977f84f"
 },
 "nbformat": 3,
 "nbformat_minor": 0,
 "worksheets": [
  {
   "cells": [
    {
     "cell_type": "heading",
     "level": 1,
     "metadata": {},
     "source": [
      "Table of Content for GS-2015B-Q-74"
     ]
    },
    {
     "cell_type": "markdown",
     "metadata": {},
     "source": [
      "**Targets**\n",
      "\n",
      "* SDSSJ034025.48-000819.8\n",
      "    * [QuickLook - HK - Data Reduction Notebook](SDSSJ034025.48-000819.8/Quicklook-HK-SDSSJ034025.ipynb)\n",
      "    * [QuickLook - JH - Data Reduction Notebook](SDSSJ034025.48-000819.8/Quicklook-JH-SDSSJ034025.ipynb)\n",
      "    <br><br>\n",
      "    * [Science - HK - Data Reduction Notebook](SDSSJ034025.48-000819.8/Science-HK-SDSSJ034025.ipynb)\n",
      "    * [Science - HK - Data Reduction Notebook](SDSSJ034025.48-000819.8/Science-HK-SDSSJ034025.ipynb)\n",
      "\n",
      "\n",
      "* SDSSJ212130.14-000527.1\n",
      "    * [QuickLook - HK - Data Reduction Notebook](SDSSJ212130.14-000527.1/Quicklook-HK-SDSSJ212130.ipynb)\n",
      "    * [QuickLook - JH - Data Reduction Notebook](SDSSJ212130.14-000527.1/Quicklook-JH-SDSSJ212130.ipynb)\n",
      "    <br><br>\n",
      "    * [Science - HK - Data Reduction Notebook](SDSSJ212130.14-000527.1/Science-HK-SDSSJ212130.ipynb)\n",
      "    * [Science - HK - Data Reduction Notebook](SDSSJ212130.14-000527.1/Science-HK-SDSSJ212130.ipynb)\n",
      "\n",
      "\n",
      "* SDSSJ214123.56-002846.5\n",
      "    * [QuickLook - HK - Data Reduction Notebook](SDSSJ214123.56-002846.5/Quicklook-HK-SDSSJ214123.ipynb)\n",
      "    * [QuickLook - JH - Data Reduction Notebook](SDSSJ214123.56-002846.5/Quicklook-JH-SDSSJ214123.ipynb)\n",
      "    <br><br>\n",
      "    * [Science - HK - Data Reduction Notebook](SDSSJ214123.56-002846.5/Science-HK-SDSSJ214123.ipynb)\n",
      "    * [Science - HK - Data Reduction Notebook](SDSSJ214123.56-002846.5/Science-HK-SDSSJ214123.ipynb)\n",
      "\n",
      "\n",
      "* SDSSJ214613.31+000930.8\n",
      "    * [QuickLook - HK - Data Reduction Notebook](SDSSJ214613.31+000930.8/Quicklook-HK-SDSSJ214613.ipynb)\n",
      "    * [QuickLook - JH - Data Reduction Notebook](SDSSJ214613.31+000930.8/Quicklook-JH-SDSSJ214613.ipynb)\n",
      "    <br><br>\n",
      "    * [Science - HK - Data Reduction Notebook](SDSSJ214613.31+000930.8/Science-HK-SDSSJ214613.ipynb)\n",
      "    * [Science - HK - Data Reduction Notebook](SDSSJ214613.31+000930.8/Science-HK-SDSSJ214613.ipynb)\n",
      "\n",
      "\n",
      "* SDSSJ220749.50-002813.3\n",
      "    * [QuickLook - HK - Data Reduction Notebook](SDSSJ220749.50-002813.3/Quicklook-HK-SDSSJ220749.ipynb)\n",
      "    * [QuickLook - JH - Data Reduction Notebook](SDSSJ220749.50-002813.3/Quicklook-JH-SDSSJ220749.ipynb)\n",
      "    <br><br>\n",
      "    * [Science - HK - Data Reduction Notebook](SDSSJ220749.50-002813.3/Science-HK-SDSSJ220749.ipynb)\n",
      "    * [Science - HK - Data Reduction Notebook](SDSSJ220749.50-002813.3/Science-HK-SDSSJ220749.ipynb)\n",
      "\n",
      "\n",
      "* SDSSJ231645.08-001129.4\n",
      "    * [QuickLook - HK - Data Reduction Notebook](SDSSJ231645.08-001129.4/Quicklook-HK-SDSSJ231645.ipynb)\n",
      "    * [QuickLook - JH - Data Reduction Notebook](SDSSJ231645.08-001129.4/Quicklook-JH-SDSSJ231645.ipynb)\n",
      "    <br><br>\n",
      "    * [Science - HK - Data Reduction Notebook](SDSSJ231645.08-001129.4/Science-HK-SDSSJ231645.ipynb)\n",
      "    * [Science - HK - Data Reduction Notebook](SDSSJ231645.08-001129.4/Science-HK-SDSSJ231645.ipynb)\n"
     ]
    },
    {
     "cell_type": "code",
     "collapsed": false,
     "input": [],
     "language": "python",
     "metadata": {},
     "outputs": []
    }
   ],
   "metadata": {}
  }
 ]
}