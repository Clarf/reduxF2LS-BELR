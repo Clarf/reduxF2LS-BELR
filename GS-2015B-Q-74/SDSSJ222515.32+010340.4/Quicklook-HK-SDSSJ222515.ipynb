{
 "metadata": {
  "name": "",
  "signature": "sha256:aac5f1be64b7cb1607c349d8e9ba626608e1dc69cfc3efab621ac1d7c9ab6b1d"
 },
 "nbformat": 3,
 "nbformat_minor": 0,
 "worksheets": [
  {
   "cells": [
    {
     "cell_type": "heading",
     "level": 1,
     "metadata": {},
     "source": [
      "F2 Longslit HK Reduction of SDSSJ222515.32+010340.4"
     ]
    },
    {
     "cell_type": "markdown",
     "metadata": {},
     "source": [
      "----\n",
      "Science Dataset:\n",
      "----------------\n",
      "<table>\n",
      "<tr><td> <strong>Redshift</strong> </td> <td>0.6037</td></tr>\n",
      "</table>\n",
      "\n",
      "<table>\n",
      "    <tr><td> <strong>Observation UT date</strong> </td> <td>2015 Sep 4, \\*2015 Sep 5</td></tr>\n",
      "    <tr><td> <strong>Data filename prefix</strong> </td><td>S20150904S, \\*S20150905S</td></tr>\n",
      "</table>\n",
      "<br>\n",
      "**File numbers:**\n",
      "<table>\n",
      "    <tr><td>Science </td>          <td>264-271 (HK, HK, 2pix-slit, 120s)</td></tr>\n",
      "    <tr><td>Darks for science </td><td>\\*37-43 (120s)</td></tr>\n",
      "    <tr><td>Flat </td>             <td>273     (HK, HK, 2pix-slit, 4s)</td></tr>\n",
      "    <tr><td>Darks for flat </td>   <td>83-89 (4s)</td></tr>\n",
      "    <tr><td>Arc </td>              <td>272    (HK, HK, 2pix-slit, 90s)</td></tr>\n",
      "    <tr><td>Darks for arc </td>    <td>167-173 (90s)</td></tr>\n",
      "</table>\n",
      "\n",
      "Telluric Dataset:\n",
      "-----------------\n",
      "<table>\n",
      "<tr><td> Name: </td><td>HIP 106382</td></tr>\n",
      "<tr><td> Spectral Type: </td><td>A0V</td></tr>\n",
      "<tr><td> Temperature: </td><td>$9,480 K$</td></tr>\n",
      "<tr><td> Airmass: </td><td>1.05</td></tr>\n",
      "<tr><td> Airmass Science: </td><td>1.19</td></tr>\n",
      "<tr><td> Delta Time: </td><td><font color=red>~70 min.</font> Tel_end=02:24, Sci_beg=03:35 </td></tr>\n",
      "</table>\n",
      "<table>\n",
      "    <tr><td> <strong>Observation UT date</strong> </td> <td>2015 Sep 4</td></tr>\n",
      "    <tr><td> <strong>Data filename prefix</strong> </td><td>S20150904S</td></tr>\n",
      "</table>\n",
      "\n",
      "**File numbers:**\n",
      "<table>\n",
      "    <tr><td>Telluric (HIP 112790) </td><td>236-239 (HK, HK, 2pix-slit, 15s)</td></tr>\n",
      "    <tr><td>Darks for telluric </td> <td>118-124 (15s)</td></tr>\n",
      "    <tr><td>Flat </td>               <td>273     (HK, HK, 2pix-slit, 4s)</td></tr>\n",
      "    <tr><td>Darks for flat </td>     <td>83-89 (4s)</td></tr>\n",
      "    <tr><td>Arc </td>                <td>240     (HK, HK, 2pix-slit, 90s)</td></tr>\n",
      "    <tr><td>Darks for arc </td>      <td>167-173 (90s)</td></tr>\n",
      "</table>\n",
      "\n",
      "----"
     ]
    },
    {
     "cell_type": "heading",
     "level": 2,
     "metadata": {},
     "source": [
      "STEP 0: Define variables specific to this target and start parallel PyRAF session."
     ]
    },
    {
     "cell_type": "code",
     "collapsed": false,
     "input": [
      "import os\n",
      "# UPDATE DATE IN REDUX_DIR\n",
      "#redux_dir = '/Users/ckenyon/Gemini/GS-2013B-Q-73/SDSSJ232652.96-003012.6/20131203-05Mar2015/reduxHK'\n",
      "redux_dir = '/Volumes/MyRugged/research/BELR/GS-2015B-Q-74/SDSSJ222515.32+010340.4/quicklook/reduxHK'\n",
      "os.chdir(redux_dir)\n",
      "\n",
      "logfile = \"HK222515.log\"\n",
      "database = \"HK222515_database/\"\n",
      "raw_data_path = \"../../../raw/\"\n",
      "flatroot = \"S20150904S\" ; flats = \"273\"\n",
      "flatdarkroot = \"S20150904S\" ; flatdarks = \"83-89\"\n",
      "arcroot = \"S20150904S\" ; arcs = \"272\"\n",
      "arcdarkroot = \"S20150904S\" ; arcdarks = \"167-173\"\n",
      "objroot = \"S20150904S\" ; objs = \"264-271\"\n",
      "objdarkroot = \"S20150905S\" ; objdarks = \"37-43\"\n",
      "telroot = \"S20150904S\" ; tels = \"236-239\"\n",
      "teldarkroot = \"S20150904S\" ; teldarks = \"118-124\"\n",
      "telarcroot = \"S20150904S\" ; telarcs = \"240\"\n",
      "telarcdarkroot = \"S20150904S\" ; telarcdarks = \"167-173\"\n",
      "\n",
      "lxorder=3 ; lyorder=8  # used by nsfitcoords.  \n",
      "                       # Values are determine in Step 8."
     ],
     "language": "python",
     "metadata": {},
     "outputs": [],
     "prompt_number": 1
    },
    {
     "cell_type": "heading",
     "level": 4,
     "metadata": {},
     "source": [
      "Now get a PyRAF session ready.  This will be needed for some interactive tasks that don't work well in the notebook. "
     ]
    },
    {
     "cell_type": "markdown",
     "metadata": {},
     "source": [
      "Open an xterm or a Terminal, then:\n",
      "\n",
      "\n",
      "UPDATE DATE HERE TOO\n",
      "\n",
      "    cd '/Volumes/MyRugged/research/BELR/GS-2015B-Q-74/SDSSJ222515.32+010340.4/quicklook/reduxHK'\n",
      "    pyraf"
     ]
    },
    {
     "cell_type": "markdown",
     "metadata": {},
     "source": [
      "Then in the PyRAF session:\n",
      "\n",
      "    gemini\n",
      "    f2\n",
      "    unlearn gemini\n",
      "    unlearn f2\n",
      "    unlearn gnirs\n",
      "    unlearn gemtools"
     ]
    },
    {
     "cell_type": "markdown",
     "metadata": {},
     "source": [
      "Get your PyRAF configured.  In the PyRAF session:\n",
      "\n",
      "    iraf.f2.logfile = \"HK222515.log\"\n",
      "    iraf.f2.database = \"HK222515_database/\"\n",
      "    set rawdir = \"../../../raw/\"\n",
      "    set stdimage=imt2048\n",
      "    nsheaders('f2', logfile=iraf.f2.logfile)"
     ]
    },
    {
     "cell_type": "heading",
     "level": 2,
     "metadata": {},
     "source": [
      "STEP 1: Initialize the required packages"
     ]
    },
    {
     "cell_type": "heading",
     "level": 4,
     "metadata": {},
     "source": [
      "Launch ds9 before proceeding further."
     ]
    },
    {
     "cell_type": "heading",
     "level": 4,
     "metadata": {},
     "source": [
      "Load the packages required for the notebook session."
     ]
    },
    {
     "cell_type": "code",
     "collapsed": false,
     "input": [
      "from pyraf import iraf\n",
      "iraf.gemini()\n",
      "iraf.f2()"
     ],
     "language": "python",
     "metadata": {},
     "outputs": [
      {
       "output_type": "stream",
       "stream": "stdout",
       "text": [
        "This is the initial release of the IRAF FITSUTIL package\n",
        "to include support for FITS tile compression via 'fpack'.\n",
        "Please send comments and questions to seaman@noao.edu.\n",
        "\n",
        " \n",
        "     +------------------- Gemini IRAF Package -------------------+\n",
        "     |              Version 1.13, January 30, 2015               |\n",
        "     |             Requires IRAF v2.14.1 or greater              |\n",
        "     |              Tested with Ureka IRAF v2.16                 |\n",
        "     |             Gemini Observatory, Hilo, Hawaii              |\n",
        "     |    Please use the help desk for submission of questions   |\n",
        "     |  http://www.gemini.edu/sciops/helpdesk/helpdeskIndex.html |\n",
        "     +-----------------------------------------------------------+\n",
        " \n",
        "     Warning setting imtype=fits\n",
        "     Warning setting use_new_imt=no\n",
        " \n",
        "gemini/:\n",
        " f2/            gmos/           midir/          oscir/\n",
        " flamingos/     gnirs/          nifs/           quirc/\n",
        " gemtools/      gsaoi/          niri/\n"
       ]
      },
      {
       "output_type": "stream",
       "stream": "stdout",
       "text": [
        "\n",
        "Loading the gnirs package:\n",
        "gnirs/:\n",
        " gnirsexamples  nfflt2pin       nsextract       nsreduce        nstransform\n",
        " gnirsinfo      nfquick         nsfitcoords     nsressky        nswavelength\n",
        " gnirsinfoifu   nsappwave       nsflat          nssdist         nswedit\n",
        " gnirsinfols    nscombine       nsheaders       nsslitfunction  nvnoise\n",
        " gnirsinfoxd    nscut           nsoffset        nsstack         nxdisplay\n",
        " nfcube         nsedge          nsprepare       nstelluric\n",
        "\n",
        "Loading the niri package:\n",
        "niri/:\n",
        " nifastsky      nireduce        niriinfo        nisky           nprepare\n",
        " niflat         niriexamples    nirotate        nisupersky      nresidual\n",
        "\n",
        "Loading the f2 package:\n",
        "f2/:\n",
        " f2cut          f2examples      f2infoimaging   f2infomos\n",
        " f2display      f2info          f2infols        f2prepare\n"
       ]
      }
     ],
     "prompt_number": 2
    },
    {
     "cell_type": "markdown",
     "metadata": {},
     "source": [
      "Reset tasks to the default parameters.  (Note: this doesn't seem to be working from the Python shell.)"
     ]
    },
    {
     "cell_type": "code",
     "collapsed": false,
     "input": [
      "iraf.unlearn(iraf.gemini, iraf.f2, iraf.gnirs, iraf.gemtools)"
     ],
     "language": "python",
     "metadata": {},
     "outputs": [],
     "prompt_number": 3
    },
    {
     "cell_type": "heading",
     "level": 2,
     "metadata": {},
     "source": [
      "STEP 2: Define various parameters and variables."
     ]
    },
    {
     "cell_type": "code",
     "collapsed": false,
     "input": [
      "iraf.f2.logfile = logfile\n",
      "iraf.f2.database = database\n",
      "rawdir = raw_data_path\n",
      "iraf.set(stdimage='imt2048')\n",
      "\n",
      "iraf.nsheaders('f2', logfile=iraf.f2.logfile)"
     ],
     "language": "python",
     "metadata": {},
     "outputs": [
      {
       "output_type": "stream",
       "stream": "stdout",
       "text": [
        "------------------------------------------------------------------------------\n"
       ]
      },
      {
       "output_type": "stream",
       "stream": "stdout",
       "text": [
        "NSHEADERS -- Sun Sep  6 16:44:14 HST 2015\n",
        "\n"
       ]
      },
      {
       "output_type": "stream",
       "stream": "stdout",
       "text": [
        "setting header keywords\n",
        "setting niflat.thresh_flo, niflat.thresh_fup, niflat.thresh_dlo,\n",
        "   and niflat.thresh_dup.\n",
        "setting niflat.statsec\n",
        "setting nifastsky.statsec\n",
        "setting nisky.statsec\n",
        "setting nireduce.statsec\n",
        "setting nsflat.statsec and fitsec\n",
        "setting nswavelength.coordlist, nswavelength.threshold, and\n",
        "   nswavelength.fl_median.\n",
        "setting the default logfile\n",
        "setting the default database\n"
       ]
      }
     ],
     "prompt_number": 4
    },
    {
     "cell_type": "markdown",
     "metadata": {},
     "source": [
      "*If necessary to start from scratch, delete the log file and the database.*"
     ]
    },
    {
     "cell_type": "code",
     "collapsed": false,
     "input": [
      "if (iraf.access(iraf.f2.logfile)):\n",
      "    iraf.delete(iraf.f2.logfile, verify='no')\n",
      "if (iraf.access(iraf.f2.database)):\n",
      "    iraf.delete(iraf.f2.database + '*', verify='no')"
     ],
     "language": "python",
     "metadata": {},
     "outputs": [],
     "prompt_number": 5
    },
    {
     "cell_type": "heading",
     "level": 2,
     "metadata": {},
     "source": [
      "STEP 3: Create the reduction lists"
     ]
    },
    {
     "cell_type": "code",
     "collapsed": false,
     "input": [
      "iraf.delete('flat.lis, flatdark.lis, arc.lis, arcdark.lis, obj.lis, objdark.lis, \\\n",
      "    tel.lis, teldark.lis, telarc.lis, telarcdark.lis', verify='no')\n",
      "\n",
      "iraf.gemlist(flatroot, flats, Stdout='flat.lis')\n",
      "iraf.gemlist(flatdarkroot, flatdarks, Stdout='flatdark.lis')\n",
      "iraf.gemlist(arcroot, arcs, Stdout='arc.lis')\n",
      "iraf.gemlist(arcdarkroot, arcdarks, Stdout='arcdark.lis')\n",
      "iraf.gemlist(objroot, objs, Stdout='obj.lis')\n",
      "iraf.gemlist(objdarkroot, objdarks, Stdout='objdark.lis')\n",
      "iraf.gemlist(telroot, tels, Stdout='tel.lis')\n",
      "iraf.gemlist(teldarkroot, teldarks, Stdout='teldark.lis')\n",
      "iraf.gemlist(telarcroot, telarcs, Stdout='telarc.lis')\n",
      "iraf.gemlist(telarcdarkroot, telarcdarks, Stdout='telarcdark.lis')\n",
      "\n",
      "iraf.concat('flat.lis, flatdark.lis, arc.lis, arcdark.lis, obj.lis, objdark.lis, \\\n",
      "    tel.lis, teldark.lis, telarc.lis, telarcdark.lis', 'all.lis')\n",
      "\n",
      "# remove duplicates\n",
      "all_file = open('all.lis', 'r')\n",
      "all_lines = all_file.readlines()\n",
      "all_file.close()\n",
      "lines_seen = list()\n",
      "for line in all_lines:\n",
      "    if line not in lines_seen:\n",
      "        lines_seen.append(line)\n",
      "all_file = open('all.lis', 'w')\n",
      "all_file.writelines(lines_seen)\n",
      "all_file.close()\n"
     ],
     "language": "python",
     "metadata": {},
     "outputs": [
      {
       "output_type": "stream",
       "stream": "stderr",
       "text": [
        "Warning: Cannot delete file (flat.lis)\n"
       ]
      },
      {
       "output_type": "stream",
       "stream": "stderr",
       "text": [
        "Warning: Cannot delete file (flatdark.lis)\n"
       ]
      },
      {
       "output_type": "stream",
       "stream": "stderr",
       "text": [
        "Warning: Cannot delete file (arc.lis)\n"
       ]
      },
      {
       "output_type": "stream",
       "stream": "stderr",
       "text": [
        "Warning: Cannot delete file (arcdark.lis)\n"
       ]
      },
      {
       "output_type": "stream",
       "stream": "stderr",
       "text": [
        "Warning: Cannot delete file (obj.lis)\n"
       ]
      },
      {
       "output_type": "stream",
       "stream": "stderr",
       "text": [
        "Warning: Cannot delete file (objdark.lis)\n"
       ]
      },
      {
       "output_type": "stream",
       "stream": "stderr",
       "text": [
        "Warning: Cannot delete file (tel.lis)\n"
       ]
      },
      {
       "output_type": "stream",
       "stream": "stderr",
       "text": [
        "Warning: Cannot delete file (teldark.lis)\n"
       ]
      },
      {
       "output_type": "stream",
       "stream": "stderr",
       "text": [
        "Warning: Cannot delete file (telarc.lis)\n"
       ]
      },
      {
       "output_type": "stream",
       "stream": "stderr",
       "text": [
        "Warning: Cannot delete file (telarcdark.lis)\n"
       ]
      }
     ],
     "prompt_number": 6
    },
    {
     "cell_type": "heading",
     "level": 2,
     "metadata": {},
     "source": [
      "STEP 4: Visually inspect the data"
     ]
    },
    {
     "cell_type": "code",
     "collapsed": false,
     "input": [
      "all_file = open('all.lis', 'r')\n",
      "for line in all_file:\n",
      "    image = line.strip() + '[1]'\n",
      "    print image\n",
      "    iraf.display(rawdir + image, 1)\n",
      "    iraf.sleep(5)\n",
      "    \n",
      "all_file.close()"
     ],
     "language": "python",
     "metadata": {},
     "outputs": [
      {
       "output_type": "stream",
       "stream": "stdout",
       "text": [
        "S20150904S0273[1]\n",
        "z1=-86. z2=5485.885\n"
       ]
      },
      {
       "output_type": "stream",
       "stream": "stdout",
       "text": [
        "S20150904S0083[1]\n",
        "z1=-77.26695 z2=187.532\n"
       ]
      },
      {
       "output_type": "stream",
       "stream": "stdout",
       "text": [
        "S20150904S0084[1]\n",
        "z1=-77. z2=188.949\n"
       ]
      },
      {
       "output_type": "stream",
       "stream": "stdout",
       "text": [
        "S20150904S0085[1]\n",
        "z1=-77. z2=194.1231\n"
       ]
      },
      {
       "output_type": "stream",
       "stream": "stdout",
       "text": [
        "S20150904S0086[1]\n",
        "z1=-82. z2=192.8943\n"
       ]
      },
      {
       "output_type": "stream",
       "stream": "stdout",
       "text": [
        "S20150904S0087[1]\n",
        "z1=-80. z2=190.5762\n"
       ]
      },
      {
       "output_type": "stream",
       "stream": "stdout",
       "text": [
        "S20150904S0088[1]\n",
        "z1=-76.05109 z2=185.3127\n"
       ]
      },
      {
       "output_type": "stream",
       "stream": "stdout",
       "text": [
        "S20150904S0089[1]\n",
        "z1=-77.82718 z2=186.0914\n"
       ]
      },
      {
       "output_type": "stream",
       "stream": "stdout",
       "text": [
        "S20150904S0272[1]\n",
        "z1=-56. z2=3701.772\n"
       ]
      },
      {
       "output_type": "stream",
       "stream": "stdout",
       "text": [
        "S20150904S0167[1]\n",
        "z1=-80. z2=198.2132\n"
       ]
      },
      {
       "output_type": "stream",
       "stream": "stdout",
       "text": [
        "S20150904S0168[1]\n",
        "z1=-77. z2=197.1598\n"
       ]
      },
      {
       "output_type": "stream",
       "stream": "stdout",
       "text": [
        "S20150904S0169[1]\n",
        "z1=-85.91255 z2=200.199\n"
       ]
      },
      {
       "output_type": "stream",
       "stream": "stdout",
       "text": [
        "S20150904S0170[1]\n",
        "z1=-84. z2=197.3367\n"
       ]
      },
      {
       "output_type": "stream",
       "stream": "stdout",
       "text": [
        "S20150904S0171[1]\n",
        "z1=-83. z2=195.8843\n"
       ]
      },
      {
       "output_type": "stream",
       "stream": "stdout",
       "text": [
        "S20150904S0172[1]\n",
        "z1=-78. z2=197.1683\n"
       ]
      },
      {
       "output_type": "stream",
       "stream": "stdout",
       "text": [
        "S20150904S0173[1]\n",
        "z1=-77. z2=198.1463\n"
       ]
      },
      {
       "output_type": "stream",
       "stream": "stdout",
       "text": [
        "S20150904S0264[1]\n",
        "z1=-214. z2=15018.12\n"
       ]
      },
      {
       "output_type": "stream",
       "stream": "stdout",
       "text": [
        "S20150904S0265[1]\n",
        "z1=-151. z2=15259.21\n"
       ]
      },
      {
       "output_type": "stream",
       "stream": "stdout",
       "text": [
        "S20150904S0266[1]\n",
        "z1=-139. z2=15268.58\n"
       ]
      },
      {
       "output_type": "stream",
       "stream": "stdout",
       "text": [
        "S20150904S0267[1]\n",
        "z1=-150. z2=15793.85\n"
       ]
      },
      {
       "output_type": "stream",
       "stream": "stdout",
       "text": [
        "S20150904S0268[1]\n",
        "z1=-129. z2=16013.61\n"
       ]
      },
      {
       "output_type": "stream",
       "stream": "stdout",
       "text": [
        "S20150904S0269[1]\n",
        "z1=-142. z2=15536.36\n"
       ]
      },
      {
       "output_type": "stream",
       "stream": "stdout",
       "text": [
        "S20150904S0270[1]\n",
        "z1=-147. z2=15427.61\n"
       ]
      },
      {
       "output_type": "stream",
       "stream": "stdout",
       "text": [
        "S20150904S0271[1]\n",
        "z1=-121. z2=14683.81\n"
       ]
      },
      {
       "output_type": "stream",
       "stream": "stdout",
       "text": [
        "S20150905S0037[1]\n",
        "z1=-139. z2=371.9926\n"
       ]
      },
      {
       "output_type": "stream",
       "stream": "stdout",
       "text": [
        "S20150905S0038[1]\n",
        "z1=-139. z2=341.4297\n"
       ]
      },
      {
       "output_type": "stream",
       "stream": "stdout",
       "text": [
        "S20150905S0039[1]\n",
        "z1=-110. z2=388.0671\n"
       ]
      },
      {
       "output_type": "stream",
       "stream": "stdout",
       "text": [
        "S20150905S0040[1]\n",
        "z1=-136. z2=384.0284\n"
       ]
      },
      {
       "output_type": "stream",
       "stream": "stdout",
       "text": [
        "S20150905S0041[1]\n",
        "z1=-118. z2=349.5498\n"
       ]
      },
      {
       "output_type": "stream",
       "stream": "stdout",
       "text": [
        "S20150905S0042[1]\n",
        "z1=-104. z2=358.4643\n"
       ]
      },
      {
       "output_type": "stream",
       "stream": "stdout",
       "text": [
        "S20150905S0043[1]\n",
        "z1=-105. z2=345.2783\n"
       ]
      },
      {
       "output_type": "stream",
       "stream": "stdout",
       "text": [
        "S20150904S0236[1]\n",
        "z1=-79. z2=389.0554\n"
       ]
      },
      {
       "output_type": "stream",
       "stream": "stdout",
       "text": [
        "S20150904S0237[1]\n",
        "z1=-85. z2=395.1837\n"
       ]
      },
      {
       "output_type": "stream",
       "stream": "stdout",
       "text": [
        "S20150904S0238[1]\n",
        "z1=-84. z2=385.0046\n"
       ]
      },
      {
       "output_type": "stream",
       "stream": "stdout",
       "text": [
        "S20150904S0239[1]\n",
        "z1=-85. z2=389.5177\n"
       ]
      },
      {
       "output_type": "stream",
       "stream": "stdout",
       "text": [
        "S20150904S0118[1]\n",
        "z1=-75.49026 z2=183.7498\n"
       ]
      },
      {
       "output_type": "stream",
       "stream": "stdout",
       "text": [
        "S20150904S0119[1]\n",
        "z1=-74.93651 z2=183.1949\n"
       ]
      },
      {
       "output_type": "stream",
       "stream": "stdout",
       "text": [
        "S20150904S0120[1]\n",
        "z1=-79.33835 z2=189.6076\n"
       ]
      },
      {
       "output_type": "stream",
       "stream": "stdout",
       "text": [
        "S20150904S0121[1]\n",
        "z1=-71.23622 z2=179.4872\n"
       ]
      },
      {
       "output_type": "stream",
       "stream": "stdout",
       "text": [
        "S20150904S0122[1]\n",
        "z1=-72. z2=185.8421\n"
       ]
      },
      {
       "output_type": "stream",
       "stream": "stdout",
       "text": [
        "S20150904S0123[1]\n",
        "z1=-82. z2=192.9111\n"
       ]
      },
      {
       "output_type": "stream",
       "stream": "stdout",
       "text": [
        "S20150904S0124[1]\n",
        "z1=-81.15237 z2=189.4232\n"
       ]
      },
      {
       "output_type": "stream",
       "stream": "stdout",
       "text": [
        "S20150904S0240[1]\n",
        "z1=-69. z2=3665.309\n"
       ]
      }
     ],
     "prompt_number": 7
    },
    {
     "cell_type": "heading",
     "level": 2,
     "metadata": {},
     "source": [
      "STEP 5: f2prepare all the data"
     ]
    },
    {
     "cell_type": "code",
     "collapsed": false,
     "input": [
      "iraf.imdelete('f@all.lis', verify='no')\n",
      "iraf.f2prepare('@all.lis', rawpath=rawdir, fl_vardq='yes', fl_correct='yes', \\\n",
      "               fl_saturated='yes', fl_nonlinear='yes')"
     ],
     "language": "python",
     "metadata": {},
     "outputs": [
      {
       "output_type": "stream",
       "stream": "stdout",
       "text": [
        "----------------------------------------------------------------------------\n",
        "F2PREPARE -- Sun Sep  6 16:48:52 HST 2015\n",
        " \n",
        "\n"
       ]
      },
      {
       "output_type": "stream",
       "stream": "stdout",
       "text": [
        "Processing 43 files\n"
       ]
      },
      {
       "output_type": "stream",
       "stream": "stdout",
       "text": [
        "WARNING - F2PREPARE: Bad pixel mask is either an empty string or contains\n",
        "                     spaces. Not using BPM to generate data quality plane.\n",
        " \n",
        "  n      input file -->      output file\n",
        "                 filter     focal plane       input BPM   RON  gain     sat\n",
        " \n"
       ]
      },
      {
       "output_type": "stream",
       "stream": "stdout",
       "text": [
        "  1 ../../../raw/S20150904S0273 -->  fS20150904S0273 \n",
        "                     HK       2pix-slit            none  11.7   4.4   35000 \n"
       ]
      },
      {
       "output_type": "stream",
       "stream": "stdout",
       "text": [
        "  2 ../../../raw/S20150904S0083 -->  fS20150904S0083 \n",
        "                   Dark      2-pix_grid            none  11.7   4.4   35000 \n"
       ]
      },
      {
       "output_type": "stream",
       "stream": "stdout",
       "text": [
        "  3 ../../../raw/S20150904S0084 -->  fS20150904S0084 \n",
        "                   Dark      2-pix_grid            none  11.7   4.4   35000 \n"
       ]
      },
      {
       "output_type": "stream",
       "stream": "stdout",
       "text": [
        "  4 ../../../raw/S20150904S0085 -->  fS20150904S0085 \n",
        "                   Dark      2-pix_grid            none  11.7   4.4   35000 \n"
       ]
      },
      {
       "output_type": "stream",
       "stream": "stdout",
       "text": [
        "  5 ../../../raw/S20150904S0086 -->  fS20150904S0086 \n",
        "                   Dark      2-pix_grid            none  11.7   4.4   35000 \n"
       ]
      },
      {
       "output_type": "stream",
       "stream": "stdout",
       "text": [
        "  6 ../../../raw/S20150904S0087 -->  fS20150904S0087 \n",
        "                   Dark      2-pix_grid            none  11.7   4.4   35000 \n"
       ]
      },
      {
       "output_type": "stream",
       "stream": "stdout",
       "text": [
        "  7 ../../../raw/S20150904S0088 -->  fS20150904S0088 \n",
        "                   Dark      2-pix_grid            none  11.7   4.4   35000 \n"
       ]
      },
      {
       "output_type": "stream",
       "stream": "stdout",
       "text": [
        "  8 ../../../raw/S20150904S0089 -->  fS20150904S0089 \n",
        "                   Dark      2-pix_grid            none  11.7   4.4   35000 \n"
       ]
      },
      {
       "output_type": "stream",
       "stream": "stdout",
       "text": [
        "  9 ../../../raw/S20150904S0272 -->  fS20150904S0272 \n",
        "                     HK       2pix-slit            none  11.7   4.4   35000 \n"
       ]
      },
      {
       "output_type": "stream",
       "stream": "stdout",
       "text": [
        " 10 ../../../raw/S20150904S0167 -->  fS20150904S0167 \n",
        "                   Dark      2-pix_grid            none  11.7   4.4   35000 \n"
       ]
      },
      {
       "output_type": "stream",
       "stream": "stdout",
       "text": [
        " 11 ../../../raw/S20150904S0168 -->  fS20150904S0168 \n",
        "                   Dark      2-pix_grid            none  11.7   4.4   35000 \n"
       ]
      },
      {
       "output_type": "stream",
       "stream": "stdout",
       "text": [
        " 12 ../../../raw/S20150904S0169 -->  fS20150904S0169 \n",
        "                   Dark      2-pix_grid            none  11.7   4.4   35000 \n"
       ]
      },
      {
       "output_type": "stream",
       "stream": "stdout",
       "text": [
        " 13 ../../../raw/S20150904S0170 -->  fS20150904S0170 \n",
        "                   Dark      2-pix_grid            none  11.7   4.4   35000 \n"
       ]
      },
      {
       "output_type": "stream",
       "stream": "stdout",
       "text": [
        " 14 ../../../raw/S20150904S0171 -->  fS20150904S0171 \n",
        "                   Dark      2-pix_grid            none  11.7   4.4   35000 \n"
       ]
      },
      {
       "output_type": "stream",
       "stream": "stdout",
       "text": [
        " 15 ../../../raw/S20150904S0172 -->  fS20150904S0172 \n",
        "                   Dark      2-pix_grid            none  11.7   4.4   35000 \n"
       ]
      },
      {
       "output_type": "stream",
       "stream": "stdout",
       "text": [
        " 16 ../../../raw/S20150904S0173 -->  fS20150904S0173 \n",
        "                   Dark      2-pix_grid            none  11.7   4.4   35000 \n",
        "Dividing ../../../raw/S20150904S0264 by number of non-destructive reads: 8"
       ]
      },
      {
       "output_type": "stream",
       "stream": "stdout",
       "text": [
        "\n"
       ]
      },
      {
       "output_type": "stream",
       "stream": "stdout",
       "text": [
        " 17 ../../../raw/S20150904S0264 -->  fS20150904S0264 \n",
        "                     HK       2pix-slit            none   5.0   4.4   35000 \n",
        "Dividing ../../../raw/S20150904S0265 by number of non-destructive reads: 8"
       ]
      },
      {
       "output_type": "stream",
       "stream": "stdout",
       "text": [
        "\n"
       ]
      },
      {
       "output_type": "stream",
       "stream": "stdout",
       "text": [
        " 18 ../../../raw/S20150904S0265 -->  fS20150904S0265 \n",
        "                     HK       2pix-slit            none   5.0   4.4   35000 \n",
        "Dividing ../../../raw/S20150904S0266 by number of non-destructive reads: 8"
       ]
      },
      {
       "output_type": "stream",
       "stream": "stdout",
       "text": [
        "\n"
       ]
      },
      {
       "output_type": "stream",
       "stream": "stdout",
       "text": [
        " 19 ../../../raw/S20150904S0266 -->  fS20150904S0266 \n",
        "                     HK       2pix-slit            none   5.0   4.4   35000 \n",
        "Dividing ../../../raw/S20150904S0267 by number of non-destructive reads: 8"
       ]
      },
      {
       "output_type": "stream",
       "stream": "stdout",
       "text": [
        "\n"
       ]
      },
      {
       "output_type": "stream",
       "stream": "stdout",
       "text": [
        " 20 ../../../raw/S20150904S0267 -->  fS20150904S0267 \n",
        "                     HK       2pix-slit            none   5.0   4.4   35000 \n",
        "Dividing ../../../raw/S20150904S0268 by number of non-destructive reads: 8"
       ]
      },
      {
       "output_type": "stream",
       "stream": "stdout",
       "text": [
        "\n"
       ]
      },
      {
       "output_type": "stream",
       "stream": "stdout",
       "text": [
        " 21 ../../../raw/S20150904S0268 -->  fS20150904S0268 \n",
        "                     HK       2pix-slit            none   5.0   4.4   35000 \n",
        "Dividing ../../../raw/S20150904S0269 by number of non-destructive reads: 8"
       ]
      },
      {
       "output_type": "stream",
       "stream": "stdout",
       "text": [
        "\n"
       ]
      },
      {
       "output_type": "stream",
       "stream": "stdout",
       "text": [
        " 22 ../../../raw/S20150904S0269 -->  fS20150904S0269 \n",
        "                     HK       2pix-slit            none   5.0   4.4   35000 \n",
        "Dividing ../../../raw/S20150904S0270 by number of non-destructive reads: 8"
       ]
      },
      {
       "output_type": "stream",
       "stream": "stdout",
       "text": [
        "\n"
       ]
      },
      {
       "output_type": "stream",
       "stream": "stdout",
       "text": [
        " 23 ../../../raw/S20150904S0270 -->  fS20150904S0270 \n",
        "                     HK       2pix-slit            none   5.0   4.4   35000 \n",
        "Dividing ../../../raw/S20150904S0271 by number of non-destructive reads: 8"
       ]
      },
      {
       "output_type": "stream",
       "stream": "stdout",
       "text": [
        "\n"
       ]
      },
      {
       "output_type": "stream",
       "stream": "stdout",
       "text": [
        " 24 ../../../raw/S20150904S0271 -->  fS20150904S0271 \n",
        "                     HK       2pix-slit            none   5.0   4.4   35000 \n",
        "Dividing ../../../raw/S20150905S0037 by number of non-destructive reads: 8"
       ]
      },
      {
       "output_type": "stream",
       "stream": "stdout",
       "text": [
        "\n"
       ]
      },
      {
       "output_type": "stream",
       "stream": "stdout",
       "text": [
        " 25 ../../../raw/S20150905S0037 -->  fS20150905S0037 \n",
        "                   Dark      2-pix_grid            none   5.0   4.4   35000 \n",
        "Dividing ../../../raw/S20150905S0038 by number of non-destructive reads: 8"
       ]
      },
      {
       "output_type": "stream",
       "stream": "stdout",
       "text": [
        "\n"
       ]
      },
      {
       "output_type": "stream",
       "stream": "stdout",
       "text": [
        " 26 ../../../raw/S20150905S0038 -->  fS20150905S0038 \n",
        "                   Dark      2-pix_grid            none   5.0   4.4   35000 \n",
        "Dividing ../../../raw/S20150905S0039 by number of non-destructive reads: 8"
       ]
      },
      {
       "output_type": "stream",
       "stream": "stdout",
       "text": [
        "\n"
       ]
      },
      {
       "output_type": "stream",
       "stream": "stdout",
       "text": [
        " 27 ../../../raw/S20150905S0039 -->  fS20150905S0039 \n",
        "                   Dark      2-pix_grid            none   5.0   4.4   35000 \n",
        "Dividing ../../../raw/S20150905S0040 by number of non-destructive reads: 8"
       ]
      },
      {
       "output_type": "stream",
       "stream": "stdout",
       "text": [
        "\n"
       ]
      },
      {
       "output_type": "stream",
       "stream": "stdout",
       "text": [
        " 28 ../../../raw/S20150905S0040 -->  fS20150905S0040 \n",
        "                   Dark      2-pix_grid            none   5.0   4.4   35000 \n",
        "Dividing ../../../raw/S20150905S0041 by number of non-destructive reads: 8"
       ]
      },
      {
       "output_type": "stream",
       "stream": "stdout",
       "text": [
        "\n"
       ]
      },
      {
       "output_type": "stream",
       "stream": "stdout",
       "text": [
        " 29 ../../../raw/S20150905S0041 -->  fS20150905S0041 \n",
        "                   Dark      2-pix_grid            none   5.0   4.4   35000 \n",
        "Dividing ../../../raw/S20150905S0042 by number of non-destructive reads: 8"
       ]
      },
      {
       "output_type": "stream",
       "stream": "stdout",
       "text": [
        "\n"
       ]
      },
      {
       "output_type": "stream",
       "stream": "stdout",
       "text": [
        " 30 ../../../raw/S20150905S0042 -->  fS20150905S0042 \n",
        "                   Dark      2-pix_grid            none   5.0   4.4   35000 \n",
        "Dividing ../../../raw/S20150905S0043 by number of non-destructive reads: 8"
       ]
      },
      {
       "output_type": "stream",
       "stream": "stdout",
       "text": [
        "\n"
       ]
      },
      {
       "output_type": "stream",
       "stream": "stdout",
       "text": [
        " 31 ../../../raw/S20150905S0043 -->  fS20150905S0043 \n",
        "                   Dark      2-pix_grid            none   5.0   4.4   35000 \n"
       ]
      },
      {
       "output_type": "stream",
       "stream": "stdout",
       "text": [
        " 32 ../../../raw/S20150904S0236 -->  fS20150904S0236 \n",
        "                     HK       2pix-slit            none  11.7   4.4   35000 \n"
       ]
      },
      {
       "output_type": "stream",
       "stream": "stdout",
       "text": [
        " 33 ../../../raw/S20150904S0237 -->  fS20150904S0237 \n",
        "                     HK       2pix-slit            none  11.7   4.4   35000 \n"
       ]
      },
      {
       "output_type": "stream",
       "stream": "stdout",
       "text": [
        " 34 ../../../raw/S20150904S0238 -->  fS20150904S0238 \n",
        "                     HK       2pix-slit            none  11.7   4.4   35000 \n"
       ]
      },
      {
       "output_type": "stream",
       "stream": "stdout",
       "text": [
        " 35 ../../../raw/S20150904S0239 -->  fS20150904S0239 \n",
        "                     HK       2pix-slit            none  11.7   4.4   35000 \n"
       ]
      },
      {
       "output_type": "stream",
       "stream": "stdout",
       "text": [
        " 36 ../../../raw/S20150904S0118 -->  fS20150904S0118 \n",
        "                   Dark      2-pix_grid            none  11.7   4.4   35000 \n"
       ]
      },
      {
       "output_type": "stream",
       "stream": "stdout",
       "text": [
        " 37 ../../../raw/S20150904S0119 -->  fS20150904S0119 \n",
        "                   Dark      2-pix_grid            none  11.7   4.4   35000 \n"
       ]
      },
      {
       "output_type": "stream",
       "stream": "stdout",
       "text": [
        " 38 ../../../raw/S20150904S0120 -->  fS20150904S0120 \n",
        "                   Dark      2-pix_grid            none  11.7   4.4   35000 \n"
       ]
      },
      {
       "output_type": "stream",
       "stream": "stdout",
       "text": [
        " 39 ../../../raw/S20150904S0121 -->  fS20150904S0121 \n",
        "                   Dark      2-pix_grid            none  11.7   4.4   35000 \n"
       ]
      },
      {
       "output_type": "stream",
       "stream": "stdout",
       "text": [
        " 40 ../../../raw/S20150904S0122 -->  fS20150904S0122 \n",
        "                   Dark      2-pix_grid            none  11.7   4.4   35000 \n"
       ]
      },
      {
       "output_type": "stream",
       "stream": "stdout",
       "text": [
        " 41 ../../../raw/S20150904S0123 -->  fS20150904S0123 \n",
        "                   Dark      2-pix_grid            none  11.7   4.4   35000 \n"
       ]
      },
      {
       "output_type": "stream",
       "stream": "stdout",
       "text": [
        " 42 ../../../raw/S20150904S0124 -->  fS20150904S0124 \n",
        "                   Dark      2-pix_grid            none  11.7   4.4   35000 \n"
       ]
      },
      {
       "output_type": "stream",
       "stream": "stdout",
       "text": [
        " 43 ../../../raw/S20150904S0240 -->  fS20150904S0240 \n",
        "                     HK       2pix-slit            none  11.7   4.4   35000 \n",
        " \n",
        "F2PREPARE exit status: good.\n",
        "----------------------------------------------------------------------------\n"
       ]
      }
     ],
     "prompt_number": 8
    },
    {
     "cell_type": "heading",
     "level": 2,
     "metadata": {},
     "source": [
      "STEP 6:  Create the necessary dark frames"
     ]
    },
    {
     "cell_type": "code",
     "collapsed": false,
     "input": [
      "iraf.delete('fflatdark.lis', verify='no')\n",
      "iraf.imdelete('flatdark.fits', verify='no')\n",
      "iraf.sections('f@flatdark.lis', Stdout='fflatdark.lis')\n",
      "iraf.gemcombine('@fflatdark.lis', 'flatdark.fits', combine='average', \\\n",
      "    fl_vardq='yes', logfile=iraf.f2.logfile)\n",
      "\n",
      "iraf.delete('farcdark.lis', verify='no')\n",
      "iraf.imdelete('arcdark.fits', verify='no')\n",
      "iraf.sections('f@arcdark.lis', Stdout='farcdark.lis')\n",
      "iraf.gemcombine('@farcdark.lis', 'arcdark.fits', combine='average', \\\n",
      "    fl_vardq='yes', logfile=iraf.f2.logfile)\n",
      "\n",
      "iraf.delete('fobjdark.lis', verify='no')\n",
      "iraf.imdelete('objdark.fits', verify='no')\n",
      "iraf.sections('f@objdark.lis', Stdout='fobjdark.lis')\n",
      "iraf.gemcombine('@fobjdark.lis', 'objdark.fits', combine='average', \\\n",
      "    fl_vardq='yes', logfile=iraf.f2.logfile)\n",
      "\n",
      "iraf.delete('fteldark.lis', verify='no')\n",
      "iraf.imdelete('teldark.fits', verify='no')\n",
      "iraf.sections('f@teldark.lis', Stdout='fteldark.lis')\n",
      "iraf.gemcombine('@fteldark.lis', 'teldark.fits', combine='average', \\\n",
      "    fl_vardq='yes', logfile=iraf.f2.logfile)\n",
      "\n",
      "iraf.delete('ftelarcdark.lis', verify='no')\n",
      "iraf.imdelete('telarcdark.fits', verify='no')\n",
      "iraf.sections('f@telarcdark.lis', Stdout='ftelarcdark.lis')\n",
      "iraf.gemcombine('@ftelarcdark.lis', 'telarcdark.fits', combine='average', \\\n",
      "    fl_vardq='yes', logfile=iraf.f2.logfile)\n"
     ],
     "language": "python",
     "metadata": {},
     "outputs": [
      {
       "output_type": "stream",
       "stream": "stderr",
       "text": [
        "Warning: Cannot delete file (fflatdark.lis)\n"
       ]
      },
      {
       "output_type": "stream",
       "stream": "stdout",
       "text": [
        "--------------------------------------------------------------------------------\n",
        "GEMCOMBINE -- Sun Sep  6 16:57:32 HST 2015\n",
        " \n",
        "GEMCOMBINE: input = @fflatdark.lis\n",
        "GEMCOMBINE: output = flatdark.fits\n",
        "GEMCOMBINE: title = \n",
        "GEMCOMBINE: bpmfile = \n",
        "GEMCOMBINE: sci_ext = SCI\n",
        "GEMCOMBINE: var_ext = VAR\n",
        "GEMCOMBINE: dq_ext = DQ\n",
        " \n"
       ]
      },
      {
       "output_type": "stream",
       "stream": "stdout",
       "text": [
        "\n",
        "Sep  6 16:57: IMCOMBINE\n",
        "  combine = average, scale = none, zero = none, weight = none\n",
        "  reject = avsigclip, mclip = yes, nkeep = 1\n",
        "  lsigma = 3., hsigma = 3.\n",
        "  blank = 0.\n",
        "  statsec = Sep  6 16:57\n",
        "                Images \n",
        "  fS20150904S0083.fits[SCI]\n",
        "  fS20150904S0084.fits[SCI]\n",
        "  fS20150904S0085.fits[SCI]\n",
        "  fS20150904S0086.fits[SCI]\n",
        "  fS20150904S0087.fits[SCI]\n",
        "  fS20150904S0088.fits[SCI]\n",
        "  fS20150904S0089.fits[SCI]\n",
        "\n",
        "  Output image = tmpcombout70436_368, ncombine = 7\n",
        "  Number rejected mask = tmpcombdq70436_369.pl\n",
        "  Sigma image = tmpcombsig70436_370\n"
       ]
      },
      {
       "output_type": "stream",
       "stream": "stdout",
       "text": [
        " \n",
        "GEMCOMBINE -- Finished: Sun Sep  6 16:57:51 HST 2015"
       ]
      },
      {
       "output_type": "stream",
       "stream": "stdout",
       "text": [
        "\n",
        " \n",
        "GEMCOMBINE -- Exit status: GOOD\n",
        "--------------------------------------------------------------------------------\n"
       ]
      },
      {
       "output_type": "stream",
       "stream": "stderr",
       "text": [
        "Warning: Cannot delete file (farcdark.lis)\n"
       ]
      },
      {
       "output_type": "stream",
       "stream": "stdout",
       "text": [
        "--------------------------------------------------------------------------------\n",
        "GEMCOMBINE -- Sun Sep  6 16:57:51 HST 2015\n",
        " \n",
        "GEMCOMBINE: input = @farcdark.lis\n",
        "GEMCOMBINE: output = arcdark.fits\n",
        "GEMCOMBINE: title = \n",
        "GEMCOMBINE: bpmfile = \n",
        "GEMCOMBINE: sci_ext = SCI\n",
        "GEMCOMBINE: var_ext = VAR\n",
        "GEMCOMBINE: dq_ext = DQ\n",
        " \n"
       ]
      },
      {
       "output_type": "stream",
       "stream": "stdout",
       "text": [
        "\n",
        "Sep  6 16:57: IMCOMBINE\n",
        "  combine = average, scale = none, zero = none, weight = none\n",
        "  reject = avsigclip, mclip = yes, nkeep = 1\n",
        "  lsigma = 3., hsigma = 3.\n",
        "  blank = 0.\n",
        "  statsec = Sep  6 16:57\n",
        "                Images \n",
        "  fS20150904S0167.fits[SCI]\n",
        "  fS20150904S0168.fits[SCI]\n",
        "  fS20150904S0169.fits[SCI]\n",
        "  fS20150904S0170.fits[SCI]\n",
        "  fS20150904S0171.fits[SCI]\n",
        "  fS20150904S0172.fits[SCI]\n",
        "  fS20150904S0173.fits[SCI]\n",
        "\n",
        "  Output image = tmpcombout70436_388, ncombine = 7\n",
        "  Number rejected mask = tmpcombdq70436_389.pl\n",
        "  Sigma image = tmpcombsig70436_390\n"
       ]
      },
      {
       "output_type": "stream",
       "stream": "stdout",
       "text": [
        " \n",
        "GEMCOMBINE -- Finished: Sun Sep  6 16:58:10 HST 2015\n",
        " \n",
        "GEMCOMBINE -- Exit status: GOOD\n",
        "--------------------------------------------------------------------------------\n"
       ]
      },
      {
       "output_type": "stream",
       "stream": "stderr",
       "text": [
        "Warning: Cannot delete file (fobjdark.lis)\n"
       ]
      },
      {
       "output_type": "stream",
       "stream": "stdout",
       "text": [
        "--------------------------------------------------------------------------------\n",
        "GEMCOMBINE -- Sun Sep  6 16:58:10 HST 2015\n",
        " \n",
        "GEMCOMBINE: input = @fobjdark.lis\n",
        "GEMCOMBINE: output = objdark.fits\n",
        "GEMCOMBINE: title = \n",
        "GEMCOMBINE: bpmfile = \n",
        "GEMCOMBINE: sci_ext = SCI\n",
        "GEMCOMBINE: var_ext = VAR\n",
        "GEMCOMBINE: dq_ext = DQ"
       ]
      },
      {
       "output_type": "stream",
       "stream": "stdout",
       "text": [
        "\n",
        " \n"
       ]
      },
      {
       "output_type": "stream",
       "stream": "stdout",
       "text": [
        "\n",
        "Sep  6 16:58: IMCOMBINE\n",
        "  combine = average, scale = none, zero = none, weight = none\n",
        "  reject = avsigclip, mclip = yes, nkeep = 1\n",
        "  lsigma = 3., hsigma = 3.\n",
        "  blank = 0.\n",
        "  statsec = Sep  6 16:58\n",
        "                Images \n",
        "  fS20150905S0037.fits[SCI]\n",
        "  fS20150905S0038.fits[SCI]\n",
        "  fS20150905S0039.fits[SCI]\n",
        "  fS20150905S0040.fits[SCI]\n",
        "  fS20150905S0041.fits[SCI]\n",
        "  fS20150905S0042.fits[SCI]\n",
        "  fS20150905S0043.fits[SCI]\n",
        "\n",
        "  Output image = tmpcombout70436_408, ncombine = 7\n",
        "  Number rejected mask = tmpcombdq70436_409.pl\n",
        "  Sigma image = tmpcombsig70436_410\n"
       ]
      },
      {
       "output_type": "stream",
       "stream": "stdout",
       "text": [
        " \n",
        "GEMCOMBINE -- Finished: Sun Sep  6 16:58:28 HST 2015\n",
        " \n",
        "GEMCOMBINE -- Exit status: GOOD\n",
        "--------------------------------------------------------------------------------\n"
       ]
      },
      {
       "output_type": "stream",
       "stream": "stderr",
       "text": [
        "Warning: Cannot delete file (fteldark.lis)\n"
       ]
      },
      {
       "output_type": "stream",
       "stream": "stdout",
       "text": [
        "--------------------------------------------------------------------------------\n",
        "GEMCOMBINE -- Sun Sep  6 16:58:28 HST 2015\n",
        " \n",
        "GEMCOMBINE: input = @fteldark.lis\n",
        "GEMCOMBINE: output = teldark.fits\n",
        "GEMCOMBINE: title = \n",
        "GEMCOMBINE: bpmfile = \n",
        "GEMCOMBINE: sci_ext = SCI\n",
        "GEMCOMBINE: var_ext = VAR\n",
        "GEMCOMBINE: dq_ext = DQ\n",
        " "
       ]
      },
      {
       "output_type": "stream",
       "stream": "stdout",
       "text": [
        "\n"
       ]
      },
      {
       "output_type": "stream",
       "stream": "stdout",
       "text": [
        "\n",
        "Sep  6 16:58: IMCOMBINE\n",
        "  combine = average, scale = none, zero = none, weight = none\n",
        "  reject = avsigclip, mclip = yes, nkeep = 1\n",
        "  lsigma = 3., hsigma = 3.\n",
        "  blank = 0.\n",
        "  statsec = Sep  6 16:58\n",
        "                Images \n",
        "  fS20150904S0118.fits[SCI]\n",
        "  fS20150904S0119.fits[SCI]\n",
        "  fS20150904S0120.fits[SCI]\n",
        "  fS20150904S0121.fits[SCI]\n",
        "  fS20150904S0122.fits[SCI]\n",
        "  fS20150904S0123.fits[SCI]\n",
        "  fS20150904S0124.fits[SCI]\n",
        "\n",
        "  Output image = tmpcombout70436_428, ncombine = 7\n",
        "  Number rejected mask = tmpcombdq70436_429.pl\n",
        "  Sigma image = tmpcombsig70436_430\n"
       ]
      },
      {
       "output_type": "stream",
       "stream": "stdout",
       "text": [
        " \n",
        "GEMCOMBINE -- Finished: Sun Sep  6 16:58:45 HST 2015\n",
        " \n",
        "GEMCOMBINE -- Exit status: GOOD\n",
        "--------------------------------------------------------------------------------\n"
       ]
      },
      {
       "output_type": "stream",
       "stream": "stderr",
       "text": [
        "Warning: Cannot delete file (ftelarcdark.lis)\n"
       ]
      },
      {
       "output_type": "stream",
       "stream": "stdout",
       "text": [
        "--------------------------------------------------------------------------------\n",
        "GEMCOMBINE -- Sun Sep  6 16:58:46 HST 2015\n",
        " \n",
        "GEMCOMBINE: input = @ftelarcdark.lis\n",
        "GEMCOMBINE: output = telarcdark.fits\n",
        "GEMCOMBINE: title = \n",
        "GEMCOMBINE: bpmfile = \n",
        "GEMCOMBINE: sci_ext = SCI\n",
        "GEMCOMBINE: var_ext = VAR"
       ]
      },
      {
       "output_type": "stream",
       "stream": "stdout",
       "text": [
        "\n",
        "GEMCOMBINE: dq_ext = DQ\n",
        " \n"
       ]
      },
      {
       "output_type": "stream",
       "stream": "stdout",
       "text": [
        "\n",
        "Sep  6 16:58: IMCOMBINE\n",
        "  combine = average, scale = none, zero = none, weight = none\n",
        "  reject = avsigclip, mclip = yes, nkeep = 1\n",
        "  lsigma = 3., hsigma = 3.\n",
        "  blank = 0.\n",
        "  statsec = Sep  6 16:58\n",
        "                Images \n",
        "  fS20150904S0167.fits[SCI]\n",
        "  fS20150904S0168.fits[SCI]\n",
        "  fS20150904S0169.fits[SCI]\n",
        "  fS20150904S0170.fits[SCI]\n",
        "  fS20150904S0171.fits[SCI]\n",
        "  fS20150904S0172.fits[SCI]\n",
        "  fS20150904S0173.fits[SCI]\n",
        "\n",
        "  Output image = tmpcombout70436_448, ncombine = 7\n",
        "  Number rejected mask = tmpcombdq70436_449.pl\n",
        "  Sigma image = tmpcombsig70436_450\n"
       ]
      },
      {
       "output_type": "stream",
       "stream": "stdout",
       "text": [
        " \n",
        "GEMCOMBINE -- Finished: Sun Sep  6 16:59:02 HST 2015\n",
        " \n",
        "GEMCOMBINE -- Exit status: GOOD\n",
        "--------------------------------------------------------------------------------\n"
       ]
      }
     ],
     "prompt_number": 9
    },
    {
     "cell_type": "heading",
     "level": 2,
     "metadata": {},
     "source": [
      "STEP 7:  Create the normalized flat field and BPM."
     ]
    },
    {
     "cell_type": "heading",
     "level": 3,
     "metadata": {},
     "source": [
      "Subtract the dark from the flat images then cut"
     ]
    },
    {
     "cell_type": "code",
     "collapsed": false,
     "input": [
      "iraf.imdelete ('df@flat.lis', verify='no')\n",
      "\n",
      "file = open('flat.lis', 'r')\n",
      "for line in file:\n",
      "\timage = line.strip()\n",
      "\tiraf.gemarith ('f' + image, '-', 'flatdark.fits', 'df' + image, \\\n",
      "\t\tfl_vardq='yes', logfile=iraf.f2.logfile)\n",
      "\n",
      "file.close()\n",
      "\n",
      "iraf.imdelete ('cdf@flat.lis', verify='no')\n",
      "iraf.f2cut ('df@flat.lis')"
     ],
     "language": "python",
     "metadata": {},
     "outputs": [
      {
       "output_type": "stream",
       "stream": "stdout",
       "text": [
        "GEMARITH begin (this task relies on gemexpr)\n"
       ]
      },
      {
       "output_type": "stream",
       "stream": "stdout",
       "text": [
        "GEMARITH PHU copy: fS20150904S0273[0] --> dfS20150904S0273[0,APPEND])\n"
       ]
      },
      {
       "output_type": "stream",
       "stream": "stdout",
       "text": [
        "GEMARITH No MDF present in source\n"
       ]
      },
      {
       "output_type": "stream",
       "stream": "stdout",
       "text": [
        "GEMARITH gemarith: done\n"
       ]
      },
      {
       "output_type": "stream",
       "stream": "stdout",
       "text": [
        "----------------------------------------------------------------------------\n",
        "F2CUT -- Sun Sep  6 16:59:23 HST 2015\n",
        " \n",
        "\n",
        "Pixel scale: 0.1797"
       ]
      },
      {
       "output_type": "stream",
       "stream": "stdout",
       "text": [
        "\n",
        "Grism: HK_G5802\n",
        "Filter: HK\n",
        "\n",
        "dfS20150904S0273 --> cdfS20150904S0273"
       ]
      },
      {
       "output_type": "stream",
       "stream": "stdout",
       "text": [
        "\n",
        " [SCI,1][57:1490,200:1797] --> [SCI,1]\n"
       ]
      },
      {
       "output_type": "stream",
       "stream": "stdout",
       "text": [
        " \n",
        "F2CUT exit status: good.\n",
        "----------------------------------------------------------------------------\n"
       ]
      }
     ],
     "prompt_number": 10
    },
    {
     "cell_type": "heading",
     "level": 3,
     "metadata": {},
     "source": [
      "Construct the normalised flat field.  "
     ]
    },
    {
     "cell_type": "markdown",
     "metadata": {},
     "source": [
      "The flats are derived from images taken with the calibration unit (GCAL) shutter open (\"lamps-on\").  It is recommended to run <code>nsflat</code> interactively to ensure a good fit of the lamp's profile.\n",
      "\n",
      "The fit order must be high enough to fit the lamp's profile but not too high since we do not want to fit the variations due to the pixel to pixel variation.  For the HK filter, the fit should look like in the screenshots below.  Note that in the zoomed plot, the fit matches the overall profile, not the high frequency variations.\n",
      "\n",
      "The overall fit:\n",
      "\n",
      "![QL-HK-nsflat_fit](../screenshots/QL-HK-nsflat_fit.png)\n",
      "\n",
      "<br \\>\n",
      "Zooming in to confirm that the high frequency signal is not being fit:  \n",
      "\n",
      "![QL-HK-nsflat_fit_zoom](../screenshots/QL-HK-nsflat_fit_zoom.png)"
     ]
    },
    {
     "cell_type": "markdown",
     "metadata": {},
     "source": [
      "If the order needs to be changed, the <code>:order</code> command will be required and that does not work well in the iPython notebook.  So copy the following to the PyRAF we prepared earlier, and find a good fit.\n",
      "\n",
      "    iraf.imdelete('flat.fits,f2_ls_bpm.pl', verify='no')\n",
      "    iraf.nsflat('cdf@flat.lis', flatfile='flat.fits', \\\n",
      "        bpmfile='f2_ls_bpm.pl', thr_flo=0.35, thr_fup=3.0, \\\n",
      "        fl_inter='yes', order=120)\n",
      "        "
     ]
    },
    {
     "cell_type": "heading",
     "level": 2,
     "metadata": {},
     "source": [
      "STEP 8:  Reduce the science arc and determine the wavelength solution"
     ]
    },
    {
     "cell_type": "markdown",
     "metadata": {},
     "source": [
      "The wavelength solution is derived from an arc taken right after the science observation, before anything is moved (eg. grating, slit, etc.)\n",
      "\n",
      "We will reduce the arc and calculate the wavelength solution as this is what we will surely be using for the science observations.\n",
      "\n",
      "The wavelength solution step really should be done in interactive mode as it is not uncommon to have to reject lines and/or adjust the matches with the line list."
     ]
    },
    {
     "cell_type": "heading",
     "level": 3,
     "metadata": {},
     "source": [
      "Reduce the science arc"
     ]
    },
    {
     "cell_type": "code",
     "collapsed": false,
     "input": [
      "# Subtract the dark from the arc images prior to cutting and flat dividing.\n",
      "\n",
      "iraf.imdelete('df@arc.lis', verify='no')\n",
      "iraf.nsreduce('f@arc.lis', outprefix='d', fl_cut='no', fl_process_cut='no', \\\n",
      "    fl_dark='yes', darkimage='arcdark.fits', fl_sky='no', fl_flat='no')\n",
      "\n",
      "# Cut the arc images and divide by the normalised flat field image.\n",
      "\n",
      "iraf.imdelete('rdf@arc.lis', verify='no')\n",
      "iraf.nsreduce('df@arc.lis', fl_cut='yes', fl_dark='no', fl_sky='no', fl_flat='yes', \\\n",
      "    flatimage='flat.fits')\n",
      "\n",
      "# Combine the arc files (if there is more than one arc file)\n",
      "\n",
      "iraf.imdelete('arc.fits', verify='no')\n",
      "iraf.delete('rdfarc.lis', verify='no')\n",
      "iraf.sections('rdf@arc.lis//.fits', Stdout='rdfarc.lis')\n",
      "\n",
      "count = 0\n",
      "file = open('arc.lis', 'r')\n",
      "for line in file:\n",
      "\tcount += 1\n",
      "\n",
      "if count == 1:\n",
      "\tiraf.copy ('@rdfarc.lis', 'arc.fits')\n",
      "else:\n",
      "\tiraf.gemcombine ('@rdfarc.lis', 'arc.fits', fl_vardq='yes')\n",
      "\n",
      "file.close()\n",
      "print 'Done'"
     ],
     "language": "python",
     "metadata": {},
     "outputs": [
      {
       "output_type": "stream",
       "stream": "stdout",
       "text": [
        "-------------------------------------------------------------------------------\n",
        "NSREDUCE -- Sun Sep  6 17:00:29 HST 2015\n",
        " \n",
        "NSREDUCE: Processing 1 extension(s) from 1 file(s)."
       ]
      },
      {
       "output_type": "stream",
       "stream": "stdout",
       "text": [
        "\n"
       ]
      },
      {
       "output_type": "stream",
       "stream": "stdout",
       "text": [
        "NSREDUCE: slit: 2pix-slit\n",
        "NSREDUCE: filter: HK\n",
        "\n",
        "   n input                   --> output                  sky image\n",
        " dark                    flat                    scale\n",
        "\n",
        "   1 fS20150904S0272         --> dfS20150904S0272        none                   \n",
        " arcdark                 none                    1.0000 \n"
       ]
      },
      {
       "output_type": "stream",
       "stream": "stdout",
       "text": [
        " \n",
        "NSREDUCE exit status: good.\n",
        "------------------------------------------------------------------------------\n",
        "-------------------------------------------------------------------------------"
       ]
      },
      {
       "output_type": "stream",
       "stream": "stdout",
       "text": [
        "\n",
        "NSREDUCE -- Sun Sep  6 17:00:33 HST 2015\n",
        " \n",
        "----------------------------------------------------------------------------"
       ]
      },
      {
       "output_type": "stream",
       "stream": "stdout",
       "text": [
        "\n",
        "F2CUT -- Sun Sep  6 17:00:33 HST 2015\n",
        " \n",
        "\n",
        "Pixel scale: 0.1797"
       ]
      },
      {
       "output_type": "stream",
       "stream": "stdout",
       "text": [
        "\n",
        "Grism: HK_G5802\n",
        "Filter: HK\n",
        "\n",
        "dfS20150904S0272 --> dfS20150904S0272-70436_521"
       ]
      },
      {
       "output_type": "stream",
       "stream": "stdout",
       "text": [
        "\n",
        " [SCI,1][57:1490,200:1797] --> [SCI,1]"
       ]
      },
      {
       "output_type": "stream",
       "stream": "stdout",
       "text": [
        "\n"
       ]
      },
      {
       "output_type": "stream",
       "stream": "stdout",
       "text": [
        " \n",
        "F2CUT exit status: good.\n",
        "----------------------------------------------------------------------------\n",
        "------------------------------------------------------------------------------"
       ]
      },
      {
       "output_type": "stream",
       "stream": "stdout",
       "text": [
        "\n",
        "NSAPPWAVE -- Sun Sep  6 17:00:38 HST 2015\n",
        " \n"
       ]
      },
      {
       "output_type": "stream",
       "stream": "stdout",
       "text": [
        "NSAPPWAVE: Processing 1 extension(s) from 1 file(s).\n",
        "  Camera     Grating    Filter     Prism      FPMask     Wave   Delta Order Axis\n",
        "dfS20150904S0272-70436_521 -> dfS20150904S0272-70436_522 ( 1)"
       ]
      },
      {
       "output_type": "stream",
       "stream": "stdout",
       "text": [
        "\n",
        "  f/16_G5830   HK_G5802         HK             2pix-slit 18710.00 -7.83 INDEF 2\n"
       ]
      },
      {
       "output_type": "stream",
       "stream": "stdout",
       "text": [
        "NSAPPWAVE: cradius not from table for dfS20150904S0272-70436_521.\n",
        "           (further table messages supressed for this file).\n",
        "  extension  1: 18710.000000 -7.826000 INDEF\n"
       ]
      },
      {
       "output_type": "stream",
       "stream": "stdout",
       "text": [
        "\n",
        "NSAPPWAVE Exit status good\n",
        "------------------------------------------------------------------------------\n",
        "NSREDUCE: Processing 1 extension(s) from 1 file(s)."
       ]
      },
      {
       "output_type": "stream",
       "stream": "stdout",
       "text": [
        "\n"
       ]
      },
      {
       "output_type": "stream",
       "stream": "stdout",
       "text": [
        "NSREDUCE: slit: 2pix-slit\n",
        "NSREDUCE: filter: HK\n",
        "\n",
        "   n input                   --> output                  sky image\n",
        " dark                    flat                    scale\n",
        "\n",
        "   1 dfS20150904S0272        --> rdfS20150904S0272       none                   \n",
        " none                    flat                    1.0000 \n"
       ]
      },
      {
       "output_type": "stream",
       "stream": "stdout",
       "text": [
        " \n",
        "NSREDUCE exit status: good.\n",
        "------------------------------------------------------------------------------\n"
       ]
      },
      {
       "output_type": "stream",
       "stream": "stderr",
       "text": [
        "Warning: Cannot delete file (rdfarc.lis)\n"
       ]
      },
      {
       "output_type": "stream",
       "stream": "stdout",
       "text": [
        "Done\n"
       ]
      }
     ],
     "prompt_number": 11
    },
    {
     "cell_type": "heading",
     "level": 3,
     "metadata": {},
     "source": [
      "Determine the wavelength solution from the science arc"
     ]
    },
    {
     "cell_type": "markdown",
     "metadata": {},
     "source": [
      "Normally, the lines will be identified automatically and this step, while interactive is used to delete a couple outliers and visually confirm that the fit is good.\n",
      "\n",
      "If, for some reason (it can happen), the lines do not get identified automatically and they need to be marked manually, you will need to run the two commands below in the PyRAF sessions since you will need full interactive support.  But most of the time, running this in the notebook works okay."
     ]
    },
    {
     "cell_type": "code",
     "collapsed": false,
     "input": [
      "iraf.imdelete ('warc.fits', verify='no')\n",
      "iraf.nswavelength ('arc.fits', fl_inter='yes', order=8)\n",
      "\n",
      "# Be very careful when fitting the turnover around 21000.  \n",
      "# There's something not quite right with this solution, but sufficient for quicklook."
     ],
     "language": "python",
     "metadata": {},
     "outputs": [
      {
       "output_type": "stream",
       "stream": "stdout",
       "text": [
        "-------------------------------------------------------------------------------\n",
        "NSWAVELENGTH -- Sun Sep  6 17:03:33 HST 2015\n",
        "\n",
        "NSWAVELENGTH: LS data detected. Calling nswhelper to process data."
       ]
      },
      {
       "output_type": "stream",
       "stream": "stdout",
       "text": [
        "\n",
        "-------------------------------------------------------------------------------\n",
        "NSWHELPER -- Sun Sep  6 17:03:33 HST 2015"
       ]
      },
      {
       "output_type": "stream",
       "stream": "stdout",
       "text": [
        "\n",
        "\n"
       ]
      },
      {
       "output_type": "stream",
       "stream": "stdout",
       "text": [
        "Using input files:\n",
        "arc\n"
       ]
      },
      {
       "output_type": "stream",
       "stream": "stdout",
       "text": [
        "Using output files:\n",
        "warc\n"
       ]
      },
      {
       "output_type": "stream",
       "stream": "stdout",
       "text": [
        "Lamp image: arc[SCI,1]\n",
        "\n"
       ]
      },
      {
       "output_type": "stream",
       "stream": "stdout",
       "text": [
        "AUTOIDENTIFY: NOAO/IRAF V2.16 klabrie@libellule Sun 17:03:35 06-Sep-2015\n"
       ]
      },
      {
       "output_type": "stream",
       "stream": "stdout",
       "text": [
        "  Spectrum                 # Found   Midpoint Dispersion        RMS\n"
       ]
      },
      {
       "output_type": "stream",
       "stream": "stdout",
       "text": [
        "  warc[SCI,1][717,*]            48    18962.6      -7.54      0.583\n"
       ]
      },
      {
       "output_type": "stream",
       "stream": "stdout",
       "text": [
        "warc[SCI,1][717,*]: Examine identifications interactively?"
       ]
      },
      {
       "output_type": "stream",
       "stream": "stdout",
       "text": [
        "   1522.94  13507.224    13507.9 \n"
       ]
      },
      {
       "output_type": "stream",
       "stream": "stdout",
       "text": [
        "   1595.07  12960.393    12960.2 500 NOAO\n"
       ]
      },
      {
       "output_type": "stream",
       "stream": "stdout",
       "text": [
        "   1595.07  12960.393    12960.2 \n"
       ]
      },
      {
       "output_type": "stream",
       "stream": "stdout",
       "text": [
        "   1595.07  12960.393    12960.2 \n"
       ]
      },
      {
       "output_type": "stream",
       "stream": "stdout",
       "text": [
        "   1595.07  12960.393    12960.2 \n"
       ]
      },
      {
       "output_type": "stream",
       "stream": "stdout",
       "text": [
        "   1595.07  12960.393    12960.2 \n"
       ]
      },
      {
       "output_type": "stream",
       "stream": "stdout",
       "text": [
        "window:"
       ]
      },
      {
       "output_type": "stream",
       "stream": "stdout",
       "text": [
        "again:"
       ]
      },
      {
       "output_type": "stream",
       "stream": "stdout",
       "text": [
        "   1595.07  12960.393    12960.2 \n"
       ]
      },
      {
       "output_type": "stream",
       "stream": "stdout",
       "text": [
        "   1176.03  16127.244    16127.1 \n"
       ]
      },
      {
       "output_type": "stream",
       "stream": "stdout",
       "text": [
        "   1176.03  16127.539    16127.1 \n"
       ]
      },
      {
       "output_type": "stream",
       "stream": "stdout",
       "text": [
        "   1176.03  16127.279    16127.1 \n"
       ]
      },
      {
       "output_type": "stream",
       "stream": "stdout",
       "text": [
        "   1193.70  15994.098    15993.9 25 NOAO\n"
       ]
      },
      {
       "output_type": "stream",
       "stream": "stdout",
       "text": [
        "   1193.70  15994.098    15993.9 25 NOAO\n"
       ]
      },
      {
       "output_type": "stream",
       "stream": "stdout",
       "text": [
        "window:"
       ]
      },
      {
       "output_type": "stream",
       "stream": "stdout",
       "text": [
        "   1193.70  15994.098    15993.9 25 NOAO\n"
       ]
      },
      {
       "output_type": "stream",
       "stream": "stdout",
       "text": [
        "   1284.70  15307.601    15306.1 40 NOAO\n"
       ]
      },
      {
       "output_type": "stream",
       "stream": "stdout",
       "text": [
        "   1560.46  13239.585    13217.6 200 NOAO\n"
       ]
      },
      {
       "output_type": "stream",
       "stream": "stdout",
       "text": [
        "   1553.25  13292.593    13276.3 500 NOAO\n"
       ]
      },
      {
       "output_type": "stream",
       "stream": "stdout",
       "text": [
        "   1547.70  13333.493    13316.8 800 NOAO\n"
       ]
      },
      {
       "output_type": "stream",
       "stream": "stdout",
       "text": [
        "   1540.97  13383.157    13370.8 1000 NOAO\n"
       ]
      },
      {
       "output_type": "stream",
       "stream": "stdout",
       "text": [
        "   1535.90  13420.642    13410.2 100 NOAO\n"
       ]
      },
      {
       "output_type": "stream",
       "stream": "stdout",
       "text": [
        "   1522.97  13516.464    13547.9 8 NOAO\n"
       ]
      },
      {
       "output_type": "stream",
       "stream": "stdout",
       "text": [
        "   1507.20  13633.665    13626.4 400 NOAO\n"
       ]
      },
      {
       "output_type": "stream",
       "stream": "stdout",
       "text": [
        "   1494.73  13726.609    13722.3 1000 NOAO\n"
       ]
      },
      {
       "output_type": "stream",
       "stream": "stdout",
       "text": [
        "   1480.45  13833.269    13829.5 B NOAO\n"
       ]
      },
      {
       "output_type": "stream",
       "stream": "stdout",
       "text": [
        "   1469.40  13915.994    13914.4 50 NOAO\n"
       ]
      },
      {
       "output_type": "stream",
       "stream": "stdout",
       "text": [
        "   1445.03  14098.743    14097.5 150 NOAO\n"
       ]
      },
      {
       "output_type": "stream",
       "stream": "stdout",
       "text": [
        "   1424.06  14256.443    14260.8 13 NOAO\n"
       ]
      },
      {
       "output_type": "stream",
       "stream": "stdout",
       "text": [
        "   1377.62   14606.33    14600.5 B NOAO\n"
       ]
      },
      {
       "output_type": "stream",
       "stream": "stdout",
       "text": [
        "   1372.55  14644.515    14654.3 30 NOAO\n"
       ]
      },
      {
       "output_type": "stream",
       "stream": "stdout",
       "text": [
        "   1365.44  14698.192    14697.4 4 NOAO\n"
       ]
      },
      {
       "output_type": "stream",
       "stream": "stdout",
       "text": [
        "   1359.46   14743.32    14743.2 5 NOAO\n"
       ]
      },
      {
       "output_type": "stream",
       "stream": "stdout",
       "text": [
        "   1318.81  15050.129    15050.6 100 NOAO\n"
       ]
      },
      {
       "output_type": "stream",
       "stream": "stdout",
       "text": [
        "   1302.01  15176.964    15176.8 25 NOAO\n"
       ]
      },
      {
       "output_type": "stream",
       "stream": "stdout",
       "text": [
        "   1284.70  15307.601    15306.1 40 NOAO\n"
       ]
      },
      {
       "output_type": "stream",
       "stream": "stdout",
       "text": [
        "   1280.92  15336.152    15333.5 9 NOAO\n"
       ]
      },
      {
       "output_type": "stream",
       "stream": "stdout",
       "text": [
        "   1271.52  15407.044   15406.85 566   KH\n"
       ]
      },
      {
       "output_type": "stream",
       "stream": "stdout",
       "text": [
        "   1205.82  15902.689     15904. 10 NOAO\n"
       ]
      },
      {
       "output_type": "stream",
       "stream": "stdout",
       "text": [
        "   1205.82  15903.269     15904. 10 NOAO\n"
       ]
      },
      {
       "output_type": "stream",
       "stream": "stdout",
       "text": [
        "   1205.82  15903.269     15904. 10 NOAO\n"
       ]
      },
      {
       "output_type": "stream",
       "stream": "stdout",
       "text": [
        "window:"
       ]
      },
      {
       "output_type": "stream",
       "stream": "stdout",
       "text": [
        "again:"
       ]
      },
      {
       "output_type": "stream",
       "stream": "stdout",
       "text": [
        "   1205.82  15903.269     15904. 10 NOAO\n"
       ]
      },
      {
       "output_type": "stream",
       "stream": "stdout",
       "text": [
        "   1302.01  15180.041 (   15176.8 25 NOAO): "
       ]
      },
      {
       "output_type": "stream",
       "stream": "stdout",
       "text": [
        "   1302.01  15180.041    15176.8 25 NOAO\n"
       ]
      },
      {
       "output_type": "stream",
       "stream": "stdout",
       "text": [
        "\u0007   1302.01  15180.041    15176.8 25 NOAO\n"
       ]
      },
      {
       "output_type": "stream",
       "stream": "stdout",
       "text": [
        "   1318.81  15053.978 (   15050.6 100 NOAO): "
       ]
      },
      {
       "output_type": "stream",
       "stream": "stdout",
       "text": [
        "   1318.81  15053.978    15050.6 100 NOAO\n"
       ]
      },
      {
       "output_type": "stream",
       "stream": "stdout",
       "text": [
        "\u0007   1318.81  15053.978    15050.6 100 NOAO\n"
       ]
      },
      {
       "output_type": "stream",
       "stream": "stdout",
       "text": [
        "   1318.81  15050.385    15050.6 100 NOAO\n"
       ]
      },
      {
       "output_type": "stream",
       "stream": "stdout",
       "text": [
        "window:"
       ]
      },
      {
       "output_type": "stream",
       "stream": "stdout",
       "text": [
        "   1318.81  15050.385    15050.6 100 NOAO\n"
       ]
      },
      {
       "output_type": "stream",
       "stream": "stdout",
       "text": [
        "window:"
       ]
      },
      {
       "output_type": "stream",
       "stream": "stdout",
       "text": [
        "again:"
       ]
      },
      {
       "output_type": "stream",
       "stream": "stdout",
       "text": [
        "   1318.81  15050.385    15050.6 100 NOAO\n"
       ]
      },
      {
       "output_type": "stream",
       "stream": "stdout",
       "text": [
        "   1445.03  14103.803 (   14097.5 150 NOAO): "
       ]
      },
      {
       "output_type": "stream",
       "stream": "stdout",
       "text": [
        "   1445.03  14103.803    14097.5 150 NOAO\n"
       ]
      },
      {
       "output_type": "stream",
       "stream": "stdout",
       "text": [
        "\u0007   1445.03  14103.803    14097.5 150 NOAO\n"
       ]
      },
      {
       "output_type": "stream",
       "stream": "stdout",
       "text": [
        "   1445.03  14097.515    14097.5 150 NOAO\n"
       ]
      },
      {
       "output_type": "stream",
       "stream": "stdout",
       "text": [
        "window:"
       ]
      },
      {
       "output_type": "stream",
       "stream": "stdout",
       "text": [
        "   1445.03  14097.515    14097.5 150 NOAO\n"
       ]
      },
      {
       "output_type": "stream",
       "stream": "stdout",
       "text": [
        "window:"
       ]
      },
      {
       "output_type": "stream",
       "stream": "stdout",
       "text": [
        "again:"
       ]
      },
      {
       "output_type": "stream",
       "stream": "stdout",
       "text": [
        "   1445.03  14097.515    14097.5 150 NOAO\n"
       ]
      },
      {
       "output_type": "stream",
       "stream": "stdout",
       "text": [
        "   1318.81  15050.253 (   15050.6 100 NOAO): "
       ]
      },
      {
       "output_type": "stream",
       "stream": "stdout",
       "text": [
        "   1318.81  15050.253    15050.6 100 NOAO\n"
       ]
      },
      {
       "output_type": "stream",
       "stream": "stdout",
       "text": [
        "   1318.81  15050.253    15050.6 100 NOAO\n"
       ]
      },
      {
       "output_type": "stream",
       "stream": "stdout",
       "text": [
        "   1318.81  15050.253    15050.6 \n"
       ]
      },
      {
       "output_type": "stream",
       "stream": "stdout",
       "text": [
        "window:"
       ]
      },
      {
       "output_type": "stream",
       "stream": "stdout",
       "text": [
        "   1318.81  15050.253    15050.6 \n"
       ]
      },
      {
       "output_type": "stream",
       "stream": "stdout",
       "text": [
        "window:"
       ]
      },
      {
       "output_type": "stream",
       "stream": "stdout",
       "text": [
        "again:"
       ]
      },
      {
       "output_type": "stream",
       "stream": "stdout",
       "text": [
        "   1318.81  15050.253    15050.6 \n"
       ]
      },
      {
       "output_type": "stream",
       "stream": "stdout",
       "text": [
        "   1445.03  14097.511 (   14097.5 150 NOAO): "
       ]
      },
      {
       "output_type": "stream",
       "stream": "stdout",
       "text": [
        "   1445.03  14097.511    14097.5 150 NOAO\n"
       ]
      },
      {
       "output_type": "stream",
       "stream": "stdout",
       "text": [
        "window:"
       ]
      },
      {
       "output_type": "stream",
       "stream": "stdout",
       "text": [
        "   1445.03  14097.511    14097.5 150 NOAO\n"
       ]
      },
      {
       "output_type": "stream",
       "stream": "stdout",
       "text": [
        "window:"
       ]
      },
      {
       "output_type": "stream",
       "stream": "stdout",
       "text": [
        "again:"
       ]
      },
      {
       "output_type": "stream",
       "stream": "stdout",
       "text": [
        "   1445.03  14097.511    14097.5 150 NOAO\n"
       ]
      },
      {
       "output_type": "stream",
       "stream": "stdout",
       "text": [
        "window:"
       ]
      },
      {
       "output_type": "stream",
       "stream": "stdout",
       "text": [
        "   1445.03  14097.511    14097.5 150 NOAO\n"
       ]
      },
      {
       "output_type": "stream",
       "stream": "stdout",
       "text": [
        "window:"
       ]
      },
      {
       "output_type": "stream",
       "stream": "stdout",
       "text": [
        "again:"
       ]
      },
      {
       "output_type": "stream",
       "stream": "stdout",
       "text": [
        "   1445.03  14097.511    14097.5 150 NOAO\n"
       ]
      },
      {
       "output_type": "stream",
       "stream": "stdout",
       "text": [
        "   1494.73  13723.041 (   13722.3 1000 NOAO): "
       ]
      },
      {
       "output_type": "stream",
       "stream": "stdout",
       "text": [
        "   1494.73  13723.041    13722.3 1000 NOAO\n"
       ]
      },
      {
       "output_type": "stream",
       "stream": "stdout",
       "text": [
        "   1522.97  13510.748 (   13507.9 1000 NOAO): "
       ]
      },
      {
       "output_type": "stream",
       "stream": "stdout",
       "text": [
        "   1522.97  13510.748    13507.9 1000 NOAO\n"
       ]
      },
      {
       "output_type": "stream",
       "stream": "stdout",
       "text": [
        "   1540.97  13375.729 (   13370.8 1000 NOAO): "
       ]
      },
      {
       "output_type": "stream",
       "stream": "stdout",
       "text": [
        "   1540.97  13375.729    13370.8 1000 NOAO\n"
       ]
      },
      {
       "output_type": "stream",
       "stream": "stdout",
       "text": [
        "   1540.97  13371.216    13370.8 1000 NOAO\n"
       ]
      },
      {
       "output_type": "stream",
       "stream": "stdout",
       "text": [
        "\n",
        "REIDENTIFY: NOAO/IRAF V2.16 klabrie@libellule Sun 17:09:09 06-Sep-2015\n"
       ]
      },
      {
       "output_type": "stream",
       "stream": "stdout",
       "text": [
        "  Reference image = warc[SCI,1], New image = warc[SCI,1], Refit = yes\n",
        "          Image Data    Found     Fit Pix Shift  User Shift  Z Shift      RMS\n"
       ]
      },
      {
       "output_type": "stream",
       "stream": "stdout",
       "text": [
        "warc[SCI,1][707,*]     29/29   29/29      0.058      -0.439  -2.4E-5    0.354\n"
       ]
      },
      {
       "output_type": "stream",
       "stream": "stdout",
       "text": [
        "warc[SCI,1][707,*]     29/29   29/29      0.058      -0.439  -2.4E-5    0.354\n"
       ]
      },
      {
       "output_type": "stream",
       "stream": "stdout",
       "text": [
        "warc[SCI,1][697,*]     29/29   28/29      0.102      -0.772  -4.1E-5    0.264\n"
       ]
      },
      {
       "output_type": "stream",
       "stream": "stdout",
       "text": [
        "warc[SCI,1][687,*]     29/29   28/29      0.152       -1.15  -6.1E-5    0.299\n"
       ]
      },
      {
       "output_type": "stream",
       "stream": "stdout",
       "text": [
        "warc[SCI,1][677,*]     29/29   29/29      0.196       -1.48  -7.7E-5    0.361\n"
       ]
      },
      {
       "output_type": "stream",
       "stream": "stdout",
       "text": [
        "warc[SCI,1][667,*]     29/29   29/29      0.246       -1.86  -9.8E-5    0.392\n"
       ]
      },
      {
       "output_type": "stream",
       "stream": "stdout",
       "text": [
        "warc[SCI,1][657,*]     29/29   29/29      0.285       -2.15  -1.1E-4    0.311\n"
       ]
      },
      {
       "output_type": "stream",
       "stream": "stdout",
       "text": [
        "warc[SCI,1][647,*]     29/29   29/29       0.33        -2.5  -1.3E-4    0.351\n"
       ]
      },
      {
       "output_type": "stream",
       "stream": "stdout",
       "text": [
        "warc[SCI,1][637,*]     29/29   28/29      0.369       -2.79  -1.4E-4    0.266\n"
       ]
      },
      {
       "output_type": "stream",
       "stream": "stdout",
       "text": [
        "warc[SCI,1][627,*]     29/29   29/29      0.425       -3.21  -1.7E-4    0.339\n"
       ]
      },
      {
       "output_type": "stream",
       "stream": "stdout",
       "text": [
        "warc[SCI,1][617,*]     29/29   28/29      0.467       -3.53  -1.8E-4    0.242\n"
       ]
      },
      {
       "output_type": "stream",
       "stream": "stdout",
       "text": [
        "warc[SCI,1][607,*]     29/29   29/29      0.511       -3.86  -2.0E-4    0.425\n"
       ]
      },
      {
       "output_type": "stream",
       "stream": "stdout",
       "text": [
        "warc[SCI,1][597,*]     29/29   29/29      0.556       -4.21  -2.2E-4    0.364\n"
       ]
      },
      {
       "output_type": "stream",
       "stream": "stdout",
       "text": [
        "warc[SCI,1][587,*]     29/29   28/29      0.607       -4.59  -2.4E-4    0.259\n"
       ]
      },
      {
       "output_type": "stream",
       "stream": "stdout",
       "text": [
        "warc[SCI,1][577,*]     29/29   29/29      0.642       -4.86  -2.5E-4    0.439\n"
       ]
      },
      {
       "output_type": "stream",
       "stream": "stdout",
       "text": [
        "warc[SCI,1][567,*]     29/29   26/29      0.694       -5.25  -2.7E-4    0.157\n"
       ]
      },
      {
       "output_type": "stream",
       "stream": "stdout",
       "text": [
        "warc[SCI,1][557,*]     29/29   27/29      0.737       -5.58  -2.9E-4    0.224\n"
       ]
      },
      {
       "output_type": "stream",
       "stream": "stdout",
       "text": [
        "warc[SCI,1][547,*]     29/29   28/29      0.785       -5.93  -3.1E-4    0.313\n"
       ]
      },
      {
       "output_type": "stream",
       "stream": "stdout",
       "text": [
        "warc[SCI,1][537,*]     29/29   29/29       0.85       -6.43  -3.3E-4    0.388\n"
       ]
      },
      {
       "output_type": "stream",
       "stream": "stdout",
       "text": [
        "warc[SCI,1][527,*]     29/29   29/29      0.914       -6.91  -3.5E-4    0.414\n"
       ]
      },
      {
       "output_type": "stream",
       "stream": "stdout",
       "text": [
        "warc[SCI,1][517,*]     29/29   29/29      0.954       -7.22  -3.7E-4    0.369\n"
       ]
      },
      {
       "output_type": "stream",
       "stream": "stdout",
       "text": [
        "warc[SCI,1][507,*]     29/29   29/29       1.01       -7.66  -3.9E-4    0.392\n"
       ]
      },
      {
       "output_type": "stream",
       "stream": "stdout",
       "text": [
        "warc[SCI,1][497,*]     29/29   29/29       1.06       -8.05  -4.1E-4    0.361\n"
       ]
      },
      {
       "output_type": "stream",
       "stream": "stdout",
       "text": [
        "warc[SCI,1][487,*]     29/29   29/29       1.11       -8.41  -4.3E-4     0.37\n"
       ]
      },
      {
       "output_type": "stream",
       "stream": "stdout",
       "text": [
        "warc[SCI,1][477,*]     29/29   29/29       1.18        -8.9  -4.6E-4    0.223\n"
       ]
      },
      {
       "output_type": "stream",
       "stream": "stdout",
       "text": [
        "warc[SCI,1][467,*]     29/29   29/29       1.23       -9.27  -4.8E-4     0.28\n"
       ]
      },
      {
       "output_type": "stream",
       "stream": "stdout",
       "text": [
        "warc[SCI,1][457,*]     29/29   29/29       1.28       -9.71  -5.0E-4    0.234\n"
       ]
      },
      {
       "output_type": "stream",
       "stream": "stdout",
       "text": [
        "warc[SCI,1][447,*]     29/29   29/29       1.34       -10.1  -5.2E-4    0.229\n"
       ]
      },
      {
       "output_type": "stream",
       "stream": "stdout",
       "text": [
        "warc[SCI,1][437,*]     29/29   29/29        1.4       -10.6  -5.4E-4    0.306\n"
       ]
      },
      {
       "output_type": "stream",
       "stream": "stdout",
       "text": [
        "warc[SCI,1][427,*]     29/29   29/29       1.47       -11.1  -5.7E-4    0.269\n"
       ]
      },
      {
       "output_type": "stream",
       "stream": "stdout",
       "text": [
        "warc[SCI,1][417,*]     29/29   29/29       1.53       -11.6  -5.9E-4    0.269\n"
       ]
      },
      {
       "output_type": "stream",
       "stream": "stdout",
       "text": [
        "warc[SCI,1][407,*]     29/29   29/29       1.58        -12.  -6.1E-4    0.256\n"
       ]
      },
      {
       "output_type": "stream",
       "stream": "stdout",
       "text": [
        "warc[SCI,1][397,*]     29/29   29/29       1.65       -12.5  -6.4E-4    0.336\n"
       ]
      },
      {
       "output_type": "stream",
       "stream": "stdout",
       "text": [
        "warc[SCI,1][387,*]     29/29   29/29       1.71       -12.9  -6.6E-4    0.305\n"
       ]
      },
      {
       "output_type": "stream",
       "stream": "stdout",
       "text": [
        "warc[SCI,1][377,*]     29/29   28/29       1.76       -13.3  -6.8E-4    0.277\n"
       ]
      },
      {
       "output_type": "stream",
       "stream": "stdout",
       "text": [
        "warc[SCI,1][367,*]     29/29   28/29       1.83       -13.8  -7.1E-4    0.317\n"
       ]
      },
      {
       "output_type": "stream",
       "stream": "stdout",
       "text": [
        "warc[SCI,1][357,*]     29/29   28/29       1.89       -14.3  -7.3E-4    0.365\n"
       ]
      },
      {
       "output_type": "stream",
       "stream": "stdout",
       "text": [
        "warc[SCI,1][347,*]     29/29   28/29       1.96       -14.8  -7.6E-4      0.4\n"
       ]
      },
      {
       "output_type": "stream",
       "stream": "stdout",
       "text": [
        "warc[SCI,1][337,*]     29/29   28/29       2.04       -15.4  -7.9E-4     0.33\n"
       ]
      },
      {
       "output_type": "stream",
       "stream": "stdout",
       "text": [
        "warc[SCI,1][327,*]     29/29   28/29       2.11        -16.  -8.1E-4    0.316\n"
       ]
      },
      {
       "output_type": "stream",
       "stream": "stdout",
       "text": [
        "warc[SCI,1][317,*]     29/29   28/29       2.19       -16.6  -8.5E-4    0.274\n"
       ]
      },
      {
       "output_type": "stream",
       "stream": "stdout",
       "text": [
        "warc[SCI,1][307,*]     29/29   28/29       2.27       -17.2  -8.8E-4    0.275\n"
       ]
      },
      {
       "output_type": "stream",
       "stream": "stdout",
       "text": [
        "warc[SCI,1][297,*]     29/29   29/29       2.34       -17.7  -9.0E-4    0.403\n"
       ]
      },
      {
       "output_type": "stream",
       "stream": "stdout",
       "text": [
        "warc[SCI,1][287,*]     29/29   29/29       2.41       -18.2  -9.3E-4     0.35\n"
       ]
      },
      {
       "output_type": "stream",
       "stream": "stdout",
       "text": [
        "warc[SCI,1][277,*]     29/29   29/29       2.47       -18.7  -9.5E-4    0.342\n"
       ]
      },
      {
       "output_type": "stream",
       "stream": "stdout",
       "text": [
        "warc[SCI,1][267,*]     29/29   29/29       2.55       -19.3  -9.8E-4    0.425\n"
       ]
      },
      {
       "output_type": "stream",
       "stream": "stdout",
       "text": [
        "warc[SCI,1][257,*]     29/29   29/29       2.62       -19.8   -0.001    0.382\n"
       ]
      },
      {
       "output_type": "stream",
       "stream": "stdout",
       "text": [
        "warc[SCI,1][247,*]     29/29   29/29       2.71       -20.5   -0.001    0.341\n"
       ]
      },
      {
       "output_type": "stream",
       "stream": "stdout",
       "text": [
        "warc[SCI,1][237,*]     29/29   29/29       2.78       -21.1  -0.0011    0.389\n"
       ]
      },
      {
       "output_type": "stream",
       "stream": "stdout",
       "text": [
        "warc[SCI,1][227,*]     29/29   29/29       2.88       -21.8  -0.0011    0.458\n"
       ]
      },
      {
       "output_type": "stream",
       "stream": "stdout",
       "text": [
        "warc[SCI,1][217,*]     29/29   29/29       2.96       -22.4  -0.0011    0.377\n"
       ]
      },
      {
       "output_type": "stream",
       "stream": "stdout",
       "text": [
        "warc[SCI,1][207,*]     29/29   29/29       3.05       -23.1  -0.0012    0.457\n"
       ]
      },
      {
       "output_type": "stream",
       "stream": "stdout",
       "text": [
        "warc[SCI,1][197,*]     29/29   29/29       3.14       -23.7  -0.0012    0.469\n"
       ]
      },
      {
       "output_type": "stream",
       "stream": "stdout",
       "text": [
        "warc[SCI,1][187,*]     29/29   29/29       3.23       -24.5  -0.0012    0.667\n"
       ]
      },
      {
       "output_type": "stream",
       "stream": "stdout",
       "text": [
        "warc[SCI,1][177,*]     29/29   29/29       3.34       -25.2  -0.0013    0.568\n"
       ]
      },
      {
       "output_type": "stream",
       "stream": "stdout",
       "text": [
        "warc[SCI,1][167,*]     29/29   29/29       3.44        -26.  -0.0013    0.577\n"
       ]
      },
      {
       "output_type": "stream",
       "stream": "stdout",
       "text": [
        "warc[SCI,1][157,*]     29/29   29/29       3.47       -26.3  -0.0013    0.531\n"
       ]
      },
      {
       "output_type": "stream",
       "stream": "stdout",
       "text": [
        "warc[SCI,1][147,*]     29/29   28/29       3.53       -26.7  -0.0014    0.293\n"
       ]
      },
      {
       "output_type": "stream",
       "stream": "stdout",
       "text": [
        "warc[SCI,1][137,*]     29/29   28/29       3.62       -27.4  -0.0014    0.284\n"
       ]
      },
      {
       "output_type": "stream",
       "stream": "stdout",
       "text": [
        "warc[SCI,1][127,*]     28/29   26/28       3.44        -26.  -0.0013    0.241\n"
       ]
      },
      {
       "output_type": "stream",
       "stream": "stdout",
       "text": [
        "warc[SCI,1][117,*]     28/29   26/28       3.54       -26.8  -0.0014    0.273\n"
       ]
      },
      {
       "output_type": "stream",
       "stream": "stdout",
       "text": [
        "warc[SCI,1][107,*]     28/29   27/28       3.67       -27.7  -0.0014    0.359\n"
       ]
      },
      {
       "output_type": "stream",
       "stream": "stdout",
       "text": [
        "warc[SCI,1][97,*]      28/29   27/28       3.77       -28.5  -0.0015    0.377\n"
       ]
      },
      {
       "output_type": "stream",
       "stream": "stdout",
       "text": [
        "warc[SCI,1][87,*]      28/29   27/28       3.82       -28.9  -0.0015    0.404\n"
       ]
      },
      {
       "output_type": "stream",
       "stream": "stdout",
       "text": [
        "warc[SCI,1][77,*]      28/29   27/28       3.88       -29.3  -0.0015    0.414\n"
       ]
      },
      {
       "output_type": "stream",
       "stream": "stdout",
       "text": [
        "warc[SCI,1][67,*]      28/29   27/28       3.98       -30.1  -0.0015    0.348\n"
       ]
      },
      {
       "output_type": "stream",
       "stream": "stdout",
       "text": [
        "warc[SCI,1][57,*]      28/29   27/28       4.07       -30.8  -0.0016    0.366\n"
       ]
      },
      {
       "output_type": "stream",
       "stream": "stdout",
       "text": [
        "warc[SCI,1][47,*]      28/29   27/28       4.19       -31.7  -0.0016     0.41\n"
       ]
      },
      {
       "output_type": "stream",
       "stream": "stdout",
       "text": [
        "warc[SCI,1][37,*]      28/29   27/28        4.3       -32.5  -0.0017    0.273\n"
       ]
      },
      {
       "output_type": "stream",
       "stream": "stdout",
       "text": [
        "warc[SCI,1][27,*]      28/29   26/28       4.41       -33.4  -0.0017    0.237\n"
       ]
      },
      {
       "output_type": "stream",
       "stream": "stdout",
       "text": [
        "warc[SCI,1][17,*]      28/29   26/28       4.49        -34.  -0.0017    0.133\n"
       ]
      },
      {
       "output_type": "stream",
       "stream": "stdout",
       "text": [
        "warc[SCI,1][7,*]       28/29   26/28       4.59       -34.7  -0.0018    0.258\n"
       ]
      },
      {
       "output_type": "stream",
       "stream": "stdout",
       "text": [
        "warc[SCI,1][727,*]     29/29   29/29    -0.0496       0.375  2.05E-5    0.264\n"
       ]
      },
      {
       "output_type": "stream",
       "stream": "stdout",
       "text": [
        "warc[SCI,1][737,*]     29/29   29/29    -0.0914       0.691  3.72E-5    0.349\n"
       ]
      },
      {
       "output_type": "stream",
       "stream": "stdout",
       "text": [
        "warc[SCI,1][747,*]     29/29   29/29     -0.136        1.03  5.49E-5     0.38\n"
       ]
      },
      {
       "output_type": "stream",
       "stream": "stdout",
       "text": [
        "warc[SCI,1][757,*]     29/29   29/29     -0.183        1.39  7.31E-5    0.413\n"
       ]
      },
      {
       "output_type": "stream",
       "stream": "stdout",
       "text": [
        "warc[SCI,1][767,*]     29/29   29/29     -0.225         1.7  9.17E-5    0.338\n"
       ]
      },
      {
       "output_type": "stream",
       "stream": "stdout",
       "text": [
        "warc[SCI,1][777,*]     29/29   29/29     -0.259        1.96  1.05E-4    0.306\n"
       ]
      },
      {
       "output_type": "stream",
       "stream": "stdout",
       "text": [
        "warc[SCI,1][787,*]     29/29   29/29     -0.276        2.09  1.11E-4    0.335\n"
       ]
      },
      {
       "output_type": "stream",
       "stream": "stdout",
       "text": [
        "warc[SCI,1][797,*]     29/29   29/29     -0.317         2.4  1.26E-4    0.322\n"
       ]
      },
      {
       "output_type": "stream",
       "stream": "stdout",
       "text": [
        "warc[SCI,1][807,*]     29/29   29/29     -0.351        2.66  1.39E-4    0.369\n"
       ]
      },
      {
       "output_type": "stream",
       "stream": "stdout",
       "text": [
        "warc[SCI,1][817,*]     29/29   29/29     -0.385        2.91  1.52E-4    0.353\n"
       ]
      },
      {
       "output_type": "stream",
       "stream": "stdout",
       "text": [
        "warc[SCI,1][827,*]     29/29   29/29     -0.421        3.19  1.67E-4    0.414\n"
       ]
      },
      {
       "output_type": "stream",
       "stream": "stdout",
       "text": [
        "warc[SCI,1][837,*]     29/29   28/29     -0.454        3.43  1.81E-4    0.264\n"
       ]
      },
      {
       "output_type": "stream",
       "stream": "stdout",
       "text": [
        "warc[SCI,1][847,*]     29/29   29/29     -0.485        3.67  1.93E-4    0.455\n"
       ]
      },
      {
       "output_type": "stream",
       "stream": "stdout",
       "text": [
        "warc[SCI,1][857,*]     29/29   29/29      -0.52        3.93  2.08E-4    0.394\n"
       ]
      },
      {
       "output_type": "stream",
       "stream": "stdout",
       "text": [
        "warc[SCI,1][867,*]     29/29   29/29     -0.546        4.13  2.19E-4    0.526\n"
       ]
      },
      {
       "output_type": "stream",
       "stream": "stdout",
       "text": [
        "warc[SCI,1][877,*]     29/29   29/29     -0.569         4.3  2.27E-4    0.432\n"
       ]
      },
      {
       "output_type": "stream",
       "stream": "stdout",
       "text": [
        "warc[SCI,1][887,*]     29/29   29/29     -0.601        4.54  2.41E-4    0.446\n"
       ]
      },
      {
       "output_type": "stream",
       "stream": "stdout",
       "text": [
        "warc[SCI,1][897,*]     29/29   29/29     -0.645        4.88  2.58E-4    0.408\n"
       ]
      },
      {
       "output_type": "stream",
       "stream": "stdout",
       "text": [
        "warc[SCI,1][907,*]     29/29   28/29     -0.676        5.11  2.70E-4    0.374\n"
       ]
      },
      {
       "output_type": "stream",
       "stream": "stdout",
       "text": [
        "warc[SCI,1][917,*]     29/29   29/29     -0.711        5.37  2.85E-4    0.355\n"
       ]
      },
      {
       "output_type": "stream",
       "stream": "stdout",
       "text": [
        "warc[SCI,1][927,*]     29/29   29/29     -0.744        5.63  3.00E-4    0.386\n"
       ]
      },
      {
       "output_type": "stream",
       "stream": "stdout",
       "text": [
        "warc[SCI,1][937,*]     29/29   29/29     -0.765        5.78  3.08E-4    0.342\n"
       ]
      },
      {
       "output_type": "stream",
       "stream": "stdout",
       "text": [
        "warc[SCI,1][947,*]     29/29   29/29     -0.794        6.01  3.20E-4    0.377\n"
       ]
      },
      {
       "output_type": "stream",
       "stream": "stdout",
       "text": [
        "warc[SCI,1][957,*]     29/29   29/29     -0.816        6.17  3.30E-4    0.372\n"
       ]
      },
      {
       "output_type": "stream",
       "stream": "stdout",
       "text": [
        "warc[SCI,1][967,*]     29/29   29/29      -0.84        6.36  3.39E-4    0.272\n"
       ]
      },
      {
       "output_type": "stream",
       "stream": "stdout",
       "text": [
        "warc[SCI,1][977,*]     29/29   29/29     -0.866        6.55  3.51E-4    0.245\n"
       ]
      },
      {
       "output_type": "stream",
       "stream": "stdout",
       "text": [
        "warc[SCI,1][987,*]     29/29   29/29     -0.895        6.77  3.63E-4    0.294\n"
       ]
      },
      {
       "output_type": "stream",
       "stream": "stdout",
       "text": [
        "warc[SCI,1][997,*]     29/29   29/29     -0.909        6.88  3.67E-4    0.255\n"
       ]
      },
      {
       "output_type": "stream",
       "stream": "stdout",
       "text": [
        "warc[SCI,1][1007,*]    29/29   29/29      -0.93        7.03  3.76E-4    0.346\n"
       ]
      },
      {
       "output_type": "stream",
       "stream": "stdout",
       "text": [
        "warc[SCI,1][1017,*]    29/29   29/29     -0.955        7.22  3.87E-4    0.314\n"
       ]
      },
      {
       "output_type": "stream",
       "stream": "stdout",
       "text": [
        "warc[SCI,1][1027,*]    29/29   29/29     -0.959        7.25  3.90E-4    0.236\n"
       ]
      },
      {
       "output_type": "stream",
       "stream": "stdout",
       "text": [
        "warc[SCI,1][1037,*]    29/29   29/29      -0.96        7.26  3.91E-4    0.272\n"
       ]
      },
      {
       "output_type": "stream",
       "stream": "stdout",
       "text": [
        "warc[SCI,1][1047,*]    29/29   29/29     -0.981        7.42  4.01E-4    0.248\n"
       ]
      },
      {
       "output_type": "stream",
       "stream": "stdout",
       "text": [
        "warc[SCI,1][1057,*]    29/29   29/29     -0.994        7.51  4.06E-4    0.249\n"
       ]
      },
      {
       "output_type": "stream",
       "stream": "stdout",
       "text": [
        "warc[SCI,1][1067,*]    29/29   29/29        -1.        7.56  4.07E-4     0.36\n"
       ]
      },
      {
       "output_type": "stream",
       "stream": "stdout",
       "text": [
        "warc[SCI,1][1077,*]    29/29   29/29      -1.02        7.68  4.14E-4    0.325\n"
       ]
      },
      {
       "output_type": "stream",
       "stream": "stdout",
       "text": [
        "warc[SCI,1][1087,*]    29/29   29/29      -1.04        7.89  4.28E-4    0.339\n"
       ]
      },
      {
       "output_type": "stream",
       "stream": "stdout",
       "text": [
        "warc[SCI,1][1097,*]    29/29   29/29      -1.05         7.9  4.28E-4    0.277\n"
       ]
      },
      {
       "output_type": "stream",
       "stream": "stdout",
       "text": [
        "warc[SCI,1][1107,*]    29/29   29/29      -1.04        7.89  4.30E-4    0.404\n"
       ]
      },
      {
       "output_type": "stream",
       "stream": "stdout",
       "text": [
        "warc[SCI,1][1117,*]    29/29   29/29      -1.08        8.16  4.44E-4    0.377\n"
       ]
      },
      {
       "output_type": "stream",
       "stream": "stdout",
       "text": [
        "warc[SCI,1][1127,*]    29/29   29/29      -1.09        8.24  4.49E-4    0.326\n"
       ]
      },
      {
       "output_type": "stream",
       "stream": "stdout",
       "text": [
        "warc[SCI,1][1137,*]    29/29   29/29       -1.1         8.3  4.52E-4    0.363\n"
       ]
      },
      {
       "output_type": "stream",
       "stream": "stdout",
       "text": [
        "warc[SCI,1][1147,*]    29/29   29/29      -1.12        8.43  4.59E-4    0.346\n"
       ]
      },
      {
       "output_type": "stream",
       "stream": "stdout",
       "text": [
        "warc[SCI,1][1157,*]    29/29   29/29      -1.14        8.63  4.72E-4    0.348\n"
       ]
      },
      {
       "output_type": "stream",
       "stream": "stdout",
       "text": [
        "warc[SCI,1][1167,*]    29/29   28/29      -1.14        8.65  4.73E-4    0.322\n"
       ]
      },
      {
       "output_type": "stream",
       "stream": "stdout",
       "text": [
        "warc[SCI,1][1177,*]    29/29   28/29      -1.15         8.7  4.76E-4    0.346\n"
       ]
      },
      {
       "output_type": "stream",
       "stream": "stdout",
       "text": [
        "warc[SCI,1][1187,*]    29/29   29/29      -1.18         8.9  4.90E-4     0.38\n"
       ]
      },
      {
       "output_type": "stream",
       "stream": "stdout",
       "text": [
        "warc[SCI,1][1197,*]    29/29   29/29      -1.19        8.96  4.93E-4    0.424\n"
       ]
      },
      {
       "output_type": "stream",
       "stream": "stdout",
       "text": [
        "warc[SCI,1][1207,*]    29/29   28/29      -1.19          9.  4.96E-4     0.35\n"
       ]
      },
      {
       "output_type": "stream",
       "stream": "stdout",
       "text": [
        "warc[SCI,1][1217,*]    29/29   29/29       -1.2        9.05  5.00E-4    0.482\n"
       ]
      },
      {
       "output_type": "stream",
       "stream": "stdout",
       "text": [
        "warc[SCI,1][1227,*]    29/29   29/29      -1.21        9.14  5.06E-4    0.523\n"
       ]
      },
      {
       "output_type": "stream",
       "stream": "stdout",
       "text": [
        "warc[SCI,1][1237,*]    29/29   29/29       -1.2        9.04  5.02E-4    0.409\n"
       ]
      },
      {
       "output_type": "stream",
       "stream": "stdout",
       "text": [
        "warc[SCI,1][1247,*]    29/29   29/29       -1.2        9.07  5.05E-4    0.339\n"
       ]
      },
      {
       "output_type": "stream",
       "stream": "stdout",
       "text": [
        "warc[SCI,1][1257,*]    29/29   29/29      -1.21        9.14  5.11E-4    0.298\n"
       ]
      },
      {
       "output_type": "stream",
       "stream": "stdout",
       "text": [
        "warc[SCI,1][1267,*]    29/29   29/29      -1.21        9.11  5.12E-4    0.304\n"
       ]
      },
      {
       "output_type": "stream",
       "stream": "stdout",
       "text": [
        "warc[SCI,1][1277,*]    29/29   29/29      -1.18        8.96  5.02E-4    0.315\n"
       ]
      },
      {
       "output_type": "stream",
       "stream": "stdout",
       "text": [
        "warc[SCI,1][1287,*]    29/29   29/29      -1.18        8.93  5.04E-4    0.349\n"
       ]
      },
      {
       "output_type": "stream",
       "stream": "stdout",
       "text": [
        "warc[SCI,1][1297,*]    29/29   29/29      -1.16        8.76  4.96E-4     0.34\n"
       ]
      },
      {
       "output_type": "stream",
       "stream": "stdout",
       "text": [
        "warc[SCI,1][1307,*]    29/29   29/29      -1.13        8.54  4.82E-4    0.282\n"
       ]
      },
      {
       "output_type": "stream",
       "stream": "stdout",
       "text": [
        "warc[SCI,1][1317,*]    29/29   29/29      -1.11         8.4  4.76E-4    0.327\n"
       ]
      },
      {
       "output_type": "stream",
       "stream": "stdout",
       "text": [
        "warc[SCI,1][1327,*]    29/29   29/29       -1.1        8.35  4.74E-4    0.363\n"
       ]
      },
      {
       "output_type": "stream",
       "stream": "stdout",
       "text": [
        "warc[SCI,1][1337,*]    29/29   29/29       -1.1        8.28  4.71E-4     0.36\n"
       ]
      },
      {
       "output_type": "stream",
       "stream": "stdout",
       "text": [
        "warc[SCI,1][1347,*]    29/29   29/29      -1.08        8.17  4.64E-4    0.384\n"
       ]
      },
      {
       "output_type": "stream",
       "stream": "stdout",
       "text": [
        "warc[SCI,1][1357,*]    29/29   29/29      -1.09        8.23  4.69E-4    0.372\n"
       ]
      },
      {
       "output_type": "stream",
       "stream": "stdout",
       "text": [
        "warc[SCI,1][1367,*]    29/29   29/29      -1.09        8.25  4.72E-4    0.391\n"
       ]
      },
      {
       "output_type": "stream",
       "stream": "stdout",
       "text": [
        "warc[SCI,1][1377,*]    29/29   29/29      -1.09        8.21  4.71E-4     0.48\n"
       ]
      },
      {
       "output_type": "stream",
       "stream": "stdout",
       "text": [
        "warc[SCI,1][1387,*]    29/29   29/29      -1.07        8.12  4.70E-4    0.355\n"
       ]
      },
      {
       "output_type": "stream",
       "stream": "stdout",
       "text": [
        "warc[SCI,1][1397,*]    29/29   29/29      -1.06        7.99  4.66E-4    0.389\n"
       ]
      },
      {
       "output_type": "stream",
       "stream": "stdout",
       "text": [
        "warc[SCI,1][1407,*]    29/29   29/29      -1.04        7.85  4.58E-4    0.359\n"
       ]
      },
      {
       "output_type": "stream",
       "stream": "stdout",
       "text": [
        "warc[SCI,1][1417,*]    29/29   29/29      -1.02        7.74  4.53E-4    0.342\n"
       ]
      },
      {
       "output_type": "stream",
       "stream": "stdout",
       "text": [
        "warc[SCI,1][1427,*]    29/29   29/29      -1.03        7.76  4.56E-4    0.421\n"
       ]
      },
      {
       "output_type": "stream",
       "stream": "stdout",
       "text": [
        "\n",
        "NSWHELPER Exit status good\n",
        "-------------------------------------------------------------------------------\n",
        "\n",
        "NSWAVELENGTH Exit status good\n",
        "-------------------------------------------------------------------------------\n"
       ]
      }
     ],
     "prompt_number": 12
    },
    {
     "cell_type": "heading",
     "level": 2,
     "metadata": {},
     "source": [
      "Test recovery of a calibrated arc"
     ]
    },
    {
     "cell_type": "markdown",
     "metadata": {},
     "source": [
      "Confirm that applying the wavelength solution to the arc itself recovers a correctly wavelength-calibrated arc.  The key step is **<code>nsfitcoords</code>**.  The default **<code>lxorder</code>** and **<code>lyorder</code>** are both set to 2 which doesn't seem to be correct.  Running **<code>nsfitcoords</code>** interactively on the arc will allow us to discover the best **<code>lxorder</code>** and **<code>lyorder</code>** for this wavelength solution, and use that as a starting point later when using the arc wavelength solution (**<code>warc.fits</code>**) on the telluric and the science."
     ]
    },
    {
     "cell_type": "markdown",
     "metadata": {},
     "source": [
      "Cut and paste these instructions in the PyRAF session that we prepared in Step 0. \n",
      "\n",
      "    iraf.imdelete('farc.fits', verify='no')\n",
      "    iraf.nsfitcoords('arc.fits', lamptransf='warc.fits', fl_inter='yes')\n",
      "    # Note down the xorder and yorder needed for a good fit.  Use\n",
      "    # that whenever warc.fits is used by nsfitcoords.\n",
      "    # :xorder 3, :yorder 8\n"
     ]
    },
    {
     "cell_type": "markdown",
     "metadata": {},
     "source": [
      "Record the lxorder and lyorder in the notebook session for future use."
     ]
    },
    {
     "cell_type": "code",
     "collapsed": false,
     "input": [
      "lxorder=3 ; lyorder=8"
     ],
     "language": "python",
     "metadata": {},
     "outputs": [],
     "prompt_number": 13
    },
    {
     "cell_type": "code",
     "collapsed": false,
     "input": [
      "iraf.imdelete('tfarc.fits', verify='no')\n",
      "iraf.nstransform('farc.fits')\n",
      "iraf.display('tfarc.fits[sci,1]', 1)"
     ],
     "language": "python",
     "metadata": {},
     "outputs": [
      {
       "output_type": "stream",
       "stream": "stdout",
       "text": [
        "-------------------------------------------------------------------------------\n",
        "NSTRANSFORM -- Sun Sep  6 17:11:30 HST 2015\n",
        "\n",
        "Using input files:"
       ]
      },
      {
       "output_type": "stream",
       "stream": "stdout",
       "text": [
        "\n",
        "farc\n"
       ]
      },
      {
       "output_type": "stream",
       "stream": "stdout",
       "text": [
        "Using output files:\n",
        "tfarc\n"
       ]
      },
      {
       "output_type": "stream",
       "stream": "stdout",
       "text": [
        "NSTRANSFORM: Fitnames for farc: farc_SCI_1_lamp\n",
        "WARNING - NSTRANSFORM: No MDF in farc"
       ]
      },
      {
       "output_type": "stream",
       "stream": "stdout",
       "text": [
        "\n"
       ]
      },
      {
       "output_type": "stream",
       "stream": "stdout",
       "text": [
        "NSTRANSFORM: Exit status good\n",
        "-------------------------------------------------------------------------------\n"
       ]
      },
      {
       "output_type": "stream",
       "stream": "stdout",
       "text": [
        "z1=0. z2=6670.008\n"
       ]
      }
     ],
     "prompt_number": 15
    },
    {
     "cell_type": "code",
     "collapsed": false,
     "input": [
      "# display the first telluric to identify on which column the spectrum falls in\n",
      "# the A position.\n",
      "first_tel = iraf.head('tel.lis', nlines=1, Stdout=1)[0].strip()\n",
      "iraf.display('f'+first_tel+'[1]', 1)"
     ],
     "language": "python",
     "metadata": {},
     "outputs": [
      {
       "output_type": "stream",
       "stream": "stdout",
       "text": [
        "z1=-79. z2=389.0554\n"
       ]
      }
     ],
     "prompt_number": 16
    },
    {
     "cell_type": "code",
     "collapsed": false,
     "input": [
      "# UPDATE POSITION OF TELLURIC\n",
      "# position of the telluric is column 951 (around the center of the frame)\n",
      "iraf.tel_position = 951"
     ],
     "language": "python",
     "metadata": {},
     "outputs": [],
     "prompt_number": 17
    },
    {
     "cell_type": "code",
     "collapsed": false,
     "input": [
      "iraf.splot('tfarc.fits[sci,1]', line=iraf.tel_position, options=\"auto wreset flip\")"
     ],
     "language": "python",
     "metadata": {},
     "outputs": [
      {
       "output_type": "stream",
       "stream": "stdout",
       "text": [
        "window:"
       ]
      },
      {
       "output_type": "stream",
       "stream": "stdout",
       "text": [
        "again:"
       ]
      },
      {
       "output_type": "stream",
       "stream": "stdout",
       "text": [
        "k again:"
       ]
      },
      {
       "output_type": "stream",
       "stream": "stdout",
       "text": [
        "\n",
        "1: center =  13719.1, flux =  519196., eqw = -57.86, gfwhm =  24.21"
       ]
      },
      {
       "output_type": "stream",
       "stream": "stdout",
       "text": [
        "k again:"
       ]
      },
      {
       "output_type": "stream",
       "stream": "stdout",
       "text": [
        "\n",
        "1: center =  13506.1, flux =  310594., eqw = -32.83, gfwhm =  20.58"
       ]
      },
      {
       "output_type": "stream",
       "stream": "stdout",
       "text": [
        "k again:"
       ]
      },
      {
       "output_type": "stream",
       "stream": "stdout",
       "text": [
        "\n",
        "1: center =  13370.5, flux =  108372., eqw =  -11.8, gfwhm =  14.57"
       ]
      },
      {
       "output_type": "stream",
       "stream": "stdout",
       "text": [
        "window:"
       ]
      },
      {
       "output_type": "stream",
       "stream": "stdout",
       "text": [
        "window:"
       ]
      },
      {
       "output_type": "stream",
       "stream": "stdout",
       "text": [
        "again:"
       ]
      },
      {
       "output_type": "stream",
       "stream": "stdout",
       "text": [
        "k again:"
       ]
      },
      {
       "output_type": "stream",
       "stream": "stdout",
       "text": [
        "\n",
        "1: center =  23972.2, flux =   12121., eqw = -2.035, gfwhm =  16.23"
       ]
      },
      {
       "output_type": "stream",
       "stream": "stdout",
       "text": [
        "k again:"
       ]
      },
      {
       "output_type": "stream",
       "stream": "stdout",
       "text": [
        "\n",
        "1: center =  23854.1, flux =    6506., eqw = -1.187, gfwhm =  12.05"
       ]
      },
      {
       "output_type": "stream",
       "stream": "stdout",
       "text": [
        "window:"
       ]
      },
      {
       "output_type": "stream",
       "stream": "stdout",
       "text": [
        "window:"
       ]
      },
      {
       "output_type": "stream",
       "stream": "stdout",
       "text": [
        "again:"
       ]
      },
      {
       "output_type": "stream",
       "stream": "stdout",
       "text": [
        "k again:"
       ]
      },
      {
       "output_type": "stream",
       "stream": "stdout",
       "text": [
        "\n",
        "1: center =  17450.7, flux =   79101., eqw = -36.98, gfwhm =  9.195"
       ]
      },
      {
       "output_type": "stream",
       "stream": "stdout",
       "text": [
        "window:"
       ]
      }
     ],
     "prompt_number": 18
    },
    {
     "cell_type": "markdown",
     "metadata": {},
     "source": [
      "Check that the arc lines are at the correct wavelength. Use '<code>k</code>' on each side of the a line to get the centroid. Then compare with the line list and the diagrams.\n",
      "\n",
      "Resource:  \n",
      "    http://www.gemini.edu/sciops/instruments/niri/?q=node/10166\n",
      "\n",
      "The NIRI plots from that webpage work well.\n",
      "\n",
      "*Result: (Kathleen)\n",
      "The arc gets transformed correctly with lxorder=3, lyorder=8.  Just quicklook for now, I have not looked carefully at the blue and red end, and I have not looked for an absolute offset. "
     ]
    },
    {
     "cell_type": "heading",
     "level": 2,
     "metadata": {},
     "source": [
      "STEP 9: Reduce the science data"
     ]
    },
    {
     "cell_type": "code",
     "collapsed": false,
     "input": [
      "iraf.imdelete('df@obj.lis', verify='no')\n",
      "iraf.nsreduce('f@obj.lis', outprefix='d', fl_cut='no', fl_process_cut='no', \\\n",
      "    fl_dark='yes', darkimage='objdark.fits', fl_sky='no', fl_flat='no')\n",
      "\n",
      "iraf.imdelete('rdf@obj.lis', verify='no')\n",
      "iraf.nsreduce('df@obj.lis', fl_cut='yes', fl_dark='no', fl_sky='yes', \\\n",
      "    fl_flat='yes', flatimage='flat.fits')"
     ],
     "language": "python",
     "metadata": {},
     "outputs": [
      {
       "output_type": "stream",
       "stream": "stdout",
       "text": [
        "-------------------------------------------------------------------------------\n",
        "NSREDUCE -- Sun Sep  6 17:14:43 HST 2015\n",
        " \n",
        "NSREDUCE: Processing 8 extension(s) from 8 file(s)."
       ]
      },
      {
       "output_type": "stream",
       "stream": "stdout",
       "text": [
        "\n"
       ]
      },
      {
       "output_type": "stream",
       "stream": "stdout",
       "text": [
        "NSREDUCE: slit: 2pix-slit\n",
        "NSREDUCE: filter: HK\n",
        "\n",
        "   n input                   --> output                  sky image\n",
        " dark                    flat                    scale\n",
        "\n",
        "   1 fS20150904S0264         --> dfS20150904S0264        none                   \n",
        " objdark                 none                    1.0000 \n",
        "   2 fS20150904S0265         --> dfS20150904S0265        none                   "
       ]
      },
      {
       "output_type": "stream",
       "stream": "stdout",
       "text": [
        "\n",
        " objdark                 none                    1.0000 \n",
        "   3 fS20150904S0266         --> dfS20150904S0266        none                   "
       ]
      },
      {
       "output_type": "stream",
       "stream": "stdout",
       "text": [
        "\n",
        " objdark                 none                    1.0000 \n",
        "   4 fS20150904S0267         --> dfS20150904S0267        none                   "
       ]
      },
      {
       "output_type": "stream",
       "stream": "stdout",
       "text": [
        "\n",
        " objdark                 none                    1.0000 \n",
        "   5 fS20150904S0268         --> dfS20150904S0268        none                   "
       ]
      },
      {
       "output_type": "stream",
       "stream": "stdout",
       "text": [
        "\n",
        " objdark                 none                    1.0000 \n",
        "   6 fS20150904S0269         --> dfS20150904S0269        none                   "
       ]
      },
      {
       "output_type": "stream",
       "stream": "stdout",
       "text": [
        "\n",
        " objdark                 none                    1.0000 \n",
        "   7 fS20150904S0270         --> dfS20150904S0270        none                   "
       ]
      },
      {
       "output_type": "stream",
       "stream": "stdout",
       "text": [
        "\n",
        " objdark                 none                    1.0000 \n",
        "   8 fS20150904S0271         --> dfS20150904S0271        none                   "
       ]
      },
      {
       "output_type": "stream",
       "stream": "stdout",
       "text": [
        "\n",
        " objdark                 none                    1.0000 \n"
       ]
      },
      {
       "output_type": "stream",
       "stream": "stdout",
       "text": [
        " \n",
        "NSREDUCE exit status: good.\n",
        "------------------------------------------------------------------------------\n",
        "-------------------------------------------------------------------------------"
       ]
      },
      {
       "output_type": "stream",
       "stream": "stdout",
       "text": [
        "\n",
        "NSREDUCE -- Sun Sep  6 17:15:12 HST 2015\n",
        " \n",
        "----------------------------------------------------------------------------"
       ]
      },
      {
       "output_type": "stream",
       "stream": "stdout",
       "text": [
        "\n",
        "F2CUT -- Sun Sep  6 17:15:14 HST 2015"
       ]
      },
      {
       "output_type": "stream",
       "stream": "stdout",
       "text": [
        "\n",
        " \n",
        "\n",
        "Pixel scale: 0.1797"
       ]
      },
      {
       "output_type": "stream",
       "stream": "stdout",
       "text": [
        "\n",
        "Grism: HK_G5802\n",
        "Filter: HK\n"
       ]
      },
      {
       "output_type": "stream",
       "stream": "stdout",
       "text": [
        "\n",
        "dfS20150904S0264 --> dfS20150904S0264-70436_629"
       ]
      },
      {
       "output_type": "stream",
       "stream": "stdout",
       "text": [
        "\n",
        " [SCI,1][57:1490,200:1797] --> [SCI,1]\n",
        "dfS20150904S0265 --> dfS20150904S0265-70436_631"
       ]
      },
      {
       "output_type": "stream",
       "stream": "stdout",
       "text": [
        "\n",
        "dfS20150904S0266 --> dfS20150904S0266-70436_633"
       ]
      },
      {
       "output_type": "stream",
       "stream": "stdout",
       "text": [
        "\n",
        "dfS20150904S0267 --> dfS20150904S0267-70436_635"
       ]
      },
      {
       "output_type": "stream",
       "stream": "stdout",
       "text": [
        "\n",
        "dfS20150904S0268 --> dfS20150904S0268-70436_637"
       ]
      },
      {
       "output_type": "stream",
       "stream": "stdout",
       "text": [
        "\n",
        "dfS20150904S0269 --> dfS20150904S0269-70436_639"
       ]
      },
      {
       "output_type": "stream",
       "stream": "stdout",
       "text": [
        "\n",
        "dfS20150904S0270 --> dfS20150904S0270-70436_641"
       ]
      },
      {
       "output_type": "stream",
       "stream": "stdout",
       "text": [
        "\n",
        "dfS20150904S0271 --> dfS20150904S0271-70436_643"
       ]
      },
      {
       "output_type": "stream",
       "stream": "stdout",
       "text": [
        "\n"
       ]
      },
      {
       "output_type": "stream",
       "stream": "stdout",
       "text": [
        " \n",
        "F2CUT exit status: good.\n",
        "----------------------------------------------------------------------------\n",
        "------------------------------------------------------------------------------"
       ]
      },
      {
       "output_type": "stream",
       "stream": "stdout",
       "text": [
        "\n",
        "NSAPPWAVE -- Sun Sep  6 17:15:37 HST 2015\n",
        " \n"
       ]
      },
      {
       "output_type": "stream",
       "stream": "stdout",
       "text": [
        "NSAPPWAVE: Processing 8 extension(s) from 8 file(s).\n",
        "  Camera     Grating    Filter     Prism      FPMask     Wave   Delta Order Axis\n",
        "dfS20150904S0264-70436_629 -> dfS20150904S0264-70436_630 ( 1)"
       ]
      },
      {
       "output_type": "stream",
       "stream": "stdout",
       "text": [
        "\n",
        "  f/16_G5830   HK_G5802         HK             2pix-slit 18710.00 -7.83 INDEF 2\n"
       ]
      },
      {
       "output_type": "stream",
       "stream": "stdout",
       "text": [
        "NSAPPWAVE: cradius not from table for dfS20150904S0264-70436_629.\n",
        "           (further table messages supressed for this file).\n",
        "  extension  1: 18710.000000 -7.826000 INDEF\n",
        "dfS20150904S0265-70436_631 -> dfS20150904S0265-70436_632 ( 1)"
       ]
      },
      {
       "output_type": "stream",
       "stream": "stdout",
       "text": [
        "\n",
        "  f/16_G5830   HK_G5802         HK             2pix-slit 18710.00 -7.83 INDEF 2\n"
       ]
      },
      {
       "output_type": "stream",
       "stream": "stdout",
       "text": [
        "NSAPPWAVE: cradius not from table for dfS20150904S0265-70436_631.\n",
        "           (further table messages supressed for this file).\n",
        "  extension  1: 18710.000000 -7.826000 INDEF\n",
        "dfS20150904S0266-70436_633 -> dfS20150904S0266-70436_634 ( 1)"
       ]
      },
      {
       "output_type": "stream",
       "stream": "stdout",
       "text": [
        "\n",
        "  f/16_G5830   HK_G5802         HK             2pix-slit 18710.00 -7.83 INDEF 2\n"
       ]
      },
      {
       "output_type": "stream",
       "stream": "stdout",
       "text": [
        "NSAPPWAVE: cradius not from table for dfS20150904S0266-70436_633.\n",
        "           (further table messages supressed for this file).\n",
        "  extension  1: 18710.000000 -7.826000 INDEF\n",
        "dfS20150904S0267-70436_635 -> dfS20150904S0267-70436_636 ( 1)"
       ]
      },
      {
       "output_type": "stream",
       "stream": "stdout",
       "text": [
        "\n",
        "  f/16_G5830   HK_G5802         HK             2pix-slit 18710.00 -7.83 INDEF 2\n"
       ]
      },
      {
       "output_type": "stream",
       "stream": "stdout",
       "text": [
        "NSAPPWAVE: cradius not from table for dfS20150904S0267-70436_635.\n",
        "           (further table messages supressed for this file).\n",
        "  extension  1: 18710.000000 -7.826000 INDEF\n",
        "dfS20150904S0268-70436_637 -> dfS20150904S0268-70436_638 ( 1)"
       ]
      },
      {
       "output_type": "stream",
       "stream": "stdout",
       "text": [
        "\n",
        "  f/16_G5830   HK_G5802         HK             2pix-slit 18710.00 -7.83 INDEF 2\n"
       ]
      },
      {
       "output_type": "stream",
       "stream": "stdout",
       "text": [
        "NSAPPWAVE: cradius not from table for dfS20150904S0268-70436_637.\n",
        "           (further table messages supressed for this file).\n",
        "  extension  1: 18710.000000 -7.826000 INDEF\n",
        "dfS20150904S0269-70436_639 -> dfS20150904S0269-70436_640 ( 1)"
       ]
      },
      {
       "output_type": "stream",
       "stream": "stdout",
       "text": [
        "\n",
        "  f/16_G5830   HK_G5802         HK             2pix-slit 18710.00 -7.83 INDEF 2\n"
       ]
      },
      {
       "output_type": "stream",
       "stream": "stdout",
       "text": [
        "NSAPPWAVE: cradius not from table for dfS20150904S0269-70436_639.\n",
        "           (further table messages supressed for this file).\n",
        "  extension  1: 18710.000000 -7.826000 INDEF\n",
        "dfS20150904S0270-70436_641 -> dfS20150904S0270-70436_642 ( 1)"
       ]
      },
      {
       "output_type": "stream",
       "stream": "stdout",
       "text": [
        "\n",
        "  f/16_G5830   HK_G5802         HK             2pix-slit 18710.00 -7.83 INDEF 2\n"
       ]
      },
      {
       "output_type": "stream",
       "stream": "stdout",
       "text": [
        "NSAPPWAVE: cradius not from table for dfS20150904S0270-70436_641.\n",
        "           (further table messages supressed for this file).\n",
        "  extension  1: 18710.000000 -7.826000 INDEF\n",
        "dfS20150904S0271-70436_643 -> dfS20150904S0271-70436_644 ( 1)"
       ]
      },
      {
       "output_type": "stream",
       "stream": "stdout",
       "text": [
        "\n",
        "  f/16_G5830   HK_G5802         HK             2pix-slit 18710.00 -7.83 INDEF 2\n"
       ]
      },
      {
       "output_type": "stream",
       "stream": "stdout",
       "text": [
        "NSAPPWAVE: cradius not from table for dfS20150904S0271-70436_643.\n",
        "           (further table messages supressed for this file).\n",
        "  extension  1: 18710.000000 -7.826000 INDEF\n"
       ]
      },
      {
       "output_type": "stream",
       "stream": "stdout",
       "text": [
        "\n",
        "NSAPPWAVE Exit status good\n",
        "------------------------------------------------------------------------------\n",
        "NSREDUCE: Generating the sky frame(s) using the other nod positions"
       ]
      },
      {
       "output_type": "stream",
       "stream": "stdout",
       "text": [
        "\n",
        "          (separations greater than 1.5 arcsec) from neighbouring\n",
        "          exposures.\n",
        "\n",
        "------------------------------------------------------------------------------"
       ]
      },
      {
       "output_type": "stream",
       "stream": "stdout",
       "text": [
        "\n",
        "NSSKY -- Sun Sep  6 17:16:24 HST 2015\n",
        " \n",
        "WARNING - NSSKY: Will take sky from input images"
       ]
      },
      {
       "output_type": "stream",
       "stream": "stdout",
       "text": [
        "\n",
        "NSSKY: Obs time for dfS20150904S0264-70436_630.fits[0]:  3:35:03.5"
       ]
      },
      {
       "output_type": "stream",
       "stream": "stdout",
       "text": [
        "\n",
        "NSSKY: Obs time for dfS20150904S0265-70436_632.fits[0]:  3:37:39.0  0:02:35.5\n",
        "NSSKY: Obs time for dfS20150904S0266-70436_634.fits[0]:  3:40:12.5  0:02:33.5\n",
        "NSSKY: Obs time for dfS20150904S0267-70436_636.fits[0]:  3:42:48.0  0:02:35.5\n",
        "NSSKY: Obs time for dfS20150904S0268-70436_638.fits[0]:  3:45:23.5  0:02:35.5\n",
        "NSSKY: Obs time for dfS20150904S0269-70436_640.fits[0]:  3:48:00.5  0:02:37.0\n",
        "NSSKY: Obs time for dfS20150904S0270-70436_642.fits[0]:  3:50:35.0  0:02:34.5"
       ]
      },
      {
       "output_type": "stream",
       "stream": "stdout",
       "text": [
        "\n",
        "NSSKY: Obs time for dfS20150904S0271-70436_644.fits[0]:  3:53:10.5  0:02:35.5\n",
        "NSSKY: Min/max:  0:02:33.5/ 0:02:37.0\n",
        "NSSKY: Using observations within 157.0s as sky.\n",
        "NSSKY: Grouping images (please wait).\n"
       ]
      },
      {
       "output_type": "stream",
       "stream": "stdout",
       "text": [
        " \n",
        "NSSKY exit status: good.\n",
        "NSREDUCE: Processing 8 extension(s) from 8 file(s)."
       ]
      },
      {
       "output_type": "stream",
       "stream": "stdout",
       "text": [
        "\n"
       ]
      },
      {
       "output_type": "stream",
       "stream": "stdout",
       "text": [
        "NSREDUCE: slit: 2pix-slit\n",
        "NSREDUCE: filter: HK\n",
        "\n",
        "   n input                   --> output                  sky image\n",
        " dark                    flat                    scale\n",
        "\n",
        "   1 dfS20150904S0264        --> rdfS20150904S0264       dfS20150904S0265-70436_632\n",
        " none                    flat                    1.0000 \n",
        "   2 dfS20150904S0265        --> rdfS20150904S0265       dfS20150904S0264-70436_630"
       ]
      },
      {
       "output_type": "stream",
       "stream": "stdout",
       "text": [
        "\n",
        " none                    flat                    1.0000 \n",
        "   3 dfS20150904S0266        --> rdfS20150904S0266       dfS20150904S0267-70436_636"
       ]
      },
      {
       "output_type": "stream",
       "stream": "stdout",
       "text": [
        "\n",
        " none                    flat                    1.0000 \n",
        "   4 dfS20150904S0267        --> rdfS20150904S0267       dfS20150904S0266-70436_634"
       ]
      },
      {
       "output_type": "stream",
       "stream": "stdout",
       "text": [
        "\n",
        " none                    flat                    1.0000 \n",
        "   5 dfS20150904S0268        --> rdfS20150904S0268       dfS20150904S0269-70436_640"
       ]
      },
      {
       "output_type": "stream",
       "stream": "stdout",
       "text": [
        "\n",
        " none                    flat                    1.0000 \n",
        "   6 dfS20150904S0269        --> rdfS20150904S0269       dfS20150904S0268-70436_638"
       ]
      },
      {
       "output_type": "stream",
       "stream": "stdout",
       "text": [
        "\n",
        " none                    flat                    1.0000 \n",
        "   7 dfS20150904S0270        --> rdfS20150904S0270       dfS20150904S0271-70436_644"
       ]
      },
      {
       "output_type": "stream",
       "stream": "stdout",
       "text": [
        "\n",
        " none                    flat                    1.0000 \n",
        "   8 dfS20150904S0271        --> rdfS20150904S0271       dfS20150904S0270-70436_642"
       ]
      },
      {
       "output_type": "stream",
       "stream": "stdout",
       "text": [
        "\n",
        " none                    flat                    1.0000 \n"
       ]
      },
      {
       "output_type": "stream",
       "stream": "stdout",
       "text": [
        " \n",
        "NSREDUCE exit status: good.\n",
        "------------------------------------------------------------------------------\n"
       ]
      }
     ],
     "prompt_number": 19
    },
    {
     "cell_type": "heading",
     "level": 2,
     "metadata": {},
     "source": [
      "STEP 10: Combine the science data"
     ]
    },
    {
     "cell_type": "markdown",
     "metadata": {},
     "source": [
      "The <code>rejtype</code> is set to <code>minmax</code> in the example included in the Gemini IRAF package.  Kathleen finds that for faint targets, that does not work at all.  Therefore, here we set <code>rejtype</code> to <code>none</code> which seems to work well."
     ]
    },
    {
     "cell_type": "code",
     "collapsed": false,
     "input": [
      "iraf.imdelete('obj_comb.fits', verify='no')\n",
      "iraf.nscombine('rdf@obj.lis', output='obj_comb.fits', fl_shiftint='no', \\\n",
      "    fl_cross='no', rejtype='none')\n",
      "\n",
      "iraf.display('obj_comb.fits[SCI,1]', 1)"
     ],
     "language": "python",
     "metadata": {},
     "outputs": [
      {
       "output_type": "stream",
       "stream": "stdout",
       "text": [
        "--------------------------------------------------------------------------------\n",
        "NSCOMBINE: Sun Sep  6 17:17:30 HST 2015\n",
        " \n",
        "Shifting and combining to single file.\n",
        "Input images = rdf@obj.lis\n",
        "rdfS20150904S0264\n"
       ]
      },
      {
       "output_type": "stream",
       "stream": "stdout",
       "text": [
        "rdfS20150904S0265\n"
       ]
      },
      {
       "output_type": "stream",
       "stream": "stdout",
       "text": [
        "rdfS20150904S0266\n"
       ]
      },
      {
       "output_type": "stream",
       "stream": "stdout",
       "text": [
        "rdfS20150904S0267\n"
       ]
      },
      {
       "output_type": "stream",
       "stream": "stdout",
       "text": [
        "rdfS20150904S0268\n"
       ]
      },
      {
       "output_type": "stream",
       "stream": "stdout",
       "text": [
        "rdfS20150904S0269\n"
       ]
      },
      {
       "output_type": "stream",
       "stream": "stdout",
       "text": [
        "rdfS20150904S0270\n"
       ]
      },
      {
       "output_type": "stream",
       "stream": "stdout",
       "text": [
        "rdfS20150904S0271\n"
       ]
      },
      {
       "output_type": "stream",
       "stream": "stdout",
       "text": [
        "Bad pixel mask = \n",
        "Offset tolerance = 0.5\n",
        "Statistics section = [*,*]\n",
        "Combine algorithm = average\n",
        "Rejection algorithm = none\n",
        "Use integer pixel shifts? no\n",
        "Boundary extension  = nearest\n",
        "NSCOMBINE: Unshifted images:"
       ]
      },
      {
       "output_type": "stream",
       "stream": "stdout",
       "text": [
        "\n",
        "rdfS20150904S0264\n",
        "rdfS20150904S0267\n",
        "rdfS20150904S0268\n",
        "rdfS20150904S0271\n"
       ]
      },
      {
       "output_type": "stream",
       "stream": "stdout",
       "text": [
        "NSCOMBINE: Images shifted by -111.797440178,0.0:\n",
        "rdfS20150904S0265\n",
        "rdfS20150904S0266\n",
        "rdfS20150904S0269\n",
        "rdfS20150904S0270\n"
       ]
      },
      {
       "output_type": "stream",
       "stream": "stdout",
       "text": [
        "10% "
       ]
      },
      {
       "output_type": "stream",
       "stream": "stdout",
       "text": [
        "20% "
       ]
      },
      {
       "output_type": "stream",
       "stream": "stdout",
       "text": [
        "30% "
       ]
      },
      {
       "output_type": "stream",
       "stream": "stdout",
       "text": [
        "40% "
       ]
      },
      {
       "output_type": "stream",
       "stream": "stdout",
       "text": [
        "50% "
       ]
      },
      {
       "output_type": "stream",
       "stream": "stdout",
       "text": [
        "60% "
       ]
      },
      {
       "output_type": "stream",
       "stream": "stdout",
       "text": [
        "70% "
       ]
      },
      {
       "output_type": "stream",
       "stream": "stdout",
       "text": [
        "80% "
       ]
      },
      {
       "output_type": "stream",
       "stream": "stdout",
       "text": [
        "90% "
       ]
      },
      {
       "output_type": "stream",
       "stream": "stdout",
       "text": [
        "100% "
       ]
      },
      {
       "output_type": "stream",
       "stream": "stdout",
       "text": [
        "- done\n"
       ]
      },
      {
       "output_type": "stream",
       "stream": "stdout",
       "text": [
        "10% "
       ]
      },
      {
       "output_type": "stream",
       "stream": "stdout",
       "text": [
        "20% "
       ]
      },
      {
       "output_type": "stream",
       "stream": "stdout",
       "text": [
        "30% "
       ]
      },
      {
       "output_type": "stream",
       "stream": "stdout",
       "text": [
        "40% "
       ]
      },
      {
       "output_type": "stream",
       "stream": "stdout",
       "text": [
        "50% "
       ]
      },
      {
       "output_type": "stream",
       "stream": "stdout",
       "text": [
        "60% "
       ]
      },
      {
       "output_type": "stream",
       "stream": "stdout",
       "text": [
        "70% "
       ]
      },
      {
       "output_type": "stream",
       "stream": "stdout",
       "text": [
        "80% "
       ]
      },
      {
       "output_type": "stream",
       "stream": "stdout",
       "text": [
        "90% "
       ]
      },
      {
       "output_type": "stream",
       "stream": "stdout",
       "text": [
        "100% "
       ]
      },
      {
       "output_type": "stream",
       "stream": "stdout",
       "text": [
        "- done\n"
       ]
      },
      {
       "output_type": "stream",
       "stream": "stdout",
       "text": [
        "10% "
       ]
      },
      {
       "output_type": "stream",
       "stream": "stdout",
       "text": [
        "20% "
       ]
      },
      {
       "output_type": "stream",
       "stream": "stdout",
       "text": [
        "30% "
       ]
      },
      {
       "output_type": "stream",
       "stream": "stdout",
       "text": [
        "40% "
       ]
      },
      {
       "output_type": "stream",
       "stream": "stdout",
       "text": [
        "50% "
       ]
      },
      {
       "output_type": "stream",
       "stream": "stdout",
       "text": [
        "60% "
       ]
      },
      {
       "output_type": "stream",
       "stream": "stdout",
       "text": [
        "70% "
       ]
      },
      {
       "output_type": "stream",
       "stream": "stdout",
       "text": [
        "80% "
       ]
      },
      {
       "output_type": "stream",
       "stream": "stdout",
       "text": [
        "90% "
       ]
      },
      {
       "output_type": "stream",
       "stream": "stdout",
       "text": [
        "100% "
       ]
      },
      {
       "output_type": "stream",
       "stream": "stdout",
       "text": [
        "- done\n"
       ]
      },
      {
       "output_type": "stream",
       "stream": "stdout",
       "text": [
        "10% "
       ]
      },
      {
       "output_type": "stream",
       "stream": "stdout",
       "text": [
        "20% "
       ]
      },
      {
       "output_type": "stream",
       "stream": "stdout",
       "text": [
        "30% "
       ]
      },
      {
       "output_type": "stream",
       "stream": "stdout",
       "text": [
        "40% "
       ]
      },
      {
       "output_type": "stream",
       "stream": "stdout",
       "text": [
        "50% "
       ]
      },
      {
       "output_type": "stream",
       "stream": "stdout",
       "text": [
        "60% "
       ]
      },
      {
       "output_type": "stream",
       "stream": "stdout",
       "text": [
        "70% "
       ]
      },
      {
       "output_type": "stream",
       "stream": "stdout",
       "text": [
        "80% "
       ]
      },
      {
       "output_type": "stream",
       "stream": "stdout",
       "text": [
        "90% "
       ]
      },
      {
       "output_type": "stream",
       "stream": "stdout",
       "text": [
        "100% "
       ]
      },
      {
       "output_type": "stream",
       "stream": "stdout",
       "text": [
        "- done\n"
       ]
      },
      {
       "output_type": "stream",
       "stream": "stdout",
       "text": [
        "NSCOMBINE: Exit status good.\n",
        "--------------------------------------------------------------------------------\n",
        "z1=-47.44749 z2=45.25337\n"
       ]
      }
     ],
     "prompt_number": 20
    },
    {
     "cell_type": "heading",
     "level": 2,
     "metadata": {},
     "source": [
      "STEP 11: Wavelength calibrate the science data"
     ]
    },
    {
     "cell_type": "markdown",
     "metadata": {},
     "source": [
      "It is assumed that the arc has been taken right after (or before) the science observations, without anything moving in-between, other than getting the arc in the field of view.  \n",
      "\n",
      "While the OH sky lines could be used, the coverage is not always adequate across the dispersion axis and the sky lines tend to be a bit broader than the arc lines. \n",
      "\n",
      "-------------\n",
      "**FOR SCIENCE REDUCTION, NOT QUICKLOOK**\n",
      "\n",
      "We will nevertheless double-check that the arc works well on the science observation.  To that end, we will use a science frame that has not been sky subtracted yet, and apply the arc solution.  We will measure the OH sky lines to confirm that they fall where they are supposed to fall.  If this test passes, then we will apply the arc solution to the combined science frame from Step 10.\n",
      "\n",
      "(It should pass.  If it doesn't, something is really wrong with the data and one might have to use the OH sky lines for the wavelength calibration after all.)\n",
      "\n",
      "The key tasks used for this step are:\n",
      "\n",
      "* nsfitcoords:  Used to determine the final 2-D surface solution, based on a previously calculated wavelength solution, to be applied to the data.\n",
      "* nstransform:  Actually applies the 2-D solution found by nsfitcoords to the data.\n",
      "\n",
      "Spatial rectification (s-distortion correction) is not usually needed with F2 longslit data."
     ]
    },
    {
     "cell_type": "heading",
     "level": 4,
     "metadata": {},
     "source": [
      "NOT FOR QL: Test accuracy of the wavelength solution the sky lines."
     ]
    },
    {
     "cell_type": "markdown",
     "metadata": {},
     "source": [
      "We reduce the first science frame but without the sky subtraction."
     ]
    },
    {
     "cell_type": "code",
     "collapsed": false,
     "input": [
      "first_obj = iraf.head('obj.lis', nlines=1, Stdout=1)[0].strip()\n",
      "iraf.imdelete('Xdf'+first_obj, verify='no')\n",
      "iraf.nsreduce('df'+first_obj, outprefix='X', fl_cut='yes', fl_dark='no', \\\n",
      "              fl_sky='no', fl_flat='yes', flatimage='flat.fits')\n",
      "iraf.display('Xdf'+first_obj+'[sci,1]', 1)\n",
      "# confirm that the sky lines are strong enough."
     ],
     "language": "python",
     "metadata": {},
     "outputs": [
      {
       "output_type": "stream",
       "stream": "stdout",
       "text": [
        "-------------------------------------------------------------------------------\n",
        "NSREDUCE -- Sun Sep  6 17:18:14 HST 2015"
       ]
      },
      {
       "output_type": "stream",
       "stream": "stdout",
       "text": [
        "\n",
        " \n",
        "----------------------------------------------------------------------------"
       ]
      },
      {
       "output_type": "stream",
       "stream": "stdout",
       "text": [
        "\n",
        "F2CUT -- Sun Sep  6 17:18:14 HST 2015"
       ]
      },
      {
       "output_type": "stream",
       "stream": "stdout",
       "text": [
        "\n",
        " \n",
        "\n",
        "Pixel scale: 0.1797"
       ]
      },
      {
       "output_type": "stream",
       "stream": "stdout",
       "text": [
        "\n",
        "Grism: HK_G5802\n",
        "Filter: HK\n",
        "\n",
        "dfS20150904S0264 --> dfS20150904S0264-70436_884"
       ]
      },
      {
       "output_type": "stream",
       "stream": "stdout",
       "text": [
        "\n",
        " [SCI,1][57:1490,200:1797] --> [SCI,1]\n"
       ]
      },
      {
       "output_type": "stream",
       "stream": "stdout",
       "text": [
        " \n",
        "F2CUT exit status: good.\n",
        "----------------------------------------------------------------------------\n",
        "------------------------------------------------------------------------------"
       ]
      },
      {
       "output_type": "stream",
       "stream": "stdout",
       "text": [
        "\n",
        "NSAPPWAVE -- Sun Sep  6 17:18:17 HST 2015\n",
        " \n"
       ]
      },
      {
       "output_type": "stream",
       "stream": "stdout",
       "text": [
        "NSAPPWAVE: Processing 1 extension(s) from 1 file(s).\n",
        "  Camera     Grating    Filter     Prism      FPMask     Wave   Delta Order Axis\n",
        "dfS20150904S0264-70436_884 -> dfS20150904S0264-70436_885 ( 1)"
       ]
      },
      {
       "output_type": "stream",
       "stream": "stdout",
       "text": [
        "\n",
        "  f/16_G5830   HK_G5802         HK             2pix-slit 18710.00 -7.83 INDEF 2\n"
       ]
      },
      {
       "output_type": "stream",
       "stream": "stdout",
       "text": [
        "NSAPPWAVE: cradius not from table for dfS20150904S0264-70436_884.\n",
        "           (further table messages supressed for this file).\n",
        "  extension  1: 18710.000000 -7.826000 INDEF\n"
       ]
      },
      {
       "output_type": "stream",
       "stream": "stdout",
       "text": [
        "\n",
        "NSAPPWAVE Exit status good\n",
        "------------------------------------------------------------------------------\n",
        "NSREDUCE: Processing 1 extension(s) from 1 file(s)."
       ]
      },
      {
       "output_type": "stream",
       "stream": "stdout",
       "text": [
        "\n"
       ]
      },
      {
       "output_type": "stream",
       "stream": "stdout",
       "text": [
        "NSREDUCE: slit: 2pix-slit\n",
        "NSREDUCE: filter: HK\n",
        "\n",
        "   n input                   --> output                  sky image\n",
        " dark                    flat                    scale\n",
        "\n",
        "   1 dfS20150904S0264        --> XdfS20150904S0264       none                   \n",
        " none                    flat                    1.0000 \n"
       ]
      },
      {
       "output_type": "stream",
       "stream": "stdout",
       "text": [
        " \n",
        "NSREDUCE exit status: good.\n",
        "------------------------------------------------------------------------------\n",
        "z1=99.02318 z2=3599.045\n"
       ]
      }
     ],
     "prompt_number": 21
    },
    {
     "cell_type": "markdown",
     "metadata": {},
     "source": [
      "We apply the arc solution on the frame with the sky lines."
     ]
    },
    {
     "cell_type": "code",
     "collapsed": false,
     "input": [
      "iraf.imdelete('fXdf'+first_obj, verify='no')\n",
      "iraf.nsfitcoords ('Xdf'+first_obj, lamptransf='warc.fits', lxorder=lxorder, lyorder=lyorder)\n",
      "\n",
      "iraf.imdelete('tfXdf'+first_obj, verify='no')\n",
      "iraf.nstransform('fXdf'+first_obj)"
     ],
     "language": "python",
     "metadata": {},
     "outputs": []
    },
    {
     "cell_type": "markdown",
     "metadata": {},
     "source": [
      "Use <code>splot</code> to measure the wavelength of the sky lines in the corrected telluric.  Do this in the pyraf session, not in the notebook."
     ]
    },
    {
     "cell_type": "markdown",
     "metadata": {},
     "source": [
      "    first_obj = iraf.head('obj.lis', nlines=1, Stdout=1)[0].strip()\n",
      "    iraf.splot ('tfXdf'+first_obj+'[sci,1]', line=750)\n",
      "    # line=750 is just somewhere in the middle.\n",
      "    # :nsum 30\n",
      "    # Use 'k' again and sky line plots and lists to check position\n",
      "    #  of the sky lines.\n",
      "    \n",
      "Resources:  \n",
      "[http://www.ukirt.hawaii.edu/astronomy/calib/spec_cal/oh.html](http://www.ukirt.hawaii.edu/astronomy/calib/spec_cal/oh.html)  \n",
      "[http://www.ukirt.hawaii.edu/astronomy/calib/spec_cal/ohlines.html](http://www.ukirt.hawaii.edu/astronomy/calib/spec_cal/ohlines.html)  \n"
     ]
    },
    {
     "cell_type": "markdown",
     "metadata": {},
     "source": [
      "** TO EDIT WITH CURRENT RESULT **\n",
      "\n",
      "Verifications of the OH lines in the H-band section and the K-band section show that the lines do show up at the correct wavelength after the transformation, average 0.5 Angstrom with stddev 1.8 (and on abs(delta) 1.5 stddev 1.1).  **We can use the arc.**\n",
      "\n",
      "Note that beyond 21900 Angstrom, the fit differs by > 3 Angstrom.  The lines in that area are atrociously asymmetric."
     ]
    },
    {
     "cell_type": "heading",
     "level": 4,
     "metadata": {},
     "source": [
      "Apply the wavelength solution from the arc to the combined science frame."
     ]
    },
    {
     "cell_type": "code",
     "collapsed": false,
     "input": [
      "iraf.imdelete('fobj_comb.fits', verify='no')\n",
      "iraf.nsfitcoords('obj_comb.fits', lamptransf='warc.fits', lxorder=lxorder, lyorder=lyorder)\n",
      "\n",
      "iraf.imdelete('tfobj_comb.fits', verify='no')\n",
      "iraf.nstransform('fobj_comb.fits')"
     ],
     "language": "python",
     "metadata": {},
     "outputs": [
      {
       "output_type": "stream",
       "stream": "stdout",
       "text": [
        "-------------------------------------------------------------------------------\n",
        "NSFITCOORDS -- Sun Sep  6 17:18:47 HST 2015\n",
        "\n",
        "Using input files:"
       ]
      },
      {
       "output_type": "stream",
       "stream": "stdout",
       "text": [
        "\n",
        "obj_comb\n"
       ]
      },
      {
       "output_type": "stream",
       "stream": "stdout",
       "text": [
        "Using output files:\n",
        "fobj_comb\n"
       ]
      },
      {
       "output_type": "stream",
       "stream": "stdout",
       "text": [
        "NSFITCOORDS: Fitnames for obj_comb: fobj_comb_SCI_1_lamp\n"
       ]
      },
      {
       "output_type": "stream",
       "stream": "stdout",
       "text": [
        "NSFITCOORDS: Exit status good\n",
        "-------------------------------------------------------------------------------\n"
       ]
      },
      {
       "output_type": "stream",
       "stream": "stdout",
       "text": [
        "-------------------------------------------------------------------------------\n",
        "NSTRANSFORM -- Sun Sep  6 17:18:50 HST 2015\n",
        "\n",
        "Using input files:"
       ]
      },
      {
       "output_type": "stream",
       "stream": "stdout",
       "text": [
        "\n",
        "fobj_comb\n"
       ]
      },
      {
       "output_type": "stream",
       "stream": "stdout",
       "text": [
        "Using output files:\n",
        "tfobj_comb\n"
       ]
      },
      {
       "output_type": "stream",
       "stream": "stdout",
       "text": [
        "NSTRANSFORM: Fitnames for fobj_comb: fobj_comb_SCI_1_lamp\n",
        "WARNING - NSTRANSFORM: No MDF in fobj_comb"
       ]
      },
      {
       "output_type": "stream",
       "stream": "stdout",
       "text": [
        "\n"
       ]
      },
      {
       "output_type": "stream",
       "stream": "stdout",
       "text": [
        "NSTRANSFORM: Exit status good\n",
        "-------------------------------------------------------------------------------\n"
       ]
      }
     ],
     "prompt_number": 22
    },
    {
     "cell_type": "heading",
     "level": 2,
     "metadata": {},
     "source": [
      "STEP 12: Extract the science spectrum"
     ]
    },
    {
     "cell_type": "markdown",
     "metadata": {},
     "source": [
      "For faint science spectra, the telluric can be used as a reference when extracting the science spectrum; set <code>trace=tftel_comb.fits</code>.  Note that you will need to reduce the telluric first (Steps ??-??).\n",
      "\n",
      "Continue below if the science spectrum is strong enough to be traced.  (The most common case.)"
     ]
    },
    {
     "cell_type": "code",
     "collapsed": false,
     "input": [
      "iraf.display('tfobj_comb.fits[sci,1]', 1)"
     ],
     "language": "python",
     "metadata": {},
     "outputs": [
      {
       "output_type": "stream",
       "stream": "stdout",
       "text": [
        "z1=-31.65642 z2=29.55244\n"
       ]
      }
     ],
     "prompt_number": 23
    },
    {
     "cell_type": "markdown",
     "metadata": {},
     "source": [
      "Can see a nice signal on the 2D image."
     ]
    },
    {
     "cell_type": "markdown",
     "metadata": {},
     "source": [
      "For this extraction, one needs to:\n",
      "1. delete, '`d`', the aperture automatically selected.  It selects some random spike at the far left of the cross-section.\n",
      "1. mark, '`m`', the real location of the science spectrum, around column 956.\n",
      "1. adjust with '`u`' and '`l`', the width of the aperture, it seems a bit too wide."
     ]
    },
    {
     "cell_type": "code",
     "collapsed": false,
     "input": [
      "iraf.imdelete('xtfobj_comb.fits', verify='no')\n",
      "iraf.nsextract('tfobj_comb.fits', fl_apall='yes', fl_findneg='no', \\\n",
      "               fl_inter='yes', fl_trace='yes')\n",
      "\n",
      "iraf.splot('xtfobj_comb.fits[SCI,1]')"
     ],
     "language": "python",
     "metadata": {},
     "outputs": [
      {
       "output_type": "stream",
       "stream": "stdout",
       "text": [
        "-------------------------------------------------------------------------------\n",
        "NSEXTRACT -- Sun Sep  6 17:19:49 HST 2015\n",
        " \n"
       ]
      },
      {
       "output_type": "stream",
       "stream": "stdout",
       "text": [
        "WARNING - NSEXTRACT: Output variance planes derived from apall rather than input variance plane.\n",
        "Using input files:\n",
        "tfobj_comb 1 no\n"
       ]
      },
      {
       "output_type": "stream",
       "stream": "stdout",
       "text": [
        "Using output files:\n",
        "xtfobj_comb\n"
       ]
      },
      {
       "output_type": "stream",
       "stream": "stdout",
       "text": [
        "\n",
        "Searching aperture database ...\n"
       ]
      },
      {
       "output_type": "stream",
       "stream": "stderr",
       "text": [
        "Find apertures for tmpscivar70436_969?"
       ]
      },
      {
       "output_type": "stream",
       "stream": "stdout",
       "text": [
        "Finding apertures ...\n"
       ]
      },
      {
       "output_type": "stream",
       "stream": "stdout",
       "text": [
        "Sep  6 17:19: FIND - 1 apertures found for tmpscivar70436_969\n"
       ]
      },
      {
       "output_type": "stream",
       "stream": "stderr",
       "text": [
        "Resize apertures for tmpscivar70436_969?"
       ]
      },
      {
       "output_type": "stream",
       "stream": "stdout",
       "text": [
        "Resizing apertures ...\n"
       ]
      },
      {
       "output_type": "stream",
       "stream": "stdout",
       "text": [
        "Sep  6 17:19: APRESIZE  - 1 apertures resized for tmpscivar70436_969 (-6.70, 3.64)\n"
       ]
      },
      {
       "output_type": "stream",
       "stream": "stderr",
       "text": [
        "Edit apertures for tmpscivar70436_969?"
       ]
      },
      {
       "output_type": "stream",
       "stream": "stdout",
       "text": [
        "     aperture = 1  beam = 1  center = 927.08  low = -6.70  upper = 3.64\n"
       ]
      },
      {
       "output_type": "stream",
       "stream": "stdout",
       "text": [
        "window:"
       ]
      },
      {
       "output_type": "stream",
       "stream": "stdout",
       "text": [
        "again:"
       ]
      },
      {
       "output_type": "stream",
       "stream": "stdout",
       "text": [
        "window:"
       ]
      },
      {
       "output_type": "stream",
       "stream": "stdout",
       "text": [
        "window:"
       ]
      },
      {
       "output_type": "stream",
       "stream": "stdout",
       "text": [
        "again:"
       ]
      },
      {
       "output_type": "stream",
       "stream": "stdout",
       "text": [
        "     aperture = 1  beam = 1  center = 927.08  low = -10.00  upper = 10.00\n"
       ]
      },
      {
       "output_type": "stream",
       "stream": "stdout",
       "text": [
        "     aperture = 1  beam = 1  center = 927.08  low = -7.41  upper = 10.00\n"
       ]
      },
      {
       "output_type": "stream",
       "stream": "stdout",
       "text": [
        "     aperture = 1  beam = 1  center = 927.08  low = -7.41  upper = 4.58\n"
       ]
      },
      {
       "output_type": "stream",
       "stream": "stdout",
       "text": [
        "     aperture = 1  beam = 1  center = 927.08  low = -7.41  upper = 5.61\n"
       ]
      },
      {
       "output_type": "stream",
       "stream": "stdout",
       "text": [
        "     aperture = 1  beam = 1  center = 927.08  low = -5.96  upper = 5.61\n"
       ]
      },
      {
       "output_type": "stream",
       "stream": "stderr",
       "text": [
        "Trace apertures for tmpscivar70436_969?"
       ]
      },
      {
       "output_type": "stream",
       "stream": "stderr",
       "text": [
        "Fit traced positions for tmpscivar70436_969 interactively?"
       ]
      },
      {
       "output_type": "stream",
       "stream": "stdout",
       "text": [
        "Tracing apertures ...\n"
       ]
      },
      {
       "output_type": "stream",
       "stream": "stdout",
       "text": [
        "Sep  6 17:21: TRACE - Trace of aperture 1 in tmpscivar70436_969 lost at line 1520.\n"
       ]
      },
      {
       "output_type": "stream",
       "stream": "stdout",
       "text": [
        "Sep  6 17:21: TRACE - Trace of aperture 1 in tmpscivar70436_969 recovered at line 1530.\n"
       ]
      },
      {
       "output_type": "stream",
       "stream": "stdout",
       "text": [
        "Sep  6 17:21: TRACE - Trace of aperture 1 in tmpscivar70436_969 lost at line 1560.\n"
       ]
      },
      {
       "output_type": "stream",
       "stream": "stdout",
       "text": [
        "Sep  6 17:21: TRACE - Trace of aperture 1 in tmpscivar70436_969 recovered at line 1570.\n"
       ]
      },
      {
       "output_type": "stream",
       "stream": "stdout",
       "text": [
        "Sep  6 17:21: TRACE - Trace of aperture 1 in tmpscivar70436_969 lost at line 60.\n"
       ]
      },
      {
       "output_type": "stream",
       "stream": "stdout",
       "text": [
        "Sep  6 17:21: TRACE - Trace of aperture 1 in tmpscivar70436_969 recovered at line 50.\n"
       ]
      },
      {
       "output_type": "stream",
       "stream": "stdout",
       "text": [
        "Sep  6 17:21: TRACE - Trace of aperture 1 in tmpscivar70436_969 lost at line 20.\n"
       ]
      },
      {
       "output_type": "stream",
       "stream": "stdout",
       "text": [
        "Sep  6 17:21: TRACE - Trace of aperture 1 in tmpscivar70436_969 recovered at line 10.\n"
       ]
      },
      {
       "output_type": "stream",
       "stream": "stderr",
       "text": [
        "Fit curve to aperture 1 of tmpscivar70436_969 interactively"
       ]
      },
      {
       "output_type": "stream",
       "stream": "stdout",
       "text": [
        "Sep  6 17:21: TRACE - 1 apertures traced in tmpscivar70436_969.\n"
       ]
      },
      {
       "output_type": "stream",
       "stream": "stderr",
       "text": [
        "Write apertures for tmpscivar70436_969 to HK222515_database"
       ]
      },
      {
       "output_type": "stream",
       "stream": "stdout",
       "text": [
        "Sep  6 17:21: DATABASE - 1 apertures for tmpscivar70436_969 written to HK222515_database\n"
       ]
      },
      {
       "output_type": "stream",
       "stream": "stderr",
       "text": [
        "Extract aperture spectra for tmpscivar70436_969?"
       ]
      },
      {
       "output_type": "stream",
       "stream": "stderr",
       "text": [
        "Review extracted spectra from tmpscivar70436_969?"
       ]
      },
      {
       "output_type": "stream",
       "stream": "stdout",
       "text": [
        "Extracting apertures ...\n"
       ]
      },
      {
       "output_type": "stream",
       "stream": "stderr",
       "text": [
        "Review extracted spectrum for aperture 1 from tmpscivar70436_969?"
       ]
      },
      {
       "output_type": "stream",
       "stream": "stdout",
       "text": [
        "Sep  6 17:21: EXTRACT - Aperture 1 from tmpscivar70436_969 --> tmpspeca70436_957\n"
       ]
      },
      {
       "output_type": "stream",
       "stream": "stdout",
       "text": [
        "Searching aperture database ...\n"
       ]
      },
      {
       "output_type": "stream",
       "stream": "stdout",
       "text": [
        "Sep  6 17:21: DATABASE  - 1 apertures read for tmpscivar70436_969 from HK222515_database\n"
       ]
      },
      {
       "output_type": "stream",
       "stream": "stdout",
       "text": [
        "Sep  6 17:21: DATABASE - 1 apertures for tfobj_comb[DQ,1] written to HK222515_database\n"
       ]
      },
      {
       "output_type": "stream",
       "stream": "stdout",
       "text": [
        "Extracting apertures ...\n"
       ]
      },
      {
       "output_type": "stream",
       "stream": "stdout",
       "text": [
        "Sep  6 17:21: EXTRACT - Aperture 1 from tfobj_comb[DQ,1] --> tmpspecdqa70436_961\n"
       ]
      },
      {
       "output_type": "stream",
       "stream": "stdout",
       "text": [
        "NSEXTRACT: Aperture centre at 927.0818,500.0\n",
        "NSEXTRACT: S/N for xtfobj_comb: "
       ]
      },
      {
       "output_type": "stream",
       "stream": "stdout",
       "text": [
        "\n",
        "           from variance array:      3.43"
       ]
      },
      {
       "output_type": "stream",
       "stream": "stdout",
       "text": [
        "\n",
        "           from smoothed spectrum:   2.23"
       ]
      },
      {
       "output_type": "stream",
       "stream": "stdout",
       "text": [
        "\n",
        "\n",
        "NSEXTRACT: Exit status good\n",
        "-------------------------------------------------------------------------------\n",
        "window:"
       ]
      },
      {
       "output_type": "stream",
       "stream": "stdout",
       "text": [
        "again:"
       ]
      },
      {
       "output_type": "stream",
       "stream": "stdout",
       "text": [
        "window:"
       ]
      }
     ],
     "prompt_number": 24
    },
    {
     "cell_type": "heading",
     "level": 4,
     "metadata": {},
     "source": [
      "The F2 IRAF package does not clean up the WCS properly.  We do this now."
     ]
    },
    {
     "cell_type": "code",
     "collapsed": false,
     "input": [
      "iraf.hedit('xtfobj_comb.fits[sci,1]', 'CD2_2', delete='yes',\\\n",
      "            verify='no',update='yes')\n",
      "iraf.hedit('xtfobj_comb.fits[sci,1]', 'CTYPE2', delete='yes',\\\n",
      "           verify='no',update='yes')\n",
      "iraf.hedit('xtfobj_comb.fits[sci,1]', 'LTM2_2', delete='yes',\\\n",
      "           verify='no',update='yes')\n",
      "iraf.hedit('xtfobj_comb.fits[var,1]', 'CD2_2', delete='yes',\\\n",
      "           verify='no',update='yes')\n",
      "iraf.hedit('xtfobj_comb.fits[var,1]', 'CTYPE2', delete='yes',\\\n",
      "           verify='no',update='yes')\n",
      "iraf.hedit('xtfobj_comb.fits[var,1]', 'LTM2_2', delete='yes',\\\n",
      "           verify='no',update='yes')"
     ],
     "language": "python",
     "metadata": {},
     "outputs": [
      {
       "output_type": "stream",
       "stream": "stdout",
       "text": [
        "xtfobj_comb.fits[sci,1],CD2_2 deleted\n",
        "xtfobj_comb.fits[sci,1] updated\n"
       ]
      },
      {
       "output_type": "stream",
       "stream": "stdout",
       "text": [
        "xtfobj_comb.fits[sci,1],CTYPE2 deleted\n",
        "xtfobj_comb.fits[sci,1] updated\n"
       ]
      },
      {
       "output_type": "stream",
       "stream": "stdout",
       "text": [
        "xtfobj_comb.fits[sci,1],LTM2_2 deleted\n",
        "xtfobj_comb.fits[sci,1] updated\n"
       ]
      },
      {
       "output_type": "stream",
       "stream": "stdout",
       "text": [
        "xtfobj_comb.fits[var,1],CD2_2 deleted\n",
        "xtfobj_comb.fits[var,1] updated\n"
       ]
      },
      {
       "output_type": "stream",
       "stream": "stdout",
       "text": [
        "xtfobj_comb.fits[var,1],CTYPE2 deleted\n",
        "xtfobj_comb.fits[var,1] updated\n"
       ]
      },
      {
       "output_type": "stream",
       "stream": "stdout",
       "text": [
        "xtfobj_comb.fits[var,1],LTM2_2 deleted\n",
        "xtfobj_comb.fits[var,1] updated\n"
       ]
      }
     ],
     "prompt_number": 25
    },
    {
     "cell_type": "heading",
     "level": 2,
     "metadata": {},
     "source": [
      "STEP 13: Reduce the telluric standard dataset"
     ]
    },
    {
     "cell_type": "code",
     "collapsed": false,
     "input": [
      "iraf.imdelete('df@tel.lis', verify='no')\n",
      "iraf.nsreduce('f@tel.lis', outprefix='d', fl_cut='no', fl_process_cut='no', \\\n",
      "    fl_dark='yes', darkimage='teldark.fits', fl_sky='no', fl_flat='no')\n",
      "\n",
      "iraf.imdelete('rdf@tel.lis', verify='no')\n",
      "iraf.nsreduce('df@tel.lis', fl_cut='yes', fl_dark='no', fl_sky='yes', \\\n",
      "    fl_flat='yes', flatimage='flat.fits')\n"
     ],
     "language": "python",
     "metadata": {},
     "outputs": [
      {
       "output_type": "stream",
       "stream": "stdout",
       "text": [
        "-------------------------------------------------------------------------------\n",
        "NSREDUCE -- Sun Sep  6 17:23:40 HST 2015\n",
        " \n",
        "NSREDUCE: Processing 4 extension(s) from 4 file(s)."
       ]
      },
      {
       "output_type": "stream",
       "stream": "stdout",
       "text": [
        "\n"
       ]
      },
      {
       "output_type": "stream",
       "stream": "stdout",
       "text": [
        "NSREDUCE: slit: 2pix-slit\n",
        "NSREDUCE: filter: HK\n",
        "\n",
        "   n input                   --> output                  sky image\n",
        " dark                    flat                    scale\n",
        "\n",
        "   1 fS20150904S0236         --> dfS20150904S0236        none                   \n",
        " teldark                 none                    1.0000 \n",
        "   2 fS20150904S0237         --> dfS20150904S0237        none                   "
       ]
      },
      {
       "output_type": "stream",
       "stream": "stdout",
       "text": [
        "\n",
        " teldark                 none                    1.0000 \n",
        "   3 fS20150904S0238         --> dfS20150904S0238        none                   "
       ]
      },
      {
       "output_type": "stream",
       "stream": "stdout",
       "text": [
        "\n",
        " teldark                 none                    1.0000 \n",
        "   4 fS20150904S0239         --> dfS20150904S0239        none                   "
       ]
      },
      {
       "output_type": "stream",
       "stream": "stdout",
       "text": [
        "\n",
        " teldark                 none                    1.0000 \n"
       ]
      },
      {
       "output_type": "stream",
       "stream": "stdout",
       "text": [
        " \n",
        "NSREDUCE exit status: good.\n",
        "------------------------------------------------------------------------------\n",
        "-------------------------------------------------------------------------------"
       ]
      },
      {
       "output_type": "stream",
       "stream": "stdout",
       "text": [
        "\n",
        "NSREDUCE -- Sun Sep  6 17:23:54 HST 2015\n",
        " \n",
        "----------------------------------------------------------------------------"
       ]
      },
      {
       "output_type": "stream",
       "stream": "stdout",
       "text": [
        "\n",
        "F2CUT -- Sun Sep  6 17:23:55 HST 2015\n",
        " \n",
        "\n",
        "Pixel scale: 0.1797"
       ]
      },
      {
       "output_type": "stream",
       "stream": "stdout",
       "text": [
        "\n",
        "Grism: HK_G5802\n",
        "Filter: HK\n",
        "\n",
        "dfS20150904S0236 --> dfS20150904S0236-70436_1017"
       ]
      },
      {
       "output_type": "stream",
       "stream": "stdout",
       "text": [
        "\n",
        " [SCI,1][57:1490,200:1797] --> [SCI,1]"
       ]
      },
      {
       "output_type": "stream",
       "stream": "stdout",
       "text": [
        "\n",
        "dfS20150904S0237 --> dfS20150904S0237-70436_1019"
       ]
      },
      {
       "output_type": "stream",
       "stream": "stdout",
       "text": [
        "\n",
        "dfS20150904S0238 --> dfS20150904S0238-70436_1021"
       ]
      },
      {
       "output_type": "stream",
       "stream": "stdout",
       "text": [
        "\n",
        "dfS20150904S0239 --> dfS20150904S0239-70436_1023"
       ]
      },
      {
       "output_type": "stream",
       "stream": "stdout",
       "text": [
        "\n"
       ]
      },
      {
       "output_type": "stream",
       "stream": "stdout",
       "text": [
        " \n",
        "F2CUT exit status: good.\n",
        "----------------------------------------------------------------------------\n",
        "------------------------------------------------------------------------------"
       ]
      },
      {
       "output_type": "stream",
       "stream": "stdout",
       "text": [
        "\n",
        "NSAPPWAVE -- Sun Sep  6 17:24:06 HST 2015\n",
        " \n"
       ]
      },
      {
       "output_type": "stream",
       "stream": "stdout",
       "text": [
        "NSAPPWAVE: Processing 4 extension(s) from 4 file(s).\n",
        "  Camera     Grating    Filter     Prism      FPMask     Wave   Delta Order Axis\n",
        "dfS20150904S0236-70436_1017 -> dfS20150904S0236-70436_1018 ( 1)"
       ]
      },
      {
       "output_type": "stream",
       "stream": "stdout",
       "text": [
        "\n",
        "  f/16_G5830   HK_G5802         HK             2pix-slit 18710.00 -7.83 INDEF 2\n"
       ]
      },
      {
       "output_type": "stream",
       "stream": "stdout",
       "text": [
        "NSAPPWAVE: cradius not from table for dfS20150904S0236-70436_1017.\n",
        "           (further table messages supressed for this file).\n",
        "  extension  1: 18710.000000 -7.826000 INDEF\n",
        "dfS20150904S0237-70436_1019 -> dfS20150904S0237-70436_1020 ( 1)"
       ]
      },
      {
       "output_type": "stream",
       "stream": "stdout",
       "text": [
        "\n",
        "  f/16_G5830   HK_G5802         HK             2pix-slit 18710.00 -7.83 INDEF 2\n"
       ]
      },
      {
       "output_type": "stream",
       "stream": "stdout",
       "text": [
        "NSAPPWAVE: cradius not from table for dfS20150904S0237-70436_1019.\n",
        "           (further table messages supressed for this file).\n",
        "  extension  1: 18710.000000 -7.826000 INDEF\n",
        "dfS20150904S0238-70436_1021 -> dfS20150904S0238-70436_1022 ( 1)"
       ]
      },
      {
       "output_type": "stream",
       "stream": "stdout",
       "text": [
        "\n",
        "  f/16_G5830   HK_G5802         HK             2pix-slit 18710.00 -7.83 INDEF 2\n"
       ]
      },
      {
       "output_type": "stream",
       "stream": "stdout",
       "text": [
        "NSAPPWAVE: cradius not from table for dfS20150904S0238-70436_1021.\n",
        "           (further table messages supressed for this file).\n",
        "  extension  1: 18710.000000 -7.826000 INDEF\n",
        "dfS20150904S0239-70436_1023 -> dfS20150904S0239-70436_1024 ( 1)"
       ]
      },
      {
       "output_type": "stream",
       "stream": "stdout",
       "text": [
        "\n",
        "  f/16_G5830   HK_G5802         HK             2pix-slit 18710.00 -7.83 INDEF 2\n"
       ]
      },
      {
       "output_type": "stream",
       "stream": "stdout",
       "text": [
        "NSAPPWAVE: cradius not from table for dfS20150904S0239-70436_1023.\n",
        "           (further table messages supressed for this file).\n",
        "  extension  1: 18710.000000 -7.826000 INDEF\n"
       ]
      },
      {
       "output_type": "stream",
       "stream": "stdout",
       "text": [
        "\n",
        "NSAPPWAVE Exit status good\n",
        "------------------------------------------------------------------------------\n",
        "NSREDUCE: Generating the sky frame(s) using the other nod positions"
       ]
      },
      {
       "output_type": "stream",
       "stream": "stdout",
       "text": [
        "\n",
        "          (separations greater than 1.5 arcsec) from neighbouring\n",
        "          exposures.\n",
        "\n",
        "------------------------------------------------------------------------------"
       ]
      },
      {
       "output_type": "stream",
       "stream": "stdout",
       "text": [
        "\n",
        "NSSKY -- Sun Sep  6 17:24:29 HST 2015\n",
        " \n",
        "WARNING - NSSKY: Will take sky from input images"
       ]
      },
      {
       "output_type": "stream",
       "stream": "stdout",
       "text": [
        "\n",
        "NSSKY: Obs time for dfS20150904S0236-70436_1018.fits[0]:  2:20:59.0"
       ]
      },
      {
       "output_type": "stream",
       "stream": "stdout",
       "text": [
        "\n",
        "NSSKY: Obs time for dfS20150904S0237-70436_1020.fits[0]:  2:21:39.5  0:00:40.5\n",
        "NSSKY: Obs time for dfS20150904S0238-70436_1022.fits[0]:  2:22:17.0  0:00:37.5\n",
        "NSSKY: Obs time for dfS20150904S0239-70436_1024.fits[0]:  2:22:56.5  0:00:39.5\n",
        "NSSKY: Min/max:  0:00:37.5/ 0:00:40.5"
       ]
      },
      {
       "output_type": "stream",
       "stream": "stdout",
       "text": [
        "\n",
        "NSSKY: Using observations within  40.5s as sky.\n",
        "NSSKY: Grouping images (please wait).\n"
       ]
      },
      {
       "output_type": "stream",
       "stream": "stdout",
       "text": [
        " \n",
        "NSSKY exit status: good.\n",
        "NSREDUCE: Processing 4 extension(s) from 4 file(s)."
       ]
      },
      {
       "output_type": "stream",
       "stream": "stdout",
       "text": [
        "\n"
       ]
      },
      {
       "output_type": "stream",
       "stream": "stdout",
       "text": [
        "NSREDUCE: slit: 2pix-slit\n",
        "NSREDUCE: filter: HK\n",
        "\n",
        "   n input                   --> output                  sky image\n",
        " dark                    flat                    scale\n",
        "\n",
        "   1 dfS20150904S0236        --> rdfS20150904S0236       dfS20150904S0237-70436_1020\n",
        " none                    flat                    1.0000 \n",
        "   2 dfS20150904S0237        --> rdfS20150904S0237       dfS20150904S0236-70436_1018"
       ]
      },
      {
       "output_type": "stream",
       "stream": "stdout",
       "text": [
        "\n",
        " none                    flat                    1.0000 \n",
        "   3 dfS20150904S0238        --> rdfS20150904S0238       dfS20150904S0239-70436_1024"
       ]
      },
      {
       "output_type": "stream",
       "stream": "stdout",
       "text": [
        "\n",
        " none                    flat                    1.0000 \n",
        "   4 dfS20150904S0239        --> rdfS20150904S0239       dfS20150904S0238-70436_1022"
       ]
      },
      {
       "output_type": "stream",
       "stream": "stdout",
       "text": [
        "\n",
        " none                    flat                    1.0000 \n"
       ]
      },
      {
       "output_type": "stream",
       "stream": "stdout",
       "text": [
        " \n",
        "NSREDUCE exit status: good.\n",
        "------------------------------------------------------------------------------\n"
       ]
      }
     ],
     "prompt_number": 26
    },
    {
     "cell_type": "heading",
     "level": 2,
     "metadata": {},
     "source": [
      "STEP 14:  Combine the reduced telluric datasets"
     ]
    },
    {
     "cell_type": "code",
     "collapsed": false,
     "input": [
      "iraf.imdelete('tel_comb.fits', verify='no')\n",
      "iraf.nscombine('rdf@tel.lis', output='tel_comb.fits', fl_shiftint='no', fl_cross='yes')\n",
      "\n",
      "iraf.display('tel_comb.fits[SCI,1]', 1)\n"
     ],
     "language": "python",
     "metadata": {},
     "outputs": [
      {
       "output_type": "stream",
       "stream": "stdout",
       "text": [
        "--------------------------------------------------------------------------------\n",
        "NSCOMBINE: Sun Sep  6 17:25:01 HST 2015"
       ]
      },
      {
       "output_type": "stream",
       "stream": "stdout",
       "text": [
        "\n",
        " \n",
        "Shifting and combining to single file."
       ]
      },
      {
       "output_type": "stream",
       "stream": "stdout",
       "text": [
        "\n",
        "Input images = rdf@tel.lis\n",
        "rdfS20150904S0236\n"
       ]
      },
      {
       "output_type": "stream",
       "stream": "stdout",
       "text": [
        "rdfS20150904S0237\n"
       ]
      },
      {
       "output_type": "stream",
       "stream": "stdout",
       "text": [
        "rdfS20150904S0238\n"
       ]
      },
      {
       "output_type": "stream",
       "stream": "stdout",
       "text": [
        "rdfS20150904S0239\n"
       ]
      },
      {
       "output_type": "stream",
       "stream": "stdout",
       "text": [
        "Bad pixel mask = \n",
        "Offset tolerance = 0.5\n",
        "Statistics section = [*,*]\n",
        "Combine algorithm = average\n",
        "Rejection algorithm = sigclip\n",
        "Use integer pixel shifts? no\n",
        "Boundary extension  = nearest\n",
        "NSCOMBINE: Unshifted images:"
       ]
      },
      {
       "output_type": "stream",
       "stream": "stdout",
       "text": [
        "\n",
        "rdfS20150904S0236\n",
        "rdfS20150904S0239\n"
       ]
      },
      {
       "output_type": "stream",
       "stream": "stdout",
       "text": [
        "------------------------------------------------------------------------------\n",
        "NSOFFSET -- Sun Sep  6 17:25:04 HST 2015\n",
        " \n"
       ]
      },
      {
       "output_type": "stream",
       "stream": "stdout",
       "text": [
        "NSOFFSET: Calculating cross correlation (please wait).\n",
        "NSOFFSET: Integer offset for rdfS20150904S0237 is 167."
       ]
      },
      {
       "output_type": "stream",
       "stream": "stdout",
       "text": [
        "\n"
       ]
      },
      {
       "output_type": "stream",
       "stream": "stdout",
       "text": [
        "NSOFFSET: Final offset for rdfS20150904S0237 is 167.3.\n"
       ]
      },
      {
       "output_type": "stream",
       "stream": "stdout",
       "text": [
        "NSOFFSET: Shifting rdfS20150904S0237-70436_1146 WCS in X by 167.3 pixels.\n"
       ]
      },
      {
       "output_type": "stream",
       "stream": "stdout",
       "text": [
        "NSOFFSET: Shifting rdfS20150904S0238-70436_1147 WCS in X by 167.3 pixels.\n"
       ]
      },
      {
       "output_type": "stream",
       "stream": "stdout",
       "text": [
        " \n",
        "NSOFFSET exit status: good.\n",
        "-------------------------------------------------------------------------------\n",
        "NSCOMBINE: Images shifted by -167.278797997,0.0:"
       ]
      },
      {
       "output_type": "stream",
       "stream": "stdout",
       "text": [
        "\n",
        "rdfS20150904S0237-70436_1146\n",
        "rdfS20150904S0238-70436_1147\n"
       ]
      },
      {
       "output_type": "stream",
       "stream": "stdout",
       "text": [
        "10% "
       ]
      },
      {
       "output_type": "stream",
       "stream": "stdout",
       "text": [
        "20% "
       ]
      },
      {
       "output_type": "stream",
       "stream": "stdout",
       "text": [
        "30% "
       ]
      },
      {
       "output_type": "stream",
       "stream": "stdout",
       "text": [
        "40% "
       ]
      },
      {
       "output_type": "stream",
       "stream": "stdout",
       "text": [
        "50% "
       ]
      },
      {
       "output_type": "stream",
       "stream": "stdout",
       "text": [
        "60% "
       ]
      },
      {
       "output_type": "stream",
       "stream": "stdout",
       "text": [
        "70% "
       ]
      },
      {
       "output_type": "stream",
       "stream": "stdout",
       "text": [
        "80% "
       ]
      },
      {
       "output_type": "stream",
       "stream": "stdout",
       "text": [
        "90% "
       ]
      },
      {
       "output_type": "stream",
       "stream": "stdout",
       "text": [
        "100% "
       ]
      },
      {
       "output_type": "stream",
       "stream": "stdout",
       "text": [
        "- done\n"
       ]
      },
      {
       "output_type": "stream",
       "stream": "stdout",
       "text": [
        "10% "
       ]
      },
      {
       "output_type": "stream",
       "stream": "stdout",
       "text": [
        "20% "
       ]
      },
      {
       "output_type": "stream",
       "stream": "stdout",
       "text": [
        "30% "
       ]
      },
      {
       "output_type": "stream",
       "stream": "stdout",
       "text": [
        "40% "
       ]
      },
      {
       "output_type": "stream",
       "stream": "stdout",
       "text": [
        "50% "
       ]
      },
      {
       "output_type": "stream",
       "stream": "stdout",
       "text": [
        "60% "
       ]
      },
      {
       "output_type": "stream",
       "stream": "stdout",
       "text": [
        "70% "
       ]
      },
      {
       "output_type": "stream",
       "stream": "stdout",
       "text": [
        "80% "
       ]
      },
      {
       "output_type": "stream",
       "stream": "stdout",
       "text": [
        "90% "
       ]
      },
      {
       "output_type": "stream",
       "stream": "stdout",
       "text": [
        "100% "
       ]
      },
      {
       "output_type": "stream",
       "stream": "stdout",
       "text": [
        "- done\n"
       ]
      },
      {
       "output_type": "stream",
       "stream": "stdout",
       "text": [
        "WARNING - GEMCOMBINE: five or less images to combine.\n"
       ]
      },
      {
       "output_type": "stream",
       "stream": "stdout",
       "text": [
        "NSCOMBINE: Exit status good.\n",
        "--------------------------------------------------------------------------------\n",
        "z1=-24.53622 z2=25.24407\n"
       ]
      }
     ],
     "prompt_number": 27
    },
    {
     "cell_type": "heading",
     "level": 2,
     "metadata": {},
     "source": [
      "STEP 15:  Reduce the telluric arc and determine the wavelength solution"
     ]
    },
    {
     "cell_type": "markdown",
     "metadata": {},
     "source": [
      "The wavelength solution is derived from an arc taken right after the telluric observation, before anything is moved (eg. grating, slit, etc.)\n",
      "\n",
      "We will reduce the arc and calculate the wavelength solution to be applied to the telluric observations.\n",
      "\n",
      "The wavelength solution step really should be done in interactive mode as it is not uncommon to have to reject lines and/or adjust the matches with the line list."
     ]
    },
    {
     "cell_type": "heading",
     "level": 3,
     "metadata": {},
     "source": [
      "Reduce the telluric arc"
     ]
    },
    {
     "cell_type": "code",
     "collapsed": false,
     "input": [
      "# Subtract the dark from the arc images prior to cutting and flat dividing.\n",
      "\n",
      "iraf.imdelete('df@telarc.lis', verify='no')\n",
      "iraf.nsreduce('f@telarc.lis', outprefix='d', fl_cut='no', fl_process_cut='no', \\\n",
      "    fl_dark='yes', darkimage='telarcdark.fits', fl_sky='no', fl_flat='no')\n",
      "\n",
      "# Cut the arc images and divide by the normalised flat field image.\n",
      "\n",
      "iraf.imdelete('rdf@telarc.lis', verify='no')\n",
      "iraf.nsreduce('df@telarc.lis', fl_cut='yes', fl_dark='no', fl_sky='no', fl_flat='yes', \\\n",
      "    flatimage='flat.fits')\n",
      "\n",
      "# Combine the arc files (if there is more than one arc file)\n",
      "\n",
      "iraf.imdelete('telarc.fits', verify='no')\n",
      "iraf.delete('rdftelarc.lis', verify='no')\n",
      "iraf.sections('rdf@telarc.lis//.fits', Stdout='rdftelarc.lis')\n",
      "\n",
      "count = 0\n",
      "file = open('telarc.lis', 'r')\n",
      "for line in file:\n",
      "\tcount += 1\n",
      "\n",
      "if count == 1:\n",
      "\tiraf.copy ('@rdftelarc.lis', 'telarc.fits')\n",
      "else:\n",
      "\tiraf.gemcombine ('@rdftelarc.lis', 'telarc.fits', fl_vardq='yes')\n",
      "\n",
      "file.close()\n",
      "print 'Done'"
     ],
     "language": "python",
     "metadata": {},
     "outputs": [
      {
       "output_type": "stream",
       "stream": "stdout",
       "text": [
        "-------------------------------------------------------------------------------\n",
        "NSREDUCE -- Sun Sep  6 17:27:04 HST 2015\n",
        " \n",
        "NSREDUCE: Processing 1 extension(s) from 1 file(s)."
       ]
      },
      {
       "output_type": "stream",
       "stream": "stdout",
       "text": [
        "\n"
       ]
      },
      {
       "output_type": "stream",
       "stream": "stdout",
       "text": [
        "NSREDUCE: slit: 2pix-slit\n",
        "NSREDUCE: filter: HK\n",
        "\n",
        "   n input                   --> output                  sky image\n",
        " dark                    flat                    scale\n",
        "\n",
        "   1 fS20150904S0240         --> dfS20150904S0240        none                   \n",
        " telarcdark              none                    1.0000 \n"
       ]
      },
      {
       "output_type": "stream",
       "stream": "stdout",
       "text": [
        " \n",
        "NSREDUCE exit status: good.\n",
        "------------------------------------------------------------------------------\n",
        "-------------------------------------------------------------------------------"
       ]
      },
      {
       "output_type": "stream",
       "stream": "stdout",
       "text": [
        "\n",
        "NSREDUCE -- Sun Sep  6 17:27:09 HST 2015\n",
        " \n",
        "----------------------------------------------------------------------------"
       ]
      },
      {
       "output_type": "stream",
       "stream": "stdout",
       "text": [
        "\n",
        "F2CUT -- Sun Sep  6 17:27:09 HST 2015\n",
        " \n",
        "\n",
        "Pixel scale: 0.1797"
       ]
      },
      {
       "output_type": "stream",
       "stream": "stdout",
       "text": [
        "\n",
        "Grism: HK_G5802\n",
        "Filter: HK\n",
        "\n",
        "dfS20150904S0240 --> dfS20150904S0240-70436_1271"
       ]
      },
      {
       "output_type": "stream",
       "stream": "stdout",
       "text": [
        "\n",
        " [SCI,1][57:1490,200:1797] --> [SCI,1]\n"
       ]
      },
      {
       "output_type": "stream",
       "stream": "stdout",
       "text": [
        " \n",
        "F2CUT exit status: good.\n",
        "----------------------------------------------------------------------------\n",
        "------------------------------------------------------------------------------"
       ]
      },
      {
       "output_type": "stream",
       "stream": "stdout",
       "text": [
        "\n",
        "NSAPPWAVE -- Sun Sep  6 17:27:11 HST 2015\n",
        " \n"
       ]
      },
      {
       "output_type": "stream",
       "stream": "stdout",
       "text": [
        "NSAPPWAVE: Processing 1 extension(s) from 1 file(s).\n",
        "  Camera     Grating    Filter     Prism      FPMask     Wave   Delta Order Axis\n",
        "dfS20150904S0240-70436_1271 -> dfS20150904S0240-70436_1272 ( 1)"
       ]
      },
      {
       "output_type": "stream",
       "stream": "stdout",
       "text": [
        "\n",
        "  f/16_G5830   HK_G5802         HK             2pix-slit 18710.00 -7.83 INDEF 2\n"
       ]
      },
      {
       "output_type": "stream",
       "stream": "stdout",
       "text": [
        "NSAPPWAVE: cradius not from table for dfS20150904S0240-70436_1271.\n",
        "           (further table messages supressed for this file).\n",
        "  extension  1: 18710.000000 -7.826000 INDEF\n"
       ]
      },
      {
       "output_type": "stream",
       "stream": "stdout",
       "text": [
        "\n",
        "NSAPPWAVE Exit status good\n",
        "------------------------------------------------------------------------------\n",
        "NSREDUCE: Processing 1 extension(s) from 1 file(s)."
       ]
      },
      {
       "output_type": "stream",
       "stream": "stdout",
       "text": [
        "\n"
       ]
      },
      {
       "output_type": "stream",
       "stream": "stdout",
       "text": [
        "NSREDUCE: slit: 2pix-slit\n",
        "NSREDUCE: filter: HK\n",
        "\n",
        "   n input                   --> output                  sky image\n",
        " dark                    flat                    scale\n",
        "\n",
        "   1 dfS20150904S0240        --> rdfS20150904S0240       none                   \n",
        " none                    flat                    1.0000 \n"
       ]
      },
      {
       "output_type": "stream",
       "stream": "stdout",
       "text": [
        " \n",
        "NSREDUCE exit status: good.\n",
        "------------------------------------------------------------------------------\n"
       ]
      },
      {
       "output_type": "stream",
       "stream": "stderr",
       "text": [
        "Warning: Cannot delete file (rdftelarc.lis)\n"
       ]
      },
      {
       "output_type": "stream",
       "stream": "stdout",
       "text": [
        "Done\n"
       ]
      }
     ],
     "prompt_number": 28
    },
    {
     "cell_type": "markdown",
     "metadata": {},
     "source": [
      "Record the lxorder and lyorder in the notebook session for future use."
     ]
    },
    {
     "cell_type": "heading",
     "level": 3,
     "metadata": {},
     "source": [
      "Determine the wavelength solution from the science arc"
     ]
    },
    {
     "cell_type": "markdown",
     "metadata": {},
     "source": [
      "Normally, the lines will be identified automatically and this step, while interactive is used to delete a couple outliers and visually confirm that the fit is good.\n",
      "\n",
      "If, for some reason (it can happen), the lines do not get identified automatically and they need to be marked manually, you will need to run the two commands below in the PyRAF sessions since you will need full interactive support.  But most of the time, running this in the notebook works okay."
     ]
    },
    {
     "cell_type": "code",
     "collapsed": false,
     "input": [
      "iraf.imdelete ('wtelarc.fits', verify='no')\n",
      "iraf.nswavelength ('telarc.fits', fl_inter='yes', order=8)\n",
      "\n",
      "# Be very careful when fitting the turnover around 21000.  \n",
      "# There's something not quite right with this solution, but sufficient for quicklook."
     ],
     "language": "python",
     "metadata": {},
     "outputs": [
      {
       "output_type": "stream",
       "stream": "stdout",
       "text": [
        "-------------------------------------------------------------------------------\n",
        "NSWAVELENGTH -- Sun Sep  6 17:27:26 HST 2015\n",
        "\n",
        "NSWAVELENGTH: LS data detected. Calling nswhelper to process data."
       ]
      },
      {
       "output_type": "stream",
       "stream": "stdout",
       "text": [
        "\n",
        "-------------------------------------------------------------------------------"
       ]
      },
      {
       "output_type": "stream",
       "stream": "stdout",
       "text": [
        "\n",
        "NSWHELPER -- Sun Sep  6 17:27:27 HST 2015\n",
        "\n"
       ]
      },
      {
       "output_type": "stream",
       "stream": "stdout",
       "text": [
        "Using input files:\n",
        "telarc\n"
       ]
      },
      {
       "output_type": "stream",
       "stream": "stdout",
       "text": [
        "Using output files:\n",
        "wtelarc\n"
       ]
      },
      {
       "output_type": "stream",
       "stream": "stdout",
       "text": [
        "Lamp image: telarc[SCI,1]\n",
        "\n"
       ]
      },
      {
       "output_type": "stream",
       "stream": "stdout",
       "text": [
        "AUTOIDENTIFY: NOAO/IRAF V2.16 klabrie@libellule Sun 17:27:29 06-Sep-2015\n"
       ]
      },
      {
       "output_type": "stream",
       "stream": "stdout",
       "text": [
        "  Spectrum                 # Found   Midpoint Dispersion        RMS\n"
       ]
      },
      {
       "output_type": "stream",
       "stream": "stdout",
       "text": [
        "  wtelarc[SCI,1][717,*]         48    18962.9      -7.54      0.595\n"
       ]
      },
      {
       "output_type": "stream",
       "stream": "stdout",
       "text": [
        "wtelarc[SCI,1][717,*]: Examine identifications interactively?"
       ]
      },
      {
       "output_type": "stream",
       "stream": "stdout",
       "text": [
        "   1522.94  13507.105    13507.9 \n"
       ]
      },
      {
       "output_type": "stream",
       "stream": "stdout",
       "text": [
        "   1595.05  12960.524    12960.2 1000 NOAO\n"
       ]
      },
      {
       "output_type": "stream",
       "stream": "stdout",
       "text": [
        "   1595.05  12960.524    12960.2 1000 NOAO\n"
       ]
      },
      {
       "output_type": "stream",
       "stream": "stdout",
       "text": [
        "\n",
        "REIDENTIFY: NOAO/IRAF V2.16 klabrie@libellule Sun 17:27:43 06-Sep-2015\n"
       ]
      },
      {
       "output_type": "stream",
       "stream": "stdout",
       "text": [
        "  Reference image = wtelarc[SCI,1], New image = wtelarc[SCI,1], Refit = yes\n",
        "          Image Data    Found     Fit Pix Shift  User Shift  Z Shift      RMS\n"
       ]
      },
      {
       "output_type": "stream",
       "stream": "stdout",
       "text": [
        "wtelarc[SCI,1][707,*]  40/41   40/40     0.0537      -0.406  -2.3E-5    0.694\n"
       ]
      },
      {
       "output_type": "stream",
       "stream": "stdout",
       "text": [
        "wtelarc[SCI,1][707,*]  40/41   40/40     0.0537      -0.406  -2.3E-5    0.694\n"
       ]
      },
      {
       "output_type": "stream",
       "stream": "stdout",
       "text": [
        "wtelarc[SCI,1][697,*]  41/41   39/41      0.106      -0.801  -4.7E-5    0.627\n"
       ]
      },
      {
       "output_type": "stream",
       "stream": "stdout",
       "text": [
        "wtelarc[SCI,1][687,*]  41/41   40/41      0.155       -1.18  -7.0E-5     1.04\n"
       ]
      },
      {
       "output_type": "stream",
       "stream": "stdout",
       "text": [
        "wtelarc[SCI,1][677,*]  40/41   40/40      0.182       -1.38  -7.8E-5    0.916\n"
       ]
      },
      {
       "output_type": "stream",
       "stream": "stdout",
       "text": [
        "wtelarc[SCI,1][667,*]  41/41   40/41      0.237       -1.79  -1.0E-4     0.88\n"
       ]
      },
      {
       "output_type": "stream",
       "stream": "stdout",
       "text": [
        "wtelarc[SCI,1][657,*]  41/41   41/41      0.268       -2.03  -1.2E-4    0.986\n"
       ]
      },
      {
       "output_type": "stream",
       "stream": "stdout",
       "text": [
        "wtelarc[SCI,1][647,*]  40/41   38/40      0.286       -2.16  -1.2E-4    0.522\n"
       ]
      },
      {
       "output_type": "stream",
       "stream": "stdout",
       "text": [
        "wtelarc[SCI,1][637,*]  41/41   40/41      0.333       -2.52  -1.4E-4     0.72\n"
       ]
      },
      {
       "output_type": "stream",
       "stream": "stdout",
       "text": [
        "wtelarc[SCI,1][627,*]  41/41   41/41      0.362       -2.74  -1.5E-4     0.64\n"
       ]
      },
      {
       "output_type": "stream",
       "stream": "stdout",
       "text": [
        "wtelarc[SCI,1][617,*]  41/41   40/41      0.395       -2.99  -1.7E-4    0.541\n"
       ]
      },
      {
       "output_type": "stream",
       "stream": "stdout",
       "text": [
        "wtelarc[SCI,1][607,*]  41/41   41/41      0.419       -3.17  -1.7E-4    0.722\n"
       ]
      },
      {
       "output_type": "stream",
       "stream": "stdout",
       "text": [
        "wtelarc[SCI,1][597,*]  41/41   40/41      0.465       -3.52  -1.9E-4     0.66\n"
       ]
      },
      {
       "output_type": "stream",
       "stream": "stdout",
       "text": [
        "wtelarc[SCI,1][587,*]  41/41   40/41      0.501       -3.79  -2.1E-4    0.637\n"
       ]
      },
      {
       "output_type": "stream",
       "stream": "stdout",
       "text": [
        "wtelarc[SCI,1][577,*]  41/41   39/41      0.552       -4.17  -2.3E-4    0.661\n"
       ]
      },
      {
       "output_type": "stream",
       "stream": "stdout",
       "text": [
        "wtelarc[SCI,1][567,*]  40/41   38/40      0.601       -4.55  -2.5E-4    0.691\n"
       ]
      },
      {
       "output_type": "stream",
       "stream": "stdout",
       "text": [
        "wtelarc[SCI,1][557,*]  40/41   39/40      0.625       -4.73  -2.6E-4    0.691\n"
       ]
      },
      {
       "output_type": "stream",
       "stream": "stdout",
       "text": [
        "wtelarc[SCI,1][547,*]  40/41   40/40      0.661         -5.  -2.7E-4    0.777\n"
       ]
      },
      {
       "output_type": "stream",
       "stream": "stdout",
       "text": [
        "wtelarc[SCI,1][537,*]  41/41   41/41      0.706       -5.34  -2.9E-4    0.815\n"
       ]
      },
      {
       "output_type": "stream",
       "stream": "stdout",
       "text": [
        "wtelarc[SCI,1][527,*]  41/41   41/41      0.745       -5.64  -3.0E-4    0.715\n"
       ]
      },
      {
       "output_type": "stream",
       "stream": "stdout",
       "text": [
        "wtelarc[SCI,1][517,*]  41/41   41/41      0.779       -5.89  -3.2E-4    0.705\n"
       ]
      },
      {
       "output_type": "stream",
       "stream": "stdout",
       "text": [
        "wtelarc[SCI,1][507,*]  41/41   41/41      0.816       -6.18  -3.3E-4    0.799\n"
       ]
      },
      {
       "output_type": "stream",
       "stream": "stdout",
       "text": [
        "wtelarc[SCI,1][497,*]  41/41   41/41      0.879       -6.65  -3.6E-4    0.978\n"
       ]
      },
      {
       "output_type": "stream",
       "stream": "stdout",
       "text": [
        "wtelarc[SCI,1][487,*]  40/41   40/40      0.903       -6.83  -3.7E-4    0.788\n"
       ]
      },
      {
       "output_type": "stream",
       "stream": "stdout",
       "text": [
        "wtelarc[SCI,1][477,*]  41/41   40/41      0.968       -7.32  -4.0E-4    0.802\n"
       ]
      },
      {
       "output_type": "stream",
       "stream": "stdout",
       "text": [
        "wtelarc[SCI,1][467,*]  40/41   39/40         1.       -7.58  -4.1E-4    0.636\n"
       ]
      },
      {
       "output_type": "stream",
       "stream": "stdout",
       "text": [
        "wtelarc[SCI,1][457,*]  41/41   41/41       1.03       -7.78  -4.2E-4    0.667\n"
       ]
      },
      {
       "output_type": "stream",
       "stream": "stdout",
       "text": [
        "wtelarc[SCI,1][447,*]  41/41   41/41       1.07       -8.07  -4.3E-4    0.681\n"
       ]
      },
      {
       "output_type": "stream",
       "stream": "stdout",
       "text": [
        "wtelarc[SCI,1][437,*]  41/41   41/41       1.12       -8.47  -4.5E-4    0.751\n"
       ]
      },
      {
       "output_type": "stream",
       "stream": "stdout",
       "text": [
        "wtelarc[SCI,1][427,*]  40/41   40/40       1.19       -8.98  -4.8E-4    0.926\n"
       ]
      },
      {
       "output_type": "stream",
       "stream": "stdout",
       "text": [
        "wtelarc[SCI,1][417,*]  40/41   40/40       1.24       -9.38  -5.0E-4    0.768\n"
       ]
      },
      {
       "output_type": "stream",
       "stream": "stdout",
       "text": [
        "wtelarc[SCI,1][407,*]  40/41   40/40        1.3        -9.8  -5.3E-4    0.858\n"
       ]
      },
      {
       "output_type": "stream",
       "stream": "stdout",
       "text": [
        "wtelarc[SCI,1][397,*]  41/41   41/41       1.32       -9.96  -5.3E-4    0.767\n"
       ]
      },
      {
       "output_type": "stream",
       "stream": "stdout",
       "text": [
        "wtelarc[SCI,1][387,*]  41/41   41/41       1.35       -10.2  -5.4E-4    0.712\n"
       ]
      },
      {
       "output_type": "stream",
       "stream": "stdout",
       "text": [
        "wtelarc[SCI,1][377,*]  41/41   41/41       1.39       -10.5  -5.6E-4    0.769\n"
       ]
      },
      {
       "output_type": "stream",
       "stream": "stdout",
       "text": [
        "wtelarc[SCI,1][367,*]  41/41   40/41       1.45        -11.  -5.9E-4    0.524\n"
       ]
      },
      {
       "output_type": "stream",
       "stream": "stdout",
       "text": [
        "wtelarc[SCI,1][357,*]  41/41   41/41       1.49       -11.3  -6.0E-4     0.92\n"
       ]
      },
      {
       "output_type": "stream",
       "stream": "stdout",
       "text": [
        "wtelarc[SCI,1][347,*]  41/41   41/41       1.55       -11.8  -6.3E-4    0.893\n"
       ]
      },
      {
       "output_type": "stream",
       "stream": "stdout",
       "text": [
        "wtelarc[SCI,1][337,*]  41/41   37/41       1.62       -12.2  -6.5E-4    0.479\n"
       ]
      },
      {
       "output_type": "stream",
       "stream": "stdout",
       "text": [
        "wtelarc[SCI,1][327,*]  41/41   37/41       1.66       -12.5  -6.7E-4    0.395\n"
       ]
      },
      {
       "output_type": "stream",
       "stream": "stdout",
       "text": [
        "wtelarc[SCI,1][317,*]  41/41   39/41       1.72       -13.1  -6.9E-4    0.574\n"
       ]
      },
      {
       "output_type": "stream",
       "stream": "stdout",
       "text": [
        "wtelarc[SCI,1][307,*]  40/41   40/40       1.82       -13.8  -7.3E-4    0.755\n"
       ]
      },
      {
       "output_type": "stream",
       "stream": "stdout",
       "text": [
        "wtelarc[SCI,1][297,*]  41/41   41/41       1.85        -14.  -7.5E-4       1.\n"
       ]
      },
      {
       "output_type": "stream",
       "stream": "stdout",
       "text": [
        "wtelarc[SCI,1][287,*]  41/41   41/41       1.92       -14.6  -7.8E-4    0.842\n"
       ]
      },
      {
       "output_type": "stream",
       "stream": "stdout",
       "text": [
        "wtelarc[SCI,1][277,*]  41/41   41/41       1.96       -14.8  -7.9E-4    0.737\n"
       ]
      },
      {
       "output_type": "stream",
       "stream": "stdout",
       "text": [
        "wtelarc[SCI,1][267,*]  41/41   41/41       2.01       -15.2  -8.1E-4    0.671\n"
       ]
      },
      {
       "output_type": "stream",
       "stream": "stdout",
       "text": [
        "wtelarc[SCI,1][257,*]  40/41   39/40       2.11        -16.  -8.5E-4    0.556\n"
       ]
      },
      {
       "output_type": "stream",
       "stream": "stdout",
       "text": [
        "wtelarc[SCI,1][247,*]  41/41   41/41       2.15       -16.3  -8.7E-4    0.817\n"
       ]
      },
      {
       "output_type": "stream",
       "stream": "stdout",
       "text": [
        "wtelarc[SCI,1][237,*]  40/41   37/40       2.24        -17.  -9.0E-4    0.524\n"
       ]
      },
      {
       "output_type": "stream",
       "stream": "stdout",
       "text": [
        "wtelarc[SCI,1][227,*]  40/41   40/40       2.32       -17.6  -9.3E-4    0.843\n"
       ]
      },
      {
       "output_type": "stream",
       "stream": "stdout",
       "text": [
        "wtelarc[SCI,1][217,*]  41/41   41/41       2.34       -17.7  -9.4E-4    0.845\n"
       ]
      },
      {
       "output_type": "stream",
       "stream": "stdout",
       "text": [
        "wtelarc[SCI,1][207,*]  40/41   39/40       2.21       -16.7  -9.0E-4    0.903\n"
       ]
      },
      {
       "output_type": "stream",
       "stream": "stdout",
       "text": [
        "wtelarc[SCI,1][197,*]  40/41   39/40       2.29       -17.3  -9.3E-4    0.809\n"
       ]
      },
      {
       "output_type": "stream",
       "stream": "stdout",
       "text": [
        "wtelarc[SCI,1][187,*]  39/41   38/39       2.42       -18.3  -9.9E-4    0.972\n"
       ]
      },
      {
       "output_type": "stream",
       "stream": "stdout",
       "text": [
        "wtelarc[SCI,1][177,*]  39/41   37/39       2.37       -17.9  -9.8E-4     0.95\n"
       ]
      },
      {
       "output_type": "stream",
       "stream": "stdout",
       "text": [
        "wtelarc[SCI,1][167,*]  39/41   38/39        2.4       -18.1  -9.9E-4    0.835\n"
       ]
      },
      {
       "output_type": "stream",
       "stream": "stdout",
       "text": [
        "wtelarc[SCI,1][157,*]  40/41   39/40        2.5       -18.9   -0.001    0.881\n"
       ]
      },
      {
       "output_type": "stream",
       "stream": "stdout",
       "text": [
        "wtelarc[SCI,1][147,*]  40/41   39/40       2.55       -19.3   -0.001    0.884\n"
       ]
      },
      {
       "output_type": "stream",
       "stream": "stdout",
       "text": [
        "wtelarc[SCI,1][137,*]  38/41   37/38       2.56       -19.4   -0.001     0.84\n"
       ]
      },
      {
       "output_type": "stream",
       "stream": "stdout",
       "text": [
        "wtelarc[SCI,1][127,*]  39/41   38/39       2.71       -20.5  -0.0011    0.878\n"
       ]
      },
      {
       "output_type": "stream",
       "stream": "stdout",
       "text": [
        "wtelarc[SCI,1][117,*]  38/41   37/38       2.69       -20.3  -0.0011     0.77\n"
       ]
      },
      {
       "output_type": "stream",
       "stream": "stdout",
       "text": [
        "wtelarc[SCI,1][107,*]  39/41   38/39        2.9       -21.9  -0.0012    0.827\n"
       ]
      },
      {
       "output_type": "stream",
       "stream": "stdout",
       "text": [
        "wtelarc[SCI,1][97,*]   40/41   39/40       2.91        -22.  -0.0012    0.913\n"
       ]
      },
      {
       "output_type": "stream",
       "stream": "stdout",
       "text": [
        "wtelarc[SCI,1][87,*]   39/41   37/39       3.02       -22.9  -0.0012    0.706\n"
       ]
      },
      {
       "output_type": "stream",
       "stream": "stdout",
       "text": [
        "wtelarc[SCI,1][77,*]   38/41   37/38       3.13       -23.7  -0.0013    0.746\n"
       ]
      },
      {
       "output_type": "stream",
       "stream": "stdout",
       "text": [
        "wtelarc[SCI,1][67,*]   38/41   37/38       3.21       -24.3  -0.0013    0.855\n"
       ]
      },
      {
       "output_type": "stream",
       "stream": "stdout",
       "text": [
        "wtelarc[SCI,1][57,*]   38/41   33/38       3.48       -26.3  -0.0014      1.2\n"
       ]
      },
      {
       "output_type": "stream",
       "stream": "stdout",
       "text": [
        "wtelarc[SCI,1][47,*]   38/41   36/38       3.23       -24.5  -0.0013    0.936\n"
       ]
      },
      {
       "output_type": "stream",
       "stream": "stdout",
       "text": [
        "wtelarc[SCI,1][37,*]   36/41   36/36        3.4       -25.7  -0.0014     5.83\n"
       ]
      },
      {
       "output_type": "stream",
       "stream": "stdout",
       "text": [
        "    ** Too many features lost **\n"
       ]
      },
      {
       "output_type": "stream",
       "stream": "stdout",
       "text": [
        "wtelarc[SCI,1][27,*]   37/41   36/37       3.25       -24.5  -0.0013      1.2\n"
       ]
      },
      {
       "output_type": "stream",
       "stream": "stdout",
       "text": [
        "    ** Too many features lost **\n"
       ]
      },
      {
       "output_type": "stream",
       "stream": "stdout",
       "text": [
        "wtelarc[SCI,1][17,*]   37/41   32/37       3.44        -26.  -0.0015    0.998\n"
       ]
      },
      {
       "output_type": "stream",
       "stream": "stdout",
       "text": [
        "    ** Too many features lost **\n"
       ]
      },
      {
       "output_type": "stream",
       "stream": "stdout",
       "text": [
        "wtelarc[SCI,1][7,*]    36/41   34/36       3.41       -25.8  -0.0014    0.854\n"
       ]
      },
      {
       "output_type": "stream",
       "stream": "stdout",
       "text": [
        "    ** Too many features lost **\n"
       ]
      },
      {
       "output_type": "stream",
       "stream": "stdout",
       "text": [
        "wtelarc[SCI,1][727,*]  41/41   37/41    -0.0268       0.203  9.96E-6    0.429\n"
       ]
      },
      {
       "output_type": "stream",
       "stream": "stdout",
       "text": [
        "wtelarc[SCI,1][737,*]  41/41   39/41     -0.045        0.34  1.46E-5    0.606\n"
       ]
      },
      {
       "output_type": "stream",
       "stream": "stdout",
       "text": [
        "wtelarc[SCI,1][747,*]  41/41   41/41     -0.083       0.627  3.01E-5    0.809\n"
       ]
      },
      {
       "output_type": "stream",
       "stream": "stdout",
       "text": [
        "wtelarc[SCI,1][757,*]  41/41   41/41     -0.125       0.945  4.75E-5     0.98\n"
       ]
      },
      {
       "output_type": "stream",
       "stream": "stdout",
       "text": [
        "wtelarc[SCI,1][767,*]  40/41   39/40     -0.159         1.2  6.30E-5    0.663\n"
       ]
      },
      {
       "output_type": "stream",
       "stream": "stdout",
       "text": [
        "wtelarc[SCI,1][777,*]  40/41   39/40     -0.198         1.5  8.03E-5    0.653\n"
       ]
      },
      {
       "output_type": "stream",
       "stream": "stdout",
       "text": [
        "wtelarc[SCI,1][787,*]  40/41   36/40     -0.234        1.77  9.73E-5    0.418\n"
       ]
      },
      {
       "output_type": "stream",
       "stream": "stdout",
       "text": [
        "wtelarc[SCI,1][797,*]  40/41   39/40     -0.263        1.99  1.08E-4     0.73\n"
       ]
      },
      {
       "output_type": "stream",
       "stream": "stdout",
       "text": [
        "wtelarc[SCI,1][807,*]  39/41   37/39     -0.304         2.3  1.26E-4    0.546\n"
       ]
      },
      {
       "output_type": "stream",
       "stream": "stdout",
       "text": [
        "wtelarc[SCI,1][817,*]  40/41   40/40       -0.3        2.27  1.21E-4    0.814\n"
       ]
      },
      {
       "output_type": "stream",
       "stream": "stdout",
       "text": [
        "wtelarc[SCI,1][827,*]  41/41   37/41     -0.331        2.51  1.36E-4    0.507\n"
       ]
      },
      {
       "output_type": "stream",
       "stream": "stdout",
       "text": [
        "wtelarc[SCI,1][837,*]  40/41   39/40     -0.379        2.86  1.57E-4    0.847\n"
       ]
      },
      {
       "output_type": "stream",
       "stream": "stdout",
       "text": [
        "wtelarc[SCI,1][847,*]  40/41   40/40     -0.397          3.  1.64E-4    0.982\n"
       ]
      },
      {
       "output_type": "stream",
       "stream": "stdout",
       "text": [
        "wtelarc[SCI,1][857,*]  40/41   40/40     -0.432        3.27  1.80E-4     1.06\n"
       ]
      },
      {
       "output_type": "stream",
       "stream": "stdout",
       "text": [
        "wtelarc[SCI,1][867,*]  40/41   39/40     -0.475        3.59  2.01E-4    0.744\n"
       ]
      },
      {
       "output_type": "stream",
       "stream": "stdout",
       "text": [
        "wtelarc[SCI,1][877,*]  40/41   38/40     -0.513        3.88  2.18E-4    0.671\n"
       ]
      },
      {
       "output_type": "stream",
       "stream": "stdout",
       "text": [
        "wtelarc[SCI,1][887,*]  41/41   41/41     -0.516         3.9  2.18E-4    0.717\n"
       ]
      },
      {
       "output_type": "stream",
       "stream": "stdout",
       "text": [
        "wtelarc[SCI,1][897,*]  40/41   39/40     -0.559        4.23  2.36E-4    0.609\n"
       ]
      },
      {
       "output_type": "stream",
       "stream": "stdout",
       "text": [
        "wtelarc[SCI,1][907,*]  40/41   39/40     -0.595         4.5  2.52E-4    0.743\n"
       ]
      },
      {
       "output_type": "stream",
       "stream": "stdout",
       "text": [
        "wtelarc[SCI,1][917,*]  40/41   40/40     -0.626        4.74  2.67E-4    0.751\n"
       ]
      },
      {
       "output_type": "stream",
       "stream": "stdout",
       "text": [
        "wtelarc[SCI,1][927,*]  41/41   40/41      -0.64        4.84  2.73E-4    0.674\n"
       ]
      },
      {
       "output_type": "stream",
       "stream": "stdout",
       "text": [
        "wtelarc[SCI,1][937,*]  40/41   36/40     -0.662        5.01  2.81E-4    0.358\n"
       ]
      },
      {
       "output_type": "stream",
       "stream": "stdout",
       "text": [
        "wtelarc[SCI,1][947,*]  41/41   41/41     -0.673        5.09  2.86E-4    0.648\n"
       ]
      },
      {
       "output_type": "stream",
       "stream": "stdout",
       "text": [
        "wtelarc[SCI,1][957,*]  40/41   40/40     -0.715        5.41  3.04E-4    0.777\n"
       ]
      },
      {
       "output_type": "stream",
       "stream": "stdout",
       "text": [
        "wtelarc[SCI,1][967,*]  41/41   38/41     -0.723        5.46  3.09E-4    0.502\n"
       ]
      },
      {
       "output_type": "stream",
       "stream": "stdout",
       "text": [
        "wtelarc[SCI,1][977,*]  41/41   41/41     -0.736        5.57  3.15E-4    0.745\n"
       ]
      },
      {
       "output_type": "stream",
       "stream": "stdout",
       "text": [
        "wtelarc[SCI,1][987,*]  41/41   41/41     -0.792        5.99  3.43E-4    0.716\n"
       ]
      },
      {
       "output_type": "stream",
       "stream": "stdout",
       "text": [
        "wtelarc[SCI,1][997,*]  41/41   41/41     -0.787        5.95  3.38E-4    0.756\n"
       ]
      },
      {
       "output_type": "stream",
       "stream": "stdout",
       "text": [
        "wtelarc[SCI,1][1007,*] 41/41   40/41     -0.795        6.01  3.40E-4    0.726\n"
       ]
      },
      {
       "output_type": "stream",
       "stream": "stdout",
       "text": [
        "wtelarc[SCI,1][1017,*] 41/41   41/41     -0.823        6.23  3.54E-4    0.792\n"
       ]
      },
      {
       "output_type": "stream",
       "stream": "stdout",
       "text": [
        "wtelarc[SCI,1][1027,*] 41/41   40/41     -0.854        6.46  3.72E-4    0.616\n"
       ]
      },
      {
       "output_type": "stream",
       "stream": "stdout",
       "text": [
        "wtelarc[SCI,1][1037,*] 41/41   40/41     -0.844        6.39  3.67E-4     0.66\n"
       ]
      },
      {
       "output_type": "stream",
       "stream": "stdout",
       "text": [
        "wtelarc[SCI,1][1047,*] 41/41   41/41     -0.858        6.49  3.73E-4     0.75\n"
       ]
      },
      {
       "output_type": "stream",
       "stream": "stdout",
       "text": [
        "wtelarc[SCI,1][1057,*] 41/41   36/41     -0.887        6.71  3.88E-4    0.273\n"
       ]
      },
      {
       "output_type": "stream",
       "stream": "stdout",
       "text": [
        "wtelarc[SCI,1][1067,*] 41/41   40/41     -0.893        6.75  3.89E-4    0.582\n"
       ]
      },
      {
       "output_type": "stream",
       "stream": "stdout",
       "text": [
        "wtelarc[SCI,1][1077,*] 41/41   41/41     -0.911        6.89  3.98E-4    0.727\n"
       ]
      },
      {
       "output_type": "stream",
       "stream": "stdout",
       "text": [
        "wtelarc[SCI,1][1087,*] 41/41   41/41     -0.934        7.06  4.10E-4    0.711\n"
       ]
      },
      {
       "output_type": "stream",
       "stream": "stdout",
       "text": [
        "wtelarc[SCI,1][1097,*] 41/41   40/41     -0.946        7.15  4.16E-4    0.573\n"
       ]
      },
      {
       "output_type": "stream",
       "stream": "stdout",
       "text": [
        "wtelarc[SCI,1][1107,*] 41/41   39/41     -0.937        7.08  4.10E-4    0.448\n"
       ]
      },
      {
       "output_type": "stream",
       "stream": "stdout",
       "text": [
        "wtelarc[SCI,1][1117,*] 41/41   41/41     -0.963        7.28  4.22E-4    0.938\n"
       ]
      },
      {
       "output_type": "stream",
       "stream": "stdout",
       "text": [
        "wtelarc[SCI,1][1127,*] 41/41   40/41     -0.994        7.52  4.39E-4    0.742\n"
       ]
      },
      {
       "output_type": "stream",
       "stream": "stdout",
       "text": [
        "wtelarc[SCI,1][1137,*] 41/41   40/41        -1.        7.59  4.43E-4     0.59\n"
       ]
      },
      {
       "output_type": "stream",
       "stream": "stdout",
       "text": [
        "wtelarc[SCI,1][1147,*] 41/41   41/41      -1.01        7.66  4.48E-4    0.875\n"
       ]
      },
      {
       "output_type": "stream",
       "stream": "stdout",
       "text": [
        "wtelarc[SCI,1][1157,*] 41/41   39/41      -1.05        7.93  4.65E-4    0.713\n"
       ]
      },
      {
       "output_type": "stream",
       "stream": "stdout",
       "text": [
        "wtelarc[SCI,1][1167,*] 41/41   41/41      -1.07        8.07  4.75E-4     0.93\n"
       ]
      },
      {
       "output_type": "stream",
       "stream": "stdout",
       "text": [
        "wtelarc[SCI,1][1177,*] 41/41   40/41      -1.07        8.07  4.75E-4    0.865\n"
       ]
      },
      {
       "output_type": "stream",
       "stream": "stdout",
       "text": [
        "wtelarc[SCI,1][1187,*] 41/41   39/41      -1.09        8.22  4.86E-4    0.738\n"
       ]
      },
      {
       "output_type": "stream",
       "stream": "stdout",
       "text": [
        "wtelarc[SCI,1][1197,*] 41/41   40/41      -1.12        8.45  5.02E-4    0.833\n"
       ]
      },
      {
       "output_type": "stream",
       "stream": "stdout",
       "text": [
        "wtelarc[SCI,1][1207,*] 41/41   41/41      -1.12        8.47  5.02E-4    0.931\n"
       ]
      },
      {
       "output_type": "stream",
       "stream": "stdout",
       "text": [
        "wtelarc[SCI,1][1217,*] 40/41   39/40      -1.13        8.54  5.05E-4    0.813\n"
       ]
      },
      {
       "output_type": "stream",
       "stream": "stdout",
       "text": [
        "wtelarc[SCI,1][1227,*] 41/41   39/41      -1.13        8.57  5.10E-4    0.859\n"
       ]
      },
      {
       "output_type": "stream",
       "stream": "stdout",
       "text": [
        "wtelarc[SCI,1][1237,*] 41/41   41/41      -1.14         8.6  5.14E-4     1.13\n"
       ]
      },
      {
       "output_type": "stream",
       "stream": "stdout",
       "text": [
        "wtelarc[SCI,1][1247,*] 41/41   40/41      -1.12         8.5  5.08E-4       1.\n"
       ]
      },
      {
       "output_type": "stream",
       "stream": "stdout",
       "text": [
        "wtelarc[SCI,1][1257,*] 40/41   40/40      -1.16        8.78  5.25E-4    0.882\n"
       ]
      },
      {
       "output_type": "stream",
       "stream": "stdout",
       "text": [
        "wtelarc[SCI,1][1267,*] 40/41   40/40      -1.18        8.88  5.34E-4      0.9\n"
       ]
      },
      {
       "output_type": "stream",
       "stream": "stdout",
       "text": [
        "wtelarc[SCI,1][1277,*] 40/41   38/40      -1.14        8.61  5.15E-4    0.667\n"
       ]
      },
      {
       "output_type": "stream",
       "stream": "stdout",
       "text": [
        "wtelarc[SCI,1][1287,*] 40/41   40/40      -1.16        8.79  5.33E-4    0.804\n"
       ]
      },
      {
       "output_type": "stream",
       "stream": "stdout",
       "text": [
        "wtelarc[SCI,1][1297,*] 40/41   40/40      -1.15        8.71  5.30E-4     0.77\n"
       ]
      },
      {
       "output_type": "stream",
       "stream": "stdout",
       "text": [
        "wtelarc[SCI,1][1307,*] 40/41   39/40      -1.14        8.64  5.26E-4    0.825\n"
       ]
      },
      {
       "output_type": "stream",
       "stream": "stdout",
       "text": [
        "wtelarc[SCI,1][1317,*] 40/41   39/40      -1.12        8.43  5.15E-4    0.758\n"
       ]
      },
      {
       "output_type": "stream",
       "stream": "stdout",
       "text": [
        "wtelarc[SCI,1][1327,*] 40/41   40/40      -1.11        8.43  5.16E-4    0.949\n"
       ]
      },
      {
       "output_type": "stream",
       "stream": "stdout",
       "text": [
        "wtelarc[SCI,1][1337,*] 40/41   40/40       -1.1        8.32  5.10E-4    0.816\n"
       ]
      },
      {
       "output_type": "stream",
       "stream": "stdout",
       "text": [
        "wtelarc[SCI,1][1347,*] 41/41   40/41       -1.1        8.28  5.10E-4    0.791\n"
       ]
      },
      {
       "output_type": "stream",
       "stream": "stdout",
       "text": [
        "wtelarc[SCI,1][1357,*] 40/41   40/40       -1.1        8.34  5.12E-4    0.905\n"
       ]
      },
      {
       "output_type": "stream",
       "stream": "stdout",
       "text": [
        "wtelarc[SCI,1][1367,*] 40/41   40/40      -1.12        8.45  5.22E-4     0.92\n"
       ]
      },
      {
       "output_type": "stream",
       "stream": "stdout",
       "text": [
        "wtelarc[SCI,1][1377,*] 41/41   41/41      -1.13        8.51  5.29E-4     1.16\n"
       ]
      },
      {
       "output_type": "stream",
       "stream": "stdout",
       "text": [
        "wtelarc[SCI,1][1387,*] 41/41   41/41      -1.13        8.55  5.36E-4    0.892\n"
       ]
      },
      {
       "output_type": "stream",
       "stream": "stdout",
       "text": [
        "wtelarc[SCI,1][1397,*] 41/41   41/41      -1.13        8.52  5.37E-4    0.946\n"
       ]
      },
      {
       "output_type": "stream",
       "stream": "stdout",
       "text": [
        "wtelarc[SCI,1][1407,*] 41/41   39/41      -1.11        8.36  5.28E-4    0.643\n"
       ]
      },
      {
       "output_type": "stream",
       "stream": "stdout",
       "text": [
        "wtelarc[SCI,1][1417,*] 41/41   40/41      -1.11        8.37  5.31E-4    0.778\n"
       ]
      },
      {
       "output_type": "stream",
       "stream": "stdout",
       "text": [
        "wtelarc[SCI,1][1427,*] 41/41   41/41      -1.11        8.38  5.34E-4    0.922\n"
       ]
      },
      {
       "output_type": "stream",
       "stream": "stdout",
       "text": [
        "\n",
        "NSWHELPER Exit status good\n",
        "-------------------------------------------------------------------------------\n",
        "\n",
        "NSWAVELENGTH Exit status good\n",
        "-------------------------------------------------------------------------------\n"
       ]
      }
     ],
     "prompt_number": 29
    },
    {
     "cell_type": "heading",
     "level": 3,
     "metadata": {},
     "source": [
      "Test recovery of a calibrated arc"
     ]
    },
    {
     "cell_type": "markdown",
     "metadata": {},
     "source": [
      "Confirm that applying the wavelength solution to the arc itself recovers a correctly wavelength-calibrated arc.  The key step is **<code>nsfitcoords</code>**.  The default **<code>lxorder</code>** and **<code>lyorder</code>** are both set to 2 which doesn't seem to be correct.  Running **<code>nsfitcoords</code>** interactively on the arc will allow us to discover the best **<code>lxorder</code>** and **<code>lyorder</code>** for this wavelength solution, and use that as a starting point later when using the arc wavelength solution (**<code>warc.fits</code>**) on the telluric and the science."
     ]
    },
    {
     "cell_type": "markdown",
     "metadata": {},
     "source": [
      "Cut and paste these instructions in the PyRAF session that we prepared in Step 0. \n",
      "\n",
      "    iraf.imdelete('farc.fits', verify='no')\n",
      "    iraf.nsfitcoords('arc.fits', lamptransf='warc.fits', fl_inter='yes')\n",
      "    # Note down the xorder and yorder needed for a good fit.  Use\n",
      "    # that whenever warc.fits is used by nsfitcoords.\n",
      "    # :xorder 3, :yorder 8\n",
      "\n",
      "\n",
      "The yorder is probably a bit high, but it definitely removes any trace of a wave pattern..."
     ]
    },
    {
     "cell_type": "markdown",
     "metadata": {},
     "source": [
      "Record the lxorder and lyorder in the notebook session for future use."
     ]
    },
    {
     "cell_type": "code",
     "collapsed": false,
     "input": [
      "lxorder=3 ; lyorder=8"
     ],
     "language": "python",
     "metadata": {},
     "outputs": [],
     "prompt_number": 30
    },
    {
     "cell_type": "code",
     "collapsed": false,
     "input": [
      "iraf.imdelete('tfarc.fits', verify='no')\n",
      "iraf.nstransform('farc.fits')\n",
      "iraf.display('tfarc.fits[sci,1]', 1)"
     ],
     "language": "python",
     "metadata": {},
     "outputs": [
      {
       "output_type": "stream",
       "stream": "stdout",
       "text": [
        "-------------------------------------------------------------------------------\n",
        "NSTRANSFORM -- Sun Sep  6 17:28:49 HST 2015\n",
        "\n",
        "Using input files:"
       ]
      },
      {
       "output_type": "stream",
       "stream": "stdout",
       "text": [
        "\n",
        "farc\n"
       ]
      },
      {
       "output_type": "stream",
       "stream": "stdout",
       "text": [
        "Using output files:\n",
        "tfarc\n"
       ]
      },
      {
       "output_type": "stream",
       "stream": "stdout",
       "text": [
        "NSTRANSFORM: Fitnames for farc: farc_SCI_1_lamp\n",
        "WARNING - NSTRANSFORM: No MDF in farc"
       ]
      },
      {
       "output_type": "stream",
       "stream": "stdout",
       "text": [
        "\n"
       ]
      },
      {
       "output_type": "stream",
       "stream": "stdout",
       "text": [
        "NSTRANSFORM: Exit status good\n",
        "-------------------------------------------------------------------------------\n"
       ]
      },
      {
       "output_type": "stream",
       "stream": "stdout",
       "text": [
        "z1=0. z2=6670.008\n"
       ]
      }
     ],
     "prompt_number": 31
    },
    {
     "cell_type": "code",
     "collapsed": false,
     "input": [
      "# display the first telluric to identify on which column the spectrum falls in\n",
      "# the A position.\n",
      "first_tel = iraf.head('tel.lis', nlines=1, Stdout=1)[0].strip()\n",
      "iraf.display('f'+first_tel+'[1]', 1)"
     ],
     "language": "python",
     "metadata": {},
     "outputs": [
      {
       "output_type": "stream",
       "stream": "stdout",
       "text": [
        "z1=-79. z2=389.0554\n"
       ]
      }
     ],
     "prompt_number": 32
    },
    {
     "cell_type": "code",
     "collapsed": false,
     "input": [
      "# UPDATE POSITION OF TELLURIC\n",
      "# position of the telluric is column 951 (around the center of the frame)\n",
      "iraf.tel_position = 951"
     ],
     "language": "python",
     "metadata": {},
     "outputs": [],
     "prompt_number": 33
    },
    {
     "cell_type": "code",
     "collapsed": false,
     "input": [
      "iraf.splot('tfarc.fits[sci,1]', line=iraf.tel_position, options=\"auto wreset flip\")"
     ],
     "language": "python",
     "metadata": {},
     "outputs": [],
     "prompt_number": 34
    },
    {
     "cell_type": "markdown",
     "metadata": {},
     "source": [
      "Check that the arc lines are at the correct wavelength. Use '<code>k</code>' on each side of the a line to get the centroid. Then compare with the line list and the diagrams.\n",
      "\n",
      "Resource:  \n",
      "    http://www.gemini.edu/sciops/instruments/niri/?q=node/10166\n",
      "\n",
      "The NIRI plots from that webpage work well.\n",
      "\n",
      "*Result: (Kathleen)\n",
      "The arc gets transformed correctly with lxorder=3, lyorder=8.  Just quicklook for now, I have not looked carefully at the blue and red end, and I have not looked for an absolute offset. "
     ]
    },
    {
     "cell_type": "heading",
     "level": 2,
     "metadata": {},
     "source": [
      "STEP 16:  Wavelength calibrate the telluric data"
     ]
    },
    {
     "cell_type": "markdown",
     "metadata": {},
     "source": [
      "Now that an arc is taken with the telluric (circa 2015B), the wavelength calibration of the telluric data should be straight forward."
     ]
    },
    {
     "cell_type": "heading",
     "level": 3,
     "metadata": {},
     "source": [
      "Apply the telluric arc solution"
     ]
    },
    {
     "cell_type": "code",
     "collapsed": false,
     "input": [
      "print 'Using lxorder, lyorder = ', lxorder, lyorder\n",
      "iraf.imdelete('ftel_comb.fits', verify='no')\n",
      "iraf.nsfitcoords('tel_comb.fits', lamptransf='wtelarc.fits', \\\n",
      "                 lxorder=lxorder, lyorder=lyorder)\n",
      "\n",
      "iraf.imdelete ('tftel_comb.fits', verify='no')\n",
      "iraf.nstransform ('ftel_comb.fits')"
     ],
     "language": "python",
     "metadata": {},
     "outputs": [
      {
       "output_type": "stream",
       "stream": "stdout",
       "text": [
        "Using lxorder, lyorder =  3 8\n",
        "-------------------------------------------------------------------------------"
       ]
      },
      {
       "output_type": "stream",
       "stream": "stdout",
       "text": [
        "\n",
        "NSFITCOORDS -- Sun Sep  6 17:29:40 HST 2015\n",
        "\n",
        "Using input files:"
       ]
      },
      {
       "output_type": "stream",
       "stream": "stdout",
       "text": [
        "\n",
        "tel_comb\n"
       ]
      },
      {
       "output_type": "stream",
       "stream": "stdout",
       "text": [
        "Using output files:\n",
        "ftel_comb\n"
       ]
      },
      {
       "output_type": "stream",
       "stream": "stdout",
       "text": [
        "NSFITCOORDS: Fitnames for tel_comb: ftel_comb_SCI_1_lamp\n"
       ]
      },
      {
       "output_type": "stream",
       "stream": "stdout",
       "text": [
        "NSFITCOORDS: Exit status good\n",
        "-------------------------------------------------------------------------------\n"
       ]
      },
      {
       "output_type": "stream",
       "stream": "stdout",
       "text": [
        "-------------------------------------------------------------------------------\n",
        "NSTRANSFORM -- Sun Sep  6 17:29:42 HST 2015\n",
        "\n",
        "Using input files:"
       ]
      },
      {
       "output_type": "stream",
       "stream": "stdout",
       "text": [
        "\n",
        "ftel_comb\n"
       ]
      },
      {
       "output_type": "stream",
       "stream": "stdout",
       "text": [
        "Using output files:\n",
        "tftel_comb\n"
       ]
      },
      {
       "output_type": "stream",
       "stream": "stdout",
       "text": [
        "NSTRANSFORM: Fitnames for ftel_comb: ftel_comb_SCI_1_lamp\n",
        "WARNING - NSTRANSFORM: No MDF in ftel_comb"
       ]
      },
      {
       "output_type": "stream",
       "stream": "stdout",
       "text": [
        "\n"
       ]
      },
      {
       "output_type": "stream",
       "stream": "stdout",
       "text": [
        "NSTRANSFORM: Exit status good\n",
        "-------------------------------------------------------------------------------\n"
       ]
      }
     ],
     "prompt_number": 35
    },
    {
     "cell_type": "markdown",
     "metadata": {},
     "source": [
      "Check that the spectral features (the hydrogen lines in this case) fall where they are supposed to be.\n",
      "\n",
      "Cut an paste these instructions in the PyRAF session.  (The splot interactive '<code>:</code>'-commands do not work well from the notebook.)\n",
      "\n",
      "    iraf.display ('tftel_comb[sci,1]', 1)\n",
      "    # note on which column the telluric falls\n",
      "    iraf.tel_position = 892\n",
      "    \n",
      "    splot (\"tftel_comb[sci,1]\", line=iraf.tel_position)\n",
      "    # :nsum 30\n",
      "    # Use 'k' on each side of the a line to centroid.\n",
      "    # Compare with atomic line list.\n",
      "\n",
      "Comment here on results of the verification."
     ]
    },
    {
     "cell_type": "heading",
     "level": 2,
     "metadata": {},
     "source": [
      "STEP 17: Extract the telluric spectrum"
     ]
    },
    {
     "cell_type": "markdown",
     "metadata": {},
     "source": [
      "We run <code>nsextract</code> in non-interactive mode since the telluric is quite bright.  (Running it in interactive mode does confirm that the automatic aperture selection is coincident with the telluric spectrum.)"
     ]
    },
    {
     "cell_type": "code",
     "collapsed": false,
     "input": [
      "iraf.imdelete('xtftel_comb.fits', verify='no')\n",
      "iraf.nsextract('tftel_comb.fits', fl_apall='yes', fl_findneg='no', \\\n",
      "    fl_inter='no', fl_trace='yes')\n",
      "\n",
      "iraf.splot ('xtftel_comb.fits[SCI,1]')"
     ],
     "language": "python",
     "metadata": {},
     "outputs": [
      {
       "output_type": "stream",
       "stream": "stdout",
       "text": [
        "-------------------------------------------------------------------------------\n",
        "NSEXTRACT -- Sun Sep  6 17:31:20 HST 2015\n",
        " \n"
       ]
      },
      {
       "output_type": "stream",
       "stream": "stdout",
       "text": [
        "WARNING - NSEXTRACT: Output variance planes derived from apall rather than input variance plane.\n",
        "Using input files:"
       ]
      },
      {
       "output_type": "stream",
       "stream": "stdout",
       "text": [
        "\n",
        "tftel_comb 1 no\n"
       ]
      },
      {
       "output_type": "stream",
       "stream": "stdout",
       "text": [
        "Using output files:\n",
        "xtftel_comb\n"
       ]
      },
      {
       "output_type": "stream",
       "stream": "stdout",
       "text": [
        "\n",
        "Searching aperture database ...\n"
       ]
      },
      {
       "output_type": "stream",
       "stream": "stdout",
       "text": [
        "Finding apertures ...\n"
       ]
      },
      {
       "output_type": "stream",
       "stream": "stdout",
       "text": [
        "Sep  6 17:31: FIND - 1 apertures found for tmpscivar70436_1375\n"
       ]
      },
      {
       "output_type": "stream",
       "stream": "stdout",
       "text": [
        "Resizing apertures ...\n"
       ]
      },
      {
       "output_type": "stream",
       "stream": "stdout",
       "text": [
        "Sep  6 17:31: APRESIZE  - 1 apertures resized for tmpscivar70436_1375 (-4.92, 4.94)\n"
       ]
      },
      {
       "output_type": "stream",
       "stream": "stdout",
       "text": [
        "Tracing apertures ...\n"
       ]
      },
      {
       "output_type": "stream",
       "stream": "stdout",
       "text": [
        "Sep  6 17:31: TRACE - 1 apertures traced in tmpscivar70436_1375.\n"
       ]
      },
      {
       "output_type": "stream",
       "stream": "stdout",
       "text": [
        "Sep  6 17:31: DATABASE - 1 apertures for tmpscivar70436_1375 written to HK222515_database\n"
       ]
      },
      {
       "output_type": "stream",
       "stream": "stdout",
       "text": [
        "Extracting apertures ...\n"
       ]
      },
      {
       "output_type": "stream",
       "stream": "stdout",
       "text": [
        "Sep  6 17:31: EXTRACT - Aperture 1 from tmpscivar70436_1375 --> tmpspeca70436_1363\n"
       ]
      },
      {
       "output_type": "stream",
       "stream": "stdout",
       "text": [
        "Searching aperture database ...\n"
       ]
      },
      {
       "output_type": "stream",
       "stream": "stdout",
       "text": [
        "Sep  6 17:31: DATABASE  - 1 apertures read for tmpscivar70436_1375 from HK222515_database\n"
       ]
      },
      {
       "output_type": "stream",
       "stream": "stdout",
       "text": [
        "Sep  6 17:31: DATABASE - 1 apertures for tftel_comb[DQ,1] written to HK222515_database\n"
       ]
      },
      {
       "output_type": "stream",
       "stream": "stdout",
       "text": [
        "Extracting apertures ...\n"
       ]
      },
      {
       "output_type": "stream",
       "stream": "stdout",
       "text": [
        "Sep  6 17:31: EXTRACT - Aperture 1 from tftel_comb[DQ,1] --> tmpspecdqa70436_1367\n"
       ]
      },
      {
       "output_type": "stream",
       "stream": "stdout",
       "text": [
        "NSEXTRACT: Aperture centre at 899.1421,500.0\n",
        "NSEXTRACT: S/N for xtftel_comb: "
       ]
      },
      {
       "output_type": "stream",
       "stream": "stdout",
       "text": [
        "\n",
        "           from variance array:     70.49"
       ]
      },
      {
       "output_type": "stream",
       "stream": "stdout",
       "text": [
        "\n",
        "           from smoothed spectrum:   4.06"
       ]
      },
      {
       "output_type": "stream",
       "stream": "stdout",
       "text": [
        "\n",
        "\n",
        "NSEXTRACT: Exit status good\n",
        "-------------------------------------------------------------------------------"
       ]
      },
      {
       "output_type": "stream",
       "stream": "stdout",
       "text": [
        "\n"
       ]
      }
     ],
     "prompt_number": 36
    },
    {
     "cell_type": "markdown",
     "metadata": {},
     "source": [
      "**The signal looks good.  The telluric is not saturated.  Should be okay to proceed to a Science Quality reduction now.**\n",
      "\n",
      "This telluric spectrum will be used later.  It will then need to be corrected to remove the stellar features either by fitting Voight profiles on each hydrogen line and removing each feature, or by fitting a stellar model to it."
     ]
    },
    {
     "cell_type": "heading",
     "level": 2,
     "metadata": {},
     "source": [
      "FINAL quicklook spectrum: xtfobj_comb.fits  (not corrected for telluric features)"
     ]
    },
    {
     "cell_type": "heading",
     "level": 2,
     "metadata": {},
     "source": [
      "FINAL quicklook telluric: xtftel_comb.fits"
     ]
    },
    {
     "cell_type": "code",
     "collapsed": false,
     "input": [],
     "language": "python",
     "metadata": {},
     "outputs": []
    }
   ],
   "metadata": {}
  }
 ]
}